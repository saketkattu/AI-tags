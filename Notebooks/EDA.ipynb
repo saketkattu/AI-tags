{
 "metadata": {
  "language_info": {
   "codemirror_mode": {
    "name": "ipython",
    "version": 3
   },
   "file_extension": ".py",
   "mimetype": "text/x-python",
   "name": "python",
   "nbconvert_exporter": "python",
   "pygments_lexer": "ipython3",
   "version": "3.7.6-final"
  },
  "orig_nbformat": 2,
  "kernelspec": {
   "name": "python3",
   "display_name": "Python 3",
   "language": "python"
  }
 },
 "nbformat": 4,
 "nbformat_minor": 2,
 "cells": [
  {
   "cell_type": "code",
   "execution_count": 3,
   "metadata": {},
   "outputs": [],
   "source": [
    "#importing all the nesseasary libraries\n",
    "from collections import Counter,OrderedDict\n",
    "import ipywidgets as widgets\n",
    "import itertools\n",
    "import pandas as pd\n",
    "import json\n",
    "from urllib.request import urlopen"
   ]
  },
  {
   "cell_type": "code",
   "execution_count": 4,
   "metadata": {},
   "outputs": [
    {
     "output_type": "stream",
     "name": "stdout",
     "text": [
      "{\n  \"id\": 324,\n  \"title\": \"AdverTorch\",\n  \"description\": \"A Toolbox for Adversarial Robustness Research\",\n  \"tags\": [\n    \"code\",\n    \"library\",\n    \"security\",\n    \"adversarial-learning\",\n    \"adversarial-attacks\",\n    \"adversarial-perturbations\"\n  ]\n}\n"
     ]
    }
   ],
   "source": [
    "#Load projects\n",
    "url=\"https://raw.githubusercontent.com/GokuMohandas/applied-ml/main/datasets/projects.json\"\n",
    "projects=json.loads(urlopen(url).read())\n",
    "print(json.dumps(projects[-305],indent=2))"
   ]
  },
  {
   "cell_type": "code",
   "execution_count": 5,
   "metadata": {},
   "outputs": [
    {
     "output_type": "stream",
     "name": "stdout",
     "text": [
      "2032 projects\n"
     ]
    },
    {
     "output_type": "execute_result",
     "data": {
      "text/plain": [
       "     id                                              title  \\\n",
       "0  2438  How to Deal with Files in Google Colab: What Y...   \n",
       "1  2437                                             Rasoee   \n",
       "2  2436    Machine Learning Methods Explained (+ Examples)   \n",
       "3  2435  Top “Applied Data Science” Papers from ECML-PK...   \n",
       "4  2434                          OpenMMLab Computer Vision   \n",
       "\n",
       "                                         description  \\\n",
       "0  How to supercharge your Google Colab experienc...   \n",
       "1  A powerful web and mobile application that ide...   \n",
       "2  Most common techniques used in data science pr...   \n",
       "3  Explore the innovative world of Machine Learni...   \n",
       "4  MMCV is a python library for CV research and s...   \n",
       "\n",
       "                                                tags  \n",
       "0        [article, google-colab, colab, file-system]  \n",
       "1  [api, article, code, dataset, paper, research,...  \n",
       "2  [article, deep-learning, machine-learning, dim...  \n",
       "3  [article, deep-learning, machine-learning, adv...  \n",
       "4  [article, code, pytorch, library, 3d, computer...  "
      ],
      "text/html": "<div>\n<style scoped>\n    .dataframe tbody tr th:only-of-type {\n        vertical-align: middle;\n    }\n\n    .dataframe tbody tr th {\n        vertical-align: top;\n    }\n\n    .dataframe thead th {\n        text-align: right;\n    }\n</style>\n<table border=\"1\" class=\"dataframe\">\n  <thead>\n    <tr style=\"text-align: right;\">\n      <th></th>\n      <th>id</th>\n      <th>title</th>\n      <th>description</th>\n      <th>tags</th>\n    </tr>\n  </thead>\n  <tbody>\n    <tr>\n      <th>0</th>\n      <td>2438</td>\n      <td>How to Deal with Files in Google Colab: What Y...</td>\n      <td>How to supercharge your Google Colab experienc...</td>\n      <td>[article, google-colab, colab, file-system]</td>\n    </tr>\n    <tr>\n      <th>1</th>\n      <td>2437</td>\n      <td>Rasoee</td>\n      <td>A powerful web and mobile application that ide...</td>\n      <td>[api, article, code, dataset, paper, research,...</td>\n    </tr>\n    <tr>\n      <th>2</th>\n      <td>2436</td>\n      <td>Machine Learning Methods Explained (+ Examples)</td>\n      <td>Most common techniques used in data science pr...</td>\n      <td>[article, deep-learning, machine-learning, dim...</td>\n    </tr>\n    <tr>\n      <th>3</th>\n      <td>2435</td>\n      <td>Top “Applied Data Science” Papers from ECML-PK...</td>\n      <td>Explore the innovative world of Machine Learni...</td>\n      <td>[article, deep-learning, machine-learning, adv...</td>\n    </tr>\n    <tr>\n      <th>4</th>\n      <td>2434</td>\n      <td>OpenMMLab Computer Vision</td>\n      <td>MMCV is a python library for CV research and s...</td>\n      <td>[article, code, pytorch, library, 3d, computer...</td>\n    </tr>\n  </tbody>\n</table>\n</div>"
     },
     "metadata": {},
     "execution_count": 5
    }
   ],
   "source": [
    "# Creating a pandas dataframe \n",
    "df=pd.DataFrame(projects)\n",
    "print(f\"{len(df)} projects\")\n",
    "df.head(5)"
   ]
  },
  {
   "source": [
    "#Loading the tags\n",
    "url1=\"https://raw.githubusercontent.com/GokuMohandas/applied-ml/main/datasets/tags.json\"\n",
    "tags_dict=OrderedDict(json.loads(urlopen(url1).read()))\n",
    "print(f\"{len(tags_dict)} tags\")\n"
   ],
   "cell_type": "code",
   "metadata": {},
   "execution_count": 6,
   "outputs": [
    {
     "output_type": "stream",
     "name": "stdout",
     "text": [
      "400 tags\n"
     ]
    }
   ]
  },
  {
   "cell_type": "code",
   "execution_count": 7,
   "metadata": {},
   "outputs": [
    {
     "output_type": "display_data",
     "data": {
      "text/plain": "interactive(children=(Dropdown(description='tag', index=283, options=('3d', 'action-localization', 'action-rec…",
      "application/vnd.jupyter.widget-view+json": {
       "version_major": 2,
       "version_minor": 0,
       "model_id": "a9c07ac241604e57bccc4ce7133e730d"
      }
     },
     "metadata": {}
    }
   ],
   "source": [
    "@widgets.interact(tag=list(tags_dict.keys()))\n",
    "def display_tag_details(tag='question-answering'):\n",
    "    print(json.dumps(tags_dict[tag],indent=2))"
   ]
  },
  {
   "cell_type": "code",
   "execution_count": 8,
   "metadata": {},
   "outputs": [
    {
     "output_type": "execute_result",
     "data": {
      "text/plain": [
       "     id                                              title  \\\n",
       "0  2438  How to Deal with Files in Google Colab: What Y...   \n",
       "1  2437                                             Rasoee   \n",
       "2  2436    Machine Learning Methods Explained (+ Examples)   \n",
       "3  2435  Top “Applied Data Science” Papers from ECML-PK...   \n",
       "4  2434                          OpenMMLab Computer Vision   \n",
       "\n",
       "                                         description  \\\n",
       "0  How to supercharge your Google Colab experienc...   \n",
       "1  A powerful web and mobile application that ide...   \n",
       "2  Most common techniques used in data science pr...   \n",
       "3  Explore the innovative world of Machine Learni...   \n",
       "4  MMCV is a python library for CV research and s...   \n",
       "\n",
       "                                                tags  \\\n",
       "0        [article, google-colab, colab, file-system]   \n",
       "1  [api, article, code, dataset, paper, research,...   \n",
       "2  [article, deep-learning, machine-learning, dim...   \n",
       "3  [article, deep-learning, machine-learning, adv...   \n",
       "4  [article, code, pytorch, library, 3d, computer...   \n",
       "\n",
       "                                                text  \n",
       "0  How to Deal with Files in Google Colab: What Y...  \n",
       "1  Rasoee A powerful web and mobile application t...  \n",
       "2  Machine Learning Methods Explained (+ Examples...  \n",
       "3  Top “Applied Data Science” Papers from ECML-PK...  \n",
       "4  OpenMMLab Computer Vision MMCV is a python lib...  "
      ],
      "text/html": "<div>\n<style scoped>\n    .dataframe tbody tr th:only-of-type {\n        vertical-align: middle;\n    }\n\n    .dataframe tbody tr th {\n        vertical-align: top;\n    }\n\n    .dataframe thead th {\n        text-align: right;\n    }\n</style>\n<table border=\"1\" class=\"dataframe\">\n  <thead>\n    <tr style=\"text-align: right;\">\n      <th></th>\n      <th>id</th>\n      <th>title</th>\n      <th>description</th>\n      <th>tags</th>\n      <th>text</th>\n    </tr>\n  </thead>\n  <tbody>\n    <tr>\n      <th>0</th>\n      <td>2438</td>\n      <td>How to Deal with Files in Google Colab: What Y...</td>\n      <td>How to supercharge your Google Colab experienc...</td>\n      <td>[article, google-colab, colab, file-system]</td>\n      <td>How to Deal with Files in Google Colab: What Y...</td>\n    </tr>\n    <tr>\n      <th>1</th>\n      <td>2437</td>\n      <td>Rasoee</td>\n      <td>A powerful web and mobile application that ide...</td>\n      <td>[api, article, code, dataset, paper, research,...</td>\n      <td>Rasoee A powerful web and mobile application t...</td>\n    </tr>\n    <tr>\n      <th>2</th>\n      <td>2436</td>\n      <td>Machine Learning Methods Explained (+ Examples)</td>\n      <td>Most common techniques used in data science pr...</td>\n      <td>[article, deep-learning, machine-learning, dim...</td>\n      <td>Machine Learning Methods Explained (+ Examples...</td>\n    </tr>\n    <tr>\n      <th>3</th>\n      <td>2435</td>\n      <td>Top “Applied Data Science” Papers from ECML-PK...</td>\n      <td>Explore the innovative world of Machine Learni...</td>\n      <td>[article, deep-learning, machine-learning, adv...</td>\n      <td>Top “Applied Data Science” Papers from ECML-PK...</td>\n    </tr>\n    <tr>\n      <th>4</th>\n      <td>2434</td>\n      <td>OpenMMLab Computer Vision</td>\n      <td>MMCV is a python library for CV research and s...</td>\n      <td>[article, code, pytorch, library, 3d, computer...</td>\n      <td>OpenMMLab Computer Vision MMCV is a python lib...</td>\n    </tr>\n  </tbody>\n</table>\n</div>"
     },
     "metadata": {},
     "execution_count": 8
    }
   ],
   "source": [
    "#Combining the projects title and descrption separately as feature but we'll combine them to create on input feature\n",
    "\n",
    "df['text']= df.title+\" \"+ df.description\n",
    "df.head(5)"
   ]
  },
  {
   "cell_type": "code",
   "execution_count": 9,
   "metadata": {},
   "outputs": [],
   "source": [
    "#Constrains\n",
    "def filter(l,include=[],exclude=[]):\n",
    "    \"\"\"\n",
    "    Filtering a list using inclution and exclution list of items \n",
    "    \"\"\"\n",
    "    filtered=[item for item in l if item in include and item not in exclude]\n",
    "    return filtered"
   ]
  },
  {
   "cell_type": "code",
   "execution_count": 10,
   "metadata": {},
   "outputs": [],
   "source": [
    "# Inclusion/exclusion criteria for tags\n",
    "include = list(tags_dict.keys())\n",
    "exclude = ['machine-learning', 'deep-learning',  'data-science',\n",
    "           'neural-networks', 'python', 'r', 'visualization']"
   ]
  },
  {
   "cell_type": "code",
   "execution_count": 11,
   "metadata": {},
   "outputs": [],
   "source": [
    "#Filter tags for each project\n",
    "df.tags=df.tags.apply(filter,include=include,exclude=exclude)\n",
    "tags=Counter(itertools.chain.from_iterable(df.tags.values))"
   ]
  },
  {
   "cell_type": "code",
   "execution_count": 12,
   "metadata": {},
   "outputs": [
    {
     "output_type": "display_data",
     "data": {
      "text/plain": "interactive(children=(IntSlider(value=30, description='min_tag_freq', max=429), Output()), _dom_classes=('widg…",
      "application/vnd.jupyter.widget-view+json": {
       "version_major": 2,
       "version_minor": 0,
       "model_id": "6827bdc704964c1ca956fb291801909d"
      }
     },
     "metadata": {}
    }
   ],
   "source": [
    "@widgets.interact(min_tag_freq=(0,tags.most_common()[0][1]))\n",
    "def separate_tag_by_freq(min_tag_freq=30):\n",
    "    tags_above_freq = Counter(tag for tag in tags.elements()\n",
    "                                    if tags[tag] >= min_tag_freq)\n",
    "    tags_below_freq = Counter(tag for tag in tags.elements()\n",
    "                                    if tags[tag] < min_tag_freq)\n",
    "    print (\"Most popular tags:\\n\", tags_above_freq.most_common(5))\n",
    "    print (\"\\nTags that just made the cut:\\n\", tags_above_freq.most_common()[-5:])\n",
    "    print (\"\\nTags that just missed the cut:\\n\", tags_below_freq.most_common(5))\n",
    "\n"
   ]
  },
  {
   "cell_type": "code",
   "execution_count": 13,
   "metadata": {},
   "outputs": [],
   "source": [
    "min_tag_freq = 30\n",
    "tags_above_freq = Counter(tag for tag in tags.elements()\n",
    "                          if tags[tag] >= min_tag_freq)\n",
    "df.tags = df.tags.apply(filter, include=list(tags_above_freq.keys()))\n"
   ]
  },
  {
   "cell_type": "code",
   "execution_count": 14,
   "metadata": {},
   "outputs": [
    {
     "output_type": "stream",
     "name": "stdout",
     "text": [
      "1444 projects\n"
     ]
    }
   ],
   "source": [
    "df = df[df.tags.map(len) > 0]\n",
    "print (f\"{len(df)} projects\")"
   ]
  },
  {
   "source": [
    "# Exploratory data analysis\n",
    "NOTE: Revisit and re-do EDA when your data grows"
   ],
   "cell_type": "markdown",
   "metadata": {}
  },
  {
   "cell_type": "code",
   "execution_count": 15,
   "metadata": {},
   "outputs": [
    {
     "output_type": "stream",
     "name": "stderr",
     "text": [
      "Traceback (most recent call last):\n  File \"c:\\python39\\lib\\runpy.py\", line 197, in _run_module_as_main\n    return _run_code(code, main_globals, None,\n  File \"c:\\python39\\lib\\runpy.py\", line 87, in _run_code\n    exec(code, run_globals)\n  File \"C:\\Python39\\Scripts\\pip.exe\\__main__.py\", line 4, in <module>\nModuleNotFoundError: No module named 'pip'\n"
     ]
    }
   ],
   "source": [
    "!pip install wordcloud"
   ]
  },
  {
   "cell_type": "code",
   "execution_count": 16,
   "metadata": {},
   "outputs": [],
   "source": [
    "import matplotlib.pyplot as plt \n",
    "import seaborn as sns\n",
    "import warnings\n",
    "from wordcloud import WordCloud,STOPWORDS\n",
    "warnings.filterwarnings(\"ignore\")"
   ]
  },
  {
   "source": [
    "## Tags Per Project\n",
    "Q. How many tags do the projects have ?"
   ],
   "cell_type": "markdown",
   "metadata": {}
  },
  {
   "cell_type": "code",
   "execution_count": 17,
   "metadata": {},
   "outputs": [
    {
     "output_type": "display_data",
     "data": {
      "text/plain": "<Figure size 720x216 with 1 Axes>",
      "image/svg+xml": "<?xml version=\"1.0\" encoding=\"utf-8\" standalone=\"no\"?>\r\n<!DOCTYPE svg PUBLIC \"-//W3C//DTD SVG 1.1//EN\"\r\n  \"http://www.w3.org/Graphics/SVG/1.1/DTD/svg11.dtd\">\r\n<!-- Created with matplotlib (https://matplotlib.org/) -->\r\n<svg height=\"240.646875pt\" version=\"1.1\" viewBox=\"0 0 617.9725 240.646875\" width=\"617.9725pt\" xmlns=\"http://www.w3.org/2000/svg\" xmlns:xlink=\"http://www.w3.org/1999/xlink\">\r\n <defs>\r\n  <style type=\"text/css\">\r\n*{stroke-linecap:butt;stroke-linejoin:round;}\r\n  </style>\r\n </defs>\r\n <g id=\"figure_1\">\r\n  <g id=\"patch_1\">\r\n   <path d=\"M 0 240.646875 \r\nL 617.9725 240.646875 \r\nL 617.9725 -0 \r\nL 0 -0 \r\nz\r\n\" style=\"fill:none;\"/>\r\n  </g>\r\n  <g id=\"axes_1\">\r\n   <g id=\"patch_2\">\r\n    <path d=\"M 52.7725 191.476875 \r\nL 610.7725 191.476875 \r\nL 610.7725 28.396875 \r\nL 52.7725 28.396875 \r\nz\r\n\" style=\"fill:#ffffff;\"/>\r\n   </g>\r\n   <g id=\"patch_3\">\r\n    <path clip-path=\"url(#p7a7f095cb5)\" d=\"M 59.7475 191.476875 \r\nL 115.5475 191.476875 \r\nL 115.5475 36.162589 \r\nL 59.7475 36.162589 \r\nz\r\n\" style=\"fill:#3274a1;\"/>\r\n   </g>\r\n   <g id=\"patch_4\">\r\n    <path clip-path=\"url(#p7a7f095cb5)\" d=\"M 129.4975 191.476875 \r\nL 185.2975 191.476875 \r\nL 185.2975 81.04325 \r\nL 129.4975 81.04325 \r\nz\r\n\" style=\"fill:#e1812c;\"/>\r\n   </g>\r\n   <g id=\"patch_5\">\r\n    <path clip-path=\"url(#p7a7f095cb5)\" d=\"M 199.2475 191.476875 \r\nL 255.0475 191.476875 \r\nL 255.0475 130.547978 \r\nL 199.2475 130.547978 \r\nz\r\n\" style=\"fill:#3a923a;\"/>\r\n   </g>\r\n   <g id=\"patch_6\">\r\n    <path clip-path=\"url(#p7a7f095cb5)\" d=\"M 268.9975 191.476875 \r\nL 324.7975 191.476875 \r\nL 324.7975 148.228239 \r\nL 268.9975 148.228239 \r\nz\r\n\" style=\"fill:#c03d3e;\"/>\r\n   </g>\r\n   <g id=\"patch_7\">\r\n    <path clip-path=\"url(#p7a7f095cb5)\" d=\"M 338.7475 191.476875 \r\nL 394.5475 191.476875 \r\nL 394.5475 174.884631 \r\nL 338.7475 174.884631 \r\nz\r\n\" style=\"fill:#9372b2;\"/>\r\n   </g>\r\n   <g id=\"patch_8\">\r\n    <path clip-path=\"url(#p7a7f095cb5)\" d=\"M 408.4975 191.476875 \r\nL 464.2975 191.476875 \r\nL 464.2975 186.852807 \r\nL 408.4975 186.852807 \r\nz\r\n\" style=\"fill:#845b53;\"/>\r\n   </g>\r\n   <g id=\"patch_9\">\r\n    <path clip-path=\"url(#p7a7f095cb5)\" d=\"M 478.2475 191.476875 \r\nL 534.0475 191.476875 \r\nL 534.0475 190.660863 \r\nL 478.2475 190.660863 \r\nz\r\n\" style=\"fill:#d684bd;\"/>\r\n   </g>\r\n   <g id=\"patch_10\">\r\n    <path clip-path=\"url(#p7a7f095cb5)\" d=\"M 547.9975 191.476875 \r\nL 603.7975 191.476875 \r\nL 603.7975 190.660863 \r\nL 547.9975 190.660863 \r\nz\r\n\" style=\"fill:#7f7f7f;\"/>\r\n   </g>\r\n   <g id=\"matplotlib.axis_1\">\r\n    <g id=\"xtick_1\">\r\n     <g id=\"line2d_1\">\r\n      <defs>\r\n       <path d=\"M 0 0 \r\nL 0 3.5 \r\n\" id=\"m7de4fa4817\" style=\"stroke:#000000;stroke-width:0.8;\"/>\r\n      </defs>\r\n      <g>\r\n       <use style=\"stroke:#000000;stroke-width:0.8;\" x=\"87.6475\" xlink:href=\"#m7de4fa4817\" y=\"191.476875\"/>\r\n      </g>\r\n     </g>\r\n     <g id=\"text_1\">\r\n      <!-- 1 -->\r\n      <defs>\r\n       <path d=\"M 12.40625 8.296875 \r\nL 28.515625 8.296875 \r\nL 28.515625 63.921875 \r\nL 10.984375 60.40625 \r\nL 10.984375 69.390625 \r\nL 28.421875 72.90625 \r\nL 38.28125 72.90625 \r\nL 38.28125 8.296875 \r\nL 54.390625 8.296875 \r\nL 54.390625 0 \r\nL 12.40625 0 \r\nz\r\n\" id=\"DejaVuSans-49\"/>\r\n      </defs>\r\n      <g transform=\"translate(82.5575 210.634375)scale(0.16 -0.16)\">\r\n       <use xlink:href=\"#DejaVuSans-49\"/>\r\n      </g>\r\n     </g>\r\n    </g>\r\n    <g id=\"xtick_2\">\r\n     <g id=\"line2d_2\">\r\n      <g>\r\n       <use style=\"stroke:#000000;stroke-width:0.8;\" x=\"157.3975\" xlink:href=\"#m7de4fa4817\" y=\"191.476875\"/>\r\n      </g>\r\n     </g>\r\n     <g id=\"text_2\">\r\n      <!-- 2 -->\r\n      <defs>\r\n       <path d=\"M 19.1875 8.296875 \r\nL 53.609375 8.296875 \r\nL 53.609375 0 \r\nL 7.328125 0 \r\nL 7.328125 8.296875 \r\nQ 12.9375 14.109375 22.625 23.890625 \r\nQ 32.328125 33.6875 34.8125 36.53125 \r\nQ 39.546875 41.84375 41.421875 45.53125 \r\nQ 43.3125 49.21875 43.3125 52.78125 \r\nQ 43.3125 58.59375 39.234375 62.25 \r\nQ 35.15625 65.921875 28.609375 65.921875 \r\nQ 23.96875 65.921875 18.8125 64.3125 \r\nQ 13.671875 62.703125 7.8125 59.421875 \r\nL 7.8125 69.390625 \r\nQ 13.765625 71.78125 18.9375 73 \r\nQ 24.125 74.21875 28.421875 74.21875 \r\nQ 39.75 74.21875 46.484375 68.546875 \r\nQ 53.21875 62.890625 53.21875 53.421875 \r\nQ 53.21875 48.921875 51.53125 44.890625 \r\nQ 49.859375 40.875 45.40625 35.40625 \r\nQ 44.1875 33.984375 37.640625 27.21875 \r\nQ 31.109375 20.453125 19.1875 8.296875 \r\nz\r\n\" id=\"DejaVuSans-50\"/>\r\n      </defs>\r\n      <g transform=\"translate(152.3075 210.634375)scale(0.16 -0.16)\">\r\n       <use xlink:href=\"#DejaVuSans-50\"/>\r\n      </g>\r\n     </g>\r\n    </g>\r\n    <g id=\"xtick_3\">\r\n     <g id=\"line2d_3\">\r\n      <g>\r\n       <use style=\"stroke:#000000;stroke-width:0.8;\" x=\"227.1475\" xlink:href=\"#m7de4fa4817\" y=\"191.476875\"/>\r\n      </g>\r\n     </g>\r\n     <g id=\"text_3\">\r\n      <!-- 3 -->\r\n      <defs>\r\n       <path d=\"M 40.578125 39.3125 \r\nQ 47.65625 37.796875 51.625 33 \r\nQ 55.609375 28.21875 55.609375 21.1875 \r\nQ 55.609375 10.40625 48.1875 4.484375 \r\nQ 40.765625 -1.421875 27.09375 -1.421875 \r\nQ 22.515625 -1.421875 17.65625 -0.515625 \r\nQ 12.796875 0.390625 7.625 2.203125 \r\nL 7.625 11.71875 \r\nQ 11.71875 9.328125 16.59375 8.109375 \r\nQ 21.484375 6.890625 26.8125 6.890625 \r\nQ 36.078125 6.890625 40.9375 10.546875 \r\nQ 45.796875 14.203125 45.796875 21.1875 \r\nQ 45.796875 27.640625 41.28125 31.265625 \r\nQ 36.765625 34.90625 28.71875 34.90625 \r\nL 20.21875 34.90625 \r\nL 20.21875 43.015625 \r\nL 29.109375 43.015625 \r\nQ 36.375 43.015625 40.234375 45.921875 \r\nQ 44.09375 48.828125 44.09375 54.296875 \r\nQ 44.09375 59.90625 40.109375 62.90625 \r\nQ 36.140625 65.921875 28.71875 65.921875 \r\nQ 24.65625 65.921875 20.015625 65.03125 \r\nQ 15.375 64.15625 9.8125 62.3125 \r\nL 9.8125 71.09375 \r\nQ 15.4375 72.65625 20.34375 73.4375 \r\nQ 25.25 74.21875 29.59375 74.21875 \r\nQ 40.828125 74.21875 47.359375 69.109375 \r\nQ 53.90625 64.015625 53.90625 55.328125 \r\nQ 53.90625 49.265625 50.4375 45.09375 \r\nQ 46.96875 40.921875 40.578125 39.3125 \r\nz\r\n\" id=\"DejaVuSans-51\"/>\r\n      </defs>\r\n      <g transform=\"translate(222.0575 210.634375)scale(0.16 -0.16)\">\r\n       <use xlink:href=\"#DejaVuSans-51\"/>\r\n      </g>\r\n     </g>\r\n    </g>\r\n    <g id=\"xtick_4\">\r\n     <g id=\"line2d_4\">\r\n      <g>\r\n       <use style=\"stroke:#000000;stroke-width:0.8;\" x=\"296.8975\" xlink:href=\"#m7de4fa4817\" y=\"191.476875\"/>\r\n      </g>\r\n     </g>\r\n     <g id=\"text_4\">\r\n      <!-- 4 -->\r\n      <defs>\r\n       <path d=\"M 37.796875 64.3125 \r\nL 12.890625 25.390625 \r\nL 37.796875 25.390625 \r\nz\r\nM 35.203125 72.90625 \r\nL 47.609375 72.90625 \r\nL 47.609375 25.390625 \r\nL 58.015625 25.390625 \r\nL 58.015625 17.1875 \r\nL 47.609375 17.1875 \r\nL 47.609375 0 \r\nL 37.796875 0 \r\nL 37.796875 17.1875 \r\nL 4.890625 17.1875 \r\nL 4.890625 26.703125 \r\nz\r\n\" id=\"DejaVuSans-52\"/>\r\n      </defs>\r\n      <g transform=\"translate(291.8075 210.634375)scale(0.16 -0.16)\">\r\n       <use xlink:href=\"#DejaVuSans-52\"/>\r\n      </g>\r\n     </g>\r\n    </g>\r\n    <g id=\"xtick_5\">\r\n     <g id=\"line2d_5\">\r\n      <g>\r\n       <use style=\"stroke:#000000;stroke-width:0.8;\" x=\"366.6475\" xlink:href=\"#m7de4fa4817\" y=\"191.476875\"/>\r\n      </g>\r\n     </g>\r\n     <g id=\"text_5\">\r\n      <!-- 5 -->\r\n      <defs>\r\n       <path d=\"M 10.796875 72.90625 \r\nL 49.515625 72.90625 \r\nL 49.515625 64.59375 \r\nL 19.828125 64.59375 \r\nL 19.828125 46.734375 \r\nQ 21.96875 47.46875 24.109375 47.828125 \r\nQ 26.265625 48.1875 28.421875 48.1875 \r\nQ 40.625 48.1875 47.75 41.5 \r\nQ 54.890625 34.8125 54.890625 23.390625 \r\nQ 54.890625 11.625 47.5625 5.09375 \r\nQ 40.234375 -1.421875 26.90625 -1.421875 \r\nQ 22.3125 -1.421875 17.546875 -0.640625 \r\nQ 12.796875 0.140625 7.71875 1.703125 \r\nL 7.71875 11.625 \r\nQ 12.109375 9.234375 16.796875 8.0625 \r\nQ 21.484375 6.890625 26.703125 6.890625 \r\nQ 35.15625 6.890625 40.078125 11.328125 \r\nQ 45.015625 15.765625 45.015625 23.390625 \r\nQ 45.015625 31 40.078125 35.4375 \r\nQ 35.15625 39.890625 26.703125 39.890625 \r\nQ 22.75 39.890625 18.8125 39.015625 \r\nQ 14.890625 38.140625 10.796875 36.28125 \r\nz\r\n\" id=\"DejaVuSans-53\"/>\r\n      </defs>\r\n      <g transform=\"translate(361.5575 210.634375)scale(0.16 -0.16)\">\r\n       <use xlink:href=\"#DejaVuSans-53\"/>\r\n      </g>\r\n     </g>\r\n    </g>\r\n    <g id=\"xtick_6\">\r\n     <g id=\"line2d_6\">\r\n      <g>\r\n       <use style=\"stroke:#000000;stroke-width:0.8;\" x=\"436.3975\" xlink:href=\"#m7de4fa4817\" y=\"191.476875\"/>\r\n      </g>\r\n     </g>\r\n     <g id=\"text_6\">\r\n      <!-- 6 -->\r\n      <defs>\r\n       <path d=\"M 33.015625 40.375 \r\nQ 26.375 40.375 22.484375 35.828125 \r\nQ 18.609375 31.296875 18.609375 23.390625 \r\nQ 18.609375 15.53125 22.484375 10.953125 \r\nQ 26.375 6.390625 33.015625 6.390625 \r\nQ 39.65625 6.390625 43.53125 10.953125 \r\nQ 47.40625 15.53125 47.40625 23.390625 \r\nQ 47.40625 31.296875 43.53125 35.828125 \r\nQ 39.65625 40.375 33.015625 40.375 \r\nz\r\nM 52.59375 71.296875 \r\nL 52.59375 62.3125 \r\nQ 48.875 64.0625 45.09375 64.984375 \r\nQ 41.3125 65.921875 37.59375 65.921875 \r\nQ 27.828125 65.921875 22.671875 59.328125 \r\nQ 17.53125 52.734375 16.796875 39.40625 \r\nQ 19.671875 43.65625 24.015625 45.921875 \r\nQ 28.375 48.1875 33.59375 48.1875 \r\nQ 44.578125 48.1875 50.953125 41.515625 \r\nQ 57.328125 34.859375 57.328125 23.390625 \r\nQ 57.328125 12.15625 50.6875 5.359375 \r\nQ 44.046875 -1.421875 33.015625 -1.421875 \r\nQ 20.359375 -1.421875 13.671875 8.265625 \r\nQ 6.984375 17.96875 6.984375 36.375 \r\nQ 6.984375 53.65625 15.1875 63.9375 \r\nQ 23.390625 74.21875 37.203125 74.21875 \r\nQ 40.921875 74.21875 44.703125 73.484375 \r\nQ 48.484375 72.75 52.59375 71.296875 \r\nz\r\n\" id=\"DejaVuSans-54\"/>\r\n      </defs>\r\n      <g transform=\"translate(431.3075 210.634375)scale(0.16 -0.16)\">\r\n       <use xlink:href=\"#DejaVuSans-54\"/>\r\n      </g>\r\n     </g>\r\n    </g>\r\n    <g id=\"xtick_7\">\r\n     <g id=\"line2d_7\">\r\n      <g>\r\n       <use style=\"stroke:#000000;stroke-width:0.8;\" x=\"506.1475\" xlink:href=\"#m7de4fa4817\" y=\"191.476875\"/>\r\n      </g>\r\n     </g>\r\n     <g id=\"text_7\">\r\n      <!-- 7 -->\r\n      <defs>\r\n       <path d=\"M 8.203125 72.90625 \r\nL 55.078125 72.90625 \r\nL 55.078125 68.703125 \r\nL 28.609375 0 \r\nL 18.3125 0 \r\nL 43.21875 64.59375 \r\nL 8.203125 64.59375 \r\nz\r\n\" id=\"DejaVuSans-55\"/>\r\n      </defs>\r\n      <g transform=\"translate(501.0575 210.634375)scale(0.16 -0.16)\">\r\n       <use xlink:href=\"#DejaVuSans-55\"/>\r\n      </g>\r\n     </g>\r\n    </g>\r\n    <g id=\"xtick_8\">\r\n     <g id=\"line2d_8\">\r\n      <g>\r\n       <use style=\"stroke:#000000;stroke-width:0.8;\" x=\"575.8975\" xlink:href=\"#m7de4fa4817\" y=\"191.476875\"/>\r\n      </g>\r\n     </g>\r\n     <g id=\"text_8\">\r\n      <!-- 8 -->\r\n      <defs>\r\n       <path d=\"M 31.78125 34.625 \r\nQ 24.75 34.625 20.71875 30.859375 \r\nQ 16.703125 27.09375 16.703125 20.515625 \r\nQ 16.703125 13.921875 20.71875 10.15625 \r\nQ 24.75 6.390625 31.78125 6.390625 \r\nQ 38.8125 6.390625 42.859375 10.171875 \r\nQ 46.921875 13.96875 46.921875 20.515625 \r\nQ 46.921875 27.09375 42.890625 30.859375 \r\nQ 38.875 34.625 31.78125 34.625 \r\nz\r\nM 21.921875 38.8125 \r\nQ 15.578125 40.375 12.03125 44.71875 \r\nQ 8.5 49.078125 8.5 55.328125 \r\nQ 8.5 64.0625 14.71875 69.140625 \r\nQ 20.953125 74.21875 31.78125 74.21875 \r\nQ 42.671875 74.21875 48.875 69.140625 \r\nQ 55.078125 64.0625 55.078125 55.328125 \r\nQ 55.078125 49.078125 51.53125 44.71875 \r\nQ 48 40.375 41.703125 38.8125 \r\nQ 48.828125 37.15625 52.796875 32.3125 \r\nQ 56.78125 27.484375 56.78125 20.515625 \r\nQ 56.78125 9.90625 50.3125 4.234375 \r\nQ 43.84375 -1.421875 31.78125 -1.421875 \r\nQ 19.734375 -1.421875 13.25 4.234375 \r\nQ 6.78125 9.90625 6.78125 20.515625 \r\nQ 6.78125 27.484375 10.78125 32.3125 \r\nQ 14.796875 37.15625 21.921875 38.8125 \r\nz\r\nM 18.3125 54.390625 \r\nQ 18.3125 48.734375 21.84375 45.5625 \r\nQ 25.390625 42.390625 31.78125 42.390625 \r\nQ 38.140625 42.390625 41.71875 45.5625 \r\nQ 45.3125 48.734375 45.3125 54.390625 \r\nQ 45.3125 60.0625 41.71875 63.234375 \r\nQ 38.140625 66.40625 31.78125 66.40625 \r\nQ 25.390625 66.40625 21.84375 63.234375 \r\nQ 18.3125 60.0625 18.3125 54.390625 \r\nz\r\n\" id=\"DejaVuSans-56\"/>\r\n      </defs>\r\n      <g transform=\"translate(570.8075 210.634375)scale(0.16 -0.16)\">\r\n       <use xlink:href=\"#DejaVuSans-56\"/>\r\n      </g>\r\n     </g>\r\n    </g>\r\n    <g id=\"text_9\">\r\n     <!-- Number of tags -->\r\n     <defs>\r\n      <path d=\"M 9.8125 72.90625 \r\nL 23.09375 72.90625 \r\nL 55.421875 11.921875 \r\nL 55.421875 72.90625 \r\nL 64.984375 72.90625 \r\nL 64.984375 0 \r\nL 51.703125 0 \r\nL 19.390625 60.984375 \r\nL 19.390625 0 \r\nL 9.8125 0 \r\nz\r\n\" id=\"DejaVuSans-78\"/>\r\n      <path d=\"M 8.5 21.578125 \r\nL 8.5 54.6875 \r\nL 17.484375 54.6875 \r\nL 17.484375 21.921875 \r\nQ 17.484375 14.15625 20.5 10.265625 \r\nQ 23.53125 6.390625 29.59375 6.390625 \r\nQ 36.859375 6.390625 41.078125 11.03125 \r\nQ 45.3125 15.671875 45.3125 23.6875 \r\nL 45.3125 54.6875 \r\nL 54.296875 54.6875 \r\nL 54.296875 0 \r\nL 45.3125 0 \r\nL 45.3125 8.40625 \r\nQ 42.046875 3.421875 37.71875 1 \r\nQ 33.40625 -1.421875 27.6875 -1.421875 \r\nQ 18.265625 -1.421875 13.375 4.4375 \r\nQ 8.5 10.296875 8.5 21.578125 \r\nz\r\nM 31.109375 56 \r\nz\r\n\" id=\"DejaVuSans-117\"/>\r\n      <path d=\"M 52 44.1875 \r\nQ 55.375 50.25 60.0625 53.125 \r\nQ 64.75 56 71.09375 56 \r\nQ 79.640625 56 84.28125 50.015625 \r\nQ 88.921875 44.046875 88.921875 33.015625 \r\nL 88.921875 0 \r\nL 79.890625 0 \r\nL 79.890625 32.71875 \r\nQ 79.890625 40.578125 77.09375 44.375 \r\nQ 74.3125 48.1875 68.609375 48.1875 \r\nQ 61.625 48.1875 57.5625 43.546875 \r\nQ 53.515625 38.921875 53.515625 30.90625 \r\nL 53.515625 0 \r\nL 44.484375 0 \r\nL 44.484375 32.71875 \r\nQ 44.484375 40.625 41.703125 44.40625 \r\nQ 38.921875 48.1875 33.109375 48.1875 \r\nQ 26.21875 48.1875 22.15625 43.53125 \r\nQ 18.109375 38.875 18.109375 30.90625 \r\nL 18.109375 0 \r\nL 9.078125 0 \r\nL 9.078125 54.6875 \r\nL 18.109375 54.6875 \r\nL 18.109375 46.1875 \r\nQ 21.1875 51.21875 25.484375 53.609375 \r\nQ 29.78125 56 35.6875 56 \r\nQ 41.65625 56 45.828125 52.96875 \r\nQ 50 49.953125 52 44.1875 \r\nz\r\n\" id=\"DejaVuSans-109\"/>\r\n      <path d=\"M 48.6875 27.296875 \r\nQ 48.6875 37.203125 44.609375 42.84375 \r\nQ 40.53125 48.484375 33.40625 48.484375 \r\nQ 26.265625 48.484375 22.1875 42.84375 \r\nQ 18.109375 37.203125 18.109375 27.296875 \r\nQ 18.109375 17.390625 22.1875 11.75 \r\nQ 26.265625 6.109375 33.40625 6.109375 \r\nQ 40.53125 6.109375 44.609375 11.75 \r\nQ 48.6875 17.390625 48.6875 27.296875 \r\nz\r\nM 18.109375 46.390625 \r\nQ 20.953125 51.265625 25.265625 53.625 \r\nQ 29.59375 56 35.59375 56 \r\nQ 45.5625 56 51.78125 48.09375 \r\nQ 58.015625 40.1875 58.015625 27.296875 \r\nQ 58.015625 14.40625 51.78125 6.484375 \r\nQ 45.5625 -1.421875 35.59375 -1.421875 \r\nQ 29.59375 -1.421875 25.265625 0.953125 \r\nQ 20.953125 3.328125 18.109375 8.203125 \r\nL 18.109375 0 \r\nL 9.078125 0 \r\nL 9.078125 75.984375 \r\nL 18.109375 75.984375 \r\nz\r\n\" id=\"DejaVuSans-98\"/>\r\n      <path d=\"M 56.203125 29.59375 \r\nL 56.203125 25.203125 \r\nL 14.890625 25.203125 \r\nQ 15.484375 15.921875 20.484375 11.0625 \r\nQ 25.484375 6.203125 34.421875 6.203125 \r\nQ 39.59375 6.203125 44.453125 7.46875 \r\nQ 49.3125 8.734375 54.109375 11.28125 \r\nL 54.109375 2.78125 \r\nQ 49.265625 0.734375 44.1875 -0.34375 \r\nQ 39.109375 -1.421875 33.890625 -1.421875 \r\nQ 20.796875 -1.421875 13.15625 6.1875 \r\nQ 5.515625 13.8125 5.515625 26.8125 \r\nQ 5.515625 40.234375 12.765625 48.109375 \r\nQ 20.015625 56 32.328125 56 \r\nQ 43.359375 56 49.78125 48.890625 \r\nQ 56.203125 41.796875 56.203125 29.59375 \r\nz\r\nM 47.21875 32.234375 \r\nQ 47.125 39.59375 43.09375 43.984375 \r\nQ 39.0625 48.390625 32.421875 48.390625 \r\nQ 24.90625 48.390625 20.390625 44.140625 \r\nQ 15.875 39.890625 15.1875 32.171875 \r\nz\r\n\" id=\"DejaVuSans-101\"/>\r\n      <path d=\"M 41.109375 46.296875 \r\nQ 39.59375 47.171875 37.8125 47.578125 \r\nQ 36.03125 48 33.890625 48 \r\nQ 26.265625 48 22.1875 43.046875 \r\nQ 18.109375 38.09375 18.109375 28.8125 \r\nL 18.109375 0 \r\nL 9.078125 0 \r\nL 9.078125 54.6875 \r\nL 18.109375 54.6875 \r\nL 18.109375 46.1875 \r\nQ 20.953125 51.171875 25.484375 53.578125 \r\nQ 30.03125 56 36.53125 56 \r\nQ 37.453125 56 38.578125 55.875 \r\nQ 39.703125 55.765625 41.0625 55.515625 \r\nz\r\n\" id=\"DejaVuSans-114\"/>\r\n      <path id=\"DejaVuSans-32\"/>\r\n      <path d=\"M 30.609375 48.390625 \r\nQ 23.390625 48.390625 19.1875 42.75 \r\nQ 14.984375 37.109375 14.984375 27.296875 \r\nQ 14.984375 17.484375 19.15625 11.84375 \r\nQ 23.34375 6.203125 30.609375 6.203125 \r\nQ 37.796875 6.203125 41.984375 11.859375 \r\nQ 46.1875 17.53125 46.1875 27.296875 \r\nQ 46.1875 37.015625 41.984375 42.703125 \r\nQ 37.796875 48.390625 30.609375 48.390625 \r\nz\r\nM 30.609375 56 \r\nQ 42.328125 56 49.015625 48.375 \r\nQ 55.71875 40.765625 55.71875 27.296875 \r\nQ 55.71875 13.875 49.015625 6.21875 \r\nQ 42.328125 -1.421875 30.609375 -1.421875 \r\nQ 18.84375 -1.421875 12.171875 6.21875 \r\nQ 5.515625 13.875 5.515625 27.296875 \r\nQ 5.515625 40.765625 12.171875 48.375 \r\nQ 18.84375 56 30.609375 56 \r\nz\r\n\" id=\"DejaVuSans-111\"/>\r\n      <path d=\"M 37.109375 75.984375 \r\nL 37.109375 68.5 \r\nL 28.515625 68.5 \r\nQ 23.6875 68.5 21.796875 66.546875 \r\nQ 19.921875 64.59375 19.921875 59.515625 \r\nL 19.921875 54.6875 \r\nL 34.71875 54.6875 \r\nL 34.71875 47.703125 \r\nL 19.921875 47.703125 \r\nL 19.921875 0 \r\nL 10.890625 0 \r\nL 10.890625 47.703125 \r\nL 2.296875 47.703125 \r\nL 2.296875 54.6875 \r\nL 10.890625 54.6875 \r\nL 10.890625 58.5 \r\nQ 10.890625 67.625 15.140625 71.796875 \r\nQ 19.390625 75.984375 28.609375 75.984375 \r\nz\r\n\" id=\"DejaVuSans-102\"/>\r\n      <path d=\"M 18.3125 70.21875 \r\nL 18.3125 54.6875 \r\nL 36.8125 54.6875 \r\nL 36.8125 47.703125 \r\nL 18.3125 47.703125 \r\nL 18.3125 18.015625 \r\nQ 18.3125 11.328125 20.140625 9.421875 \r\nQ 21.96875 7.515625 27.59375 7.515625 \r\nL 36.8125 7.515625 \r\nL 36.8125 0 \r\nL 27.59375 0 \r\nQ 17.1875 0 13.234375 3.875 \r\nQ 9.28125 7.765625 9.28125 18.015625 \r\nL 9.28125 47.703125 \r\nL 2.6875 47.703125 \r\nL 2.6875 54.6875 \r\nL 9.28125 54.6875 \r\nL 9.28125 70.21875 \r\nz\r\n\" id=\"DejaVuSans-116\"/>\r\n      <path d=\"M 34.28125 27.484375 \r\nQ 23.390625 27.484375 19.1875 25 \r\nQ 14.984375 22.515625 14.984375 16.5 \r\nQ 14.984375 11.71875 18.140625 8.90625 \r\nQ 21.296875 6.109375 26.703125 6.109375 \r\nQ 34.1875 6.109375 38.703125 11.40625 \r\nQ 43.21875 16.703125 43.21875 25.484375 \r\nL 43.21875 27.484375 \r\nz\r\nM 52.203125 31.203125 \r\nL 52.203125 0 \r\nL 43.21875 0 \r\nL 43.21875 8.296875 \r\nQ 40.140625 3.328125 35.546875 0.953125 \r\nQ 30.953125 -1.421875 24.3125 -1.421875 \r\nQ 15.921875 -1.421875 10.953125 3.296875 \r\nQ 6 8.015625 6 15.921875 \r\nQ 6 25.140625 12.171875 29.828125 \r\nQ 18.359375 34.515625 30.609375 34.515625 \r\nL 43.21875 34.515625 \r\nL 43.21875 35.40625 \r\nQ 43.21875 41.609375 39.140625 45 \r\nQ 35.0625 48.390625 27.6875 48.390625 \r\nQ 23 48.390625 18.546875 47.265625 \r\nQ 14.109375 46.140625 10.015625 43.890625 \r\nL 10.015625 52.203125 \r\nQ 14.9375 54.109375 19.578125 55.046875 \r\nQ 24.21875 56 28.609375 56 \r\nQ 40.484375 56 46.34375 49.84375 \r\nQ 52.203125 43.703125 52.203125 31.203125 \r\nz\r\n\" id=\"DejaVuSans-97\"/>\r\n      <path d=\"M 45.40625 27.984375 \r\nQ 45.40625 37.75 41.375 43.109375 \r\nQ 37.359375 48.484375 30.078125 48.484375 \r\nQ 22.859375 48.484375 18.828125 43.109375 \r\nQ 14.796875 37.75 14.796875 27.984375 \r\nQ 14.796875 18.265625 18.828125 12.890625 \r\nQ 22.859375 7.515625 30.078125 7.515625 \r\nQ 37.359375 7.515625 41.375 12.890625 \r\nQ 45.40625 18.265625 45.40625 27.984375 \r\nz\r\nM 54.390625 6.78125 \r\nQ 54.390625 -7.171875 48.1875 -13.984375 \r\nQ 42 -20.796875 29.203125 -20.796875 \r\nQ 24.46875 -20.796875 20.265625 -20.09375 \r\nQ 16.0625 -19.390625 12.109375 -17.921875 \r\nL 12.109375 -9.1875 \r\nQ 16.0625 -11.328125 19.921875 -12.34375 \r\nQ 23.78125 -13.375 27.78125 -13.375 \r\nQ 36.625 -13.375 41.015625 -8.765625 \r\nQ 45.40625 -4.15625 45.40625 5.171875 \r\nL 45.40625 9.625 \r\nQ 42.625 4.78125 38.28125 2.390625 \r\nQ 33.9375 0 27.875 0 \r\nQ 17.828125 0 11.671875 7.65625 \r\nQ 5.515625 15.328125 5.515625 27.984375 \r\nQ 5.515625 40.671875 11.671875 48.328125 \r\nQ 17.828125 56 27.875 56 \r\nQ 33.9375 56 38.28125 53.609375 \r\nQ 42.625 51.21875 45.40625 46.390625 \r\nL 45.40625 54.6875 \r\nL 54.390625 54.6875 \r\nz\r\n\" id=\"DejaVuSans-103\"/>\r\n      <path d=\"M 44.28125 53.078125 \r\nL 44.28125 44.578125 \r\nQ 40.484375 46.53125 36.375 47.5 \r\nQ 32.28125 48.484375 27.875 48.484375 \r\nQ 21.1875 48.484375 17.84375 46.4375 \r\nQ 14.5 44.390625 14.5 40.28125 \r\nQ 14.5 37.15625 16.890625 35.375 \r\nQ 19.28125 33.59375 26.515625 31.984375 \r\nL 29.59375 31.296875 \r\nQ 39.15625 29.25 43.1875 25.515625 \r\nQ 47.21875 21.78125 47.21875 15.09375 \r\nQ 47.21875 7.46875 41.1875 3.015625 \r\nQ 35.15625 -1.421875 24.609375 -1.421875 \r\nQ 20.21875 -1.421875 15.453125 -0.5625 \r\nQ 10.6875 0.296875 5.421875 2 \r\nL 5.421875 11.28125 \r\nQ 10.40625 8.6875 15.234375 7.390625 \r\nQ 20.0625 6.109375 24.8125 6.109375 \r\nQ 31.15625 6.109375 34.5625 8.28125 \r\nQ 37.984375 10.453125 37.984375 14.40625 \r\nQ 37.984375 18.0625 35.515625 20.015625 \r\nQ 33.0625 21.96875 24.703125 23.78125 \r\nL 21.578125 24.515625 \r\nQ 13.234375 26.265625 9.515625 29.90625 \r\nQ 5.8125 33.546875 5.8125 39.890625 \r\nQ 5.8125 47.609375 11.28125 51.796875 \r\nQ 16.75 56 26.8125 56 \r\nQ 31.78125 56 36.171875 55.265625 \r\nQ 40.578125 54.546875 44.28125 53.078125 \r\nz\r\n\" id=\"DejaVuSans-115\"/>\r\n     </defs>\r\n     <g transform=\"translate(269.55375 230.119375)scale(0.16 -0.16)\">\r\n      <use xlink:href=\"#DejaVuSans-78\"/>\r\n      <use x=\"74.804688\" xlink:href=\"#DejaVuSans-117\"/>\r\n      <use x=\"138.183594\" xlink:href=\"#DejaVuSans-109\"/>\r\n      <use x=\"235.595703\" xlink:href=\"#DejaVuSans-98\"/>\r\n      <use x=\"299.072266\" xlink:href=\"#DejaVuSans-101\"/>\r\n      <use x=\"360.595703\" xlink:href=\"#DejaVuSans-114\"/>\r\n      <use x=\"401.708984\" xlink:href=\"#DejaVuSans-32\"/>\r\n      <use x=\"433.496094\" xlink:href=\"#DejaVuSans-111\"/>\r\n      <use x=\"494.677734\" xlink:href=\"#DejaVuSans-102\"/>\r\n      <use x=\"529.882812\" xlink:href=\"#DejaVuSans-32\"/>\r\n      <use x=\"561.669922\" xlink:href=\"#DejaVuSans-116\"/>\r\n      <use x=\"600.878906\" xlink:href=\"#DejaVuSans-97\"/>\r\n      <use x=\"662.158203\" xlink:href=\"#DejaVuSans-103\"/>\r\n      <use x=\"725.634766\" xlink:href=\"#DejaVuSans-115\"/>\r\n     </g>\r\n    </g>\r\n   </g>\r\n   <g id=\"matplotlib.axis_2\">\r\n    <g id=\"ytick_1\">\r\n     <g id=\"line2d_9\">\r\n      <defs>\r\n       <path d=\"M 0 0 \r\nL -3.5 0 \r\n\" id=\"m9b3cf57fe9\" style=\"stroke:#000000;stroke-width:0.8;\"/>\r\n      </defs>\r\n      <g>\r\n       <use style=\"stroke:#000000;stroke-width:0.8;\" x=\"52.7725\" xlink:href=\"#m9b3cf57fe9\" y=\"191.476875\"/>\r\n      </g>\r\n     </g>\r\n     <g id=\"text_10\">\r\n      <!-- 0 -->\r\n      <defs>\r\n       <path d=\"M 31.78125 66.40625 \r\nQ 24.171875 66.40625 20.328125 58.90625 \r\nQ 16.5 51.421875 16.5 36.375 \r\nQ 16.5 21.390625 20.328125 13.890625 \r\nQ 24.171875 6.390625 31.78125 6.390625 \r\nQ 39.453125 6.390625 43.28125 13.890625 \r\nQ 47.125 21.390625 47.125 36.375 \r\nQ 47.125 51.421875 43.28125 58.90625 \r\nQ 39.453125 66.40625 31.78125 66.40625 \r\nz\r\nM 31.78125 74.21875 \r\nQ 44.046875 74.21875 50.515625 64.515625 \r\nQ 56.984375 54.828125 56.984375 36.375 \r\nQ 56.984375 17.96875 50.515625 8.265625 \r\nQ 44.046875 -1.421875 31.78125 -1.421875 \r\nQ 19.53125 -1.421875 13.0625 8.265625 \r\nQ 6.59375 17.96875 6.59375 36.375 \r\nQ 6.59375 54.828125 13.0625 64.515625 \r\nQ 19.53125 74.21875 31.78125 74.21875 \r\nz\r\n\" id=\"DejaVuSans-48\"/>\r\n      </defs>\r\n      <g transform=\"translate(39.41 195.276094)scale(0.1 -0.1)\">\r\n       <use xlink:href=\"#DejaVuSans-48\"/>\r\n      </g>\r\n     </g>\r\n    </g>\r\n    <g id=\"ytick_2\">\r\n     <g id=\"line2d_10\">\r\n      <g>\r\n       <use style=\"stroke:#000000;stroke-width:0.8;\" x=\"52.7725\" xlink:href=\"#m9b3cf57fe9\" y=\"164.276475\"/>\r\n      </g>\r\n     </g>\r\n     <g id=\"text_11\">\r\n      <!-- 100 -->\r\n      <g transform=\"translate(26.685 168.075693)scale(0.1 -0.1)\">\r\n       <use xlink:href=\"#DejaVuSans-49\"/>\r\n       <use x=\"63.623047\" xlink:href=\"#DejaVuSans-48\"/>\r\n       <use x=\"127.246094\" xlink:href=\"#DejaVuSans-48\"/>\r\n      </g>\r\n     </g>\r\n    </g>\r\n    <g id=\"ytick_3\">\r\n     <g id=\"line2d_11\">\r\n      <g>\r\n       <use style=\"stroke:#000000;stroke-width:0.8;\" x=\"52.7725\" xlink:href=\"#m9b3cf57fe9\" y=\"137.076074\"/>\r\n      </g>\r\n     </g>\r\n     <g id=\"text_12\">\r\n      <!-- 200 -->\r\n      <g transform=\"translate(26.685 140.875293)scale(0.1 -0.1)\">\r\n       <use xlink:href=\"#DejaVuSans-50\"/>\r\n       <use x=\"63.623047\" xlink:href=\"#DejaVuSans-48\"/>\r\n       <use x=\"127.246094\" xlink:href=\"#DejaVuSans-48\"/>\r\n      </g>\r\n     </g>\r\n    </g>\r\n    <g id=\"ytick_4\">\r\n     <g id=\"line2d_12\">\r\n      <g>\r\n       <use style=\"stroke:#000000;stroke-width:0.8;\" x=\"52.7725\" xlink:href=\"#m9b3cf57fe9\" y=\"109.875674\"/>\r\n      </g>\r\n     </g>\r\n     <g id=\"text_13\">\r\n      <!-- 300 -->\r\n      <g transform=\"translate(26.685 113.674893)scale(0.1 -0.1)\">\r\n       <use xlink:href=\"#DejaVuSans-51\"/>\r\n       <use x=\"63.623047\" xlink:href=\"#DejaVuSans-48\"/>\r\n       <use x=\"127.246094\" xlink:href=\"#DejaVuSans-48\"/>\r\n      </g>\r\n     </g>\r\n    </g>\r\n    <g id=\"ytick_5\">\r\n     <g id=\"line2d_13\">\r\n      <g>\r\n       <use style=\"stroke:#000000;stroke-width:0.8;\" x=\"52.7725\" xlink:href=\"#m9b3cf57fe9\" y=\"82.675274\"/>\r\n      </g>\r\n     </g>\r\n     <g id=\"text_14\">\r\n      <!-- 400 -->\r\n      <g transform=\"translate(26.685 86.474493)scale(0.1 -0.1)\">\r\n       <use xlink:href=\"#DejaVuSans-52\"/>\r\n       <use x=\"63.623047\" xlink:href=\"#DejaVuSans-48\"/>\r\n       <use x=\"127.246094\" xlink:href=\"#DejaVuSans-48\"/>\r\n      </g>\r\n     </g>\r\n    </g>\r\n    <g id=\"ytick_6\">\r\n     <g id=\"line2d_14\">\r\n      <g>\r\n       <use style=\"stroke:#000000;stroke-width:0.8;\" x=\"52.7725\" xlink:href=\"#m9b3cf57fe9\" y=\"55.474873\"/>\r\n      </g>\r\n     </g>\r\n     <g id=\"text_15\">\r\n      <!-- 500 -->\r\n      <g transform=\"translate(26.685 59.274092)scale(0.1 -0.1)\">\r\n       <use xlink:href=\"#DejaVuSans-53\"/>\r\n       <use x=\"63.623047\" xlink:href=\"#DejaVuSans-48\"/>\r\n       <use x=\"127.246094\" xlink:href=\"#DejaVuSans-48\"/>\r\n      </g>\r\n     </g>\r\n    </g>\r\n    <g id=\"text_16\">\r\n     <!-- Number of projects -->\r\n     <defs>\r\n      <path d=\"M 18.109375 8.203125 \r\nL 18.109375 -20.796875 \r\nL 9.078125 -20.796875 \r\nL 9.078125 54.6875 \r\nL 18.109375 54.6875 \r\nL 18.109375 46.390625 \r\nQ 20.953125 51.265625 25.265625 53.625 \r\nQ 29.59375 56 35.59375 56 \r\nQ 45.5625 56 51.78125 48.09375 \r\nQ 58.015625 40.1875 58.015625 27.296875 \r\nQ 58.015625 14.40625 51.78125 6.484375 \r\nQ 45.5625 -1.421875 35.59375 -1.421875 \r\nQ 29.59375 -1.421875 25.265625 0.953125 \r\nQ 20.953125 3.328125 18.109375 8.203125 \r\nz\r\nM 48.6875 27.296875 \r\nQ 48.6875 37.203125 44.609375 42.84375 \r\nQ 40.53125 48.484375 33.40625 48.484375 \r\nQ 26.265625 48.484375 22.1875 42.84375 \r\nQ 18.109375 37.203125 18.109375 27.296875 \r\nQ 18.109375 17.390625 22.1875 11.75 \r\nQ 26.265625 6.109375 33.40625 6.109375 \r\nQ 40.53125 6.109375 44.609375 11.75 \r\nQ 48.6875 17.390625 48.6875 27.296875 \r\nz\r\n\" id=\"DejaVuSans-112\"/>\r\n      <path d=\"M 9.421875 54.6875 \r\nL 18.40625 54.6875 \r\nL 18.40625 -0.984375 \r\nQ 18.40625 -11.421875 14.421875 -16.109375 \r\nQ 10.453125 -20.796875 1.609375 -20.796875 \r\nL -1.8125 -20.796875 \r\nL -1.8125 -13.1875 \r\nL 0.59375 -13.1875 \r\nQ 5.71875 -13.1875 7.5625 -10.8125 \r\nQ 9.421875 -8.453125 9.421875 -0.984375 \r\nz\r\nM 9.421875 75.984375 \r\nL 18.40625 75.984375 \r\nL 18.40625 64.59375 \r\nL 9.421875 64.59375 \r\nz\r\n\" id=\"DejaVuSans-106\"/>\r\n      <path d=\"M 48.78125 52.59375 \r\nL 48.78125 44.1875 \r\nQ 44.96875 46.296875 41.140625 47.34375 \r\nQ 37.3125 48.390625 33.40625 48.390625 \r\nQ 24.65625 48.390625 19.8125 42.84375 \r\nQ 14.984375 37.3125 14.984375 27.296875 \r\nQ 14.984375 17.28125 19.8125 11.734375 \r\nQ 24.65625 6.203125 33.40625 6.203125 \r\nQ 37.3125 6.203125 41.140625 7.25 \r\nQ 44.96875 8.296875 48.78125 10.40625 \r\nL 48.78125 2.09375 \r\nQ 45.015625 0.34375 40.984375 -0.53125 \r\nQ 36.96875 -1.421875 32.421875 -1.421875 \r\nQ 20.0625 -1.421875 12.78125 6.34375 \r\nQ 5.515625 14.109375 5.515625 27.296875 \r\nQ 5.515625 40.671875 12.859375 48.328125 \r\nQ 20.21875 56 33.015625 56 \r\nQ 37.15625 56 41.109375 55.140625 \r\nQ 45.0625 54.296875 48.78125 52.59375 \r\nz\r\n\" id=\"DejaVuSans-99\"/>\r\n     </defs>\r\n     <g transform=\"translate(19.3575 186.978125)rotate(-90)scale(0.16 -0.16)\">\r\n      <use xlink:href=\"#DejaVuSans-78\"/>\r\n      <use x=\"74.804688\" xlink:href=\"#DejaVuSans-117\"/>\r\n      <use x=\"138.183594\" xlink:href=\"#DejaVuSans-109\"/>\r\n      <use x=\"235.595703\" xlink:href=\"#DejaVuSans-98\"/>\r\n      <use x=\"299.072266\" xlink:href=\"#DejaVuSans-101\"/>\r\n      <use x=\"360.595703\" xlink:href=\"#DejaVuSans-114\"/>\r\n      <use x=\"401.708984\" xlink:href=\"#DejaVuSans-32\"/>\r\n      <use x=\"433.496094\" xlink:href=\"#DejaVuSans-111\"/>\r\n      <use x=\"494.677734\" xlink:href=\"#DejaVuSans-102\"/>\r\n      <use x=\"529.882812\" xlink:href=\"#DejaVuSans-32\"/>\r\n      <use x=\"561.669922\" xlink:href=\"#DejaVuSans-112\"/>\r\n      <use x=\"625.146484\" xlink:href=\"#DejaVuSans-114\"/>\r\n      <use x=\"666.228516\" xlink:href=\"#DejaVuSans-111\"/>\r\n      <use x=\"727.410156\" xlink:href=\"#DejaVuSans-106\"/>\r\n      <use x=\"755.193359\" xlink:href=\"#DejaVuSans-101\"/>\r\n      <use x=\"816.716797\" xlink:href=\"#DejaVuSans-99\"/>\r\n      <use x=\"871.697266\" xlink:href=\"#DejaVuSans-116\"/>\r\n      <use x=\"910.90625\" xlink:href=\"#DejaVuSans-115\"/>\r\n     </g>\r\n    </g>\r\n   </g>\r\n   <g id=\"line2d_15\">\r\n    <path clip-path=\"url(#p7a7f095cb5)\" d=\"M 0 0 \r\n\" style=\"fill:none;stroke:#424242;stroke-linecap:square;stroke-width:2.7;\"/>\r\n   </g>\r\n   <g id=\"line2d_16\">\r\n    <path clip-path=\"url(#p7a7f095cb5)\" d=\"M 0 0 \r\n\" style=\"fill:none;stroke:#424242;stroke-linecap:square;stroke-width:2.7;\"/>\r\n   </g>\r\n   <g id=\"line2d_17\">\r\n    <path clip-path=\"url(#p7a7f095cb5)\" d=\"M 0 0 \r\n\" style=\"fill:none;stroke:#424242;stroke-linecap:square;stroke-width:2.7;\"/>\r\n   </g>\r\n   <g id=\"line2d_18\">\r\n    <path clip-path=\"url(#p7a7f095cb5)\" d=\"M 0 0 \r\n\" style=\"fill:none;stroke:#424242;stroke-linecap:square;stroke-width:2.7;\"/>\r\n   </g>\r\n   <g id=\"line2d_19\">\r\n    <path clip-path=\"url(#p7a7f095cb5)\" d=\"M 0 0 \r\n\" style=\"fill:none;stroke:#424242;stroke-linecap:square;stroke-width:2.7;\"/>\r\n   </g>\r\n   <g id=\"line2d_20\">\r\n    <path clip-path=\"url(#p7a7f095cb5)\" d=\"M 0 0 \r\n\" style=\"fill:none;stroke:#424242;stroke-linecap:square;stroke-width:2.7;\"/>\r\n   </g>\r\n   <g id=\"line2d_21\">\r\n    <path clip-path=\"url(#p7a7f095cb5)\" d=\"M 0 0 \r\n\" style=\"fill:none;stroke:#424242;stroke-linecap:square;stroke-width:2.7;\"/>\r\n   </g>\r\n   <g id=\"line2d_22\">\r\n    <path clip-path=\"url(#p7a7f095cb5)\" d=\"M 0 0 \r\n\" style=\"fill:none;stroke:#424242;stroke-linecap:square;stroke-width:2.7;\"/>\r\n   </g>\r\n   <g id=\"patch_11\">\r\n    <path d=\"M 52.7725 191.476875 \r\nL 52.7725 28.396875 \r\n\" style=\"fill:none;stroke:#000000;stroke-linecap:square;stroke-linejoin:miter;stroke-width:0.8;\"/>\r\n   </g>\r\n   <g id=\"patch_12\">\r\n    <path d=\"M 610.7725 191.476875 \r\nL 610.7725 28.396875 \r\n\" style=\"fill:none;stroke:#000000;stroke-linecap:square;stroke-linejoin:miter;stroke-width:0.8;\"/>\r\n   </g>\r\n   <g id=\"patch_13\">\r\n    <path d=\"M 52.7725 191.476875 \r\nL 610.7725 191.476875 \r\n\" style=\"fill:none;stroke:#000000;stroke-linecap:square;stroke-linejoin:miter;stroke-width:0.8;\"/>\r\n   </g>\r\n   <g id=\"patch_14\">\r\n    <path d=\"M 52.7725 28.396875 \r\nL 610.7725 28.396875 \r\n\" style=\"fill:none;stroke:#000000;stroke-linecap:square;stroke-linejoin:miter;stroke-width:0.8;\"/>\r\n   </g>\r\n   <g id=\"text_17\">\r\n    <!-- Tags per project -->\r\n    <defs>\r\n     <path d=\"M -0.296875 72.90625 \r\nL 61.375 72.90625 \r\nL 61.375 64.59375 \r\nL 35.5 64.59375 \r\nL 35.5 0 \r\nL 25.59375 0 \r\nL 25.59375 64.59375 \r\nL -0.296875 64.59375 \r\nz\r\n\" id=\"DejaVuSans-84\"/>\r\n    </defs>\r\n    <g transform=\"translate(250.11 22.396875)scale(0.2 -0.2)\">\r\n     <use xlink:href=\"#DejaVuSans-84\"/>\r\n     <use x=\"60.833984\" xlink:href=\"#DejaVuSans-97\"/>\r\n     <use x=\"122.113281\" xlink:href=\"#DejaVuSans-103\"/>\r\n     <use x=\"185.589844\" xlink:href=\"#DejaVuSans-115\"/>\r\n     <use x=\"237.689453\" xlink:href=\"#DejaVuSans-32\"/>\r\n     <use x=\"269.476562\" xlink:href=\"#DejaVuSans-112\"/>\r\n     <use x=\"332.953125\" xlink:href=\"#DejaVuSans-101\"/>\r\n     <use x=\"394.476562\" xlink:href=\"#DejaVuSans-114\"/>\r\n     <use x=\"435.589844\" xlink:href=\"#DejaVuSans-32\"/>\r\n     <use x=\"467.376953\" xlink:href=\"#DejaVuSans-112\"/>\r\n     <use x=\"530.853516\" xlink:href=\"#DejaVuSans-114\"/>\r\n     <use x=\"571.935547\" xlink:href=\"#DejaVuSans-111\"/>\r\n     <use x=\"633.117188\" xlink:href=\"#DejaVuSans-106\"/>\r\n     <use x=\"660.900391\" xlink:href=\"#DejaVuSans-101\"/>\r\n     <use x=\"722.423828\" xlink:href=\"#DejaVuSans-99\"/>\r\n     <use x=\"777.404297\" xlink:href=\"#DejaVuSans-116\"/>\r\n    </g>\r\n   </g>\r\n  </g>\r\n </g>\r\n <defs>\r\n  <clipPath id=\"p7a7f095cb5\">\r\n   <rect height=\"163.08\" width=\"558\" x=\"52.7725\" y=\"28.396875\"/>\r\n  </clipPath>\r\n </defs>\r\n</svg>\r\n",
      "image/png": "[encoded data removed]"
     },
     "metadata": {
      "needs_background": "light"
     }
    }
   ],
   "source": [
    "num_tags_per_project=[len(tags) for tags in df.tags]\n",
    "num_tags,num_projects=zip(*Counter(num_tags_per_project).items())\n",
    "plt.figure(figsize=(10,3))\n",
    "ax=sns.barplot(list(num_tags),list(num_projects))\n",
    "plt.title(\"Tags per project\",fontsize=20)\n",
    "plt.xlabel(\"Number of tags\", fontsize=16)\n",
    "ax.set_xticklabels(range(1, len(num_tags)+1), rotation=0, fontsize=16)\n",
    "plt.ylabel(\"Number of projects\", fontsize=16)\n",
    "plt.show()"
   ]
  },
  {
   "source": [
    "## Tag distrbution\n",
    "What are the most popular tags?"
   ],
   "cell_type": "markdown",
   "metadata": {}
  },
  {
   "cell_type": "code",
   "execution_count": 18,
   "metadata": {},
   "outputs": [
    {
     "output_type": "display_data",
     "data": {
      "text/plain": "<Figure size 1800x360 with 1 Axes>",
      "image/svg+xml": "<?xml version=\"1.0\" encoding=\"utf-8\" standalone=\"no\"?>\r\n<!DOCTYPE svg PUBLIC \"-//W3C//DTD SVG 1.1//EN\"\r\n  \"http://www.w3.org/Graphics/SVG/1.1/DTD/svg11.dtd\">\r\n<!-- Created with matplotlib (https://matplotlib.org/) -->\r\n<svg height=\"561.84125pt\" version=\"1.1\" viewBox=\"0 0 1454.9725 561.84125\" width=\"1454.9725pt\" xmlns=\"http://www.w3.org/2000/svg\" xmlns:xlink=\"http://www.w3.org/1999/xlink\">\r\n <defs>\r\n  <style type=\"text/css\">\r\n*{stroke-linecap:butt;stroke-linejoin:round;}\r\n  </style>\r\n </defs>\r\n <g id=\"figure_1\">\r\n  <g id=\"patch_1\">\r\n   <path d=\"M 0 561.84125 \r\nL 1454.9725 561.84125 \r\nL 1454.9725 0 \r\nL 0 0 \r\nz\r\n\" style=\"fill:none;\"/>\r\n  </g>\r\n  <g id=\"axes_1\">\r\n   <g id=\"patch_2\">\r\n    <path d=\"M 52.7725 300.196875 \r\nL 1447.7725 300.196875 \r\nL 1447.7725 28.396875 \r\nL 52.7725 28.396875 \r\nz\r\n\" style=\"fill:#ffffff;\"/>\r\n   </g>\r\n   <g id=\"patch_3\">\r\n    <path clip-path=\"url(#pc4b4726056)\" d=\"M 56.758214 300.196875 \r\nL 88.643929 300.196875 \r\nL 88.643929 41.339732 \r\nL 56.758214 41.339732 \r\nz\r\n\" style=\"fill:#ea96a3;\"/>\r\n   </g>\r\n   <g id=\"patch_4\">\r\n    <path clip-path=\"url(#pc4b4726056)\" d=\"M 96.615357 300.196875 \r\nL 128.501071 300.196875 \r\nL 128.501071 66.078993 \r\nL 96.615357 66.078993 \r\nz\r\n\" style=\"fill:#ea9794;\"/>\r\n   </g>\r\n   <g id=\"patch_5\">\r\n    <path clip-path=\"url(#pc4b4726056)\" d=\"M 136.4725 300.196875 \r\nL 168.358214 300.196875 \r\nL 168.358214 144.520551 \r\nL 136.4725 144.520551 \r\nz\r\n\" style=\"fill:#e6957c;\"/>\r\n   </g>\r\n   <g id=\"patch_6\">\r\n    <path clip-path=\"url(#pc4b4726056)\" d=\"M 176.329643 300.196875 \r\nL 208.215357 300.196875 \r\nL 208.215357 171.673398 \r\nL 176.329643 171.673398 \r\nz\r\n\" style=\"fill:#e0914f;\"/>\r\n   </g>\r\n   <g id=\"patch_7\">\r\n    <path clip-path=\"url(#pc4b4726056)\" d=\"M 216.186786 300.196875 \r\nL 248.0725 300.196875 \r\nL 248.0725 181.931141 \r\nL 216.186786 181.931141 \r\nz\r\n\" style=\"fill:#cf964d;\"/>\r\n   </g>\r\n   <g id=\"patch_8\">\r\n    <path clip-path=\"url(#pc4b4726056)\" d=\"M 256.043929 300.196875 \r\nL 287.929643 300.196875 \r\nL 287.929643 227.789283 \r\nL 256.043929 227.789283 \r\nz\r\n\" style=\"fill:#c29a4b;\"/>\r\n   </g>\r\n   <g id=\"patch_9\">\r\n    <path clip-path=\"url(#pc4b4726056)\" d=\"M 295.901071 300.196875 \r\nL 327.786786 300.196875 \r\nL 327.786786 236.236835 \r\nL 295.901071 236.236835 \r\nz\r\n\" style=\"fill:#b79c49;\"/>\r\n   </g>\r\n   <g id=\"patch_10\">\r\n    <path clip-path=\"url(#pc4b4726056)\" d=\"M 335.758214 300.196875 \r\nL 367.643929 300.196875 \r\nL 367.643929 244.080991 \r\nL 335.758214 244.080991 \r\nz\r\n\" style=\"fill:#ab9e47;\"/>\r\n   </g>\r\n   <g id=\"patch_11\">\r\n    <path clip-path=\"url(#pc4b4726056)\" d=\"M 375.615357 300.196875 \r\nL 407.501071 300.196875 \r\nL 407.501071 253.13194 \r\nL 375.615357 253.13194 \r\nz\r\n\" style=\"fill:#a09f45;\"/>\r\n   </g>\r\n   <g id=\"patch_12\">\r\n    <path clip-path=\"url(#pc4b4726056)\" d=\"M 415.4725 300.196875 \r\nL 447.358214 300.196875 \r\nL 447.358214 254.94213 \r\nL 415.4725 254.94213 \r\nz\r\n\" style=\"fill:#95a346;\"/>\r\n   </g>\r\n   <g id=\"patch_13\">\r\n    <path clip-path=\"url(#pc4b4726056)\" d=\"M 455.329643 300.196875 \r\nL 487.215357 300.196875 \r\nL 487.215357 256.148923 \r\nL 455.329643 256.148923 \r\nz\r\n\" style=\"fill:#88a746;\"/>\r\n   </g>\r\n   <g id=\"patch_14\">\r\n    <path clip-path=\"url(#pc4b4726056)\" d=\"M 495.186786 300.196875 \r\nL 527.0725 300.196875 \r\nL 527.0725 258.562509 \r\nL 495.186786 258.562509 \r\nz\r\n\" style=\"fill:#75ab47;\"/>\r\n   </g>\r\n   <g id=\"patch_15\">\r\n    <path clip-path=\"url(#pc4b4726056)\" d=\"M 535.043929 300.196875 \r\nL 566.929643 300.196875 \r\nL 566.929643 261.579492 \r\nL 535.043929 261.579492 \r\nz\r\n\" style=\"fill:#4fb047;\"/>\r\n   </g>\r\n   <g id=\"patch_16\">\r\n    <path clip-path=\"url(#pc4b4726056)\" d=\"M 574.901071 300.196875 \r\nL 606.786786 300.196875 \r\nL 606.786786 263.993079 \r\nL 574.901071 263.993079 \r\nz\r\n\" style=\"fill:#48af6f;\"/>\r\n   </g>\r\n   <g id=\"patch_17\">\r\n    <path clip-path=\"url(#pc4b4726056)\" d=\"M 614.758214 300.196875 \r\nL 646.643929 300.196875 \r\nL 646.643929 264.596475 \r\nL 614.758214 264.596475 \r\nz\r\n\" style=\"fill:#49ae83;\"/>\r\n   </g>\r\n   <g id=\"patch_18\">\r\n    <path clip-path=\"url(#pc4b4726056)\" d=\"M 654.615357 300.196875 \r\nL 686.501071 300.196875 \r\nL 686.501071 265.803269 \r\nL 654.615357 265.803269 \r\nz\r\n\" style=\"fill:#4aad8f;\"/>\r\n   </g>\r\n   <g id=\"patch_19\">\r\n    <path clip-path=\"url(#pc4b4726056)\" d=\"M 694.4725 300.196875 \r\nL 726.358214 300.196875 \r\nL 726.358214 267.010062 \r\nL 694.4725 267.010062 \r\nz\r\n\" style=\"fill:#4aac99;\"/>\r\n   </g>\r\n   <g id=\"patch_20\">\r\n    <path clip-path=\"url(#pc4b4726056)\" d=\"M 734.329643 300.196875 \r\nL 766.215357 300.196875 \r\nL 766.215357 269.423648 \r\nL 734.329643 269.423648 \r\nz\r\n\" style=\"fill:#4baca1;\"/>\r\n   </g>\r\n   <g id=\"patch_21\">\r\n    <path clip-path=\"url(#pc4b4726056)\" d=\"M 774.186786 300.196875 \r\nL 806.0725 300.196875 \r\nL 806.0725 269.423648 \r\nL 774.186786 269.423648 \r\nz\r\n\" style=\"fill:#4baba8;\"/>\r\n   </g>\r\n   <g id=\"patch_22\">\r\n    <path clip-path=\"url(#pc4b4726056)\" d=\"M 814.043929 300.196875 \r\nL 845.929643 300.196875 \r\nL 845.929643 269.423648 \r\nL 814.043929 269.423648 \r\nz\r\n\" style=\"fill:#4cabb0;\"/>\r\n   </g>\r\n   <g id=\"patch_23\">\r\n    <path clip-path=\"url(#pc4b4726056)\" d=\"M 853.901071 300.196875 \r\nL 885.786786 300.196875 \r\nL 885.786786 269.423648 \r\nL 853.901071 269.423648 \r\nz\r\n\" style=\"fill:#4eabb8;\"/>\r\n   </g>\r\n   <g id=\"patch_24\">\r\n    <path clip-path=\"url(#pc4b4726056)\" d=\"M 893.758214 300.196875 \r\nL 925.643929 300.196875 \r\nL 925.643929 270.630441 \r\nL 893.758214 270.630441 \r\nz\r\n\" style=\"fill:#50acc3;\"/>\r\n   </g>\r\n   <g id=\"patch_25\">\r\n    <path clip-path=\"url(#pc4b4726056)\" d=\"M 933.615357 300.196875 \r\nL 965.501071 300.196875 \r\nL 965.501071 271.233838 \r\nL 933.615357 271.233838 \r\nz\r\n\" style=\"fill:#53accf;\"/>\r\n   </g>\r\n   <g id=\"patch_26\">\r\n    <path clip-path=\"url(#pc4b4726056)\" d=\"M 973.4725 300.196875 \r\nL 1005.358214 300.196875 \r\nL 1005.358214 272.440631 \r\nL 973.4725 272.440631 \r\nz\r\n\" style=\"fill:#5aade0;\"/>\r\n   </g>\r\n   <g id=\"patch_27\">\r\n    <path clip-path=\"url(#pc4b4726056)\" d=\"M 1013.329643 300.196875 \r\nL 1045.215357 300.196875 \r\nL 1045.215357 275.457614 \r\nL 1013.329643 275.457614 \r\nz\r\n\" style=\"fill:#86aee6;\"/>\r\n   </g>\r\n   <g id=\"patch_28\">\r\n    <path clip-path=\"url(#pc4b4726056)\" d=\"M 1053.186786 300.196875 \r\nL 1085.0725 300.196875 \r\nL 1085.0725 275.457614 \r\nL 1053.186786 275.457614 \r\nz\r\n\" style=\"fill:#a0adea;\"/>\r\n   </g>\r\n   <g id=\"patch_29\">\r\n    <path clip-path=\"url(#pc4b4726056)\" d=\"M 1093.043929 300.196875 \r\nL 1124.929643 300.196875 \r\nL 1124.929643 276.061011 \r\nL 1093.043929 276.061011 \r\nz\r\n\" style=\"fill:#b2a9eb;\"/>\r\n   </g>\r\n   <g id=\"patch_30\">\r\n    <path clip-path=\"url(#pc4b4726056)\" d=\"M 1132.901071 300.196875 \r\nL 1164.786786 300.196875 \r\nL 1164.786786 276.061011 \r\nL 1132.901071 276.061011 \r\nz\r\n\" style=\"fill:#c1a3ea;\"/>\r\n   </g>\r\n   <g id=\"patch_31\">\r\n    <path clip-path=\"url(#pc4b4726056)\" d=\"M 1172.758214 300.196875 \r\nL 1204.643929 300.196875 \r\nL 1204.643929 276.664407 \r\nL 1172.758214 276.664407 \r\nz\r\n\" style=\"fill:#ce9be9;\"/>\r\n   </g>\r\n   <g id=\"patch_32\">\r\n    <path clip-path=\"url(#pc4b4726056)\" d=\"M 1212.615357 300.196875 \r\nL 1244.501071 300.196875 \r\nL 1244.501071 276.664407 \r\nL 1212.615357 276.664407 \r\nz\r\n\" style=\"fill:#dc91e7;\"/>\r\n   </g>\r\n   <g id=\"patch_33\">\r\n    <path clip-path=\"url(#pc4b4726056)\" d=\"M 1252.4725 300.196875 \r\nL 1284.358214 300.196875 \r\nL 1284.358214 279.68139 \r\nL 1252.4725 279.68139 \r\nz\r\n\" style=\"fill:#e78ae0;\"/>\r\n   </g>\r\n   <g id=\"patch_34\">\r\n    <path clip-path=\"url(#pc4b4726056)\" d=\"M 1292.329643 300.196875 \r\nL 1324.215357 300.196875 \r\nL 1324.215357 279.68139 \r\nL 1292.329643 279.68139 \r\nz\r\n\" style=\"fill:#e78dd2;\"/>\r\n   </g>\r\n   <g id=\"patch_35\">\r\n    <path clip-path=\"url(#pc4b4726056)\" d=\"M 1332.186786 300.196875 \r\nL 1364.0725 300.196875 \r\nL 1364.0725 280.284787 \r\nL 1332.186786 280.284787 \r\nz\r\n\" style=\"fill:#e890c7;\"/>\r\n   </g>\r\n   <g id=\"patch_36\">\r\n    <path clip-path=\"url(#pc4b4726056)\" d=\"M 1372.043929 300.196875 \r\nL 1403.929643 300.196875 \r\nL 1403.929643 280.888184 \r\nL 1372.043929 280.888184 \r\nz\r\n\" style=\"fill:#e992bc;\"/>\r\n   </g>\r\n   <g id=\"patch_37\">\r\n    <path clip-path=\"url(#pc4b4726056)\" d=\"M 1411.901071 300.196875 \r\nL 1443.786786 300.196875 \r\nL 1443.786786 282.094977 \r\nL 1411.901071 282.094977 \r\nz\r\n\" style=\"fill:#e994b1;\"/>\r\n   </g>\r\n   <g id=\"matplotlib.axis_1\">\r\n    <g id=\"xtick_1\">\r\n     <g id=\"line2d_1\">\r\n      <defs>\r\n       <path d=\"M 0 0 \r\nL 0 3.5 \r\n\" id=\"m0c0ea4377c\" style=\"stroke:#000000;stroke-width:0.8;\"/>\r\n      </defs>\r\n      <g>\r\n       <use style=\"stroke:#000000;stroke-width:0.8;\" x=\"72.701071\" xlink:href=\"#m0c0ea4377c\" y=\"300.196875\"/>\r\n      </g>\r\n     </g>\r\n     <g id=\"text_1\">\r\n      <!-- natural-language-processing -->\r\n      <defs>\r\n       <path d=\"M 54.890625 33.015625 \r\nL 54.890625 0 \r\nL 45.90625 0 \r\nL 45.90625 32.71875 \r\nQ 45.90625 40.484375 42.875 44.328125 \r\nQ 39.84375 48.1875 33.796875 48.1875 \r\nQ 26.515625 48.1875 22.3125 43.546875 \r\nQ 18.109375 38.921875 18.109375 30.90625 \r\nL 18.109375 0 \r\nL 9.078125 0 \r\nL 9.078125 54.6875 \r\nL 18.109375 54.6875 \r\nL 18.109375 46.1875 \r\nQ 21.34375 51.125 25.703125 53.5625 \r\nQ 30.078125 56 35.796875 56 \r\nQ 45.21875 56 50.046875 50.171875 \r\nQ 54.890625 44.34375 54.890625 33.015625 \r\nz\r\n\" id=\"DejaVuSans-110\"/>\r\n       <path d=\"M 34.28125 27.484375 \r\nQ 23.390625 27.484375 19.1875 25 \r\nQ 14.984375 22.515625 14.984375 16.5 \r\nQ 14.984375 11.71875 18.140625 8.90625 \r\nQ 21.296875 6.109375 26.703125 6.109375 \r\nQ 34.1875 6.109375 38.703125 11.40625 \r\nQ 43.21875 16.703125 43.21875 25.484375 \r\nL 43.21875 27.484375 \r\nz\r\nM 52.203125 31.203125 \r\nL 52.203125 0 \r\nL 43.21875 0 \r\nL 43.21875 8.296875 \r\nQ 40.140625 3.328125 35.546875 0.953125 \r\nQ 30.953125 -1.421875 24.3125 -1.421875 \r\nQ 15.921875 -1.421875 10.953125 3.296875 \r\nQ 6 8.015625 6 15.921875 \r\nQ 6 25.140625 12.171875 29.828125 \r\nQ 18.359375 34.515625 30.609375 34.515625 \r\nL 43.21875 34.515625 \r\nL 43.21875 35.40625 \r\nQ 43.21875 41.609375 39.140625 45 \r\nQ 35.0625 48.390625 27.6875 48.390625 \r\nQ 23 48.390625 18.546875 47.265625 \r\nQ 14.109375 46.140625 10.015625 43.890625 \r\nL 10.015625 52.203125 \r\nQ 14.9375 54.109375 19.578125 55.046875 \r\nQ 24.21875 56 28.609375 56 \r\nQ 40.484375 56 46.34375 49.84375 \r\nQ 52.203125 43.703125 52.203125 31.203125 \r\nz\r\n\" id=\"DejaVuSans-97\"/>\r\n       <path d=\"M 18.3125 70.21875 \r\nL 18.3125 54.6875 \r\nL 36.8125 54.6875 \r\nL 36.8125 47.703125 \r\nL 18.3125 47.703125 \r\nL 18.3125 18.015625 \r\nQ 18.3125 11.328125 20.140625 9.421875 \r\nQ 21.96875 7.515625 27.59375 7.515625 \r\nL 36.8125 7.515625 \r\nL 36.8125 0 \r\nL 27.59375 0 \r\nQ 17.1875 0 13.234375 3.875 \r\nQ 9.28125 7.765625 9.28125 18.015625 \r\nL 9.28125 47.703125 \r\nL 2.6875 47.703125 \r\nL 2.6875 54.6875 \r\nL 9.28125 54.6875 \r\nL 9.28125 70.21875 \r\nz\r\n\" id=\"DejaVuSans-116\"/>\r\n       <path d=\"M 8.5 21.578125 \r\nL 8.5 54.6875 \r\nL 17.484375 54.6875 \r\nL 17.484375 21.921875 \r\nQ 17.484375 14.15625 20.5 10.265625 \r\nQ 23.53125 6.390625 29.59375 6.390625 \r\nQ 36.859375 6.390625 41.078125 11.03125 \r\nQ 45.3125 15.671875 45.3125 23.6875 \r\nL 45.3125 54.6875 \r\nL 54.296875 54.6875 \r\nL 54.296875 0 \r\nL 45.3125 0 \r\nL 45.3125 8.40625 \r\nQ 42.046875 3.421875 37.71875 1 \r\nQ 33.40625 -1.421875 27.6875 -1.421875 \r\nQ 18.265625 -1.421875 13.375 4.4375 \r\nQ 8.5 10.296875 8.5 21.578125 \r\nz\r\nM 31.109375 56 \r\nz\r\n\" id=\"DejaVuSans-117\"/>\r\n       <path d=\"M 41.109375 46.296875 \r\nQ 39.59375 47.171875 37.8125 47.578125 \r\nQ 36.03125 48 33.890625 48 \r\nQ 26.265625 48 22.1875 43.046875 \r\nQ 18.109375 38.09375 18.109375 28.8125 \r\nL 18.109375 0 \r\nL 9.078125 0 \r\nL 9.078125 54.6875 \r\nL 18.109375 54.6875 \r\nL 18.109375 46.1875 \r\nQ 20.953125 51.171875 25.484375 53.578125 \r\nQ 30.03125 56 36.53125 56 \r\nQ 37.453125 56 38.578125 55.875 \r\nQ 39.703125 55.765625 41.0625 55.515625 \r\nz\r\n\" id=\"DejaVuSans-114\"/>\r\n       <path d=\"M 9.421875 75.984375 \r\nL 18.40625 75.984375 \r\nL 18.40625 0 \r\nL 9.421875 0 \r\nz\r\n\" id=\"DejaVuSans-108\"/>\r\n       <path d=\"M 4.890625 31.390625 \r\nL 31.203125 31.390625 \r\nL 31.203125 23.390625 \r\nL 4.890625 23.390625 \r\nz\r\n\" id=\"DejaVuSans-45\"/>\r\n       <path d=\"M 45.40625 27.984375 \r\nQ 45.40625 37.75 41.375 43.109375 \r\nQ 37.359375 48.484375 30.078125 48.484375 \r\nQ 22.859375 48.484375 18.828125 43.109375 \r\nQ 14.796875 37.75 14.796875 27.984375 \r\nQ 14.796875 18.265625 18.828125 12.890625 \r\nQ 22.859375 7.515625 30.078125 7.515625 \r\nQ 37.359375 7.515625 41.375 12.890625 \r\nQ 45.40625 18.265625 45.40625 27.984375 \r\nz\r\nM 54.390625 6.78125 \r\nQ 54.390625 -7.171875 48.1875 -13.984375 \r\nQ 42 -20.796875 29.203125 -20.796875 \r\nQ 24.46875 -20.796875 20.265625 -20.09375 \r\nQ 16.0625 -19.390625 12.109375 -17.921875 \r\nL 12.109375 -9.1875 \r\nQ 16.0625 -11.328125 19.921875 -12.34375 \r\nQ 23.78125 -13.375 27.78125 -13.375 \r\nQ 36.625 -13.375 41.015625 -8.765625 \r\nQ 45.40625 -4.15625 45.40625 5.171875 \r\nL 45.40625 9.625 \r\nQ 42.625 4.78125 38.28125 2.390625 \r\nQ 33.9375 0 27.875 0 \r\nQ 17.828125 0 11.671875 7.65625 \r\nQ 5.515625 15.328125 5.515625 27.984375 \r\nQ 5.515625 40.671875 11.671875 48.328125 \r\nQ 17.828125 56 27.875 56 \r\nQ 33.9375 56 38.28125 53.609375 \r\nQ 42.625 51.21875 45.40625 46.390625 \r\nL 45.40625 54.6875 \r\nL 54.390625 54.6875 \r\nz\r\n\" id=\"DejaVuSans-103\"/>\r\n       <path d=\"M 56.203125 29.59375 \r\nL 56.203125 25.203125 \r\nL 14.890625 25.203125 \r\nQ 15.484375 15.921875 20.484375 11.0625 \r\nQ 25.484375 6.203125 34.421875 6.203125 \r\nQ 39.59375 6.203125 44.453125 7.46875 \r\nQ 49.3125 8.734375 54.109375 11.28125 \r\nL 54.109375 2.78125 \r\nQ 49.265625 0.734375 44.1875 -0.34375 \r\nQ 39.109375 -1.421875 33.890625 -1.421875 \r\nQ 20.796875 -1.421875 13.15625 6.1875 \r\nQ 5.515625 13.8125 5.515625 26.8125 \r\nQ 5.515625 40.234375 12.765625 48.109375 \r\nQ 20.015625 56 32.328125 56 \r\nQ 43.359375 56 49.78125 48.890625 \r\nQ 56.203125 41.796875 56.203125 29.59375 \r\nz\r\nM 47.21875 32.234375 \r\nQ 47.125 39.59375 43.09375 43.984375 \r\nQ 39.0625 48.390625 32.421875 48.390625 \r\nQ 24.90625 48.390625 20.390625 44.140625 \r\nQ 15.875 39.890625 15.1875 32.171875 \r\nz\r\n\" id=\"DejaVuSans-101\"/>\r\n       <path d=\"M 18.109375 8.203125 \r\nL 18.109375 -20.796875 \r\nL 9.078125 -20.796875 \r\nL 9.078125 54.6875 \r\nL 18.109375 54.6875 \r\nL 18.109375 46.390625 \r\nQ 20.953125 51.265625 25.265625 53.625 \r\nQ 29.59375 56 35.59375 56 \r\nQ 45.5625 56 51.78125 48.09375 \r\nQ 58.015625 40.1875 58.015625 27.296875 \r\nQ 58.015625 14.40625 51.78125 6.484375 \r\nQ 45.5625 -1.421875 35.59375 -1.421875 \r\nQ 29.59375 -1.421875 25.265625 0.953125 \r\nQ 20.953125 3.328125 18.109375 8.203125 \r\nz\r\nM 48.6875 27.296875 \r\nQ 48.6875 37.203125 44.609375 42.84375 \r\nQ 40.53125 48.484375 33.40625 48.484375 \r\nQ 26.265625 48.484375 22.1875 42.84375 \r\nQ 18.109375 37.203125 18.109375 27.296875 \r\nQ 18.109375 17.390625 22.1875 11.75 \r\nQ 26.265625 6.109375 33.40625 6.109375 \r\nQ 40.53125 6.109375 44.609375 11.75 \r\nQ 48.6875 17.390625 48.6875 27.296875 \r\nz\r\n\" id=\"DejaVuSans-112\"/>\r\n       <path d=\"M 30.609375 48.390625 \r\nQ 23.390625 48.390625 19.1875 42.75 \r\nQ 14.984375 37.109375 14.984375 27.296875 \r\nQ 14.984375 17.484375 19.15625 11.84375 \r\nQ 23.34375 6.203125 30.609375 6.203125 \r\nQ 37.796875 6.203125 41.984375 11.859375 \r\nQ 46.1875 17.53125 46.1875 27.296875 \r\nQ 46.1875 37.015625 41.984375 42.703125 \r\nQ 37.796875 48.390625 30.609375 48.390625 \r\nz\r\nM 30.609375 56 \r\nQ 42.328125 56 49.015625 48.375 \r\nQ 55.71875 40.765625 55.71875 27.296875 \r\nQ 55.71875 13.875 49.015625 6.21875 \r\nQ 42.328125 -1.421875 30.609375 -1.421875 \r\nQ 18.84375 -1.421875 12.171875 6.21875 \r\nQ 5.515625 13.875 5.515625 27.296875 \r\nQ 5.515625 40.765625 12.171875 48.375 \r\nQ 18.84375 56 30.609375 56 \r\nz\r\n\" id=\"DejaVuSans-111\"/>\r\n       <path d=\"M 48.78125 52.59375 \r\nL 48.78125 44.1875 \r\nQ 44.96875 46.296875 41.140625 47.34375 \r\nQ 37.3125 48.390625 33.40625 48.390625 \r\nQ 24.65625 48.390625 19.8125 42.84375 \r\nQ 14.984375 37.3125 14.984375 27.296875 \r\nQ 14.984375 17.28125 19.8125 11.734375 \r\nQ 24.65625 6.203125 33.40625 6.203125 \r\nQ 37.3125 6.203125 41.140625 7.25 \r\nQ 44.96875 8.296875 48.78125 10.40625 \r\nL 48.78125 2.09375 \r\nQ 45.015625 0.34375 40.984375 -0.53125 \r\nQ 36.96875 -1.421875 32.421875 -1.421875 \r\nQ 20.0625 -1.421875 12.78125 6.34375 \r\nQ 5.515625 14.109375 5.515625 27.296875 \r\nQ 5.515625 40.671875 12.859375 48.328125 \r\nQ 20.21875 56 33.015625 56 \r\nQ 37.15625 56 41.109375 55.140625 \r\nQ 45.0625 54.296875 48.78125 52.59375 \r\nz\r\n\" id=\"DejaVuSans-99\"/>\r\n       <path d=\"M 44.28125 53.078125 \r\nL 44.28125 44.578125 \r\nQ 40.484375 46.53125 36.375 47.5 \r\nQ 32.28125 48.484375 27.875 48.484375 \r\nQ 21.1875 48.484375 17.84375 46.4375 \r\nQ 14.5 44.390625 14.5 40.28125 \r\nQ 14.5 37.15625 16.890625 35.375 \r\nQ 19.28125 33.59375 26.515625 31.984375 \r\nL 29.59375 31.296875 \r\nQ 39.15625 29.25 43.1875 25.515625 \r\nQ 47.21875 21.78125 47.21875 15.09375 \r\nQ 47.21875 7.46875 41.1875 3.015625 \r\nQ 35.15625 -1.421875 24.609375 -1.421875 \r\nQ 20.21875 -1.421875 15.453125 -0.5625 \r\nQ 10.6875 0.296875 5.421875 2 \r\nL 5.421875 11.28125 \r\nQ 10.40625 8.6875 15.234375 7.390625 \r\nQ 20.0625 6.109375 24.8125 6.109375 \r\nQ 31.15625 6.109375 34.5625 8.28125 \r\nQ 37.984375 10.453125 37.984375 14.40625 \r\nQ 37.984375 18.0625 35.515625 20.015625 \r\nQ 33.0625 21.96875 24.703125 23.78125 \r\nL 21.578125 24.515625 \r\nQ 13.234375 26.265625 9.515625 29.90625 \r\nQ 5.8125 33.546875 5.8125 39.890625 \r\nQ 5.8125 47.609375 11.28125 51.796875 \r\nQ 16.75 56 26.8125 56 \r\nQ 31.78125 56 36.171875 55.265625 \r\nQ 40.578125 54.546875 44.28125 53.078125 \r\nz\r\n\" id=\"DejaVuSans-115\"/>\r\n       <path d=\"M 9.421875 54.6875 \r\nL 18.40625 54.6875 \r\nL 18.40625 0 \r\nL 9.421875 0 \r\nz\r\nM 9.421875 75.984375 \r\nL 18.40625 75.984375 \r\nL 18.40625 64.59375 \r\nL 9.421875 64.59375 \r\nz\r\n\" id=\"DejaVuSans-105\"/>\r\n      </defs>\r\n      <g transform=\"translate(76.564196 508.271875)rotate(-90)scale(0.14 -0.14)\">\r\n       <use xlink:href=\"#DejaVuSans-110\"/>\r\n       <use x=\"63.378906\" xlink:href=\"#DejaVuSans-97\"/>\r\n       <use x=\"124.658203\" xlink:href=\"#DejaVuSans-116\"/>\r\n       <use x=\"163.867188\" xlink:href=\"#DejaVuSans-117\"/>\r\n       <use x=\"227.246094\" xlink:href=\"#DejaVuSans-114\"/>\r\n       <use x=\"268.359375\" xlink:href=\"#DejaVuSans-97\"/>\r\n       <use x=\"329.638672\" xlink:href=\"#DejaVuSans-108\"/>\r\n       <use x=\"357.421875\" xlink:href=\"#DejaVuSans-45\"/>\r\n       <use x=\"393.505859\" xlink:href=\"#DejaVuSans-108\"/>\r\n       <use x=\"421.289062\" xlink:href=\"#DejaVuSans-97\"/>\r\n       <use x=\"482.568359\" xlink:href=\"#DejaVuSans-110\"/>\r\n       <use x=\"545.947266\" xlink:href=\"#DejaVuSans-103\"/>\r\n       <use x=\"609.423828\" xlink:href=\"#DejaVuSans-117\"/>\r\n       <use x=\"672.802734\" xlink:href=\"#DejaVuSans-97\"/>\r\n       <use x=\"734.082031\" xlink:href=\"#DejaVuSans-103\"/>\r\n       <use x=\"797.558594\" xlink:href=\"#DejaVuSans-101\"/>\r\n       <use x=\"859.082031\" xlink:href=\"#DejaVuSans-45\"/>\r\n       <use x=\"895.166016\" xlink:href=\"#DejaVuSans-112\"/>\r\n       <use x=\"958.642578\" xlink:href=\"#DejaVuSans-114\"/>\r\n       <use x=\"999.724609\" xlink:href=\"#DejaVuSans-111\"/>\r\n       <use x=\"1060.90625\" xlink:href=\"#DejaVuSans-99\"/>\r\n       <use x=\"1115.886719\" xlink:href=\"#DejaVuSans-101\"/>\r\n       <use x=\"1177.410156\" xlink:href=\"#DejaVuSans-115\"/>\r\n       <use x=\"1229.509766\" xlink:href=\"#DejaVuSans-115\"/>\r\n       <use x=\"1281.609375\" xlink:href=\"#DejaVuSans-105\"/>\r\n       <use x=\"1309.392578\" xlink:href=\"#DejaVuSans-110\"/>\r\n       <use x=\"1372.771484\" xlink:href=\"#DejaVuSans-103\"/>\r\n      </g>\r\n     </g>\r\n    </g>\r\n    <g id=\"xtick_2\">\r\n     <g id=\"line2d_2\">\r\n      <g>\r\n       <use style=\"stroke:#000000;stroke-width:0.8;\" x=\"112.558214\" xlink:href=\"#m0c0ea4377c\" y=\"300.196875\"/>\r\n      </g>\r\n     </g>\r\n     <g id=\"text_2\">\r\n      <!-- computer-vision -->\r\n      <defs>\r\n       <path d=\"M 52 44.1875 \r\nQ 55.375 50.25 60.0625 53.125 \r\nQ 64.75 56 71.09375 56 \r\nQ 79.640625 56 84.28125 50.015625 \r\nQ 88.921875 44.046875 88.921875 33.015625 \r\nL 88.921875 0 \r\nL 79.890625 0 \r\nL 79.890625 32.71875 \r\nQ 79.890625 40.578125 77.09375 44.375 \r\nQ 74.3125 48.1875 68.609375 48.1875 \r\nQ 61.625 48.1875 57.5625 43.546875 \r\nQ 53.515625 38.921875 53.515625 30.90625 \r\nL 53.515625 0 \r\nL 44.484375 0 \r\nL 44.484375 32.71875 \r\nQ 44.484375 40.625 41.703125 44.40625 \r\nQ 38.921875 48.1875 33.109375 48.1875 \r\nQ 26.21875 48.1875 22.15625 43.53125 \r\nQ 18.109375 38.875 18.109375 30.90625 \r\nL 18.109375 0 \r\nL 9.078125 0 \r\nL 9.078125 54.6875 \r\nL 18.109375 54.6875 \r\nL 18.109375 46.1875 \r\nQ 21.1875 51.21875 25.484375 53.609375 \r\nQ 29.78125 56 35.6875 56 \r\nQ 41.65625 56 45.828125 52.96875 \r\nQ 50 49.953125 52 44.1875 \r\nz\r\n\" id=\"DejaVuSans-109\"/>\r\n       <path d=\"M 2.984375 54.6875 \r\nL 12.5 54.6875 \r\nL 29.59375 8.796875 \r\nL 46.6875 54.6875 \r\nL 56.203125 54.6875 \r\nL 35.6875 0 \r\nL 23.484375 0 \r\nz\r\n\" id=\"DejaVuSans-118\"/>\r\n      </defs>\r\n      <g transform=\"translate(116.421339 420.546562)rotate(-90)scale(0.14 -0.14)\">\r\n       <use xlink:href=\"#DejaVuSans-99\"/>\r\n       <use x=\"54.980469\" xlink:href=\"#DejaVuSans-111\"/>\r\n       <use x=\"116.162109\" xlink:href=\"#DejaVuSans-109\"/>\r\n       <use x=\"213.574219\" xlink:href=\"#DejaVuSans-112\"/>\r\n       <use x=\"277.050781\" xlink:href=\"#DejaVuSans-117\"/>\r\n       <use x=\"340.429688\" xlink:href=\"#DejaVuSans-116\"/>\r\n       <use x=\"379.638672\" xlink:href=\"#DejaVuSans-101\"/>\r\n       <use x=\"441.162109\" xlink:href=\"#DejaVuSans-114\"/>\r\n       <use x=\"482.181641\" xlink:href=\"#DejaVuSans-45\"/>\r\n       <use x=\"518.234375\" xlink:href=\"#DejaVuSans-118\"/>\r\n       <use x=\"577.414062\" xlink:href=\"#DejaVuSans-105\"/>\r\n       <use x=\"605.197266\" xlink:href=\"#DejaVuSans-115\"/>\r\n       <use x=\"657.296875\" xlink:href=\"#DejaVuSans-105\"/>\r\n       <use x=\"685.080078\" xlink:href=\"#DejaVuSans-111\"/>\r\n       <use x=\"746.261719\" xlink:href=\"#DejaVuSans-110\"/>\r\n      </g>\r\n     </g>\r\n    </g>\r\n    <g id=\"xtick_3\">\r\n     <g id=\"line2d_3\">\r\n      <g>\r\n       <use style=\"stroke:#000000;stroke-width:0.8;\" x=\"152.415357\" xlink:href=\"#m0c0ea4377c\" y=\"300.196875\"/>\r\n      </g>\r\n     </g>\r\n     <g id=\"text_3\">\r\n      <!-- pytorch -->\r\n      <defs>\r\n       <path d=\"M 32.171875 -5.078125 \r\nQ 28.375 -14.84375 24.75 -17.8125 \r\nQ 21.140625 -20.796875 15.09375 -20.796875 \r\nL 7.90625 -20.796875 \r\nL 7.90625 -13.28125 \r\nL 13.1875 -13.28125 \r\nQ 16.890625 -13.28125 18.9375 -11.515625 \r\nQ 21 -9.765625 23.484375 -3.21875 \r\nL 25.09375 0.875 \r\nL 2.984375 54.6875 \r\nL 12.5 54.6875 \r\nL 29.59375 11.921875 \r\nL 46.6875 54.6875 \r\nL 56.203125 54.6875 \r\nz\r\n\" id=\"DejaVuSans-121\"/>\r\n       <path d=\"M 54.890625 33.015625 \r\nL 54.890625 0 \r\nL 45.90625 0 \r\nL 45.90625 32.71875 \r\nQ 45.90625 40.484375 42.875 44.328125 \r\nQ 39.84375 48.1875 33.796875 48.1875 \r\nQ 26.515625 48.1875 22.3125 43.546875 \r\nQ 18.109375 38.921875 18.109375 30.90625 \r\nL 18.109375 0 \r\nL 9.078125 0 \r\nL 9.078125 75.984375 \r\nL 18.109375 75.984375 \r\nL 18.109375 46.1875 \r\nQ 21.34375 51.125 25.703125 53.5625 \r\nQ 30.078125 56 35.796875 56 \r\nQ 45.21875 56 50.046875 50.171875 \r\nQ 54.890625 44.34375 54.890625 33.015625 \r\nz\r\n\" id=\"DejaVuSans-104\"/>\r\n      </defs>\r\n      <g transform=\"translate(156.278482 360.746875)rotate(-90)scale(0.14 -0.14)\">\r\n       <use xlink:href=\"#DejaVuSans-112\"/>\r\n       <use x=\"63.476562\" xlink:href=\"#DejaVuSans-121\"/>\r\n       <use x=\"122.65625\" xlink:href=\"#DejaVuSans-116\"/>\r\n       <use x=\"161.865234\" xlink:href=\"#DejaVuSans-111\"/>\r\n       <use x=\"223.046875\" xlink:href=\"#DejaVuSans-114\"/>\r\n       <use x=\"264.128906\" xlink:href=\"#DejaVuSans-99\"/>\r\n       <use x=\"319.109375\" xlink:href=\"#DejaVuSans-104\"/>\r\n      </g>\r\n     </g>\r\n    </g>\r\n    <g id=\"xtick_4\">\r\n     <g id=\"line2d_4\">\r\n      <g>\r\n       <use style=\"stroke:#000000;stroke-width:0.8;\" x=\"192.2725\" xlink:href=\"#m0c0ea4377c\" y=\"300.196875\"/>\r\n      </g>\r\n     </g>\r\n     <g id=\"text_4\">\r\n      <!-- tensorflow -->\r\n      <defs>\r\n       <path d=\"M 37.109375 75.984375 \r\nL 37.109375 68.5 \r\nL 28.515625 68.5 \r\nQ 23.6875 68.5 21.796875 66.546875 \r\nQ 19.921875 64.59375 19.921875 59.515625 \r\nL 19.921875 54.6875 \r\nL 34.71875 54.6875 \r\nL 34.71875 47.703125 \r\nL 19.921875 47.703125 \r\nL 19.921875 0 \r\nL 10.890625 0 \r\nL 10.890625 47.703125 \r\nL 2.296875 47.703125 \r\nL 2.296875 54.6875 \r\nL 10.890625 54.6875 \r\nL 10.890625 58.5 \r\nQ 10.890625 67.625 15.140625 71.796875 \r\nQ 19.390625 75.984375 28.609375 75.984375 \r\nz\r\n\" id=\"DejaVuSans-102\"/>\r\n       <path d=\"M 4.203125 54.6875 \r\nL 13.1875 54.6875 \r\nL 24.421875 12.015625 \r\nL 35.59375 54.6875 \r\nL 46.1875 54.6875 \r\nL 57.421875 12.015625 \r\nL 68.609375 54.6875 \r\nL 77.59375 54.6875 \r\nL 63.28125 0 \r\nL 52.6875 0 \r\nL 40.921875 44.828125 \r\nL 29.109375 0 \r\nL 18.5 0 \r\nz\r\n\" id=\"DejaVuSans-119\"/>\r\n      </defs>\r\n      <g transform=\"translate(196.135625 380.620312)rotate(-90)scale(0.14 -0.14)\">\r\n       <use xlink:href=\"#DejaVuSans-116\"/>\r\n       <use x=\"39.208984\" xlink:href=\"#DejaVuSans-101\"/>\r\n       <use x=\"100.732422\" xlink:href=\"#DejaVuSans-110\"/>\r\n       <use x=\"164.111328\" xlink:href=\"#DejaVuSans-115\"/>\r\n       <use x=\"216.210938\" xlink:href=\"#DejaVuSans-111\"/>\r\n       <use x=\"277.392578\" xlink:href=\"#DejaVuSans-114\"/>\r\n       <use x=\"318.505859\" xlink:href=\"#DejaVuSans-102\"/>\r\n       <use x=\"353.710938\" xlink:href=\"#DejaVuSans-108\"/>\r\n       <use x=\"381.494141\" xlink:href=\"#DejaVuSans-111\"/>\r\n       <use x=\"442.675781\" xlink:href=\"#DejaVuSans-119\"/>\r\n      </g>\r\n     </g>\r\n    </g>\r\n    <g id=\"xtick_5\">\r\n     <g id=\"line2d_5\">\r\n      <g>\r\n       <use style=\"stroke:#000000;stroke-width:0.8;\" x=\"232.129643\" xlink:href=\"#m0c0ea4377c\" y=\"300.196875\"/>\r\n      </g>\r\n     </g>\r\n     <g id=\"text_5\">\r\n      <!-- transformers -->\r\n      <g transform=\"translate(235.992768 397.733125)rotate(-90)scale(0.14 -0.14)\">\r\n       <use xlink:href=\"#DejaVuSans-116\"/>\r\n       <use x=\"39.208984\" xlink:href=\"#DejaVuSans-114\"/>\r\n       <use x=\"80.322266\" xlink:href=\"#DejaVuSans-97\"/>\r\n       <use x=\"141.601562\" xlink:href=\"#DejaVuSans-110\"/>\r\n       <use x=\"204.980469\" xlink:href=\"#DejaVuSans-115\"/>\r\n       <use x=\"257.080078\" xlink:href=\"#DejaVuSans-102\"/>\r\n       <use x=\"292.285156\" xlink:href=\"#DejaVuSans-111\"/>\r\n       <use x=\"353.466797\" xlink:href=\"#DejaVuSans-114\"/>\r\n       <use x=\"394.564453\" xlink:href=\"#DejaVuSans-109\"/>\r\n       <use x=\"491.976562\" xlink:href=\"#DejaVuSans-101\"/>\r\n       <use x=\"553.5\" xlink:href=\"#DejaVuSans-114\"/>\r\n       <use x=\"594.613281\" xlink:href=\"#DejaVuSans-115\"/>\r\n      </g>\r\n     </g>\r\n    </g>\r\n    <g id=\"xtick_6\">\r\n     <g id=\"line2d_6\">\r\n      <g>\r\n       <use style=\"stroke:#000000;stroke-width:0.8;\" x=\"271.986786\" xlink:href=\"#m0c0ea4377c\" y=\"300.196875\"/>\r\n      </g>\r\n     </g>\r\n     <g id=\"text_6\">\r\n      <!-- attention -->\r\n      <g transform=\"translate(275.849911 371.056562)rotate(-90)scale(0.14 -0.14)\">\r\n       <use xlink:href=\"#DejaVuSans-97\"/>\r\n       <use x=\"61.279297\" xlink:href=\"#DejaVuSans-116\"/>\r\n       <use x=\"100.488281\" xlink:href=\"#DejaVuSans-116\"/>\r\n       <use x=\"139.697266\" xlink:href=\"#DejaVuSans-101\"/>\r\n       <use x=\"201.220703\" xlink:href=\"#DejaVuSans-110\"/>\r\n       <use x=\"264.599609\" xlink:href=\"#DejaVuSans-116\"/>\r\n       <use x=\"303.808594\" xlink:href=\"#DejaVuSans-105\"/>\r\n       <use x=\"331.591797\" xlink:href=\"#DejaVuSans-111\"/>\r\n       <use x=\"392.773438\" xlink:href=\"#DejaVuSans-110\"/>\r\n      </g>\r\n     </g>\r\n    </g>\r\n    <g id=\"xtick_7\">\r\n     <g id=\"line2d_7\">\r\n      <g>\r\n       <use style=\"stroke:#000000;stroke-width:0.8;\" x=\"311.843929\" xlink:href=\"#m0c0ea4377c\" y=\"300.196875\"/>\r\n      </g>\r\n     </g>\r\n     <g id=\"text_7\">\r\n      <!-- convolutional-neural-networks -->\r\n      <defs>\r\n       <path d=\"M 9.078125 75.984375 \r\nL 18.109375 75.984375 \r\nL 18.109375 31.109375 \r\nL 44.921875 54.6875 \r\nL 56.390625 54.6875 \r\nL 27.390625 29.109375 \r\nL 57.625 0 \r\nL 45.90625 0 \r\nL 18.109375 26.703125 \r\nL 18.109375 0 \r\nL 9.078125 0 \r\nz\r\n\" id=\"DejaVuSans-107\"/>\r\n      </defs>\r\n      <g transform=\"translate(315.707054 520.064687)rotate(-90)scale(0.14 -0.14)\">\r\n       <use xlink:href=\"#DejaVuSans-99\"/>\r\n       <use x=\"54.980469\" xlink:href=\"#DejaVuSans-111\"/>\r\n       <use x=\"116.162109\" xlink:href=\"#DejaVuSans-110\"/>\r\n       <use x=\"179.541016\" xlink:href=\"#DejaVuSans-118\"/>\r\n       <use x=\"238.720703\" xlink:href=\"#DejaVuSans-111\"/>\r\n       <use x=\"299.902344\" xlink:href=\"#DejaVuSans-108\"/>\r\n       <use x=\"327.685547\" xlink:href=\"#DejaVuSans-117\"/>\r\n       <use x=\"391.064453\" xlink:href=\"#DejaVuSans-116\"/>\r\n       <use x=\"430.273438\" xlink:href=\"#DejaVuSans-105\"/>\r\n       <use x=\"458.056641\" xlink:href=\"#DejaVuSans-111\"/>\r\n       <use x=\"519.238281\" xlink:href=\"#DejaVuSans-110\"/>\r\n       <use x=\"582.617188\" xlink:href=\"#DejaVuSans-97\"/>\r\n       <use x=\"643.896484\" xlink:href=\"#DejaVuSans-108\"/>\r\n       <use x=\"671.679688\" xlink:href=\"#DejaVuSans-45\"/>\r\n       <use x=\"707.763672\" xlink:href=\"#DejaVuSans-110\"/>\r\n       <use x=\"771.142578\" xlink:href=\"#DejaVuSans-101\"/>\r\n       <use x=\"832.666016\" xlink:href=\"#DejaVuSans-117\"/>\r\n       <use x=\"896.044922\" xlink:href=\"#DejaVuSans-114\"/>\r\n       <use x=\"937.158203\" xlink:href=\"#DejaVuSans-97\"/>\r\n       <use x=\"998.4375\" xlink:href=\"#DejaVuSans-108\"/>\r\n       <use x=\"1026.220703\" xlink:href=\"#DejaVuSans-45\"/>\r\n       <use x=\"1062.304688\" xlink:href=\"#DejaVuSans-110\"/>\r\n       <use x=\"1125.683594\" xlink:href=\"#DejaVuSans-101\"/>\r\n       <use x=\"1187.207031\" xlink:href=\"#DejaVuSans-116\"/>\r\n       <use x=\"1226.416016\" xlink:href=\"#DejaVuSans-119\"/>\r\n       <use x=\"1308.203125\" xlink:href=\"#DejaVuSans-111\"/>\r\n       <use x=\"1369.384766\" xlink:href=\"#DejaVuSans-114\"/>\r\n       <use x=\"1410.498047\" xlink:href=\"#DejaVuSans-107\"/>\r\n       <use x=\"1468.408203\" xlink:href=\"#DejaVuSans-115\"/>\r\n      </g>\r\n     </g>\r\n    </g>\r\n    <g id=\"xtick_8\">\r\n     <g id=\"line2d_8\">\r\n      <g>\r\n       <use style=\"stroke:#000000;stroke-width:0.8;\" x=\"351.701071\" xlink:href=\"#m0c0ea4377c\" y=\"300.196875\"/>\r\n      </g>\r\n     </g>\r\n     <g id=\"text_8\">\r\n      <!-- keras -->\r\n      <g transform=\"translate(355.564196 345.539375)rotate(-90)scale(0.14 -0.14)\">\r\n       <use xlink:href=\"#DejaVuSans-107\"/>\r\n       <use x=\"57.863281\" xlink:href=\"#DejaVuSans-101\"/>\r\n       <use x=\"119.386719\" xlink:href=\"#DejaVuSans-114\"/>\r\n       <use x=\"160.5\" xlink:href=\"#DejaVuSans-97\"/>\r\n       <use x=\"221.779297\" xlink:href=\"#DejaVuSans-115\"/>\r\n      </g>\r\n     </g>\r\n    </g>\r\n    <g id=\"xtick_9\">\r\n     <g id=\"line2d_9\">\r\n      <g>\r\n       <use style=\"stroke:#000000;stroke-width:0.8;\" x=\"391.558214\" xlink:href=\"#m0c0ea4377c\" y=\"300.196875\"/>\r\n      </g>\r\n     </g>\r\n     <g id=\"text_9\">\r\n      <!-- graphs -->\r\n      <g transform=\"translate(395.421339 355.472812)rotate(-90)scale(0.14 -0.14)\">\r\n       <use xlink:href=\"#DejaVuSans-103\"/>\r\n       <use x=\"63.476562\" xlink:href=\"#DejaVuSans-114\"/>\r\n       <use x=\"104.589844\" xlink:href=\"#DejaVuSans-97\"/>\r\n       <use x=\"165.869141\" xlink:href=\"#DejaVuSans-112\"/>\r\n       <use x=\"229.345703\" xlink:href=\"#DejaVuSans-104\"/>\r\n       <use x=\"292.724609\" xlink:href=\"#DejaVuSans-115\"/>\r\n      </g>\r\n     </g>\r\n    </g>\r\n    <g id=\"xtick_10\">\r\n     <g id=\"line2d_10\">\r\n      <g>\r\n       <use style=\"stroke:#000000;stroke-width:0.8;\" x=\"431.415357\" xlink:href=\"#m0c0ea4377c\" y=\"300.196875\"/>\r\n      </g>\r\n     </g>\r\n     <g id=\"text_10\">\r\n      <!-- embeddings -->\r\n      <defs>\r\n       <path d=\"M 48.6875 27.296875 \r\nQ 48.6875 37.203125 44.609375 42.84375 \r\nQ 40.53125 48.484375 33.40625 48.484375 \r\nQ 26.265625 48.484375 22.1875 42.84375 \r\nQ 18.109375 37.203125 18.109375 27.296875 \r\nQ 18.109375 17.390625 22.1875 11.75 \r\nQ 26.265625 6.109375 33.40625 6.109375 \r\nQ 40.53125 6.109375 44.609375 11.75 \r\nQ 48.6875 17.390625 48.6875 27.296875 \r\nz\r\nM 18.109375 46.390625 \r\nQ 20.953125 51.265625 25.265625 53.625 \r\nQ 29.59375 56 35.59375 56 \r\nQ 45.5625 56 51.78125 48.09375 \r\nQ 58.015625 40.1875 58.015625 27.296875 \r\nQ 58.015625 14.40625 51.78125 6.484375 \r\nQ 45.5625 -1.421875 35.59375 -1.421875 \r\nQ 29.59375 -1.421875 25.265625 0.953125 \r\nQ 20.953125 3.328125 18.109375 8.203125 \r\nL 18.109375 0 \r\nL 9.078125 0 \r\nL 9.078125 75.984375 \r\nL 18.109375 75.984375 \r\nz\r\n\" id=\"DejaVuSans-98\"/>\r\n       <path d=\"M 45.40625 46.390625 \r\nL 45.40625 75.984375 \r\nL 54.390625 75.984375 \r\nL 54.390625 0 \r\nL 45.40625 0 \r\nL 45.40625 8.203125 \r\nQ 42.578125 3.328125 38.25 0.953125 \r\nQ 33.9375 -1.421875 27.875 -1.421875 \r\nQ 17.96875 -1.421875 11.734375 6.484375 \r\nQ 5.515625 14.40625 5.515625 27.296875 \r\nQ 5.515625 40.1875 11.734375 48.09375 \r\nQ 17.96875 56 27.875 56 \r\nQ 33.9375 56 38.25 53.625 \r\nQ 42.578125 51.265625 45.40625 46.390625 \r\nz\r\nM 14.796875 27.296875 \r\nQ 14.796875 17.390625 18.875 11.75 \r\nQ 22.953125 6.109375 30.078125 6.109375 \r\nQ 37.203125 6.109375 41.296875 11.75 \r\nQ 45.40625 17.390625 45.40625 27.296875 \r\nQ 45.40625 37.203125 41.296875 42.84375 \r\nQ 37.203125 48.484375 30.078125 48.484375 \r\nQ 22.953125 48.484375 18.875 42.84375 \r\nQ 14.796875 37.203125 14.796875 27.296875 \r\nz\r\n\" id=\"DejaVuSans-100\"/>\r\n      </defs>\r\n      <g transform=\"translate(435.278482 393.66875)rotate(-90)scale(0.14 -0.14)\">\r\n       <use xlink:href=\"#DejaVuSans-101\"/>\r\n       <use x=\"61.523438\" xlink:href=\"#DejaVuSans-109\"/>\r\n       <use x=\"158.935547\" xlink:href=\"#DejaVuSans-98\"/>\r\n       <use x=\"222.412109\" xlink:href=\"#DejaVuSans-101\"/>\r\n       <use x=\"283.935547\" xlink:href=\"#DejaVuSans-100\"/>\r\n       <use x=\"347.412109\" xlink:href=\"#DejaVuSans-100\"/>\r\n       <use x=\"410.888672\" xlink:href=\"#DejaVuSans-105\"/>\r\n       <use x=\"438.671875\" xlink:href=\"#DejaVuSans-110\"/>\r\n       <use x=\"502.050781\" xlink:href=\"#DejaVuSans-103\"/>\r\n       <use x=\"565.527344\" xlink:href=\"#DejaVuSans-115\"/>\r\n      </g>\r\n     </g>\r\n    </g>\r\n    <g id=\"xtick_11\">\r\n     <g id=\"line2d_11\">\r\n      <g>\r\n       <use style=\"stroke:#000000;stroke-width:0.8;\" x=\"471.2725\" xlink:href=\"#m0c0ea4377c\" y=\"300.196875\"/>\r\n      </g>\r\n     </g>\r\n     <g id=\"text_11\">\r\n      <!-- generative-adversarial-networks -->\r\n      <g transform=\"translate(475.135625 535.15625)rotate(-90)scale(0.14 -0.14)\">\r\n       <use xlink:href=\"#DejaVuSans-103\"/>\r\n       <use x=\"63.476562\" xlink:href=\"#DejaVuSans-101\"/>\r\n       <use x=\"125\" xlink:href=\"#DejaVuSans-110\"/>\r\n       <use x=\"188.378906\" xlink:href=\"#DejaVuSans-101\"/>\r\n       <use x=\"249.902344\" xlink:href=\"#DejaVuSans-114\"/>\r\n       <use x=\"291.015625\" xlink:href=\"#DejaVuSans-97\"/>\r\n       <use x=\"352.294922\" xlink:href=\"#DejaVuSans-116\"/>\r\n       <use x=\"391.503906\" xlink:href=\"#DejaVuSans-105\"/>\r\n       <use x=\"419.287109\" xlink:href=\"#DejaVuSans-118\"/>\r\n       <use x=\"478.466797\" xlink:href=\"#DejaVuSans-101\"/>\r\n       <use x=\"539.990234\" xlink:href=\"#DejaVuSans-45\"/>\r\n       <use x=\"576.074219\" xlink:href=\"#DejaVuSans-97\"/>\r\n       <use x=\"637.353516\" xlink:href=\"#DejaVuSans-100\"/>\r\n       <use x=\"700.830078\" xlink:href=\"#DejaVuSans-118\"/>\r\n       <use x=\"760.009766\" xlink:href=\"#DejaVuSans-101\"/>\r\n       <use x=\"821.533203\" xlink:href=\"#DejaVuSans-114\"/>\r\n       <use x=\"862.646484\" xlink:href=\"#DejaVuSans-115\"/>\r\n       <use x=\"914.746094\" xlink:href=\"#DejaVuSans-97\"/>\r\n       <use x=\"976.025391\" xlink:href=\"#DejaVuSans-114\"/>\r\n       <use x=\"1017.138672\" xlink:href=\"#DejaVuSans-105\"/>\r\n       <use x=\"1044.921875\" xlink:href=\"#DejaVuSans-97\"/>\r\n       <use x=\"1106.201172\" xlink:href=\"#DejaVuSans-108\"/>\r\n       <use x=\"1133.984375\" xlink:href=\"#DejaVuSans-45\"/>\r\n       <use x=\"1170.068359\" xlink:href=\"#DejaVuSans-110\"/>\r\n       <use x=\"1233.447266\" xlink:href=\"#DejaVuSans-101\"/>\r\n       <use x=\"1294.970703\" xlink:href=\"#DejaVuSans-116\"/>\r\n       <use x=\"1334.179688\" xlink:href=\"#DejaVuSans-119\"/>\r\n       <use x=\"1415.966797\" xlink:href=\"#DejaVuSans-111\"/>\r\n       <use x=\"1477.148438\" xlink:href=\"#DejaVuSans-114\"/>\r\n       <use x=\"1518.261719\" xlink:href=\"#DejaVuSans-107\"/>\r\n       <use x=\"1576.171875\" xlink:href=\"#DejaVuSans-115\"/>\r\n      </g>\r\n     </g>\r\n    </g>\r\n    <g id=\"xtick_12\">\r\n     <g id=\"line2d_12\">\r\n      <g>\r\n       <use style=\"stroke:#000000;stroke-width:0.8;\" x=\"511.129643\" xlink:href=\"#m0c0ea4377c\" y=\"300.196875\"/>\r\n      </g>\r\n     </g>\r\n     <g id=\"text_12\">\r\n      <!-- object-detection -->\r\n      <defs>\r\n       <path d=\"M 9.421875 54.6875 \r\nL 18.40625 54.6875 \r\nL 18.40625 -0.984375 \r\nQ 18.40625 -11.421875 14.421875 -16.109375 \r\nQ 10.453125 -20.796875 1.609375 -20.796875 \r\nL -1.8125 -20.796875 \r\nL -1.8125 -13.1875 \r\nL 0.59375 -13.1875 \r\nQ 5.71875 -13.1875 7.5625 -10.8125 \r\nQ 9.421875 -8.453125 9.421875 -0.984375 \r\nz\r\nM 9.421875 75.984375 \r\nL 18.40625 75.984375 \r\nL 18.40625 64.59375 \r\nL 9.421875 64.59375 \r\nz\r\n\" id=\"DejaVuSans-106\"/>\r\n      </defs>\r\n      <g transform=\"translate(514.992768 421.51125)rotate(-90)scale(0.14 -0.14)\">\r\n       <use xlink:href=\"#DejaVuSans-111\"/>\r\n       <use x=\"61.181641\" xlink:href=\"#DejaVuSans-98\"/>\r\n       <use x=\"124.658203\" xlink:href=\"#DejaVuSans-106\"/>\r\n       <use x=\"152.441406\" xlink:href=\"#DejaVuSans-101\"/>\r\n       <use x=\"213.964844\" xlink:href=\"#DejaVuSans-99\"/>\r\n       <use x=\"268.945312\" xlink:href=\"#DejaVuSans-116\"/>\r\n       <use x=\"308.154297\" xlink:href=\"#DejaVuSans-45\"/>\r\n       <use x=\"344.238281\" xlink:href=\"#DejaVuSans-100\"/>\r\n       <use x=\"407.714844\" xlink:href=\"#DejaVuSans-101\"/>\r\n       <use x=\"469.238281\" xlink:href=\"#DejaVuSans-116\"/>\r\n       <use x=\"508.447266\" xlink:href=\"#DejaVuSans-101\"/>\r\n       <use x=\"569.970703\" xlink:href=\"#DejaVuSans-99\"/>\r\n       <use x=\"624.951172\" xlink:href=\"#DejaVuSans-116\"/>\r\n       <use x=\"664.160156\" xlink:href=\"#DejaVuSans-105\"/>\r\n       <use x=\"691.943359\" xlink:href=\"#DejaVuSans-111\"/>\r\n       <use x=\"753.125\" xlink:href=\"#DejaVuSans-110\"/>\r\n      </g>\r\n     </g>\r\n    </g>\r\n    <g id=\"xtick_13\">\r\n     <g id=\"line2d_13\">\r\n      <g>\r\n       <use style=\"stroke:#000000;stroke-width:0.8;\" x=\"550.986786\" xlink:href=\"#m0c0ea4377c\" y=\"300.196875\"/>\r\n      </g>\r\n     </g>\r\n     <g id=\"text_13\">\r\n      <!-- huggingface -->\r\n      <g transform=\"translate(554.849911 394.187187)rotate(-90)scale(0.14 -0.14)\">\r\n       <use xlink:href=\"#DejaVuSans-104\"/>\r\n       <use x=\"63.378906\" xlink:href=\"#DejaVuSans-117\"/>\r\n       <use x=\"126.757812\" xlink:href=\"#DejaVuSans-103\"/>\r\n       <use x=\"190.234375\" xlink:href=\"#DejaVuSans-103\"/>\r\n       <use x=\"253.710938\" xlink:href=\"#DejaVuSans-105\"/>\r\n       <use x=\"281.494141\" xlink:href=\"#DejaVuSans-110\"/>\r\n       <use x=\"344.873047\" xlink:href=\"#DejaVuSans-103\"/>\r\n       <use x=\"408.349609\" xlink:href=\"#DejaVuSans-102\"/>\r\n       <use x=\"443.554688\" xlink:href=\"#DejaVuSans-97\"/>\r\n       <use x=\"504.833984\" xlink:href=\"#DejaVuSans-99\"/>\r\n       <use x=\"559.814453\" xlink:href=\"#DejaVuSans-101\"/>\r\n      </g>\r\n     </g>\r\n    </g>\r\n    <g id=\"xtick_14\">\r\n     <g id=\"line2d_14\">\r\n      <g>\r\n       <use style=\"stroke:#000000;stroke-width:0.8;\" x=\"590.843929\" xlink:href=\"#m0c0ea4377c\" y=\"300.196875\"/>\r\n      </g>\r\n     </g>\r\n     <g id=\"text_14\">\r\n      <!-- scikit-learn -->\r\n      <g transform=\"translate(594.707054 384.321562)rotate(-90)scale(0.14 -0.14)\">\r\n       <use xlink:href=\"#DejaVuSans-115\"/>\r\n       <use x=\"52.099609\" xlink:href=\"#DejaVuSans-99\"/>\r\n       <use x=\"107.080078\" xlink:href=\"#DejaVuSans-105\"/>\r\n       <use x=\"134.863281\" xlink:href=\"#DejaVuSans-107\"/>\r\n       <use x=\"192.773438\" xlink:href=\"#DejaVuSans-105\"/>\r\n       <use x=\"220.556641\" xlink:href=\"#DejaVuSans-116\"/>\r\n       <use x=\"259.765625\" xlink:href=\"#DejaVuSans-45\"/>\r\n       <use x=\"295.849609\" xlink:href=\"#DejaVuSans-108\"/>\r\n       <use x=\"323.632812\" xlink:href=\"#DejaVuSans-101\"/>\r\n       <use x=\"385.15625\" xlink:href=\"#DejaVuSans-97\"/>\r\n       <use x=\"446.435547\" xlink:href=\"#DejaVuSans-114\"/>\r\n       <use x=\"487.533203\" xlink:href=\"#DejaVuSans-110\"/>\r\n      </g>\r\n     </g>\r\n    </g>\r\n    <g id=\"xtick_15\">\r\n     <g id=\"line2d_15\">\r\n      <g>\r\n       <use style=\"stroke:#000000;stroke-width:0.8;\" x=\"630.701071\" xlink:href=\"#m0c0ea4377c\" y=\"300.196875\"/>\r\n      </g>\r\n     </g>\r\n     <g id=\"text_15\">\r\n      <!-- reinforcement-learning -->\r\n      <g transform=\"translate(634.564196 468.903437)rotate(-90)scale(0.14 -0.14)\">\r\n       <use xlink:href=\"#DejaVuSans-114\"/>\r\n       <use x=\"41.082031\" xlink:href=\"#DejaVuSans-101\"/>\r\n       <use x=\"102.605469\" xlink:href=\"#DejaVuSans-105\"/>\r\n       <use x=\"130.388672\" xlink:href=\"#DejaVuSans-110\"/>\r\n       <use x=\"193.767578\" xlink:href=\"#DejaVuSans-102\"/>\r\n       <use x=\"228.972656\" xlink:href=\"#DejaVuSans-111\"/>\r\n       <use x=\"290.154297\" xlink:href=\"#DejaVuSans-114\"/>\r\n       <use x=\"331.236328\" xlink:href=\"#DejaVuSans-99\"/>\r\n       <use x=\"386.216797\" xlink:href=\"#DejaVuSans-101\"/>\r\n       <use x=\"447.740234\" xlink:href=\"#DejaVuSans-109\"/>\r\n       <use x=\"545.152344\" xlink:href=\"#DejaVuSans-101\"/>\r\n       <use x=\"606.675781\" xlink:href=\"#DejaVuSans-110\"/>\r\n       <use x=\"670.054688\" xlink:href=\"#DejaVuSans-116\"/>\r\n       <use x=\"709.263672\" xlink:href=\"#DejaVuSans-45\"/>\r\n       <use x=\"745.347656\" xlink:href=\"#DejaVuSans-108\"/>\r\n       <use x=\"773.130859\" xlink:href=\"#DejaVuSans-101\"/>\r\n       <use x=\"834.654297\" xlink:href=\"#DejaVuSans-97\"/>\r\n       <use x=\"895.933594\" xlink:href=\"#DejaVuSans-114\"/>\r\n       <use x=\"937.03125\" xlink:href=\"#DejaVuSans-110\"/>\r\n       <use x=\"1000.410156\" xlink:href=\"#DejaVuSans-105\"/>\r\n       <use x=\"1028.193359\" xlink:href=\"#DejaVuSans-110\"/>\r\n       <use x=\"1091.572266\" xlink:href=\"#DejaVuSans-103\"/>\r\n      </g>\r\n     </g>\r\n    </g>\r\n    <g id=\"xtick_16\">\r\n     <g id=\"line2d_16\">\r\n      <g>\r\n       <use style=\"stroke:#000000;stroke-width:0.8;\" x=\"670.558214\" xlink:href=\"#m0c0ea4377c\" y=\"300.196875\"/>\r\n      </g>\r\n     </g>\r\n     <g id=\"text_16\">\r\n      <!-- representation-learning -->\r\n      <g transform=\"translate(674.421339 472.889063)rotate(-90)scale(0.14 -0.14)\">\r\n       <use xlink:href=\"#DejaVuSans-114\"/>\r\n       <use x=\"41.082031\" xlink:href=\"#DejaVuSans-101\"/>\r\n       <use x=\"102.605469\" xlink:href=\"#DejaVuSans-112\"/>\r\n       <use x=\"166.082031\" xlink:href=\"#DejaVuSans-114\"/>\r\n       <use x=\"207.164062\" xlink:href=\"#DejaVuSans-101\"/>\r\n       <use x=\"268.6875\" xlink:href=\"#DejaVuSans-115\"/>\r\n       <use x=\"320.787109\" xlink:href=\"#DejaVuSans-101\"/>\r\n       <use x=\"382.310547\" xlink:href=\"#DejaVuSans-110\"/>\r\n       <use x=\"445.689453\" xlink:href=\"#DejaVuSans-116\"/>\r\n       <use x=\"484.898438\" xlink:href=\"#DejaVuSans-97\"/>\r\n       <use x=\"546.177734\" xlink:href=\"#DejaVuSans-116\"/>\r\n       <use x=\"585.386719\" xlink:href=\"#DejaVuSans-105\"/>\r\n       <use x=\"613.169922\" xlink:href=\"#DejaVuSans-111\"/>\r\n       <use x=\"674.351562\" xlink:href=\"#DejaVuSans-110\"/>\r\n       <use x=\"737.730469\" xlink:href=\"#DejaVuSans-45\"/>\r\n       <use x=\"773.814453\" xlink:href=\"#DejaVuSans-108\"/>\r\n       <use x=\"801.597656\" xlink:href=\"#DejaVuSans-101\"/>\r\n       <use x=\"863.121094\" xlink:href=\"#DejaVuSans-97\"/>\r\n       <use x=\"924.400391\" xlink:href=\"#DejaVuSans-114\"/>\r\n       <use x=\"965.498047\" xlink:href=\"#DejaVuSans-110\"/>\r\n       <use x=\"1028.876953\" xlink:href=\"#DejaVuSans-105\"/>\r\n       <use x=\"1056.660156\" xlink:href=\"#DejaVuSans-110\"/>\r\n       <use x=\"1120.039062\" xlink:href=\"#DejaVuSans-103\"/>\r\n      </g>\r\n     </g>\r\n    </g>\r\n    <g id=\"xtick_17\">\r\n     <g id=\"line2d_17\">\r\n      <g>\r\n       <use style=\"stroke:#000000;stroke-width:0.8;\" x=\"710.415357\" xlink:href=\"#m0c0ea4377c\" y=\"300.196875\"/>\r\n      </g>\r\n     </g>\r\n     <g id=\"text_17\">\r\n      <!-- interpretability -->\r\n      <g transform=\"translate(714.278482 411.468437)rotate(-90)scale(0.14 -0.14)\">\r\n       <use xlink:href=\"#DejaVuSans-105\"/>\r\n       <use x=\"27.783203\" xlink:href=\"#DejaVuSans-110\"/>\r\n       <use x=\"91.162109\" xlink:href=\"#DejaVuSans-116\"/>\r\n       <use x=\"130.371094\" xlink:href=\"#DejaVuSans-101\"/>\r\n       <use x=\"191.894531\" xlink:href=\"#DejaVuSans-114\"/>\r\n       <use x=\"233.007812\" xlink:href=\"#DejaVuSans-112\"/>\r\n       <use x=\"296.484375\" xlink:href=\"#DejaVuSans-114\"/>\r\n       <use x=\"337.566406\" xlink:href=\"#DejaVuSans-101\"/>\r\n       <use x=\"399.089844\" xlink:href=\"#DejaVuSans-116\"/>\r\n       <use x=\"438.298828\" xlink:href=\"#DejaVuSans-97\"/>\r\n       <use x=\"499.578125\" xlink:href=\"#DejaVuSans-98\"/>\r\n       <use x=\"563.054688\" xlink:href=\"#DejaVuSans-105\"/>\r\n       <use x=\"590.837891\" xlink:href=\"#DejaVuSans-108\"/>\r\n       <use x=\"618.621094\" xlink:href=\"#DejaVuSans-105\"/>\r\n       <use x=\"646.404297\" xlink:href=\"#DejaVuSans-116\"/>\r\n       <use x=\"685.613281\" xlink:href=\"#DejaVuSans-121\"/>\r\n      </g>\r\n     </g>\r\n    </g>\r\n    <g id=\"xtick_18\">\r\n     <g id=\"line2d_18\">\r\n      <g>\r\n       <use style=\"stroke:#000000;stroke-width:0.8;\" x=\"750.2725\" xlink:href=\"#m0c0ea4377c\" y=\"300.196875\"/>\r\n      </g>\r\n     </g>\r\n     <g id=\"text_18\">\r\n      <!-- image-classification -->\r\n      <g transform=\"translate(754.135625 446.409375)rotate(-90)scale(0.14 -0.14)\">\r\n       <use xlink:href=\"#DejaVuSans-105\"/>\r\n       <use x=\"27.783203\" xlink:href=\"#DejaVuSans-109\"/>\r\n       <use x=\"125.195312\" xlink:href=\"#DejaVuSans-97\"/>\r\n       <use x=\"186.474609\" xlink:href=\"#DejaVuSans-103\"/>\r\n       <use x=\"249.951172\" xlink:href=\"#DejaVuSans-101\"/>\r\n       <use x=\"311.474609\" xlink:href=\"#DejaVuSans-45\"/>\r\n       <use x=\"347.558594\" xlink:href=\"#DejaVuSans-99\"/>\r\n       <use x=\"402.539062\" xlink:href=\"#DejaVuSans-108\"/>\r\n       <use x=\"430.322266\" xlink:href=\"#DejaVuSans-97\"/>\r\n       <use x=\"491.601562\" xlink:href=\"#DejaVuSans-115\"/>\r\n       <use x=\"543.701172\" xlink:href=\"#DejaVuSans-115\"/>\r\n       <use x=\"595.800781\" xlink:href=\"#DejaVuSans-105\"/>\r\n       <use x=\"623.583984\" xlink:href=\"#DejaVuSans-102\"/>\r\n       <use x=\"658.789062\" xlink:href=\"#DejaVuSans-105\"/>\r\n       <use x=\"686.572266\" xlink:href=\"#DejaVuSans-99\"/>\r\n       <use x=\"741.552734\" xlink:href=\"#DejaVuSans-97\"/>\r\n       <use x=\"802.832031\" xlink:href=\"#DejaVuSans-116\"/>\r\n       <use x=\"842.041016\" xlink:href=\"#DejaVuSans-105\"/>\r\n       <use x=\"869.824219\" xlink:href=\"#DejaVuSans-111\"/>\r\n       <use x=\"931.005859\" xlink:href=\"#DejaVuSans-110\"/>\r\n      </g>\r\n     </g>\r\n    </g>\r\n    <g id=\"xtick_19\">\r\n     <g id=\"line2d_19\">\r\n      <g>\r\n       <use style=\"stroke:#000000;stroke-width:0.8;\" x=\"790.129643\" xlink:href=\"#m0c0ea4377c\" y=\"300.196875\"/>\r\n      </g>\r\n     </g>\r\n     <g id=\"text_19\">\r\n      <!-- production -->\r\n      <g transform=\"translate(793.992768 382.676562)rotate(-90)scale(0.14 -0.14)\">\r\n       <use xlink:href=\"#DejaVuSans-112\"/>\r\n       <use x=\"63.476562\" xlink:href=\"#DejaVuSans-114\"/>\r\n       <use x=\"104.558594\" xlink:href=\"#DejaVuSans-111\"/>\r\n       <use x=\"165.740234\" xlink:href=\"#DejaVuSans-100\"/>\r\n       <use x=\"229.216797\" xlink:href=\"#DejaVuSans-117\"/>\r\n       <use x=\"292.595703\" xlink:href=\"#DejaVuSans-99\"/>\r\n       <use x=\"347.576172\" xlink:href=\"#DejaVuSans-116\"/>\r\n       <use x=\"386.785156\" xlink:href=\"#DejaVuSans-105\"/>\r\n       <use x=\"414.568359\" xlink:href=\"#DejaVuSans-111\"/>\r\n       <use x=\"475.75\" xlink:href=\"#DejaVuSans-110\"/>\r\n      </g>\r\n     </g>\r\n    </g>\r\n    <g id=\"xtick_20\">\r\n     <g id=\"line2d_20\">\r\n      <g>\r\n       <use style=\"stroke:#000000;stroke-width:0.8;\" x=\"829.986786\" xlink:href=\"#m0c0ea4377c\" y=\"300.196875\"/>\r\n      </g>\r\n     </g>\r\n     <g id=\"text_20\">\r\n      <!-- language-modeling -->\r\n      <g transform=\"translate(833.849911 442.675313)rotate(-90)scale(0.14 -0.14)\">\r\n       <use xlink:href=\"#DejaVuSans-108\"/>\r\n       <use x=\"27.783203\" xlink:href=\"#DejaVuSans-97\"/>\r\n       <use x=\"89.0625\" xlink:href=\"#DejaVuSans-110\"/>\r\n       <use x=\"152.441406\" xlink:href=\"#DejaVuSans-103\"/>\r\n       <use x=\"215.917969\" xlink:href=\"#DejaVuSans-117\"/>\r\n       <use x=\"279.296875\" xlink:href=\"#DejaVuSans-97\"/>\r\n       <use x=\"340.576172\" xlink:href=\"#DejaVuSans-103\"/>\r\n       <use x=\"404.052734\" xlink:href=\"#DejaVuSans-101\"/>\r\n       <use x=\"465.576172\" xlink:href=\"#DejaVuSans-45\"/>\r\n       <use x=\"501.660156\" xlink:href=\"#DejaVuSans-109\"/>\r\n       <use x=\"599.072266\" xlink:href=\"#DejaVuSans-111\"/>\r\n       <use x=\"660.253906\" xlink:href=\"#DejaVuSans-100\"/>\r\n       <use x=\"723.730469\" xlink:href=\"#DejaVuSans-101\"/>\r\n       <use x=\"785.253906\" xlink:href=\"#DejaVuSans-108\"/>\r\n       <use x=\"813.037109\" xlink:href=\"#DejaVuSans-105\"/>\r\n       <use x=\"840.820312\" xlink:href=\"#DejaVuSans-110\"/>\r\n       <use x=\"904.199219\" xlink:href=\"#DejaVuSans-103\"/>\r\n      </g>\r\n     </g>\r\n    </g>\r\n    <g id=\"xtick_21\">\r\n     <g id=\"line2d_21\">\r\n      <g>\r\n       <use style=\"stroke:#000000;stroke-width:0.8;\" x=\"869.843929\" xlink:href=\"#m0c0ea4377c\" y=\"300.196875\"/>\r\n      </g>\r\n     </g>\r\n     <g id=\"text_21\">\r\n      <!-- graph-neural-networks -->\r\n      <g transform=\"translate(873.707054 467.01125)rotate(-90)scale(0.14 -0.14)\">\r\n       <use xlink:href=\"#DejaVuSans-103\"/>\r\n       <use x=\"63.476562\" xlink:href=\"#DejaVuSans-114\"/>\r\n       <use x=\"104.589844\" xlink:href=\"#DejaVuSans-97\"/>\r\n       <use x=\"165.869141\" xlink:href=\"#DejaVuSans-112\"/>\r\n       <use x=\"229.345703\" xlink:href=\"#DejaVuSans-104\"/>\r\n       <use x=\"292.724609\" xlink:href=\"#DejaVuSans-45\"/>\r\n       <use x=\"328.808594\" xlink:href=\"#DejaVuSans-110\"/>\r\n       <use x=\"392.1875\" xlink:href=\"#DejaVuSans-101\"/>\r\n       <use x=\"453.710938\" xlink:href=\"#DejaVuSans-117\"/>\r\n       <use x=\"517.089844\" xlink:href=\"#DejaVuSans-114\"/>\r\n       <use x=\"558.203125\" xlink:href=\"#DejaVuSans-97\"/>\r\n       <use x=\"619.482422\" xlink:href=\"#DejaVuSans-108\"/>\r\n       <use x=\"647.265625\" xlink:href=\"#DejaVuSans-45\"/>\r\n       <use x=\"683.349609\" xlink:href=\"#DejaVuSans-110\"/>\r\n       <use x=\"746.728516\" xlink:href=\"#DejaVuSans-101\"/>\r\n       <use x=\"808.251953\" xlink:href=\"#DejaVuSans-116\"/>\r\n       <use x=\"847.460938\" xlink:href=\"#DejaVuSans-119\"/>\r\n       <use x=\"929.248047\" xlink:href=\"#DejaVuSans-111\"/>\r\n       <use x=\"990.429688\" xlink:href=\"#DejaVuSans-114\"/>\r\n       <use x=\"1031.542969\" xlink:href=\"#DejaVuSans-107\"/>\r\n       <use x=\"1089.453125\" xlink:href=\"#DejaVuSans-115\"/>\r\n      </g>\r\n     </g>\r\n    </g>\r\n    <g id=\"xtick_22\">\r\n     <g id=\"line2d_22\">\r\n      <g>\r\n       <use style=\"stroke:#000000;stroke-width:0.8;\" x=\"909.701071\" xlink:href=\"#m0c0ea4377c\" y=\"300.196875\"/>\r\n      </g>\r\n     </g>\r\n     <g id=\"text_22\">\r\n      <!-- regression -->\r\n      <g transform=\"translate(913.564196 380.729687)rotate(-90)scale(0.14 -0.14)\">\r\n       <use xlink:href=\"#DejaVuSans-114\"/>\r\n       <use x=\"41.082031\" xlink:href=\"#DejaVuSans-101\"/>\r\n       <use x=\"102.605469\" xlink:href=\"#DejaVuSans-103\"/>\r\n       <use x=\"166.082031\" xlink:href=\"#DejaVuSans-114\"/>\r\n       <use x=\"207.164062\" xlink:href=\"#DejaVuSans-101\"/>\r\n       <use x=\"268.6875\" xlink:href=\"#DejaVuSans-115\"/>\r\n       <use x=\"320.787109\" xlink:href=\"#DejaVuSans-115\"/>\r\n       <use x=\"372.886719\" xlink:href=\"#DejaVuSans-105\"/>\r\n       <use x=\"400.669922\" xlink:href=\"#DejaVuSans-111\"/>\r\n       <use x=\"461.851562\" xlink:href=\"#DejaVuSans-110\"/>\r\n      </g>\r\n     </g>\r\n    </g>\r\n    <g id=\"xtick_23\">\r\n     <g id=\"line2d_23\">\r\n      <g>\r\n       <use style=\"stroke:#000000;stroke-width:0.8;\" x=\"949.558214\" xlink:href=\"#m0c0ea4377c\" y=\"300.196875\"/>\r\n      </g>\r\n     </g>\r\n     <g id=\"text_23\">\r\n      <!-- segmentation -->\r\n      <g transform=\"translate(953.421339 404.000313)rotate(-90)scale(0.14 -0.14)\">\r\n       <use xlink:href=\"#DejaVuSans-115\"/>\r\n       <use x=\"52.099609\" xlink:href=\"#DejaVuSans-101\"/>\r\n       <use x=\"113.623047\" xlink:href=\"#DejaVuSans-103\"/>\r\n       <use x=\"177.099609\" xlink:href=\"#DejaVuSans-109\"/>\r\n       <use x=\"274.511719\" xlink:href=\"#DejaVuSans-101\"/>\r\n       <use x=\"336.035156\" xlink:href=\"#DejaVuSans-110\"/>\r\n       <use x=\"399.414062\" xlink:href=\"#DejaVuSans-116\"/>\r\n       <use x=\"438.623047\" xlink:href=\"#DejaVuSans-97\"/>\r\n       <use x=\"499.902344\" xlink:href=\"#DejaVuSans-116\"/>\r\n       <use x=\"539.111328\" xlink:href=\"#DejaVuSans-105\"/>\r\n       <use x=\"566.894531\" xlink:href=\"#DejaVuSans-111\"/>\r\n       <use x=\"628.076172\" xlink:href=\"#DejaVuSans-110\"/>\r\n      </g>\r\n     </g>\r\n    </g>\r\n    <g id=\"xtick_24\">\r\n     <g id=\"line2d_24\">\r\n      <g>\r\n       <use style=\"stroke:#000000;stroke-width:0.8;\" x=\"989.415357\" xlink:href=\"#m0c0ea4377c\" y=\"300.196875\"/>\r\n      </g>\r\n     </g>\r\n     <g id=\"text_24\">\r\n      <!-- transfer-learning -->\r\n      <g transform=\"translate(993.278482 424.88)rotate(-90)scale(0.14 -0.14)\">\r\n       <use xlink:href=\"#DejaVuSans-116\"/>\r\n       <use x=\"39.208984\" xlink:href=\"#DejaVuSans-114\"/>\r\n       <use x=\"80.322266\" xlink:href=\"#DejaVuSans-97\"/>\r\n       <use x=\"141.601562\" xlink:href=\"#DejaVuSans-110\"/>\r\n       <use x=\"204.980469\" xlink:href=\"#DejaVuSans-115\"/>\r\n       <use x=\"257.080078\" xlink:href=\"#DejaVuSans-102\"/>\r\n       <use x=\"292.285156\" xlink:href=\"#DejaVuSans-101\"/>\r\n       <use x=\"353.808594\" xlink:href=\"#DejaVuSans-114\"/>\r\n       <use x=\"394.828125\" xlink:href=\"#DejaVuSans-45\"/>\r\n       <use x=\"430.912109\" xlink:href=\"#DejaVuSans-108\"/>\r\n       <use x=\"458.695312\" xlink:href=\"#DejaVuSans-101\"/>\r\n       <use x=\"520.21875\" xlink:href=\"#DejaVuSans-97\"/>\r\n       <use x=\"581.498047\" xlink:href=\"#DejaVuSans-114\"/>\r\n       <use x=\"622.595703\" xlink:href=\"#DejaVuSans-110\"/>\r\n       <use x=\"685.974609\" xlink:href=\"#DejaVuSans-105\"/>\r\n       <use x=\"713.757812\" xlink:href=\"#DejaVuSans-110\"/>\r\n       <use x=\"777.136719\" xlink:href=\"#DejaVuSans-103\"/>\r\n      </g>\r\n     </g>\r\n    </g>\r\n    <g id=\"xtick_25\">\r\n     <g id=\"line2d_25\">\r\n      <g>\r\n       <use style=\"stroke:#000000;stroke-width:0.8;\" x=\"1029.2725\" xlink:href=\"#m0c0ea4377c\" y=\"300.196875\"/>\r\n      </g>\r\n     </g>\r\n     <g id=\"text_25\">\r\n      <!-- data-augmentation -->\r\n      <g transform=\"translate(1033.135625 442.130625)rotate(-90)scale(0.14 -0.14)\">\r\n       <use xlink:href=\"#DejaVuSans-100\"/>\r\n       <use x=\"63.476562\" xlink:href=\"#DejaVuSans-97\"/>\r\n       <use x=\"124.755859\" xlink:href=\"#DejaVuSans-116\"/>\r\n       <use x=\"163.964844\" xlink:href=\"#DejaVuSans-97\"/>\r\n       <use x=\"225.244141\" xlink:href=\"#DejaVuSans-45\"/>\r\n       <use x=\"261.328125\" xlink:href=\"#DejaVuSans-97\"/>\r\n       <use x=\"322.607422\" xlink:href=\"#DejaVuSans-117\"/>\r\n       <use x=\"385.986328\" xlink:href=\"#DejaVuSans-103\"/>\r\n       <use x=\"449.462891\" xlink:href=\"#DejaVuSans-109\"/>\r\n       <use x=\"546.875\" xlink:href=\"#DejaVuSans-101\"/>\r\n       <use x=\"608.398438\" xlink:href=\"#DejaVuSans-110\"/>\r\n       <use x=\"671.777344\" xlink:href=\"#DejaVuSans-116\"/>\r\n       <use x=\"710.986328\" xlink:href=\"#DejaVuSans-97\"/>\r\n       <use x=\"772.265625\" xlink:href=\"#DejaVuSans-116\"/>\r\n       <use x=\"811.474609\" xlink:href=\"#DejaVuSans-105\"/>\r\n       <use x=\"839.257812\" xlink:href=\"#DejaVuSans-111\"/>\r\n       <use x=\"900.439453\" xlink:href=\"#DejaVuSans-110\"/>\r\n      </g>\r\n     </g>\r\n    </g>\r\n    <g id=\"xtick_26\">\r\n     <g id=\"line2d_26\">\r\n      <g>\r\n       <use style=\"stroke:#000000;stroke-width:0.8;\" x=\"1069.129643\" xlink:href=\"#m0c0ea4377c\" y=\"300.196875\"/>\r\n      </g>\r\n     </g>\r\n     <g id=\"text_26\">\r\n      <!-- autoencoders -->\r\n      <g transform=\"translate(1072.992768 403.005)rotate(-90)scale(0.14 -0.14)\">\r\n       <use xlink:href=\"#DejaVuSans-97\"/>\r\n       <use x=\"61.279297\" xlink:href=\"#DejaVuSans-117\"/>\r\n       <use x=\"124.658203\" xlink:href=\"#DejaVuSans-116\"/>\r\n       <use x=\"163.867188\" xlink:href=\"#DejaVuSans-111\"/>\r\n       <use x=\"225.048828\" xlink:href=\"#DejaVuSans-101\"/>\r\n       <use x=\"286.572266\" xlink:href=\"#DejaVuSans-110\"/>\r\n       <use x=\"349.951172\" xlink:href=\"#DejaVuSans-99\"/>\r\n       <use x=\"404.931641\" xlink:href=\"#DejaVuSans-111\"/>\r\n       <use x=\"466.113281\" xlink:href=\"#DejaVuSans-100\"/>\r\n       <use x=\"529.589844\" xlink:href=\"#DejaVuSans-101\"/>\r\n       <use x=\"591.113281\" xlink:href=\"#DejaVuSans-114\"/>\r\n       <use x=\"632.226562\" xlink:href=\"#DejaVuSans-115\"/>\r\n      </g>\r\n     </g>\r\n    </g>\r\n    <g id=\"xtick_27\">\r\n     <g id=\"line2d_27\">\r\n      <g>\r\n       <use style=\"stroke:#000000;stroke-width:0.8;\" x=\"1108.986786\" xlink:href=\"#m0c0ea4377c\" y=\"300.196875\"/>\r\n      </g>\r\n     </g>\r\n     <g id=\"text_27\">\r\n      <!-- self-supervised-learning -->\r\n      <g transform=\"translate(1112.849911 475.765625)rotate(-90)scale(0.14 -0.14)\">\r\n       <use xlink:href=\"#DejaVuSans-115\"/>\r\n       <use x=\"52.099609\" xlink:href=\"#DejaVuSans-101\"/>\r\n       <use x=\"113.623047\" xlink:href=\"#DejaVuSans-108\"/>\r\n       <use x=\"141.40625\" xlink:href=\"#DejaVuSans-102\"/>\r\n       <use x=\"176.533203\" xlink:href=\"#DejaVuSans-45\"/>\r\n       <use x=\"212.617188\" xlink:href=\"#DejaVuSans-115\"/>\r\n       <use x=\"264.716797\" xlink:href=\"#DejaVuSans-117\"/>\r\n       <use x=\"328.095703\" xlink:href=\"#DejaVuSans-112\"/>\r\n       <use x=\"391.572266\" xlink:href=\"#DejaVuSans-101\"/>\r\n       <use x=\"453.095703\" xlink:href=\"#DejaVuSans-114\"/>\r\n       <use x=\"494.208984\" xlink:href=\"#DejaVuSans-118\"/>\r\n       <use x=\"553.388672\" xlink:href=\"#DejaVuSans-105\"/>\r\n       <use x=\"581.171875\" xlink:href=\"#DejaVuSans-115\"/>\r\n       <use x=\"633.271484\" xlink:href=\"#DejaVuSans-101\"/>\r\n       <use x=\"694.794922\" xlink:href=\"#DejaVuSans-100\"/>\r\n       <use x=\"758.271484\" xlink:href=\"#DejaVuSans-45\"/>\r\n       <use x=\"794.355469\" xlink:href=\"#DejaVuSans-108\"/>\r\n       <use x=\"822.138672\" xlink:href=\"#DejaVuSans-101\"/>\r\n       <use x=\"883.662109\" xlink:href=\"#DejaVuSans-97\"/>\r\n       <use x=\"944.941406\" xlink:href=\"#DejaVuSans-114\"/>\r\n       <use x=\"986.039062\" xlink:href=\"#DejaVuSans-110\"/>\r\n       <use x=\"1049.417969\" xlink:href=\"#DejaVuSans-105\"/>\r\n       <use x=\"1077.201172\" xlink:href=\"#DejaVuSans-110\"/>\r\n       <use x=\"1140.580078\" xlink:href=\"#DejaVuSans-103\"/>\r\n      </g>\r\n     </g>\r\n    </g>\r\n    <g id=\"xtick_28\">\r\n     <g id=\"line2d_28\">\r\n      <g>\r\n       <use style=\"stroke:#000000;stroke-width:0.8;\" x=\"1148.843929\" xlink:href=\"#m0c0ea4377c\" y=\"300.196875\"/>\r\n      </g>\r\n     </g>\r\n     <g id=\"text_28\">\r\n      <!-- tensorflow-js -->\r\n      <g transform=\"translate(1152.707054 396.85375)rotate(-90)scale(0.14 -0.14)\">\r\n       <use xlink:href=\"#DejaVuSans-116\"/>\r\n       <use x=\"39.208984\" xlink:href=\"#DejaVuSans-101\"/>\r\n       <use x=\"100.732422\" xlink:href=\"#DejaVuSans-110\"/>\r\n       <use x=\"164.111328\" xlink:href=\"#DejaVuSans-115\"/>\r\n       <use x=\"216.210938\" xlink:href=\"#DejaVuSans-111\"/>\r\n       <use x=\"277.392578\" xlink:href=\"#DejaVuSans-114\"/>\r\n       <use x=\"318.505859\" xlink:href=\"#DejaVuSans-102\"/>\r\n       <use x=\"353.710938\" xlink:href=\"#DejaVuSans-108\"/>\r\n       <use x=\"381.494141\" xlink:href=\"#DejaVuSans-111\"/>\r\n       <use x=\"442.675781\" xlink:href=\"#DejaVuSans-119\"/>\r\n       <use x=\"524.462891\" xlink:href=\"#DejaVuSans-45\"/>\r\n       <use x=\"560.546875\" xlink:href=\"#DejaVuSans-106\"/>\r\n       <use x=\"588.330078\" xlink:href=\"#DejaVuSans-115\"/>\r\n      </g>\r\n     </g>\r\n    </g>\r\n    <g id=\"xtick_29\">\r\n     <g id=\"line2d_29\">\r\n      <g>\r\n       <use style=\"stroke:#000000;stroke-width:0.8;\" x=\"1188.701071\" xlink:href=\"#m0c0ea4377c\" y=\"300.196875\"/>\r\n      </g>\r\n     </g>\r\n     <g id=\"text_29\">\r\n      <!-- unsupervised-learning -->\r\n      <g transform=\"translate(1192.564196 463.745312)rotate(-90)scale(0.14 -0.14)\">\r\n       <use xlink:href=\"#DejaVuSans-117\"/>\r\n       <use x=\"63.378906\" xlink:href=\"#DejaVuSans-110\"/>\r\n       <use x=\"126.757812\" xlink:href=\"#DejaVuSans-115\"/>\r\n       <use x=\"178.857422\" xlink:href=\"#DejaVuSans-117\"/>\r\n       <use x=\"242.236328\" xlink:href=\"#DejaVuSans-112\"/>\r\n       <use x=\"305.712891\" xlink:href=\"#DejaVuSans-101\"/>\r\n       <use x=\"367.236328\" xlink:href=\"#DejaVuSans-114\"/>\r\n       <use x=\"408.349609\" xlink:href=\"#DejaVuSans-118\"/>\r\n       <use x=\"467.529297\" xlink:href=\"#DejaVuSans-105\"/>\r\n       <use x=\"495.3125\" xlink:href=\"#DejaVuSans-115\"/>\r\n       <use x=\"547.412109\" xlink:href=\"#DejaVuSans-101\"/>\r\n       <use x=\"608.935547\" xlink:href=\"#DejaVuSans-100\"/>\r\n       <use x=\"672.412109\" xlink:href=\"#DejaVuSans-45\"/>\r\n       <use x=\"708.496094\" xlink:href=\"#DejaVuSans-108\"/>\r\n       <use x=\"736.279297\" xlink:href=\"#DejaVuSans-101\"/>\r\n       <use x=\"797.802734\" xlink:href=\"#DejaVuSans-97\"/>\r\n       <use x=\"859.082031\" xlink:href=\"#DejaVuSans-114\"/>\r\n       <use x=\"900.179688\" xlink:href=\"#DejaVuSans-110\"/>\r\n       <use x=\"963.558594\" xlink:href=\"#DejaVuSans-105\"/>\r\n       <use x=\"991.341797\" xlink:href=\"#DejaVuSans-110\"/>\r\n       <use x=\"1054.720703\" xlink:href=\"#DejaVuSans-103\"/>\r\n      </g>\r\n     </g>\r\n    </g>\r\n    <g id=\"xtick_30\">\r\n     <g id=\"line2d_30\">\r\n      <g>\r\n       <use style=\"stroke:#000000;stroke-width:0.8;\" x=\"1228.558214\" xlink:href=\"#m0c0ea4377c\" y=\"300.196875\"/>\r\n      </g>\r\n     </g>\r\n     <g id=\"text_30\">\r\n      <!-- wandb -->\r\n      <g transform=\"translate(1232.421339 353.87375)rotate(-90)scale(0.14 -0.14)\">\r\n       <use xlink:href=\"#DejaVuSans-119\"/>\r\n       <use x=\"81.787109\" xlink:href=\"#DejaVuSans-97\"/>\r\n       <use x=\"143.066406\" xlink:href=\"#DejaVuSans-110\"/>\r\n       <use x=\"206.445312\" xlink:href=\"#DejaVuSans-100\"/>\r\n       <use x=\"269.921875\" xlink:href=\"#DejaVuSans-98\"/>\r\n      </g>\r\n     </g>\r\n    </g>\r\n    <g id=\"xtick_31\">\r\n     <g id=\"line2d_31\">\r\n      <g>\r\n       <use style=\"stroke:#000000;stroke-width:0.8;\" x=\"1268.415357\" xlink:href=\"#m0c0ea4377c\" y=\"300.196875\"/>\r\n      </g>\r\n     </g>\r\n     <g id=\"text_31\">\r\n      <!-- time-series -->\r\n      <g transform=\"translate(1272.278482 385.336563)rotate(-90)scale(0.14 -0.14)\">\r\n       <use xlink:href=\"#DejaVuSans-116\"/>\r\n       <use x=\"39.208984\" xlink:href=\"#DejaVuSans-105\"/>\r\n       <use x=\"66.992188\" xlink:href=\"#DejaVuSans-109\"/>\r\n       <use x=\"164.404297\" xlink:href=\"#DejaVuSans-101\"/>\r\n       <use x=\"225.927734\" xlink:href=\"#DejaVuSans-45\"/>\r\n       <use x=\"262.011719\" xlink:href=\"#DejaVuSans-115\"/>\r\n       <use x=\"314.111328\" xlink:href=\"#DejaVuSans-101\"/>\r\n       <use x=\"375.634766\" xlink:href=\"#DejaVuSans-114\"/>\r\n       <use x=\"416.748047\" xlink:href=\"#DejaVuSans-105\"/>\r\n       <use x=\"444.53125\" xlink:href=\"#DejaVuSans-101\"/>\r\n       <use x=\"506.054688\" xlink:href=\"#DejaVuSans-115\"/>\r\n      </g>\r\n     </g>\r\n    </g>\r\n    <g id=\"xtick_32\">\r\n     <g id=\"line2d_32\">\r\n      <g>\r\n       <use style=\"stroke:#000000;stroke-width:0.8;\" x=\"1308.2725\" xlink:href=\"#m0c0ea4377c\" y=\"300.196875\"/>\r\n      </g>\r\n     </g>\r\n     <g id=\"text_32\">\r\n      <!-- flask -->\r\n      <g transform=\"translate(1312.135625 339.994062)rotate(-90)scale(0.14 -0.14)\">\r\n       <use xlink:href=\"#DejaVuSans-102\"/>\r\n       <use x=\"35.205078\" xlink:href=\"#DejaVuSans-108\"/>\r\n       <use x=\"62.988281\" xlink:href=\"#DejaVuSans-97\"/>\r\n       <use x=\"124.267578\" xlink:href=\"#DejaVuSans-115\"/>\r\n       <use x=\"176.367188\" xlink:href=\"#DejaVuSans-107\"/>\r\n      </g>\r\n     </g>\r\n    </g>\r\n    <g id=\"xtick_33\">\r\n     <g id=\"line2d_33\">\r\n      <g>\r\n       <use style=\"stroke:#000000;stroke-width:0.8;\" x=\"1348.129643\" xlink:href=\"#m0c0ea4377c\" y=\"300.196875\"/>\r\n      </g>\r\n     </g>\r\n     <g id=\"text_33\">\r\n      <!-- node-classification -->\r\n      <g transform=\"translate(1351.992768 437.7425)rotate(-90)scale(0.14 -0.14)\">\r\n       <use xlink:href=\"#DejaVuSans-110\"/>\r\n       <use x=\"63.378906\" xlink:href=\"#DejaVuSans-111\"/>\r\n       <use x=\"124.560547\" xlink:href=\"#DejaVuSans-100\"/>\r\n       <use x=\"188.037109\" xlink:href=\"#DejaVuSans-101\"/>\r\n       <use x=\"249.560547\" xlink:href=\"#DejaVuSans-45\"/>\r\n       <use x=\"285.644531\" xlink:href=\"#DejaVuSans-99\"/>\r\n       <use x=\"340.625\" xlink:href=\"#DejaVuSans-108\"/>\r\n       <use x=\"368.408203\" xlink:href=\"#DejaVuSans-97\"/>\r\n       <use x=\"429.6875\" xlink:href=\"#DejaVuSans-115\"/>\r\n       <use x=\"481.787109\" xlink:href=\"#DejaVuSans-115\"/>\r\n       <use x=\"533.886719\" xlink:href=\"#DejaVuSans-105\"/>\r\n       <use x=\"561.669922\" xlink:href=\"#DejaVuSans-102\"/>\r\n       <use x=\"596.875\" xlink:href=\"#DejaVuSans-105\"/>\r\n       <use x=\"624.658203\" xlink:href=\"#DejaVuSans-99\"/>\r\n       <use x=\"679.638672\" xlink:href=\"#DejaVuSans-97\"/>\r\n       <use x=\"740.917969\" xlink:href=\"#DejaVuSans-116\"/>\r\n       <use x=\"780.126953\" xlink:href=\"#DejaVuSans-105\"/>\r\n       <use x=\"807.910156\" xlink:href=\"#DejaVuSans-111\"/>\r\n       <use x=\"869.091797\" xlink:href=\"#DejaVuSans-110\"/>\r\n      </g>\r\n     </g>\r\n    </g>\r\n    <g id=\"xtick_34\">\r\n     <g id=\"line2d_34\">\r\n      <g>\r\n       <use style=\"stroke:#000000;stroke-width:0.8;\" x=\"1387.986786\" xlink:href=\"#m0c0ea4377c\" y=\"300.196875\"/>\r\n      </g>\r\n     </g>\r\n     <g id=\"text_34\">\r\n      <!-- question-answering -->\r\n      <defs>\r\n       <path d=\"M 14.796875 27.296875 \r\nQ 14.796875 17.390625 18.875 11.75 \r\nQ 22.953125 6.109375 30.078125 6.109375 \r\nQ 37.203125 6.109375 41.296875 11.75 \r\nQ 45.40625 17.390625 45.40625 27.296875 \r\nQ 45.40625 37.203125 41.296875 42.84375 \r\nQ 37.203125 48.484375 30.078125 48.484375 \r\nQ 22.953125 48.484375 18.875 42.84375 \r\nQ 14.796875 37.203125 14.796875 27.296875 \r\nz\r\nM 45.40625 8.203125 \r\nQ 42.578125 3.328125 38.25 0.953125 \r\nQ 33.9375 -1.421875 27.875 -1.421875 \r\nQ 17.96875 -1.421875 11.734375 6.484375 \r\nQ 5.515625 14.40625 5.515625 27.296875 \r\nQ 5.515625 40.1875 11.734375 48.09375 \r\nQ 17.96875 56 27.875 56 \r\nQ 33.9375 56 38.25 53.625 \r\nQ 42.578125 51.265625 45.40625 46.390625 \r\nL 45.40625 54.6875 \r\nL 54.390625 54.6875 \r\nL 54.390625 -20.796875 \r\nL 45.40625 -20.796875 \r\nz\r\n\" id=\"DejaVuSans-113\"/>\r\n      </defs>\r\n      <g transform=\"translate(1391.849911 444.945938)rotate(-90)scale(0.14 -0.14)\">\r\n       <use xlink:href=\"#DejaVuSans-113\"/>\r\n       <use x=\"63.476562\" xlink:href=\"#DejaVuSans-117\"/>\r\n       <use x=\"126.855469\" xlink:href=\"#DejaVuSans-101\"/>\r\n       <use x=\"188.378906\" xlink:href=\"#DejaVuSans-115\"/>\r\n       <use x=\"240.478516\" xlink:href=\"#DejaVuSans-116\"/>\r\n       <use x=\"279.6875\" xlink:href=\"#DejaVuSans-105\"/>\r\n       <use x=\"307.470703\" xlink:href=\"#DejaVuSans-111\"/>\r\n       <use x=\"368.652344\" xlink:href=\"#DejaVuSans-110\"/>\r\n       <use x=\"432.03125\" xlink:href=\"#DejaVuSans-45\"/>\r\n       <use x=\"468.115234\" xlink:href=\"#DejaVuSans-97\"/>\r\n       <use x=\"529.394531\" xlink:href=\"#DejaVuSans-110\"/>\r\n       <use x=\"592.773438\" xlink:href=\"#DejaVuSans-115\"/>\r\n       <use x=\"644.873047\" xlink:href=\"#DejaVuSans-119\"/>\r\n       <use x=\"726.660156\" xlink:href=\"#DejaVuSans-101\"/>\r\n       <use x=\"788.183594\" xlink:href=\"#DejaVuSans-114\"/>\r\n       <use x=\"829.296875\" xlink:href=\"#DejaVuSans-105\"/>\r\n       <use x=\"857.080078\" xlink:href=\"#DejaVuSans-110\"/>\r\n       <use x=\"920.458984\" xlink:href=\"#DejaVuSans-103\"/>\r\n      </g>\r\n     </g>\r\n    </g>\r\n    <g id=\"xtick_35\">\r\n     <g id=\"line2d_35\">\r\n      <g>\r\n       <use style=\"stroke:#000000;stroke-width:0.8;\" x=\"1427.843929\" xlink:href=\"#m0c0ea4377c\" y=\"300.196875\"/>\r\n      </g>\r\n     </g>\r\n     <g id=\"text_35\">\r\n      <!-- pretraining -->\r\n      <g transform=\"translate(1431.707054 384.684687)rotate(-90)scale(0.14 -0.14)\">\r\n       <use xlink:href=\"#DejaVuSans-112\"/>\r\n       <use x=\"63.476562\" xlink:href=\"#DejaVuSans-114\"/>\r\n       <use x=\"104.558594\" xlink:href=\"#DejaVuSans-101\"/>\r\n       <use x=\"166.082031\" xlink:href=\"#DejaVuSans-116\"/>\r\n       <use x=\"205.291016\" xlink:href=\"#DejaVuSans-114\"/>\r\n       <use x=\"246.404297\" xlink:href=\"#DejaVuSans-97\"/>\r\n       <use x=\"307.683594\" xlink:href=\"#DejaVuSans-105\"/>\r\n       <use x=\"335.466797\" xlink:href=\"#DejaVuSans-110\"/>\r\n       <use x=\"398.845703\" xlink:href=\"#DejaVuSans-105\"/>\r\n       <use x=\"426.628906\" xlink:href=\"#DejaVuSans-110\"/>\r\n       <use x=\"490.007812\" xlink:href=\"#DejaVuSans-103\"/>\r\n      </g>\r\n     </g>\r\n    </g>\r\n    <g id=\"text_36\">\r\n     <!-- Tag -->\r\n     <defs>\r\n      <path d=\"M -0.296875 72.90625 \r\nL 61.375 72.90625 \r\nL 61.375 64.59375 \r\nL 35.5 64.59375 \r\nL 35.5 0 \r\nL 25.59375 0 \r\nL 25.59375 64.59375 \r\nL -0.296875 64.59375 \r\nz\r\n\" id=\"DejaVuSans-84\"/>\r\n     </defs>\r\n     <g transform=\"translate(735.425 551.31375)scale(0.16 -0.16)\">\r\n      <use xlink:href=\"#DejaVuSans-84\"/>\r\n      <use x=\"60.833984\" xlink:href=\"#DejaVuSans-97\"/>\r\n      <use x=\"122.113281\" xlink:href=\"#DejaVuSans-103\"/>\r\n     </g>\r\n    </g>\r\n   </g>\r\n   <g id=\"matplotlib.axis_2\">\r\n    <g id=\"ytick_1\">\r\n     <g id=\"line2d_36\">\r\n      <defs>\r\n       <path d=\"M 0 0 \r\nL -3.5 0 \r\n\" id=\"m5d0c7372ca\" style=\"stroke:#000000;stroke-width:0.8;\"/>\r\n      </defs>\r\n      <g>\r\n       <use style=\"stroke:#000000;stroke-width:0.8;\" x=\"52.7725\" xlink:href=\"#m5d0c7372ca\" y=\"300.196875\"/>\r\n      </g>\r\n     </g>\r\n     <g id=\"text_37\">\r\n      <!-- 0 -->\r\n      <defs>\r\n       <path d=\"M 31.78125 66.40625 \r\nQ 24.171875 66.40625 20.328125 58.90625 \r\nQ 16.5 51.421875 16.5 36.375 \r\nQ 16.5 21.390625 20.328125 13.890625 \r\nQ 24.171875 6.390625 31.78125 6.390625 \r\nQ 39.453125 6.390625 43.28125 13.890625 \r\nQ 47.125 21.390625 47.125 36.375 \r\nQ 47.125 51.421875 43.28125 58.90625 \r\nQ 39.453125 66.40625 31.78125 66.40625 \r\nz\r\nM 31.78125 74.21875 \r\nQ 44.046875 74.21875 50.515625 64.515625 \r\nQ 56.984375 54.828125 56.984375 36.375 \r\nQ 56.984375 17.96875 50.515625 8.265625 \r\nQ 44.046875 -1.421875 31.78125 -1.421875 \r\nQ 19.53125 -1.421875 13.0625 8.265625 \r\nQ 6.59375 17.96875 6.59375 36.375 \r\nQ 6.59375 54.828125 13.0625 64.515625 \r\nQ 19.53125 74.21875 31.78125 74.21875 \r\nz\r\n\" id=\"DejaVuSans-48\"/>\r\n      </defs>\r\n      <g transform=\"translate(39.41 303.996094)scale(0.1 -0.1)\">\r\n       <use xlink:href=\"#DejaVuSans-48\"/>\r\n      </g>\r\n     </g>\r\n    </g>\r\n    <g id=\"ytick_2\">\r\n     <g id=\"line2d_37\">\r\n      <g>\r\n       <use style=\"stroke:#000000;stroke-width:0.8;\" x=\"52.7725\" xlink:href=\"#m5d0c7372ca\" y=\"239.857215\"/>\r\n      </g>\r\n     </g>\r\n     <g id=\"text_38\">\r\n      <!-- 100 -->\r\n      <defs>\r\n       <path d=\"M 12.40625 8.296875 \r\nL 28.515625 8.296875 \r\nL 28.515625 63.921875 \r\nL 10.984375 60.40625 \r\nL 10.984375 69.390625 \r\nL 28.421875 72.90625 \r\nL 38.28125 72.90625 \r\nL 38.28125 8.296875 \r\nL 54.390625 8.296875 \r\nL 54.390625 0 \r\nL 12.40625 0 \r\nz\r\n\" id=\"DejaVuSans-49\"/>\r\n      </defs>\r\n      <g transform=\"translate(26.685 243.656433)scale(0.1 -0.1)\">\r\n       <use xlink:href=\"#DejaVuSans-49\"/>\r\n       <use x=\"63.623047\" xlink:href=\"#DejaVuSans-48\"/>\r\n       <use x=\"127.246094\" xlink:href=\"#DejaVuSans-48\"/>\r\n      </g>\r\n     </g>\r\n    </g>\r\n    <g id=\"ytick_3\">\r\n     <g id=\"line2d_38\">\r\n      <g>\r\n       <use style=\"stroke:#000000;stroke-width:0.8;\" x=\"52.7725\" xlink:href=\"#m5d0c7372ca\" y=\"179.517554\"/>\r\n      </g>\r\n     </g>\r\n     <g id=\"text_39\">\r\n      <!-- 200 -->\r\n      <defs>\r\n       <path d=\"M 19.1875 8.296875 \r\nL 53.609375 8.296875 \r\nL 53.609375 0 \r\nL 7.328125 0 \r\nL 7.328125 8.296875 \r\nQ 12.9375 14.109375 22.625 23.890625 \r\nQ 32.328125 33.6875 34.8125 36.53125 \r\nQ 39.546875 41.84375 41.421875 45.53125 \r\nQ 43.3125 49.21875 43.3125 52.78125 \r\nQ 43.3125 58.59375 39.234375 62.25 \r\nQ 35.15625 65.921875 28.609375 65.921875 \r\nQ 23.96875 65.921875 18.8125 64.3125 \r\nQ 13.671875 62.703125 7.8125 59.421875 \r\nL 7.8125 69.390625 \r\nQ 13.765625 71.78125 18.9375 73 \r\nQ 24.125 74.21875 28.421875 74.21875 \r\nQ 39.75 74.21875 46.484375 68.546875 \r\nQ 53.21875 62.890625 53.21875 53.421875 \r\nQ 53.21875 48.921875 51.53125 44.890625 \r\nQ 49.859375 40.875 45.40625 35.40625 \r\nQ 44.1875 33.984375 37.640625 27.21875 \r\nQ 31.109375 20.453125 19.1875 8.296875 \r\nz\r\n\" id=\"DejaVuSans-50\"/>\r\n      </defs>\r\n      <g transform=\"translate(26.685 183.316773)scale(0.1 -0.1)\">\r\n       <use xlink:href=\"#DejaVuSans-50\"/>\r\n       <use x=\"63.623047\" xlink:href=\"#DejaVuSans-48\"/>\r\n       <use x=\"127.246094\" xlink:href=\"#DejaVuSans-48\"/>\r\n      </g>\r\n     </g>\r\n    </g>\r\n    <g id=\"ytick_4\">\r\n     <g id=\"line2d_39\">\r\n      <g>\r\n       <use style=\"stroke:#000000;stroke-width:0.8;\" x=\"52.7725\" xlink:href=\"#m5d0c7372ca\" y=\"119.177894\"/>\r\n      </g>\r\n     </g>\r\n     <g id=\"text_40\">\r\n      <!-- 300 -->\r\n      <defs>\r\n       <path d=\"M 40.578125 39.3125 \r\nQ 47.65625 37.796875 51.625 33 \r\nQ 55.609375 28.21875 55.609375 21.1875 \r\nQ 55.609375 10.40625 48.1875 4.484375 \r\nQ 40.765625 -1.421875 27.09375 -1.421875 \r\nQ 22.515625 -1.421875 17.65625 -0.515625 \r\nQ 12.796875 0.390625 7.625 2.203125 \r\nL 7.625 11.71875 \r\nQ 11.71875 9.328125 16.59375 8.109375 \r\nQ 21.484375 6.890625 26.8125 6.890625 \r\nQ 36.078125 6.890625 40.9375 10.546875 \r\nQ 45.796875 14.203125 45.796875 21.1875 \r\nQ 45.796875 27.640625 41.28125 31.265625 \r\nQ 36.765625 34.90625 28.71875 34.90625 \r\nL 20.21875 34.90625 \r\nL 20.21875 43.015625 \r\nL 29.109375 43.015625 \r\nQ 36.375 43.015625 40.234375 45.921875 \r\nQ 44.09375 48.828125 44.09375 54.296875 \r\nQ 44.09375 59.90625 40.109375 62.90625 \r\nQ 36.140625 65.921875 28.71875 65.921875 \r\nQ 24.65625 65.921875 20.015625 65.03125 \r\nQ 15.375 64.15625 9.8125 62.3125 \r\nL 9.8125 71.09375 \r\nQ 15.4375 72.65625 20.34375 73.4375 \r\nQ 25.25 74.21875 29.59375 74.21875 \r\nQ 40.828125 74.21875 47.359375 69.109375 \r\nQ 53.90625 64.015625 53.90625 55.328125 \r\nQ 53.90625 49.265625 50.4375 45.09375 \r\nQ 46.96875 40.921875 40.578125 39.3125 \r\nz\r\n\" id=\"DejaVuSans-51\"/>\r\n      </defs>\r\n      <g transform=\"translate(26.685 122.977113)scale(0.1 -0.1)\">\r\n       <use xlink:href=\"#DejaVuSans-51\"/>\r\n       <use x=\"63.623047\" xlink:href=\"#DejaVuSans-48\"/>\r\n       <use x=\"127.246094\" xlink:href=\"#DejaVuSans-48\"/>\r\n      </g>\r\n     </g>\r\n    </g>\r\n    <g id=\"ytick_5\">\r\n     <g id=\"line2d_40\">\r\n      <g>\r\n       <use style=\"stroke:#000000;stroke-width:0.8;\" x=\"52.7725\" xlink:href=\"#m5d0c7372ca\" y=\"58.838234\"/>\r\n      </g>\r\n     </g>\r\n     <g id=\"text_41\">\r\n      <!-- 400 -->\r\n      <defs>\r\n       <path d=\"M 37.796875 64.3125 \r\nL 12.890625 25.390625 \r\nL 37.796875 25.390625 \r\nz\r\nM 35.203125 72.90625 \r\nL 47.609375 72.90625 \r\nL 47.609375 25.390625 \r\nL 58.015625 25.390625 \r\nL 58.015625 17.1875 \r\nL 47.609375 17.1875 \r\nL 47.609375 0 \r\nL 37.796875 0 \r\nL 37.796875 17.1875 \r\nL 4.890625 17.1875 \r\nL 4.890625 26.703125 \r\nz\r\n\" id=\"DejaVuSans-52\"/>\r\n      </defs>\r\n      <g transform=\"translate(26.685 62.637452)scale(0.1 -0.1)\">\r\n       <use xlink:href=\"#DejaVuSans-52\"/>\r\n       <use x=\"63.623047\" xlink:href=\"#DejaVuSans-48\"/>\r\n       <use x=\"127.246094\" xlink:href=\"#DejaVuSans-48\"/>\r\n      </g>\r\n     </g>\r\n    </g>\r\n    <g id=\"text_42\">\r\n     <!-- Number of projects -->\r\n     <defs>\r\n      <path d=\"M 9.8125 72.90625 \r\nL 23.09375 72.90625 \r\nL 55.421875 11.921875 \r\nL 55.421875 72.90625 \r\nL 64.984375 72.90625 \r\nL 64.984375 0 \r\nL 51.703125 0 \r\nL 19.390625 60.984375 \r\nL 19.390625 0 \r\nL 9.8125 0 \r\nz\r\n\" id=\"DejaVuSans-78\"/>\r\n      <path id=\"DejaVuSans-32\"/>\r\n     </defs>\r\n     <g transform=\"translate(19.3575 241.338125)rotate(-90)scale(0.16 -0.16)\">\r\n      <use xlink:href=\"#DejaVuSans-78\"/>\r\n      <use x=\"74.804688\" xlink:href=\"#DejaVuSans-117\"/>\r\n      <use x=\"138.183594\" xlink:href=\"#DejaVuSans-109\"/>\r\n      <use x=\"235.595703\" xlink:href=\"#DejaVuSans-98\"/>\r\n      <use x=\"299.072266\" xlink:href=\"#DejaVuSans-101\"/>\r\n      <use x=\"360.595703\" xlink:href=\"#DejaVuSans-114\"/>\r\n      <use x=\"401.708984\" xlink:href=\"#DejaVuSans-32\"/>\r\n      <use x=\"433.496094\" xlink:href=\"#DejaVuSans-111\"/>\r\n      <use x=\"494.677734\" xlink:href=\"#DejaVuSans-102\"/>\r\n      <use x=\"529.882812\" xlink:href=\"#DejaVuSans-32\"/>\r\n      <use x=\"561.669922\" xlink:href=\"#DejaVuSans-112\"/>\r\n      <use x=\"625.146484\" xlink:href=\"#DejaVuSans-114\"/>\r\n      <use x=\"666.228516\" xlink:href=\"#DejaVuSans-111\"/>\r\n      <use x=\"727.410156\" xlink:href=\"#DejaVuSans-106\"/>\r\n      <use x=\"755.193359\" xlink:href=\"#DejaVuSans-101\"/>\r\n      <use x=\"816.716797\" xlink:href=\"#DejaVuSans-99\"/>\r\n      <use x=\"871.697266\" xlink:href=\"#DejaVuSans-116\"/>\r\n      <use x=\"910.90625\" xlink:href=\"#DejaVuSans-115\"/>\r\n     </g>\r\n    </g>\r\n   </g>\r\n   <g id=\"line2d_41\">\r\n    <path clip-path=\"url(#pc4b4726056)\" d=\"M 0 0 \r\n\" style=\"fill:none;stroke:#424242;stroke-linecap:square;stroke-width:2.7;\"/>\r\n   </g>\r\n   <g id=\"line2d_42\">\r\n    <path clip-path=\"url(#pc4b4726056)\" d=\"M 0 0 \r\n\" style=\"fill:none;stroke:#424242;stroke-linecap:square;stroke-width:2.7;\"/>\r\n   </g>\r\n   <g id=\"line2d_43\">\r\n    <path clip-path=\"url(#pc4b4726056)\" d=\"M 0 0 \r\n\" style=\"fill:none;stroke:#424242;stroke-linecap:square;stroke-width:2.7;\"/>\r\n   </g>\r\n   <g id=\"line2d_44\">\r\n    <path clip-path=\"url(#pc4b4726056)\" d=\"M 0 0 \r\n\" style=\"fill:none;stroke:#424242;stroke-linecap:square;stroke-width:2.7;\"/>\r\n   </g>\r\n   <g id=\"line2d_45\">\r\n    <path clip-path=\"url(#pc4b4726056)\" d=\"M 0 0 \r\n\" style=\"fill:none;stroke:#424242;stroke-linecap:square;stroke-width:2.7;\"/>\r\n   </g>\r\n   <g id=\"line2d_46\">\r\n    <path clip-path=\"url(#pc4b4726056)\" d=\"M 0 0 \r\n\" style=\"fill:none;stroke:#424242;stroke-linecap:square;stroke-width:2.7;\"/>\r\n   </g>\r\n   <g id=\"line2d_47\">\r\n    <path clip-path=\"url(#pc4b4726056)\" d=\"M 0 0 \r\n\" style=\"fill:none;stroke:#424242;stroke-linecap:square;stroke-width:2.7;\"/>\r\n   </g>\r\n   <g id=\"line2d_48\">\r\n    <path clip-path=\"url(#pc4b4726056)\" d=\"M 0 0 \r\n\" style=\"fill:none;stroke:#424242;stroke-linecap:square;stroke-width:2.7;\"/>\r\n   </g>\r\n   <g id=\"line2d_49\">\r\n    <path clip-path=\"url(#pc4b4726056)\" d=\"M 0 0 \r\n\" style=\"fill:none;stroke:#424242;stroke-linecap:square;stroke-width:2.7;\"/>\r\n   </g>\r\n   <g id=\"line2d_50\">\r\n    <path clip-path=\"url(#pc4b4726056)\" d=\"M 0 0 \r\n\" style=\"fill:none;stroke:#424242;stroke-linecap:square;stroke-width:2.7;\"/>\r\n   </g>\r\n   <g id=\"line2d_51\">\r\n    <path clip-path=\"url(#pc4b4726056)\" d=\"M 0 0 \r\n\" style=\"fill:none;stroke:#424242;stroke-linecap:square;stroke-width:2.7;\"/>\r\n   </g>\r\n   <g id=\"line2d_52\">\r\n    <path clip-path=\"url(#pc4b4726056)\" d=\"M 0 0 \r\n\" style=\"fill:none;stroke:#424242;stroke-linecap:square;stroke-width:2.7;\"/>\r\n   </g>\r\n   <g id=\"line2d_53\">\r\n    <path clip-path=\"url(#pc4b4726056)\" d=\"M 0 0 \r\n\" style=\"fill:none;stroke:#424242;stroke-linecap:square;stroke-width:2.7;\"/>\r\n   </g>\r\n   <g id=\"line2d_54\">\r\n    <path clip-path=\"url(#pc4b4726056)\" d=\"M 0 0 \r\n\" style=\"fill:none;stroke:#424242;stroke-linecap:square;stroke-width:2.7;\"/>\r\n   </g>\r\n   <g id=\"line2d_55\">\r\n    <path clip-path=\"url(#pc4b4726056)\" d=\"M 0 0 \r\n\" style=\"fill:none;stroke:#424242;stroke-linecap:square;stroke-width:2.7;\"/>\r\n   </g>\r\n   <g id=\"line2d_56\">\r\n    <path clip-path=\"url(#pc4b4726056)\" d=\"M 0 0 \r\n\" style=\"fill:none;stroke:#424242;stroke-linecap:square;stroke-width:2.7;\"/>\r\n   </g>\r\n   <g id=\"line2d_57\">\r\n    <path clip-path=\"url(#pc4b4726056)\" d=\"M 0 0 \r\n\" style=\"fill:none;stroke:#424242;stroke-linecap:square;stroke-width:2.7;\"/>\r\n   </g>\r\n   <g id=\"line2d_58\">\r\n    <path clip-path=\"url(#pc4b4726056)\" d=\"M 0 0 \r\n\" style=\"fill:none;stroke:#424242;stroke-linecap:square;stroke-width:2.7;\"/>\r\n   </g>\r\n   <g id=\"line2d_59\">\r\n    <path clip-path=\"url(#pc4b4726056)\" d=\"M 0 0 \r\n\" style=\"fill:none;stroke:#424242;stroke-linecap:square;stroke-width:2.7;\"/>\r\n   </g>\r\n   <g id=\"line2d_60\">\r\n    <path clip-path=\"url(#pc4b4726056)\" d=\"M 0 0 \r\n\" style=\"fill:none;stroke:#424242;stroke-linecap:square;stroke-width:2.7;\"/>\r\n   </g>\r\n   <g id=\"line2d_61\">\r\n    <path clip-path=\"url(#pc4b4726056)\" d=\"M 0 0 \r\n\" style=\"fill:none;stroke:#424242;stroke-linecap:square;stroke-width:2.7;\"/>\r\n   </g>\r\n   <g id=\"line2d_62\">\r\n    <path clip-path=\"url(#pc4b4726056)\" d=\"M 0 0 \r\n\" style=\"fill:none;stroke:#424242;stroke-linecap:square;stroke-width:2.7;\"/>\r\n   </g>\r\n   <g id=\"line2d_63\">\r\n    <path clip-path=\"url(#pc4b4726056)\" d=\"M 0 0 \r\n\" style=\"fill:none;stroke:#424242;stroke-linecap:square;stroke-width:2.7;\"/>\r\n   </g>\r\n   <g id=\"line2d_64\">\r\n    <path clip-path=\"url(#pc4b4726056)\" d=\"M 0 0 \r\n\" style=\"fill:none;stroke:#424242;stroke-linecap:square;stroke-width:2.7;\"/>\r\n   </g>\r\n   <g id=\"line2d_65\">\r\n    <path clip-path=\"url(#pc4b4726056)\" d=\"M 0 0 \r\n\" style=\"fill:none;stroke:#424242;stroke-linecap:square;stroke-width:2.7;\"/>\r\n   </g>\r\n   <g id=\"line2d_66\">\r\n    <path clip-path=\"url(#pc4b4726056)\" d=\"M 0 0 \r\n\" style=\"fill:none;stroke:#424242;stroke-linecap:square;stroke-width:2.7;\"/>\r\n   </g>\r\n   <g id=\"line2d_67\">\r\n    <path clip-path=\"url(#pc4b4726056)\" d=\"M 0 0 \r\n\" style=\"fill:none;stroke:#424242;stroke-linecap:square;stroke-width:2.7;\"/>\r\n   </g>\r\n   <g id=\"line2d_68\">\r\n    <path clip-path=\"url(#pc4b4726056)\" d=\"M 0 0 \r\n\" style=\"fill:none;stroke:#424242;stroke-linecap:square;stroke-width:2.7;\"/>\r\n   </g>\r\n   <g id=\"line2d_69\">\r\n    <path clip-path=\"url(#pc4b4726056)\" d=\"M 0 0 \r\n\" style=\"fill:none;stroke:#424242;stroke-linecap:square;stroke-width:2.7;\"/>\r\n   </g>\r\n   <g id=\"line2d_70\">\r\n    <path clip-path=\"url(#pc4b4726056)\" d=\"M 0 0 \r\n\" style=\"fill:none;stroke:#424242;stroke-linecap:square;stroke-width:2.7;\"/>\r\n   </g>\r\n   <g id=\"line2d_71\">\r\n    <path clip-path=\"url(#pc4b4726056)\" d=\"M 0 0 \r\n\" style=\"fill:none;stroke:#424242;stroke-linecap:square;stroke-width:2.7;\"/>\r\n   </g>\r\n   <g id=\"line2d_72\">\r\n    <path clip-path=\"url(#pc4b4726056)\" d=\"M 0 0 \r\n\" style=\"fill:none;stroke:#424242;stroke-linecap:square;stroke-width:2.7;\"/>\r\n   </g>\r\n   <g id=\"line2d_73\">\r\n    <path clip-path=\"url(#pc4b4726056)\" d=\"M 0 0 \r\n\" style=\"fill:none;stroke:#424242;stroke-linecap:square;stroke-width:2.7;\"/>\r\n   </g>\r\n   <g id=\"line2d_74\">\r\n    <path clip-path=\"url(#pc4b4726056)\" d=\"M 0 0 \r\n\" style=\"fill:none;stroke:#424242;stroke-linecap:square;stroke-width:2.7;\"/>\r\n   </g>\r\n   <g id=\"line2d_75\">\r\n    <path clip-path=\"url(#pc4b4726056)\" d=\"M 0 0 \r\n\" style=\"fill:none;stroke:#424242;stroke-linecap:square;stroke-width:2.7;\"/>\r\n   </g>\r\n   <g id=\"patch_38\">\r\n    <path d=\"M 52.7725 300.196875 \r\nL 52.7725 28.396875 \r\n\" style=\"fill:none;stroke:#000000;stroke-linecap:square;stroke-linejoin:miter;stroke-width:0.8;\"/>\r\n   </g>\r\n   <g id=\"patch_39\">\r\n    <path d=\"M 1447.7725 300.196875 \r\nL 1447.7725 28.396875 \r\n\" style=\"fill:none;stroke:#000000;stroke-linecap:square;stroke-linejoin:miter;stroke-width:0.8;\"/>\r\n   </g>\r\n   <g id=\"patch_40\">\r\n    <path d=\"M 52.7725 300.196875 \r\nL 1447.7725 300.196875 \r\n\" style=\"fill:none;stroke:#000000;stroke-linecap:square;stroke-linejoin:miter;stroke-width:0.8;\"/>\r\n   </g>\r\n   <g id=\"patch_41\">\r\n    <path d=\"M 52.7725 28.396875 \r\nL 1447.7725 28.396875 \r\n\" style=\"fill:none;stroke:#000000;stroke-linecap:square;stroke-linejoin:miter;stroke-width:0.8;\"/>\r\n   </g>\r\n   <g id=\"text_43\">\r\n    <!-- Tag distribution -->\r\n    <g transform=\"translate(671.549062 22.396875)scale(0.2 -0.2)\">\r\n     <use xlink:href=\"#DejaVuSans-84\"/>\r\n     <use x=\"60.833984\" xlink:href=\"#DejaVuSans-97\"/>\r\n     <use x=\"122.113281\" xlink:href=\"#DejaVuSans-103\"/>\r\n     <use x=\"185.589844\" xlink:href=\"#DejaVuSans-32\"/>\r\n     <use x=\"217.376953\" xlink:href=\"#DejaVuSans-100\"/>\r\n     <use x=\"280.853516\" xlink:href=\"#DejaVuSans-105\"/>\r\n     <use x=\"308.636719\" xlink:href=\"#DejaVuSans-115\"/>\r\n     <use x=\"360.736328\" xlink:href=\"#DejaVuSans-116\"/>\r\n     <use x=\"399.945312\" xlink:href=\"#DejaVuSans-114\"/>\r\n     <use x=\"441.058594\" xlink:href=\"#DejaVuSans-105\"/>\r\n     <use x=\"468.841797\" xlink:href=\"#DejaVuSans-98\"/>\r\n     <use x=\"532.318359\" xlink:href=\"#DejaVuSans-117\"/>\r\n     <use x=\"595.697266\" xlink:href=\"#DejaVuSans-116\"/>\r\n     <use x=\"634.90625\" xlink:href=\"#DejaVuSans-105\"/>\r\n     <use x=\"662.689453\" xlink:href=\"#DejaVuSans-111\"/>\r\n     <use x=\"723.871094\" xlink:href=\"#DejaVuSans-110\"/>\r\n    </g>\r\n   </g>\r\n  </g>\r\n </g>\r\n <defs>\r\n  <clipPath id=\"pc4b4726056\">\r\n   <rect height=\"271.8\" width=\"1395\" x=\"52.7725\" y=\"28.396875\"/>\r\n  </clipPath>\r\n </defs>\r\n</svg>\r\n",
      "image/png": "[encoded data removed]"
     },
     "metadata": {
      "needs_background": "light"
     }
    }
   ],
   "source": [
    "all_tags = list(itertools.chain.from_iterable(df.tags.values))\n",
    "tags, tag_counts = zip(*Counter(all_tags).most_common())\n",
    "plt.figure(figsize=(25, 5))\n",
    "ax = sns.barplot(list(tags), list(tag_counts))\n",
    "plt.title(\"Tag distribution\", fontsize=20)\n",
    "plt.xlabel(\"Tag\", fontsize=16)\n",
    "ax.set_xticklabels(tags, rotation=90, fontsize=14)\n",
    "plt.ylabel(\"Number of projects\", fontsize=16)\n",
    "plt.show()"
   ]
  },
  {
   "source": [
    "## Wordcloud\n",
    "Is there enough signal in the title and description that's unique to each tag?"
   ],
   "cell_type": "markdown",
   "metadata": {}
  },
  {
   "cell_type": "code",
   "execution_count": 19,
   "metadata": {},
   "outputs": [
    {
     "output_type": "display_data",
     "data": {
      "text/plain": "interactive(children=(Dropdown(description='tag', index=2, options=('natural-language-processing', 'computer-v…",
      "application/vnd.jupyter.widget-view+json": {
       "version_major": 2,
       "version_minor": 0,
       "model_id": "14e3ec019d134c4cb25215083b6a7051"
      }
     },
     "metadata": {}
    }
   ],
   "source": [
    "@widgets.interact(tag=list(tags))\n",
    "def display_word_cloud(tag='pytorch'):\n",
    "    # Plot word clouds top top tags\n",
    "    plt.figure(figsize=(15, 5))\n",
    "    subset = df[df.tags.apply(lambda tags: tag in tags)]\n",
    "    text = subset.text.values\n",
    "    cloud = WordCloud(\n",
    "        stopwords=STOPWORDS, background_color='black', collocations=False,\n",
    "        width=500, height=300).generate(\" \".join(text))\n",
    "    plt.axis('off')\n",
    "    plt.imshow(cloud)"
   ]
  },
  {
   "source": [
    "# Splitting"
   ],
   "cell_type": "markdown",
   "metadata": {}
  },
  {
   "cell_type": "code",
   "execution_count": 20,
   "metadata": {},
   "outputs": [],
   "source": [
    "import numpy as np\n",
    "import random \n"
   ]
  },
  {
   "cell_type": "code",
   "execution_count": 21,
   "metadata": {},
   "outputs": [],
   "source": [
    "seed=42\n",
    "np.random.seed(seed)\n",
    "random.seed(seed)"
   ]
  },
  {
   "cell_type": "code",
   "execution_count": 22,
   "metadata": {},
   "outputs": [],
   "source": [
    "df = df.sample(frac=1).reset_index(drop=True)\n",
    "X = df.text.to_numpy()\n",
    "y = df.tags"
   ]
  },
  {
   "cell_type": "code",
   "execution_count": 23,
   "metadata": {},
   "outputs": [],
   "source": [
    "class LabelEncoder(object):\n",
    "    \"\"\"Label encoder for tag labels.\"\"\"\n",
    "    def __init__(self, class_to_index={}):\n",
    "        self.class_to_index = class_to_index\n",
    "        self.index_to_class = {v: k for k, v in self.class_to_index.items()}\n",
    "        self.classes = list(self.class_to_index.keys())\n",
    "\n",
    "    def __len__(self):\n",
    "        return len(self.class_to_index)\n",
    "\n",
    "    def __str__(self):\n",
    "        return f\"<LabelEncoder(num_classes={len(self)})>\"\n",
    "\n",
    "    def fit(self, y):\n",
    "        classes = np.unique(list(itertools.chain.from_iterable(y)))\n",
    "        for i, class_ in enumerate(classes):\n",
    "            self.class_to_index[class_] = i\n",
    "        self.index_to_class = {v: k for k, v in self.class_to_index.items()}\n",
    "        self.classes = list(self.class_to_index.keys())\n",
    "        return self\n",
    "\n",
    "    def encode(self, y):\n",
    "        y_one_hot = np.zeros((len(y), len(self.class_to_index)),dtype=int)\n",
    "        for i, item in enumerate(y):\n",
    "            for class_ in item:\n",
    "                y_one_hot[i][self.class_to_index[class_]] = 1\n",
    "        return y_one_hot\n",
    "\n",
    "    def decode(self, y):\n",
    "        classes = []\n",
    "        for i, item in enumerate(y):\n",
    "            indices = np.where(item == 1)[0]\n",
    "            classes.append([self.index_to_class[index] for index in indices])\n",
    "        return classes\n",
    "\n",
    "    def save(self, fp):\n",
    "        with open(fp, 'w') as fp:\n",
    "            contents = {'class_to_index': self.class_to_index}\n",
    "            json.dump(contents, fp, indent=4, sort_keys=False)\n",
    "\n",
    "    @classmethod\n",
    "    def load(cls, fp):\n",
    "        with open(fp, 'r') as fp:\n",
    "            kwargs = json.load(fp=fp)\n",
    "        return cls(**kwargs)"
   ]
  },
  {
   "cell_type": "code",
   "execution_count": 24,
   "metadata": {},
   "outputs": [],
   "source": [
    "#encode \n",
    "label_encoder = LabelEncoder()\n",
    "label_encoder.fit(y)\n",
    "num_classes = len(label_encoder)"
   ]
  },
  {
   "cell_type": "code",
   "execution_count": 25,
   "metadata": {},
   "outputs": [
    {
     "output_type": "execute_result",
     "data": {
      "text/plain": [
       "{'attention': 0,\n",
       " 'autoencoders': 1,\n",
       " 'computer-vision': 2,\n",
       " 'convolutional-neural-networks': 3,\n",
       " 'data-augmentation': 4,\n",
       " 'embeddings': 5,\n",
       " 'flask': 6,\n",
       " 'generative-adversarial-networks': 7,\n",
       " 'graph-neural-networks': 8,\n",
       " 'graphs': 9,\n",
       " 'huggingface': 10,\n",
       " 'image-classification': 11,\n",
       " 'interpretability': 12,\n",
       " 'keras': 13,\n",
       " 'language-modeling': 14,\n",
       " 'natural-language-processing': 15,\n",
       " 'node-classification': 16,\n",
       " 'object-detection': 17,\n",
       " 'pretraining': 18,\n",
       " 'production': 19,\n",
       " 'pytorch': 20,\n",
       " 'question-answering': 21,\n",
       " 'regression': 22,\n",
       " 'reinforcement-learning': 23,\n",
       " 'representation-learning': 24,\n",
       " 'scikit-learn': 25,\n",
       " 'segmentation': 26,\n",
       " 'self-supervised-learning': 27,\n",
       " 'tensorflow': 28,\n",
       " 'tensorflow-js': 29,\n",
       " 'time-series': 30,\n",
       " 'transfer-learning': 31,\n",
       " 'transformers': 32,\n",
       " 'unsupervised-learning': 33,\n",
       " 'wandb': 34}"
      ]
     },
     "metadata": {},
     "execution_count": 25
    }
   ],
   "source": [
    "\n",
    "label_encoder.class_to_index"
   ]
  },
  {
   "cell_type": "code",
   "execution_count": 26,
   "metadata": {},
   "outputs": [],
   "source": [
    "y = label_encoder.encode(y)\n"
   ]
  },
  {
   "cell_type": "code",
   "execution_count": 27,
   "metadata": {},
   "outputs": [
    {
     "output_type": "stream",
     "name": "stderr",
     "text": [
      "Traceback (most recent call last):\n  File \"c:\\python39\\lib\\runpy.py\", line 197, in _run_module_as_main\n    return _run_code(code, main_globals, None,\n  File \"c:\\python39\\lib\\runpy.py\", line 87, in _run_code\n    exec(code, run_globals)\n  File \"C:\\Python39\\Scripts\\pip.exe\\__main__.py\", line 4, in <module>\nModuleNotFoundError: No module named 'pip'\n"
     ]
    }
   ],
   "source": [
    "!pip install scikit-multilearn==0.2.0 -q"
   ]
  },
  {
   "source": [
    "Naive splitiing"
   ],
   "cell_type": "markdown",
   "metadata": {}
  },
  {
   "cell_type": "code",
   "execution_count": 28,
   "metadata": {},
   "outputs": [],
   "source": [
    "from sklearn.model_selection import train_test_split\n",
    "from skmultilearn.model_selection.measures import get_combination_wise_output_matrix\n"
   ]
  },
  {
   "cell_type": "code",
   "execution_count": 29,
   "metadata": {},
   "outputs": [],
   "source": [
    "# Split sizes\n",
    "train_size=0.7\n",
    "val_size=0.15\n",
    "test_size=0.15"
   ]
  },
  {
   "cell_type": "code",
   "execution_count": 30,
   "metadata": {},
   "outputs": [],
   "source": [
    "# Split (train)\n",
    "X_train, X_, y_train, y_ = train_test_split(X, y, train_size=train_size)"
   ]
  },
  {
   "cell_type": "code",
   "execution_count": 31,
   "metadata": {},
   "outputs": [
    {
     "output_type": "stream",
     "name": "stdout",
     "text": [
      "train: 1010 (0.70)\nremaining: 434 (0.30)\n"
     ]
    }
   ],
   "source": [
    "\n",
    "print (f\"train: {len(X_train)} ({(len(X_train) / len(X)):.2f})\\n\"\n",
    "       f\"remaining: {len(X_)} ({(len(X_) / len(X)):.2f})\")"
   ]
  },
  {
   "cell_type": "code",
   "execution_count": 32,
   "metadata": {},
   "outputs": [],
   "source": [
    "X_val, X_test, y_val, y_test = train_test_split(\n",
    "    X_, y_, train_size=0.5)"
   ]
  },
  {
   "cell_type": "code",
   "execution_count": 33,
   "metadata": {},
   "outputs": [
    {
     "output_type": "stream",
     "name": "stdout",
     "text": [
      "train: 1010 (0.70)\nval: 217 (0.15)\ntest: 217 (0.15)\n"
     ]
    }
   ],
   "source": [
    "print(f\"train: {len(X_train)} ({len(X_train)/len(X):.2f})\\n\"\n",
    "      f\"val: {len(X_val)} ({len(X_val)/len(X):.2f})\\n\"\n",
    "      f\"test: {len(X_test)} ({len(X_test)/len(X):.2f})\")"
   ]
  },
  {
   "cell_type": "code",
   "execution_count": 34,
   "metadata": {},
   "outputs": [],
   "source": [
    "# Get counts for each class\n",
    "counts = {}\n",
    "counts['train_counts'] = Counter(str(combination) for row in get_combination_wise_output_matrix(\n",
    "    y_train, order=1) for combination in row)\n",
    "counts['val_counts'] = Counter(str(combination) for row in get_combination_wise_output_matrix(\n",
    "    y_val, order=1) for combination in row)\n",
    "counts['test_counts'] = Counter(str(combination) for row in get_combination_wise_output_matrix(\n",
    "    y_test, order=1) for combination in row)"
   ]
  },
  {
   "cell_type": "code",
   "execution_count": 35,
   "metadata": {},
   "outputs": [
    {
     "output_type": "execute_result",
     "data": {
      "text/plain": [
       "       (15,)  (19,)  (33,)  (21,)  (32,)  (14,)  (2,)  (20,)  (24,)  (5,)  \\\n",
       "train    314     37     26     26    145     33   274    191     41    55   \n",
       "val       58      8      4      2     29      8    53     33      7     9   \n",
       "test      57      6      9      4     22     10    61     34      9    11   \n",
       "\n",
       "       ...  (1,)  (7,)  (11,)  (18,)  (4,)  (6,)  (29,)  (8,)  (31,)  (30,)  \n",
       "train  ...    27    50     34     21    33    24     24    32     33     23  \n",
       "val    ...     3     7      6      3     3     5      7    10      7      4  \n",
       "test   ...    11    16     11      6     5     5      9     9      6      7  \n",
       "\n",
       "[3 rows x 35 columns]"
      ],
      "text/html": "<div>\n<style scoped>\n    .dataframe tbody tr th:only-of-type {\n        vertical-align: middle;\n    }\n\n    .dataframe tbody tr th {\n        vertical-align: top;\n    }\n\n    .dataframe thead th {\n        text-align: right;\n    }\n</style>\n<table border=\"1\" class=\"dataframe\">\n  <thead>\n    <tr style=\"text-align: right;\">\n      <th></th>\n      <th>(15,)</th>\n      <th>(19,)</th>\n      <th>(33,)</th>\n      <th>(21,)</th>\n      <th>(32,)</th>\n      <th>(14,)</th>\n      <th>(2,)</th>\n      <th>(20,)</th>\n      <th>(24,)</th>\n      <th>(5,)</th>\n      <th>...</th>\n      <th>(1,)</th>\n      <th>(7,)</th>\n      <th>(11,)</th>\n      <th>(18,)</th>\n      <th>(4,)</th>\n      <th>(6,)</th>\n      <th>(29,)</th>\n      <th>(8,)</th>\n      <th>(31,)</th>\n      <th>(30,)</th>\n    </tr>\n  </thead>\n  <tbody>\n    <tr>\n      <th>train</th>\n      <td>314</td>\n      <td>37</td>\n      <td>26</td>\n      <td>26</td>\n      <td>145</td>\n      <td>33</td>\n      <td>274</td>\n      <td>191</td>\n      <td>41</td>\n      <td>55</td>\n      <td>...</td>\n      <td>27</td>\n      <td>50</td>\n      <td>34</td>\n      <td>21</td>\n      <td>33</td>\n      <td>24</td>\n      <td>24</td>\n      <td>32</td>\n      <td>33</td>\n      <td>23</td>\n    </tr>\n    <tr>\n      <th>val</th>\n      <td>58</td>\n      <td>8</td>\n      <td>4</td>\n      <td>2</td>\n      <td>29</td>\n      <td>8</td>\n      <td>53</td>\n      <td>33</td>\n      <td>7</td>\n      <td>9</td>\n      <td>...</td>\n      <td>3</td>\n      <td>7</td>\n      <td>6</td>\n      <td>3</td>\n      <td>3</td>\n      <td>5</td>\n      <td>7</td>\n      <td>10</td>\n      <td>7</td>\n      <td>4</td>\n    </tr>\n    <tr>\n      <th>test</th>\n      <td>57</td>\n      <td>6</td>\n      <td>9</td>\n      <td>4</td>\n      <td>22</td>\n      <td>10</td>\n      <td>61</td>\n      <td>34</td>\n      <td>9</td>\n      <td>11</td>\n      <td>...</td>\n      <td>11</td>\n      <td>16</td>\n      <td>11</td>\n      <td>6</td>\n      <td>5</td>\n      <td>5</td>\n      <td>9</td>\n      <td>9</td>\n      <td>6</td>\n      <td>7</td>\n    </tr>\n  </tbody>\n</table>\n<p>3 rows × 35 columns</p>\n</div>"
     },
     "metadata": {},
     "execution_count": 35
    }
   ],
   "source": [
    "# View distributions\n",
    "pd.DataFrame({\n",
    "    'train': counts['train_counts'],\n",
    "    'val': counts['val_counts'],\n",
    "    'test': counts['test_counts']\n",
    "}).T.fillna(0)\n"
   ]
  },
  {
   "cell_type": "code",
   "execution_count": 36,
   "metadata": {},
   "outputs": [],
   "source": [
    "# Adjust counts across splits\n",
    "for k in counts['val_counts'].keys():\n",
    "    counts['val_counts'][k] = int(counts['val_counts'][k] * \\\n",
    "        (train_size/val_size))\n",
    "for k in counts['test_counts'].keys():\n",
    "    counts['test_counts'][k] = int(counts['test_counts'][k] * \\\n",
    "        (train_size/test_size))"
   ]
  },
  {
   "cell_type": "code",
   "execution_count": 37,
   "metadata": {},
   "outputs": [
    {
     "output_type": "execute_result",
     "data": {
      "text/plain": [
       "       (15,)  (19,)  (33,)  (21,)  (32,)  (14,)  (2,)  (20,)  (24,)  (5,)  \\\n",
       "train    314     37     26     26    145     33   274    191     41    55   \n",
       "val      270     37     18      9    135     37   247    154     32    42   \n",
       "test     266     28     42     18    102     46   284    158     42    51   \n",
       "\n",
       "       ...  (1,)  (7,)  (11,)  (18,)  (4,)  (6,)  (29,)  (8,)  (31,)  (30,)  \n",
       "train  ...    27    50     34     21    33    24     24    32     33     23  \n",
       "val    ...    14    32     28     14    14    23     32    46     32     18  \n",
       "test   ...    51    74     51     28    23    23     42    42     28     32  \n",
       "\n",
       "[3 rows x 35 columns]"
      ],
      "text/html": "<div>\n<style scoped>\n    .dataframe tbody tr th:only-of-type {\n        vertical-align: middle;\n    }\n\n    .dataframe tbody tr th {\n        vertical-align: top;\n    }\n\n    .dataframe thead th {\n        text-align: right;\n    }\n</style>\n<table border=\"1\" class=\"dataframe\">\n  <thead>\n    <tr style=\"text-align: right;\">\n      <th></th>\n      <th>(15,)</th>\n      <th>(19,)</th>\n      <th>(33,)</th>\n      <th>(21,)</th>\n      <th>(32,)</th>\n      <th>(14,)</th>\n      <th>(2,)</th>\n      <th>(20,)</th>\n      <th>(24,)</th>\n      <th>(5,)</th>\n      <th>...</th>\n      <th>(1,)</th>\n      <th>(7,)</th>\n      <th>(11,)</th>\n      <th>(18,)</th>\n      <th>(4,)</th>\n      <th>(6,)</th>\n      <th>(29,)</th>\n      <th>(8,)</th>\n      <th>(31,)</th>\n      <th>(30,)</th>\n    </tr>\n  </thead>\n  <tbody>\n    <tr>\n      <th>train</th>\n      <td>314</td>\n      <td>37</td>\n      <td>26</td>\n      <td>26</td>\n      <td>145</td>\n      <td>33</td>\n      <td>274</td>\n      <td>191</td>\n      <td>41</td>\n      <td>55</td>\n      <td>...</td>\n      <td>27</td>\n      <td>50</td>\n      <td>34</td>\n      <td>21</td>\n      <td>33</td>\n      <td>24</td>\n      <td>24</td>\n      <td>32</td>\n      <td>33</td>\n      <td>23</td>\n    </tr>\n    <tr>\n      <th>val</th>\n      <td>270</td>\n      <td>37</td>\n      <td>18</td>\n      <td>9</td>\n      <td>135</td>\n      <td>37</td>\n      <td>247</td>\n      <td>154</td>\n      <td>32</td>\n      <td>42</td>\n      <td>...</td>\n      <td>14</td>\n      <td>32</td>\n      <td>28</td>\n      <td>14</td>\n      <td>14</td>\n      <td>23</td>\n      <td>32</td>\n      <td>46</td>\n      <td>32</td>\n      <td>18</td>\n    </tr>\n    <tr>\n      <th>test</th>\n      <td>266</td>\n      <td>28</td>\n      <td>42</td>\n      <td>18</td>\n      <td>102</td>\n      <td>46</td>\n      <td>284</td>\n      <td>158</td>\n      <td>42</td>\n      <td>51</td>\n      <td>...</td>\n      <td>51</td>\n      <td>74</td>\n      <td>51</td>\n      <td>28</td>\n      <td>23</td>\n      <td>23</td>\n      <td>42</td>\n      <td>42</td>\n      <td>28</td>\n      <td>32</td>\n    </tr>\n  </tbody>\n</table>\n<p>3 rows × 35 columns</p>\n</div>"
     },
     "metadata": {},
     "execution_count": 37
    }
   ],
   "source": [
    "dist_df = pd.DataFrame({\n",
    "    'train': counts['train_counts'],\n",
    "    'val': counts['val_counts'],\n",
    "    'test': counts['test_counts']\n",
    "}).T.fillna(0)\n",
    "dist_df\n"
   ]
  },
  {
   "cell_type": "code",
   "execution_count": 38,
   "metadata": {},
   "outputs": [
    {
     "output_type": "execute_result",
     "data": {
      "text/plain": [
       "9.936725114942407"
      ]
     },
     "metadata": {},
     "execution_count": 38
    }
   ],
   "source": [
    "np.mean(np.std(dist_df.to_numpy(), axis=0))"
   ]
  },
  {
   "source": [
    "Stratified split"
   ],
   "cell_type": "markdown",
   "metadata": {}
  },
  {
   "cell_type": "code",
   "execution_count": 39,
   "metadata": {},
   "outputs": [],
   "source": [
    "from skmultilearn.model_selection import IterativeStratification"
   ]
  },
  {
   "cell_type": "code",
   "execution_count": 40,
   "metadata": {},
   "outputs": [],
   "source": [
    "def iterative_train_test_split(X, y, train_size):\n",
    "    \"\"\"Custom iterative train test split which\n",
    "    'maintains balanced representation with respect\n",
    "    to order-th label combinations.'\n",
    "    \"\"\"\n",
    "    stratifier = IterativeStratification(\n",
    "        n_splits=2, order=1, sample_distribution_per_fold=[1.0-train_size, train_size, ])\n",
    "    train_indices, test_indices = next(stratifier.split(X, y))\n",
    "    X_train, y_train = X[train_indices], y[train_indices]\n",
    "    X_test, y_test = X[test_indices], y[test_indices]\n",
    "    return X_train, X_test, y_train, y_test"
   ]
  },
  {
   "cell_type": "code",
   "execution_count": 41,
   "metadata": {},
   "outputs": [],
   "source": [
    "# Get data\n",
    "X = df.text.to_numpy()\n",
    "y = df.tags"
   ]
  },
  {
   "cell_type": "code",
   "execution_count": 42,
   "metadata": {},
   "outputs": [],
   "source": [
    "# Binarize y\n",
    "label_encoder = LabelEncoder()\n",
    "label_encoder.fit(y)\n",
    "y = label_encoder.encode(y)"
   ]
  },
  {
   "cell_type": "code",
   "execution_count": 43,
   "metadata": {},
   "outputs": [],
   "source": [
    "# Split\n",
    "X_train, X_, y_train, y_ = iterative_train_test_split(\n",
    "    X, y, train_size=train_size)\n",
    "X_val, X_test, y_val, y_test = iterative_train_test_split(\n",
    "    X_, y_, train_size=0.5)"
   ]
  },
  {
   "cell_type": "code",
   "execution_count": 44,
   "metadata": {},
   "outputs": [
    {
     "output_type": "stream",
     "name": "stdout",
     "text": [
      "train: 1000 (0.69)\nval: 214 (0.15)\ntest: 230 (0.16)\n"
     ]
    }
   ],
   "source": [
    "print(f\"train: {len(X_train)} ({len(X_train)/len(X):.2f})\\n\"\n",
    "      f\"val: {len(X_val)} ({len(X_val)/len(X):.2f})\\n\"\n",
    "      f\"test: {len(X_test)} ({len(X_test)/len(X):.2f})\")"
   ]
  },
  {
   "cell_type": "code",
   "execution_count": 45,
   "metadata": {},
   "outputs": [],
   "source": [
    "# Get counts for each class\n",
    "counts = {}\n",
    "counts['train_counts'] = Counter(str(combination) for row in get_combination_wise_output_matrix(\n",
    "    y_train, order=1) for combination in row)\n",
    "counts['val_counts'] = Counter(str(combination) for row in get_combination_wise_output_matrix(\n",
    "    y_val, order=1) for combination in row)\n",
    "counts['test_counts'] = Counter(str(combination) for row in get_combination_wise_output_matrix(\n",
    "    y_test, order=1) for combination in row)"
   ]
  },
  {
   "cell_type": "code",
   "execution_count": 46,
   "metadata": {},
   "outputs": [],
   "source": [
    "# Adjust counts across splits\n",
    "for k in counts['val_counts'].keys():\n",
    "    counts['val_counts'][k] = int(counts['val_counts'][k] * \\\n",
    "        (train_size/val_size))\n",
    "for k in counts['test_counts'].keys():\n",
    "    counts['test_counts'][k] = int(counts['test_counts'][k] * \\\n",
    "        (train_size/test_size))"
   ]
  },
  {
   "cell_type": "code",
   "execution_count": 47,
   "metadata": {},
   "outputs": [
    {
     "output_type": "execute_result",
     "data": {
      "text/plain": [
       "        (2,)  (4,)  (15,)  (14,)  (30,)  (34,)  (1,)  (26,)  (32,)  (20,)  \\\n",
       "train  272.0  29.0  300.0   36.0   24.0   27.0  29.0   32.0  145.0  181.0   \n",
       "val    270.0  32.0  298.0   28.0   23.0   28.0  32.0   37.0  112.0  177.0   \n",
       "test   270.0  23.0  303.0   42.0   23.0   28.0  23.0   37.0  126.0  182.0   \n",
       "\n",
       "       ...  (28,)  (11,)  (22,)  (8,)  (29,)  (23,)  (31,)  (10,)  (18,)  \\\n",
       "train  ...  149.0   30.0   34.0  38.0   26.0   41.0   32.0   45.0   21.0   \n",
       "val    ...  149.0   46.0   32.0  32.0   32.0   42.0   32.0   46.0   23.0   \n",
       "test   ...  149.0   51.0   37.0  28.0   32.0   42.0   32.0   42.0   18.0   \n",
       "\n",
       "       (12,)  \n",
       "train   38.0  \n",
       "val     42.0  \n",
       "test    37.0  \n",
       "\n",
       "[3 rows x 35 columns]"
      ],
      "text/html": "<div>\n<style scoped>\n    .dataframe tbody tr th:only-of-type {\n        vertical-align: middle;\n    }\n\n    .dataframe tbody tr th {\n        vertical-align: top;\n    }\n\n    .dataframe thead th {\n        text-align: right;\n    }\n</style>\n<table border=\"1\" class=\"dataframe\">\n  <thead>\n    <tr style=\"text-align: right;\">\n      <th></th>\n      <th>(2,)</th>\n      <th>(4,)</th>\n      <th>(15,)</th>\n      <th>(14,)</th>\n      <th>(30,)</th>\n      <th>(34,)</th>\n      <th>(1,)</th>\n      <th>(26,)</th>\n      <th>(32,)</th>\n      <th>(20,)</th>\n      <th>...</th>\n      <th>(28,)</th>\n      <th>(11,)</th>\n      <th>(22,)</th>\n      <th>(8,)</th>\n      <th>(29,)</th>\n      <th>(23,)</th>\n      <th>(31,)</th>\n      <th>(10,)</th>\n      <th>(18,)</th>\n      <th>(12,)</th>\n    </tr>\n  </thead>\n  <tbody>\n    <tr>\n      <th>train</th>\n      <td>272.0</td>\n      <td>29.0</td>\n      <td>300.0</td>\n      <td>36.0</td>\n      <td>24.0</td>\n      <td>27.0</td>\n      <td>29.0</td>\n      <td>32.0</td>\n      <td>145.0</td>\n      <td>181.0</td>\n      <td>...</td>\n      <td>149.0</td>\n      <td>30.0</td>\n      <td>34.0</td>\n      <td>38.0</td>\n      <td>26.0</td>\n      <td>41.0</td>\n      <td>32.0</td>\n      <td>45.0</td>\n      <td>21.0</td>\n      <td>38.0</td>\n    </tr>\n    <tr>\n      <th>val</th>\n      <td>270.0</td>\n      <td>32.0</td>\n      <td>298.0</td>\n      <td>28.0</td>\n      <td>23.0</td>\n      <td>28.0</td>\n      <td>32.0</td>\n      <td>37.0</td>\n      <td>112.0</td>\n      <td>177.0</td>\n      <td>...</td>\n      <td>149.0</td>\n      <td>46.0</td>\n      <td>32.0</td>\n      <td>32.0</td>\n      <td>32.0</td>\n      <td>42.0</td>\n      <td>32.0</td>\n      <td>46.0</td>\n      <td>23.0</td>\n      <td>42.0</td>\n    </tr>\n    <tr>\n      <th>test</th>\n      <td>270.0</td>\n      <td>23.0</td>\n      <td>303.0</td>\n      <td>42.0</td>\n      <td>23.0</td>\n      <td>28.0</td>\n      <td>23.0</td>\n      <td>37.0</td>\n      <td>126.0</td>\n      <td>182.0</td>\n      <td>...</td>\n      <td>149.0</td>\n      <td>51.0</td>\n      <td>37.0</td>\n      <td>28.0</td>\n      <td>32.0</td>\n      <td>42.0</td>\n      <td>32.0</td>\n      <td>42.0</td>\n      <td>18.0</td>\n      <td>37.0</td>\n    </tr>\n  </tbody>\n</table>\n<p>3 rows × 35 columns</p>\n</div>"
     },
     "metadata": {},
     "execution_count": 47
    }
   ],
   "source": [
    "# View distributions\n",
    "pd.DataFrame({\n",
    "    'train': counts['train_counts'],\n",
    "    'val': counts['val_counts'],\n",
    "    'test': counts['test_counts']\n",
    "}).T.fillna(0)"
   ]
  },
  {
   "cell_type": "code",
   "execution_count": 48,
   "metadata": {},
   "outputs": [],
   "source": [
    "dist_df = pd.DataFrame({\n",
    "    'train': counts['train_counts'],\n",
    "    'val': counts['val_counts'],\n",
    "    'test': counts['test_counts']\n",
    "}).T.fillna(0)"
   ]
  },
  {
   "cell_type": "code",
   "execution_count": 49,
   "metadata": {},
   "outputs": [
    {
     "output_type": "execute_result",
     "data": {
      "text/plain": [
       "3.142338654518357"
      ]
     },
     "metadata": {},
     "execution_count": 49
    }
   ],
   "source": [
    "# Standard deviation\n",
    "np.mean(np.std(dist_df.to_numpy(), axis=0))"
   ]
  },
  {
   "source": [
    "Iterative stratification essentially creates splits while \"trying to maintain balanced representation with respect to order-th label combinations\". We used to an order=1 for our iterative split which means we cared about providing representative distribution of each tag across the splits. But we can account for higher-order label relationships as well where we may care about the distribution of label combinations."
   ],
   "cell_type": "markdown",
   "metadata": {}
  },
  {
   "source": [
    "# Preporcessing "
   ],
   "cell_type": "markdown",
   "metadata": {}
  },
  {
   "cell_type": "code",
   "execution_count": 50,
   "metadata": {},
   "outputs": [
    {
     "output_type": "stream",
     "name": "stderr",
     "text": [
      "[nltk_data] Downloading package stopwords to\n[nltk_data]     C:\\Users\\KATTUBOINA\\AppData\\Roaming\\nltk_data...\n[nltk_data]   Package stopwords is already up-to-date!\n"
     ]
    }
   ],
   "source": [
    "import nltk\n",
    "from nltk.corpus import stopwords\n",
    "from nltk.stem import PorterStemmer\n",
    "import re\n",
    "\n",
    "nltk.download('stopwords')\n",
    "STOPWORDS=stopwords.words('english')\n",
    "porter=PorterStemmer()\n"
   ]
  },
  {
   "cell_type": "code",
   "execution_count": 51,
   "metadata": {},
   "outputs": [],
   "source": [
    "def preprocess(text,lower=True,stem=False,filters=\"[!\\\"'#$%&()*\\+,-./:;<=>?@\\\\\\[\\]^_`{|}~]\",stopwords=STOPWORDS):\n",
    "    \"\"\"\n",
    "    Conditional preprocessing on our text unique to our task.\n",
    "    \"\"\"\n",
    "    if lower:\n",
    "        text=text.lower()\n",
    "    \n",
    "\n",
    "    pattern = re.compile(r'\\b(' + r'|'.join(stopwords) + r')\\b\\s*')\n",
    "    text=pattern.sub('', text)\n",
    "\n",
    "     #spacing and filters\n",
    "    text = re.sub(r\"([-;;.,!?<=>])\", r\" \\1 \", text)\n",
    "    text = re.sub(filters, r\"\", text)\n",
    "    text = re.sub('[^A-Za-z0-9]+', ' ', text) # remove non alphanumeric chars\n",
    "    text = re.sub(' +', ' ', text)  # remove multiple spaces\n",
    "    text = text.strip()\n",
    "\n",
    "\n",
    "    text=re.sub(r'http\\S+', '', text)\n",
    "\n",
    "\n",
    "    if stem:\n",
    "        text=\" \".join([porter.stem(word) for word in text.split(' ')])\n",
    "    \n",
    "\n",
    "    return text"
   ]
  },
  {
   "cell_type": "code",
   "execution_count": 52,
   "metadata": {},
   "outputs": [
    {
     "output_type": "display_data",
     "data": {
      "text/plain": "interactive(children=(Checkbox(value=True, description='lower'), Checkbox(value=False, description='stem'), Ou…",
      "application/vnd.jupyter.widget-view+json": {
       "version_major": 2,
       "version_minor": 0,
       "model_id": "619745a5d4f342b9884a375bd232d3d2"
      }
     },
     "metadata": {}
    }
   ],
   "source": [
    "@widgets.interact(lower=True,stem=False)\n",
    "def display_preprocessed_text(lower,stem):\n",
    "    text=\"Conditional image generation using Variational Autoencoders and GANs.\"\n",
    "    preprocessed_text = preprocess(text=text, lower=lower, stem=stem)\n",
    "    print (preprocessed_text) \n"
   ]
  },
  {
   "cell_type": "code",
   "execution_count": 53,
   "metadata": {},
   "outputs": [
    {
     "output_type": "stream",
     "name": "stdout",
     "text": [
      "Albumentations Fast image augmentation library and easy to use wrapper around other libraries.\nalbumentations fast image augmentation library easy use wrapper around libraries\n"
     ]
    }
   ],
   "source": [
    "#Applying the changes to our dataset\n",
    "preprocessed_df = df.copy()\n",
    "preprocessed_df.text = preprocessed_df.text.apply(preprocess, lower=True, stem=False)\n",
    "print (f\"{df.text.values[0]}\\n{preprocessed_df.text.values[0]}\")"
   ]
  },
  {
   "source": [
    "# Model Building"
   ],
   "cell_type": "markdown",
   "metadata": {}
  },
  {
   "source": [
    "## Some helpfull functions"
   ],
   "cell_type": "markdown",
   "metadata": {}
  },
  {
   "cell_type": "code",
   "execution_count": 54,
   "metadata": {},
   "outputs": [],
   "source": [
    "from sklearn.metrics import precision_recall_fscore_support\n",
    "import torch"
   ]
  },
  {
   "cell_type": "code",
   "execution_count": 55,
   "metadata": {},
   "outputs": [],
   "source": [
    "def set_seed(seed=1234):\n",
    "    \"\"\" Setting seed for reproducibility \"\"\"\n",
    "\n",
    "    np.random.seed(seed)\n",
    "    random.seed(seed)\n",
    "    torch.manual_seed(seed)\n",
    "    torch.cuda.manual_seed(seed)\n",
    "    torch.cuda.manual_seed_all(seed) #For multi-gpu training"
   ]
  },
  {
   "cell_type": "code",
   "execution_count": 56,
   "metadata": {},
   "outputs": [],
   "source": [
    "def get_data_splits(dftrain_size=0.7):\n",
    "    X=df.text.to_numpy()\n",
    "    y=df.tags\n",
    "\n",
    "\n",
    "    #Binarize y\n",
    "    label_encoder=LabelEncoder()\n",
    "    label_encoder.fit(y)\n",
    "    y=label_encoder.encode(y)\n",
    "\n",
    "    #Spliting the data \n",
    "    X_train, X_, y_train, y_ = iterative_train_test_split(X, y, train_size=train_size)\n",
    "    X_val, X_test, y_val, y_test = iterative_train_test_split(X_, y_, train_size=0.5)\n",
    "\n",
    "    return X_train, X_val, X_test, y_train, y_val, y_test,label_encoder\n",
    "    \n"
   ]
  },
  {
   "cell_type": "code",
   "execution_count": 57,
   "metadata": {},
   "outputs": [],
   "source": [
    "class Trainer(object):\n",
    "    def __init__(self, model, device, loss_fn=None, optimizer=None, scheduler=None):\n",
    "\n",
    "        # Set params\n",
    "        self.model = model\n",
    "        self.device = device\n",
    "        self.loss_fn = loss_fn\n",
    "        self.optimizer = optimizer\n",
    "        self.scheduler = scheduler\n",
    "\n",
    "    def train_step(self, dataloader):\n",
    "        \"\"\"Train step.\"\"\"\n",
    "        # Set model to train mode\n",
    "        self.model.train()\n",
    "        loss = 0.0\n",
    "\n",
    "        # Iterate over train batches\n",
    "        for i, batch in enumerate(dataloader):\n",
    "\n",
    "            # Step\n",
    "            batch = [item.to(self.device) for item in batch]  # Set device\n",
    "            inputs, targets = batch[:-1], batch[-1]\n",
    "            self.optimizer.zero_grad()  # Reset gradients\n",
    "            z = self.model(inputs)  # Forward pass\n",
    "            J = self.loss_fn(z, targets)  # Define loss\n",
    "            J.backward()  # Backward pass\n",
    "            self.optimizer.step()  # Update weights\n",
    "\n",
    "            # Cumulative Metrics\n",
    "            loss += (J.detach().item() - loss) / (i + 1)\n",
    "\n",
    "        return loss\n",
    "\n",
    "    def eval_step(self, dataloader):\n",
    "        \"\"\"Validation or test step.\"\"\"\n",
    "        # Set model to eval mode\n",
    "        self.model.eval()\n",
    "        loss = 0.0\n",
    "        y_trues, y_probs = [], []\n",
    "\n",
    "        # Iterate over val batches\n",
    "        with torch.no_grad():\n",
    "            for i, batch in enumerate(dataloader):\n",
    "\n",
    "                # Step\n",
    "                batch = [item.to(self.device) for item in batch]  # Set device\n",
    "                inputs, y_true = batch[:-1], batch[-1]\n",
    "                z = self.model(inputs)  # Forward pass\n",
    "                J = self.loss_fn(z, y_true).item()\n",
    "\n",
    "                # Cumulative Metrics\n",
    "                loss += (J - loss) / (i + 1)\n",
    "\n",
    "                # Store outputs\n",
    "                y_prob = torch.sigmoid(z).cpu().numpy()\n",
    "                y_probs.extend(y_prob)\n",
    "                y_trues.extend(y_true.cpu().numpy())\n",
    "\n",
    "        return loss, np.vstack(y_trues), np.vstack(y_probs)\n",
    "\n",
    "    def predict_step(self, dataloader):\n",
    "        \"\"\"Prediction step.\"\"\"\n",
    "        # Set model to eval mode\n",
    "        self.model.eval()\n",
    "        y_probs = []\n",
    "\n",
    "        # Iterate over val batches\n",
    "        with torch.no_grad():\n",
    "            for i, batch in enumerate(dataloader):\n",
    "\n",
    "                # Forward pass w/ inputs\n",
    "                inputs, targets = batch[:-1], batch[-1]\n",
    "                y_prob = self.model(inputs)\n",
    "\n",
    "                # Store outputs\n",
    "                y_probs.extend(y_prob)\n",
    "\n",
    "        return np.vstack(y_probs)\n",
    "\n",
    "    def train(self, num_epochs, patience, train_dataloader, val_dataloader):\n",
    "        best_val_loss = np.inf\n",
    "        for epoch in range(num_epochs):\n",
    "            # Steps\n",
    "            train_loss = self.train_step(dataloader=train_dataloader)\n",
    "            val_loss, _, _ = self.eval_step(dataloader=val_dataloader)\n",
    "            self.scheduler.step(val_loss)\n",
    "\n",
    "            # Early stopping\n",
    "            if val_loss < best_val_loss:\n",
    "                best_val_loss = val_loss\n",
    "                best_model = self.model\n",
    "                _patience = patience  # reset _patience\n",
    "            else:\n",
    "                _patience -= 1\n",
    "            if not _patience:  # 0\n",
    "                print(\"Stopping early!\")\n",
    "                break\n",
    "\n",
    "            # Logging\n",
    "            print(\n",
    "                f\"Epoch: {epoch+1} | \"\n",
    "                f\"train_loss: {train_loss:.5f}, \"\n",
    "                f\"val_loss: {val_loss:.5f}, \"\n",
    "                f\"lr: {self.optimizer.param_groups[0]['lr']:.2E}, \"\n",
    "                f\"_patience: {_patience}\"\n",
    "            )\n",
    "        return best_model"
   ]
  },
  {
   "cell_type": "code",
   "execution_count": 58,
   "metadata": {},
   "outputs": [],
   "source": [
    "def get_performance(y_true,y_pred,classes):\n",
    "    \"\"\"Getting the per class performance\"\"\"\n",
    "    #Getting metrics\n",
    "    performance={'overall':{}, 'class':{}}\n",
    "    metrics=precision_recall_fscore_support(y_true,y_pred)\n",
    "\n",
    "\n",
    "    #overall performance \n",
    "    performance['overall']['precision'] = np.mean(metrics[0])\n",
    "    performance['overall']['recall'] = np.mean(metrics[1])\n",
    "    performance['overall']['f1'] = np.mean(metrics[2])\n",
    "    performance['overall']['num_samples'] = np.float64(np.sum(metrics[3]))\n",
    "\n",
    "\n",
    "\n",
    "    # Per-class performance\n",
    "    for i in range(len(classes)):\n",
    "        performance['class'][classes[i]] = {\n",
    "            \"precision\": metrics[0][i],\n",
    "            \"recall\": metrics[1][i],\n",
    "            \"f1\": metrics[2][i],\n",
    "            \"num_samples\": np.float64(metrics[3][i])\n",
    "        }\n",
    "\n",
    "    \n",
    "\n",
    "    return performance\n",
    "\n",
    "\n",
    "\n"
   ]
  },
  {
   "source": [
    "## Random \n",
    "What will the random performance look like\n"
   ],
   "cell_type": "markdown",
   "metadata": {}
  },
  {
   "cell_type": "code",
   "execution_count": 59,
   "metadata": {},
   "outputs": [],
   "source": [
    "set_seed()"
   ]
  },
  {
   "cell_type": "code",
   "execution_count": 60,
   "metadata": {},
   "outputs": [
    {
     "output_type": "stream",
     "name": "stdout",
     "text": [
      "X_train: (1000,), y_train: (1000, 35)\nX_val: (227,), y_val: (227, 35)\nX_test: (217,), y_test: (217, 35)\n"
     ]
    }
   ],
   "source": [
    "#Getting the data splits\n",
    "preprocessed_df=df.copy()\n",
    "preprocessed_df.text = preprocessed_df.text.apply(preprocess, lower=True, stem=True)\n",
    "X_train, X_val, X_test, y_train, y_val, y_test, label_encoder = get_data_splits(preprocessed_df)\n",
    "print (f\"X_train: {X_train.shape}, y_train: {y_train.shape}\")\n",
    "print (f\"X_val: {X_val.shape}, y_val: {y_val.shape}\")\n",
    "print (f\"X_test: {X_test.shape}, y_test: {y_test.shape}\")"
   ]
  },
  {
   "cell_type": "code",
   "execution_count": 61,
   "metadata": {},
   "outputs": [
    {
     "output_type": "stream",
     "name": "stdout",
     "text": [
      "<LabelEncoder(num_classes=35)>\n['attention', 'autoencoders', 'computer-vision', 'convolutional-neural-networks', 'data-augmentation', 'embeddings', 'flask', 'generative-adversarial-networks', 'graph-neural-networks', 'graphs', 'huggingface', 'image-classification', 'interpretability', 'keras', 'language-modeling', 'natural-language-processing', 'node-classification', 'object-detection', 'pretraining', 'production', 'pytorch', 'question-answering', 'regression', 'reinforcement-learning', 'representation-learning', 'scikit-learn', 'segmentation', 'self-supervised-learning', 'tensorflow', 'tensorflow-js', 'time-series', 'transfer-learning', 'transformers', 'unsupervised-learning', 'wandb']\n"
     ]
    }
   ],
   "source": [
    "# Label encoder\n",
    "print (label_encoder)\n",
    "print (label_encoder.classes)"
   ]
  },
  {
   "cell_type": "code",
   "execution_count": 62,
   "metadata": {},
   "outputs": [
    {
     "output_type": "stream",
     "name": "stdout",
     "text": [
      "(217, 35)\n[[0 0 1 1 1 0 0 0 1 1 0 0 1 1 1 0 1 1 1 1 1 1 0 0 1 0 1 1 0 1 1 0 0 0 1]\n [0 1 0 0 0 0 0 1 1 1 1 1 0 1 1 1 1 0 1 1 1 1 1 0 1 1 0 1 0 0 0 0 1 1 1]\n [1 1 0 1 0 0 0 1 1 1 0 0 1 1 1 0 0 1 0 0 1 1 1 1 1 0 1 1 0 0 1 0 0 1 1]\n [0 1 1 0 1 1 0 0 1 1 0 1 1 0 1 1 1 0 0 0 1 1 1 0 1 1 0 0 0 1 0 0 1 1 0]\n [0 0 1 1 1 0 1 1 0 1 0 1 1 0 1 1 1 0 0 1 0 1 1 1 1 1 1 1 0 0 0 0 1 1 0]]\n"
     ]
    }
   ],
   "source": [
    "\n",
    "# Generate random predictions\n",
    "y_pred = np.random.randint(low=0, high=2, size=(len(y_test), len(label_encoder.classes)))\n",
    "print (y_pred.shape)\n",
    "print (y_pred[0:5])"
   ]
  },
  {
   "cell_type": "code",
   "execution_count": 63,
   "metadata": {},
   "outputs": [
    {
     "output_type": "stream",
     "name": "stdout",
     "text": [
      "{\n  \"precision\": 0.0662941602216066,\n  \"recall\": 0.5065299488415251,\n  \"f1\": 0.10819194263879019,\n  \"num_samples\": 480.0\n}\n"
     ]
    }
   ],
   "source": [
    "# Evaluate\n",
    "performance = get_performance(\n",
    "    y_true=y_test, y_pred=y_pred, classes=label_encoder.classes)\n",
    "print (json.dumps(performance['overall'], indent=2))"
   ]
  },
  {
   "cell_type": "code",
   "execution_count": 64,
   "metadata": {},
   "outputs": [
    {
     "output_type": "stream",
     "name": "stdout",
     "text": [
      "0.06291428571428571\n"
     ]
    }
   ],
   "source": [
    "\n",
    "# Percentage of 1s (tag presence)\n",
    "tag_p = np.sum(np.sum(y_train)) / (len(y_train) * len(label_encoder.classes))\n",
    "print (tag_p)"
   ]
  },
  {
   "cell_type": "code",
   "execution_count": 65,
   "metadata": {},
   "outputs": [],
   "source": [
    "# Generate weighted random predictions\n",
    "y_pred = np.random.choice(\n",
    "    np.arange(0, 2), size=(len(y_test), len(label_encoder.classes)),\n",
    "    p=[1-tag_p, tag_p])"
   ]
  },
  {
   "cell_type": "code",
   "execution_count": 66,
   "metadata": {},
   "outputs": [
    {
     "output_type": "execute_result",
     "data": {
      "text/plain": [
       "0.06240947992100066"
      ]
     },
     "metadata": {},
     "execution_count": 66
    }
   ],
   "source": [
    "# Validate percentage\n",
    "np.sum(np.sum(y_pred)) / (len(y_pred) * len(label_encoder.classes))"
   ]
  },
  {
   "cell_type": "code",
   "execution_count": 67,
   "metadata": {},
   "outputs": [
    {
     "output_type": "stream",
     "name": "stdout",
     "text": [
      "{\n  \"precision\": 0.060484184552507536,\n  \"recall\": 0.053727634571230636,\n  \"f1\": 0.048704498064854516,\n  \"num_samples\": 480.0\n}\n"
     ]
    }
   ],
   "source": [
    "# Evaluate\n",
    "performance = get_performance(\n",
    "    y_true=y_test, y_pred=y_pred, classes=label_encoder.classes)\n",
    "print (json.dumps(performance['overall'], indent=2))\n"
   ]
  },
  {
   "source": [
    "## Rule Based \n",
    "We need to signals our inputs"
   ],
   "cell_type": "markdown",
   "metadata": {}
  },
  {
   "cell_type": "code",
   "execution_count": 68,
   "metadata": {},
   "outputs": [],
   "source": [
    "set_seed()"
   ]
  },
  {
   "cell_type": "code",
   "execution_count": 69,
   "metadata": {},
   "outputs": [],
   "source": [
    "# Get data splits\n",
    "preprocessed_df = df.copy()\n",
    "preprocessed_df.text = preprocessed_df.text.apply(preprocess, lower=True)\n",
    "X_train, X_val, X_test, y_train, y_val, y_test, label_encoder = get_data_splits(preprocessed_df)"
   ]
  },
  {
   "cell_type": "code",
   "execution_count": 70,
   "metadata": {},
   "outputs": [
    {
     "output_type": "stream",
     "name": "stdout",
     "text": [
      "400\n35\n"
     ]
    }
   ],
   "source": [
    "# Restrict to relevant tags\n",
    "print (len(tags_dict))\n",
    "tags_dict = {tag: tags_dict[tag] for tag in label_encoder.classes}\n",
    "print (len(tags_dict))"
   ]
  },
  {
   "cell_type": "code",
   "execution_count": 71,
   "metadata": {},
   "outputs": [
    {
     "output_type": "execute_result",
     "data": {
      "text/plain": [
       "{'attention': 'attention',\n",
       " 'autoencoders': 'autoencoders',\n",
       " 'ae': 'autoencoders',\n",
       " 'computer vision': 'computer-vision',\n",
       " 'cv': 'computer-vision',\n",
       " 'vision': 'computer-vision',\n",
       " 'convolutional neural networks': 'convolutional-neural-networks',\n",
       " 'cnn': 'convolutional-neural-networks',\n",
       " 'data augmentation': 'data-augmentation',\n",
       " 'embeddings': 'embeddings',\n",
       " 'flask': 'flask',\n",
       " 'generative adversarial networks': 'generative-adversarial-networks',\n",
       " 'gan': 'generative-adversarial-networks',\n",
       " 'graph neural networks': 'graph-neural-networks',\n",
       " 'gnn': 'graph-neural-networks',\n",
       " 'graphs': 'graphs',\n",
       " 'huggingface': 'huggingface',\n",
       " 'image classification': 'image-classification',\n",
       " 'interpretability': 'interpretability',\n",
       " 'keras': 'keras',\n",
       " 'language modeling': 'language-modeling',\n",
       " 'lm': 'language-modeling',\n",
       " 'natural language processing': 'natural-language-processing',\n",
       " 'nlp': 'natural-language-processing',\n",
       " 'nlproc': 'natural-language-processing',\n",
       " 'node classification': 'node-classification',\n",
       " 'object detection': 'object-detection',\n",
       " 'pretraining': 'pretraining',\n",
       " 'pre training': 'pretraining',\n",
       " 'production': 'production',\n",
       " 'pytorch': 'pytorch',\n",
       " 'question answering': 'question-answering',\n",
       " 'qa': 'question-answering',\n",
       " 'regression': 'regression',\n",
       " 'reinforcement learning': 'reinforcement-learning',\n",
       " 'rl': 'reinforcement-learning',\n",
       " 'representation learning': 'representation-learning',\n",
       " 'scikit learn': 'scikit-learn',\n",
       " 'sklearn': 'scikit-learn',\n",
       " 'segmentation': 'segmentation',\n",
       " 'image segmentation': 'segmentation',\n",
       " 'self supervised learning': 'self-supervised-learning',\n",
       " 'tensorflow': 'tensorflow',\n",
       " 'tf': 'tensorflow',\n",
       " 'tensorflow js': 'tensorflow-js',\n",
       " 'tf js': 'tensorflow-js',\n",
       " 'time series': 'time-series',\n",
       " 'time series analysis': 'time-series',\n",
       " 'transfer learning': 'transfer-learning',\n",
       " 'transformers': 'transformers',\n",
       " 'unsupervised learning': 'unsupervised-learning',\n",
       " 'wandb': 'wandb',\n",
       " 'weights biases': 'wandb'}"
      ]
     },
     "metadata": {},
     "execution_count": 71
    }
   ],
   "source": [
    "#Map aliases\n",
    "aliases={}\n",
    "for tag,values in tags_dict.items():\n",
    "    aliases[preprocess(tag)]=tag\n",
    "    for alias in values['aliases']:\n",
    "        aliases[preprocess(alias)]=tag\n",
    "\n",
    "aliases"
   ]
  },
  {
   "cell_type": "code",
   "execution_count": 72,
   "metadata": {},
   "outputs": [],
   "source": [
    "def get_classes(text,aliases,tags_dict):\n",
    "    \"\"\"\n",
    "    if a token matches an alias ,then add the corresponding tag class\n",
    "    \"\"\"\n",
    "    classes=[]\n",
    "    for alias,tag in aliases.items():\n",
    "        if alias in text:\n",
    "            classes.append(tag)\n",
    "            for parent in tags_dict[tag][\"parents\"]:\n",
    "                classes.append(parent)\n",
    "        \n",
    "    \n",
    "    return list(set(classes))"
   ]
  },
  {
   "cell_type": "code",
   "execution_count": 73,
   "metadata": {},
   "outputs": [
    {
     "output_type": "execute_result",
     "data": {
      "text/plain": [
       "['data-augmentation',\n",
       " 'computer-vision',\n",
       " 'object-detection',\n",
       " 'generative-adversarial-networks']"
      ]
     },
     "metadata": {},
     "execution_count": 73
    }
   ],
   "source": [
    "#Sample for above function\n",
    "# Sample\n",
    "text = \"This project extends gans for data augmentation specifically for object detection tasks.\"\n",
    "get_classes(text=preprocess(text), aliases=aliases, tags_dict=tags_dict)"
   ]
  },
  {
   "cell_type": "code",
   "execution_count": 74,
   "metadata": {},
   "outputs": [],
   "source": [
    "#Prediction \n",
    "y_pred=[]\n",
    "for text in X_test:\n",
    "    classes=get_classes(text,aliases,tags_dict)\n",
    "    y_pred.append(classes)\n",
    "    \n"
   ]
  },
  {
   "cell_type": "code",
   "execution_count": 75,
   "metadata": {},
   "outputs": [],
   "source": [
    "#Encoding Labels\n",
    "y_pred=label_encoder.encode(y_pred)"
   ]
  },
  {
   "cell_type": "code",
   "execution_count": 76,
   "metadata": {},
   "outputs": [
    {
     "output_type": "stream",
     "name": "stdout",
     "text": [
      "{\n    \"precision\": 0.3958730158730158,\n    \"recall\": 0.10910285028326902,\n    \"f1\": 0.15424993307346246,\n    \"num_samples\": 480.0\n}\n"
     ]
    }
   ],
   "source": [
    "performance = get_performance(y_true=y_test, y_pred=y_pred, classes=label_encoder.classes)\n",
    "print (json.dumps(performance['overall'], indent=4))"
   ]
  },
  {
   "cell_type": "code",
   "execution_count": 77,
   "metadata": {},
   "outputs": [
    {
     "output_type": "stream",
     "name": "stdout",
     "text": [
      "{\n  \"precision\": 1.0,\n  \"recall\": 0.12,\n  \"f1\": 0.21428571428571425,\n  \"num_samples\": 25.0\n}\n"
     ]
    }
   ],
   "source": [
    "# Inspection\n",
    "tag = \"transformers\"\n",
    "print (json.dumps(performance[\"class\"][tag], indent=2))"
   ]
  },
  {
   "source": [
    "### Stemming "
   ],
   "cell_type": "markdown",
   "metadata": {}
  },
  {
   "cell_type": "code",
   "execution_count": 78,
   "metadata": {},
   "outputs": [
    {
     "output_type": "stream",
     "name": "stdout",
     "text": [
      "generative-adversarial-networks\ngenerative-adversarial-networks\n"
     ]
    }
   ],
   "source": [
    "print (aliases[preprocess('gan')])\n",
    "# print (aliases[preprocess('gans')]) # this won't find any match\n",
    "print (aliases[preprocess('generative adversarial networks')])\n",
    "# print (aliases[preprocess('generative adversarial network')]) # this won't find any match"
   ]
  },
  {
   "cell_type": "code",
   "execution_count": 79,
   "metadata": {},
   "outputs": [
    {
     "output_type": "stream",
     "name": "stdout",
     "text": [
      "democraci\ndemocraci\n"
     ]
    }
   ],
   "source": [
    "print (porter.stem(\"democracy\"))\n",
    "print (porter.stem(\"democracies\"))"
   ]
  },
  {
   "cell_type": "code",
   "execution_count": 80,
   "metadata": {},
   "outputs": [],
   "source": [
    "# Get data splits\n",
    "preprocessed_df = df.copy()\n",
    "preprocessed_df.text = preprocessed_df.text.apply(preprocess, lower=True, stem=True)\n",
    "X_train, X_val, X_test, y_train, y_val, y_test, label_encoder = get_data_splits(preprocessed_df)"
   ]
  },
  {
   "cell_type": "code",
   "execution_count": 81,
   "metadata": {},
   "outputs": [
    {
     "output_type": "execute_result",
     "data": {
      "text/plain": [
       "{'attent': 'attention',\n",
       " 'autoencod': 'autoencoders',\n",
       " 'ae': 'autoencoders',\n",
       " 'comput vision': 'computer-vision',\n",
       " 'cv': 'computer-vision',\n",
       " 'vision': 'computer-vision',\n",
       " 'convolut neural network': 'convolutional-neural-networks',\n",
       " 'cnn': 'convolutional-neural-networks',\n",
       " 'data augment': 'data-augmentation',\n",
       " 'embed': 'embeddings',\n",
       " 'flask': 'flask',\n",
       " 'gener adversari network': 'generative-adversarial-networks',\n",
       " 'gan': 'generative-adversarial-networks',\n",
       " 'graph neural network': 'graph-neural-networks',\n",
       " 'gnn': 'graph-neural-networks',\n",
       " 'graph': 'graphs',\n",
       " 'huggingfac': 'huggingface',\n",
       " 'imag classif': 'image-classification',\n",
       " 'interpret': 'interpretability',\n",
       " 'kera': 'keras',\n",
       " 'languag model': 'language-modeling',\n",
       " 'lm': 'language-modeling',\n",
       " 'natur languag process': 'natural-language-processing',\n",
       " 'nlp': 'natural-language-processing',\n",
       " 'nlproc': 'natural-language-processing',\n",
       " 'node classif': 'node-classification',\n",
       " 'object detect': 'object-detection',\n",
       " 'pretrain': 'pretraining',\n",
       " 'pre train': 'pretraining',\n",
       " 'product': 'production',\n",
       " 'pytorch': 'pytorch',\n",
       " 'question answer': 'question-answering',\n",
       " 'qa': 'question-answering',\n",
       " 'regress': 'regression',\n",
       " 'reinforc learn': 'reinforcement-learning',\n",
       " 'rl': 'reinforcement-learning',\n",
       " 'represent learn': 'representation-learning',\n",
       " 'scikit learn': 'scikit-learn',\n",
       " 'sklearn': 'scikit-learn',\n",
       " 'segment': 'segmentation',\n",
       " 'imag segment': 'segmentation',\n",
       " 'self supervis learn': 'self-supervised-learning',\n",
       " 'tensorflow': 'tensorflow',\n",
       " 'tf': 'tensorflow',\n",
       " 'tensorflow js': 'tensorflow-js',\n",
       " 'tf js': 'tensorflow-js',\n",
       " 'time seri': 'time-series',\n",
       " 'time seri analysi': 'time-series',\n",
       " 'transfer learn': 'transfer-learning',\n",
       " 'transform': 'transformers',\n",
       " 'unsupervis learn': 'unsupervised-learning',\n",
       " 'wandb': 'wandb',\n",
       " 'weight bias': 'wandb'}"
      ]
     },
     "metadata": {},
     "execution_count": 81
    }
   ],
   "source": [
    "# Map aliases\n",
    "aliases = {}\n",
    "for tag, values in tags_dict.items():\n",
    "    aliases[preprocess(tag, stem=True)] = tag\n",
    "    for alias in values['aliases']:\n",
    "        aliases[preprocess(alias, stem=True)] = tag\n",
    "aliases"
   ]
  },
  {
   "cell_type": "code",
   "execution_count": 82,
   "metadata": {},
   "outputs": [
    {
     "output_type": "stream",
     "name": "stdout",
     "text": [
      "generative-adversarial-networks\ngenerative-adversarial-networks\ngenerative-adversarial-networks\ngenerative-adversarial-networks\n"
     ]
    }
   ],
   "source": [
    "# Checks (we will write proper tests soon)\n",
    "print (aliases[preprocess('gan', stem=True)])\n",
    "print (aliases[preprocess('gans', stem=True)])\n",
    "print (aliases[preprocess('generative adversarial network', stem=True)])\n",
    "print (aliases[preprocess('generative adversarial networks', stem=True)])"
   ]
  },
  {
   "cell_type": "code",
   "execution_count": 83,
   "metadata": {},
   "outputs": [
    {
     "output_type": "execute_result",
     "data": {
      "text/plain": [
       "['data-augmentation',\n",
       " 'computer-vision',\n",
       " 'object-detection',\n",
       " 'generative-adversarial-networks']"
      ]
     },
     "metadata": {},
     "execution_count": 83
    }
   ],
   "source": [
    "# Sample\n",
    "text = \"This project extends gans for data augmentation specifically for object detection tasks.\"\n",
    "get_classes(text=preprocess(text, stem=True), aliases=aliases, tags_dict=tags_dict)"
   ]
  },
  {
   "cell_type": "code",
   "execution_count": 84,
   "metadata": {},
   "outputs": [],
   "source": [
    "# Prediction\n",
    "y_pred = []\n",
    "for text in X_test:\n",
    "    classes = get_classes(text, aliases, tags_dict)\n",
    "    y_pred.append(classes)"
   ]
  },
  {
   "cell_type": "code",
   "execution_count": 85,
   "metadata": {},
   "outputs": [],
   "source": [
    "# Encode labels\n",
    "y_pred = label_encoder.encode(y_pred)"
   ]
  },
  {
   "source": [
    "#### Evaluation"
   ],
   "cell_type": "markdown",
   "metadata": {}
  },
  {
   "cell_type": "code",
   "execution_count": 86,
   "metadata": {},
   "outputs": [
    {
     "output_type": "stream",
     "name": "stdout",
     "text": [
      "{\n    \"precision\": 0.4197732426303855,\n    \"recall\": 0.09591888816059155,\n    \"f1\": 0.14942598936879561,\n    \"num_samples\": 473.0\n}\n"
     ]
    }
   ],
   "source": [
    "# Evaluate\n",
    "performance = get_performance(y_true=y_test, y_pred=y_pred, classes=label_encoder.classes)\n",
    "print (json.dumps(performance['overall'], indent=4))"
   ]
  },
  {
   "cell_type": "code",
   "execution_count": 87,
   "metadata": {},
   "outputs": [
    {
     "output_type": "stream",
     "name": "stdout",
     "text": [
      "{\n  \"precision\": 0.8888888888888888,\n  \"recall\": 0.2962962962962963,\n  \"f1\": 0.4444444444444444,\n  \"num_samples\": 27.0\n}\n"
     ]
    }
   ],
   "source": [
    "# Inspection\n",
    "tag = \"transformers\"\n",
    "print (json.dumps(performance[\"class\"][tag], indent=2))"
   ]
  },
  {
   "cell_type": "code",
   "execution_count": 88,
   "metadata": {},
   "outputs": [],
   "source": [
    "# TP, FP, FN samples\n",
    "index = label_encoder.class_to_index[tag]\n",
    "tp, fp, fn = [], [], []\n",
    "for i in range(len(y_test)):\n",
    "    true = y_test[i][index]\n",
    "    pred = y_pred[i][index]\n",
    "    if true and pred:\n",
    "        tp.append(i)\n",
    "    elif not true and pred:\n",
    "        fp.append(i)\n",
    "    elif true and not pred:\n",
    "        fn.append(i)"
   ]
  },
  {
   "cell_type": "code",
   "execution_count": 89,
   "metadata": {},
   "outputs": [
    {
     "output_type": "stream",
     "name": "stdout",
     "text": [
      "[1, 46, 94, 165, 169, 190, 194, 199]\n[49]\n[4, 14, 15, 18, 28, 54, 61, 63, 72, 75, 89, 99, 137, 141, 142, 160, 163, 174, 206]\n"
     ]
    }
   ],
   "source": [
    "print (tp)\n",
    "print (fp)\n",
    "print (fn)"
   ]
  },
  {
   "cell_type": "code",
   "execution_count": 90,
   "metadata": {},
   "outputs": [
    {
     "output_type": "stream",
     "name": "stdout",
     "text": [
      "Insight Project Insight is designed to create NLP as a service with code base for both front end GUI (streamlit) and backend server (FastAPI) the usage of transformers \ntrue: ['attention', 'huggingface', 'natural-language-processing', 'pytorch', 'transfer-learning', 'transformers']\npred: ['natural-language-processing', 'transformers']\n\n"
     ]
    }
   ],
   "source": [
    "index = tp[0]\n",
    "print (X_test[index])\n",
    "print (f\"true: {label_encoder.decode([y_test[index]])[0]}\")\n",
    "print (f\"pred: {label_encoder.decode([y_pred[index]])[0]}\\n\")"
   ]
  },
  {
   "cell_type": "code",
   "execution_count": 91,
   "metadata": {},
   "outputs": [],
   "source": [
    "# Sorted tags\n",
    "sorted_tags_by_f1 = OrderedDict(sorted(\n",
    "        performance['class'].items(), key=lambda tag: tag[1]['f1'], reverse=True))"
   ]
  },
  {
   "cell_type": "code",
   "execution_count": 92,
   "metadata": {},
   "outputs": [
    {
     "output_type": "display_data",
     "data": {
      "text/plain": "interactive(children=(Dropdown(description='tag', index=3, options=('interpretability', 'segmentation', 'produ…",
      "application/vnd.jupyter.widget-view+json": {
       "version_major": 2,
       "version_minor": 0,
       "model_id": "8c03103d5d2640c98c856c3c48cb6cf6"
      }
     },
     "metadata": {}
    }
   ],
   "source": [
    "@widgets.interact(tag=list(sorted_tags_by_f1.keys()))\n",
    "def display_tag_analysis(tag='transformers'):\n",
    "    # Performance\n",
    "    print (json.dumps(performance[\"class\"][tag], indent=2))\n",
    "\n",
    "    # TP, FP, FN samples\n",
    "    index = label_encoder.class_to_index[tag]\n",
    "    tp, fp, fn = [], [], []\n",
    "    for i in range(len(y_test)):\n",
    "        true = y_test[i][index]\n",
    "        pred = y_pred[i][index]\n",
    "        if true and pred:\n",
    "            tp.append(i)\n",
    "        elif not true and pred:\n",
    "            fp.append(i)\n",
    "        elif true and not pred:\n",
    "            fn.append(i)\n",
    "\n",
    "    # Samples\n",
    "    num_samples = 3\n",
    "    if len(tp):\n",
    "        print (\"\\n=== True positives ===\\n\")\n",
    "        for i in tp[:num_samples]:\n",
    "            print (f\"  {X_test[i]}\")\n",
    "            print (f\"    true: {label_encoder.decode([y_test[i]])[0]}\")\n",
    "            print (f\"    pred: {label_encoder.decode([y_pred[i]])[0]}\\n\")\n",
    "    if len(fp):\n",
    "        print (\"=== False positives ===\\n\")\n",
    "        for i in fp[:num_samples]:\n",
    "            print (f\"  {X_test[i]}\")\n",
    "            print (f\"    true: {label_encoder.decode([y_test[i]])[0]}\")\n",
    "            print (f\"    pred: {label_encoder.decode([y_pred[i]])[0]}\\n\")\n",
    "    if len(fn):\n",
    "        print (\"=== False negatives ===\\n\")\n",
    "        for i in fn[:num_samples]:\n",
    "            print (f\"  {X_test[i]}\")\n",
    "            print (f\"    true: {label_encoder.decode([y_test[i]])[0]}\")\n",
    "            print (f\"    pred: {label_encoder.decode([y_pred[i]])[0]}\\n\")"
   ]
  },
  {
   "source": [
    "#### Inference"
   ],
   "cell_type": "markdown",
   "metadata": {}
  },
  {
   "cell_type": "code",
   "execution_count": 93,
   "metadata": {},
   "outputs": [
    {
     "output_type": "stream",
     "name": "stdout",
     "text": [
      "transfer learn transform self supervis learn\n"
     ]
    },
    {
     "output_type": "execute_result",
     "data": {
      "text/plain": [
       "['natural-language-processing',\n",
       " 'self-supervised-learning',\n",
       " 'transformers',\n",
       " 'transfer-learning']"
      ]
     },
     "metadata": {},
     "execution_count": 93
    }
   ],
   "source": [
    "# Infer\n",
    "text = \"Transfer learning with transformers for self-supervised learning\"\n",
    "print (preprocess(text, stem=True))\n",
    "get_classes(text=preprocess(text, stem=True), aliases=aliases, tags_dict=tags_dict)"
   ]
  },
  {
   "cell_type": "code",
   "execution_count": 94,
   "metadata": {},
   "outputs": [
    {
     "output_type": "stream",
     "name": "stdout",
     "text": [
      "transfer learn bert self supervis learn\n"
     ]
    },
    {
     "output_type": "execute_result",
     "data": {
      "text/plain": [
       "['self-supervised-learning', 'transfer-learning']"
      ]
     },
     "metadata": {},
     "execution_count": 94
    }
   ],
   "source": [
    "# Infer\n",
    "text = \"Transfer learning with BERT for self-supervised learning\"\n",
    "print (preprocess(text, stem=True))\n",
    "get_classes(text=preprocess(text, stem=True), aliases=aliases, tags_dict=tags_dict)"
   ]
  },
  {
   "source": [
    "Limitations : Failed to learned or generalize any imlpicit pattern to poredit the labels becaouse we treat the tokens as isolated entiries"
   ],
   "cell_type": "markdown",
   "metadata": {}
  },
  {
   "source": [
    "## Simple ML"
   ],
   "cell_type": "markdown",
   "metadata": {}
  },
  {
   "cell_type": "code",
   "execution_count": 95,
   "metadata": {},
   "outputs": [],
   "source": [
    "from sklearn.ensemble import RandomForestClassifier\n",
    "from sklearn.ensemble import GradientBoostingClassifier\n",
    "from sklearn.linear_model import LogisticRegression\n",
    "from sklearn.multiclass import OneVsRestClassifier\n",
    "from sklearn.neighbors import KNeighborsClassifier\n",
    "from sklearn.svm import LinearSVC\n"
   ]
  },
  {
   "cell_type": "code",
   "execution_count": 96,
   "metadata": {},
   "outputs": [],
   "source": [
    "from sklearn import metrics\n",
    "from sklearn.feature_extraction.text import TfidfVectorizer\n",
    "from sklearn.metrics import accuracy_score, precision_score, recall_score\n",
    "from sklearn.metrics import precision_recall_curve\n",
    "from sklearn.preprocessing import MultiLabelBinarizer"
   ]
  },
  {
   "cell_type": "code",
   "execution_count": 97,
   "metadata": {},
   "outputs": [],
   "source": [
    "#Setting seeds\n",
    "set_seed()"
   ]
  },
  {
   "cell_type": "code",
   "execution_count": 98,
   "metadata": {},
   "outputs": [],
   "source": [
    "#Getting data splits\n",
    "preprocessed_df=df.copy()\n",
    "preprocessed_df.text=preprocessed_df.text.apply(preprocess,lower=True,stem=True)\n",
    "X_train, X_val, X_test, y_train, y_val, y_test, label_encoder = get_data_splits(preprocessed_df)"
   ]
  },
  {
   "cell_type": "code",
   "execution_count": 99,
   "metadata": {},
   "outputs": [
    {
     "output_type": "stream",
     "name": "stdout",
     "text": [
      "Albumentations Fast image augmentation library and easy to use wrapper around other libraries.\n(1000, 3605)\n  (0, 1861)\t0.35101282857580157\n  (0, 2276)\t0.3322638000685066\n  (0, 260)\t0.312389028946533\n  (0, 3573)\t0.3634469148077632\n  (0, 3414)\t0.22983052113836\n  (0, 3256)\t0.10614373238476807\n  (0, 1012)\t0.2636058411307363\n  (0, 192)\t0.10345779731276887\n  (0, 1862)\t0.2072370467198702\n  (0, 304)\t0.2659773634649721\n  (0, 1596)\t0.18753138760686572\n  (0, 1222)\t0.2861993155492261\n  (0, 153)\t0.4020707144370318\n"
     ]
    }
   ],
   "source": [
    "#Using Tf-idf \n",
    "vectorizer=TfidfVectorizer()\n",
    "print(X_train[0])\n",
    "X_train = vectorizer.fit_transform(X_train)\n",
    "X_val = vectorizer.transform(X_val)\n",
    "X_test = vectorizer.transform(X_test)\n",
    "print (X_train.shape)\n",
    "print (X_train[0])"
   ]
  },
  {
   "cell_type": "code",
   "execution_count": 100,
   "metadata": {},
   "outputs": [],
   "source": [
    "def fit_and_evaluate(model):\n",
    "    \"\"\"Fit and evaluate each model.\"\"\"\n",
    "    model.fit(X_train, y_train)\n",
    "    y_pred = model.predict(X_test)\n",
    "    performance = get_performance(\n",
    "        y_true=y_test, y_pred=y_pred, classes=list(label_encoder.classes))\n",
    "    return performance['overall']"
   ]
  },
  {
   "cell_type": "code",
   "execution_count": 101,
   "metadata": {},
   "outputs": [
    {
     "output_type": "stream",
     "name": "stdout",
     "text": [
      "{\n  \"logistic-regression\": {\n    \"precision\": 0.3312317312317312,\n    \"recall\": 0.06427712804436943,\n    \"f1\": 0.10210451648045632,\n    \"num_samples\": 480.0\n  },\n  \"k-nearest-neighbors\": {\n    \"precision\": 0.6531082519964507,\n    \"recall\": 0.3227342860341629,\n    \"f1\": 0.41299426353846336,\n    \"num_samples\": 480.0\n  },\n  \"random-forest\": {\n    \"precision\": 0.5304325238867477,\n    \"recall\": 0.20684071484071484,\n    \"f1\": 0.2838581472925646,\n    \"num_samples\": 480.0\n  },\n  \"gradient-boosting-machine\": {\n    \"precision\": 0.7445866383444024,\n    \"recall\": 0.4956736941903197,\n    \"f1\": 0.5807018407182406,\n    \"num_samples\": 480.0\n  },\n  \"support-vector-machine\": {\n    \"precision\": 0.8026174159136747,\n    \"recall\": 0.3700476348364279,\n    \"f1\": 0.48829320873570664,\n    \"num_samples\": 480.0\n  }\n}\n"
     ]
    }
   ],
   "source": [
    "# Models\n",
    "performance = {}\n",
    "performance['logistic-regression'] = fit_and_evaluate(OneVsRestClassifier(\n",
    "    LogisticRegression(), n_jobs=1))\n",
    "performance['k-nearest-neighbors'] = fit_and_evaluate(\n",
    "    KNeighborsClassifier())\n",
    "performance['random-forest'] = fit_and_evaluate(\n",
    "    RandomForestClassifier(n_jobs=-1))\n",
    "performance['gradient-boosting-machine'] = fit_and_evaluate(OneVsRestClassifier(\n",
    "    GradientBoostingClassifier()))\n",
    "performance['support-vector-machine'] = fit_and_evaluate(OneVsRestClassifier(\n",
    "    LinearSVC(), n_jobs=-1))\n",
    "print (json.dumps(performance, indent=2))"
   ]
  },
  {
   "source": [
    "Limitations:\n",
    "TF-IDF representations don't encapsulate much signal beyond frequency but we require more fine-grained token representations."
   ],
   "cell_type": "markdown",
   "metadata": {}
  },
  {
   "source": [
    "## CNN w/ Embeddings"
   ],
   "cell_type": "markdown",
   "metadata": {}
  },
  {
   "cell_type": "code",
   "execution_count": 102,
   "metadata": {},
   "outputs": [],
   "source": [
    "import math \n",
    "import torch\n",
    "import torch.nn as nn\n",
    "import torch.nn.functional as F "
   ]
  },
  {
   "cell_type": "code",
   "execution_count": 103,
   "metadata": {},
   "outputs": [],
   "source": [
    "#Setting the seeds\n",
    "set_seed()"
   ]
  },
  {
   "cell_type": "code",
   "execution_count": 104,
   "metadata": {},
   "outputs": [],
   "source": [
    "# Get data splits\n",
    "preprocessed_df = df.copy()\n",
    "preprocessed_df.text = preprocessed_df.text.apply(preprocess, lower=True)\n",
    "X_train, X_val, X_test, y_train, y_val, y_test, label_encoder = get_data_splits(preprocessed_df)\n",
    "X_test_raw = X_test"
   ]
  },
  {
   "cell_type": "code",
   "execution_count": 105,
   "metadata": {},
   "outputs": [
    {
     "output_type": "stream",
     "name": "stdout",
     "text": [
      "cuda\n"
     ]
    }
   ],
   "source": [
    "# Set device\n",
    "cuda = True\n",
    "device = torch.device('cuda' if (\n",
    "    torch.cuda.is_available() and cuda) else 'cpu')\n",
    "torch.set_default_tensor_type('torch.FloatTensor')\n",
    "if device.type == 'cuda':\n",
    "    torch.set_default_tensor_type('torch.cuda.FloatTensor')\n",
    "print (device)"
   ]
  },
  {
   "cell_type": "code",
   "execution_count": 106,
   "metadata": {},
   "outputs": [],
   "source": [
    "class Tokenizer(object):\n",
    "    def __init__(self, char_level, num_tokens=None, \n",
    "                 pad_token='<PAD>', oov_token='<UNK>',\n",
    "                 token_to_index=None):\n",
    "        self.char_level = char_level\n",
    "        self.separator = '' if self.char_level else ' '\n",
    "        if num_tokens: num_tokens -= 2 # pad + unk tokens\n",
    "        self.num_tokens = num_tokens\n",
    "        self.oov_token = oov_token\n",
    "        if not token_to_index:\n",
    "            token_to_index = {'<PAD>': 0, '<UNK>': 1}\n",
    "        self.token_to_index = token_to_index\n",
    "        self.index_to_token = {v: k for k, v in self.token_to_index.items()}\n",
    "\n",
    "    def __len__(self):\n",
    "        return len(self.token_to_index)\n",
    "\n",
    "    def __str__(self):\n",
    "        return f\"<Tokenizer(num_tokens={len(self)})>\"\n",
    "\n",
    "    def fit_on_texts(self, texts):\n",
    "        if self.char_level:\n",
    "            all_tokens = [token for text in texts for token in text]\n",
    "        if not self.char_level:\n",
    "            all_tokens = [token for text in texts for token in text.split(' ')]\n",
    "        counts = Counter(all_tokens).most_common(self.num_tokens)\n",
    "        self.min_token_freq = counts[-1][1]\n",
    "        for token, count in counts:\n",
    "            index = len(self)\n",
    "            self.token_to_index[token] = index\n",
    "            self.index_to_token[index] = token\n",
    "        return self\n",
    "\n",
    "    def texts_to_sequences(self, texts):\n",
    "        sequences = []\n",
    "        for text in texts:\n",
    "            if not self.char_level:\n",
    "                text = text.split(' ')\n",
    "            sequence = []\n",
    "            for token in text:\n",
    "                sequence.append(self.token_to_index.get(\n",
    "                    token, self.token_to_index[self.oov_token]))\n",
    "            sequences.append(np.asarray(sequence))\n",
    "        return sequences\n",
    "\n",
    "    def sequences_to_texts(self, sequences):\n",
    "        texts = []\n",
    "        for sequence in sequences:\n",
    "            text = []\n",
    "            for index in sequence:\n",
    "                text.append(self.index_to_token.get(index, self.oov_token))\n",
    "            texts.append(self.separator.join([token for token in text]))\n",
    "        return texts\n",
    "\n",
    "    def save(self, fp):\n",
    "        with open(fp, 'w') as fp:\n",
    "            contents = {\n",
    "                'char_level': self.char_level,\n",
    "                'oov_token': self.oov_token,\n",
    "                'token_to_index': self.token_to_index\n",
    "            }\n",
    "            json.dump(contents, fp, indent=4, sort_keys=False)\n",
    "\n",
    "    @classmethod\n",
    "    def load(cls, fp):\n",
    "        with open(fp, 'r') as fp:\n",
    "            kwargs = json.load(fp=fp)\n",
    "        return cls(**kwargs)"
   ]
  },
  {
   "cell_type": "code",
   "execution_count": 107,
   "metadata": {},
   "outputs": [
    {
     "output_type": "stream",
     "name": "stdout",
     "text": [
      "<Tokenizer(num_tokens=136)>\n"
     ]
    }
   ],
   "source": [
    "# Tokenize\n",
    "char_level = True\n",
    "tokenizer = Tokenizer(char_level=char_level)\n",
    "tokenizer.fit_on_texts(texts=X_train)\n",
    "vocab_size = len(tokenizer)\n",
    "print (tokenizer)"
   ]
  },
  {
   "cell_type": "code",
   "execution_count": 108,
   "metadata": {},
   "outputs": [
    {
     "output_type": "execute_result",
     "data": {
      "text/plain": [
       "{'<PAD>': 0,\n",
       " '<UNK>': 1,\n",
       " ' ': 2,\n",
       " 'e': 3,\n",
       " 'n': 4,\n",
       " 'i': 5,\n",
       " 't': 6,\n",
       " 'a': 7,\n",
       " 'o': 8,\n",
       " 'r': 9,\n",
       " 's': 10,\n",
       " 'l': 11,\n",
       " 'c': 12,\n",
       " 'd': 13,\n",
       " 'g': 14,\n",
       " 'h': 15,\n",
       " 'm': 16,\n",
       " 'u': 17,\n",
       " 'p': 18,\n",
       " 'f': 19,\n",
       " 'y': 20,\n",
       " 'w': 21,\n",
       " 'b': 22,\n",
       " 'T': 23,\n",
       " 'v': 24,\n",
       " '.': 25,\n",
       " 'A': 26,\n",
       " '-': 27,\n",
       " 'L': 28,\n",
       " 'k': 29,\n",
       " 'P': 30,\n",
       " 'S': 31,\n",
       " 'N': 32,\n",
       " 'C': 33,\n",
       " 'M': 34,\n",
       " 'D': 35,\n",
       " 'I': 36,\n",
       " ',': 37,\n",
       " 'x': 38,\n",
       " 'R': 39,\n",
       " 'F': 40,\n",
       " 'G': 41,\n",
       " 'E': 42,\n",
       " 'B': 43,\n",
       " ':': 44,\n",
       " '2': 45,\n",
       " 'O': 46,\n",
       " 'z': 47,\n",
       " 'H': 48,\n",
       " 'W': 49,\n",
       " '0': 50,\n",
       " 'V': 51,\n",
       " '(': 52,\n",
       " ')': 53,\n",
       " 'j': 54,\n",
       " 'U': 55,\n",
       " 'K': 56,\n",
       " 'q': 57,\n",
       " '1': 58,\n",
       " '\"': 59,\n",
       " 'Q': 60,\n",
       " '\\r': 61,\n",
       " '\\n': 62,\n",
       " '/': 63,\n",
       " '&': 64,\n",
       " 'Y': 65,\n",
       " '3': 66,\n",
       " '+': 67,\n",
       " \"'\": 68,\n",
       " '?': 69,\n",
       " 'J': 70,\n",
       " '5': 71,\n",
       " '9': 72,\n",
       " 'X': 73,\n",
       " '8': 74,\n",
       " '6': 75,\n",
       " '4': 76,\n",
       " '’': 77,\n",
       " '!': 78,\n",
       " 'Z': 79,\n",
       " '—': 80,\n",
       " '7': 81,\n",
       " '“': 82,\n",
       " '”': 83,\n",
       " '|': 84,\n",
       " '🤗': 85,\n",
       " '️': 86,\n",
       " '%': 87,\n",
       " '=': 88,\n",
       " '–': 89,\n",
       " '💻': 90,\n",
       " '❤': 91,\n",
       " '_': 92,\n",
       " '🎨': 93,\n",
       " '>': 94,\n",
       " '🌊': 95,\n",
       " '^': 96,\n",
       " '🚗': 97,\n",
       " '🕶': 98,\n",
       " '<': 99,\n",
       " '\\u2060': 100,\n",
       " '⚡': 101,\n",
       " ';': 102,\n",
       " '@': 103,\n",
       " '#': 104,\n",
       " '🏥': 105,\n",
       " '💤': 106,\n",
       " '✨': 107,\n",
       " '😎': 108,\n",
       " '🔍': 109,\n",
       " '[': 110,\n",
       " ']': 111,\n",
       " '🦠': 112,\n",
       " '🍼': 113,\n",
       " '\\u2009': 114,\n",
       " '基': 115,\n",
       " '于': 116,\n",
       " '📈': 117,\n",
       " '⭐': 118,\n",
       " '🔥': 119,\n",
       " '*': 120,\n",
       " '…': 121,\n",
       " '🎐': 122,\n",
       " 'ç': 123,\n",
       " '🦄': 124,\n",
       " '✏': 125,\n",
       " '✂': 126,\n",
       " '🏡': 127,\n",
       " '𝘢': 128,\n",
       " '𝘯': 129,\n",
       " '𝘺': 130,\n",
       " '🐳': 131,\n",
       " '🤖': 132,\n",
       " '💬': 133,\n",
       " '🎥': 134,\n",
       " '👀': 135}"
      ]
     },
     "metadata": {},
     "execution_count": 108
    }
   ],
   "source": [
    "tokenizer.token_to_index"
   ]
  },
  {
   "cell_type": "code",
   "execution_count": 109,
   "metadata": {},
   "outputs": [
    {
     "output_type": "stream",
     "name": "stdout",
     "text": [
      "Text to indices:\n  (preprocessed) → Albumentations Fast image augmentation library and easy to use wrapper around other libraries.\n  (tokenized) → [26 11 22 17 16  3  4  6  7  6  5  8  4 10  2 40  7 10  6  2  5 16  7 14\n  3  2  7 17 14 16  3  4  6  7  6  5  8  4  2 11  5 22  9  7  9 20  2  7\n  4 13  2  3  7 10 20  2  6  8  2 17 10  3  2 21  9  7 18 18  3  9  2  7\n  9  8 17  4 13  2  8  6 15  3  9  2 11  5 22  9  7  9  5  3 10 25]\n"
     ]
    }
   ],
   "source": [
    "# Convert texts to sequences of indices\n",
    "# Convert texts to sequences of indices\n",
    "X_train = np.array(tokenizer.texts_to_sequences(X_train))\n",
    "X_val = np.array(tokenizer.texts_to_sequences(X_val))\n",
    "X_test = np.array(tokenizer.texts_to_sequences(X_test))\n",
    "preprocessed_text = tokenizer.sequences_to_texts([X_train[0]])[0]\n",
    "print (\"Text to indices:\\n\"\n",
    "    f\"  (preprocessed) → {preprocessed_text}\\n\"\n",
    "    f\"  (tokenized) → {X_train[0]}\")"
   ]
  },
  {
   "cell_type": "code",
   "execution_count": 110,
   "metadata": {},
   "outputs": [
    {
     "output_type": "stream",
     "name": "stdout",
     "text": [
      "class counts: [120  41 388 106  41  75  34  73  51  78  64  51  55  93  51 429  33  69\n  30  51 258  32  49  59  57  60  48  40 213  40  34  46 196  39  39],\nclass weights: {0: 0.008333333333333333, 1: 0.024390243902439025, 2: 0.002577319587628866, 3: 0.009433962264150943, 4: 0.024390243902439025, 5: 0.013333333333333334, 6: 0.029411764705882353, 7: 0.0136986301369863, 8: 0.0196078431372549, 9: 0.01282051282051282, 10: 0.015625, 11: 0.0196078431372549, 12: 0.01818181818181818, 13: 0.010752688172043012, 14: 0.0196078431372549, 15: 0.002331002331002331, 16: 0.030303030303030304, 17: 0.014492753623188406, 18: 0.03333333333333333, 19: 0.0196078431372549, 20: 0.003875968992248062, 21: 0.03125, 22: 0.02040816326530612, 23: 0.01694915254237288, 24: 0.017543859649122806, 25: 0.016666666666666666, 26: 0.020833333333333332, 27: 0.025, 28: 0.004694835680751174, 29: 0.025, 30: 0.029411764705882353, 31: 0.021739130434782608, 32: 0.00510204081632653, 33: 0.02564102564102564, 34: 0.02564102564102564}\n"
     ]
    }
   ],
   "source": [
    "# Class weights\n",
    "counts = np.bincount([label_encoder.class_to_index[class_] for class_ in all_tags])\n",
    "class_weights = {i: 1.0/count for i, count in enumerate(counts)}\n",
    "print (f\"class counts: {counts},\\nclass weights: {class_weights}\")"
   ]
  },
  {
   "cell_type": "code",
   "execution_count": 111,
   "metadata": {},
   "outputs": [],
   "source": [
    "def pad_sequences(sequences, max_seq_len=0):\n",
    "    \"\"\"Pad sequences to max length in sequence.\"\"\"\n",
    "    max_seq_len = max(max_seq_len, max(len(sequence) for sequence in sequences))\n",
    "    padded_sequences = np.zeros((len(sequences), max_seq_len))\n",
    "    for i, sequence in enumerate(sequences):\n",
    "        padded_sequences[i][:len(sequence)] = sequence\n",
    "    return padded_sequences"
   ]
  },
  {
   "cell_type": "code",
   "execution_count": 112,
   "metadata": {},
   "outputs": [],
   "source": [
    "class CNNTextDataset(torch.utils.data.Dataset):\n",
    "    def __init__(self, X, y, max_filter_size):\n",
    "        self.X = X\n",
    "        self.y = y\n",
    "        self.max_filter_size = max_filter_size\n",
    "\n",
    "    def __len__(self):\n",
    "        return len(self.y)\n",
    "\n",
    "    def __str__(self):\n",
    "        return f\"<Dataset(N={len(self)})>\"\n",
    "\n",
    "    def __getitem__(self, index):\n",
    "        X = self.X[index]\n",
    "        y = self.y[index]\n",
    "        return [X, y]\n",
    "\n",
    "    def collate_fn(self, batch):\n",
    "        \"\"\"Processing on a batch.\"\"\"\n",
    "        # Get inputs\n",
    "        batch = np.array(batch, dtype=object)\n",
    "        X = batch[:, 0]\n",
    "        y = np.stack(batch[:, 1], axis=0)\n",
    "\n",
    "        # Pad inputs\n",
    "        X = pad_sequences(sequences=X, max_seq_len=self.max_filter_size)\n",
    "\n",
    "        # Cast\n",
    "        X = torch.LongTensor(X.astype(np.int32))\n",
    "        y = torch.FloatTensor(y.astype(np.int32))\n",
    "\n",
    "        return X, y\n",
    "\n",
    "    def create_dataloader(self, batch_size, shuffle=False, drop_last=False):\n",
    "        return torch.utils.data.DataLoader(\n",
    "            dataset=self,\n",
    "            batch_size=batch_size,\n",
    "            collate_fn=self.collate_fn,\n",
    "            shuffle=shuffle,\n",
    "            drop_last=drop_last,\n",
    "            pin_memory=True)\n",
    "\n"
   ]
  },
  {
   "cell_type": "code",
   "execution_count": 113,
   "metadata": {},
   "outputs": [
    {
     "output_type": "stream",
     "name": "stdout",
     "text": [
      "Data splits:\n  Train dataset:<Dataset(N=1000)>\n  Val dataset: <Dataset(N=227)>\n  Test dataset: <Dataset(N=217)>\nSample point:\n  X: [26 11 22 17 16  3  4  6  7  6  5  8  4 10  2 40  7 10  6  2  5 16  7 14\n  3  2  7 17 14 16  3  4  6  7  6  5  8  4  2 11  5 22  9  7  9 20  2  7\n  4 13  2  3  7 10 20  2  6  8  2 17 10  3  2 21  9  7 18 18  3  9  2  7\n  9  8 17  4 13  2  8  6 15  3  9  2 11  5 22  9  7  9  5  3 10 25]\n  y: [0 0 1 0 1 0 0 0 0 0 0 0 0 0 0 0 0 0 0 0 0 0 0 0 0 0 0 0 0 0 0 0 0 0 0]\n"
     ]
    }
   ],
   "source": [
    "# Create datasets\n",
    "filter_sizes = list(range(1, 11))\n",
    "train_dataset = CNNTextDataset(\n",
    "    X=X_train, y=y_train, max_filter_size=max(filter_sizes))\n",
    "val_dataset = CNNTextDataset(\n",
    "    X=X_val, y=y_val, max_filter_size=max(filter_sizes))\n",
    "test_dataset = CNNTextDataset(\n",
    "    X=X_test, y=y_test, max_filter_size=max(filter_sizes))\n",
    "print (\"Data splits:\\n\"\n",
    "    f\"  Train dataset:{train_dataset.__str__()}\\n\"\n",
    "    f\"  Val dataset: {val_dataset.__str__()}\\n\"\n",
    "    f\"  Test dataset: {test_dataset.__str__()}\\n\"\n",
    "    \"Sample point:\\n\"\n",
    "    f\"  X: {train_dataset[0][0]}\\n\"\n",
    "    f\"  y: {train_dataset[0][1]}\")"
   ]
  },
  {
   "cell_type": "code",
   "execution_count": 114,
   "metadata": {},
   "outputs": [
    {
     "output_type": "stream",
     "name": "stdout",
     "text": [
      "Sample batch:\n  X: [128, 226]\n  y: [128, 35]\n"
     ]
    }
   ],
   "source": [
    "\n",
    "# Create dataloaders\n",
    "batch_size = 128\n",
    "train_dataloader = train_dataset.create_dataloader(\n",
    "    batch_size=batch_size)\n",
    "val_dataloader = val_dataset.create_dataloader(\n",
    "    batch_size=batch_size)\n",
    "test_dataloader = test_dataset.create_dataloader(\n",
    "    batch_size=batch_size)\n",
    "batch_X, batch_y = next(iter(train_dataloader))\n",
    "print (\"Sample batch:\\n\"\n",
    "    f\"  X: {list(batch_X.size())}\\n\"\n",
    "    f\"  y: {list(batch_y.size())}\")"
   ]
  },
  {
   "cell_type": "code",
   "execution_count": 115,
   "metadata": {},
   "outputs": [],
   "source": [
    "# Arguments\n",
    "embedding_dim = 128\n",
    "num_filters = 128\n",
    "hidden_dim = 128\n",
    "dropout_p = 0.5"
   ]
  },
  {
   "cell_type": "code",
   "execution_count": 116,
   "metadata": {},
   "outputs": [],
   "source": [
    "class CNN(nn.Module):\n",
    "    def __init__(self, embedding_dim, vocab_size, num_filters, filter_sizes,\n",
    "                 hidden_dim, dropout_p, num_classes, padding_idx=0):\n",
    "        super(CNN, self).__init__()\n",
    "\n",
    "        # Initialize embeddings\n",
    "        self.embeddings = nn.Embedding(\n",
    "                embedding_dim=embedding_dim, num_embeddings=vocab_size,\n",
    "                padding_idx=padding_idx)\n",
    "\n",
    "        # Conv weights\n",
    "        self.filter_sizes = filter_sizes\n",
    "        self.conv = nn.ModuleList(\n",
    "            [nn.Conv1d(in_channels=embedding_dim,\n",
    "                       out_channels=num_filters,\n",
    "                       kernel_size=f) for f in filter_sizes])\n",
    "\n",
    "        # FC weights\n",
    "        self.dropout = nn.Dropout(dropout_p)\n",
    "        self.fc1 = nn.Linear(num_filters*len(filter_sizes), hidden_dim)\n",
    "        self.fc2 = nn.Linear(hidden_dim, num_classes)\n",
    "\n",
    "    def forward(self, inputs, channel_first=False):\n",
    "\n",
    "        # Embed\n",
    "        x_in, = inputs\n",
    "        x_in = self.embeddings(x_in)\n",
    "        if not channel_first:\n",
    "            x_in = x_in.transpose(1, 2)  # (N, channels, sequence length)\n",
    "\n",
    "        z = []\n",
    "        max_seq_len = x_in.shape[2]\n",
    "        for i, f in enumerate(self.filter_sizes):\n",
    "\n",
    "            # `SAME` padding\n",
    "            padding_left = int(\n",
    "                (self.conv[i].stride[0]*(max_seq_len-1) - max_seq_len + self.filter_sizes[i])/2)\n",
    "            padding_right = int(math.ceil(\n",
    "                (self.conv[i].stride[0]*(max_seq_len-1) - max_seq_len + self.filter_sizes[i])/2))\n",
    "\n",
    "            # Conv\n",
    "            _z = self.conv[i](F.pad(x_in, (padding_left, padding_right)))\n",
    "\n",
    "            # Pool\n",
    "            _z = F.max_pool1d(_z, _z.size(2)).squeeze(2)\n",
    "            z.append(_z)\n",
    "\n",
    "        # Concat outputs\n",
    "        z = torch.cat(z, 1)\n",
    "\n",
    "        # FC\n",
    "        z = self.fc1(z)\n",
    "        z = self.dropout(z)\n",
    "        z = self.fc2(z)\n",
    "\n",
    "        return z"
   ]
  },
  {
   "cell_type": "code",
   "execution_count": 117,
   "metadata": {},
   "outputs": [
    {
     "output_type": "stream",
     "name": "stdout",
     "text": [
      "<bound method Module.named_parameters of CNN(\n  (embeddings): Embedding(136, 128, padding_idx=0)\n  (conv): ModuleList(\n    (0): Conv1d(128, 128, kernel_size=(1,), stride=(1,))\n    (1): Conv1d(128, 128, kernel_size=(2,), stride=(1,))\n    (2): Conv1d(128, 128, kernel_size=(3,), stride=(1,))\n    (3): Conv1d(128, 128, kernel_size=(4,), stride=(1,))\n    (4): Conv1d(128, 128, kernel_size=(5,), stride=(1,))\n    (5): Conv1d(128, 128, kernel_size=(6,), stride=(1,))\n    (6): Conv1d(128, 128, kernel_size=(7,), stride=(1,))\n    (7): Conv1d(128, 128, kernel_size=(8,), stride=(1,))\n    (8): Conv1d(128, 128, kernel_size=(9,), stride=(1,))\n    (9): Conv1d(128, 128, kernel_size=(10,), stride=(1,))\n  )\n  (dropout): Dropout(p=0.5, inplace=False)\n  (fc1): Linear(in_features=1280, out_features=128, bias=True)\n  (fc2): Linear(in_features=128, out_features=35, bias=True)\n)>\n"
     ]
    }
   ],
   "source": [
    "# Initialize model\n",
    "model = CNN(\n",
    "    embedding_dim=embedding_dim, vocab_size=vocab_size,\n",
    "    num_filters=num_filters, filter_sizes=filter_sizes,\n",
    "    hidden_dim=hidden_dim, dropout_p=dropout_p,\n",
    "    num_classes=num_classes)\n",
    "model = model.to(device)\n",
    "print (model.named_parameters)"
   ]
  },
  {
   "cell_type": "code",
   "execution_count": 118,
   "metadata": {},
   "outputs": [],
   "source": [
    "# Arguments\n",
    "lr = 2e-4\n",
    "num_epochs = 200\n",
    "patience = 10"
   ]
  },
  {
   "cell_type": "code",
   "execution_count": 119,
   "metadata": {},
   "outputs": [],
   "source": [
    "# Define loss\n",
    "class_weights_tensor = torch.Tensor(np.array(list(class_weights.values())))\n",
    "loss_fn = nn.BCEWithLogitsLoss(weight=class_weights_tensor)"
   ]
  },
  {
   "cell_type": "code",
   "execution_count": 120,
   "metadata": {},
   "outputs": [],
   "source": [
    "# Define optimizer & scheduler\n",
    "# Define optimizer & scheduler\n",
    "optimizer = torch.optim.Adam(model.parameters(), lr=lr)\n",
    "scheduler = torch.optim.lr_scheduler.ReduceLROnPlateau(\n",
    "    optimizer, mode='min', factor=0.1, patience=5)"
   ]
  },
  {
   "cell_type": "code",
   "execution_count": 121,
   "metadata": {},
   "outputs": [],
   "source": [
    "# Trainer module\n",
    "trainer = Trainer(\n",
    "    model=model, device=device, loss_fn=loss_fn, \n",
    "    optimizer=optimizer, scheduler=scheduler)"
   ]
  },
  {
   "cell_type": "code",
   "execution_count": 122,
   "metadata": {},
   "outputs": [
    {
     "output_type": "stream",
     "name": "stdout",
     "text": [
      "Epoch: 1 | train_loss: 0.00813, val_loss: 0.00326, lr: 2.00E-04, _patience: 10\n",
      "Epoch: 2 | train_loss: 0.00440, val_loss: 0.00280, lr: 2.00E-04, _patience: 10\n",
      "Epoch: 3 | train_loss: 0.00414, val_loss: 0.00296, lr: 2.00E-04, _patience: 9\n",
      "Epoch: 4 | train_loss: 0.00397, val_loss: 0.00283, lr: 2.00E-04, _patience: 8\n",
      "Epoch: 5 | train_loss: 0.00370, val_loss: 0.00266, lr: 2.00E-04, _patience: 10\n",
      "Epoch: 6 | train_loss: 0.00347, val_loss: 0.00260, lr: 2.00E-04, _patience: 10\n",
      "Epoch: 7 | train_loss: 0.00336, val_loss: 0.00258, lr: 2.00E-04, _patience: 10\n",
      "Epoch: 8 | train_loss: 0.00324, val_loss: 0.00256, lr: 2.00E-04, _patience: 10\n",
      "Epoch: 9 | train_loss: 0.00317, val_loss: 0.00254, lr: 2.00E-04, _patience: 10\n",
      "Epoch: 10 | train_loss: 0.00300, val_loss: 0.00251, lr: 2.00E-04, _patience: 10\n",
      "Epoch: 11 | train_loss: 0.00301, val_loss: 0.00248, lr: 2.00E-04, _patience: 10\n",
      "Epoch: 12 | train_loss: 0.00292, val_loss: 0.00245, lr: 2.00E-04, _patience: 10\n",
      "Epoch: 13 | train_loss: 0.00286, val_loss: 0.00242, lr: 2.00E-04, _patience: 10\n",
      "Epoch: 14 | train_loss: 0.00280, val_loss: 0.00239, lr: 2.00E-04, _patience: 10\n",
      "Epoch: 15 | train_loss: 0.00267, val_loss: 0.00235, lr: 2.00E-04, _patience: 10\n",
      "Epoch: 16 | train_loss: 0.00266, val_loss: 0.00231, lr: 2.00E-04, _patience: 10\n",
      "Epoch: 17 | train_loss: 0.00259, val_loss: 0.00227, lr: 2.00E-04, _patience: 10\n",
      "Epoch: 18 | train_loss: 0.00250, val_loss: 0.00223, lr: 2.00E-04, _patience: 10\n",
      "Epoch: 19 | train_loss: 0.00240, val_loss: 0.00219, lr: 2.00E-04, _patience: 10\n",
      "Epoch: 20 | train_loss: 0.00241, val_loss: 0.00215, lr: 2.00E-04, _patience: 10\n",
      "Epoch: 21 | train_loss: 0.00228, val_loss: 0.00212, lr: 2.00E-04, _patience: 10\n",
      "Epoch: 22 | train_loss: 0.00222, val_loss: 0.00207, lr: 2.00E-04, _patience: 10\n",
      "Epoch: 23 | train_loss: 0.00215, val_loss: 0.00204, lr: 2.00E-04, _patience: 10\n",
      "Epoch: 24 | train_loss: 0.00210, val_loss: 0.00200, lr: 2.00E-04, _patience: 10\n",
      "Epoch: 25 | train_loss: 0.00203, val_loss: 0.00196, lr: 2.00E-04, _patience: 10\n",
      "Epoch: 26 | train_loss: 0.00198, val_loss: 0.00193, lr: 2.00E-04, _patience: 10\n",
      "Epoch: 27 | train_loss: 0.00188, val_loss: 0.00190, lr: 2.00E-04, _patience: 10\n",
      "Epoch: 28 | train_loss: 0.00186, val_loss: 0.00187, lr: 2.00E-04, _patience: 10\n",
      "Epoch: 29 | train_loss: 0.00180, val_loss: 0.00184, lr: 2.00E-04, _patience: 10\n",
      "Epoch: 30 | train_loss: 0.00179, val_loss: 0.00182, lr: 2.00E-04, _patience: 10\n",
      "Epoch: 31 | train_loss: 0.00170, val_loss: 0.00179, lr: 2.00E-04, _patience: 10\n",
      "Epoch: 32 | train_loss: 0.00167, val_loss: 0.00177, lr: 2.00E-04, _patience: 10\n",
      "Epoch: 33 | train_loss: 0.00162, val_loss: 0.00175, lr: 2.00E-04, _patience: 10\n",
      "Epoch: 34 | train_loss: 0.00157, val_loss: 0.00172, lr: 2.00E-04, _patience: 10\n",
      "Epoch: 35 | train_loss: 0.00153, val_loss: 0.00172, lr: 2.00E-04, _patience: 10\n",
      "Epoch: 36 | train_loss: 0.00148, val_loss: 0.00169, lr: 2.00E-04, _patience: 10\n",
      "Epoch: 37 | train_loss: 0.00142, val_loss: 0.00167, lr: 2.00E-04, _patience: 10\n",
      "Epoch: 38 | train_loss: 0.00139, val_loss: 0.00165, lr: 2.00E-04, _patience: 10\n",
      "Epoch: 39 | train_loss: 0.00136, val_loss: 0.00164, lr: 2.00E-04, _patience: 10\n",
      "Epoch: 40 | train_loss: 0.00134, val_loss: 0.00164, lr: 2.00E-04, _patience: 10\n",
      "Epoch: 41 | train_loss: 0.00131, val_loss: 0.00162, lr: 2.00E-04, _patience: 10\n",
      "Epoch: 42 | train_loss: 0.00125, val_loss: 0.00159, lr: 2.00E-04, _patience: 10\n",
      "Epoch: 43 | train_loss: 0.00127, val_loss: 0.00161, lr: 2.00E-04, _patience: 9\n",
      "Epoch: 44 | train_loss: 0.00122, val_loss: 0.00158, lr: 2.00E-04, _patience: 10\n",
      "Epoch: 45 | train_loss: 0.00117, val_loss: 0.00158, lr: 2.00E-04, _patience: 10\n",
      "Epoch: 46 | train_loss: 0.00113, val_loss: 0.00160, lr: 2.00E-04, _patience: 9\n",
      "Epoch: 47 | train_loss: 0.00112, val_loss: 0.00156, lr: 2.00E-04, _patience: 10\n",
      "Epoch: 48 | train_loss: 0.00109, val_loss: 0.00156, lr: 2.00E-04, _patience: 10\n",
      "Epoch: 49 | train_loss: 0.00106, val_loss: 0.00156, lr: 2.00E-04, _patience: 9\n",
      "Epoch: 50 | train_loss: 0.00106, val_loss: 0.00156, lr: 2.00E-04, _patience: 10\n",
      "Epoch: 51 | train_loss: 0.00100, val_loss: 0.00156, lr: 2.00E-04, _patience: 9\n",
      "Epoch: 52 | train_loss: 0.00097, val_loss: 0.00155, lr: 2.00E-04, _patience: 10\n",
      "Epoch: 53 | train_loss: 0.00096, val_loss: 0.00154, lr: 2.00E-04, _patience: 10\n",
      "Epoch: 54 | train_loss: 0.00092, val_loss: 0.00151, lr: 2.00E-04, _patience: 10\n",
      "Epoch: 55 | train_loss: 0.00089, val_loss: 0.00154, lr: 2.00E-04, _patience: 9\n",
      "Epoch: 56 | train_loss: 0.00087, val_loss: 0.00155, lr: 2.00E-04, _patience: 8\n",
      "Epoch: 57 | train_loss: 0.00087, val_loss: 0.00150, lr: 2.00E-04, _patience: 10\n",
      "Epoch: 58 | train_loss: 0.00083, val_loss: 0.00151, lr: 2.00E-04, _patience: 9\n",
      "Epoch: 59 | train_loss: 0.00083, val_loss: 0.00152, lr: 2.00E-04, _patience: 8\n",
      "Epoch: 60 | train_loss: 0.00081, val_loss: 0.00154, lr: 2.00E-04, _patience: 7\n",
      "Epoch: 61 | train_loss: 0.00077, val_loss: 0.00154, lr: 2.00E-04, _patience: 6\n",
      "Epoch: 62 | train_loss: 0.00076, val_loss: 0.00150, lr: 2.00E-04, _patience: 5\n",
      "Epoch: 63 | train_loss: 0.00076, val_loss: 0.00150, lr: 2.00E-05, _patience: 4\n",
      "Epoch: 64 | train_loss: 0.00073, val_loss: 0.00150, lr: 2.00E-05, _patience: 3\n",
      "Epoch: 65 | train_loss: 0.00070, val_loss: 0.00153, lr: 2.00E-05, _patience: 2\n",
      "Epoch: 66 | train_loss: 0.00072, val_loss: 0.00154, lr: 2.00E-05, _patience: 1\n",
      "Stopping early!\n"
     ]
    }
   ],
   "source": [
    "# Train\n",
    "best_model = trainer.train(\n",
    "    num_epochs, patience, train_dataloader, val_dataloader)"
   ]
  },
  {
   "source": [
    "### Evaluation "
   ],
   "cell_type": "markdown",
   "metadata": {}
  },
  {
   "cell_type": "code",
   "execution_count": 123,
   "metadata": {},
   "outputs": [],
   "source": [
    "from pathlib import Path\n",
    "from sklearn.metrics import precision_recall_curve"
   ]
  },
  {
   "cell_type": "code",
   "execution_count": 124,
   "metadata": {},
   "outputs": [
    {
     "output_type": "execute_result",
     "data": {
      "text/plain": [
       "<matplotlib.legend.Legend at 0x2938502ff08>"
      ]
     },
     "metadata": {},
     "execution_count": 124
    },
    {
     "output_type": "display_data",
     "data": {
      "text/plain": "<Figure size 432x288 with 1 Axes>",
      "image/svg+xml": "<?xml version=\"1.0\" encoding=\"utf-8\" standalone=\"no\"?>\r\n<!DOCTYPE svg PUBLIC \"-//W3C//DTD SVG 1.1//EN\"\r\n  \"http://www.w3.org/Graphics/SVG/1.1/DTD/svg11.dtd\">\r\n<!-- Created with matplotlib (https://matplotlib.org/) -->\r\n<svg height=\"262.19625pt\" version=\"1.1\" viewBox=\"0 0 385.78125 262.19625\" width=\"385.78125pt\" xmlns=\"http://www.w3.org/2000/svg\" xmlns:xlink=\"http://www.w3.org/1999/xlink\">\r\n <defs>\r\n  <style type=\"text/css\">\r\n*{stroke-linecap:butt;stroke-linejoin:round;}\r\n  </style>\r\n </defs>\r\n <g id=\"figure_1\">\r\n  <g id=\"patch_1\">\r\n   <path d=\"M 0 262.19625 \r\nL 385.78125 262.19625 \r\nL 385.78125 0 \r\nL 0 0 \r\nz\r\n\" style=\"fill:none;\"/>\r\n  </g>\r\n  <g id=\"axes_1\">\r\n   <g id=\"patch_2\">\r\n    <path d=\"M 43.78125 224.64 \r\nL 378.58125 224.64 \r\nL 378.58125 7.2 \r\nL 43.78125 7.2 \r\nz\r\n\" style=\"fill:#ffffff;\"/>\r\n   </g>\r\n   <g id=\"matplotlib.axis_1\">\r\n    <g id=\"xtick_1\">\r\n     <g id=\"line2d_1\">\r\n      <defs>\r\n       <path d=\"M 0 0 \r\nL 0 3.5 \r\n\" id=\"m3ce24b8c11\" style=\"stroke:#000000;stroke-width:0.8;\"/>\r\n      </defs>\r\n      <g>\r\n       <use style=\"stroke:#000000;stroke-width:0.8;\" x=\"52.562349\" xlink:href=\"#m3ce24b8c11\" y=\"224.64\"/>\r\n      </g>\r\n     </g>\r\n     <g id=\"text_1\">\r\n      <!-- 0.0 -->\r\n      <defs>\r\n       <path d=\"M 31.78125 66.40625 \r\nQ 24.171875 66.40625 20.328125 58.90625 \r\nQ 16.5 51.421875 16.5 36.375 \r\nQ 16.5 21.390625 20.328125 13.890625 \r\nQ 24.171875 6.390625 31.78125 6.390625 \r\nQ 39.453125 6.390625 43.28125 13.890625 \r\nQ 47.125 21.390625 47.125 36.375 \r\nQ 47.125 51.421875 43.28125 58.90625 \r\nQ 39.453125 66.40625 31.78125 66.40625 \r\nz\r\nM 31.78125 74.21875 \r\nQ 44.046875 74.21875 50.515625 64.515625 \r\nQ 56.984375 54.828125 56.984375 36.375 \r\nQ 56.984375 17.96875 50.515625 8.265625 \r\nQ 44.046875 -1.421875 31.78125 -1.421875 \r\nQ 19.53125 -1.421875 13.0625 8.265625 \r\nQ 6.59375 17.96875 6.59375 36.375 \r\nQ 6.59375 54.828125 13.0625 64.515625 \r\nQ 19.53125 74.21875 31.78125 74.21875 \r\nz\r\n\" id=\"DejaVuSans-48\"/>\r\n       <path d=\"M 10.6875 12.40625 \r\nL 21 12.40625 \r\nL 21 0 \r\nL 10.6875 0 \r\nz\r\n\" id=\"DejaVuSans-46\"/>\r\n      </defs>\r\n      <g transform=\"translate(44.610787 239.238438)scale(0.1 -0.1)\">\r\n       <use xlink:href=\"#DejaVuSans-48\"/>\r\n       <use x=\"63.623047\" xlink:href=\"#DejaVuSans-46\"/>\r\n       <use x=\"95.410156\" xlink:href=\"#DejaVuSans-48\"/>\r\n      </g>\r\n     </g>\r\n    </g>\r\n    <g id=\"xtick_2\">\r\n     <g id=\"line2d_2\">\r\n      <g>\r\n       <use style=\"stroke:#000000;stroke-width:0.8;\" x=\"114.744323\" xlink:href=\"#m3ce24b8c11\" y=\"224.64\"/>\r\n      </g>\r\n     </g>\r\n     <g id=\"text_2\">\r\n      <!-- 0.2 -->\r\n      <defs>\r\n       <path d=\"M 19.1875 8.296875 \r\nL 53.609375 8.296875 \r\nL 53.609375 0 \r\nL 7.328125 0 \r\nL 7.328125 8.296875 \r\nQ 12.9375 14.109375 22.625 23.890625 \r\nQ 32.328125 33.6875 34.8125 36.53125 \r\nQ 39.546875 41.84375 41.421875 45.53125 \r\nQ 43.3125 49.21875 43.3125 52.78125 \r\nQ 43.3125 58.59375 39.234375 62.25 \r\nQ 35.15625 65.921875 28.609375 65.921875 \r\nQ 23.96875 65.921875 18.8125 64.3125 \r\nQ 13.671875 62.703125 7.8125 59.421875 \r\nL 7.8125 69.390625 \r\nQ 13.765625 71.78125 18.9375 73 \r\nQ 24.125 74.21875 28.421875 74.21875 \r\nQ 39.75 74.21875 46.484375 68.546875 \r\nQ 53.21875 62.890625 53.21875 53.421875 \r\nQ 53.21875 48.921875 51.53125 44.890625 \r\nQ 49.859375 40.875 45.40625 35.40625 \r\nQ 44.1875 33.984375 37.640625 27.21875 \r\nQ 31.109375 20.453125 19.1875 8.296875 \r\nz\r\n\" id=\"DejaVuSans-50\"/>\r\n      </defs>\r\n      <g transform=\"translate(106.792761 239.238438)scale(0.1 -0.1)\">\r\n       <use xlink:href=\"#DejaVuSans-48\"/>\r\n       <use x=\"63.623047\" xlink:href=\"#DejaVuSans-46\"/>\r\n       <use x=\"95.410156\" xlink:href=\"#DejaVuSans-50\"/>\r\n      </g>\r\n     </g>\r\n    </g>\r\n    <g id=\"xtick_3\">\r\n     <g id=\"line2d_3\">\r\n      <g>\r\n       <use style=\"stroke:#000000;stroke-width:0.8;\" x=\"176.926298\" xlink:href=\"#m3ce24b8c11\" y=\"224.64\"/>\r\n      </g>\r\n     </g>\r\n     <g id=\"text_3\">\r\n      <!-- 0.4 -->\r\n      <defs>\r\n       <path d=\"M 37.796875 64.3125 \r\nL 12.890625 25.390625 \r\nL 37.796875 25.390625 \r\nz\r\nM 35.203125 72.90625 \r\nL 47.609375 72.90625 \r\nL 47.609375 25.390625 \r\nL 58.015625 25.390625 \r\nL 58.015625 17.1875 \r\nL 47.609375 17.1875 \r\nL 47.609375 0 \r\nL 37.796875 0 \r\nL 37.796875 17.1875 \r\nL 4.890625 17.1875 \r\nL 4.890625 26.703125 \r\nz\r\n\" id=\"DejaVuSans-52\"/>\r\n      </defs>\r\n      <g transform=\"translate(168.974735 239.238438)scale(0.1 -0.1)\">\r\n       <use xlink:href=\"#DejaVuSans-48\"/>\r\n       <use x=\"63.623047\" xlink:href=\"#DejaVuSans-46\"/>\r\n       <use x=\"95.410156\" xlink:href=\"#DejaVuSans-52\"/>\r\n      </g>\r\n     </g>\r\n    </g>\r\n    <g id=\"xtick_4\">\r\n     <g id=\"line2d_4\">\r\n      <g>\r\n       <use style=\"stroke:#000000;stroke-width:0.8;\" x=\"239.108272\" xlink:href=\"#m3ce24b8c11\" y=\"224.64\"/>\r\n      </g>\r\n     </g>\r\n     <g id=\"text_4\">\r\n      <!-- 0.6 -->\r\n      <defs>\r\n       <path d=\"M 33.015625 40.375 \r\nQ 26.375 40.375 22.484375 35.828125 \r\nQ 18.609375 31.296875 18.609375 23.390625 \r\nQ 18.609375 15.53125 22.484375 10.953125 \r\nQ 26.375 6.390625 33.015625 6.390625 \r\nQ 39.65625 6.390625 43.53125 10.953125 \r\nQ 47.40625 15.53125 47.40625 23.390625 \r\nQ 47.40625 31.296875 43.53125 35.828125 \r\nQ 39.65625 40.375 33.015625 40.375 \r\nz\r\nM 52.59375 71.296875 \r\nL 52.59375 62.3125 \r\nQ 48.875 64.0625 45.09375 64.984375 \r\nQ 41.3125 65.921875 37.59375 65.921875 \r\nQ 27.828125 65.921875 22.671875 59.328125 \r\nQ 17.53125 52.734375 16.796875 39.40625 \r\nQ 19.671875 43.65625 24.015625 45.921875 \r\nQ 28.375 48.1875 33.59375 48.1875 \r\nQ 44.578125 48.1875 50.953125 41.515625 \r\nQ 57.328125 34.859375 57.328125 23.390625 \r\nQ 57.328125 12.15625 50.6875 5.359375 \r\nQ 44.046875 -1.421875 33.015625 -1.421875 \r\nQ 20.359375 -1.421875 13.671875 8.265625 \r\nQ 6.984375 17.96875 6.984375 36.375 \r\nQ 6.984375 53.65625 15.1875 63.9375 \r\nQ 23.390625 74.21875 37.203125 74.21875 \r\nQ 40.921875 74.21875 44.703125 73.484375 \r\nQ 48.484375 72.75 52.59375 71.296875 \r\nz\r\n\" id=\"DejaVuSans-54\"/>\r\n      </defs>\r\n      <g transform=\"translate(231.156709 239.238438)scale(0.1 -0.1)\">\r\n       <use xlink:href=\"#DejaVuSans-48\"/>\r\n       <use x=\"63.623047\" xlink:href=\"#DejaVuSans-46\"/>\r\n       <use x=\"95.410156\" xlink:href=\"#DejaVuSans-54\"/>\r\n      </g>\r\n     </g>\r\n    </g>\r\n    <g id=\"xtick_5\">\r\n     <g id=\"line2d_5\">\r\n      <g>\r\n       <use style=\"stroke:#000000;stroke-width:0.8;\" x=\"301.290246\" xlink:href=\"#m3ce24b8c11\" y=\"224.64\"/>\r\n      </g>\r\n     </g>\r\n     <g id=\"text_5\">\r\n      <!-- 0.8 -->\r\n      <defs>\r\n       <path d=\"M 31.78125 34.625 \r\nQ 24.75 34.625 20.71875 30.859375 \r\nQ 16.703125 27.09375 16.703125 20.515625 \r\nQ 16.703125 13.921875 20.71875 10.15625 \r\nQ 24.75 6.390625 31.78125 6.390625 \r\nQ 38.8125 6.390625 42.859375 10.171875 \r\nQ 46.921875 13.96875 46.921875 20.515625 \r\nQ 46.921875 27.09375 42.890625 30.859375 \r\nQ 38.875 34.625 31.78125 34.625 \r\nz\r\nM 21.921875 38.8125 \r\nQ 15.578125 40.375 12.03125 44.71875 \r\nQ 8.5 49.078125 8.5 55.328125 \r\nQ 8.5 64.0625 14.71875 69.140625 \r\nQ 20.953125 74.21875 31.78125 74.21875 \r\nQ 42.671875 74.21875 48.875 69.140625 \r\nQ 55.078125 64.0625 55.078125 55.328125 \r\nQ 55.078125 49.078125 51.53125 44.71875 \r\nQ 48 40.375 41.703125 38.8125 \r\nQ 48.828125 37.15625 52.796875 32.3125 \r\nQ 56.78125 27.484375 56.78125 20.515625 \r\nQ 56.78125 9.90625 50.3125 4.234375 \r\nQ 43.84375 -1.421875 31.78125 -1.421875 \r\nQ 19.734375 -1.421875 13.25 4.234375 \r\nQ 6.78125 9.90625 6.78125 20.515625 \r\nQ 6.78125 27.484375 10.78125 32.3125 \r\nQ 14.796875 37.15625 21.921875 38.8125 \r\nz\r\nM 18.3125 54.390625 \r\nQ 18.3125 48.734375 21.84375 45.5625 \r\nQ 25.390625 42.390625 31.78125 42.390625 \r\nQ 38.140625 42.390625 41.71875 45.5625 \r\nQ 45.3125 48.734375 45.3125 54.390625 \r\nQ 45.3125 60.0625 41.71875 63.234375 \r\nQ 38.140625 66.40625 31.78125 66.40625 \r\nQ 25.390625 66.40625 21.84375 63.234375 \r\nQ 18.3125 60.0625 18.3125 54.390625 \r\nz\r\n\" id=\"DejaVuSans-56\"/>\r\n      </defs>\r\n      <g transform=\"translate(293.338683 239.238438)scale(0.1 -0.1)\">\r\n       <use xlink:href=\"#DejaVuSans-48\"/>\r\n       <use x=\"63.623047\" xlink:href=\"#DejaVuSans-46\"/>\r\n       <use x=\"95.410156\" xlink:href=\"#DejaVuSans-56\"/>\r\n      </g>\r\n     </g>\r\n    </g>\r\n    <g id=\"xtick_6\">\r\n     <g id=\"line2d_6\">\r\n      <g>\r\n       <use style=\"stroke:#000000;stroke-width:0.8;\" x=\"363.47222\" xlink:href=\"#m3ce24b8c11\" y=\"224.64\"/>\r\n      </g>\r\n     </g>\r\n     <g id=\"text_6\">\r\n      <!-- 1.0 -->\r\n      <defs>\r\n       <path d=\"M 12.40625 8.296875 \r\nL 28.515625 8.296875 \r\nL 28.515625 63.921875 \r\nL 10.984375 60.40625 \r\nL 10.984375 69.390625 \r\nL 28.421875 72.90625 \r\nL 38.28125 72.90625 \r\nL 38.28125 8.296875 \r\nL 54.390625 8.296875 \r\nL 54.390625 0 \r\nL 12.40625 0 \r\nz\r\n\" id=\"DejaVuSans-49\"/>\r\n      </defs>\r\n      <g transform=\"translate(355.520657 239.238438)scale(0.1 -0.1)\">\r\n       <use xlink:href=\"#DejaVuSans-49\"/>\r\n       <use x=\"63.623047\" xlink:href=\"#DejaVuSans-46\"/>\r\n       <use x=\"95.410156\" xlink:href=\"#DejaVuSans-48\"/>\r\n      </g>\r\n     </g>\r\n    </g>\r\n    <g id=\"text_7\">\r\n     <!-- Threshold -->\r\n     <defs>\r\n      <path d=\"M -0.296875 72.90625 \r\nL 61.375 72.90625 \r\nL 61.375 64.59375 \r\nL 35.5 64.59375 \r\nL 35.5 0 \r\nL 25.59375 0 \r\nL 25.59375 64.59375 \r\nL -0.296875 64.59375 \r\nz\r\n\" id=\"DejaVuSans-84\"/>\r\n      <path d=\"M 54.890625 33.015625 \r\nL 54.890625 0 \r\nL 45.90625 0 \r\nL 45.90625 32.71875 \r\nQ 45.90625 40.484375 42.875 44.328125 \r\nQ 39.84375 48.1875 33.796875 48.1875 \r\nQ 26.515625 48.1875 22.3125 43.546875 \r\nQ 18.109375 38.921875 18.109375 30.90625 \r\nL 18.109375 0 \r\nL 9.078125 0 \r\nL 9.078125 75.984375 \r\nL 18.109375 75.984375 \r\nL 18.109375 46.1875 \r\nQ 21.34375 51.125 25.703125 53.5625 \r\nQ 30.078125 56 35.796875 56 \r\nQ 45.21875 56 50.046875 50.171875 \r\nQ 54.890625 44.34375 54.890625 33.015625 \r\nz\r\n\" id=\"DejaVuSans-104\"/>\r\n      <path d=\"M 41.109375 46.296875 \r\nQ 39.59375 47.171875 37.8125 47.578125 \r\nQ 36.03125 48 33.890625 48 \r\nQ 26.265625 48 22.1875 43.046875 \r\nQ 18.109375 38.09375 18.109375 28.8125 \r\nL 18.109375 0 \r\nL 9.078125 0 \r\nL 9.078125 54.6875 \r\nL 18.109375 54.6875 \r\nL 18.109375 46.1875 \r\nQ 20.953125 51.171875 25.484375 53.578125 \r\nQ 30.03125 56 36.53125 56 \r\nQ 37.453125 56 38.578125 55.875 \r\nQ 39.703125 55.765625 41.0625 55.515625 \r\nz\r\n\" id=\"DejaVuSans-114\"/>\r\n      <path d=\"M 56.203125 29.59375 \r\nL 56.203125 25.203125 \r\nL 14.890625 25.203125 \r\nQ 15.484375 15.921875 20.484375 11.0625 \r\nQ 25.484375 6.203125 34.421875 6.203125 \r\nQ 39.59375 6.203125 44.453125 7.46875 \r\nQ 49.3125 8.734375 54.109375 11.28125 \r\nL 54.109375 2.78125 \r\nQ 49.265625 0.734375 44.1875 -0.34375 \r\nQ 39.109375 -1.421875 33.890625 -1.421875 \r\nQ 20.796875 -1.421875 13.15625 6.1875 \r\nQ 5.515625 13.8125 5.515625 26.8125 \r\nQ 5.515625 40.234375 12.765625 48.109375 \r\nQ 20.015625 56 32.328125 56 \r\nQ 43.359375 56 49.78125 48.890625 \r\nQ 56.203125 41.796875 56.203125 29.59375 \r\nz\r\nM 47.21875 32.234375 \r\nQ 47.125 39.59375 43.09375 43.984375 \r\nQ 39.0625 48.390625 32.421875 48.390625 \r\nQ 24.90625 48.390625 20.390625 44.140625 \r\nQ 15.875 39.890625 15.1875 32.171875 \r\nz\r\n\" id=\"DejaVuSans-101\"/>\r\n      <path d=\"M 44.28125 53.078125 \r\nL 44.28125 44.578125 \r\nQ 40.484375 46.53125 36.375 47.5 \r\nQ 32.28125 48.484375 27.875 48.484375 \r\nQ 21.1875 48.484375 17.84375 46.4375 \r\nQ 14.5 44.390625 14.5 40.28125 \r\nQ 14.5 37.15625 16.890625 35.375 \r\nQ 19.28125 33.59375 26.515625 31.984375 \r\nL 29.59375 31.296875 \r\nQ 39.15625 29.25 43.1875 25.515625 \r\nQ 47.21875 21.78125 47.21875 15.09375 \r\nQ 47.21875 7.46875 41.1875 3.015625 \r\nQ 35.15625 -1.421875 24.609375 -1.421875 \r\nQ 20.21875 -1.421875 15.453125 -0.5625 \r\nQ 10.6875 0.296875 5.421875 2 \r\nL 5.421875 11.28125 \r\nQ 10.40625 8.6875 15.234375 7.390625 \r\nQ 20.0625 6.109375 24.8125 6.109375 \r\nQ 31.15625 6.109375 34.5625 8.28125 \r\nQ 37.984375 10.453125 37.984375 14.40625 \r\nQ 37.984375 18.0625 35.515625 20.015625 \r\nQ 33.0625 21.96875 24.703125 23.78125 \r\nL 21.578125 24.515625 \r\nQ 13.234375 26.265625 9.515625 29.90625 \r\nQ 5.8125 33.546875 5.8125 39.890625 \r\nQ 5.8125 47.609375 11.28125 51.796875 \r\nQ 16.75 56 26.8125 56 \r\nQ 31.78125 56 36.171875 55.265625 \r\nQ 40.578125 54.546875 44.28125 53.078125 \r\nz\r\n\" id=\"DejaVuSans-115\"/>\r\n      <path d=\"M 30.609375 48.390625 \r\nQ 23.390625 48.390625 19.1875 42.75 \r\nQ 14.984375 37.109375 14.984375 27.296875 \r\nQ 14.984375 17.484375 19.15625 11.84375 \r\nQ 23.34375 6.203125 30.609375 6.203125 \r\nQ 37.796875 6.203125 41.984375 11.859375 \r\nQ 46.1875 17.53125 46.1875 27.296875 \r\nQ 46.1875 37.015625 41.984375 42.703125 \r\nQ 37.796875 48.390625 30.609375 48.390625 \r\nz\r\nM 30.609375 56 \r\nQ 42.328125 56 49.015625 48.375 \r\nQ 55.71875 40.765625 55.71875 27.296875 \r\nQ 55.71875 13.875 49.015625 6.21875 \r\nQ 42.328125 -1.421875 30.609375 -1.421875 \r\nQ 18.84375 -1.421875 12.171875 6.21875 \r\nQ 5.515625 13.875 5.515625 27.296875 \r\nQ 5.515625 40.765625 12.171875 48.375 \r\nQ 18.84375 56 30.609375 56 \r\nz\r\n\" id=\"DejaVuSans-111\"/>\r\n      <path d=\"M 9.421875 75.984375 \r\nL 18.40625 75.984375 \r\nL 18.40625 0 \r\nL 9.421875 0 \r\nz\r\n\" id=\"DejaVuSans-108\"/>\r\n      <path d=\"M 45.40625 46.390625 \r\nL 45.40625 75.984375 \r\nL 54.390625 75.984375 \r\nL 54.390625 0 \r\nL 45.40625 0 \r\nL 45.40625 8.203125 \r\nQ 42.578125 3.328125 38.25 0.953125 \r\nQ 33.9375 -1.421875 27.875 -1.421875 \r\nQ 17.96875 -1.421875 11.734375 6.484375 \r\nQ 5.515625 14.40625 5.515625 27.296875 \r\nQ 5.515625 40.1875 11.734375 48.09375 \r\nQ 17.96875 56 27.875 56 \r\nQ 33.9375 56 38.25 53.625 \r\nQ 42.578125 51.265625 45.40625 46.390625 \r\nz\r\nM 14.796875 27.296875 \r\nQ 14.796875 17.390625 18.875 11.75 \r\nQ 22.953125 6.109375 30.078125 6.109375 \r\nQ 37.203125 6.109375 41.296875 11.75 \r\nQ 45.40625 17.390625 45.40625 27.296875 \r\nQ 45.40625 37.203125 41.296875 42.84375 \r\nQ 37.203125 48.484375 30.078125 48.484375 \r\nQ 22.953125 48.484375 18.875 42.84375 \r\nQ 14.796875 37.203125 14.796875 27.296875 \r\nz\r\n\" id=\"DejaVuSans-100\"/>\r\n     </defs>\r\n     <g transform=\"translate(186.432031 252.916563)scale(0.1 -0.1)\">\r\n      <use xlink:href=\"#DejaVuSans-84\"/>\r\n      <use x=\"61.083984\" xlink:href=\"#DejaVuSans-104\"/>\r\n      <use x=\"124.462891\" xlink:href=\"#DejaVuSans-114\"/>\r\n      <use x=\"165.544922\" xlink:href=\"#DejaVuSans-101\"/>\r\n      <use x=\"227.068359\" xlink:href=\"#DejaVuSans-115\"/>\r\n      <use x=\"279.167969\" xlink:href=\"#DejaVuSans-104\"/>\r\n      <use x=\"342.546875\" xlink:href=\"#DejaVuSans-111\"/>\r\n      <use x=\"403.728516\" xlink:href=\"#DejaVuSans-108\"/>\r\n      <use x=\"431.511719\" xlink:href=\"#DejaVuSans-100\"/>\r\n     </g>\r\n    </g>\r\n   </g>\r\n   <g id=\"matplotlib.axis_2\">\r\n    <g id=\"ytick_1\">\r\n     <g id=\"line2d_7\">\r\n      <defs>\r\n       <path d=\"M 0 0 \r\nL -3.5 0 \r\n\" id=\"m69017058a6\" style=\"stroke:#000000;stroke-width:0.8;\"/>\r\n      </defs>\r\n      <g>\r\n       <use style=\"stroke:#000000;stroke-width:0.8;\" x=\"43.78125\" xlink:href=\"#m69017058a6\" y=\"214.846174\"/>\r\n      </g>\r\n     </g>\r\n     <g id=\"text_8\">\r\n      <!-- 0.0 -->\r\n      <g transform=\"translate(20.878125 218.645393)scale(0.1 -0.1)\">\r\n       <use xlink:href=\"#DejaVuSans-48\"/>\r\n       <use x=\"63.623047\" xlink:href=\"#DejaVuSans-46\"/>\r\n       <use x=\"95.410156\" xlink:href=\"#DejaVuSans-48\"/>\r\n      </g>\r\n     </g>\r\n    </g>\r\n    <g id=\"ytick_2\">\r\n     <g id=\"line2d_8\">\r\n      <g>\r\n       <use style=\"stroke:#000000;stroke-width:0.8;\" x=\"43.78125\" xlink:href=\"#m69017058a6\" y=\"175.293667\"/>\r\n      </g>\r\n     </g>\r\n     <g id=\"text_9\">\r\n      <!-- 0.2 -->\r\n      <g transform=\"translate(20.878125 179.092885)scale(0.1 -0.1)\">\r\n       <use xlink:href=\"#DejaVuSans-48\"/>\r\n       <use x=\"63.623047\" xlink:href=\"#DejaVuSans-46\"/>\r\n       <use x=\"95.410156\" xlink:href=\"#DejaVuSans-50\"/>\r\n      </g>\r\n     </g>\r\n    </g>\r\n    <g id=\"ytick_3\">\r\n     <g id=\"line2d_9\">\r\n      <g>\r\n       <use style=\"stroke:#000000;stroke-width:0.8;\" x=\"43.78125\" xlink:href=\"#m69017058a6\" y=\"135.741159\"/>\r\n      </g>\r\n     </g>\r\n     <g id=\"text_10\">\r\n      <!-- 0.4 -->\r\n      <g transform=\"translate(20.878125 139.540378)scale(0.1 -0.1)\">\r\n       <use xlink:href=\"#DejaVuSans-48\"/>\r\n       <use x=\"63.623047\" xlink:href=\"#DejaVuSans-46\"/>\r\n       <use x=\"95.410156\" xlink:href=\"#DejaVuSans-52\"/>\r\n      </g>\r\n     </g>\r\n    </g>\r\n    <g id=\"ytick_4\">\r\n     <g id=\"line2d_10\">\r\n      <g>\r\n       <use style=\"stroke:#000000;stroke-width:0.8;\" x=\"43.78125\" xlink:href=\"#m69017058a6\" y=\"96.188651\"/>\r\n      </g>\r\n     </g>\r\n     <g id=\"text_11\">\r\n      <!-- 0.6 -->\r\n      <g transform=\"translate(20.878125 99.98787)scale(0.1 -0.1)\">\r\n       <use xlink:href=\"#DejaVuSans-48\"/>\r\n       <use x=\"63.623047\" xlink:href=\"#DejaVuSans-46\"/>\r\n       <use x=\"95.410156\" xlink:href=\"#DejaVuSans-54\"/>\r\n      </g>\r\n     </g>\r\n    </g>\r\n    <g id=\"ytick_5\">\r\n     <g id=\"line2d_11\">\r\n      <g>\r\n       <use style=\"stroke:#000000;stroke-width:0.8;\" x=\"43.78125\" xlink:href=\"#m69017058a6\" y=\"56.636144\"/>\r\n      </g>\r\n     </g>\r\n     <g id=\"text_12\">\r\n      <!-- 0.8 -->\r\n      <g transform=\"translate(20.878125 60.435363)scale(0.1 -0.1)\">\r\n       <use xlink:href=\"#DejaVuSans-48\"/>\r\n       <use x=\"63.623047\" xlink:href=\"#DejaVuSans-46\"/>\r\n       <use x=\"95.410156\" xlink:href=\"#DejaVuSans-56\"/>\r\n      </g>\r\n     </g>\r\n    </g>\r\n    <g id=\"ytick_6\">\r\n     <g id=\"line2d_12\">\r\n      <g>\r\n       <use style=\"stroke:#000000;stroke-width:0.8;\" x=\"43.78125\" xlink:href=\"#m69017058a6\" y=\"17.083636\"/>\r\n      </g>\r\n     </g>\r\n     <g id=\"text_13\">\r\n      <!-- 1.0 -->\r\n      <g transform=\"translate(20.878125 20.882855)scale(0.1 -0.1)\">\r\n       <use xlink:href=\"#DejaVuSans-49\"/>\r\n       <use x=\"63.623047\" xlink:href=\"#DejaVuSans-46\"/>\r\n       <use x=\"95.410156\" xlink:href=\"#DejaVuSans-48\"/>\r\n      </g>\r\n     </g>\r\n    </g>\r\n    <g id=\"text_14\">\r\n     <!-- Performance -->\r\n     <defs>\r\n      <path d=\"M 19.671875 64.796875 \r\nL 19.671875 37.40625 \r\nL 32.078125 37.40625 \r\nQ 38.96875 37.40625 42.71875 40.96875 \r\nQ 46.484375 44.53125 46.484375 51.125 \r\nQ 46.484375 57.671875 42.71875 61.234375 \r\nQ 38.96875 64.796875 32.078125 64.796875 \r\nz\r\nM 9.8125 72.90625 \r\nL 32.078125 72.90625 \r\nQ 44.34375 72.90625 50.609375 67.359375 \r\nQ 56.890625 61.8125 56.890625 51.125 \r\nQ 56.890625 40.328125 50.609375 34.8125 \r\nQ 44.34375 29.296875 32.078125 29.296875 \r\nL 19.671875 29.296875 \r\nL 19.671875 0 \r\nL 9.8125 0 \r\nz\r\n\" id=\"DejaVuSans-80\"/>\r\n      <path d=\"M 37.109375 75.984375 \r\nL 37.109375 68.5 \r\nL 28.515625 68.5 \r\nQ 23.6875 68.5 21.796875 66.546875 \r\nQ 19.921875 64.59375 19.921875 59.515625 \r\nL 19.921875 54.6875 \r\nL 34.71875 54.6875 \r\nL 34.71875 47.703125 \r\nL 19.921875 47.703125 \r\nL 19.921875 0 \r\nL 10.890625 0 \r\nL 10.890625 47.703125 \r\nL 2.296875 47.703125 \r\nL 2.296875 54.6875 \r\nL 10.890625 54.6875 \r\nL 10.890625 58.5 \r\nQ 10.890625 67.625 15.140625 71.796875 \r\nQ 19.390625 75.984375 28.609375 75.984375 \r\nz\r\n\" id=\"DejaVuSans-102\"/>\r\n      <path d=\"M 52 44.1875 \r\nQ 55.375 50.25 60.0625 53.125 \r\nQ 64.75 56 71.09375 56 \r\nQ 79.640625 56 84.28125 50.015625 \r\nQ 88.921875 44.046875 88.921875 33.015625 \r\nL 88.921875 0 \r\nL 79.890625 0 \r\nL 79.890625 32.71875 \r\nQ 79.890625 40.578125 77.09375 44.375 \r\nQ 74.3125 48.1875 68.609375 48.1875 \r\nQ 61.625 48.1875 57.5625 43.546875 \r\nQ 53.515625 38.921875 53.515625 30.90625 \r\nL 53.515625 0 \r\nL 44.484375 0 \r\nL 44.484375 32.71875 \r\nQ 44.484375 40.625 41.703125 44.40625 \r\nQ 38.921875 48.1875 33.109375 48.1875 \r\nQ 26.21875 48.1875 22.15625 43.53125 \r\nQ 18.109375 38.875 18.109375 30.90625 \r\nL 18.109375 0 \r\nL 9.078125 0 \r\nL 9.078125 54.6875 \r\nL 18.109375 54.6875 \r\nL 18.109375 46.1875 \r\nQ 21.1875 51.21875 25.484375 53.609375 \r\nQ 29.78125 56 35.6875 56 \r\nQ 41.65625 56 45.828125 52.96875 \r\nQ 50 49.953125 52 44.1875 \r\nz\r\n\" id=\"DejaVuSans-109\"/>\r\n      <path d=\"M 34.28125 27.484375 \r\nQ 23.390625 27.484375 19.1875 25 \r\nQ 14.984375 22.515625 14.984375 16.5 \r\nQ 14.984375 11.71875 18.140625 8.90625 \r\nQ 21.296875 6.109375 26.703125 6.109375 \r\nQ 34.1875 6.109375 38.703125 11.40625 \r\nQ 43.21875 16.703125 43.21875 25.484375 \r\nL 43.21875 27.484375 \r\nz\r\nM 52.203125 31.203125 \r\nL 52.203125 0 \r\nL 43.21875 0 \r\nL 43.21875 8.296875 \r\nQ 40.140625 3.328125 35.546875 0.953125 \r\nQ 30.953125 -1.421875 24.3125 -1.421875 \r\nQ 15.921875 -1.421875 10.953125 3.296875 \r\nQ 6 8.015625 6 15.921875 \r\nQ 6 25.140625 12.171875 29.828125 \r\nQ 18.359375 34.515625 30.609375 34.515625 \r\nL 43.21875 34.515625 \r\nL 43.21875 35.40625 \r\nQ 43.21875 41.609375 39.140625 45 \r\nQ 35.0625 48.390625 27.6875 48.390625 \r\nQ 23 48.390625 18.546875 47.265625 \r\nQ 14.109375 46.140625 10.015625 43.890625 \r\nL 10.015625 52.203125 \r\nQ 14.9375 54.109375 19.578125 55.046875 \r\nQ 24.21875 56 28.609375 56 \r\nQ 40.484375 56 46.34375 49.84375 \r\nQ 52.203125 43.703125 52.203125 31.203125 \r\nz\r\n\" id=\"DejaVuSans-97\"/>\r\n      <path d=\"M 54.890625 33.015625 \r\nL 54.890625 0 \r\nL 45.90625 0 \r\nL 45.90625 32.71875 \r\nQ 45.90625 40.484375 42.875 44.328125 \r\nQ 39.84375 48.1875 33.796875 48.1875 \r\nQ 26.515625 48.1875 22.3125 43.546875 \r\nQ 18.109375 38.921875 18.109375 30.90625 \r\nL 18.109375 0 \r\nL 9.078125 0 \r\nL 9.078125 54.6875 \r\nL 18.109375 54.6875 \r\nL 18.109375 46.1875 \r\nQ 21.34375 51.125 25.703125 53.5625 \r\nQ 30.078125 56 35.796875 56 \r\nQ 45.21875 56 50.046875 50.171875 \r\nQ 54.890625 44.34375 54.890625 33.015625 \r\nz\r\n\" id=\"DejaVuSans-110\"/>\r\n      <path d=\"M 48.78125 52.59375 \r\nL 48.78125 44.1875 \r\nQ 44.96875 46.296875 41.140625 47.34375 \r\nQ 37.3125 48.390625 33.40625 48.390625 \r\nQ 24.65625 48.390625 19.8125 42.84375 \r\nQ 14.984375 37.3125 14.984375 27.296875 \r\nQ 14.984375 17.28125 19.8125 11.734375 \r\nQ 24.65625 6.203125 33.40625 6.203125 \r\nQ 37.3125 6.203125 41.140625 7.25 \r\nQ 44.96875 8.296875 48.78125 10.40625 \r\nL 48.78125 2.09375 \r\nQ 45.015625 0.34375 40.984375 -0.53125 \r\nQ 36.96875 -1.421875 32.421875 -1.421875 \r\nQ 20.0625 -1.421875 12.78125 6.34375 \r\nQ 5.515625 14.109375 5.515625 27.296875 \r\nQ 5.515625 40.671875 12.859375 48.328125 \r\nQ 20.21875 56 33.015625 56 \r\nQ 37.15625 56 41.109375 55.140625 \r\nQ 45.0625 54.296875 48.78125 52.59375 \r\nz\r\n\" id=\"DejaVuSans-99\"/>\r\n     </defs>\r\n     <g transform=\"translate(14.798438 147.867656)rotate(-90)scale(0.1 -0.1)\">\r\n      <use xlink:href=\"#DejaVuSans-80\"/>\r\n      <use x=\"60.255859\" xlink:href=\"#DejaVuSans-101\"/>\r\n      <use x=\"121.779297\" xlink:href=\"#DejaVuSans-114\"/>\r\n      <use x=\"162.892578\" xlink:href=\"#DejaVuSans-102\"/>\r\n      <use x=\"198.097656\" xlink:href=\"#DejaVuSans-111\"/>\r\n      <use x=\"259.279297\" xlink:href=\"#DejaVuSans-114\"/>\r\n      <use x=\"300.376953\" xlink:href=\"#DejaVuSans-109\"/>\r\n      <use x=\"397.789062\" xlink:href=\"#DejaVuSans-97\"/>\r\n      <use x=\"459.068359\" xlink:href=\"#DejaVuSans-110\"/>\r\n      <use x=\"522.447266\" xlink:href=\"#DejaVuSans-99\"/>\r\n      <use x=\"577.427734\" xlink:href=\"#DejaVuSans-101\"/>\r\n     </g>\r\n    </g>\r\n   </g>\r\n   <g id=\"line2d_13\">\r\n    <path clip-path=\"url(#pbfeca32b17)\" d=\"M 58.999432 159.215987 \r\nL 59.000231 159.234146 \r\nL 59.090207 158.768443 \r\nL 59.627189 156.545163 \r\nL 59.702089 156.333559 \r\nL 59.837563 155.817784 \r\nL 60.347885 153.651833 \r\nL 60.395197 153.453319 \r\nL 60.70364 152.27065 \r\nL 60.819475 151.899631 \r\nL 60.943239 151.394958 \r\nL 61.223807 150.389585 \r\nL 61.288077 150.236504 \r\nL 61.401847 149.782595 \r\nL 62.054258 147.204318 \r\nL 66.24488 133.320638 \r\nL 66.338746 133.075033 \r\nL 66.485713 132.594937 \r\nL 66.765959 131.830536 \r\nL 66.853529 131.607675 \r\nL 67.352732 129.786184 \r\nL 67.38899 129.808283 \r\nL 67.533843 129.507086 \r\nL 67.741372 128.761767 \r\nL 67.821174 128.556233 \r\nL 67.963281 128.147078 \r\nL 68.152751 127.60619 \r\nL 68.175686 127.610877 \r\nL 68.2541 127.452523 \r\nL 69.741243 123.313481 \r\nL 69.826561 123.099802 \r\nL 69.910443 122.728359 \r\nL 69.962721 122.590752 \r\nL 70.19865 121.896506 \r\nL 70.280493 121.738838 \r\nL 70.804233 120.343252 \r\nL 70.977597 119.78061 \r\nL 70.984844 119.803261 \r\nL 71.238646 119.21267 \r\nL 71.434037 118.528657 \r\nL 71.449299 118.551337 \r\nL 71.472016 118.421995 \r\nL 71.552227 118.183964 \r\nL 71.847624 117.175696 \r\nL 71.99347 116.865053 \r\nL 72.1797 116.349481 \r\nL 72.26208 116.123623 \r\nL 72.539497 115.140513 \r\nL 72.902247 114.0197 \r\nL 73.026806 113.759289 \r\nL 73.361018 112.773673 \r\nL 73.556617 112.262458 \r\nL 73.815884 111.795499 \r\nL 73.929048 111.57282 \r\nL 74.087851 110.946764 \r\nL 74.282259 110.692516 \r\nL 74.305283 110.715209 \r\nL 74.338142 110.614135 \r\nL 74.437886 110.360591 \r\nL 74.54673 110.207872 \r\nL 74.694962 109.872465 \r\nL 74.996132 108.914156 \r\nL 75.055827 108.730883 \r\nL 75.170976 108.441597 \r\nL 75.363258 107.987432 \r\nL 75.490633 107.52895 \r\nL 76.849619 104.336325 \r\nL 76.958907 104.072498 \r\nL 77.559312 102.692426 \r\nL 77.70985 102.367428 \r\nL 77.822573 101.951061 \r\nL 77.901585 101.771672 \r\nL 78.04297 101.41118 \r\nL 78.260423 100.644527 \r\nL 78.560998 99.928665 \r\nL 78.66181 99.680463 \r\nL 78.934207 99.118069 \r\nL 79.480831 97.719926 \r\nL 79.620296 97.526649 \r\nL 79.7268 97.170645 \r\nL 79.924519 96.823945 \r\nL 80.197507 95.956834 \r\nL 80.699935 95.388938 \r\nL 80.850489 95.006981 \r\nL 81.137449 94.622215 \r\nL 81.396038 93.947493 \r\nL 82.27374 91.911155 \r\nL 82.353396 91.732678 \r\nL 82.439964 91.50359 \r\nL 82.671846 90.839337 \r\nL 82.827295 90.809881 \r\nL 82.939555 90.481839 \r\nL 83.556009 89.21087 \r\nL 83.630311 89.061438 \r\nL 83.737489 88.64866 \r\nL 84.278589 87.534305 \r\nL 84.486871 87.28635 \r\nL 84.685685 86.861022 \r\nL 84.952523 86.453945 \r\nL 85.020242 86.219153 \r\nL 85.54691 84.753693 \r\nL 86.090921 84.251744 \r\nL 86.217604 84.029052 \r\nL 86.254903 84.049869 \r\nL 86.291974 83.968477 \r\nL 86.415765 83.662662 \r\nL 86.607082 83.437358 \r\nL 86.723141 83.396623 \r\nL 87.052722 82.796858 \r\nL 87.23755 82.630286 \r\nL 87.407008 82.420928 \r\nL 87.57203 82.147825 \r\nL 87.699487 81.979372 \r\nL 87.794473 81.915574 \r\nL 87.914306 81.619326 \r\nL 88.15408 81.279136 \r\nL 88.262261 81.022851 \r\nL 88.413758 80.722607 \r\nL 88.571115 80.441365 \r\nL 88.58957 80.46173 \r\nL 88.603533 80.41852 \r\nL 88.814744 80.158673 \r\nL 89.346915 79.409967 \r\nL 89.498771 79.145701 \r\nL 89.839425 78.654266 \r\nL 89.967907 78.33752 \r\nL 90.202465 77.933648 \r\nL 90.347324 77.592583 \r\nL 90.62829 77.18409 \r\nL 90.854265 76.904344 \r\nL 90.857814 76.924192 \r\nL 90.864928 76.944053 \r\nL 90.887819 76.898268 \r\nL 90.989672 76.714827 \r\nL 91.165493 76.392628 \r\nL 91.384192 76.061966 \r\nL 91.599058 75.802674 \r\nL 91.754122 75.616038 \r\nL 91.900114 75.119745 \r\nL 92.495824 74.058082 \r\nL 92.625124 73.770172 \r\nL 92.759446 73.548623 \r\nL 93.051167 72.937641 \r\nL 93.183423 72.927266 \r\nL 93.187333 72.878497 \r\nL 93.784025 72.032881 \r\nL 93.962207 71.804339 \r\nL 94.047499 71.456305 \r\nL 94.163397 71.256667 \r\nL 94.264098 71.15664 \r\nL 94.471634 70.874494 \r\nL 94.64447 70.723528 \r\nL 94.946781 70.065665 \r\nL 94.972374 70.084274 \r\nL 95.005828 69.982508 \r\nL 95.007959 69.931572 \r\nL 95.0147 69.950161 \r\nL 95.187258 69.885328 \r\nL 96.060197 68.841801 \r\nL 96.839583 68.339738 \r\nL 97.119689 67.781086 \r\nL 97.228202 67.746558 \r\nL 97.302921 67.535436 \r\nL 97.344173 67.571667 \r\nL 97.561401 67.555024 \r\nL 97.867924 67.166357 \r\nL 97.995909 66.952947 \r\nL 98.008992 66.97097 \r\nL 98.207077 66.935531 \r\nL 98.357684 66.685549 \r\nL 98.460646 66.524271 \r\nL 98.728174 66.308687 \r\nL 98.974348 65.730334 \r\nL 99.27793 65.329003 \r\nL 99.384519 65.199806 \r\nL 99.859704 64.814403 \r\nL 99.884671 64.831971 \r\nL 99.919686 64.776737 \r\nL 100.058854 64.610792 \r\nL 100.155492 64.572907 \r\nL 100.319317 63.995432 \r\nL 100.729988 63.620323 \r\nL 100.893942 63.615998 \r\nL 101.177218 63.220847 \r\nL 101.183315 63.164228 \r\nL 101.186729 63.181441 \r\nL 101.681006 62.931955 \r\nL 102.148439 62.239664 \r\nL 102.328836 62.199147 \r\nL 102.39447 62.026274 \r\nL 103.964423 60.745495 \r\nL 104.004882 60.644333 \r\nL 104.234684 60.57624 \r\nL 104.240999 60.517111 \r\nL 104.397225 60.339449 \r\nL 104.457856 60.161377 \r\nL 104.705852 59.982895 \r\nL 104.711129 59.923309 \r\nL 104.73238 59.939798 \r\nL 104.975376 59.896636 \r\nL 105.197363 59.673947 \r\nL 105.325505 59.690392 \r\nL 105.328882 59.630463 \r\nL 106.10629 58.928374 \r\nL 106.633808 58.656962 \r\nL 108.465122 56.447948 \r\nL 108.585786 56.259304 \r\nL 108.597044 56.274862 \r\nL 108.802158 56.022561 \r\nL 108.89849 55.784874 \r\nL 109.139295 55.46726 \r\nL 109.144817 55.482595 \r\nL 109.289156 55.306648 \r\nL 109.49697 55.002005 \r\nL 109.698604 54.824579 \r\nL 109.771637 54.726164 \r\nL 109.816604 54.741318 \r\nL 110.047088 54.722313 \r\nL 110.297798 54.39883 \r\nL 110.389835 54.008922 \r\nL 110.427881 54.023883 \r\nL 110.93071 53.762808 \r\nL 111.360751 53.282323 \r\nL 111.580204 53.150488 \r\nL 112.030681 52.56909 \r\nL 112.350857 52.383884 \r\nL 112.376528 52.317192 \r\nL 112.699808 52.279353 \r\nL 113.417086 51.434449 \r\nL 113.815322 51.1778 \r\nL 114.386946 50.456065 \r\nL 115.394494 49.809318 \r\nL 115.565551 49.767546 \r\nL 115.813806 49.711964 \r\nL 115.817897 49.642609 \r\nL 115.906557 49.65629 \r\nL 116.175776 49.405399 \r\nL 116.317747 49.349278 \r\nL 117.599925 48.105211 \r\nL 117.799743 48.060526 \r\nL 117.848662 47.98931 \r\nL 118.01649 47.931212 \r\nL 118.056045 47.716943 \r\nL 118.130075 47.730057 \r\nL 118.318408 47.684698 \r\nL 118.410677 47.397602 \r\nL 118.728236 47.037343 \r\nL 118.877281 46.820442 \r\nL 118.894567 46.833259 \r\nL 119.924562 46.242033 \r\nL 120.253851 46.232115 \r\nL 120.605883 45.950935 \r\nL 121.860751 45.471432 \r\nL 121.934516 45.508751 \r\nL 122.656885 45.385036 \r\nL 122.99222 45.347851 \r\nL 123.570316 44.83672 \r\nL 123.595162 44.686535 \r\nL 124.582599 44.067236 \r\nL 124.774764 43.710603 \r\nL 124.779373 43.72248 \r\nL 125.214349 43.657977 \r\nL 125.797577 43.36349 \r\nL 126.039573 43.144679 \r\nL 126.175035 42.925082 \r\nL 126.934051 42.561152 \r\nL 127.235765 42.261531 \r\nL 127.248339 42.272903 \r\nL 127.515602 42.050038 \r\nL 127.652385 41.916013 \r\nL 128.193801 41.488758 \r\nL 128.537518 41.273668 \r\nL 128.638066 41.137059 \r\nL 128.969922 40.749855 \r\nL 129.861457 40.483716 \r\nL 129.93046 40.414148 \r\nL 130.247996 40.172664 \r\nL 130.271716 40.011302 \r\nL 130.305884 40.032502 \r\nL 130.499558 39.972819 \r\nL 130.86227 39.577518 \r\nL 131.106684 39.445803 \r\nL 132.000235 39.252253 \r\nL 132.938373 39.211561 \r\nL 133.197195 39.170677 \r\nL 133.419826 39.119236 \r\nL 133.668363 38.829116 \r\nL 133.849788 38.756243 \r\nL 134.406572 38.275829 \r\nL 135.426797 38.242253 \r\nL 136.000194 37.989962 \r\nL 136.172567 37.831256 \r\nL 136.369438 37.577653 \r\nL 136.504738 37.323322 \r\nL 138.605293 36.39153 \r\nL 139.22641 36.342488 \r\nL 139.375952 36.26526 \r\nL 139.532655 36.187882 \r\nL 140.007261 35.596755 \r\nL 140.334984 35.421793 \r\nL 140.478595 35.343099 \r\nL 141.040995 35.31775 \r\nL 141.061111 35.229659 \r\nL 141.516341 35.168116 \r\nL 142.563177 34.831556 \r\nL 143.427985 34.573505 \r\nL 143.539796 34.395194 \r\nL 143.876192 34.322966 \r\nL 144.198671 34.152427 \r\nL 144.199746 34.160898 \r\nL 144.375259 34.096525 \r\nL 144.482743 34.0066 \r\nL 145.250659 33.933359 \r\nL 145.384642 33.851532 \r\nL 146.015544 33.687388 \r\nL 146.876498 33.629901 \r\nL 146.991894 33.539066 \r\nL 147.538292 33.472797 \r\nL 147.565403 33.381655 \r\nL 148.196981 33.314902 \r\nL 149.122796 33.264208 \r\nL 149.568566 33.080606 \r\nL 149.678255 32.996715 \r\nL 150.4882 32.736075 \r\nL 150.603421 32.551097 \r\nL 150.896268 32.474109 \r\nL 151.132991 32.210807 \r\nL 151.565168 32.031979 \r\nL 151.940342 31.961371 \r\nL 152.214305 31.875302 \r\nL 152.504965 31.695132 \r\nL 152.505187 31.601112 \r\nL 153.517573 31.551581 \r\nL 153.531796 31.457099 \r\nL 156.761783 31.40082 \r\nL 157.425606 31.135729 \r\nL 157.741506 31.046995 \r\nL 158.922826 30.489505 \r\nL 160.490893 30.427656 \r\nL 160.55467 30.239961 \r\nL 161.038531 30.044817 \r\nL 161.177778 29.856018 \r\nL 161.70834 29.784946 \r\nL 162.655726 29.417441 \r\nL 162.663815 29.318545 \r\nL 162.671357 29.325074 \r\nL 163.378794 29.265046 \r\nL 164.108414 29.178556 \r\nL 164.261384 29.098242 \r\nL 165.120281 28.823452 \r\nL 165.52631 28.729296 \r\nL 165.648248 28.628693 \r\nL 167.313245 28.565238 \r\nL 167.620917 28.375135 \r\nL 168.680057 28.328745 \r\nL 168.791609 28.232811 \r\nL 170.981339 28.203691 \r\nL 171.075535 28.100744 \r\nL 171.730574 28.112911 \r\nL 172.052618 27.906462 \r\nL 172.527696 27.808998 \r\nL 172.804754 27.601755 \r\nL 173.102511 27.503737 \r\nL 175.579807 27.468932 \r\nL 175.988013 27.364193 \r\nL 179.789369 27.333864 \r\nL 180.011999 27.128009 \r\nL 180.415628 27.044511 \r\nL 180.553189 26.831705 \r\nL 181.10155 26.736064 \r\nL 181.272329 26.629244 \r\nL 182.553896 26.570817 \r\nL 182.92679 26.366137 \r\nL 183.07484 26.376776 \r\nL 184.479438 26.093579 \r\nL 184.504262 25.984662 \r\nL 185.112638 25.885784 \r\nL 185.768307 25.786562 \r\nL 185.859918 25.682008 \r\nL 186.250584 25.582143 \r\nL 187.287107 25.366884 \r\nL 187.434184 25.261353 \r\nL 190.096092 25.347992 \r\nL 190.118997 25.236391 \r\nL 190.416866 25.017473 \r\nL 194.014456 24.989418 \r\nL 194.047341 24.876071 \r\nL 194.643051 24.890052 \r\nL 194.920285 24.785593 \r\nL 195.867438 24.708216 \r\nL 197.126054 24.607211 \r\nL 199.566851 24.564587 \r\nL 200.386498 24.246307 \r\nL 200.701193 24.250706 \r\nL 204.739903 23.724916 \r\nL 204.853919 23.605985 \r\nL 206.045969 23.638617 \r\nL 206.051565 23.518963 \r\nL 206.705437 23.535112 \r\nL 207.973188 23.193576 \r\nL 208.450462 23.205155 \r\nL 208.868963 23.084017 \r\nL 209.417037 23.091612 \r\nL 210.149279 22.973902 \r\nL 210.772944 22.985122 \r\nL 210.911672 22.863228 \r\nL 212.603447 22.78467 \r\nL 213.011237 22.788325 \r\nL 213.166273 22.545286 \r\nL 215.503191 22.580591 \r\nL 215.779665 22.459705 \r\nL 220.870575 22.40402 \r\nL 221.013083 22.277662 \r\nL 223.572585 22.332808 \r\nL 223.76487 22.076976 \r\nL 223.845649 21.948805 \r\nL 224.459844 21.955283 \r\nL 224.497668 21.826775 \r\nL 225.19444 21.848999 \r\nL 226.010667 21.469499 \r\nL 226.264718 21.475402 \r\nL 226.272909 21.345186 \r\nL 226.354022 21.350933 \r\nL 227.283627 21.371171 \r\nL 227.398838 21.242821 \r\nL 228.627006 21.268373 \r\nL 228.629452 21.136147 \r\nL 230.108206 21.166827 \r\nL 230.205738 21.036161 \r\nL 230.208425 21.038887 \r\nL 230.933032 21.047087 \r\nL 230.934218 20.913063 \r\nL 231.02834 20.918367 \r\nL 235.833547 20.835982 \r\nL 235.938826 20.702092 \r\nL 236.381158 20.570282 \r\nL 237.374882 20.595045 \r\nL 237.375438 20.456985 \r\nL 237.44054 20.459384 \r\nL 241.200597 20.513045 \r\nL 241.404446 20.236372 \r\nL 250.941901 20.237025 \r\nL 251.119045 20.089146 \r\nL 251.427116 20.093721 \r\nL 251.658446 19.947576 \r\nL 253.249446 19.985172 \r\nL 259.17934 19.929141 \r\nL 259.410875 19.773207 \r\nL 260.379377 19.625163 \r\nL 261.332721 19.645742 \r\nL 261.588124 19.489507 \r\nL 267.964632 19.555668 \r\nL 267.990298 19.39279 \r\nL 272.907214 19.445987 \r\nL 273.332238 19.280998 \r\nL 277.325406 19.328975 \r\nL 277.342214 19.158069 \r\nL 278.267185 19.167175 \r\nL 278.340589 18.995225 \r\nL 281.876859 19.03992 \r\nL 282.065733 18.868497 \r\nL 282.204702 18.870109 \r\nL 283.186473 18.700224 \r\nL 283.504996 18.704641 \r\nL 283.63305 18.525843 \r\nL 284.126863 18.531121 \r\nL 284.214536 18.351345 \r\nL 284.974038 18.358349 \r\nL 285.05467 18.178263 \r\nL 285.86354 18.185378 \r\nL 286.242161 18.003462 \r\nL 290.794114 18.033504 \r\nL 290.980895 17.846462 \r\nL 310.489668 18.01979 \r\nL 315.750328 18.081178 \r\nL 316.282446 18.087507 \r\nL 316.888525 17.841347 \r\nL 319.033955 17.862229 \r\nL 319.215677 17.605437 \r\nL 323.811698 17.64387 \r\nL 323.866533 17.364151 \r\nL 330.963515 17.413241 \r\nL 331.12033 17.083636 \r\nL 363.363068 17.083636 \r\nL 363.363068 17.083636 \r\n\" style=\"fill:none;stroke:#ff0000;stroke-dasharray:5.55,2.4;stroke-dashoffset:0;stroke-width:1.5;\"/>\r\n   </g>\r\n   <g id=\"line2d_14\">\r\n    <path clip-path=\"url(#pbfeca32b17)\" d=\"M 58.999432 17.083636 \r\nL 59.111319 17.173447 \r\nL 62.573511 17.263257 \r\nL 62.676801 17.353068 \r\nL 64.758653 17.442878 \r\nL 64.869875 17.532688 \r\nL 66.58618 17.622499 \r\nL 66.70118 17.712309 \r\nL 67.352732 17.80212 \r\nL 67.49083 17.89193 \r\nL 68.152751 17.981741 \r\nL 68.275328 18.071551 \r\nL 68.537136 18.161361 \r\nL 68.624292 18.340982 \r\nL 69.566983 18.430793 \r\nL 69.654587 18.520603 \r\nL 70.294999 18.610413 \r\nL 70.469301 18.879845 \r\nL 70.709375 18.969655 \r\nL 70.80704 19.059466 \r\nL 71.434037 19.149276 \r\nL 71.556397 19.239086 \r\nL 73.216237 19.328897 \r\nL 73.310987 19.418707 \r\nL 73.990485 19.508518 \r\nL 74.098763 19.598328 \r\nL 74.282259 19.688138 \r\nL 74.364554 19.777949 \r\nL 75.345628 19.867759 \r\nL 75.468249 20.04738 \r\nL 75.646017 20.137191 \r\nL 75.753014 20.227001 \r\nL 76.062148 20.316811 \r\nL 76.191744 20.496432 \r\nL 76.775416 20.586243 \r\nL 76.861386 20.676053 \r\nL 77.305669 20.765863 \r\nL 77.398782 20.855674 \r\nL 78.131492 20.945484 \r\nL 78.244567 21.035295 \r\nL 79.777503 21.125105 \r\nL 79.885297 21.214916 \r\nL 79.950025 21.304726 \r\nL 80.050344 21.394536 \r\nL 80.37494 21.484347 \r\nL 80.488262 21.574157 \r\nL 80.659145 21.663968 \r\nL 81.102496 21.753778 \r\nL 81.244861 22.023209 \r\nL 82.111238 22.11302 \r\nL 82.266035 22.292641 \r\nL 82.546012 22.382451 \r\nL 82.671846 22.472261 \r\nL 82.881268 22.651882 \r\nL 83.753149 22.741693 \r\nL 83.866574 22.831503 \r\nL 84.169715 22.921313 \r\nL 84.278589 23.011124 \r\nL 84.726272 23.100934 \r\nL 84.845442 23.190745 \r\nL 85.344961 23.280555 \r\nL 85.450057 23.370366 \r\nL 85.868687 23.460176 \r\nL 86.090921 23.639797 \r\nL 86.217604 23.729607 \r\nL 86.40589 23.909228 \r\nL 86.607082 23.999038 \r\nL 87.052722 24.448091 \r\nL 87.327688 24.537901 \r\nL 87.407008 24.627711 \r\nL 87.699487 24.717522 \r\nL 87.838618 24.807332 \r\nL 88.571115 24.897143 \r\nL 88.668413 24.986953 \r\nL 88.881321 25.076763 \r\nL 88.977503 25.166574 \r\nL 89.20418 25.256384 \r\nL 89.311355 25.346195 \r\nL 89.721468 25.436005 \r\nL 89.843824 25.525816 \r\nL 90.033593 25.705436 \r\nL 90.662238 25.795247 \r\nL 90.743261 25.974868 \r\nL 90.857814 26.064678 \r\nL 90.967955 26.154488 \r\nL 91.214901 26.244299 \r\nL 91.32926 26.334109 \r\nL 91.830282 26.42392 \r\nL 91.921875 26.51373 \r\nL 92.102267 26.603541 \r\nL 92.206887 26.693351 \r\nL 92.411551 26.783161 \r\nL 92.495824 26.872972 \r\nL 92.793799 26.962782 \r\nL 92.901121 27.052593 \r\nL 93.118989 27.142403 \r\nL 93.217044 27.232213 \r\nL 93.739628 27.322024 \r\nL 93.863063 27.411834 \r\nL 94.400588 27.501645 \r\nL 94.592896 27.591455 \r\nL 95.007959 27.681266 \r\nL 95.0147 27.771076 \r\nL 95.352111 27.950697 \r\nL 95.808995 28.040507 \r\nL 95.981622 28.130318 \r\nL 96.879361 28.220128 \r\nL 96.962022 28.309938 \r\nL 97.302921 28.399749 \r\nL 97.561401 28.758991 \r\nL 97.850602 28.848801 \r\nL 97.95891 28.938611 \r\nL 98.008992 29.028422 \r\nL 98.207077 29.118232 \r\nL 98.863372 29.208043 \r\nL 98.974348 29.297853 \r\nL 99.234241 29.387663 \r\nL 99.384519 29.657095 \r\nL 100.058854 29.746905 \r\nL 100.365354 30.016336 \r\nL 100.729988 30.106147 \r\nL 100.985035 30.375578 \r\nL 101.390346 30.465388 \r\nL 101.503963 30.645009 \r\nL 101.765862 30.73482 \r\nL 101.915343 30.82463 \r\nL 102.148439 30.914441 \r\nL 102.345528 31.004251 \r\nL 102.651899 31.094061 \r\nL 102.813004 31.273682 \r\nL 103.239858 31.453303 \r\nL 103.773954 31.543113 \r\nL 103.799505 31.632924 \r\nL 104.004882 31.722734 \r\nL 104.457856 31.992166 \r\nL 104.73238 32.081976 \r\nL 105.411714 32.441218 \r\nL 105.503677 32.531028 \r\nL 105.849242 32.800459 \r\nL 106.39222 32.89027 \r\nL 106.448024 32.98008 \r\nL 107.729619 33.069891 \r\nL 107.849908 33.249511 \r\nL 108.339834 33.339322 \r\nL 108.477941 33.429132 \r\nL 108.852893 33.518943 \r\nL 108.986951 33.608753 \r\nL 109.192004 33.698563 \r\nL 109.49697 33.878184 \r\nL 109.705915 33.967995 \r\nL 109.816604 34.237426 \r\nL 110.346708 34.506857 \r\nL 110.976979 34.596668 \r\nL 111.064277 34.776288 \r\nL 111.854922 34.866099 \r\nL 111.935859 34.955909 \r\nL 112.376528 35.04572 \r\nL 113.07198 35.315151 \r\nL 113.771152 35.404961 \r\nL 113.861767 35.494772 \r\nL 114.281102 35.584582 \r\nL 114.386946 35.674393 \r\nL 114.929655 35.764203 \r\nL 115.017898 35.854013 \r\nL 115.517674 35.943824 \r\nL 115.565551 36.123445 \r\nL 116.008643 36.392876 \r\nL 116.022783 36.482686 \r\nL 116.491588 36.572497 \r\nL 116.536258 36.752118 \r\nL 116.855545 36.841928 \r\nL 117.239174 36.931738 \r\nL 118.337023 37.740032 \r\nL 118.998015 37.829843 \r\nL 119.071419 38.009463 \r\nL 119.335861 38.099274 \r\nL 119.831264 38.189084 \r\nL 120.069563 38.548326 \r\nL 120.192548 38.638136 \r\nL 120.435647 38.817757 \r\nL 120.856867 38.907568 \r\nL 121.186068 38.997378 \r\nL 121.860751 39.087188 \r\nL 121.934516 39.35662 \r\nL 122.570727 39.44643 \r\nL 122.99222 39.805672 \r\nL 123.95438 39.895482 \r\nL 124.051926 40.075103 \r\nL 124.492897 40.164913 \r\nL 124.582599 40.344534 \r\nL 124.667183 40.434345 \r\nL 124.779373 40.613966 \r\nL 125.214349 40.703776 \r\nL 125.974712 40.793586 \r\nL 126.126996 40.973207 \r\nL 126.724356 41.063018 \r\nL 127.077301 41.242638 \r\nL 127.429801 41.332449 \r\nL 127.887255 41.871311 \r\nL 128.399091 41.961122 \r\nL 128.839565 42.410174 \r\nL 129.497611 42.499984 \r\nL 129.743781 42.859226 \r\nL 130.271716 42.949036 \r\nL 130.499558 43.308278 \r\nL 130.97245 43.398088 \r\nL 131.106684 43.66752 \r\nL 131.562072 43.75733 \r\nL 131.887294 43.936951 \r\nL 132.253035 44.206382 \r\nL 132.755669 44.386003 \r\nL 133.116221 44.655434 \r\nL 133.197195 44.835055 \r\nL 133.462578 45.104486 \r\nL 133.594616 45.284107 \r\nL 133.635961 45.373918 \r\nL 133.766516 45.553538 \r\nL 134.301146 45.643349 \r\nL 134.406572 45.733159 \r\nL 134.71052 45.91278 \r\nL 134.818856 46.002591 \r\nL 135.41552 46.092401 \r\nL 135.426797 46.182211 \r\nL 136.688572 46.272022 \r\nL 136.76116 46.451643 \r\nL 137.740735 46.541453 \r\nL 138.125786 47.080316 \r\nL 139.290104 47.529368 \r\nL 139.607644 47.708988 \r\nL 139.90681 47.798799 \r\nL 140.007261 47.888609 \r\nL 140.478595 47.97842 \r\nL 140.935373 48.337661 \r\nL 141.061111 48.607093 \r\nL 142.110587 48.966334 \r\nL 144.198671 49.415386 \r\nL 144.308703 49.684818 \r\nL 144.482743 49.774628 \r\nL 145.250659 49.954249 \r\nL 145.606105 50.044059 \r\nL 145.631271 50.13387 \r\nL 146.015544 50.22368 \r\nL 146.375373 50.403301 \r\nL 146.392413 50.493111 \r\nL 147.204249 50.672732 \r\nL 147.213728 50.762543 \r\nL 147.565403 50.852353 \r\nL 147.843008 51.031974 \r\nL 148.885127 51.391216 \r\nL 148.906318 51.481026 \r\nL 149.122796 51.570836 \r\nL 150.040679 51.660647 \r\nL 151.102312 52.109699 \r\nL 151.132991 52.199509 \r\nL 151.755137 52.28932 \r\nL 151.787585 52.468941 \r\nL 152.214305 52.648561 \r\nL 152.505187 52.738372 \r\nL 152.848885 53.007803 \r\nL 152.929072 53.097613 \r\nL 154.540011 53.456855 \r\nL 154.932577 53.726286 \r\nL 155.759785 54.265149 \r\nL 157.741506 55.253063 \r\nL 158.317693 55.342874 \r\nL 158.922826 55.522495 \r\nL 159.858231 55.791926 \r\nL 160.55467 56.061357 \r\nL 161.177778 56.151168 \r\nL 161.47019 56.330788 \r\nL 161.70834 56.510409 \r\nL 162.390306 56.60022 \r\nL 162.518174 56.69003 \r\nL 162.812707 57.049272 \r\nL 163.019993 57.139082 \r\nL 163.055463 57.228893 \r\nL 163.351877 57.408513 \r\nL 163.378794 57.498324 \r\nL 164.010734 57.588134 \r\nL 164.520457 57.947376 \r\nL 164.949845 58.037186 \r\nL 165.120281 58.306618 \r\nL 165.52631 58.396428 \r\nL 166.156266 58.486238 \r\nL 166.675023 58.665859 \r\nL 167.189444 58.84548 \r\nL 167.975048 59.294532 \r\nL 168.301298 59.563963 \r\nL 168.336841 59.653774 \r\nL 168.573083 59.833395 \r\nL 168.68772 59.923205 \r\nL 168.791609 60.013016 \r\nL 170.297261 60.551878 \r\nL 170.406876 60.821309 \r\nL 172.052618 61.270361 \r\nL 174.474624 61.809224 \r\nL 174.490376 61.899034 \r\nL 175.357825 62.258276 \r\nL 175.50732 62.527707 \r\nL 176.510013 62.617518 \r\nL 177.600732 62.886949 \r\nL 177.66638 63.06657 \r\nL 178.941526 63.15638 \r\nL 178.980331 63.336001 \r\nL 180.399811 63.964674 \r\nL 180.443611 64.144295 \r\nL 180.985449 64.234105 \r\nL 181.272329 64.323916 \r\nL 181.820959 64.503536 \r\nL 181.848997 64.593347 \r\nL 182.158245 64.862778 \r\nL 183.07484 65.491451 \r\nL 183.750514 65.581261 \r\nL 184.281298 66.030313 \r\nL 184.285718 66.120124 \r\nL 185.112638 66.389555 \r\nL 185.789331 66.569176 \r\nL 186.082317 66.838607 \r\nL 187.392997 66.928418 \r\nL 187.563655 67.108038 \r\nL 188.648036 67.37747 \r\nL 188.679271 67.557091 \r\nL 189.100404 67.826522 \r\nL 189.159288 67.916332 \r\nL 189.661756 68.095953 \r\nL 190.08627 68.545005 \r\nL 190.118997 68.634816 \r\nL 190.416866 68.724626 \r\nL 191.544194 69.083868 \r\nL 191.952873 69.62273 \r\nL 192.924831 69.802351 \r\nL 194.047341 70.341213 \r\nL 194.172652 70.431024 \r\nL 194.853459 70.700455 \r\nL 195.407371 71.418938 \r\nL 195.867438 71.508749 \r\nL 196.919518 71.598559 \r\nL 197.126054 71.77818 \r\nL 197.563086 71.957801 \r\nL 198.112958 72.406853 \r\nL 198.407862 72.766095 \r\nL 199.202389 73.035526 \r\nL 200.032867 73.394768 \r\nL 200.298472 73.754009 \r\nL 200.386498 73.84382 \r\nL 200.701193 73.93363 \r\nL 201.763457 74.023441 \r\nL 202.261653 74.203061 \r\nL 202.934992 74.472493 \r\nL 203.931903 74.741924 \r\nL 204.04894 74.921545 \r\nL 205.386741 75.640028 \r\nL 205.459951 75.729839 \r\nL 206.377954 76.08908 \r\nL 206.705437 76.358511 \r\nL 207.284348 76.448322 \r\nL 207.350626 76.538132 \r\nL 207.665906 76.627943 \r\nL 207.973188 76.807564 \r\nL 208.450462 77.076995 \r\nL 209.286259 77.166805 \r\nL 209.417037 77.256616 \r\nL 210.149279 77.346426 \r\nL 210.772944 77.615857 \r\nL 211.120154 77.705668 \r\nL 211.519771 78.24453 \r\nL 212.087766 78.424151 \r\nL 212.603447 78.693582 \r\nL 214.385249 79.142634 \r\nL 214.600754 79.412066 \r\nL 215.705649 79.771307 \r\nL 215.779665 79.861118 \r\nL 216.794774 80.130549 \r\nL 216.796868 80.220359 \r\nL 217.337863 80.39998 \r\nL 218.299268 80.849032 \r\nL 218.367891 80.938843 \r\nL 218.916632 81.118464 \r\nL 218.976879 81.208274 \r\nL 220.822615 81.567516 \r\nL 220.870575 81.657326 \r\nL 221.242283 81.747136 \r\nL 221.826309 82.196189 \r\nL 222.141921 82.375809 \r\nL 223.312345 82.735051 \r\nL 223.446848 83.004482 \r\nL 223.762405 83.094293 \r\nL 224.382919 83.184103 \r\nL 224.497668 83.273914 \r\nL 224.826457 83.453534 \r\nL 224.833499 83.543345 \r\nL 225.133063 83.722966 \r\nL 225.19444 83.902586 \r\nL 225.605435 83.992397 \r\nL 225.678265 84.082207 \r\nL 226.010667 84.172018 \r\nL 226.057349 84.261828 \r\nL 226.310028 84.441449 \r\nL 226.354022 84.531259 \r\nL 226.747691 84.71088 \r\nL 227.088766 85.070122 \r\nL 228.505253 85.788605 \r\nL 228.629452 86.058036 \r\nL 229.723006 86.507089 \r\nL 229.859622 86.77652 \r\nL 230.197028 87.045951 \r\nL 230.208425 87.225572 \r\nL 231.764881 87.944055 \r\nL 232.617023 88.123676 \r\nL 232.688722 88.303297 \r\nL 234.902145 88.842159 \r\nL 235.506074 89.111591 \r\nL 235.547603 89.291211 \r\nL 235.938826 89.560643 \r\nL 236.320207 89.650453 \r\nL 236.528151 89.830074 \r\nL 236.857552 90.009695 \r\nL 237.019111 90.279126 \r\nL 237.249904 90.458747 \r\nL 237.44054 90.728178 \r\nL 239.020643 91.267041 \r\nL 239.067713 91.356851 \r\nL 239.471055 91.536472 \r\nL 239.642065 91.895714 \r\nL 240.362558 92.165145 \r\nL 240.434406 92.344766 \r\nL 240.900718 92.524386 \r\nL 240.915562 92.614197 \r\nL 241.377112 92.793818 \r\nL 241.404446 92.883628 \r\nL 242.703627 93.33268 \r\nL 242.791523 93.602111 \r\nL 243.008121 93.781732 \r\nL 243.124778 94.140974 \r\nL 243.472395 94.320595 \r\nL 243.871438 94.590026 \r\nL 245.430063 95.667751 \r\nL 245.539714 95.847372 \r\nL 246.237765 96.206614 \r\nL 246.290507 96.386234 \r\nL 247.077436 96.835286 \r\nL 247.157956 97.104718 \r\nL 247.248909 97.194528 \r\nL 249.724129 98.002822 \r\nL 249.729244 98.092632 \r\nL 250.559092 98.272253 \r\nL 250.941901 98.451874 \r\nL 251.352507 98.541684 \r\nL 251.530189 98.631495 \r\nL 251.68276 98.811116 \r\nL 251.810295 99.170357 \r\nL 251.902194 99.439789 \r\nL 252.73308 99.79903 \r\nL 252.840619 99.978651 \r\nL 253.592838 100.427703 \r\nL 253.992937 101.056376 \r\nL 254.842503 101.235997 \r\nL 254.853418 101.325807 \r\nL 255.660824 101.95448 \r\nL 255.75743 102.134101 \r\nL 256.140591 102.313722 \r\nL 256.35263 102.672964 \r\nL 256.631828 102.942395 \r\nL 257.764151 103.750689 \r\nL 257.778883 103.840499 \r\nL 258.406496 104.02012 \r\nL 260.039173 104.10993 \r\nL 260.041286 104.199741 \r\nL 260.938849 104.738603 \r\nL 261.048204 105.008034 \r\nL 261.332721 105.367276 \r\nL 261.588124 105.457086 \r\nL 262.168369 105.636707 \r\nL 262.436171 105.816328 \r\nL 262.705769 105.995949 \r\nL 262.73757 106.085759 \r\nL 263.033354 106.26538 \r\nL 263.260886 106.534811 \r\nL 264.491537 106.714432 \r\nL 264.516054 106.804243 \r\nL 265.616206 107.073674 \r\nL 266.689653 107.971778 \r\nL 267.593572 108.151399 \r\nL 267.646869 108.241209 \r\nL 269.409695 108.959693 \r\nL 269.913441 109.229124 \r\nL 270.094217 109.408745 \r\nL 270.128983 109.498555 \r\nL 271.961154 110.48647 \r\nL 272.881418 110.755901 \r\nL 272.907214 110.845711 \r\nL 273.332238 110.935522 \r\nL 274.30832 111.115143 \r\nL 274.371031 111.204953 \r\nL 274.780358 111.384574 \r\nL 274.921385 111.564195 \r\nL 275.464363 111.833626 \r\nL 276.186912 112.552109 \r\nL 276.285872 112.64192 \r\nL 276.722663 112.821541 \r\nL 276.841711 113.001161 \r\nL 277.342214 113.180782 \r\nL 277.498436 113.360403 \r\nL 277.516671 113.450214 \r\nL 278.267185 113.629834 \r\nL 278.473202 113.719645 \r\nL 278.723639 113.899266 \r\nL 278.768893 113.989076 \r\nL 279.465462 114.168697 \r\nL 280.960931 115.246422 \r\nL 281.319852 115.426043 \r\nL 281.333677 115.515853 \r\nL 281.612208 115.695474 \r\nL 281.639134 115.875095 \r\nL 282.041716 116.144526 \r\nL 282.204702 116.324147 \r\nL 282.894006 116.413957 \r\nL 283.186473 116.773199 \r\nL 284.961548 117.850924 \r\nL 285.05467 118.030545 \r\nL 285.229016 118.299976 \r\nL 285.388685 118.569407 \r\nL 286.338322 118.838839 \r\nL 286.362709 118.928649 \r\nL 288.016439 119.736943 \r\nL 288.064769 119.916564 \r\nL 288.676815 120.096184 \r\nL 288.763543 120.275805 \r\nL 290.794114 121.802582 \r\nL 290.932657 121.892393 \r\nL 290.980895 122.072014 \r\nL 291.61629 122.431255 \r\nL 291.980438 122.790497 \r\nL 292.307707 122.970118 \r\nL 292.308189 123.059928 \r\nL 292.805746 123.41917 \r\nL 292.915731 123.598791 \r\nL 292.940471 123.688601 \r\nL 293.112945 123.868222 \r\nL 293.127214 123.958032 \r\nL 294.09479 124.317274 \r\nL 294.170566 124.407084 \r\nL 294.437089 124.586705 \r\nL 294.520481 124.766326 \r\nL 294.764636 125.035757 \r\nL 294.793898 125.125568 \r\nL 295.737493 125.484809 \r\nL 295.873015 125.66443 \r\nL 296.141428 125.844051 \r\nL 296.257436 126.203293 \r\nL 297.004763 126.742155 \r\nL 297.81406 127.370828 \r\nL 297.846082 127.460639 \r\nL 298.256503 127.640259 \r\nL 298.42642 127.81988 \r\nL 298.690812 128.268932 \r\nL 298.846348 128.448553 \r\nL 298.871625 128.628174 \r\nL 299.445755 128.807795 \r\nL 299.701603 129.167036 \r\nL 299.910177 129.526278 \r\nL 300.453841 129.705899 \r\nL 300.507416 129.97533 \r\nL 301.651487 130.693814 \r\nL 301.654564 130.783624 \r\nL 302.04788 131.053055 \r\nL 302.153232 131.232676 \r\nL 303.165062 132.220591 \r\nL 303.172141 132.310401 \r\nL 303.469518 132.490022 \r\nL 303.817729 132.669643 \r\nL 304.061309 133.118695 \r\nL 304.597449 133.298316 \r\nL 304.793366 133.477936 \r\nL 305.054458 133.657557 \r\nL 305.980597 135.453766 \r\nL 306.368298 135.723197 \r\nL 306.380177 135.813007 \r\nL 306.755796 135.992628 \r\nL 307.147462 136.44168 \r\nL 307.412799 136.621301 \r\nL 307.68338 137.160164 \r\nL 307.687939 137.249974 \r\nL 308.167705 137.429595 \r\nL 308.438601 137.609216 \r\nL 308.887383 137.878647 \r\nL 309.102832 138.237889 \r\nL 309.105 138.327699 \r\nL 310.489668 139.315614 \r\nL 310.523933 139.405424 \r\nL 310.803465 139.585045 \r\nL 310.882447 139.854476 \r\nL 311.26709 140.213718 \r\nL 312.634987 141.381253 \r\nL 312.801068 141.650684 \r\nL 313.435148 142.009926 \r\nL 313.890526 142.548789 \r\nL 314.739073 142.728409 \r\nL 314.9755 143.087651 \r\nL 315.030947 143.177461 \r\nL 315.487308 143.357082 \r\nL 315.750328 143.985755 \r\nL 316.081989 144.165376 \r\nL 316.282446 144.434807 \r\nL 316.736787 144.524618 \r\nL 316.888525 144.794049 \r\nL 317.540525 145.153291 \r\nL 317.573678 145.332911 \r\nL 317.936361 145.602343 \r\nL 318.267837 146.141205 \r\nL 318.438996 146.320826 \r\nL 318.926842 146.500447 \r\nL 319.783524 147.667982 \r\nL 319.882965 147.937414 \r\nL 320.452128 148.206845 \r\nL 321.106908 148.925328 \r\nL 321.259442 149.28457 \r\nL 321.291669 149.37438 \r\nL 321.668399 149.643811 \r\nL 321.770286 149.913243 \r\nL 322.128856 150.092864 \r\nL 322.241658 150.362295 \r\nL 323.756511 151.44002 \r\nL 323.866533 151.619641 \r\nL 324.303195 152.068693 \r\nL 324.498389 152.338124 \r\nL 324.905882 152.697366 \r\nL 324.928769 152.787176 \r\nL 325.183375 152.966797 \r\nL 326.515858 154.763005 \r\nL 326.942217 155.212057 \r\nL 326.985951 155.391678 \r\nL 327.191523 155.661109 \r\nL 327.332364 155.930541 \r\nL 327.596125 156.110161 \r\nL 327.600443 156.199972 \r\nL 327.765004 156.379593 \r\nL 328.122332 157.098076 \r\nL 328.75252 157.99618 \r\nL 328.784487 158.175801 \r\nL 329.058367 158.355422 \r\nL 329.454129 158.804474 \r\nL 329.542433 158.984095 \r\nL 329.673192 159.163716 \r\nL 330.088246 159.882199 \r\nL 330.224194 160.15163 \r\nL 330.366369 160.421062 \r\nL 332.704714 163.115374 \r\nL 333.17414 163.294995 \r\nL 333.314795 163.744047 \r\nL 333.75192 164.37272 \r\nL 334.194772 164.911582 \r\nL 334.482254 165.540255 \r\nL 334.565683 166.079118 \r\nL 334.789676 166.348549 \r\nL 334.835579 166.52817 \r\nL 335.027233 166.707791 \r\nL 335.115166 167.067032 \r\nL 335.499364 167.336464 \r\nL 335.736032 167.605895 \r\nL 336.486491 168.324378 \r\nL 336.687282 168.77343 \r\nL 336.904491 169.132672 \r\nL 337.056136 169.581724 \r\nL 337.503769 169.851155 \r\nL 337.710842 170.479828 \r\nL 337.937058 170.659449 \r\nL 338.020506 170.83907 \r\nL 338.118557 171.108501 \r\nL 338.240569 171.916795 \r\nL 338.939584 172.725089 \r\nL 338.951759 172.814899 \r\nL 339.254511 172.99452 \r\nL 339.972558 173.982434 \r\nL 340.11464 174.431487 \r\nL 340.394895 174.611107 \r\nL 340.678652 175.14997 \r\nL 340.798811 175.329591 \r\nL 340.920268 175.688832 \r\nL 341.162699 176.048074 \r\nL 341.282933 176.227695 \r\nL 341.58044 176.407316 \r\nL 341.642947 176.676747 \r\nL 342.072753 176.856368 \r\nL 342.097307 176.946178 \r\nL 342.46542 177.125799 \r\nL 343.050428 178.203524 \r\nL 343.351178 178.562766 \r\nL 343.466316 178.832197 \r\nL 343.777333 179.730301 \r\nL 344.161995 179.909922 \r\nL 344.421809 180.269164 \r\nL 344.570581 180.718216 \r\nL 344.861232 181.077457 \r\nL 344.87665 181.167268 \r\nL 345.415273 181.61632 \r\nL 346.294601 182.873666 \r\nL 346.366485 183.053287 \r\nL 346.61153 183.322718 \r\nL 346.678429 183.502339 \r\nL 346.941801 183.86158 \r\nL 347.220017 184.400443 \r\nL 347.466229 184.939305 \r\nL 347.559536 185.298547 \r\nL 347.690147 185.567978 \r\nL 347.718501 185.837409 \r\nL 347.972218 186.106841 \r\nL 348.134185 186.825324 \r\nL 348.333956 187.094755 \r\nL 348.482951 187.723428 \r\nL 348.695416 188.08267 \r\nL 348.727198 188.262291 \r\nL 349.005043 188.531722 \r\nL 350.023952 190.32793 \r\nL 350.231488 190.507551 \r\nL 350.304095 190.687172 \r\nL 350.543283 190.956603 \r\nL 350.551104 191.046414 \r\nL 350.793405 191.315845 \r\nL 350.938861 191.764897 \r\nL 351.489418 192.842622 \r\nL 351.50063 192.932432 \r\nL 351.870967 193.291674 \r\nL 351.935698 193.471295 \r\nL 352.363538 194.099968 \r\nL 352.62628 194.369399 \r\nL 352.784912 194.998072 \r\nL 353.483463 195.985987 \r\nL 354.100067 197.063712 \r\nL 354.106127 197.153522 \r\nL 354.41859 197.422953 \r\nL 354.619992 197.872005 \r\nL 354.750826 198.051626 \r\nL 354.873524 198.231247 \r\nL 355.641365 199.668214 \r\nL 355.926456 199.847834 \r\nL 356.281171 200.476507 \r\nL 356.355835 201.01537 \r\nL 356.796203 202.003284 \r\nL 356.920365 202.542147 \r\nL 357.149732 202.901389 \r\nL 357.154383 203.17082 \r\nL 357.297133 203.350441 \r\nL 357.705441 204.607787 \r\nL 357.905787 204.967028 \r\nL 358.646998 206.314184 \r\nL 358.798439 206.763237 \r\nL 359.089609 207.751151 \r\nL 359.39855 208.020582 \r\nL 359.534425 208.379824 \r\nL 359.924035 209.008497 \r\nL 359.944438 209.098307 \r\nL 360.200082 209.277928 \r\nL 360.369425 209.457549 \r\nL 360.403745 209.72698 \r\nL 360.603294 209.996412 \r\nL 360.744117 210.265843 \r\nL 360.779883 210.355653 \r\nL 361.02161 210.535274 \r\nL 361.130539 210.894516 \r\nL 361.529674 211.163947 \r\nL 361.675815 211.612999 \r\nL 362.116813 212.241672 \r\nL 362.473288 212.421293 \r\nL 362.630678 212.690724 \r\nL 362.893364 213.319397 \r\nL 362.929557 213.588828 \r\nL 363.187091 213.858259 \r\nL 363.286421 214.397122 \r\nL 363.363068 214.756364 \r\nL 363.363068 214.756364 \r\n\" style=\"fill:none;stroke:#0000ff;stroke-linecap:square;stroke-width:1.5;\"/>\r\n   </g>\r\n   <g id=\"patch_3\">\r\n    <path d=\"M 43.78125 224.64 \r\nL 43.78125 7.2 \r\n\" style=\"fill:none;stroke:#000000;stroke-linecap:square;stroke-linejoin:miter;stroke-width:0.8;\"/>\r\n   </g>\r\n   <g id=\"patch_4\">\r\n    <path d=\"M 378.58125 224.64 \r\nL 378.58125 7.2 \r\n\" style=\"fill:none;stroke:#000000;stroke-linecap:square;stroke-linejoin:miter;stroke-width:0.8;\"/>\r\n   </g>\r\n   <g id=\"patch_5\">\r\n    <path d=\"M 43.78125 224.64 \r\nL 378.58125 224.64 \r\n\" style=\"fill:none;stroke:#000000;stroke-linecap:square;stroke-linejoin:miter;stroke-width:0.8;\"/>\r\n   </g>\r\n   <g id=\"patch_6\">\r\n    <path d=\"M 43.78125 7.2 \r\nL 378.58125 7.2 \r\n\" style=\"fill:none;stroke:#000000;stroke-linecap:square;stroke-linejoin:miter;stroke-width:0.8;\"/>\r\n   </g>\r\n   <g id=\"legend_1\">\r\n    <g id=\"patch_7\">\r\n     <path d=\"M 50.78125 219.64 \r\nL 127.790625 219.64 \r\nQ 129.790625 219.64 129.790625 217.64 \r\nL 129.790625 189.28375 \r\nQ 129.790625 187.28375 127.790625 187.28375 \r\nL 50.78125 187.28375 \r\nQ 48.78125 187.28375 48.78125 189.28375 \r\nL 48.78125 217.64 \r\nQ 48.78125 219.64 50.78125 219.64 \r\nz\r\n\" style=\"fill:#ffffff;opacity:0.8;stroke:#cccccc;stroke-linejoin:miter;\"/>\r\n    </g>\r\n    <g id=\"line2d_15\">\r\n     <path d=\"M 52.78125 195.382188 \r\nL 72.78125 195.382188 \r\n\" style=\"fill:none;stroke:#ff0000;stroke-dasharray:5.55,2.4;stroke-dashoffset:0;stroke-width:1.5;\"/>\r\n    </g>\r\n    <g id=\"line2d_16\"/>\r\n    <g id=\"text_15\">\r\n     <!-- Precision -->\r\n     <defs>\r\n      <path d=\"M 9.421875 54.6875 \r\nL 18.40625 54.6875 \r\nL 18.40625 0 \r\nL 9.421875 0 \r\nz\r\nM 9.421875 75.984375 \r\nL 18.40625 75.984375 \r\nL 18.40625 64.59375 \r\nL 9.421875 64.59375 \r\nz\r\n\" id=\"DejaVuSans-105\"/>\r\n     </defs>\r\n     <g transform=\"translate(80.78125 198.882188)scale(0.1 -0.1)\">\r\n      <use xlink:href=\"#DejaVuSans-80\"/>\r\n      <use x=\"60.287109\" xlink:href=\"#DejaVuSans-114\"/>\r\n      <use x=\"101.369141\" xlink:href=\"#DejaVuSans-101\"/>\r\n      <use x=\"162.892578\" xlink:href=\"#DejaVuSans-99\"/>\r\n      <use x=\"217.873047\" xlink:href=\"#DejaVuSans-105\"/>\r\n      <use x=\"245.65625\" xlink:href=\"#DejaVuSans-115\"/>\r\n      <use x=\"297.755859\" xlink:href=\"#DejaVuSans-105\"/>\r\n      <use x=\"325.539062\" xlink:href=\"#DejaVuSans-111\"/>\r\n      <use x=\"386.720703\" xlink:href=\"#DejaVuSans-110\"/>\r\n     </g>\r\n    </g>\r\n    <g id=\"line2d_17\">\r\n     <path d=\"M 52.78125 210.060313 \r\nL 72.78125 210.060313 \r\n\" style=\"fill:none;stroke:#0000ff;stroke-linecap:square;stroke-width:1.5;\"/>\r\n    </g>\r\n    <g id=\"line2d_18\"/>\r\n    <g id=\"text_16\">\r\n     <!-- Recall -->\r\n     <defs>\r\n      <path d=\"M 44.390625 34.1875 \r\nQ 47.5625 33.109375 50.5625 29.59375 \r\nQ 53.5625 26.078125 56.59375 19.921875 \r\nL 66.609375 0 \r\nL 56 0 \r\nL 46.6875 18.703125 \r\nQ 43.0625 26.03125 39.671875 28.421875 \r\nQ 36.28125 30.8125 30.421875 30.8125 \r\nL 19.671875 30.8125 \r\nL 19.671875 0 \r\nL 9.8125 0 \r\nL 9.8125 72.90625 \r\nL 32.078125 72.90625 \r\nQ 44.578125 72.90625 50.734375 67.671875 \r\nQ 56.890625 62.453125 56.890625 51.90625 \r\nQ 56.890625 45.015625 53.6875 40.46875 \r\nQ 50.484375 35.9375 44.390625 34.1875 \r\nz\r\nM 19.671875 64.796875 \r\nL 19.671875 38.921875 \r\nL 32.078125 38.921875 \r\nQ 39.203125 38.921875 42.84375 42.21875 \r\nQ 46.484375 45.515625 46.484375 51.90625 \r\nQ 46.484375 58.296875 42.84375 61.546875 \r\nQ 39.203125 64.796875 32.078125 64.796875 \r\nz\r\n\" id=\"DejaVuSans-82\"/>\r\n     </defs>\r\n     <g transform=\"translate(80.78125 213.560313)scale(0.1 -0.1)\">\r\n      <use xlink:href=\"#DejaVuSans-82\"/>\r\n      <use x=\"69.419922\" xlink:href=\"#DejaVuSans-101\"/>\r\n      <use x=\"130.943359\" xlink:href=\"#DejaVuSans-99\"/>\r\n      <use x=\"185.923828\" xlink:href=\"#DejaVuSans-97\"/>\r\n      <use x=\"247.203125\" xlink:href=\"#DejaVuSans-108\"/>\r\n      <use x=\"274.986328\" xlink:href=\"#DejaVuSans-108\"/>\r\n     </g>\r\n    </g>\r\n   </g>\r\n  </g>\r\n </g>\r\n <defs>\r\n  <clipPath id=\"pbfeca32b17\">\r\n   <rect height=\"217.44\" width=\"334.8\" x=\"43.78125\" y=\"7.2\"/>\r\n  </clipPath>\r\n </defs>\r\n</svg>\r\n",
      "image/png": "[encoded data removed]"
     },
     "metadata": {
      "needs_background": "light"
     }
    }
   ],
   "source": [
    "#Threshold-PR curve\n",
    "train_loss, y_true, y_prob = trainer.eval_step(dataloader=train_dataloader)\n",
    "precisions, recalls, thresholds = precision_recall_curve(y_true.ravel(), y_prob.ravel())\n",
    "plt.plot(thresholds, precisions[:-1], \"r--\", label=\"Precision\")\n",
    "plt.plot(thresholds, recalls[:-1], \"b-\", label=\"Recall\")\n",
    "plt.ylabel(\"Performance\")\n",
    "plt.xlabel(\"Threshold\")\n",
    "plt.legend(loc='best')"
   ]
  },
  {
   "cell_type": "code",
   "execution_count": 125,
   "metadata": {},
   "outputs": [],
   "source": [
    "# Determining the best threshold\n",
    "def find_best_threshold(y_true, y_prob):\n",
    "    \"\"\"Find the best threshold for maximum F1.\"\"\"\n",
    "    precisions, recalls, thresholds = precision_recall_curve(y_true, y_prob)\n",
    "    f1s = (2 * precisions * recalls) / (precisions + recalls)\n",
    "    return thresholds[np.argmax(f1s)]"
   ]
  },
  {
   "cell_type": "code",
   "execution_count": 126,
   "metadata": {},
   "outputs": [
    {
     "output_type": "execute_result",
     "data": {
      "text/plain": [
       "0.2521956"
      ]
     },
     "metadata": {},
     "execution_count": 126
    }
   ],
   "source": [
    "# Best threshold for f1\n",
    "threshold = find_best_threshold(y_true.ravel(), y_prob.ravel())\n",
    "threshold"
   ]
  },
  {
   "cell_type": "code",
   "execution_count": 127,
   "metadata": {},
   "outputs": [],
   "source": [
    "# Determine predictions using threshold\n",
    "test_loss, y_true, y_prob = trainer.eval_step(dataloader=test_dataloader)\n",
    "y_pred = np.array([np.where(prob >= threshold, 1, 0) for prob in y_prob])"
   ]
  },
  {
   "cell_type": "code",
   "execution_count": 128,
   "metadata": {},
   "outputs": [
    {
     "output_type": "stream",
     "name": "stdout",
     "text": [
      "{\n  \"precision\": 0.8228961917603603,\n  \"recall\": 0.48522342497404075,\n  \"f1\": 0.5791385398227955,\n  \"num_samples\": 480.0\n}\n"
     ]
    }
   ],
   "source": [
    "# Evaluate\n",
    "performance = get_performance(\n",
    "    y_true=y_test, y_pred=y_pred, classes=label_encoder.classes)\n",
    "print (json.dumps(performance['overall'], indent=2))"
   ]
  },
  {
   "cell_type": "code",
   "execution_count": 129,
   "metadata": {},
   "outputs": [
    {
     "output_type": "display_data",
     "data": {
      "text/plain": "interactive(children=(Dropdown(description='tag', index=3, options=('interpretability', 'segmentation', 'produ…",
      "application/vnd.jupyter.widget-view+json": {
       "version_major": 2,
       "version_minor": 0,
       "model_id": "041a943470204824a5626f828f1e7818"
      }
     },
     "metadata": {}
    }
   ],
   "source": [
    "@widgets.interact(tag=list(sorted_tags_by_f1.keys()))\n",
    "def display_tag_analysis(tag='transformers'):\n",
    "    # Performance\n",
    "    print (json.dumps(performance[\"class\"][tag], indent=2))\n",
    "    \n",
    "    # TP, FP, FN samples\n",
    "    index = label_encoder.class_to_index[tag]\n",
    "    tp, fp, fn = [], [], []\n",
    "    for i in range(len(y_test)):\n",
    "        true = y_test[i][index]\n",
    "        pred = y_pred[i][index]\n",
    "        if true and pred:\n",
    "            tp.append(i)\n",
    "        elif not true and pred:\n",
    "            fp.append(i)\n",
    "        elif true and not pred:\n",
    "            fn.append(i)\n",
    "            \n",
    "    # Samples\n",
    "    num_samples = 3\n",
    "    if len(tp): \n",
    "        print (\"\\n=== True positives ===\\n\")\n",
    "        for i in tp[:num_samples]:        \n",
    "            print (f\"  {X_test_raw[i]}\")\n",
    "            print (f\"    true: {label_encoder.decode([y_test[i]])[0]}\")\n",
    "            print (f\"    pred: {label_encoder.decode([y_pred[i]])[0]}\\n\")\n",
    "    if len(fp): \n",
    "        print (\"=== False positives ===\\n\")\n",
    "        for i in fp[:num_samples]:        \n",
    "            print (f\"  {X_test_raw[i]}\")\n",
    "            print (f\"    true: {label_encoder.decode([y_test[i]])[0]}\")\n",
    "            print (f\"    pred: {label_encoder.decode([y_pred[i]])[0]}\\n\")\n",
    "    if len(fn): \n",
    "        print (\"=== False negatives ===\\n\")\n",
    "        for i in fn[:num_samples]:        \n",
    "            print (f\"  {X_test_raw[i]}\") \n",
    "            print (f\"    true: {label_encoder.decode([y_test[i]])[0]}\")\n",
    "            print (f\"    pred: {label_encoder.decode([y_pred[i]])[0]}\\n\")"
   ]
  },
  {
   "cell_type": "code",
   "execution_count": 130,
   "metadata": {},
   "outputs": [],
   "source": [
    "# Save artifacts\n",
    "dir = Path(\"cnn\")\n",
    "dir.mkdir(parents=True, exist_ok=True)\n",
    "tokenizer.save(fp=Path(dir, 'tokenzier.json'))\n",
    "label_encoder.save(fp=Path(dir, 'label_encoder.json'))\n",
    "torch.save(best_model.state_dict(), Path(dir, 'model.pt'))\n",
    "with open(Path(dir, 'performance.json'), \"w\") as fp:\n",
    "    json.dump(performance, indent=2, sort_keys=False, fp=fp)"
   ]
  },
  {
   "source": [
    "### Inference"
   ],
   "cell_type": "markdown",
   "metadata": {}
  },
  {
   "cell_type": "code",
   "execution_count": 131,
   "metadata": {},
   "outputs": [
    {
     "output_type": "execute_result",
     "data": {
      "text/plain": [
       "CNN(\n",
       "  (embeddings): Embedding(136, 128, padding_idx=0)\n",
       "  (conv): ModuleList(\n",
       "    (0): Conv1d(128, 128, kernel_size=(1,), stride=(1,))\n",
       "    (1): Conv1d(128, 128, kernel_size=(2,), stride=(1,))\n",
       "    (2): Conv1d(128, 128, kernel_size=(3,), stride=(1,))\n",
       "    (3): Conv1d(128, 128, kernel_size=(4,), stride=(1,))\n",
       "    (4): Conv1d(128, 128, kernel_size=(5,), stride=(1,))\n",
       "    (5): Conv1d(128, 128, kernel_size=(6,), stride=(1,))\n",
       "    (6): Conv1d(128, 128, kernel_size=(7,), stride=(1,))\n",
       "    (7): Conv1d(128, 128, kernel_size=(8,), stride=(1,))\n",
       "    (8): Conv1d(128, 128, kernel_size=(9,), stride=(1,))\n",
       "    (9): Conv1d(128, 128, kernel_size=(10,), stride=(1,))\n",
       "  )\n",
       "  (dropout): Dropout(p=0.5, inplace=False)\n",
       "  (fc1): Linear(in_features=1280, out_features=128, bias=True)\n",
       "  (fc2): Linear(in_features=128, out_features=35, bias=True)\n",
       ")"
      ]
     },
     "metadata": {},
     "execution_count": 131
    }
   ],
   "source": [
    "# Load artifacts\n",
    "device = torch.device(\"cpu\")\n",
    "tokenizer = Tokenizer.load(fp=Path(dir, 'tokenzier.json'))\n",
    "label_encoder = LabelEncoder.load(fp=Path(dir, 'label_encoder.json'))\n",
    "model = CNN(\n",
    "    embedding_dim=embedding_dim, vocab_size=vocab_size,\n",
    "    num_filters=num_filters, filter_sizes=filter_sizes,\n",
    "    hidden_dim=hidden_dim, dropout_p=dropout_p,\n",
    "    num_classes=num_classes)\n",
    "model.load_state_dict(torch.load(Path(dir, 'model.pt'), map_location=device))\n",
    "model.to(device)"
   ]
  },
  {
   "cell_type": "code",
   "execution_count": 132,
   "metadata": {},
   "outputs": [],
   "source": [
    "# Initialize trainer\n",
    "trainer = Trainer(model=model, device=device)"
   ]
  },
  {
   "cell_type": "code",
   "execution_count": 133,
   "metadata": {},
   "outputs": [],
   "source": [
    "# Dataloader\n",
    "text = \"Transfer learning with BERT for self-supervised learning\"\n",
    "X = np.array(tokenizer.texts_to_sequences([preprocess(text)]))\n",
    "y_filler = label_encoder.encode([np.array([label_encoder.classes[0]]*len(X))])\n",
    "dataset = CNNTextDataset(\n",
    "    X=X, y=y_filler, max_filter_size=max(filter_sizes))\n",
    "dataloader = dataset.create_dataloader(\n",
    "    batch_size=batch_size)"
   ]
  },
  {
   "cell_type": "code",
   "execution_count": 134,
   "metadata": {},
   "outputs": [
    {
     "output_type": "execute_result",
     "data": {
      "text/plain": [
       "[['self-supervised-learning', 'transfer-learning']]"
      ]
     },
     "metadata": {},
     "execution_count": 134
    }
   ],
   "source": [
    "# Inference\n",
    "y_prob = trainer.predict_step(dataloader)\n",
    "y_pred = np.array([np.where(prob >= threshold, 1, 0) for prob in y_prob])\n",
    "label_encoder.decode(y_pred)"
   ]
  },
  {
   "source": [
    "limitations: \n",
    "representation: embeddings are not contextual."
   ],
   "cell_type": "markdown",
   "metadata": {}
  },
  {
   "source": [
    "# RNN w/Embeddings"
   ],
   "cell_type": "markdown",
   "metadata": {}
  },
  {
   "cell_type": "code",
   "execution_count": 135,
   "metadata": {},
   "outputs": [],
   "source": [
    "set_seed()"
   ]
  },
  {
   "cell_type": "code",
   "execution_count": 136,
   "metadata": {},
   "outputs": [],
   "source": [
    "# Get data splits\n",
    "preprocessed_df = df.copy()\n",
    "preprocessed_df.text = preprocessed_df.text.apply(preprocess, lower=True)\n",
    "X_train, X_val, X_test, y_train, y_val, y_test, label_encoder = get_data_splits(preprocessed_df)\n",
    "X_test_raw = X_test"
   ]
  },
  {
   "cell_type": "code",
   "execution_count": 137,
   "metadata": {},
   "outputs": [
    {
     "output_type": "stream",
     "name": "stdout",
     "text": [
      "cuda\n"
     ]
    }
   ],
   "source": [
    "# Set device\n",
    "cuda = True\n",
    "device = torch.device('cuda' if (\n",
    "    torch.cuda.is_available() and cuda) else 'cpu')\n",
    "torch.set_default_tensor_type('torch.FloatTensor')\n",
    "if device.type == 'cuda':\n",
    "    torch.set_default_tensor_type('torch.cuda.FloatTensor')\n",
    "print (device)"
   ]
  },
  {
   "cell_type": "code",
   "execution_count": 138,
   "metadata": {},
   "outputs": [
    {
     "output_type": "stream",
     "name": "stdout",
     "text": [
      "X tokenizer:\n  <Tokenizer(num_tokens=136)>\n"
     ]
    }
   ],
   "source": [
    "# Tokenize\n",
    "char_level = True\n",
    "tokenizer = Tokenizer(char_level=char_level)\n",
    "tokenizer.fit_on_texts(texts=X_train)\n",
    "vocab_size = len(tokenizer)\n",
    "print (\"X tokenizer:\\n\"\n",
    "    f\"  {tokenizer}\")"
   ]
  },
  {
   "cell_type": "code",
   "execution_count": 139,
   "metadata": {},
   "outputs": [
    {
     "output_type": "execute_result",
     "data": {
      "text/plain": [
       "{'<PAD>': 0,\n",
       " '<UNK>': 1,\n",
       " ' ': 2,\n",
       " 'e': 3,\n",
       " 'n': 4,\n",
       " 'i': 5,\n",
       " 't': 6,\n",
       " 'a': 7,\n",
       " 'o': 8,\n",
       " 'r': 9,\n",
       " 's': 10,\n",
       " 'l': 11,\n",
       " 'c': 12,\n",
       " 'd': 13,\n",
       " 'g': 14,\n",
       " 'h': 15,\n",
       " 'm': 16,\n",
       " 'u': 17,\n",
       " 'p': 18,\n",
       " 'f': 19,\n",
       " 'y': 20,\n",
       " 'w': 21,\n",
       " 'b': 22,\n",
       " 'T': 23,\n",
       " 'v': 24,\n",
       " '.': 25,\n",
       " 'A': 26,\n",
       " '-': 27,\n",
       " 'L': 28,\n",
       " 'k': 29,\n",
       " 'P': 30,\n",
       " 'S': 31,\n",
       " 'N': 32,\n",
       " 'C': 33,\n",
       " 'M': 34,\n",
       " 'D': 35,\n",
       " 'I': 36,\n",
       " ',': 37,\n",
       " 'x': 38,\n",
       " 'R': 39,\n",
       " 'F': 40,\n",
       " 'G': 41,\n",
       " 'E': 42,\n",
       " 'B': 43,\n",
       " ':': 44,\n",
       " '2': 45,\n",
       " 'O': 46,\n",
       " 'z': 47,\n",
       " 'H': 48,\n",
       " 'W': 49,\n",
       " '0': 50,\n",
       " 'V': 51,\n",
       " '(': 52,\n",
       " ')': 53,\n",
       " 'j': 54,\n",
       " 'U': 55,\n",
       " 'K': 56,\n",
       " 'q': 57,\n",
       " '1': 58,\n",
       " '\"': 59,\n",
       " 'Q': 60,\n",
       " '\\r': 61,\n",
       " '\\n': 62,\n",
       " '/': 63,\n",
       " '&': 64,\n",
       " 'Y': 65,\n",
       " '3': 66,\n",
       " '+': 67,\n",
       " \"'\": 68,\n",
       " '?': 69,\n",
       " 'J': 70,\n",
       " '5': 71,\n",
       " '9': 72,\n",
       " 'X': 73,\n",
       " '8': 74,\n",
       " '6': 75,\n",
       " '4': 76,\n",
       " '’': 77,\n",
       " '!': 78,\n",
       " 'Z': 79,\n",
       " '—': 80,\n",
       " '7': 81,\n",
       " '“': 82,\n",
       " '”': 83,\n",
       " '|': 84,\n",
       " '🤗': 85,\n",
       " '️': 86,\n",
       " '%': 87,\n",
       " '=': 88,\n",
       " '–': 89,\n",
       " '💻': 90,\n",
       " '❤': 91,\n",
       " '_': 92,\n",
       " '🎨': 93,\n",
       " '>': 94,\n",
       " '🌊': 95,\n",
       " '^': 96,\n",
       " '🚗': 97,\n",
       " '🕶': 98,\n",
       " '<': 99,\n",
       " '\\u2060': 100,\n",
       " '⚡': 101,\n",
       " ';': 102,\n",
       " '@': 103,\n",
       " '#': 104,\n",
       " '🏥': 105,\n",
       " '💤': 106,\n",
       " '✨': 107,\n",
       " '😎': 108,\n",
       " '🔍': 109,\n",
       " '[': 110,\n",
       " ']': 111,\n",
       " '🦠': 112,\n",
       " '🍼': 113,\n",
       " '\\u2009': 114,\n",
       " '基': 115,\n",
       " '于': 116,\n",
       " '📈': 117,\n",
       " '⭐': 118,\n",
       " '🔥': 119,\n",
       " '*': 120,\n",
       " '…': 121,\n",
       " '🎐': 122,\n",
       " 'ç': 123,\n",
       " '🦄': 124,\n",
       " '✏': 125,\n",
       " '✂': 126,\n",
       " '🏡': 127,\n",
       " '𝘢': 128,\n",
       " '𝘯': 129,\n",
       " '𝘺': 130,\n",
       " '🐳': 131,\n",
       " '🤖': 132,\n",
       " '💬': 133,\n",
       " '🎥': 134,\n",
       " '👀': 135}"
      ]
     },
     "metadata": {},
     "execution_count": 139
    }
   ],
   "source": [
    "tokenizer.token_to_index"
   ]
  },
  {
   "cell_type": "code",
   "execution_count": 140,
   "metadata": {},
   "outputs": [
    {
     "output_type": "stream",
     "name": "stdout",
     "text": [
      "Text to indices:\n  (preprocessed) → Albumentations Fast image augmentation library and easy to use wrapper around other libraries.\n  (tokenized) → [26 11 22 17 16  3  4  6  7  6  5  8  4 10  2 40  7 10  6  2  5 16  7 14\n  3  2  7 17 14 16  3  4  6  7  6  5  8  4  2 11  5 22  9  7  9 20  2  7\n  4 13  2  3  7 10 20  2  6  8  2 17 10  3  2 21  9  7 18 18  3  9  2  7\n  9  8 17  4 13  2  8  6 15  3  9  2 11  5 22  9  7  9  5  3 10 25]\n"
     ]
    }
   ],
   "source": [
    "# Convert texts to sequences of indices\n",
    "X_train = np.array(tokenizer.texts_to_sequences(X_train))\n",
    "X_val = np.array(tokenizer.texts_to_sequences(X_val))\n",
    "X_test = np.array(tokenizer.texts_to_sequences(X_test))\n",
    "preprocessed_text = tokenizer.sequences_to_texts([X_train[0]])[0]\n",
    "print (\"Text to indices:\\n\"\n",
    "    f\"  (preprocessed) → {preprocessed_text}\\n\"\n",
    "    f\"  (tokenized) → {X_train[0]}\")"
   ]
  },
  {
   "cell_type": "code",
   "execution_count": 141,
   "metadata": {},
   "outputs": [
    {
     "output_type": "stream",
     "name": "stdout",
     "text": [
      "class counts:\n  [120  41 388 106  41  75  34  73  51  78  64  51  55  93  51 429  33  69\n  30  51 258  32  49  59  57  60  48  40 213  40  34  46 196  39  39]\nclass weights:\n  {0: 0.008333333333333333, 1: 0.024390243902439025, 2: 0.002577319587628866, 3: 0.009433962264150943, 4: 0.024390243902439025, 5: 0.013333333333333334, 6: 0.029411764705882353, 7: 0.0136986301369863, 8: 0.0196078431372549, 9: 0.01282051282051282, 10: 0.015625, 11: 0.0196078431372549, 12: 0.01818181818181818, 13: 0.010752688172043012, 14: 0.0196078431372549, 15: 0.002331002331002331, 16: 0.030303030303030304, 17: 0.014492753623188406, 18: 0.03333333333333333, 19: 0.0196078431372549, 20: 0.003875968992248062, 21: 0.03125, 22: 0.02040816326530612, 23: 0.01694915254237288, 24: 0.017543859649122806, 25: 0.016666666666666666, 26: 0.020833333333333332, 27: 0.025, 28: 0.004694835680751174, 29: 0.025, 30: 0.029411764705882353, 31: 0.021739130434782608, 32: 0.00510204081632653, 33: 0.02564102564102564, 34: 0.02564102564102564}\n"
     ]
    }
   ],
   "source": [
    "# Class weights\n",
    "counts = np.bincount([label_encoder.class_to_index[class_] for class_ in all_tags])\n",
    "class_weights = {i: 1.0/count for i, count in enumerate(counts)}\n",
    "print (\"class counts:\\n\"\n",
    "    f\"  {counts}\\n\"\n",
    "    \"class weights:\\n\"\n",
    "    f\"  {class_weights}\")"
   ]
  },
  {
   "cell_type": "code",
   "execution_count": 142,
   "metadata": {},
   "outputs": [],
   "source": [
    "class RNNTextDataset(torch.utils.data.Dataset):\n",
    "    def __init__(self, X, y):\n",
    "        self.X = X\n",
    "        self.y = y\n",
    "\n",
    "    def __len__(self):\n",
    "        return len(self.y)\n",
    "\n",
    "    def __str__(self):\n",
    "        return f\"<Dataset(N={len(self)})>\"\n",
    "\n",
    "    def __getitem__(self, index):\n",
    "        X = self.X[index]\n",
    "        y = self.y[index]\n",
    "        return [X, len(X), y]\n",
    "\n",
    "    def collate_fn(self, batch):\n",
    "        \"\"\"Processing on a batch.\"\"\"\n",
    "        # Get inputs\n",
    "        batch = np.array(batch, dtype=object)\n",
    "        X = batch[:, 0]\n",
    "        seq_lens = batch[:, 1]\n",
    "        y = np.stack(batch[:, 2], axis=0)\n",
    "\n",
    "        # Pad inputs\n",
    "        X = pad_sequences(sequences=X)\n",
    "\n",
    "        # Cast\n",
    "        X = torch.LongTensor(X.astype(np.int32))\n",
    "        seq_lens = torch.LongTensor(seq_lens.astype(np.int32))\n",
    "        y = torch.FloatTensor(y.astype(np.int32))\n",
    "\n",
    "        return X, seq_lens, y\n",
    "\n",
    "    def create_dataloader(self, batch_size, shuffle=False, drop_last=False):\n",
    "        return torch.utils.data.DataLoader(\n",
    "            dataset=self,\n",
    "            batch_size=batch_size,\n",
    "            collate_fn=self.collate_fn,\n",
    "            shuffle=shuffle,\n",
    "            drop_last=drop_last,\n",
    "            pin_memory=True)"
   ]
  },
  {
   "cell_type": "code",
   "execution_count": 143,
   "metadata": {},
   "outputs": [
    {
     "output_type": "stream",
     "name": "stdout",
     "text": [
      "Data splits:\n  Train dataset:<Dataset(N=1000)>\n  Val dataset: <Dataset(N=227)>\n  Test dataset: <Dataset(N=217)>\nSample point:\n  X: [26 11 22 17 16  3  4  6  7  6  5  8  4 10  2 40  7 10  6  2  5 16  7 14\n  3  2  7 17 14 16  3  4  6  7  6  5  8  4  2 11  5 22  9  7  9 20  2  7\n  4 13  2  3  7 10 20  2  6  8  2 17 10  3  2 21  9  7 18 18  3  9  2  7\n  9  8 17  4 13  2  8  6 15  3  9  2 11  5 22  9  7  9  5  3 10 25]\n  seq_len: 94\n  y: [0 0 1 0 1 0 0 0 0 0 0 0 0 0 0 0 0 0 0 0 0 0 0 0 0 0 0 0 0 0 0 0 0 0 0]\n"
     ]
    }
   ],
   "source": [
    "# Create datasets\n",
    "batch_size = 128\n",
    "train_dataset = RNNTextDataset(\n",
    "    X=X_train, y=y_train)\n",
    "val_dataset = RNNTextDataset(\n",
    "    X=X_val, y=y_val)\n",
    "test_dataset = RNNTextDataset(\n",
    "    X=X_test, y=y_test)\n",
    "print (\"Data splits:\\n\"\n",
    "    f\"  Train dataset:{train_dataset.__str__()}\\n\"\n",
    "    f\"  Val dataset: {val_dataset.__str__()}\\n\"\n",
    "    f\"  Test dataset: {test_dataset.__str__()}\\n\"\n",
    "    \"Sample point:\\n\"\n",
    "    f\"  X: {train_dataset[0][0]}\\n\"\n",
    "    f\"  seq_len: {train_dataset[0][1]}\\n\"\n",
    "    f\"  y: {train_dataset[0][2]}\")"
   ]
  },
  {
   "cell_type": "code",
   "execution_count": 144,
   "metadata": {},
   "outputs": [
    {
     "output_type": "stream",
     "name": "stdout",
     "text": [
      "torch.Size([128, 226])\nSample batch:\n  X: [128, 226]\n  seq_lens: [128]\n  y: [128, 35]\n"
     ]
    }
   ],
   "source": [
    "# Create dataloaders\n",
    "train_dataloader = train_dataset.create_dataloader(\n",
    "    batch_size=batch_size)\n",
    "val_dataloader = val_dataset.create_dataloader(\n",
    "    batch_size=batch_size)\n",
    "test_dataloader = test_dataset.create_dataloader(\n",
    "    batch_size=batch_size)\n",
    "batch_X, batch_seq_lens, batch_y = next(iter(train_dataloader))\n",
    "print (batch_X.shape)\n",
    "print (\"Sample batch:\\n\"\n",
    "    f\"  X: {list(batch_X.size())}\\n\"\n",
    "    f\"  seq_lens: {list(batch_seq_lens.size())}\\n\"\n",
    "    f\"  y: {list(batch_y.size())}\")"
   ]
  },
  {
   "cell_type": "code",
   "execution_count": 145,
   "metadata": {},
   "outputs": [],
   "source": [
    "# Arguments\n",
    "embedding_dim = 128\n",
    "rnn_hidden_dim = 128\n",
    "hidden_dim = 128\n",
    "dropout_p =0.5 "
   ]
  },
  {
   "cell_type": "code",
   "execution_count": 146,
   "metadata": {},
   "outputs": [],
   "source": [
    "def gather_last_relevant_hidden(hiddens, seq_lens):\n",
    "    \"\"\"Extract and collect the last relevant \n",
    "    hidden state based on the sequence length.\"\"\"\n",
    "    seq_lens = seq_lens.long().detach().cpu().numpy() - 1\n",
    "    out = []\n",
    "    for batch_index, column_index in enumerate(seq_lens):\n",
    "        out.append(hiddens[batch_index, column_index])\n",
    "    return torch.stack(out)"
   ]
  },
  {
   "cell_type": "code",
   "execution_count": 147,
   "metadata": {},
   "outputs": [],
   "source": [
    "class RNN(nn.Module):\n",
    "    def __init__(self, embedding_dim, vocab_size, rnn_hidden_dim,\n",
    "                 hidden_dim, dropout_p, num_classes, padding_idx=0):\n",
    "        super(RNN, self).__init__()\n",
    "        \n",
    "        # Initialize embeddings\n",
    "        self.embeddings = nn.Embedding(embedding_dim=embedding_dim,\n",
    "                                       num_embeddings=vocab_size,\n",
    "                                       padding_idx=padding_idx)\n",
    "        \n",
    "        # RNN\n",
    "        self.rnn = nn.GRU(embedding_dim, rnn_hidden_dim, \n",
    "                          batch_first=True, bidirectional=True)\n",
    "     \n",
    "        # FC weights\n",
    "        self.dropout = nn.Dropout(dropout_p)\n",
    "        self.fc1 = nn.Linear(rnn_hidden_dim*2, hidden_dim)\n",
    "        self.fc2 = nn.Linear(hidden_dim, num_classes)\n",
    "\n",
    "    def forward(self, inputs):\n",
    "        # Inputs\n",
    "        x_in, seq_lens = inputs\n",
    "\n",
    "        # Embed\n",
    "        x_in = self.embeddings(x_in)\n",
    "            \n",
    "        # Rnn outputs\n",
    "        out, h_n = self.rnn(x_in)\n",
    "        z = gather_last_relevant_hidden(hiddens=out, seq_lens=seq_lens)\n",
    "\n",
    "        # FC layers\n",
    "        z = self.fc1(z)\n",
    "        z = self.dropout(z)\n",
    "        z = self.fc2(z)\n",
    "\n",
    "        return z"
   ]
  },
  {
   "cell_type": "code",
   "execution_count": 148,
   "metadata": {},
   "outputs": [
    {
     "output_type": "stream",
     "name": "stdout",
     "text": [
      "<bound method Module.named_parameters of RNN(\n  (embeddings): Embedding(136, 128, padding_idx=0)\n  (rnn): GRU(128, 128, batch_first=True, bidirectional=True)\n  (dropout): Dropout(p=0.5, inplace=False)\n  (fc1): Linear(in_features=256, out_features=128, bias=True)\n  (fc2): Linear(in_features=128, out_features=35, bias=True)\n)>\n"
     ]
    }
   ],
   "source": [
    "# Initialize model\n",
    "model = RNN(\n",
    "    embedding_dim=embedding_dim, vocab_size=vocab_size,\n",
    "    rnn_hidden_dim=rnn_hidden_dim, hidden_dim=hidden_dim, \n",
    "    dropout_p=dropout_p, num_classes=num_classes)\n",
    "model = model.to(device)\n",
    "print (model.named_parameters)"
   ]
  },
  {
   "source": [
    "Training"
   ],
   "cell_type": "markdown",
   "metadata": {}
  },
  {
   "cell_type": "code",
   "execution_count": 149,
   "metadata": {},
   "outputs": [],
   "source": [
    "# Arguments\n",
    "lr = 2e-3\n",
    "num_epochs = 200\n",
    "patience = 10"
   ]
  },
  {
   "cell_type": "code",
   "execution_count": 150,
   "metadata": {},
   "outputs": [],
   "source": [
    "# Define loss\n",
    "class_weights_tensor = torch.Tensor(np.array(list(class_weights.values())))\n",
    "loss_fn = nn.BCEWithLogitsLoss(weight=class_weights_tensor)"
   ]
  },
  {
   "cell_type": "code",
   "execution_count": 151,
   "metadata": {},
   "outputs": [],
   "source": [
    "# Define optimizer & scheduler\n",
    "optimizer = torch.optim.Adam(model.parameters(), lr=lr)\n",
    "scheduler = torch.optim.lr_scheduler.ReduceLROnPlateau(\n",
    "    optimizer, mode='min', factor=0.1, patience=5)"
   ]
  },
  {
   "cell_type": "code",
   "execution_count": 152,
   "metadata": {},
   "outputs": [],
   "source": [
    "# Trainer module\n",
    "trainer = Trainer(\n",
    "    model=model, device=device, loss_fn=loss_fn, \n",
    "    optimizer=optimizer, scheduler=scheduler)"
   ]
  },
  {
   "cell_type": "code",
   "execution_count": 153,
   "metadata": {},
   "outputs": [
    {
     "output_type": "stream",
     "name": "stdout",
     "text": [
      "Epoch: 1 | train_loss: 0.00776, val_loss: 0.00330, lr: 2.00E-03, _patience: 10\n",
      "Epoch: 2 | train_loss: 0.00406, val_loss: 0.00313, lr: 2.00E-03, _patience: 10\n",
      "Epoch: 3 | train_loss: 0.00344, val_loss: 0.00276, lr: 2.00E-03, _patience: 10\n",
      "Epoch: 4 | train_loss: 0.00311, val_loss: 0.00272, lr: 2.00E-03, _patience: 10\n",
      "Epoch: 5 | train_loss: 0.00302, val_loss: 0.00267, lr: 2.00E-03, _patience: 10\n",
      "Epoch: 6 | train_loss: 0.00296, val_loss: 0.00265, lr: 2.00E-03, _patience: 10\n",
      "Epoch: 7 | train_loss: 0.00291, val_loss: 0.00262, lr: 2.00E-03, _patience: 10\n",
      "Epoch: 8 | train_loss: 0.00287, val_loss: 0.00261, lr: 2.00E-03, _patience: 10\n",
      "Epoch: 9 | train_loss: 0.00285, val_loss: 0.00260, lr: 2.00E-03, _patience: 10\n",
      "Epoch: 10 | train_loss: 0.00282, val_loss: 0.00259, lr: 2.00E-03, _patience: 10\n",
      "Epoch: 11 | train_loss: 0.00279, val_loss: 0.00258, lr: 2.00E-03, _patience: 10\n",
      "Epoch: 12 | train_loss: 0.00279, val_loss: 0.00257, lr: 2.00E-03, _patience: 10\n",
      "Epoch: 13 | train_loss: 0.00274, val_loss: 0.00256, lr: 2.00E-03, _patience: 10\n",
      "Epoch: 14 | train_loss: 0.00271, val_loss: 0.00255, lr: 2.00E-03, _patience: 10\n",
      "Epoch: 15 | train_loss: 0.00270, val_loss: 0.00255, lr: 2.00E-03, _patience: 10\n",
      "Epoch: 16 | train_loss: 0.00267, val_loss: 0.00254, lr: 2.00E-03, _patience: 10\n",
      "Epoch: 17 | train_loss: 0.00264, val_loss: 0.00254, lr: 2.00E-03, _patience: 10\n",
      "Epoch: 18 | train_loss: 0.00263, val_loss: 0.00255, lr: 2.00E-03, _patience: 9\n",
      "Epoch: 19 | train_loss: 0.00259, val_loss: 0.00254, lr: 2.00E-03, _patience: 8\n",
      "Epoch: 20 | train_loss: 0.00255, val_loss: 0.00254, lr: 2.00E-03, _patience: 10\n",
      "Epoch: 21 | train_loss: 0.00255, val_loss: 0.00253, lr: 2.00E-03, _patience: 10\n",
      "Epoch: 22 | train_loss: 0.00253, val_loss: 0.00252, lr: 2.00E-03, _patience: 10\n",
      "Epoch: 23 | train_loss: 0.00247, val_loss: 0.00253, lr: 2.00E-03, _patience: 9\n",
      "Epoch: 24 | train_loss: 0.00242, val_loss: 0.00252, lr: 2.00E-03, _patience: 10\n",
      "Epoch: 25 | train_loss: 0.00239, val_loss: 0.00251, lr: 2.00E-03, _patience: 10\n",
      "Epoch: 26 | train_loss: 0.00236, val_loss: 0.00250, lr: 2.00E-03, _patience: 10\n",
      "Epoch: 27 | train_loss: 0.00232, val_loss: 0.00250, lr: 2.00E-03, _patience: 10\n",
      "Epoch: 28 | train_loss: 0.00226, val_loss: 0.00252, lr: 2.00E-03, _patience: 9\n",
      "Epoch: 29 | train_loss: 0.00224, val_loss: 0.00252, lr: 2.00E-03, _patience: 8\n",
      "Epoch: 30 | train_loss: 0.00217, val_loss: 0.00251, lr: 2.00E-03, _patience: 7\n",
      "Epoch: 31 | train_loss: 0.00211, val_loss: 0.00250, lr: 2.00E-03, _patience: 6\n",
      "Epoch: 32 | train_loss: 0.00206, val_loss: 0.00249, lr: 2.00E-03, _patience: 10\n",
      "Epoch: 33 | train_loss: 0.00201, val_loss: 0.00247, lr: 2.00E-03, _patience: 10\n",
      "Epoch: 34 | train_loss: 0.00196, val_loss: 0.00249, lr: 2.00E-03, _patience: 9\n",
      "Epoch: 35 | train_loss: 0.00189, val_loss: 0.00250, lr: 2.00E-03, _patience: 8\n",
      "Epoch: 36 | train_loss: 0.00183, val_loss: 0.00250, lr: 2.00E-03, _patience: 7\n",
      "Epoch: 37 | train_loss: 0.00178, val_loss: 0.00256, lr: 2.00E-03, _patience: 6\n",
      "Epoch: 38 | train_loss: 0.00173, val_loss: 0.00256, lr: 2.00E-03, _patience: 5\n",
      "Epoch: 39 | train_loss: 0.00167, val_loss: 0.00255, lr: 2.00E-04, _patience: 4\n",
      "Epoch: 40 | train_loss: 0.00163, val_loss: 0.00257, lr: 2.00E-04, _patience: 3\n",
      "Epoch: 41 | train_loss: 0.00158, val_loss: 0.00256, lr: 2.00E-04, _patience: 2\n",
      "Epoch: 42 | train_loss: 0.00158, val_loss: 0.00255, lr: 2.00E-04, _patience: 1\n",
      "Stopping early!\n"
     ]
    }
   ],
   "source": [
    "# Train\n",
    "best_model = trainer.train(\n",
    "    num_epochs, patience, train_dataloader, val_dataloader)"
   ]
  },
  {
   "source": [
    "Evaluation"
   ],
   "cell_type": "markdown",
   "metadata": {}
  },
  {
   "cell_type": "code",
   "execution_count": 154,
   "metadata": {},
   "outputs": [
    {
     "output_type": "execute_result",
     "data": {
      "text/plain": [
       "<matplotlib.legend.Legend at 0x29385040248>"
      ]
     },
     "metadata": {},
     "execution_count": 154
    },
    {
     "output_type": "display_data",
     "data": {
      "text/plain": "<Figure size 432x288 with 1 Axes>",
      "image/svg+xml": "<?xml version=\"1.0\" encoding=\"utf-8\" standalone=\"no\"?>\r\n<!DOCTYPE svg PUBLIC \"-//W3C//DTD SVG 1.1//EN\"\r\n  \"http://www.w3.org/Graphics/SVG/1.1/DTD/svg11.dtd\">\r\n<!-- Created with matplotlib (https://matplotlib.org/) -->\r\n<svg height=\"262.19625pt\" version=\"1.1\" viewBox=\"0 0 385.78125 262.19625\" width=\"385.78125pt\" xmlns=\"http://www.w3.org/2000/svg\" xmlns:xlink=\"http://www.w3.org/1999/xlink\">\r\n <defs>\r\n  <style type=\"text/css\">\r\n*{stroke-linecap:butt;stroke-linejoin:round;}\r\n  </style>\r\n </defs>\r\n <g id=\"figure_1\">\r\n  <g id=\"patch_1\">\r\n   <path d=\"M 0 262.19625 \r\nL 385.78125 262.19625 \r\nL 385.78125 0 \r\nL 0 0 \r\nz\r\n\" style=\"fill:none;\"/>\r\n  </g>\r\n  <g id=\"axes_1\">\r\n   <g id=\"patch_2\">\r\n    <path d=\"M 43.78125 224.64 \r\nL 378.58125 224.64 \r\nL 378.58125 7.2 \r\nL 43.78125 7.2 \r\nz\r\n\" style=\"fill:#ffffff;\"/>\r\n   </g>\r\n   <g id=\"matplotlib.axis_1\">\r\n    <g id=\"xtick_1\">\r\n     <g id=\"line2d_1\">\r\n      <defs>\r\n       <path d=\"M 0 0 \r\nL 0 3.5 \r\n\" id=\"m0981855d89\" style=\"stroke:#000000;stroke-width:0.8;\"/>\r\n      </defs>\r\n      <g>\r\n       <use style=\"stroke:#000000;stroke-width:0.8;\" x=\"57.250754\" xlink:href=\"#m0981855d89\" y=\"224.64\"/>\r\n      </g>\r\n     </g>\r\n     <g id=\"text_1\">\r\n      <!-- 0.0 -->\r\n      <defs>\r\n       <path d=\"M 31.78125 66.40625 \r\nQ 24.171875 66.40625 20.328125 58.90625 \r\nQ 16.5 51.421875 16.5 36.375 \r\nQ 16.5 21.390625 20.328125 13.890625 \r\nQ 24.171875 6.390625 31.78125 6.390625 \r\nQ 39.453125 6.390625 43.28125 13.890625 \r\nQ 47.125 21.390625 47.125 36.375 \r\nQ 47.125 51.421875 43.28125 58.90625 \r\nQ 39.453125 66.40625 31.78125 66.40625 \r\nz\r\nM 31.78125 74.21875 \r\nQ 44.046875 74.21875 50.515625 64.515625 \r\nQ 56.984375 54.828125 56.984375 36.375 \r\nQ 56.984375 17.96875 50.515625 8.265625 \r\nQ 44.046875 -1.421875 31.78125 -1.421875 \r\nQ 19.53125 -1.421875 13.0625 8.265625 \r\nQ 6.59375 17.96875 6.59375 36.375 \r\nQ 6.59375 54.828125 13.0625 64.515625 \r\nQ 19.53125 74.21875 31.78125 74.21875 \r\nz\r\n\" id=\"DejaVuSans-48\"/>\r\n       <path d=\"M 10.6875 12.40625 \r\nL 21 12.40625 \r\nL 21 0 \r\nL 10.6875 0 \r\nz\r\n\" id=\"DejaVuSans-46\"/>\r\n      </defs>\r\n      <g transform=\"translate(49.299191 239.238438)scale(0.1 -0.1)\">\r\n       <use xlink:href=\"#DejaVuSans-48\"/>\r\n       <use x=\"63.623047\" xlink:href=\"#DejaVuSans-46\"/>\r\n       <use x=\"95.410156\" xlink:href=\"#DejaVuSans-48\"/>\r\n      </g>\r\n     </g>\r\n    </g>\r\n    <g id=\"xtick_2\">\r\n     <g id=\"line2d_2\">\r\n      <g>\r\n       <use style=\"stroke:#000000;stroke-width:0.8;\" x=\"118.480596\" xlink:href=\"#m0981855d89\" y=\"224.64\"/>\r\n      </g>\r\n     </g>\r\n     <g id=\"text_2\">\r\n      <!-- 0.2 -->\r\n      <defs>\r\n       <path d=\"M 19.1875 8.296875 \r\nL 53.609375 8.296875 \r\nL 53.609375 0 \r\nL 7.328125 0 \r\nL 7.328125 8.296875 \r\nQ 12.9375 14.109375 22.625 23.890625 \r\nQ 32.328125 33.6875 34.8125 36.53125 \r\nQ 39.546875 41.84375 41.421875 45.53125 \r\nQ 43.3125 49.21875 43.3125 52.78125 \r\nQ 43.3125 58.59375 39.234375 62.25 \r\nQ 35.15625 65.921875 28.609375 65.921875 \r\nQ 23.96875 65.921875 18.8125 64.3125 \r\nQ 13.671875 62.703125 7.8125 59.421875 \r\nL 7.8125 69.390625 \r\nQ 13.765625 71.78125 18.9375 73 \r\nQ 24.125 74.21875 28.421875 74.21875 \r\nQ 39.75 74.21875 46.484375 68.546875 \r\nQ 53.21875 62.890625 53.21875 53.421875 \r\nQ 53.21875 48.921875 51.53125 44.890625 \r\nQ 49.859375 40.875 45.40625 35.40625 \r\nQ 44.1875 33.984375 37.640625 27.21875 \r\nQ 31.109375 20.453125 19.1875 8.296875 \r\nz\r\n\" id=\"DejaVuSans-50\"/>\r\n      </defs>\r\n      <g transform=\"translate(110.529034 239.238438)scale(0.1 -0.1)\">\r\n       <use xlink:href=\"#DejaVuSans-48\"/>\r\n       <use x=\"63.623047\" xlink:href=\"#DejaVuSans-46\"/>\r\n       <use x=\"95.410156\" xlink:href=\"#DejaVuSans-50\"/>\r\n      </g>\r\n     </g>\r\n    </g>\r\n    <g id=\"xtick_3\">\r\n     <g id=\"line2d_3\">\r\n      <g>\r\n       <use style=\"stroke:#000000;stroke-width:0.8;\" x=\"179.710439\" xlink:href=\"#m0981855d89\" y=\"224.64\"/>\r\n      </g>\r\n     </g>\r\n     <g id=\"text_3\">\r\n      <!-- 0.4 -->\r\n      <defs>\r\n       <path d=\"M 37.796875 64.3125 \r\nL 12.890625 25.390625 \r\nL 37.796875 25.390625 \r\nz\r\nM 35.203125 72.90625 \r\nL 47.609375 72.90625 \r\nL 47.609375 25.390625 \r\nL 58.015625 25.390625 \r\nL 58.015625 17.1875 \r\nL 47.609375 17.1875 \r\nL 47.609375 0 \r\nL 37.796875 0 \r\nL 37.796875 17.1875 \r\nL 4.890625 17.1875 \r\nL 4.890625 26.703125 \r\nz\r\n\" id=\"DejaVuSans-52\"/>\r\n      </defs>\r\n      <g transform=\"translate(171.758876 239.238438)scale(0.1 -0.1)\">\r\n       <use xlink:href=\"#DejaVuSans-48\"/>\r\n       <use x=\"63.623047\" xlink:href=\"#DejaVuSans-46\"/>\r\n       <use x=\"95.410156\" xlink:href=\"#DejaVuSans-52\"/>\r\n      </g>\r\n     </g>\r\n    </g>\r\n    <g id=\"xtick_4\">\r\n     <g id=\"line2d_4\">\r\n      <g>\r\n       <use style=\"stroke:#000000;stroke-width:0.8;\" x=\"240.940281\" xlink:href=\"#m0981855d89\" y=\"224.64\"/>\r\n      </g>\r\n     </g>\r\n     <g id=\"text_4\">\r\n      <!-- 0.6 -->\r\n      <defs>\r\n       <path d=\"M 33.015625 40.375 \r\nQ 26.375 40.375 22.484375 35.828125 \r\nQ 18.609375 31.296875 18.609375 23.390625 \r\nQ 18.609375 15.53125 22.484375 10.953125 \r\nQ 26.375 6.390625 33.015625 6.390625 \r\nQ 39.65625 6.390625 43.53125 10.953125 \r\nQ 47.40625 15.53125 47.40625 23.390625 \r\nQ 47.40625 31.296875 43.53125 35.828125 \r\nQ 39.65625 40.375 33.015625 40.375 \r\nz\r\nM 52.59375 71.296875 \r\nL 52.59375 62.3125 \r\nQ 48.875 64.0625 45.09375 64.984375 \r\nQ 41.3125 65.921875 37.59375 65.921875 \r\nQ 27.828125 65.921875 22.671875 59.328125 \r\nQ 17.53125 52.734375 16.796875 39.40625 \r\nQ 19.671875 43.65625 24.015625 45.921875 \r\nQ 28.375 48.1875 33.59375 48.1875 \r\nQ 44.578125 48.1875 50.953125 41.515625 \r\nQ 57.328125 34.859375 57.328125 23.390625 \r\nQ 57.328125 12.15625 50.6875 5.359375 \r\nQ 44.046875 -1.421875 33.015625 -1.421875 \r\nQ 20.359375 -1.421875 13.671875 8.265625 \r\nQ 6.984375 17.96875 6.984375 36.375 \r\nQ 6.984375 53.65625 15.1875 63.9375 \r\nQ 23.390625 74.21875 37.203125 74.21875 \r\nQ 40.921875 74.21875 44.703125 73.484375 \r\nQ 48.484375 72.75 52.59375 71.296875 \r\nz\r\n\" id=\"DejaVuSans-54\"/>\r\n      </defs>\r\n      <g transform=\"translate(232.988718 239.238438)scale(0.1 -0.1)\">\r\n       <use xlink:href=\"#DejaVuSans-48\"/>\r\n       <use x=\"63.623047\" xlink:href=\"#DejaVuSans-46\"/>\r\n       <use x=\"95.410156\" xlink:href=\"#DejaVuSans-54\"/>\r\n      </g>\r\n     </g>\r\n    </g>\r\n    <g id=\"xtick_5\">\r\n     <g id=\"line2d_5\">\r\n      <g>\r\n       <use style=\"stroke:#000000;stroke-width:0.8;\" x=\"302.170123\" xlink:href=\"#m0981855d89\" y=\"224.64\"/>\r\n      </g>\r\n     </g>\r\n     <g id=\"text_5\">\r\n      <!-- 0.8 -->\r\n      <defs>\r\n       <path d=\"M 31.78125 34.625 \r\nQ 24.75 34.625 20.71875 30.859375 \r\nQ 16.703125 27.09375 16.703125 20.515625 \r\nQ 16.703125 13.921875 20.71875 10.15625 \r\nQ 24.75 6.390625 31.78125 6.390625 \r\nQ 38.8125 6.390625 42.859375 10.171875 \r\nQ 46.921875 13.96875 46.921875 20.515625 \r\nQ 46.921875 27.09375 42.890625 30.859375 \r\nQ 38.875 34.625 31.78125 34.625 \r\nz\r\nM 21.921875 38.8125 \r\nQ 15.578125 40.375 12.03125 44.71875 \r\nQ 8.5 49.078125 8.5 55.328125 \r\nQ 8.5 64.0625 14.71875 69.140625 \r\nQ 20.953125 74.21875 31.78125 74.21875 \r\nQ 42.671875 74.21875 48.875 69.140625 \r\nQ 55.078125 64.0625 55.078125 55.328125 \r\nQ 55.078125 49.078125 51.53125 44.71875 \r\nQ 48 40.375 41.703125 38.8125 \r\nQ 48.828125 37.15625 52.796875 32.3125 \r\nQ 56.78125 27.484375 56.78125 20.515625 \r\nQ 56.78125 9.90625 50.3125 4.234375 \r\nQ 43.84375 -1.421875 31.78125 -1.421875 \r\nQ 19.734375 -1.421875 13.25 4.234375 \r\nQ 6.78125 9.90625 6.78125 20.515625 \r\nQ 6.78125 27.484375 10.78125 32.3125 \r\nQ 14.796875 37.15625 21.921875 38.8125 \r\nz\r\nM 18.3125 54.390625 \r\nQ 18.3125 48.734375 21.84375 45.5625 \r\nQ 25.390625 42.390625 31.78125 42.390625 \r\nQ 38.140625 42.390625 41.71875 45.5625 \r\nQ 45.3125 48.734375 45.3125 54.390625 \r\nQ 45.3125 60.0625 41.71875 63.234375 \r\nQ 38.140625 66.40625 31.78125 66.40625 \r\nQ 25.390625 66.40625 21.84375 63.234375 \r\nQ 18.3125 60.0625 18.3125 54.390625 \r\nz\r\n\" id=\"DejaVuSans-56\"/>\r\n      </defs>\r\n      <g transform=\"translate(294.218561 239.238438)scale(0.1 -0.1)\">\r\n       <use xlink:href=\"#DejaVuSans-48\"/>\r\n       <use x=\"63.623047\" xlink:href=\"#DejaVuSans-46\"/>\r\n       <use x=\"95.410156\" xlink:href=\"#DejaVuSans-56\"/>\r\n      </g>\r\n     </g>\r\n    </g>\r\n    <g id=\"xtick_6\">\r\n     <g id=\"line2d_6\">\r\n      <g>\r\n       <use style=\"stroke:#000000;stroke-width:0.8;\" x=\"363.399965\" xlink:href=\"#m0981855d89\" y=\"224.64\"/>\r\n      </g>\r\n     </g>\r\n     <g id=\"text_6\">\r\n      <!-- 1.0 -->\r\n      <defs>\r\n       <path d=\"M 12.40625 8.296875 \r\nL 28.515625 8.296875 \r\nL 28.515625 63.921875 \r\nL 10.984375 60.40625 \r\nL 10.984375 69.390625 \r\nL 28.421875 72.90625 \r\nL 38.28125 72.90625 \r\nL 38.28125 8.296875 \r\nL 54.390625 8.296875 \r\nL 54.390625 0 \r\nL 12.40625 0 \r\nz\r\n\" id=\"DejaVuSans-49\"/>\r\n      </defs>\r\n      <g transform=\"translate(355.448403 239.238438)scale(0.1 -0.1)\">\r\n       <use xlink:href=\"#DejaVuSans-49\"/>\r\n       <use x=\"63.623047\" xlink:href=\"#DejaVuSans-46\"/>\r\n       <use x=\"95.410156\" xlink:href=\"#DejaVuSans-48\"/>\r\n      </g>\r\n     </g>\r\n    </g>\r\n    <g id=\"text_7\">\r\n     <!-- Threshold -->\r\n     <defs>\r\n      <path d=\"M -0.296875 72.90625 \r\nL 61.375 72.90625 \r\nL 61.375 64.59375 \r\nL 35.5 64.59375 \r\nL 35.5 0 \r\nL 25.59375 0 \r\nL 25.59375 64.59375 \r\nL -0.296875 64.59375 \r\nz\r\n\" id=\"DejaVuSans-84\"/>\r\n      <path d=\"M 54.890625 33.015625 \r\nL 54.890625 0 \r\nL 45.90625 0 \r\nL 45.90625 32.71875 \r\nQ 45.90625 40.484375 42.875 44.328125 \r\nQ 39.84375 48.1875 33.796875 48.1875 \r\nQ 26.515625 48.1875 22.3125 43.546875 \r\nQ 18.109375 38.921875 18.109375 30.90625 \r\nL 18.109375 0 \r\nL 9.078125 0 \r\nL 9.078125 75.984375 \r\nL 18.109375 75.984375 \r\nL 18.109375 46.1875 \r\nQ 21.34375 51.125 25.703125 53.5625 \r\nQ 30.078125 56 35.796875 56 \r\nQ 45.21875 56 50.046875 50.171875 \r\nQ 54.890625 44.34375 54.890625 33.015625 \r\nz\r\n\" id=\"DejaVuSans-104\"/>\r\n      <path d=\"M 41.109375 46.296875 \r\nQ 39.59375 47.171875 37.8125 47.578125 \r\nQ 36.03125 48 33.890625 48 \r\nQ 26.265625 48 22.1875 43.046875 \r\nQ 18.109375 38.09375 18.109375 28.8125 \r\nL 18.109375 0 \r\nL 9.078125 0 \r\nL 9.078125 54.6875 \r\nL 18.109375 54.6875 \r\nL 18.109375 46.1875 \r\nQ 20.953125 51.171875 25.484375 53.578125 \r\nQ 30.03125 56 36.53125 56 \r\nQ 37.453125 56 38.578125 55.875 \r\nQ 39.703125 55.765625 41.0625 55.515625 \r\nz\r\n\" id=\"DejaVuSans-114\"/>\r\n      <path d=\"M 56.203125 29.59375 \r\nL 56.203125 25.203125 \r\nL 14.890625 25.203125 \r\nQ 15.484375 15.921875 20.484375 11.0625 \r\nQ 25.484375 6.203125 34.421875 6.203125 \r\nQ 39.59375 6.203125 44.453125 7.46875 \r\nQ 49.3125 8.734375 54.109375 11.28125 \r\nL 54.109375 2.78125 \r\nQ 49.265625 0.734375 44.1875 -0.34375 \r\nQ 39.109375 -1.421875 33.890625 -1.421875 \r\nQ 20.796875 -1.421875 13.15625 6.1875 \r\nQ 5.515625 13.8125 5.515625 26.8125 \r\nQ 5.515625 40.234375 12.765625 48.109375 \r\nQ 20.015625 56 32.328125 56 \r\nQ 43.359375 56 49.78125 48.890625 \r\nQ 56.203125 41.796875 56.203125 29.59375 \r\nz\r\nM 47.21875 32.234375 \r\nQ 47.125 39.59375 43.09375 43.984375 \r\nQ 39.0625 48.390625 32.421875 48.390625 \r\nQ 24.90625 48.390625 20.390625 44.140625 \r\nQ 15.875 39.890625 15.1875 32.171875 \r\nz\r\n\" id=\"DejaVuSans-101\"/>\r\n      <path d=\"M 44.28125 53.078125 \r\nL 44.28125 44.578125 \r\nQ 40.484375 46.53125 36.375 47.5 \r\nQ 32.28125 48.484375 27.875 48.484375 \r\nQ 21.1875 48.484375 17.84375 46.4375 \r\nQ 14.5 44.390625 14.5 40.28125 \r\nQ 14.5 37.15625 16.890625 35.375 \r\nQ 19.28125 33.59375 26.515625 31.984375 \r\nL 29.59375 31.296875 \r\nQ 39.15625 29.25 43.1875 25.515625 \r\nQ 47.21875 21.78125 47.21875 15.09375 \r\nQ 47.21875 7.46875 41.1875 3.015625 \r\nQ 35.15625 -1.421875 24.609375 -1.421875 \r\nQ 20.21875 -1.421875 15.453125 -0.5625 \r\nQ 10.6875 0.296875 5.421875 2 \r\nL 5.421875 11.28125 \r\nQ 10.40625 8.6875 15.234375 7.390625 \r\nQ 20.0625 6.109375 24.8125 6.109375 \r\nQ 31.15625 6.109375 34.5625 8.28125 \r\nQ 37.984375 10.453125 37.984375 14.40625 \r\nQ 37.984375 18.0625 35.515625 20.015625 \r\nQ 33.0625 21.96875 24.703125 23.78125 \r\nL 21.578125 24.515625 \r\nQ 13.234375 26.265625 9.515625 29.90625 \r\nQ 5.8125 33.546875 5.8125 39.890625 \r\nQ 5.8125 47.609375 11.28125 51.796875 \r\nQ 16.75 56 26.8125 56 \r\nQ 31.78125 56 36.171875 55.265625 \r\nQ 40.578125 54.546875 44.28125 53.078125 \r\nz\r\n\" id=\"DejaVuSans-115\"/>\r\n      <path d=\"M 30.609375 48.390625 \r\nQ 23.390625 48.390625 19.1875 42.75 \r\nQ 14.984375 37.109375 14.984375 27.296875 \r\nQ 14.984375 17.484375 19.15625 11.84375 \r\nQ 23.34375 6.203125 30.609375 6.203125 \r\nQ 37.796875 6.203125 41.984375 11.859375 \r\nQ 46.1875 17.53125 46.1875 27.296875 \r\nQ 46.1875 37.015625 41.984375 42.703125 \r\nQ 37.796875 48.390625 30.609375 48.390625 \r\nz\r\nM 30.609375 56 \r\nQ 42.328125 56 49.015625 48.375 \r\nQ 55.71875 40.765625 55.71875 27.296875 \r\nQ 55.71875 13.875 49.015625 6.21875 \r\nQ 42.328125 -1.421875 30.609375 -1.421875 \r\nQ 18.84375 -1.421875 12.171875 6.21875 \r\nQ 5.515625 13.875 5.515625 27.296875 \r\nQ 5.515625 40.765625 12.171875 48.375 \r\nQ 18.84375 56 30.609375 56 \r\nz\r\n\" id=\"DejaVuSans-111\"/>\r\n      <path d=\"M 9.421875 75.984375 \r\nL 18.40625 75.984375 \r\nL 18.40625 0 \r\nL 9.421875 0 \r\nz\r\n\" id=\"DejaVuSans-108\"/>\r\n      <path d=\"M 45.40625 46.390625 \r\nL 45.40625 75.984375 \r\nL 54.390625 75.984375 \r\nL 54.390625 0 \r\nL 45.40625 0 \r\nL 45.40625 8.203125 \r\nQ 42.578125 3.328125 38.25 0.953125 \r\nQ 33.9375 -1.421875 27.875 -1.421875 \r\nQ 17.96875 -1.421875 11.734375 6.484375 \r\nQ 5.515625 14.40625 5.515625 27.296875 \r\nQ 5.515625 40.1875 11.734375 48.09375 \r\nQ 17.96875 56 27.875 56 \r\nQ 33.9375 56 38.25 53.625 \r\nQ 42.578125 51.265625 45.40625 46.390625 \r\nz\r\nM 14.796875 27.296875 \r\nQ 14.796875 17.390625 18.875 11.75 \r\nQ 22.953125 6.109375 30.078125 6.109375 \r\nQ 37.203125 6.109375 41.296875 11.75 \r\nQ 45.40625 17.390625 45.40625 27.296875 \r\nQ 45.40625 37.203125 41.296875 42.84375 \r\nQ 37.203125 48.484375 30.078125 48.484375 \r\nQ 22.953125 48.484375 18.875 42.84375 \r\nQ 14.796875 37.203125 14.796875 27.296875 \r\nz\r\n\" id=\"DejaVuSans-100\"/>\r\n     </defs>\r\n     <g transform=\"translate(186.432031 252.916563)scale(0.1 -0.1)\">\r\n      <use xlink:href=\"#DejaVuSans-84\"/>\r\n      <use x=\"61.083984\" xlink:href=\"#DejaVuSans-104\"/>\r\n      <use x=\"124.462891\" xlink:href=\"#DejaVuSans-114\"/>\r\n      <use x=\"165.544922\" xlink:href=\"#DejaVuSans-101\"/>\r\n      <use x=\"227.068359\" xlink:href=\"#DejaVuSans-115\"/>\r\n      <use x=\"279.167969\" xlink:href=\"#DejaVuSans-104\"/>\r\n      <use x=\"342.546875\" xlink:href=\"#DejaVuSans-111\"/>\r\n      <use x=\"403.728516\" xlink:href=\"#DejaVuSans-108\"/>\r\n      <use x=\"431.511719\" xlink:href=\"#DejaVuSans-100\"/>\r\n     </g>\r\n    </g>\r\n   </g>\r\n   <g id=\"matplotlib.axis_2\">\r\n    <g id=\"ytick_1\">\r\n     <g id=\"line2d_7\">\r\n      <defs>\r\n       <path d=\"M 0 0 \r\nL -3.5 0 \r\n\" id=\"m0d86f6b7b0\" style=\"stroke:#000000;stroke-width:0.8;\"/>\r\n      </defs>\r\n      <g>\r\n       <use style=\"stroke:#000000;stroke-width:0.8;\" x=\"43.78125\" xlink:href=\"#m0d86f6b7b0\" y=\"214.846174\"/>\r\n      </g>\r\n     </g>\r\n     <g id=\"text_8\">\r\n      <!-- 0.0 -->\r\n      <g transform=\"translate(20.878125 218.645393)scale(0.1 -0.1)\">\r\n       <use xlink:href=\"#DejaVuSans-48\"/>\r\n       <use x=\"63.623047\" xlink:href=\"#DejaVuSans-46\"/>\r\n       <use x=\"95.410156\" xlink:href=\"#DejaVuSans-48\"/>\r\n      </g>\r\n     </g>\r\n    </g>\r\n    <g id=\"ytick_2\">\r\n     <g id=\"line2d_8\">\r\n      <g>\r\n       <use style=\"stroke:#000000;stroke-width:0.8;\" x=\"43.78125\" xlink:href=\"#m0d86f6b7b0\" y=\"175.293667\"/>\r\n      </g>\r\n     </g>\r\n     <g id=\"text_9\">\r\n      <!-- 0.2 -->\r\n      <g transform=\"translate(20.878125 179.092885)scale(0.1 -0.1)\">\r\n       <use xlink:href=\"#DejaVuSans-48\"/>\r\n       <use x=\"63.623047\" xlink:href=\"#DejaVuSans-46\"/>\r\n       <use x=\"95.410156\" xlink:href=\"#DejaVuSans-50\"/>\r\n      </g>\r\n     </g>\r\n    </g>\r\n    <g id=\"ytick_3\">\r\n     <g id=\"line2d_9\">\r\n      <g>\r\n       <use style=\"stroke:#000000;stroke-width:0.8;\" x=\"43.78125\" xlink:href=\"#m0d86f6b7b0\" y=\"135.741159\"/>\r\n      </g>\r\n     </g>\r\n     <g id=\"text_10\">\r\n      <!-- 0.4 -->\r\n      <g transform=\"translate(20.878125 139.540378)scale(0.1 -0.1)\">\r\n       <use xlink:href=\"#DejaVuSans-48\"/>\r\n       <use x=\"63.623047\" xlink:href=\"#DejaVuSans-46\"/>\r\n       <use x=\"95.410156\" xlink:href=\"#DejaVuSans-52\"/>\r\n      </g>\r\n     </g>\r\n    </g>\r\n    <g id=\"ytick_4\">\r\n     <g id=\"line2d_10\">\r\n      <g>\r\n       <use style=\"stroke:#000000;stroke-width:0.8;\" x=\"43.78125\" xlink:href=\"#m0d86f6b7b0\" y=\"96.188651\"/>\r\n      </g>\r\n     </g>\r\n     <g id=\"text_11\">\r\n      <!-- 0.6 -->\r\n      <g transform=\"translate(20.878125 99.98787)scale(0.1 -0.1)\">\r\n       <use xlink:href=\"#DejaVuSans-48\"/>\r\n       <use x=\"63.623047\" xlink:href=\"#DejaVuSans-46\"/>\r\n       <use x=\"95.410156\" xlink:href=\"#DejaVuSans-54\"/>\r\n      </g>\r\n     </g>\r\n    </g>\r\n    <g id=\"ytick_5\">\r\n     <g id=\"line2d_11\">\r\n      <g>\r\n       <use style=\"stroke:#000000;stroke-width:0.8;\" x=\"43.78125\" xlink:href=\"#m0d86f6b7b0\" y=\"56.636144\"/>\r\n      </g>\r\n     </g>\r\n     <g id=\"text_12\">\r\n      <!-- 0.8 -->\r\n      <g transform=\"translate(20.878125 60.435363)scale(0.1 -0.1)\">\r\n       <use xlink:href=\"#DejaVuSans-48\"/>\r\n       <use x=\"63.623047\" xlink:href=\"#DejaVuSans-46\"/>\r\n       <use x=\"95.410156\" xlink:href=\"#DejaVuSans-56\"/>\r\n      </g>\r\n     </g>\r\n    </g>\r\n    <g id=\"ytick_6\">\r\n     <g id=\"line2d_12\">\r\n      <g>\r\n       <use style=\"stroke:#000000;stroke-width:0.8;\" x=\"43.78125\" xlink:href=\"#m0d86f6b7b0\" y=\"17.083636\"/>\r\n      </g>\r\n     </g>\r\n     <g id=\"text_13\">\r\n      <!-- 1.0 -->\r\n      <g transform=\"translate(20.878125 20.882855)scale(0.1 -0.1)\">\r\n       <use xlink:href=\"#DejaVuSans-49\"/>\r\n       <use x=\"63.623047\" xlink:href=\"#DejaVuSans-46\"/>\r\n       <use x=\"95.410156\" xlink:href=\"#DejaVuSans-48\"/>\r\n      </g>\r\n     </g>\r\n    </g>\r\n    <g id=\"text_14\">\r\n     <!-- Performance -->\r\n     <defs>\r\n      <path d=\"M 19.671875 64.796875 \r\nL 19.671875 37.40625 \r\nL 32.078125 37.40625 \r\nQ 38.96875 37.40625 42.71875 40.96875 \r\nQ 46.484375 44.53125 46.484375 51.125 \r\nQ 46.484375 57.671875 42.71875 61.234375 \r\nQ 38.96875 64.796875 32.078125 64.796875 \r\nz\r\nM 9.8125 72.90625 \r\nL 32.078125 72.90625 \r\nQ 44.34375 72.90625 50.609375 67.359375 \r\nQ 56.890625 61.8125 56.890625 51.125 \r\nQ 56.890625 40.328125 50.609375 34.8125 \r\nQ 44.34375 29.296875 32.078125 29.296875 \r\nL 19.671875 29.296875 \r\nL 19.671875 0 \r\nL 9.8125 0 \r\nz\r\n\" id=\"DejaVuSans-80\"/>\r\n      <path d=\"M 37.109375 75.984375 \r\nL 37.109375 68.5 \r\nL 28.515625 68.5 \r\nQ 23.6875 68.5 21.796875 66.546875 \r\nQ 19.921875 64.59375 19.921875 59.515625 \r\nL 19.921875 54.6875 \r\nL 34.71875 54.6875 \r\nL 34.71875 47.703125 \r\nL 19.921875 47.703125 \r\nL 19.921875 0 \r\nL 10.890625 0 \r\nL 10.890625 47.703125 \r\nL 2.296875 47.703125 \r\nL 2.296875 54.6875 \r\nL 10.890625 54.6875 \r\nL 10.890625 58.5 \r\nQ 10.890625 67.625 15.140625 71.796875 \r\nQ 19.390625 75.984375 28.609375 75.984375 \r\nz\r\n\" id=\"DejaVuSans-102\"/>\r\n      <path d=\"M 52 44.1875 \r\nQ 55.375 50.25 60.0625 53.125 \r\nQ 64.75 56 71.09375 56 \r\nQ 79.640625 56 84.28125 50.015625 \r\nQ 88.921875 44.046875 88.921875 33.015625 \r\nL 88.921875 0 \r\nL 79.890625 0 \r\nL 79.890625 32.71875 \r\nQ 79.890625 40.578125 77.09375 44.375 \r\nQ 74.3125 48.1875 68.609375 48.1875 \r\nQ 61.625 48.1875 57.5625 43.546875 \r\nQ 53.515625 38.921875 53.515625 30.90625 \r\nL 53.515625 0 \r\nL 44.484375 0 \r\nL 44.484375 32.71875 \r\nQ 44.484375 40.625 41.703125 44.40625 \r\nQ 38.921875 48.1875 33.109375 48.1875 \r\nQ 26.21875 48.1875 22.15625 43.53125 \r\nQ 18.109375 38.875 18.109375 30.90625 \r\nL 18.109375 0 \r\nL 9.078125 0 \r\nL 9.078125 54.6875 \r\nL 18.109375 54.6875 \r\nL 18.109375 46.1875 \r\nQ 21.1875 51.21875 25.484375 53.609375 \r\nQ 29.78125 56 35.6875 56 \r\nQ 41.65625 56 45.828125 52.96875 \r\nQ 50 49.953125 52 44.1875 \r\nz\r\n\" id=\"DejaVuSans-109\"/>\r\n      <path d=\"M 34.28125 27.484375 \r\nQ 23.390625 27.484375 19.1875 25 \r\nQ 14.984375 22.515625 14.984375 16.5 \r\nQ 14.984375 11.71875 18.140625 8.90625 \r\nQ 21.296875 6.109375 26.703125 6.109375 \r\nQ 34.1875 6.109375 38.703125 11.40625 \r\nQ 43.21875 16.703125 43.21875 25.484375 \r\nL 43.21875 27.484375 \r\nz\r\nM 52.203125 31.203125 \r\nL 52.203125 0 \r\nL 43.21875 0 \r\nL 43.21875 8.296875 \r\nQ 40.140625 3.328125 35.546875 0.953125 \r\nQ 30.953125 -1.421875 24.3125 -1.421875 \r\nQ 15.921875 -1.421875 10.953125 3.296875 \r\nQ 6 8.015625 6 15.921875 \r\nQ 6 25.140625 12.171875 29.828125 \r\nQ 18.359375 34.515625 30.609375 34.515625 \r\nL 43.21875 34.515625 \r\nL 43.21875 35.40625 \r\nQ 43.21875 41.609375 39.140625 45 \r\nQ 35.0625 48.390625 27.6875 48.390625 \r\nQ 23 48.390625 18.546875 47.265625 \r\nQ 14.109375 46.140625 10.015625 43.890625 \r\nL 10.015625 52.203125 \r\nQ 14.9375 54.109375 19.578125 55.046875 \r\nQ 24.21875 56 28.609375 56 \r\nQ 40.484375 56 46.34375 49.84375 \r\nQ 52.203125 43.703125 52.203125 31.203125 \r\nz\r\n\" id=\"DejaVuSans-97\"/>\r\n      <path d=\"M 54.890625 33.015625 \r\nL 54.890625 0 \r\nL 45.90625 0 \r\nL 45.90625 32.71875 \r\nQ 45.90625 40.484375 42.875 44.328125 \r\nQ 39.84375 48.1875 33.796875 48.1875 \r\nQ 26.515625 48.1875 22.3125 43.546875 \r\nQ 18.109375 38.921875 18.109375 30.90625 \r\nL 18.109375 0 \r\nL 9.078125 0 \r\nL 9.078125 54.6875 \r\nL 18.109375 54.6875 \r\nL 18.109375 46.1875 \r\nQ 21.34375 51.125 25.703125 53.5625 \r\nQ 30.078125 56 35.796875 56 \r\nQ 45.21875 56 50.046875 50.171875 \r\nQ 54.890625 44.34375 54.890625 33.015625 \r\nz\r\n\" id=\"DejaVuSans-110\"/>\r\n      <path d=\"M 48.78125 52.59375 \r\nL 48.78125 44.1875 \r\nQ 44.96875 46.296875 41.140625 47.34375 \r\nQ 37.3125 48.390625 33.40625 48.390625 \r\nQ 24.65625 48.390625 19.8125 42.84375 \r\nQ 14.984375 37.3125 14.984375 27.296875 \r\nQ 14.984375 17.28125 19.8125 11.734375 \r\nQ 24.65625 6.203125 33.40625 6.203125 \r\nQ 37.3125 6.203125 41.140625 7.25 \r\nQ 44.96875 8.296875 48.78125 10.40625 \r\nL 48.78125 2.09375 \r\nQ 45.015625 0.34375 40.984375 -0.53125 \r\nQ 36.96875 -1.421875 32.421875 -1.421875 \r\nQ 20.0625 -1.421875 12.78125 6.34375 \r\nQ 5.515625 14.109375 5.515625 27.296875 \r\nQ 5.515625 40.671875 12.859375 48.328125 \r\nQ 20.21875 56 33.015625 56 \r\nQ 37.15625 56 41.109375 55.140625 \r\nQ 45.0625 54.296875 48.78125 52.59375 \r\nz\r\n\" id=\"DejaVuSans-99\"/>\r\n     </defs>\r\n     <g transform=\"translate(14.798438 147.867656)rotate(-90)scale(0.1 -0.1)\">\r\n      <use xlink:href=\"#DejaVuSans-80\"/>\r\n      <use x=\"60.255859\" xlink:href=\"#DejaVuSans-101\"/>\r\n      <use x=\"121.779297\" xlink:href=\"#DejaVuSans-114\"/>\r\n      <use x=\"162.892578\" xlink:href=\"#DejaVuSans-102\"/>\r\n      <use x=\"198.097656\" xlink:href=\"#DejaVuSans-111\"/>\r\n      <use x=\"259.279297\" xlink:href=\"#DejaVuSans-114\"/>\r\n      <use x=\"300.376953\" xlink:href=\"#DejaVuSans-109\"/>\r\n      <use x=\"397.789062\" xlink:href=\"#DejaVuSans-97\"/>\r\n      <use x=\"459.068359\" xlink:href=\"#DejaVuSans-110\"/>\r\n      <use x=\"522.447266\" xlink:href=\"#DejaVuSans-99\"/>\r\n      <use x=\"577.427734\" xlink:href=\"#DejaVuSans-101\"/>\r\n     </g>\r\n    </g>\r\n   </g>\r\n   <g id=\"line2d_13\">\r\n    <path clip-path=\"url(#p4002240743)\" d=\"M 58.999432 193.640822 \r\nL 58.999544 193.64942 \r\nL 59.106481 193.331972 \r\nL 59.275287 192.854788 \r\nL 59.33019 192.678875 \r\nL 59.468908 192.271713 \r\nL 59.731894 191.556943 \r\nL 59.845981 191.252434 \r\nL 60.34857 189.953146 \r\nL 60.417546 189.77945 \r\nL 60.705506 189.097431 \r\nL 60.808576 188.870898 \r\nL 60.948392 188.528239 \r\nL 61.074181 188.247386 \r\nL 61.253717 187.844976 \r\nL 61.482902 187.33837 \r\nL 61.600872 187.123991 \r\nL 61.727302 186.831839 \r\nL 61.848321 186.588851 \r\nL 62.926795 184.340622 \r\nL 63.001811 184.198804 \r\nL 65.186258 180.275654 \r\nL 65.188703 180.286041 \r\nL 65.26662 180.145081 \r\nL 65.46907 179.843955 \r\nL 65.768971 179.303902 \r\nL 65.885451 179.118124 \r\nL 66.114415 178.795014 \r\nL 66.340201 178.422018 \r\nL 66.547958 178.077371 \r\nL 66.654794 177.895489 \r\nL 66.884064 177.43963 \r\nL 67.323912 176.782125 \r\nL 67.457497 176.562635 \r\nL 68.39904 175.051242 \r\nL 68.400103 175.062387 \r\nL 68.563291 174.835326 \r\nL 69.230345 173.74236 \r\nL 69.358051 173.554881 \r\nL 69.541996 173.299587 \r\nL 69.692635 173.07923 \r\nL 71.22291 170.922206 \r\nL 71.466959 170.525195 \r\nL 72.436048 169.395064 \r\nL 72.564589 169.198546 \r\nL 72.718736 168.9441 \r\nL 72.827046 168.820391 \r\nL 72.842258 168.828608 \r\nL 73.120089 168.420417 \r\nL 73.292834 168.077702 \r\nL 73.640903 167.547682 \r\nL 73.776432 167.312404 \r\nL 74.101444 166.834057 \r\nL 74.114187 166.840369 \r\nL 74.118336 166.857967 \r\nL 74.202153 166.785847 \r\nL 74.202915 166.803484 \r\nL 74.328174 166.650763 \r\nL 74.759038 166.092873 \r\nL 74.972543 165.769381 \r\nL 75.241254 165.369425 \r\nL 75.611208 164.91868 \r\nL 75.632701 164.979222 \r\nL 75.712295 164.849615 \r\nL 76.201035 164.156317 \r\nL 76.300095 164.002924 \r\nL 76.797056 163.407683 \r\nL 77.694044 162.350915 \r\nL 77.697965 162.370054 \r\nL 77.781134 162.293891 \r\nL 77.7913 162.292248 \r\nL 78.089293 161.831677 \r\nL 78.59248 161.322303 \r\nL 78.816909 160.959998 \r\nL 79.371748 160.499845 \r\nL 79.381387 160.504659 \r\nL 79.483062 160.403763 \r\nL 79.759822 160.164141 \r\nL 80.078636 159.836237 \r\nL 80.187678 159.674205 \r\nL 80.207224 159.686582 \r\nL 80.391738 159.46478 \r\nL 80.620257 159.221915 \r\nL 80.621018 159.242305 \r\nL 81.033497 158.780509 \r\nL 81.141317 158.617598 \r\nL 81.41103 158.367367 \r\nL 81.676361 158.034602 \r\nL 82.125014 157.456956 \r\nL 82.229038 157.27049 \r\nL 82.235044 157.29152 \r\nL 82.328412 157.139393 \r\nL 82.639883 156.763752 \r\nL 82.724065 156.657714 \r\nL 82.752774 156.661245 \r\nL 82.753308 156.682493 \r\nL 82.859757 156.570657 \r\nL 83.031871 156.42597 \r\nL 84.007615 155.218809 \r\nL 84.009572 155.240539 \r\nL 84.099678 155.099561 \r\nL 84.750893 154.504869 \r\nL 84.87252 154.311156 \r\nL 85.225216 154.013357 \r\nL 85.463055 153.718987 \r\nL 85.476237 153.763457 \r\nL 85.54989 153.63396 \r\nL 85.744025 153.385569 \r\nL 85.876502 153.114569 \r\nL 85.751673 153.397834 \r\nL 85.883275 153.116639 \r\nL 85.971086 153.080049 \r\nL 85.983795 153.059661 \r\nL 86.100461 152.871179 \r\nL 86.327698 152.585765 \r\nL 86.467742 152.379166 \r\nL 86.478038 152.391361 \r\nL 86.523313 152.429757 \r\nL 86.582174 152.345906 \r\nL 87.01087 151.94768 \r\nL 87.186917 151.759182 \r\nL 87.392886 151.51334 \r\nL 87.5636 151.350055 \r\nL 87.687799 151.21022 \r\nL 87.718091 151.22238 \r\nL 87.99321 150.906618 \r\nL 88.175689 150.673404 \r\nL 88.739003 150.022064 \r\nL 88.847751 149.838457 \r\nL 88.866471 149.862036 \r\nL 89.642377 149.068169 \r\nL 89.72291 148.937262 \r\nL 89.743035 148.961155 \r\nL 89.806683 148.99702 \r\nL 89.855909 148.913358 \r\nL 89.944909 148.829443 \r\nL 89.976273 148.853401 \r\nL 90.112804 148.865236 \r\nL 90.123178 148.841169 \r\nL 90.584232 148.511803 \r\nL 90.683416 148.474816 \r\nL 90.691575 148.450289 \r\nL 90.891855 148.151523 \r\nL 91.027159 148.000513 \r\nL 92.186392 146.789473 \r\nL 92.355322 146.488047 \r\nL 92.356679 146.512971 \r\nL 92.403816 146.549688 \r\nL 92.444967 146.457431 \r\nL 92.496739 146.414907 \r\nL 92.536348 146.451703 \r\nL 92.764864 146.248014 \r\nL 92.788817 146.181298 \r\nL 92.862917 146.229966 \r\nL 93.103279 145.929513 \r\nL 93.194379 145.805964 \r\nL 93.21635 145.817687 \r\nL 93.401039 145.623436 \r\nL 93.403092 145.646849 \r\nL 93.504176 145.468853 \r\nL 93.539589 145.556824 \r\nL 93.608071 145.446863 \r\nL 93.735809 145.221467 \r\nL 93.750612 145.23313 \r\nL 93.754855 145.258678 \r\nL 93.834306 145.140715 \r\nL 93.843202 145.166336 \r\nL 94.172552 144.763726 \r\nL 94.323191 144.49143 \r\nL 94.440158 144.271303 \r\nL 94.697004 143.889802 \r\nL 94.844025 143.752411 \r\nL 94.851922 143.778437 \r\nL 94.860069 143.804473 \r\nL 94.931109 143.710329 \r\nL 95.113615 143.520638 \r\nL 95.218744 143.384037 \r\nL 95.561576 143.082845 \r\nL 95.734329 142.819238 \r\nL 95.949148 142.518485 \r\nL 96.420465 142.021884 \r\nL 96.628979 141.679565 \r\nL 96.796673 141.575516 \r\nL 96.830637 141.629235 \r\nL 96.830828 141.656111 \r\nL 96.931466 141.513687 \r\nL 96.938363 141.540597 \r\nL 97.168036 141.351017 \r\nL 97.184664 141.378014 \r\nL 97.237433 141.266118 \r\nL 97.401477 140.923543 \r\nL 97.785285 140.728898 \r\nL 98.293294 140.049383 \r\nL 98.391244 139.848091 \r\nL 98.431472 139.858808 \r\nL 98.586086 139.639448 \r\nL 98.71113 139.563348 \r\nL 99.027544 139.358108 \r\nL 99.042174 139.385929 \r\nL 99.046349 139.413763 \r\nL 99.130266 139.321265 \r\nL 99.130367 139.349141 \r\nL 99.514289 138.948365 \r\nL 99.616824 138.811779 \r\nL 99.632431 138.868056 \r\nL 100.021207 138.428476 \r\nL 100.055417 138.374912 \r\nL 100.097707 138.413751 \r\nL 100.284999 138.214934 \r\nL 100.461338 137.96447 \r\nL 100.293772 138.225403 \r\nL 100.487993 138.021597 \r\nL 100.494462 138.05018 \r\nL 100.579265 137.922914 \r\nL 100.776288 137.761061 \r\nL 100.912412 137.716433 \r\nL 101.022338 137.514137 \r\nL 101.169932 137.555321 \r\nL 101.196231 137.518375 \r\nL 101.274989 137.485565 \r\nL 101.240893 137.578168 \r\nL 101.300682 137.506218 \r\nL 101.309761 137.535117 \r\nL 101.390686 137.433957 \r\nL 101.408655 137.454625 \r\nL 101.484658 137.380049 \r\nL 102.296334 136.84441 \r\nL 102.418522 136.739911 \r\nL 102.518348 136.567194 \r\nL 102.686388 136.248868 \r\nL 102.864661 136.368977 \r\nL 102.885245 136.33003 \r\nL 103.000166 136.125164 \r\nL 103.241175 135.721353 \r\nL 103.396241 135.512647 \r\nL 103.819962 134.98921 \r\nL 103.928756 134.775482 \r\nL 103.829611 134.99886 \r\nL 103.94189 134.835376 \r\nL 104.48571 134.34782 \r\nL 104.596872 134.264939 \r\nL 104.602702 134.29511 \r\nL 104.612328 134.325295 \r\nL 104.675192 134.242263 \r\nL 104.709817 134.272474 \r\nL 104.923966 134.073529 \r\nL 104.931516 134.103798 \r\nL 105.006414 134.12259 \r\nL 105.025502 134.080753 \r\nL 105.330287 133.636095 \r\nL 105.434953 133.548394 \r\nL 105.448652 133.578859 \r\nL 105.453926 133.609339 \r\nL 105.508104 133.545524 \r\nL 105.69182 133.37175 \r\nL 105.912282 132.91598 \r\nL 106.005465 132.912238 \r\nL 106.011286 132.868806 \r\nL 106.051865 132.886746 \r\nL 106.262541 132.46712 \r\nL 106.648229 132.139682 \r\nL 106.759231 132.037103 \r\nL 107.303033 131.651376 \r\nL 107.410021 131.523807 \r\nL 107.428761 131.563533 \r\nL 107.530283 131.381296 \r\nL 107.657882 131.221182 \r\nL 108.949889 130.408862 \r\nL 109.062602 130.098781 \r\nL 109.125931 130.066818 \r\nL 109.104946 130.138726 \r\nL 109.155862 130.098813 \r\nL 109.181031 130.130874 \r\nL 109.19807 129.986432 \r\nL 109.314916 129.793075 \r\nL 109.422943 129.7682 \r\nL 109.353788 129.833088 \r\nL 109.423048 129.800377 \r\nL 109.434508 129.832572 \r\nL 109.482172 129.710985 \r\nL 109.519525 129.7511 \r\nL 109.693638 129.571377 \r\nL 109.702857 129.579199 \r\nL 109.828864 129.316444 \r\nL 109.856268 129.413671 \r\nL 109.927918 129.314877 \r\nL 110.165009 128.982404 \r\nL 110.228256 129.030125 \r\nL 110.55233 128.942891 \r\nL 110.552549 128.975598 \r\nL 110.651744 128.857423 \r\nL 110.661461 128.890182 \r\nL 110.797919 128.713474 \r\nL 110.833557 128.720967 \r\nL 110.90967 128.467135 \r\nL 110.987141 128.499972 \r\nL 111.023746 128.398028 \r\nL 111.128421 128.27026 \r\nL 111.130665 128.277539 \r\nL 111.238584 128.233561 \r\nL 111.23878 128.207906 \r\nL 111.384877 127.905951 \r\nL 111.410607 127.913059 \r\nL 112.482653 126.657214 \r\nL 112.540144 126.69714 \r\nL 112.585576 126.670258 \r\nL 113.049648 125.981291 \r\nL 113.147288 125.999885 \r\nL 113.156088 125.972387 \r\nL 113.225969 126.01232 \r\nL 113.25058 125.929684 \r\nL 113.323914 125.969652 \r\nL 113.37609 125.89299 \r\nL 113.530394 125.661569 \r\nL 113.594275 125.701573 \r\nL 113.616009 125.617895 \r\nL 114.084497 125.0053 \r\nL 114.119272 125.039452 \r\nL 114.14382 124.982576 \r\nL 114.301131 124.794151 \r\nL 114.327992 124.834027 \r\nL 114.441777 124.667466 \r\nL 114.453538 124.701783 \r\nL 114.481174 124.644238 \r\nL 114.500535 124.655333 \r\nL 114.790504 124.364086 \r\nL 114.790965 124.334964 \r\nL 114.839536 124.438622 \r\nL 114.880302 124.414933 \r\nL 115.525685 123.705692 \r\nL 115.534293 123.775586 \r\nL 115.620483 123.656031 \r\nL 115.762484 123.746474 \r\nL 116.175963 123.232202 \r\nL 116.279223 123.307737 \r\nL 116.310596 123.221036 \r\nL 116.649975 122.831199 \r\nL 116.736785 122.623577 \r\nL 116.836533 122.628063 \r\nL 116.8488 122.596982 \r\nL 116.966987 122.418772 \r\nL 117.081858 122.42314 \r\nL 117.08215 122.391853 \r\nL 117.201742 122.01886 \r\nL 117.205985 122.054565 \r\nL 117.291773 122.062864 \r\nL 117.303351 122.031241 \r\nL 118.256996 121.111397 \r\nL 118.363623 121.151106 \r\nL 118.385471 121.085972 \r\nL 118.767491 120.468957 \r\nL 118.802755 120.50838 \r\nL 118.860035 120.409007 \r\nL 119.035703 120.209632 \r\nL 119.199565 120.009414 \r\nL 119.243456 119.875464 \r\nL 119.353719 119.878228 \r\nL 119.361023 119.811065 \r\nL 119.507772 119.645349 \r\nL 119.539045 119.681719 \r\nL 119.566011 119.546542 \r\nL 119.73463 119.216184 \r\nL 119.824789 119.085978 \r\nL 119.805419 119.223171 \r\nL 119.827088 119.122578 \r\nL 119.857439 119.195855 \r\nL 119.882699 119.058278 \r\nL 120.475756 118.200733 \r\nL 120.517534 118.130188 \r\nL 120.553319 118.203999 \r\nL 120.58799 118.133354 \r\nL 120.699065 118.099554 \r\nL 120.982391 117.963608 \r\nL 121.026606 118.002194 \r\nL 121.076181 117.96655 \r\nL 122.211995 116.783952 \r\nL 122.252519 116.821504 \r\nL 122.337175 116.859084 \r\nL 122.364894 116.785187 \r\nL 122.519828 116.6014 \r\nL 122.587441 116.377692 \r\nL 122.724711 116.115409 \r\nL 123.036883 115.622755 \r\nL 123.148213 115.736542 \r\nL 123.180731 115.660186 \r\nL 123.316806 115.429999 \r\nL 123.47121 115.429171 \r\nL 123.512962 115.390682 \r\nL 123.542697 115.466859 \r\nL 123.627362 115.619032 \r\nL 123.657179 115.502843 \r\nL 123.887933 115.188757 \r\nL 123.904612 115.227275 \r\nL 123.922344 115.188147 \r\nL 124.095116 115.030594 \r\nL 124.26676 114.752837 \r\nL 124.268412 114.830138 \r\nL 124.458491 114.510191 \r\nL 124.636563 114.106681 \r\nL 124.68456 114.144033 \r\nL 124.693953 114.103704 \r\nL 124.889954 113.899915 \r\nL 125.301253 113.527832 \r\nL 125.369874 113.281614 \r\nL 125.429531 113.437717 \r\nL 125.532025 113.272892 \r\nL 125.685695 113.098196 \r\nL 125.696785 113.137418 \r\nL 125.707228 113.176672 \r\nL 125.757419 113.093506 \r\nL 125.78276 113.13279 \r\nL 125.988898 112.961123 \r\nL 126.021635 113.039905 \r\nL 126.035102 113.079344 \r\nL 126.067734 112.953706 \r\nL 126.22816 112.862107 \r\nL 126.229036 112.901669 \r\nL 126.342652 112.687978 \r\nL 126.405521 112.594887 \r\nL 126.622032 112.418705 \r\nL 126.719097 112.244456 \r\nL 126.872658 112.195238 \r\nL 126.87727 112.2351 \r\nL 126.989002 112.268797 \r\nL 126.998633 112.225698 \r\nL 127.032282 112.262578 \r\nL 127.118549 112.176191 \r\nL 127.272132 111.952817 \r\nL 127.302862 111.99293 \r\nL 127.317278 112.033078 \r\nL 127.342797 111.858819 \r\nL 127.378449 111.815161 \r\nL 127.428467 111.895545 \r\nL 127.443229 111.935787 \r\nL 127.479652 111.848353 \r\nL 127.515058 111.844852 \r\nL 127.609993 111.62542 \r\nL 127.689453 111.401154 \r\nL 127.720055 111.441478 \r\nL 127.733777 111.477998 \r\nL 127.872648 111.122781 \r\nL 128.13874 111.235986 \r\nL 128.157936 111.191327 \r\nL 128.349115 110.96745 \r\nL 128.46925 110.697518 \r\nL 128.5746 110.64317 \r\nL 128.580093 110.683795 \r\nL 129.9888 109.255105 \r\nL 129.990351 109.296271 \r\nL 130.247286 109.154657 \r\nL 130.31067 109.053849 \r\nL 130.575279 108.987665 \r\nL 130.590584 109.028989 \r\nL 130.617856 109.111748 \r\nL 130.692731 109.016492 \r\nL 130.736271 108.921064 \r\nL 130.762365 109.045448 \r\nL 131.348621 108.497075 \r\nL 131.353694 108.448669 \r\nL 131.395842 108.531917 \r\nL 131.602869 108.282174 \r\nL 131.685906 108.087002 \r\nL 131.709592 108.128689 \r\nL 131.957595 107.918016 \r\nL 132.092743 107.952427 \r\nL 132.224398 107.945042 \r\nL 132.248708 108.028862 \r\nL 132.315806 107.930231 \r\nL 132.962507 107.168295 \r\nL 133.051457 107.244159 \r\nL 132.979359 107.160093 \r\nL 133.073897 107.193924 \r\nL 133.215278 107.118853 \r\nL 133.314893 107.195051 \r\nL 133.345654 107.14451 \r\nL 133.447286 107.034894 \r\nL 133.543996 107.068851 \r\nL 133.555775 107.018061 \r\nL 133.664582 106.754688 \r\nL 133.698108 106.839563 \r\nL 133.73163 106.685999 \r\nL 133.832874 106.634714 \r\nL 133.837782 106.719718 \r\nL 133.896924 106.847526 \r\nL 133.941093 106.744768 \r\nL 133.955244 106.693316 \r\nL 134.038217 106.778699 \r\nL 134.256481 106.502583 \r\nL 134.29742 106.545387 \r\nL 134.433011 106.47534 \r\nL 134.494196 106.518255 \r\nL 134.522654 106.414144 \r\nL 134.702505 106.0386 \r\nL 134.742779 106.081553 \r\nL 134.810989 106.11503 \r\nL 134.817832 106.062427 \r\nL 135.206933 105.332511 \r\nL 135.211148 105.375664 \r\nL 135.220473 105.41886 \r\nL 135.25612 105.311683 \r\nL 135.268428 105.354911 \r\nL 135.97069 104.585712 \r\nL 136.067221 104.409909 \r\nL 136.302784 104.4304 \r\nL 136.549459 103.710177 \r\nL 136.570782 103.753664 \r\nL 136.782959 103.392716 \r\nL 136.893469 103.267311 \r\nL 136.936671 103.310904 \r\nL 137.109825 103.159053 \r\nL 137.245033 103.189807 \r\nL 137.250042 103.132985 \r\nL 137.601707 102.375069 \r\nL 137.644799 102.418831 \r\nL 137.799213 102.187618 \r\nL 137.902724 102.042994 \r\nL 138.183441 101.66326 \r\nL 138.345118 101.428075 \r\nL 138.538801 101.19191 \r\nL 139.094751 100.66433 \r\nL 139.329018 100.776575 \r\nL 139.497537 100.41291 \r\nL 139.936783 99.484694 \r\nL 140.111114 99.048898 \r\nL 140.230082 98.824057 \r\nL 140.348036 98.723793 \r\nL 140.441913 98.857047 \r\nL 140.463564 98.730697 \r\nL 140.503016 98.775191 \r\nL 140.544466 98.711903 \r\nL 141.09611 98.04609 \r\nL 141.219566 97.832107 \r\nL 141.30753 97.921679 \r\nL 141.341918 97.836673 \r\nL 141.391936 97.510741 \r\nL 141.426032 97.600453 \r\nL 141.506934 97.624916 \r\nL 141.515866 97.559392 \r\nL 141.637115 97.362382 \r\nL 141.760598 97.410779 \r\nL 141.94295 97.281755 \r\nL 141.957594 97.327014 \r\nL 141.97242 97.194224 \r\nL 142.629482 96.392297 \r\nL 142.718121 96.551935 \r\nL 142.834917 96.59758 \r\nL 142.854898 96.529621 \r\nL 143.036876 96.257003 \r\nL 143.098654 96.051713 \r\nL 143.156527 96.142952 \r\nL 143.333459 96.234403 \r\nL 143.355831 96.097042 \r\nL 143.97209 94.842381 \r\nL 144.134022 94.81756 \r\nL 144.145272 94.746996 \r\nL 144.778092 94.336459 \r\nL 145.106892 93.945375 \r\nL 145.213149 93.99129 \r\nL 145.220923 93.919051 \r\nL 145.338823 93.820238 \r\nL 145.556548 93.721068 \r\nL 145.576821 93.767069 \r\nL 145.639548 93.813125 \r\nL 146.278828 93.450955 \r\nL 146.281565 93.377203 \r\nL 146.371244 93.470018 \r\nL 146.709862 92.922848 \r\nL 146.737078 92.969261 \r\nL 146.799377 93.015731 \r\nL 146.823336 92.94108 \r\nL 147.001217 92.98759 \r\nL 147.009666 92.91283 \r\nL 147.452798 92.584113 \r\nL 147.466137 92.630632 \r\nL 147.524175 92.601842 \r\nL 147.624338 92.8355 \r\nL 147.781014 92.579577 \r\nL 147.920711 92.398305 \r\nL 148.020774 92.245722 \r\nL 148.209046 92.386475 \r\nL 148.222495 92.309986 \r\nL 148.740645 91.959767 \r\nL 148.742935 92.006889 \r\nL 148.822769 91.821655 \r\nL 148.955313 91.760572 \r\nL 148.966572 91.807836 \r\nL 148.993488 91.651894 \r\nL 149.040577 91.668365 \r\nL 149.147847 91.684899 \r\nL 149.209716 91.449409 \r\nL 149.293073 91.496836 \r\nL 150.191746 90.457521 \r\nL 150.216609 90.505229 \r\nL 150.312684 90.309922 \r\nL 151.309002 88.420824 \r\nL 151.79749 88.538469 \r\nL 151.804132 88.453584 \r\nL 152.419278 87.00923 \r\nL 152.450884 87.056993 \r\nL 152.45561 86.969646 \r\nL 152.57101 86.619059 \r\nL 152.759511 86.354855 \r\nL 152.837822 86.178113 \r\nL 152.933924 86.273285 \r\nL 152.986341 86.320969 \r\nL 153.042189 86.232331 \r\nL 153.193154 85.882523 \r\nL 153.207524 85.930234 \r\nL 153.300954 85.798903 \r\nL 153.340232 85.846688 \r\nL 153.357066 85.89454 \r\nL 153.402421 85.714817 \r\nL 153.445523 85.810603 \r\nL 153.533679 85.720495 \r\nL 153.545394 85.63026 \r\nL 153.622491 85.774266 \r\nL 153.64011 85.683816 \r\nL 153.648367 85.731923 \r\nL 153.71499 85.550582 \r\nL 153.902022 85.277615 \r\nL 154.170321 84.867969 \r\nL 154.281122 84.591811 \r\nL 154.370793 84.639656 \r\nL 154.410436 84.547311 \r\nL 154.529686 83.990478 \r\nL 154.558929 84.038166 \r\nL 154.597833 84.133747 \r\nL 154.645113 84.040381 \r\nL 154.788761 84.232234 \r\nL 154.820202 84.04484 \r\nL 154.91032 83.668433 \r\nL 154.940812 83.71637 \r\nL 155.162989 83.337656 \r\nL 155.311956 83.004482 \r\nL 155.413834 83.196113 \r\nL 155.441763 83.100367 \r\nL 155.614662 82.763895 \r\nL 155.672727 82.811872 \r\nL 155.707781 82.715356 \r\nL 155.756621 82.569839 \r\nL 156.071571 82.761769 \r\nL 156.273594 82.173753 \r\nL 156.49953 81.776449 \r\nL 156.663232 81.674241 \r\nL 156.691362 81.722551 \r\nL 156.721918 81.622908 \r\nL 156.782638 81.423173 \r\nL 156.794864 81.471439 \r\nL 157.365567 80.660852 \r\nL 157.513677 80.553707 \r\nL 157.537773 80.650166 \r\nL 157.541714 80.548116 \r\nL 157.621285 80.445911 \r\nL 157.875177 80.488419 \r\nL 157.945586 80.173526 \r\nL 158.083094 79.855721 \r\nL 158.103796 79.904119 \r\nL 158.209506 80.098459 \r\nL 158.335973 79.680312 \r\nL 158.496327 79.57537 \r\nL 158.534465 79.672558 \r\nL 158.574309 79.721265 \r\nL 158.582083 79.616028 \r\nL 158.60617 79.664767 \r\nL 158.708094 79.126785 \r\nL 158.759927 79.224261 \r\nL 159.020015 79.001403 \r\nL 159.11296 79.050272 \r\nL 159.136007 78.943008 \r\nL 159.151254 78.835575 \r\nL 159.192439 78.933361 \r\nL 159.436058 78.717798 \r\nL 159.554724 78.550371 \r\nL 159.751719 78.055154 \r\nL 159.808516 78.152708 \r\nL 159.907183 77.933648 \r\nL 159.924783 77.823854 \r\nL 160.013312 77.872603 \r\nL 160.623003 77.13299 \r\nL 160.709242 77.230394 \r\nL 160.746578 77.167462 \r\nL 160.991957 76.992158 \r\nL 161.117202 77.138872 \r\nL 161.117786 77.026366 \r\nL 161.322847 76.347451 \r\nL 161.662386 76.282291 \r\nL 161.733598 76.216916 \r\nL 161.771855 76.314495 \r\nL 161.775769 76.200101 \r\nL 161.837192 76.297895 \r\nL 162.1407 75.953248 \r\nL 162.178619 76.002102 \r\nL 162.35358 76.051038 \r\nL 162.394483 75.704339 \r\nL 162.459309 75.802121 \r\nL 162.616514 75.618702 \r\nL 162.675373 75.667685 \r\nL 162.682043 75.55112 \r\nL 163.008927 75.249089 \r\nL 163.066855 75.34701 \r\nL 163.079975 75.396095 \r\nL 163.506292 75.524894 \r\nL 163.521994 75.406825 \r\nL 163.556829 75.100707 \r\nL 163.810886 75.150084 \r\nL 164.568466 73.782395 \r\nL 164.718337 73.929665 \r\nL 164.732296 73.807553 \r\nL 165.075731 73.044389 \r\nL 165.087392 73.093306 \r\nL 165.286175 73.142308 \r\nL 165.561089 72.617307 \r\nL 165.739846 72.491995 \r\nL 165.760776 72.589803 \r\nL 165.846103 72.737165 \r\nL 165.85135 72.611293 \r\nL 165.879826 72.485198 \r\nL 165.89238 72.534357 \r\nL 166.365357 72.301901 \r\nL 166.498366 72.450071 \r\nL 166.887421 72.116299 \r\nL 167.045201 71.859591 \r\nL 167.124388 71.958286 \r\nL 167.287424 72.007768 \r\nL 167.397468 71.539987 \r\nL 167.512959 71.638819 \r\nL 167.831166 71.558226 \r\nL 167.855454 71.607794 \r\nL 167.907014 71.47734 \r\nL 168.293806 71.726167 \r\nL 168.322665 71.595105 \r\nL 168.406934 71.332259 \r\nL 168.667943 71.068447 \r\nL 168.672541 70.936177 \r\nL 169.084223 70.636708 \r\nL 169.281821 70.150835 \r\nL 169.391244 70.01636 \r\nL 169.435213 70.0656 \r\nL 169.478743 70.114931 \r\nL 169.480066 69.980047 \r\nL 169.657682 69.709522 \r\nL 169.807571 69.758705 \r\nL 169.856064 69.622982 \r\nL 170.130787 69.721463 \r\nL 170.554649 69.448928 \r\nL 170.803806 68.584297 \r\nL 170.848924 68.44566 \r\nL 170.904973 68.494391 \r\nL 171.207323 68.173863 \r\nL 171.854348 68.574365 \r\nL 171.85453 68.624066 \r\nL 171.90369 68.482789 \r\nL 172.085732 68.532498 \r\nL 172.243375 68.248944 \r\nL 172.266532 67.964289 \r\nL 172.392662 68.013736 \r\nL 172.638789 67.539181 \r\nL 172.639912 67.588551 \r\nL 172.708433 67.638017 \r\nL 172.983848 67.108215 \r\nL 173.200223 67.011851 \r\nL 173.23202 67.061138 \r\nL 173.59061 66.573368 \r\nL 173.726666 66.327296 \r\nL 173.746045 66.376393 \r\nL 174.041634 65.979879 \r\nL 174.042328 66.028874 \r\nL 174.091205 66.077966 \r\nL 174.477805 65.977691 \r\nL 174.50889 66.02688 \r\nL 174.824497 65.775926 \r\nL 174.867152 65.82511 \r\nL 174.93122 65.923777 \r\nL 175.020215 65.772893 \r\nL 175.077185 65.871755 \r\nL 175.09567 65.921336 \r\nL 175.17191 65.769836 \r\nL 175.21357 65.869094 \r\nL 175.268889 65.918875 \r\nL 175.371962 65.61432 \r\nL 175.556731 64.995179 \r\nL 175.705169 65.044623 \r\nL 175.855577 64.734796 \r\nL 175.902101 64.784124 \r\nL 175.964253 64.833555 \r\nL 176.174642 64.052239 \r\nL 176.215654 64.101216 \r\nL 176.308792 63.676904 \r\nL 176.483196 63.774687 \r\nL 176.66167 63.297619 \r\nL 177.111372 63.44402 \r\nL 177.308586 63.591352 \r\nL 177.535626 63.430954 \r\nL 177.964754 63.529461 \r\nL 177.986815 63.207168 \r\nL 178.069022 63.25634 \r\nL 178.23818 63.354999 \r\nL 178.446398 62.917014 \r\nL 178.546433 63.015581 \r\nL 178.904257 63.114572 \r\nL 179.033935 62.622469 \r\nL 179.058114 62.671754 \r\nL 179.521137 61.872307 \r\nL 179.560087 61.704757 \r\nL 179.873577 61.732667 \r\nL 180.180543 61.103869 \r\nL 180.190461 61.152672 \r\nL 180.664651 61.030867 \r\nL 180.77715 61.079752 \r\nL 181.052894 60.736906 \r\nL 181.078669 60.785626 \r\nL 181.173102 60.613491 \r\nL 181.186998 60.662182 \r\nL 181.254406 60.710982 \r\nL 181.261723 60.538185 \r\nL 181.348017 60.684826 \r\nL 181.445188 60.783137 \r\nL 181.670057 60.484012 \r\nL 181.91384 60.309197 \r\nL 181.955627 60.407325 \r\nL 182.011028 60.5059 \r\nL 182.016676 60.330114 \r\nL 182.15952 60.026359 \r\nL 182.172504 60.075492 \r\nL 182.227056 59.898206 \r\nL 182.420739 59.720514 \r\nL 182.429845 59.542413 \r\nL 182.486888 59.591216 \r\nL 182.782349 59.68916 \r\nL 183.027419 59.248534 \r\nL 183.425342 59.29745 \r\nL 183.467412 59.116789 \r\nL 183.482303 59.214654 \r\nL 183.594062 59.263758 \r\nL 183.748312 58.766607 \r\nL 183.800309 58.448774 \r\nL 183.997405 58.264777 \r\nL 184.024667 58.313282 \r\nL 184.397381 58.459486 \r\nL 184.47779 58.088902 \r\nL 184.69193 57.951429 \r\nL 184.720378 58.000023 \r\nL 185.101449 56.872985 \r\nL 185.240845 56.541066 \r\nL 185.303746 56.636144 \r\nL 185.673348 56.253994 \r\nL 185.6953 56.301358 \r\nL 185.738575 55.917007 \r\nL 185.795773 56.011378 \r\nL 186.18147 55.671449 \r\nL 186.211315 55.282268 \r\nL 186.245073 55.329023 \r\nL 186.336961 55.133536 \r\nL 186.352225 55.180223 \r\nL 186.422033 55.227025 \r\nL 186.654593 54.880422 \r\nL 186.672622 54.927085 \r\nL 186.860904 55.020757 \r\nL 186.875384 54.822708 \r\nL 187.616121 54.905722 \r\nL 187.620309 54.705546 \r\nL 188.014355 54.303687 \r\nL 188.01763 54.102001 \r\nL 188.20354 53.899807 \r\nL 188.21208 53.697104 \r\nL 188.238558 53.743274 \r\nL 188.378474 53.789562 \r\nL 188.658999 53.381824 \r\nL 188.795083 53.427829 \r\nL 189.040243 52.696047 \r\nL 189.239255 52.741588 \r\nL 189.548703 51.698443 \r\nL 189.760142 51.877563 \r\nL 189.974692 51.711318 \r\nL 190.039189 51.846582 \r\nL 190.418618 51.634067 \r\nL 190.432733 51.679172 \r\nL 191.095196 51.815196 \r\nL 191.39271 51.171653 \r\nL 191.782321 51.261595 \r\nL 191.997245 50.61159 \r\nL 192.050857 50.393772 \r\nL 192.083877 50.438009 \r\nL 192.227433 50.219381 \r\nL 192.339065 49.339024 \r\nL 192.381729 49.117461 \r\nL 192.452038 49.203458 \r\nL 192.71364 49.376844 \r\nL 192.758594 49.153237 \r\nL 192.79561 49.240147 \r\nL 193.00141 49.015444 \r\nL 193.161334 48.337661 \r\nL 193.189491 48.423055 \r\nL 193.340228 48.465927 \r\nL 193.552652 48.238009 \r\nL 193.574513 48.009465 \r\nL 194.144331 48.180091 \r\nL 194.881054 47.339379 \r\nL 194.883189 47.106083 \r\nL 194.988398 47.189944 \r\nL 195.021518 47.274276 \r\nL 195.602924 47.530129 \r\nL 195.890146 47.293472 \r\nL 196.400649 47.336263 \r\nL 196.43033 47.09866 \r\nL 196.517272 47.184051 \r\nL 196.558202 47.226929 \r\nL 196.779084 46.987815 \r\nL 196.816821 46.748017 \r\nL 197.385581 47.004481 \r\nL 197.414367 47.047657 \r\nL 197.490506 46.805174 \r\nL 197.92915 46.934585 \r\nL 198.061839 46.690528 \r\nL 198.06339 46.733624 \r\nL 198.390886 46.907269 \r\nL 198.539862 46.661025 \r\nL 198.669166 46.704457 \r\nL 198.821381 46.45719 \r\nL 198.863397 46.543837 \r\nL 199.126742 46.295237 \r\nL 199.328892 46.38179 \r\nL 199.379932 46.131843 \r\nL 199.459912 46.175005 \r\nL 199.872306 46.305265 \r\nL 199.948254 46.053335 \r\nL 200.573665 45.420652 \r\nL 200.574851 45.463457 \r\nL 200.578227 45.207205 \r\nL 200.632606 45.292557 \r\nL 200.825404 44.776412 \r\nL 201.103311 44.818626 \r\nL 201.318161 44.340341 \r\nL 201.942377 44.424079 \r\nL 202.107539 43.898896 \r\nL 202.73347 44.023425 \r\nL 202.751015 43.758583 \r\nL 203.264402 43.492919 \r\nL 203.853527 43.61652 \r\nL 203.917358 43.783131 \r\nL 203.93713 43.514164 \r\nL 204.623178 43.723598 \r\nL 204.695686 43.808304 \r\nL 205.023136 43.89355 \r\nL 205.02966 43.620463 \r\nL 205.083938 43.662921 \r\nL 205.487089 43.920556 \r\nL 205.605993 43.643977 \r\nL 205.947867 43.687025 \r\nL 206.068641 43.172831 \r\nL 206.745101 43.473695 \r\nL 206.812937 43.190902 \r\nL 206.847909 43.234055 \r\nL 207.325375 43.495995 \r\nL 207.404799 43.209457 \r\nL 207.459725 43.253218 \r\nL 207.805177 43.297127 \r\nL 207.915723 42.719521 \r\nL 208.144433 42.429257 \r\nL 208.203766 42.138012 \r\nL 208.236448 42.180405 \r\nL 209.024019 42.30845 \r\nL 209.114556 41.761697 \r\nL 209.315903 40.869509 \r\nL 209.756645 41.034117 \r\nL 210.001998 40.732883 \r\nL 210.363571 40.815141 \r\nL 210.400724 40.511951 \r\nL 210.466161 40.552838 \r\nL 211.147392 40.801189 \r\nL 211.204818 40.493689 \r\nL 211.64452 40.576704 \r\nL 211.740668 40.267167 \r\nL 211.747511 40.308418 \r\nL 212.455676 40.038217 \r\nL 213.126269 40.203357 \r\nL 213.161852 39.888686 \r\nL 213.526573 39.92985 \r\nL 213.549109 39.613546 \r\nL 214.038099 39.736436 \r\nL 214.057332 39.417475 \r\nL 214.075434 39.45823 \r\nL 214.2518 39.540188 \r\nL 214.521486 38.895681 \r\nL 214.565518 38.93585 \r\nL 214.741811 38.976168 \r\nL 215.219578 38.691025 \r\nL 215.346365 38.731113 \r\nL 215.658842 37.414365 \r\nL 215.868876 37.082095 \r\nL 216.021191 37.119616 \r\nL 216.15836 36.450213 \r\nL 216.161663 36.486753 \r\nL 216.678244 36.56025 \r\nL 216.932802 36.221946 \r\nL 217.324694 36.331517 \r\nL 217.52418 35.990189 \r\nL 217.74706 36.062767 \r\nL 217.949704 35.096891 \r\nL 218.486922 35.202231 \r\nL 218.52944 34.851364 \r\nL 218.567286 34.886135 \r\nL 218.640186 34.921042 \r\nL 219.192952 35.062049 \r\nL 219.289046 35.09765 \r\nL 219.347567 34.741006 \r\nL 219.428642 34.846739 \r\nL 219.684697 34.953745 \r\nL 219.781064 34.989701 \r\nL 219.86568 34.627087 \r\nL 220.047009 34.662529 \r\nL 220.150986 34.297784 \r\nL 220.21573 34.332702 \r\nL 220.335509 34.402962 \r\nL 220.374395 34.034711 \r\nL 221.268233 34.209464 \r\nL 221.5502 34.351883 \r\nL 221.629158 33.975853 \r\nL 221.756693 34.011119 \r\nL 221.883753 33.632803 \r\nL 222.214898 33.702337 \r\nL 222.940691 33.737324 \r\nL 223.039138 33.355238 \r\nL 223.557635 33.424185 \r\nL 223.649385 33.039 \r\nL 224.357988 33.244876 \r\nL 224.54888 32.853494 \r\nL 224.851594 32.921762 \r\nL 224.860225 32.527132 \r\nL 225.399251 32.594424 \r\nL 226.027307 31.395399 \r\nL 226.146576 31.426853 \r\nL 226.508395 30.617055 \r\nL 226.602025 30.67707 \r\nL 226.716732 30.267806 \r\nL 227.2349 30.297169 \r\nL 227.367033 29.885229 \r\nL 227.407853 29.942635 \r\nL 228.544388 30.029717 \r\nL 228.950623 29.219065 \r\nL 229.806396 29.41525 \r\nL 229.875847 28.986011 \r\nL 229.886413 29.013627 \r\nL 230.994007 29.239253 \r\nL 231.069133 28.799427 \r\nL 231.144972 28.855216 \r\nL 231.593487 28.939904 \r\nL 231.706059 28.493014 \r\nL 232.970329 28.802898 \r\nL 233.225873 27.960576 \r\nL 233.260325 27.987836 \r\nL 233.271894 27.518343 \r\nL 234.333868 27.6511 \r\nL 234.338685 27.678058 \r\nL 235.195662 27.814937 \r\nL 235.531989 26.843346 \r\nL 236.033661 26.868762 \r\nL 236.044062 26.377959 \r\nL 236.142309 26.426748 \r\nL 236.301723 25.930908 \r\nL 237.801446 26.00131 \r\nL 238.081643 25.499063 \r\nL 238.712455 25.544066 \r\nL 239.044895 25.036553 \r\nL 240.254002 25.188658 \r\nL 240.395624 25.233191 \r\nL 240.9185 25.255642 \r\nL 241.020013 24.731911 \r\nL 242.250452 24.860815 \r\nL 242.398297 24.325645 \r\nL 242.449299 24.346102 \r\nL 244.263963 24.600926 \r\nL 244.510693 24.043022 \r\nL 250.592286 24.522979 \r\nL 250.757831 23.924479 \r\nL 251.686522 24.033757 \r\nL 251.721065 23.422179 \r\nL 254.628943 23.764803 \r\nL 255.183333 23.11707 \r\nL 259.020541 23.328769 \r\nL 259.387635 22.654412 \r\nL 262.075242 22.96505 \r\nL 262.539177 22.268422 \r\nL 262.710762 21.544445 \r\nL 266.790084 21.773657 \r\nL 269.985677 22.048386 \r\nL 270.343701 20.421401 \r\nL 282.167492 20.815005 \r\nL 284.234634 21.078839 \r\nL 294.581494 21.527738 \r\nL 297.932286 21.907113 \r\nL 297.975698 21.936705 \r\nL 299.484234 22.058795 \r\nL 304.92319 22.220326 \r\nL 305.024046 22.253899 \r\nL 309.206614 22.501788 \r\nL 309.240811 22.539155 \r\nL 309.386721 21.203689 \r\nL 309.574547 21.232501 \r\nL 310.103627 19.869024 \r\nL 310.309427 19.908815 \r\nL 311.906393 19.94976 \r\nL 312.438813 18.527159 \r\nL 316.442095 18.628656 \r\nL 316.585177 17.083636 \r\nL 363.363068 17.083636 \r\nL 363.363068 17.083636 \r\n\" style=\"fill:none;stroke:#ff0000;stroke-dasharray:5.55,2.4;stroke-dashoffset:0;stroke-width:1.5;\"/>\r\n   </g>\r\n   <g id=\"line2d_14\">\r\n    <path clip-path=\"url(#p4002240743)\" d=\"M 58.999432 17.083636 \r\nL 59.110341 17.173447 \r\nL 59.649442 17.263257 \r\nL 59.7601 17.353068 \r\nL 60.529605 17.442878 \r\nL 60.640332 17.532688 \r\nL 60.740807 17.622499 \r\nL 60.851537 17.80212 \r\nL 61.376169 17.89193 \r\nL 61.487255 17.981741 \r\nL 61.776729 18.071551 \r\nL 61.887148 18.251172 \r\nL 62.26567 18.340982 \r\nL 62.376415 18.520603 \r\nL 62.939719 18.610413 \r\nL 63.052302 18.790034 \r\nL 63.17419 18.879845 \r\nL 63.283938 19.059466 \r\nL 63.305895 19.149276 \r\nL 63.414985 19.328897 \r\nL 63.470845 19.418707 \r\nL 63.581948 19.598328 \r\nL 64.04993 19.688138 \r\nL 64.159677 19.777949 \r\nL 64.388473 19.867759 \r\nL 64.499366 19.95757 \r\nL 64.861578 20.04738 \r\nL 64.973516 20.227001 \r\nL 65.100377 20.316811 \r\nL 65.211642 20.496432 \r\nL 65.406042 20.586243 \r\nL 65.53287 20.855674 \r\nL 65.793111 20.945484 \r\nL 65.900004 21.035295 \r\nL 65.943608 21.125105 \r\nL 66.054813 21.394536 \r\nL 66.696719 21.484347 \r\nL 66.804956 21.574157 \r\nL 66.98655 21.663968 \r\nL 67.102755 22.023209 \r\nL 67.230548 22.11302 \r\nL 67.343931 22.382451 \r\nL 67.471595 22.472261 \r\nL 67.583055 22.562072 \r\nL 67.688048 22.651882 \r\nL 67.801075 22.921313 \r\nL 68.268731 23.011124 \r\nL 68.377661 23.190745 \r\nL 68.488314 23.280555 \r\nL 68.59883 23.549986 \r\nL 68.748629 23.639797 \r\nL 68.860564 23.819418 \r\nL 68.907386 23.909228 \r\nL 69.016821 23.999038 \r\nL 69.321057 24.088849 \r\nL 69.437746 24.26847 \r\nL 69.562274 24.35828 \r\nL 69.672532 24.448091 \r\nL 69.778191 24.537901 \r\nL 69.895877 24.807332 \r\nL 70.003168 24.897143 \r\nL 70.115865 25.076763 \r\nL 70.257999 25.166574 \r\nL 70.365484 25.346195 \r\nL 70.518115 25.436005 \r\nL 70.634066 25.795247 \r\nL 70.800756 25.885057 \r\nL 70.909586 26.064678 \r\nL 71.010233 26.154488 \r\nL 71.12613 26.334109 \r\nL 71.239047 26.42392 \r\nL 71.354707 26.51373 \r\nL 71.416752 26.603541 \r\nL 71.531143 26.693351 \r\nL 71.567226 26.783161 \r\nL 71.689893 27.052593 \r\nL 71.768605 27.142403 \r\nL 71.888712 27.501645 \r\nL 72.135347 27.591455 \r\nL 72.246451 27.771076 \r\nL 72.754185 27.860886 \r\nL 72.873695 28.399749 \r\nL 73.13866 28.489559 \r\nL 73.249933 28.57937 \r\nL 73.375888 28.66918 \r\nL 73.497038 28.848801 \r\nL 73.659088 28.938611 \r\nL 73.771017 29.028422 \r\nL 74.025645 29.118232 \r\nL 74.137411 29.387663 \r\nL 74.150409 29.477474 \r\nL 74.264039 29.746905 \r\nL 74.359328 29.836716 \r\nL 74.469757 30.016336 \r\nL 75.082533 30.106147 \r\nL 75.205666 30.285768 \r\nL 75.379064 30.375578 \r\nL 75.49177 30.645009 \r\nL 75.616261 30.73482 \r\nL 75.753674 31.094061 \r\nL 75.886624 31.183872 \r\nL 75.996144 31.363493 \r\nL 76.12636 31.722734 \r\nL 76.462912 31.812545 \r\nL 76.578592 31.992166 \r\nL 76.739082 32.081976 \r\nL 76.865613 32.351407 \r\nL 77.07082 32.441218 \r\nL 77.177714 32.620838 \r\nL 77.318479 33.159701 \r\nL 77.332429 33.249511 \r\nL 77.461196 33.429132 \r\nL 77.500488 33.518943 \r\nL 77.632386 33.878184 \r\nL 77.781134 33.967995 \r\nL 77.890599 34.057805 \r\nL 77.973358 34.147616 \r\nL 78.109405 34.327236 \r\nL 78.167201 34.417047 \r\nL 78.286049 34.686478 \r\nL 78.355916 34.776288 \r\nL 78.473125 35.04572 \r\nL 78.487294 35.13553 \r\nL 78.604184 35.315151 \r\nL 78.789667 35.404961 \r\nL 78.903807 35.674393 \r\nL 78.994579 35.764203 \r\nL 79.107792 36.123445 \r\nL 79.138414 36.213255 \r\nL 79.247623 36.392876 \r\nL 79.289007 36.482686 \r\nL 79.397801 36.841928 \r\nL 79.547103 36.931738 \r\nL 79.652848 37.29098 \r\nL 79.833352 37.380791 \r\nL 79.963886 37.560411 \r\nL 80.09804 37.650222 \r\nL 80.235673 38.009463 \r\nL 80.322831 38.099274 \r\nL 80.444926 38.458516 \r\nL 80.521715 38.548326 \r\nL 80.63326 38.907568 \r\nL 80.918555 38.997378 \r\nL 81.035777 39.087188 \r\nL 81.211181 39.176999 \r\nL 81.322783 39.35662 \r\nL 81.559648 39.44643 \r\nL 81.668084 39.715861 \r\nL 81.740991 39.805672 \r\nL 81.892624 40.075103 \r\nL 82.06012 40.164913 \r\nL 82.170732 40.344534 \r\nL 82.200296 40.434345 \r\nL 82.307561 40.703776 \r\nL 82.442589 40.793586 \r\nL 82.567882 41.063018 \r\nL 82.724065 41.152828 \r\nL 82.830759 41.332449 \r\nL 82.944035 41.422259 \r\nL 82.99439 41.51207 \r\nL 83.111352 41.691691 \r\nL 83.284705 41.781501 \r\nL 83.444943 42.230553 \r\nL 83.480905 42.320363 \r\nL 83.59802 42.410174 \r\nL 83.780877 42.499984 \r\nL 83.882737 42.589795 \r\nL 84.007615 42.679605 \r\nL 84.121981 42.859226 \r\nL 84.300145 42.949036 \r\nL 84.407178 43.218468 \r\nL 84.54333 43.308278 \r\nL 84.65779 43.487899 \r\nL 84.899053 43.577709 \r\nL 85.042732 43.75733 \r\nL 85.259116 43.847141 \r\nL 85.372189 44.026761 \r\nL 85.430158 44.116572 \r\nL 85.541726 44.386003 \r\nL 85.745854 44.475813 \r\nL 85.85744 44.565624 \r\nL 85.883275 44.655434 \r\nL 86.131417 45.104486 \r\nL 86.231372 45.194297 \r\nL 86.358594 45.284107 \r\nL 86.467742 45.373918 \r\nL 86.604729 45.91278 \r\nL 86.634046 46.002591 \r\nL 86.742941 46.182211 \r\nL 86.785397 46.272022 \r\nL 86.906941 46.451643 \r\nL 86.958467 46.541453 \r\nL 87.084234 46.810884 \r\nL 87.309287 46.900695 \r\nL 87.392886 47.080316 \r\nL 87.672994 47.170126 \r\nL 87.793656 47.349747 \r\nL 87.919242 47.619178 \r\nL 88.050547 47.708988 \r\nL 88.197617 47.888609 \r\nL 88.320185 47.97842 \r\nL 88.475799 48.247851 \r\nL 88.575444 48.337661 \r\nL 88.686948 48.517282 \r\nL 88.847751 48.607093 \r\nL 88.973725 48.696903 \r\nL 89.000671 48.786713 \r\nL 89.133741 48.966334 \r\nL 89.195962 49.056145 \r\nL 89.320502 49.325576 \r\nL 89.64643 49.415386 \r\nL 89.775826 49.774628 \r\nL 89.847835 49.864438 \r\nL 89.944909 49.954249 \r\nL 90.275399 50.582922 \r\nL 90.33869 50.672732 \r\nL 90.584232 51.570836 \r\nL 90.781966 52.019888 \r\nL 90.894038 52.28932 \r\nL 90.981603 52.37913 \r\nL 91.092041 52.648561 \r\nL 91.120584 52.738372 \r\nL 91.237233 53.097613 \r\nL 91.339114 53.187424 \r\nL 91.479981 53.277234 \r\nL 91.639771 53.367045 \r\nL 91.743248 53.456855 \r\nL 91.961801 53.546666 \r\nL 92.110556 53.636476 \r\nL 92.356679 53.726286 \r\nL 92.571418 54.265149 \r\nL 92.618929 54.354959 \r\nL 92.731359 54.53458 \r\nL 92.800523 54.624391 \r\nL 92.974049 54.983632 \r\nL 93.117259 55.073443 \r\nL 93.194379 55.163253 \r\nL 93.32154 55.342874 \r\nL 93.40163 55.432684 \r\nL 93.504176 55.612305 \r\nL 93.676231 56.151168 \r\nL 93.750612 56.240978 \r\nL 93.873701 56.779841 \r\nL 93.940489 56.869651 \r\nL 94.047132 56.959461 \r\nL 94.290732 57.049272 \r\nL 94.401118 57.318703 \r\nL 94.543217 57.408513 \r\nL 94.655529 57.498324 \r\nL 94.79398 57.588134 \r\nL 94.887003 57.947376 \r\nL 95.073408 58.216807 \r\nL 95.090995 58.306618 \r\nL 95.201376 58.486238 \r\nL 95.265399 58.576049 \r\nL 95.365861 58.665859 \r\nL 95.401088 58.75567 \r\nL 95.535705 58.935291 \r\nL 95.674535 59.025101 \r\nL 95.758193 59.114911 \r\nL 95.882927 59.204722 \r\nL 95.986141 59.384343 \r\nL 96.09135 59.474153 \r\nL 96.245116 60.013016 \r\nL 96.479633 60.102826 \r\nL 96.628979 60.372257 \r\nL 96.786162 60.462068 \r\nL 96.909878 60.821309 \r\nL 96.948664 60.91112 \r\nL 97.051076 61.00093 \r\nL 97.068927 61.090741 \r\nL 97.168036 61.180551 \r\nL 97.325858 61.449982 \r\nL 97.367326 61.539793 \r\nL 97.47987 61.719413 \r\nL 97.529441 61.809224 \r\nL 97.649325 62.168466 \r\nL 97.698895 62.258276 \r\nL 97.815723 62.437897 \r\nL 97.983225 62.527707 \r\nL 98.099547 62.886949 \r\nL 98.391244 62.976759 \r\nL 98.53689 63.06657 \r\nL 98.610716 63.15638 \r\nL 98.840252 63.605432 \r\nL 98.914106 63.695243 \r\nL 99.164071 64.503536 \r\nL 99.202802 64.593347 \r\nL 99.315893 64.862778 \r\nL 99.457607 65.22202 \r\nL 99.570862 65.31183 \r\nL 99.754363 65.760882 \r\nL 99.77684 65.850693 \r\nL 99.887605 66.030313 \r\nL 99.969812 66.120124 \r\nL 100.084641 66.389555 \r\nL 100.142309 66.479366 \r\nL 100.244593 66.748797 \r\nL 100.293233 66.838607 \r\nL 100.395102 67.018228 \r\nL 100.476246 67.108038 \r\nL 100.610989 67.287659 \r\nL 100.678155 67.37747 \r\nL 100.776288 67.46728 \r\nL 100.92733 67.557091 \r\nL 101.141168 67.646901 \r\nL 101.282247 68.455195 \r\nL 101.359108 68.545005 \r\nL 101.484658 68.814436 \r\nL 101.647671 68.904247 \r\nL 101.842664 69.353299 \r\nL 101.903087 69.443109 \r\nL 102.160355 69.892161 \r\nL 102.199739 69.981972 \r\nL 102.304984 70.071782 \r\nL 102.562608 70.161593 \r\nL 102.683733 70.251403 \r\nL 102.709609 70.341213 \r\nL 102.864661 71.149507 \r\nL 103.170838 71.239318 \r\nL 103.276521 71.329128 \r\nL 103.428763 71.418938 \r\nL 103.582443 71.77818 \r\nL 103.928756 71.867991 \r\nL 104.070679 72.227232 \r\nL 104.179852 72.406853 \r\nL 104.326661 72.496664 \r\nL 104.436924 72.676284 \r\nL 104.602702 72.766095 \r\nL 104.732714 72.945716 \r\nL 104.923966 73.035526 \r\nL 105.052764 73.394768 \r\nL 105.337815 73.484578 \r\nL 105.448652 73.754009 \r\nL 105.508104 73.84382 \r\nL 105.593336 73.93363 \r\nL 105.710834 74.023441 \r\nL 105.780208 74.113251 \r\nL 105.893304 74.203061 \r\nL 106.002942 74.292872 \r\nL 106.118871 74.652114 \r\nL 106.334187 74.741924 \r\nL 106.461987 75.011355 \r\nL 106.846169 75.101166 \r\nL 107.533281 76.268701 \r\nL 107.875005 76.358511 \r\nL 108.027918 76.627943 \r\nL 108.116694 76.717753 \r\nL 108.300961 77.076995 \r\nL 108.88057 78.513961 \r\nL 109.081082 78.603772 \r\nL 109.272093 79.232445 \r\nL 109.341818 79.322255 \r\nL 109.519525 79.861118 \r\nL 109.663113 79.950928 \r\nL 109.812974 80.220359 \r\nL 109.849457 80.31017 \r\nL 109.943848 80.489791 \r\nL 110.089864 80.579601 \r\nL 110.345189 81.118464 \r\nL 110.491838 81.208274 \r\nL 110.595919 81.477705 \r\nL 110.858854 81.747136 \r\nL 111.128421 81.836947 \r\nL 111.23878 82.016568 \r\nL 111.384877 82.106378 \r\nL 111.497791 82.196189 \r\nL 111.561421 82.285999 \r\nL 111.6709 82.375809 \r\nL 111.89747 82.46562 \r\nL 112.108599 82.824861 \r\nL 112.173776 82.914672 \r\nL 112.265243 83.184103 \r\nL 112.459187 83.273914 \r\nL 112.540144 83.543345 \r\nL 112.681693 83.633155 \r\nL 112.799209 83.812776 \r\nL 112.88716 83.902586 \r\nL 113.018932 84.172018 \r\nL 113.099269 84.261828 \r\nL 113.294115 84.71088 \r\nL 113.616009 85.339553 \r\nL 113.676035 85.429364 \r\nL 113.787128 85.698795 \r\nL 114.024835 85.788605 \r\nL 114.14382 85.968226 \r\nL 114.215284 86.058036 \r\nL 114.770828 87.135761 \r\nL 114.828916 87.225572 \r\nL 114.941902 87.584814 \r\nL 115.100294 87.674624 \r\nL 115.295346 88.213486 \r\nL 115.375377 88.303297 \r\nL 115.47824 88.482918 \r\nL 115.528522 88.572728 \r\nL 115.64957 88.842159 \r\nL 115.677672 88.93197 \r\nL 116.836533 90.548557 \r\nL 116.922992 90.638368 \r\nL 117.014728 90.817989 \r\nL 117.201742 90.907799 \r\nL 117.303351 91.17723 \r\nL 117.400736 91.267041 \r\nL 117.493809 91.356851 \r\nL 117.688405 91.446661 \r\nL 117.793873 91.626282 \r\nL 118.004267 91.716093 \r\nL 118.041165 91.895714 \r\nL 118.201404 91.985524 \r\nL 118.317826 92.254955 \r\nL 118.422847 92.344766 \r\nL 118.5342 92.434576 \r\nL 118.767491 92.524386 \r\nL 118.880605 92.704007 \r\nL 119.420607 92.793818 \r\nL 120.185774 94.410405 \r\nL 120.517534 94.500216 \r\nL 120.58799 94.679836 \r\nL 121.513975 95.847372 \r\nL 121.611269 96.026993 \r\nL 121.864705 96.116803 \r\nL 121.982541 96.296424 \r\nL 122.100719 96.386234 \r\nL 122.211995 96.565855 \r\nL 122.406828 96.745476 \r\nL 122.473638 96.835286 \r\nL 122.591661 97.014907 \r\nL 122.792575 97.104718 \r\nL 122.899886 97.284339 \r\nL 122.980241 97.374149 \r\nL 123.193436 97.913011 \r\nL 123.316806 98.002822 \r\nL 123.560105 98.541684 \r\nL 123.749021 99.170357 \r\nL 123.807866 99.260168 \r\nL 123.922344 99.619409 \r\nL 124.186784 99.70922 \r\nL 124.466301 100.248082 \r\nL 124.592422 100.337893 \r\nL 124.693953 100.607324 \r\nL 125.058355 100.697134 \r\nL 125.186656 100.876755 \r\nL 125.333784 100.966566 \r\nL 125.391466 101.056376 \r\nL 125.532025 101.325807 \r\nL 125.56655 101.415618 \r\nL 125.965878 102.134101 \r\nL 126.004614 102.223911 \r\nL 126.095945 102.403532 \r\nL 126.171117 102.493343 \r\nL 126.287881 102.762774 \r\nL 126.372583 102.852584 \r\nL 126.405521 103.122016 \r\nL 126.578105 103.211826 \r\nL 126.719097 103.391447 \r\nL 126.849479 103.481257 \r\nL 127.118549 104.10993 \r\nL 127.262999 104.199741 \r\nL 127.384311 104.558982 \r\nL 127.639983 104.828414 \r\nL 127.689453 104.918224 \r\nL 127.872648 105.187655 \r\nL 127.995644 105.457086 \r\nL 128.241348 105.636707 \r\nL 128.545764 105.726518 \r\nL 128.651967 105.995949 \r\nL 128.696501 106.085759 \r\nL 128.783356 106.17557 \r\nL 128.874413 106.26538 \r\nL 128.967437 106.445001 \r\nL 129.140582 106.534811 \r\nL 129.250143 106.714432 \r\nL 129.474491 106.804243 \r\nL 129.623705 106.983864 \r\nL 129.824017 107.253295 \r\nL 129.919736 107.343105 \r\nL 129.990351 107.522726 \r\nL 130.402663 107.612536 \r\nL 130.523783 107.792157 \r\nL 130.842022 108.510641 \r\nL 130.932609 108.690261 \r\nL 131.372507 108.780072 \r\nL 131.51902 108.959693 \r\nL 131.886861 109.049503 \r\nL 132.015769 109.318934 \r\nL 132.092743 109.408745 \r\nL 132.224398 109.498555 \r\nL 132.315806 109.678176 \r\nL 132.796096 109.767986 \r\nL 133.073897 110.127228 \r\nL 133.116844 110.217039 \r\nL 133.348574 110.666091 \r\nL 133.447286 110.755901 \r\nL 133.619455 111.025332 \r\nL 133.68627 111.115143 \r\nL 133.73163 111.204953 \r\nL 133.834708 111.294764 \r\nL 133.955244 111.654005 \r\nL 134.634714 112.462299 \r\nL 134.742779 112.552109 \r\nL 134.98877 112.911351 \r\nL 135.066469 113.001161 \r\nL 135.25612 113.270593 \r\nL 135.338938 113.360403 \r\nL 135.432449 113.450214 \r\nL 135.554501 113.719645 \r\nL 135.651005 113.809455 \r\nL 136.021355 113.899266 \r\nL 136.302784 114.258507 \r\nL 136.586548 114.348318 \r\nL 136.721811 114.527939 \r\nL 136.893469 114.617749 \r\nL 137.273035 115.156611 \r\nL 137.601707 115.246422 \r\nL 137.753037 115.336232 \r\nL 137.819496 115.426043 \r\nL 137.960534 115.515853 \r\nL 138.032093 115.605664 \r\nL 138.183441 115.695474 \r\nL 138.718653 115.785284 \r\nL 139.497537 117.04263 \r\nL 139.538376 117.132441 \r\nL 139.718428 117.401872 \r\nL 140.1597 117.491682 \r\nL 140.312727 117.671303 \r\nL 140.348036 117.761114 \r\nL 140.463564 118.030545 \r\nL 140.762465 118.479597 \r\nL 140.957243 118.569407 \r\nL 141.034623 118.838839 \r\nL 141.219566 118.928649 \r\nL 142.37548 120.814668 \r\nL 142.645184 120.904478 \r\nL 142.718121 121.26372 \r\nL 143.012615 121.35353 \r\nL 143.155496 121.443341 \r\nL 143.156527 121.533151 \r\nL 143.879865 121.892393 \r\nL 143.97209 121.982203 \r\nL 144.145272 122.072014 \r\nL 144.385424 122.161824 \r\nL 144.411756 122.251634 \r\nL 144.683485 122.341445 \r\nL 144.778092 122.521066 \r\nL 144.860134 122.610876 \r\nL 144.969476 122.880307 \r\nL 145.238021 122.970118 \r\nL 145.639548 123.329359 \r\nL 145.857064 123.41917 \r\nL 145.990164 123.778411 \r\nL 146.095144 123.868222 \r\nL 146.12195 123.958032 \r\nL 146.281565 124.047843 \r\nL 146.662663 124.317274 \r\nL 146.737078 124.407084 \r\nL 146.823336 124.496895 \r\nL 147.201324 124.586705 \r\nL 147.452798 124.676516 \r\nL 147.624338 125.305189 \r\nL 147.797821 125.394999 \r\nL 147.920711 125.484809 \r\nL 148.113364 125.57462 \r\nL 148.533951 125.933861 \r\nL 148.649013 126.023672 \r\nL 148.906172 126.382914 \r\nL 149.209716 126.921776 \r\nL 149.721771 127.370828 \r\nL 149.869169 127.460639 \r\nL 149.951376 127.73007 \r\nL 150.312684 128.089311 \r\nL 150.528767 128.179122 \r\nL 150.65913 128.358743 \r\nL 150.782513 128.448553 \r\nL 150.895112 128.538364 \r\nL 151.087628 128.628174 \r\nL 151.492293 129.077226 \r\nL 151.586799 129.346657 \r\nL 152.15139 129.436468 \r\nL 152.474761 129.88552 \r\nL 152.879254 129.97533 \r\nL 153.098356 130.154951 \r\nL 153.144606 130.244761 \r\nL 153.248217 130.424382 \r\nL 153.445523 130.873434 \r\nL 153.617072 130.963245 \r\nL 153.71499 131.232676 \r\nL 154.281122 131.322486 \r\nL 154.50975 131.412297 \r\nL 154.558929 131.502107 \r\nL 154.645113 131.681728 \r\nL 155.034761 132.13078 \r\nL 155.311956 132.220591 \r\nL 155.614662 132.669643 \r\nL 156.273594 133.567747 \r\nL 156.467323 133.657557 \r\nL 156.587622 133.837178 \r\nL 156.794864 134.106609 \r\nL 157.297941 134.19642 \r\nL 157.437975 134.465851 \r\nL 157.528092 134.555661 \r\nL 157.621285 134.645472 \r\nL 157.933205 134.914903 \r\nL 158.075156 135.274145 \r\nL 158.103796 135.363955 \r\nL 158.224853 135.723197 \r\nL 158.5064 135.813007 \r\nL 158.759927 136.44168 \r\nL 158.895171 136.531491 \r\nL 159.177239 136.800922 \r\nL 159.192439 136.890732 \r\nL 159.596612 136.980543 \r\nL 159.717267 137.070353 \r\nL 159.763955 137.160164 \r\nL 159.924783 137.249974 \r\nL 160.206667 137.429595 \r\nL 160.563788 137.519405 \r\nL 160.673613 137.699026 \r\nL 160.889787 137.968457 \r\nL 161.047851 138.058268 \r\nL 161.146864 138.237889 \r\nL 161.662386 138.327699 \r\nL 161.837192 138.776751 \r\nL 162.178619 138.866561 \r\nL 162.395477 139.046182 \r\nL 162.682043 139.315614 \r\nL 163.008927 139.405424 \r\nL 163.079975 139.674855 \r\nL 163.385336 139.854476 \r\nL 163.556829 140.213718 \r\nL 164.568466 140.66277 \r\nL 165.561089 141.471064 \r\nL 165.759344 141.560874 \r\nL 165.85135 141.920116 \r\nL 166.058737 142.009926 \r\nL 166.498366 142.548789 \r\nL 167.045201 142.638599 \r\nL 167.124388 142.81822 \r\nL 167.471062 143.087651 \r\nL 167.512959 143.177461 \r\nL 167.831166 143.267272 \r\nL 167.992998 143.446893 \r\nL 168.293806 143.806134 \r\nL 169.003805 143.895945 \r\nL 169.190454 144.075566 \r\nL 169.435213 144.165376 \r\nL 169.545385 144.255186 \r\nL 169.856064 144.344997 \r\nL 170.554649 144.524618 \r\nL 170.649073 144.614428 \r\nL 170.768041 144.704239 \r\nL 171.051047 144.794049 \r\nL 171.107023 144.97367 \r\nL 171.307102 145.06348 \r\nL 171.737643 145.692153 \r\nL 171.85453 146.051395 \r\nL 172.266532 146.141205 \r\nL 172.5412 146.231016 \r\nL 172.633899 146.320826 \r\nL 172.708433 146.590257 \r\nL 173.153755 146.680068 \r\nL 173.370795 146.949499 \r\nL 173.618027 147.039309 \r\nL 173.726666 147.12912 \r\nL 173.819575 147.21893 \r\nL 174.091205 147.488361 \r\nL 174.477805 147.578172 \r\nL 174.50889 147.667982 \r\nL 174.824497 147.757793 \r\nL 175.281909 148.566086 \r\nL 175.463767 148.655897 \r\nL 175.556731 148.835518 \r\nL 176.66167 149.464191 \r\nL 177.00922 149.643811 \r\nL 177.535626 150.003053 \r\nL 178.069022 150.272484 \r\nL 178.546433 150.721536 \r\nL 179.330327 151.170589 \r\nL 179.560087 151.350209 \r\nL 179.825402 151.52983 \r\nL 179.95363 151.709451 \r\nL 180.037105 151.799261 \r\nL 180.644779 151.889072 \r\nL 180.77715 152.068693 \r\nL 181.173102 152.158503 \r\nL 181.348017 152.607555 \r\nL 181.670057 152.876986 \r\nL 181.92227 152.966797 \r\nL 182.172504 153.415849 \r\nL 182.486888 153.505659 \r\nL 183.425342 153.954711 \r\nL 183.482084 154.044522 \r\nL 183.482303 154.134332 \r\nL 183.800309 154.403764 \r\nL 184.024667 154.493574 \r\nL 184.975867 154.942626 \r\nL 185.240845 155.032436 \r\nL 185.303746 155.212057 \r\nL 185.738575 155.301868 \r\nL 185.795773 155.481489 \r\nL 186.211315 155.571299 \r\nL 186.422033 155.84073 \r\nL 186.654593 155.930541 \r\nL 186.672622 156.020351 \r\nL 187.163126 156.379593 \r\nL 187.225288 156.469403 \r\nL 188.01763 156.738834 \r\nL 188.238558 156.828645 \r\nL 188.460297 156.918455 \r\nL 188.844343 157.008266 \r\nL 189.010071 157.187886 \r\nL 189.548703 157.277697 \r\nL 189.760142 157.636939 \r\nL 189.974692 157.726749 \r\nL 190.039189 157.99618 \r\nL 190.432733 158.085991 \r\nL 192.050857 158.535043 \r\nL 192.083877 158.624853 \r\nL 192.442348 158.714664 \r\nL 192.527101 158.894284 \r\nL 192.791695 159.253526 \r\nL 192.79561 159.343336 \r\nL 193.179455 159.433147 \r\nL 193.189491 159.522957 \r\nL 193.552652 159.612768 \r\nL 193.764081 159.702578 \r\nL 194.409638 159.972009 \r\nL 194.797926 160.06182 \r\nL 195.007074 160.421062 \r\nL 195.021518 160.510872 \r\nL 195.514549 160.870114 \r\nL 195.602924 161.049734 \r\nL 196.43033 161.139545 \r\nL 196.779084 161.408976 \r\nL 196.971453 161.498787 \r\nL 197.333328 161.768218 \r\nL 197.414367 162.037649 \r\nL 197.611335 162.127459 \r\nL 197.92915 162.30708 \r\nL 198.06339 162.396891 \r\nL 198.184301 162.576512 \r\nL 198.188717 162.666322 \r\nL 199.78832 163.474616 \r\nL 199.948254 163.564426 \r\nL 200.327081 163.654237 \r\nL 200.578227 163.923668 \r\nL 200.632606 164.103289 \r\nL 201.208391 164.193099 \r\nL 201.489993 164.37272 \r\nL 203.830014 164.911582 \r\nL 203.93713 165.360634 \r\nL 204.598133 165.719876 \r\nL 204.695686 165.989307 \r\nL 205.083938 166.258739 \r\nL 205.487089 166.797601 \r\nL 205.970741 166.887412 \r\nL 206.068641 166.977222 \r\nL 206.925463 167.785516 \r\nL 207.023491 168.054947 \r\nL 207.459725 168.324378 \r\nL 209.035214 168.77343 \r\nL 209.114556 168.863241 \r\nL 209.545134 168.953051 \r\nL 209.733744 169.132672 \r\nL 209.756645 169.222482 \r\nL 210.343133 169.312293 \r\nL 210.466161 169.491914 \r\nL 211.147392 170.030776 \r\nL 211.433045 170.120587 \r\nL 211.747511 170.300207 \r\nL 212.455676 170.390018 \r\nL 213.161852 170.749259 \r\nL 213.830091 171.018691 \r\nL 214.192312 171.288122 \r\nL 214.357638 171.377932 \r\nL 214.565518 171.467743 \r\nL 214.741811 171.557553 \r\nL 215.219578 171.647364 \r\nL 215.530431 171.737174 \r\nL 216.15836 171.826984 \r\nL 216.161663 171.916795 \r\nL 217.045866 172.186226 \r\nL 218.093661 172.814899 \r\nL 218.141343 172.904709 \r\nL 218.567286 173.08433 \r\nL 218.640186 173.174141 \r\nL 219.155672 173.353762 \r\nL 219.192952 173.533382 \r\nL 219.428642 173.892624 \r\nL 219.46981 173.982434 \r\nL 220.21573 174.431487 \r\nL 220.374395 174.611107 \r\nL 220.881925 174.790728 \r\nL 220.889041 174.880539 \r\nL 221.268233 175.060159 \r\nL 221.629158 175.419401 \r\nL 222.03939 175.599022 \r\nL 222.214898 175.688832 \r\nL 223.649385 175.958264 \r\nL 223.765789 176.048074 \r\nL 224.16664 176.227695 \r\nL 224.277734 176.407316 \r\nL 224.357988 176.497126 \r\nL 224.706359 176.586937 \r\nL 224.996118 176.766557 \r\nL 225.753132 176.856368 \r\nL 226.508395 176.946178 \r\nL 226.716732 177.125799 \r\nL 227.402032 177.30542 \r\nL 227.407853 177.39523 \r\nL 228.784604 177.664662 \r\nL 228.950623 177.754472 \r\nL 229.429923 178.023903 \r\nL 230.357045 178.742387 \r\nL 230.881928 178.922007 \r\nL 231.069133 179.191439 \r\nL 231.391428 179.55068 \r\nL 232.865932 180.269164 \r\nL 232.970329 180.628405 \r\nL 233.156147 180.718216 \r\nL 233.271894 180.987647 \r\nL 234.193833 181.167268 \r\nL 234.239453 181.346889 \r\nL 234.338685 181.526509 \r\nL 234.798843 181.70613 \r\nL 235.195662 181.975562 \r\nL 236.044062 182.065372 \r\nL 236.301723 182.244993 \r\nL 237.801446 182.514424 \r\nL 238.40193 182.604234 \r\nL 239.044895 182.694045 \r\nL 239.754502 182.873666 \r\nL 239.85191 183.053287 \r\nL 240.241813 183.232907 \r\nL 240.265553 183.412528 \r\nL 240.395624 183.502339 \r\nL 242.069816 183.86158 \r\nL 242.242295 184.041201 \r\nL 242.250452 184.131012 \r\nL 242.449299 184.220822 \r\nL 243.012813 184.669874 \r\nL 243.063634 184.759684 \r\nL 243.475818 184.939305 \r\nL 243.98946 185.208737 \r\nL 245.33924 185.747599 \r\nL 246.748253 186.286462 \r\nL 247.750465 186.466082 \r\nL 248.049329 186.735514 \r\nL 250.145631 187.004945 \r\nL 250.554421 187.184566 \r\nL 250.592286 187.274376 \r\nL 251.032553 187.364187 \r\nL 253.099586 188.621532 \r\nL 253.106064 188.711343 \r\nL 254.440734 189.070584 \r\nL 254.628943 189.160395 \r\nL 255.678308 189.250205 \r\nL 256.844149 189.519637 \r\nL 256.895553 189.609447 \r\nL 257.176097 189.699257 \r\nL 258.292541 189.878878 \r\nL 258.464564 189.968689 \r\nL 260.172496 190.32793 \r\nL 260.791866 190.597362 \r\nL 261.60326 191.136224 \r\nL 261.635559 191.315845 \r\nL 262.936982 191.675087 \r\nL 262.96377 191.764897 \r\nL 264.597323 191.944518 \r\nL 264.690953 192.034328 \r\nL 266.172848 192.48338 \r\nL 266.17949 192.573191 \r\nL 267.402265 192.842622 \r\nL 267.464363 192.932432 \r\nL 267.919137 193.112053 \r\nL 267.97472 193.201864 \r\nL 270.343701 193.920347 \r\nL 272.638522 194.369399 \r\nL 274.087188 194.818451 \r\nL 277.34632 195.177693 \r\nL 277.973665 195.267503 \r\nL 280.915868 195.447124 \r\nL 280.924864 195.536934 \r\nL 281.346099 195.716555 \r\nL 281.70717 196.075797 \r\nL 282.284443 196.255418 \r\nL 282.654712 196.435039 \r\nL 283.018812 196.70447 \r\nL 283.637106 196.884091 \r\nL 283.653146 196.973901 \r\nL 284.015185 197.153522 \r\nL 284.234634 197.422953 \r\nL 287.458402 197.961816 \r\nL 287.547306 198.051626 \r\nL 290.475312 198.590489 \r\nL 290.670729 198.680299 \r\nL 294.581494 199.219162 \r\nL 297.59032 200.207076 \r\nL 297.762197 200.386697 \r\nL 298.341897 200.656128 \r\nL 299.484234 200.925559 \r\nL 302.288118 201.10518 \r\nL 304.92319 201.374612 \r\nL 305.024046 201.464422 \r\nL 306.194102 201.644043 \r\nL 306.413004 201.733853 \r\nL 310.243497 202.362526 \r\nL 310.309427 202.452337 \r\nL 312.681583 202.721768 \r\nL 312.719648 202.811578 \r\nL 313.137051 202.991199 \r\nL 314.310665 203.17082 \r\nL 314.40477 203.26063 \r\nL 316.583115 203.440251 \r\nL 316.585177 203.530062 \r\nL 317.446351 203.799493 \r\nL 317.67746 203.889303 \r\nL 320.468552 204.158734 \r\nL 320.790409 204.428166 \r\nL 323.751096 204.787407 \r\nL 323.808577 204.877218 \r\nL 327.695073 205.685512 \r\nL 327.864122 205.775322 \r\nL 329.073338 205.954943 \r\nL 329.189851 206.134564 \r\nL 331.810562 206.493805 \r\nL 332.213366 206.673426 \r\nL 333.945166 206.853047 \r\nL 334.153795 207.032668 \r\nL 334.33403 207.122478 \r\nL 340.473449 208.200203 \r\nL 342.25961 208.379824 \r\nL 343.16779 208.739066 \r\nL 343.260709 208.918687 \r\nL 344.847639 209.188118 \r\nL 345.37796 209.367739 \r\nL 345.421736 209.547359 \r\nL 348.672037 210.086222 \r\nL 348.913292 210.176032 \r\nL 351.488347 210.535274 \r\nL 351.649841 210.625084 \r\nL 353.380711 210.894516 \r\nL 353.549358 211.074137 \r\nL 353.593627 211.163947 \r\nL 354.435549 211.343568 \r\nL 355.038716 211.612999 \r\nL 355.167784 211.702809 \r\nL 355.891058 211.88243 \r\nL 357.781852 212.331482 \r\nL 358.45197 212.511103 \r\nL 358.618391 212.690724 \r\nL 359.800509 212.870345 \r\nL 360.222383 213.319397 \r\nL 361.568422 213.588828 \r\nL 361.867341 213.768449 \r\nL 362.332006 213.94807 \r\nL 362.644155 214.217501 \r\nL 363.33024 214.576743 \r\nL 363.363068 214.756364 \r\nL 363.363068 214.756364 \r\n\" style=\"fill:none;stroke:#0000ff;stroke-linecap:square;stroke-width:1.5;\"/>\r\n   </g>\r\n   <g id=\"patch_3\">\r\n    <path d=\"M 43.78125 224.64 \r\nL 43.78125 7.2 \r\n\" style=\"fill:none;stroke:#000000;stroke-linecap:square;stroke-linejoin:miter;stroke-width:0.8;\"/>\r\n   </g>\r\n   <g id=\"patch_4\">\r\n    <path d=\"M 378.58125 224.64 \r\nL 378.58125 7.2 \r\n\" style=\"fill:none;stroke:#000000;stroke-linecap:square;stroke-linejoin:miter;stroke-width:0.8;\"/>\r\n   </g>\r\n   <g id=\"patch_5\">\r\n    <path d=\"M 43.78125 224.64 \r\nL 378.58125 224.64 \r\n\" style=\"fill:none;stroke:#000000;stroke-linecap:square;stroke-linejoin:miter;stroke-width:0.8;\"/>\r\n   </g>\r\n   <g id=\"patch_6\">\r\n    <path d=\"M 43.78125 7.2 \r\nL 378.58125 7.2 \r\n\" style=\"fill:none;stroke:#000000;stroke-linecap:square;stroke-linejoin:miter;stroke-width:0.8;\"/>\r\n   </g>\r\n   <g id=\"legend_1\">\r\n    <g id=\"patch_7\">\r\n     <path d=\"M 294.571875 132.098125 \r\nL 371.58125 132.098125 \r\nQ 373.58125 132.098125 373.58125 130.098125 \r\nL 373.58125 101.741875 \r\nQ 373.58125 99.741875 371.58125 99.741875 \r\nL 294.571875 99.741875 \r\nQ 292.571875 99.741875 292.571875 101.741875 \r\nL 292.571875 130.098125 \r\nQ 292.571875 132.098125 294.571875 132.098125 \r\nz\r\n\" style=\"fill:#ffffff;opacity:0.8;stroke:#cccccc;stroke-linejoin:miter;\"/>\r\n    </g>\r\n    <g id=\"line2d_15\">\r\n     <path d=\"M 296.571875 107.840313 \r\nL 316.571875 107.840313 \r\n\" style=\"fill:none;stroke:#ff0000;stroke-dasharray:5.55,2.4;stroke-dashoffset:0;stroke-width:1.5;\"/>\r\n    </g>\r\n    <g id=\"line2d_16\"/>\r\n    <g id=\"text_15\">\r\n     <!-- Precision -->\r\n     <defs>\r\n      <path d=\"M 9.421875 54.6875 \r\nL 18.40625 54.6875 \r\nL 18.40625 0 \r\nL 9.421875 0 \r\nz\r\nM 9.421875 75.984375 \r\nL 18.40625 75.984375 \r\nL 18.40625 64.59375 \r\nL 9.421875 64.59375 \r\nz\r\n\" id=\"DejaVuSans-105\"/>\r\n     </defs>\r\n     <g transform=\"translate(324.571875 111.340313)scale(0.1 -0.1)\">\r\n      <use xlink:href=\"#DejaVuSans-80\"/>\r\n      <use x=\"60.287109\" xlink:href=\"#DejaVuSans-114\"/>\r\n      <use x=\"101.369141\" xlink:href=\"#DejaVuSans-101\"/>\r\n      <use x=\"162.892578\" xlink:href=\"#DejaVuSans-99\"/>\r\n      <use x=\"217.873047\" xlink:href=\"#DejaVuSans-105\"/>\r\n      <use x=\"245.65625\" xlink:href=\"#DejaVuSans-115\"/>\r\n      <use x=\"297.755859\" xlink:href=\"#DejaVuSans-105\"/>\r\n      <use x=\"325.539062\" xlink:href=\"#DejaVuSans-111\"/>\r\n      <use x=\"386.720703\" xlink:href=\"#DejaVuSans-110\"/>\r\n     </g>\r\n    </g>\r\n    <g id=\"line2d_17\">\r\n     <path d=\"M 296.571875 122.518438 \r\nL 316.571875 122.518438 \r\n\" style=\"fill:none;stroke:#0000ff;stroke-linecap:square;stroke-width:1.5;\"/>\r\n    </g>\r\n    <g id=\"line2d_18\"/>\r\n    <g id=\"text_16\">\r\n     <!-- Recall -->\r\n     <defs>\r\n      <path d=\"M 44.390625 34.1875 \r\nQ 47.5625 33.109375 50.5625 29.59375 \r\nQ 53.5625 26.078125 56.59375 19.921875 \r\nL 66.609375 0 \r\nL 56 0 \r\nL 46.6875 18.703125 \r\nQ 43.0625 26.03125 39.671875 28.421875 \r\nQ 36.28125 30.8125 30.421875 30.8125 \r\nL 19.671875 30.8125 \r\nL 19.671875 0 \r\nL 9.8125 0 \r\nL 9.8125 72.90625 \r\nL 32.078125 72.90625 \r\nQ 44.578125 72.90625 50.734375 67.671875 \r\nQ 56.890625 62.453125 56.890625 51.90625 \r\nQ 56.890625 45.015625 53.6875 40.46875 \r\nQ 50.484375 35.9375 44.390625 34.1875 \r\nz\r\nM 19.671875 64.796875 \r\nL 19.671875 38.921875 \r\nL 32.078125 38.921875 \r\nQ 39.203125 38.921875 42.84375 42.21875 \r\nQ 46.484375 45.515625 46.484375 51.90625 \r\nQ 46.484375 58.296875 42.84375 61.546875 \r\nQ 39.203125 64.796875 32.078125 64.796875 \r\nz\r\n\" id=\"DejaVuSans-82\"/>\r\n     </defs>\r\n     <g transform=\"translate(324.571875 126.018438)scale(0.1 -0.1)\">\r\n      <use xlink:href=\"#DejaVuSans-82\"/>\r\n      <use x=\"69.419922\" xlink:href=\"#DejaVuSans-101\"/>\r\n      <use x=\"130.943359\" xlink:href=\"#DejaVuSans-99\"/>\r\n      <use x=\"185.923828\" xlink:href=\"#DejaVuSans-97\"/>\r\n      <use x=\"247.203125\" xlink:href=\"#DejaVuSans-108\"/>\r\n      <use x=\"274.986328\" xlink:href=\"#DejaVuSans-108\"/>\r\n     </g>\r\n    </g>\r\n   </g>\r\n  </g>\r\n </g>\r\n <defs>\r\n  <clipPath id=\"p4002240743\">\r\n   <rect height=\"217.44\" width=\"334.8\" x=\"43.78125\" y=\"7.2\"/>\r\n  </clipPath>\r\n </defs>\r\n</svg>\r\n",
      "image/png": "[encoded data removed]"
     },
     "metadata": {
      "needs_background": "light"
     }
    }
   ],
   "source": [
    "# Threshold-PR curve\n",
    "train_loss, y_true, y_prob = trainer.eval_step(dataloader=train_dataloader)\n",
    "precisions, recalls, thresholds = precision_recall_curve(y_true.ravel(), y_prob.ravel())\n",
    "plt.plot(thresholds, precisions[:-1], \"r--\", label=\"Precision\")\n",
    "plt.plot(thresholds, recalls[:-1], \"b-\", label=\"Recall\")\n",
    "plt.ylabel(\"Performance\")\n",
    "plt.xlabel(\"Threshold\")\n",
    "plt.legend(loc='best')"
   ]
  },
  {
   "cell_type": "code",
   "execution_count": 155,
   "metadata": {},
   "outputs": [
    {
     "output_type": "execute_result",
     "data": {
      "text/plain": [
       "0.21466002"
      ]
     },
     "metadata": {},
     "execution_count": 155
    }
   ],
   "source": [
    "# Best threshold for f1\n",
    "threshold = find_best_threshold(y_true.ravel(), y_prob.ravel())\n",
    "threshold"
   ]
  },
  {
   "cell_type": "code",
   "execution_count": 156,
   "metadata": {},
   "outputs": [],
   "source": [
    "# Determine predictions using threshold\n",
    "test_loss, y_true, y_prob = trainer.eval_step(dataloader=test_dataloader)\n",
    "y_pred = np.array([np.where(prob >= threshold, 1, 0) for prob in y_prob])"
   ]
  },
  {
   "cell_type": "code",
   "execution_count": 157,
   "metadata": {},
   "outputs": [
    {
     "output_type": "stream",
     "name": "stdout",
     "text": [
      "{\n  \"precision\": 0.34976369495166487,\n  \"recall\": 0.2389525693244905,\n  \"f1\": 0.25651611949847763,\n  \"num_samples\": 480.0\n}\n"
     ]
    }
   ],
   "source": [
    "# Evaluate\n",
    "performance = get_performance(\n",
    "    y_true=y_test, y_pred=y_pred, classes=label_encoder.classes)\n",
    "print (json.dumps(performance['overall'], indent=2))"
   ]
  },
  {
   "cell_type": "code",
   "execution_count": 158,
   "metadata": {},
   "outputs": [
    {
     "output_type": "display_data",
     "data": {
      "text/plain": "interactive(children=(Dropdown(description='tag', index=3, options=('interpretability', 'segmentation', 'produ…",
      "application/vnd.jupyter.widget-view+json": {
       "version_major": 2,
       "version_minor": 0,
       "model_id": "cb9b7d07cd074e82bdaf2d1ecb5b9d1b"
      }
     },
     "metadata": {}
    }
   ],
   "source": [
    "@widgets.interact(tag=list(sorted_tags_by_f1.keys()))\n",
    "def display_tag_analysis(tag='transformers'):\n",
    "    # Performance\n",
    "    print (json.dumps(performance[\"class\"][tag], indent=2))\n",
    "    \n",
    "    # TP, FP, FN samples\n",
    "    index = label_encoder.class_to_index[tag]\n",
    "    tp, fp, fn = [], [], []\n",
    "    for i in range(len(y_test)):\n",
    "        true = y_test[i][index]\n",
    "        pred = y_pred[i][index]\n",
    "        if true and pred:\n",
    "            tp.append(i)\n",
    "        elif not true and pred:\n",
    "            fp.append(i)\n",
    "        elif true and not pred:\n",
    "            fn.append(i)\n",
    "            \n",
    "    # Samples\n",
    "    num_samples = 3\n",
    "    if len(tp): \n",
    "        print (\"\\n=== True positives ===\")\n",
    "        for i in tp[:num_samples]:        \n",
    "            print (f\"  {X_test_raw[i]}\")\n",
    "            print (f\"    true: {label_encoder.decode([y_test[i]])[0]}\")\n",
    "            print (f\"    pred: {label_encoder.decode([y_pred[i]])[0]}\\n\")\n",
    "    if len(fp): \n",
    "        print (\"=== False positives === \")\n",
    "        for i in fp[:num_samples]:        \n",
    "            print (f\"  {X_test_raw[i]}\")\n",
    "            print (f\"    true: {label_encoder.decode([y_test[i]])[0]}\")\n",
    "            print (f\"    pred: {label_encoder.decode([y_pred[i]])[0]}\\n\")\n",
    "    if len(fn): \n",
    "        print (\"=== False negatives ===\")\n",
    "        for i in fn[:num_samples]:        \n",
    "            print (f\"  {X_test_raw[i]}\") \n",
    "            print (f\"    true: {label_encoder.decode([y_test[i]])[0]}\")\n",
    "            print (f\"    pred: {label_encoder.decode([y_pred[i]])[0]}\\n\")"
   ]
  },
  {
   "cell_type": "code",
   "execution_count": 159,
   "metadata": {},
   "outputs": [],
   "source": [
    "# Save artifacts\n",
    "dir = Path(\"rnn\")\n",
    "dir.mkdir(parents=True, exist_ok=True)\n",
    "tokenizer.save(fp=Path(dir, 'tokenzier.json'))\n",
    "label_encoder.save(fp=Path(dir, 'label_encoder.json'))\n",
    "torch.save(best_model.state_dict(), Path(dir, 'model.pt'))\n",
    "with open(Path(dir, 'performance.json'), \"w\") as fp:\n",
    "    json.dump(performance, indent=2, sort_keys=False, fp=fp)"
   ]
  },
  {
   "source": [
    "Inference"
   ],
   "cell_type": "markdown",
   "metadata": {}
  },
  {
   "cell_type": "code",
   "execution_count": 160,
   "metadata": {},
   "outputs": [
    {
     "output_type": "stream",
     "name": "stdout",
     "text": [
      "Model:\n<bound method Module.named_parameters of RNN(\n  (embeddings): Embedding(136, 128, padding_idx=0)\n  (rnn): GRU(128, 128, batch_first=True, bidirectional=True)\n  (dropout): Dropout(p=0.5, inplace=False)\n  (fc1): Linear(in_features=256, out_features=128, bias=True)\n  (fc2): Linear(in_features=128, out_features=35, bias=True)\n)>\n"
     ]
    }
   ],
   "source": [
    "# Initialize model\n",
    "model = RNN(\n",
    "    embedding_dim=embedding_dim, vocab_size=vocab_size,\n",
    "    rnn_hidden_dim=rnn_hidden_dim, hidden_dim=hidden_dim, \n",
    "    dropout_p=dropout_p, num_classes=num_classes)\n",
    "model = model.to(device)\n",
    "print (f\"Model:\\n{model.named_parameters}\")"
   ]
  },
  {
   "cell_type": "code",
   "execution_count": 161,
   "metadata": {},
   "outputs": [
    {
     "output_type": "execute_result",
     "data": {
      "text/plain": [
       "RNN(\n",
       "  (embeddings): Embedding(136, 128, padding_idx=0)\n",
       "  (rnn): GRU(128, 128, batch_first=True, bidirectional=True)\n",
       "  (dropout): Dropout(p=0.5, inplace=False)\n",
       "  (fc1): Linear(in_features=256, out_features=128, bias=True)\n",
       "  (fc2): Linear(in_features=128, out_features=35, bias=True)\n",
       ")"
      ]
     },
     "metadata": {},
     "execution_count": 161
    }
   ],
   "source": [
    "# Load artifacts\n",
    "device = torch.device(\"cpu\")\n",
    "tokenizer = Tokenizer.load(fp=Path(dir, 'tokenzier.json'))\n",
    "label_encoder = LabelEncoder.load(fp=Path(dir, 'label_encoder.json'))\n",
    "model = RNN(\n",
    "    embedding_dim=embedding_dim, vocab_size=vocab_size,\n",
    "    rnn_hidden_dim=rnn_hidden_dim, hidden_dim=hidden_dim, \n",
    "    dropout_p=dropout_p, num_classes=num_classes)\n",
    "model.load_state_dict(torch.load(Path(dir, 'model.pt'), map_location=device))\n",
    "model.to(device)"
   ]
  },
  {
   "cell_type": "code",
   "execution_count": 162,
   "metadata": {},
   "outputs": [],
   "source": [
    "# Initialize trainer\n",
    "trainer = Trainer(model=model, device=device)"
   ]
  },
  {
   "cell_type": "code",
   "execution_count": 163,
   "metadata": {},
   "outputs": [],
   "source": [
    "# Dataloader\n",
    "text = \"Transfer learning with BERT for self-supervised learning\"\n",
    "X = np.array(tokenizer.texts_to_sequences([preprocess(text)]))\n",
    "y_filler = label_encoder.encode([np.array([label_encoder.classes[0]]*len(X))])\n",
    "dataset = RNNTextDataset(X=X, y=y_filler)\n",
    "dataloader = dataset.create_dataloader(batch_size=batch_size)"
   ]
  },
  {
   "cell_type": "code",
   "execution_count": 164,
   "metadata": {},
   "outputs": [
    {
     "output_type": "execute_result",
     "data": {
      "text/plain": [
       "[[]]"
      ]
     },
     "metadata": {},
     "execution_count": 164
    }
   ],
   "source": [
    "# Inference\n",
    "y_prob = trainer.predict_step(dataloader)\n",
    "y_pred = np.array([np.where(prob >= threshold, 1, 0) for prob in y_prob])\n",
    "label_encoder.decode(y_pred)"
   ]
  },
  {
   "source": [
    "limitation: since we're using character embeddings our encoded sequences are quite long (>100), the RNNs may potentially be suffering from memory issues. We also can't process our tokens in parallel because we're restricted by sequential processin"
   ],
   "cell_type": "markdown",
   "metadata": {}
  },
  {
   "source": [
    "# Transformers w/ Contextual Embeddings"
   ],
   "cell_type": "markdown",
   "metadata": {}
  },
  {
   "cell_type": "code",
   "execution_count": 165,
   "metadata": {},
   "outputs": [],
   "source": [
    "# Set seeds\n",
    "set_seed()"
   ]
  },
  {
   "cell_type": "code",
   "execution_count": 166,
   "metadata": {},
   "outputs": [],
   "source": [
    "# Get data splits\n",
    "preprocessed_df = df.copy()\n",
    "preprocessed_df.text = preprocessed_df.text.apply(preprocess, lower=True)\n",
    "X_train, X_val, X_test, y_train, y_val, y_test, label_encoder = get_data_splits(preprocessed_df)\n",
    "X_test_raw = X_test"
   ]
  },
  {
   "cell_type": "code",
   "execution_count": 167,
   "metadata": {},
   "outputs": [
    {
     "output_type": "stream",
     "name": "stdout",
     "text": [
      "cuda\n"
     ]
    }
   ],
   "source": [
    "# Set device\n",
    "cuda = True\n",
    "device = torch.device('cuda' if (\n",
    "    torch.cuda.is_available() and cuda) else 'cpu')\n",
    "torch.set_default_tensor_type('torch.FloatTensor')\n",
    "if device.type == 'cuda':\n",
    "    torch.set_default_tensor_type('torch.cuda.FloatTensor')\n",
    "print (device)"
   ]
  },
  {
   "cell_type": "code",
   "execution_count": 168,
   "metadata": {},
   "outputs": [],
   "source": [
    "from transformers import DistilBertTokenizer\n",
    "from transformers import BertTokenizer"
   ]
  },
  {
   "cell_type": "code",
   "execution_count": 169,
   "metadata": {},
   "outputs": [
    {
     "output_type": "stream",
     "name": "stdout",
     "text": [
      "31090\n"
     ]
    }
   ],
   "source": [
    "tokenizer = BertTokenizer.from_pretrained('allenai/scibert_scivocab_uncased')\n",
    "vocab_size = len(tokenizer)\n",
    "print (vocab_size)"
   ]
  },
  {
   "cell_type": "code",
   "execution_count": 170,
   "metadata": {},
   "outputs": [
    {
     "output_type": "stream",
     "name": "stdout",
     "text": [
      "torch.Size([1000, 60]) torch.Size([1000, 60])\n",
      "torch.Size([227, 61]) torch.Size([227, 61])\n",
      "torch.Size([217, 58]) torch.Size([217, 58])\n"
     ]
    }
   ],
   "source": [
    "# Tokenize inputs\n",
    "encoded_input = tokenizer(X_train.tolist(), return_tensors='pt', padding=True)\n",
    "X_train_ids = encoded_input['input_ids']\n",
    "X_train_masks = encoded_input['attention_mask']\n",
    "print (X_train_ids.shape, X_train_masks.shape)\n",
    "encoded_input = tokenizer(X_val.tolist(), return_tensors='pt', padding=True)\n",
    "X_val_ids = encoded_input['input_ids']\n",
    "X_val_masks = encoded_input['attention_mask']\n",
    "print (X_val_ids.shape, X_val_masks.shape)\n",
    "encoded_input = tokenizer(X_test.tolist(), return_tensors='pt', padding=True)\n",
    "X_test_ids = encoded_input['input_ids']\n",
    "X_test_masks = encoded_input['attention_mask']\n",
    "print (X_test_ids.shape, X_test_masks.shape)"
   ]
  },
  {
   "cell_type": "code",
   "execution_count": 171,
   "metadata": {},
   "outputs": [
    {
     "output_type": "stream",
     "name": "stdout",
     "text": [
      "tensor([  102,  6160,  1923,   288,  3254,  1572, 18205,  5560,   137,  4578,\n          147,   626, 23474,   291,  2715,   494, 10558,   205,   103,     0,\n            0,     0,     0,     0,     0,     0,     0,     0,     0,     0,\n            0,     0,     0,     0,     0,     0,     0,     0,     0,     0,\n            0,     0,     0,     0,     0,     0,     0,     0,     0,     0,\n            0,     0,     0,     0,     0,     0,     0,     0,     0,     0])\n[CLS] albumentations fast image augmentation library and easy to use wrapper around other libraries. [SEP] [PAD] [PAD] [PAD] [PAD] [PAD] [PAD] [PAD] [PAD] [PAD] [PAD] [PAD] [PAD] [PAD] [PAD] [PAD] [PAD] [PAD] [PAD] [PAD] [PAD] [PAD] [PAD] [PAD] [PAD] [PAD] [PAD] [PAD] [PAD] [PAD] [PAD] [PAD] [PAD] [PAD] [PAD] [PAD] [PAD] [PAD] [PAD] [PAD] [PAD] [PAD]\n"
     ]
    }
   ],
   "source": [
    "# Decode\n",
    "print (f\"{X_train_ids[0]}\\n{tokenizer.decode(X_train_ids[0])}\")"
   ]
  },
  {
   "cell_type": "code",
   "execution_count": 172,
   "metadata": {},
   "outputs": [
    {
     "output_type": "stream",
     "name": "stdout",
     "text": [
      "['[CLS]', 'alb', '##ument', '##ations', 'fast', 'image', 'augmentation', 'library', 'and', 'easy', 'to', 'use', 'wrap', '##per', 'around', 'other', 'libraries', '.', '[SEP]', '[PAD]', '[PAD]', '[PAD]', '[PAD]', '[PAD]', '[PAD]', '[PAD]', '[PAD]', '[PAD]', '[PAD]', '[PAD]', '[PAD]', '[PAD]', '[PAD]', '[PAD]', '[PAD]', '[PAD]', '[PAD]', '[PAD]', '[PAD]', '[PAD]', '[PAD]', '[PAD]', '[PAD]', '[PAD]', '[PAD]', '[PAD]', '[PAD]', '[PAD]', '[PAD]', '[PAD]', '[PAD]', '[PAD]', '[PAD]', '[PAD]', '[PAD]', '[PAD]', '[PAD]', '[PAD]', '[PAD]', '[PAD]']\n"
     ]
    }
   ],
   "source": [
    "# Sub-word tokens\n",
    "print (tokenizer.convert_ids_to_tokens(ids=X_train_ids[0]))"
   ]
  },
  {
   "cell_type": "code",
   "execution_count": 173,
   "metadata": {},
   "outputs": [
    {
     "output_type": "stream",
     "name": "stdout",
     "text": [
      "class counts:\n  [120  41 388 106  41  75  34  73  51  78  64  51  55  93  51 429  33  69\n  30  51 258  32  49  59  57  60  48  40 213  40  34  46 196  39  39]\n\nclass weights:\n  {0: 0.008333333333333333, 1: 0.024390243902439025, 2: 0.002577319587628866, 3: 0.009433962264150943, 4: 0.024390243902439025, 5: 0.013333333333333334, 6: 0.029411764705882353, 7: 0.0136986301369863, 8: 0.0196078431372549, 9: 0.01282051282051282, 10: 0.015625, 11: 0.0196078431372549, 12: 0.01818181818181818, 13: 0.010752688172043012, 14: 0.0196078431372549, 15: 0.002331002331002331, 16: 0.030303030303030304, 17: 0.014492753623188406, 18: 0.03333333333333333, 19: 0.0196078431372549, 20: 0.003875968992248062, 21: 0.03125, 22: 0.02040816326530612, 23: 0.01694915254237288, 24: 0.017543859649122806, 25: 0.016666666666666666, 26: 0.020833333333333332, 27: 0.025, 28: 0.004694835680751174, 29: 0.025, 30: 0.029411764705882353, 31: 0.021739130434782608, 32: 0.00510204081632653, 33: 0.02564102564102564, 34: 0.02564102564102564}\n"
     ]
    }
   ],
   "source": [
    "# Class weights\n",
    "counts = np.bincount([label_encoder.class_to_index[class_] for class_ in all_tags])\n",
    "class_weights = {i: 1.0/count for i, count in enumerate(counts)}\n",
    "print (\"class counts:\\n\"\n",
    "    f\"  {counts}\\n\\n\"\n",
    "    \"class weights:\\n\"\n",
    "    f\"  {class_weights}\")"
   ]
  },
  {
   "cell_type": "code",
   "execution_count": 174,
   "metadata": {},
   "outputs": [],
   "source": [
    "class TransformerTextDataset(torch.utils.data.Dataset):\n",
    "    def __init__(self, ids, masks, targets):\n",
    "        self.ids = ids\n",
    "        self.masks = masks\n",
    "        self.targets = targets\n",
    "\n",
    "    def __len__(self):\n",
    "        return len(self.targets)\n",
    "\n",
    "    def __str__(self):\n",
    "        return f\"<Dataset(N={len(self)})>\"\n",
    "\n",
    "    def __getitem__(self, index):\n",
    "        ids = torch.tensor(self.ids[index], dtype=torch.long)\n",
    "        masks = torch.tensor(self.masks[index], dtype=torch.long)\n",
    "        targets = torch.FloatTensor(self.targets[index])\n",
    "        return ids, masks, targets\n",
    "\n",
    "    def create_dataloader(self, batch_size, shuffle=False, drop_last=False):\n",
    "        return torch.utils.data.DataLoader(\n",
    "            dataset=self,\n",
    "            batch_size=batch_size,\n",
    "            shuffle=shuffle,\n",
    "            drop_last=drop_last,\n",
    "            pin_memory=False)"
   ]
  },
  {
   "cell_type": "code",
   "execution_count": 175,
   "metadata": {},
   "outputs": [
    {
     "output_type": "stream",
     "name": "stdout",
     "text": [
      "Data splits:\n  Train dataset:<Dataset(N=1000)>\n  Val dataset: <Dataset(N=227)>\n  Test dataset: <Dataset(N=217)>\nSample point:\n  ids: tensor([  102,  6160,  1923,   288,  3254,  1572, 18205,  5560,   137,  4578,\n          147,   626, 23474,   291,  2715,   494, 10558,   205,   103,     0,\n            0,     0,     0,     0,     0,     0,     0,     0,     0,     0,\n            0,     0,     0,     0,     0,     0,     0,     0,     0,     0,\n            0,     0,     0,     0,     0,     0,     0,     0,     0,     0,\n            0,     0,     0,     0,     0,     0,     0,     0,     0,     0])\n  masks: tensor([1, 1, 1, 1, 1, 1, 1, 1, 1, 1, 1, 1, 1, 1, 1, 1, 1, 1, 1, 0, 0, 0, 0, 0,\n        0, 0, 0, 0, 0, 0, 0, 0, 0, 0, 0, 0, 0, 0, 0, 0, 0, 0, 0, 0, 0, 0, 0, 0,\n        0, 0, 0, 0, 0, 0, 0, 0, 0, 0, 0, 0])\n  targets: tensor([0., 0., 1., 0., 1., 0., 0., 0., 0., 0., 0., 0., 0., 0., 0., 0., 0., 0.,\n        0., 0., 0., 0., 0., 0., 0., 0., 0., 0., 0., 0., 0., 0., 0., 0., 0.],\n       device='cpu')\n"
     ]
    }
   ],
   "source": [
    "# Create datasets\n",
    "train_dataset = TransformerTextDataset(ids=X_train_ids, masks=X_train_masks, targets=y_train)\n",
    "val_dataset = TransformerTextDataset(ids=X_val_ids, masks=X_val_masks, targets=y_val)\n",
    "test_dataset = TransformerTextDataset(ids=X_test_ids, masks=X_test_masks, targets=y_test)\n",
    "print (\"Data splits:\\n\"\n",
    "    f\"  Train dataset:{train_dataset.__str__()}\\n\"\n",
    "    f\"  Val dataset: {val_dataset.__str__()}\\n\"\n",
    "    f\"  Test dataset: {test_dataset.__str__()}\\n\"\n",
    "    \"Sample point:\\n\"\n",
    "    f\"  ids: {train_dataset[0][0]}\\n\"\n",
    "    f\"  masks: {train_dataset[0][1]}\\n\"\n",
    "    f\"  targets: {train_dataset[0][2]}\")"
   ]
  },
  {
   "cell_type": "code",
   "execution_count": 176,
   "metadata": {},
   "outputs": [
    {
     "output_type": "stream",
     "name": "stdout",
     "text": [
      "Sample batch:\n  ids: torch.Size([128, 60])\n  masks: torch.Size([128, 60])\n  targets: torch.Size([128, 35])\n"
     ]
    }
   ],
   "source": [
    "# Create dataloaders\n",
    "batch_size = 128\n",
    "train_dataloader = train_dataset.create_dataloader(\n",
    "    batch_size=batch_size)\n",
    "val_dataloader = val_dataset.create_dataloader(\n",
    "    batch_size=batch_size)\n",
    "test_dataloader = test_dataset.create_dataloader(\n",
    "    batch_size=batch_size)\n",
    "batch = next(iter(train_dataloader))\n",
    "print (\"Sample batch:\\n\"\n",
    "    f\"  ids: {batch[0].size()}\\n\"\n",
    "    f\"  masks: {batch[1].size()}\\n\"\n",
    "    f\"  targets: {batch[2].size()}\")"
   ]
  },
  {
   "cell_type": "code",
   "execution_count": 177,
   "metadata": {},
   "outputs": [],
   "source": [
    "from transformers import BertModel"
   ]
  },
  {
   "cell_type": "code",
   "execution_count": 178,
   "metadata": {},
   "outputs": [],
   "source": [
    "transformer = BertModel.from_pretrained(\"allenai/scibert_scivocab_uncased\")\n",
    "embedding_dim = transformer.config.hidden_size"
   ]
  },
  {
   "cell_type": "code",
   "execution_count": 179,
   "metadata": {},
   "outputs": [],
   "source": [
    "class Transformer(nn.Module):\n",
    "    def __init__(self, transformer, dropout_p, embedding_dim, num_classes):\n",
    "        super(Transformer, self).__init__()\n",
    "        self.transformer = transformer\n",
    "        self.dropout = torch.nn.Dropout(dropout_p)\n",
    "        self.fc1 = torch.nn.Linear(embedding_dim, num_classes)\n",
    "    \n",
    "    def forward(self, inputs):\n",
    "        ids, masks = inputs\n",
    "        seq, pool = self.transformer(input_ids=ids, attention_mask=masks)\n",
    "        z = self.dropout(pool)\n",
    "        z = self.fc1(z)\n",
    "        return z"
   ]
  },
  {
   "cell_type": "code",
   "execution_count": 180,
   "metadata": {},
   "outputs": [
    {
     "output_type": "stream",
     "name": "stdout",
     "text": [
      "<bound method Module.named_parameters of Transformer(\n  (transformer): BertModel(\n    (embeddings): BertEmbeddings(\n      (word_embeddings): Embedding(31090, 768, padding_idx=0)\n      (position_embeddings): Embedding(512, 768)\n      (token_type_embeddings): Embedding(2, 768)\n      (LayerNorm): LayerNorm((768,), eps=1e-12, elementwise_affine=True)\n      (dropout): Dropout(p=0.1, inplace=False)\n    )\n    (encoder): BertEncoder(\n      (layer): ModuleList(\n        (0): BertLayer(\n          (attention): BertAttention(\n            (self): BertSelfAttention(\n              (query): Linear(in_features=768, out_features=768, bias=True)\n              (key): Linear(in_features=768, out_features=768, bias=True)\n              (value): Linear(in_features=768, out_features=768, bias=True)\n              (dropout): Dropout(p=0.1, inplace=False)\n            )\n            (output): BertSelfOutput(\n              (dense): Linear(in_features=768, out_features=768, bias=True)\n              (LayerNorm): LayerNorm((768,), eps=1e-12, elementwise_affine=True)\n              (dropout): Dropout(p=0.1, inplace=False)\n            )\n          )\n          (intermediate): BertIntermediate(\n            (dense): Linear(in_features=768, out_features=3072, bias=True)\n          )\n          (output): BertOutput(\n            (dense): Linear(in_features=3072, out_features=768, bias=True)\n            (LayerNorm): LayerNorm((768,), eps=1e-12, elementwise_affine=True)\n            (dropout): Dropout(p=0.1, inplace=False)\n          )\n        )\n        (1): BertLayer(\n          (attention): BertAttention(\n            (self): BertSelfAttention(\n              (query): Linear(in_features=768, out_features=768, bias=True)\n              (key): Linear(in_features=768, out_features=768, bias=True)\n              (value): Linear(in_features=768, out_features=768, bias=True)\n              (dropout): Dropout(p=0.1, inplace=False)\n            )\n            (output): BertSelfOutput(\n              (dense): Linear(in_features=768, out_features=768, bias=True)\n              (LayerNorm): LayerNorm((768,), eps=1e-12, elementwise_affine=True)\n              (dropout): Dropout(p=0.1, inplace=False)\n            )\n          )\n          (intermediate): BertIntermediate(\n            (dense): Linear(in_features=768, out_features=3072, bias=True)\n          )\n          (output): BertOutput(\n            (dense): Linear(in_features=3072, out_features=768, bias=True)\n            (LayerNorm): LayerNorm((768,), eps=1e-12, elementwise_affine=True)\n            (dropout): Dropout(p=0.1, inplace=False)\n          )\n        )\n        (2): BertLayer(\n          (attention): BertAttention(\n            (self): BertSelfAttention(\n              (query): Linear(in_features=768, out_features=768, bias=True)\n              (key): Linear(in_features=768, out_features=768, bias=True)\n              (value): Linear(in_features=768, out_features=768, bias=True)\n              (dropout): Dropout(p=0.1, inplace=False)\n            )\n            (output): BertSelfOutput(\n              (dense): Linear(in_features=768, out_features=768, bias=True)\n              (LayerNorm): LayerNorm((768,), eps=1e-12, elementwise_affine=True)\n              (dropout): Dropout(p=0.1, inplace=False)\n            )\n          )\n          (intermediate): BertIntermediate(\n            (dense): Linear(in_features=768, out_features=3072, bias=True)\n          )\n          (output): BertOutput(\n            (dense): Linear(in_features=3072, out_features=768, bias=True)\n            (LayerNorm): LayerNorm((768,), eps=1e-12, elementwise_affine=True)\n            (dropout): Dropout(p=0.1, inplace=False)\n          )\n        )\n        (3): BertLayer(\n          (attention): BertAttention(\n            (self): BertSelfAttention(\n              (query): Linear(in_features=768, out_features=768, bias=True)\n              (key): Linear(in_features=768, out_features=768, bias=True)\n              (value): Linear(in_features=768, out_features=768, bias=True)\n              (dropout): Dropout(p=0.1, inplace=False)\n            )\n            (output): BertSelfOutput(\n              (dense): Linear(in_features=768, out_features=768, bias=True)\n              (LayerNorm): LayerNorm((768,), eps=1e-12, elementwise_affine=True)\n              (dropout): Dropout(p=0.1, inplace=False)\n            )\n          )\n          (intermediate): BertIntermediate(\n            (dense): Linear(in_features=768, out_features=3072, bias=True)\n          )\n          (output): BertOutput(\n            (dense): Linear(in_features=3072, out_features=768, bias=True)\n            (LayerNorm): LayerNorm((768,), eps=1e-12, elementwise_affine=True)\n            (dropout): Dropout(p=0.1, inplace=False)\n          )\n        )\n        (4): BertLayer(\n          (attention): BertAttention(\n            (self): BertSelfAttention(\n              (query): Linear(in_features=768, out_features=768, bias=True)\n              (key): Linear(in_features=768, out_features=768, bias=True)\n              (value): Linear(in_features=768, out_features=768, bias=True)\n              (dropout): Dropout(p=0.1, inplace=False)\n            )\n            (output): BertSelfOutput(\n              (dense): Linear(in_features=768, out_features=768, bias=True)\n              (LayerNorm): LayerNorm((768,), eps=1e-12, elementwise_affine=True)\n              (dropout): Dropout(p=0.1, inplace=False)\n            )\n          )\n          (intermediate): BertIntermediate(\n            (dense): Linear(in_features=768, out_features=3072, bias=True)\n          )\n          (output): BertOutput(\n            (dense): Linear(in_features=3072, out_features=768, bias=True)\n            (LayerNorm): LayerNorm((768,), eps=1e-12, elementwise_affine=True)\n            (dropout): Dropout(p=0.1, inplace=False)\n          )\n        )\n        (5): BertLayer(\n          (attention): BertAttention(\n            (self): BertSelfAttention(\n              (query): Linear(in_features=768, out_features=768, bias=True)\n              (key): Linear(in_features=768, out_features=768, bias=True)\n              (value): Linear(in_features=768, out_features=768, bias=True)\n              (dropout): Dropout(p=0.1, inplace=False)\n            )\n            (output): BertSelfOutput(\n              (dense): Linear(in_features=768, out_features=768, bias=True)\n              (LayerNorm): LayerNorm((768,), eps=1e-12, elementwise_affine=True)\n              (dropout): Dropout(p=0.1, inplace=False)\n            )\n          )\n          (intermediate): BertIntermediate(\n            (dense): Linear(in_features=768, out_features=3072, bias=True)\n          )\n          (output): BertOutput(\n            (dense): Linear(in_features=3072, out_features=768, bias=True)\n            (LayerNorm): LayerNorm((768,), eps=1e-12, elementwise_affine=True)\n            (dropout): Dropout(p=0.1, inplace=False)\n          )\n        )\n        (6): BertLayer(\n          (attention): BertAttention(\n            (self): BertSelfAttention(\n              (query): Linear(in_features=768, out_features=768, bias=True)\n              (key): Linear(in_features=768, out_features=768, bias=True)\n              (value): Linear(in_features=768, out_features=768, bias=True)\n              (dropout): Dropout(p=0.1, inplace=False)\n            )\n            (output): BertSelfOutput(\n              (dense): Linear(in_features=768, out_features=768, bias=True)\n              (LayerNorm): LayerNorm((768,), eps=1e-12, elementwise_affine=True)\n              (dropout): Dropout(p=0.1, inplace=False)\n            )\n          )\n          (intermediate): BertIntermediate(\n            (dense): Linear(in_features=768, out_features=3072, bias=True)\n          )\n          (output): BertOutput(\n            (dense): Linear(in_features=3072, out_features=768, bias=True)\n            (LayerNorm): LayerNorm((768,), eps=1e-12, elementwise_affine=True)\n            (dropout): Dropout(p=0.1, inplace=False)\n          )\n        )\n        (7): BertLayer(\n          (attention): BertAttention(\n            (self): BertSelfAttention(\n              (query): Linear(in_features=768, out_features=768, bias=True)\n              (key): Linear(in_features=768, out_features=768, bias=True)\n              (value): Linear(in_features=768, out_features=768, bias=True)\n              (dropout): Dropout(p=0.1, inplace=False)\n            )\n            (output): BertSelfOutput(\n              (dense): Linear(in_features=768, out_features=768, bias=True)\n              (LayerNorm): LayerNorm((768,), eps=1e-12, elementwise_affine=True)\n              (dropout): Dropout(p=0.1, inplace=False)\n            )\n          )\n          (intermediate): BertIntermediate(\n            (dense): Linear(in_features=768, out_features=3072, bias=True)\n          )\n          (output): BertOutput(\n            (dense): Linear(in_features=3072, out_features=768, bias=True)\n            (LayerNorm): LayerNorm((768,), eps=1e-12, elementwise_affine=True)\n            (dropout): Dropout(p=0.1, inplace=False)\n          )\n        )\n        (8): BertLayer(\n          (attention): BertAttention(\n            (self): BertSelfAttention(\n              (query): Linear(in_features=768, out_features=768, bias=True)\n              (key): Linear(in_features=768, out_features=768, bias=True)\n              (value): Linear(in_features=768, out_features=768, bias=True)\n              (dropout): Dropout(p=0.1, inplace=False)\n            )\n            (output): BertSelfOutput(\n              (dense): Linear(in_features=768, out_features=768, bias=True)\n              (LayerNorm): LayerNorm((768,), eps=1e-12, elementwise_affine=True)\n              (dropout): Dropout(p=0.1, inplace=False)\n            )\n          )\n          (intermediate): BertIntermediate(\n            (dense): Linear(in_features=768, out_features=3072, bias=True)\n          )\n          (output): BertOutput(\n            (dense): Linear(in_features=3072, out_features=768, bias=True)\n            (LayerNorm): LayerNorm((768,), eps=1e-12, elementwise_affine=True)\n            (dropout): Dropout(p=0.1, inplace=False)\n          )\n        )\n        (9): BertLayer(\n          (attention): BertAttention(\n            (self): BertSelfAttention(\n              (query): Linear(in_features=768, out_features=768, bias=True)\n              (key): Linear(in_features=768, out_features=768, bias=True)\n              (value): Linear(in_features=768, out_features=768, bias=True)\n              (dropout): Dropout(p=0.1, inplace=False)\n            )\n            (output): BertSelfOutput(\n              (dense): Linear(in_features=768, out_features=768, bias=True)\n              (LayerNorm): LayerNorm((768,), eps=1e-12, elementwise_affine=True)\n              (dropout): Dropout(p=0.1, inplace=False)\n            )\n          )\n          (intermediate): BertIntermediate(\n            (dense): Linear(in_features=768, out_features=3072, bias=True)\n          )\n          (output): BertOutput(\n            (dense): Linear(in_features=3072, out_features=768, bias=True)\n            (LayerNorm): LayerNorm((768,), eps=1e-12, elementwise_affine=True)\n            (dropout): Dropout(p=0.1, inplace=False)\n          )\n        )\n        (10): BertLayer(\n          (attention): BertAttention(\n            (self): BertSelfAttention(\n              (query): Linear(in_features=768, out_features=768, bias=True)\n              (key): Linear(in_features=768, out_features=768, bias=True)\n              (value): Linear(in_features=768, out_features=768, bias=True)\n              (dropout): Dropout(p=0.1, inplace=False)\n            )\n            (output): BertSelfOutput(\n              (dense): Linear(in_features=768, out_features=768, bias=True)\n              (LayerNorm): LayerNorm((768,), eps=1e-12, elementwise_affine=True)\n              (dropout): Dropout(p=0.1, inplace=False)\n            )\n          )\n          (intermediate): BertIntermediate(\n            (dense): Linear(in_features=768, out_features=3072, bias=True)\n          )\n          (output): BertOutput(\n            (dense): Linear(in_features=3072, out_features=768, bias=True)\n            (LayerNorm): LayerNorm((768,), eps=1e-12, elementwise_affine=True)\n            (dropout): Dropout(p=0.1, inplace=False)\n          )\n        )\n        (11): BertLayer(\n          (attention): BertAttention(\n            (self): BertSelfAttention(\n              (query): Linear(in_features=768, out_features=768, bias=True)\n              (key): Linear(in_features=768, out_features=768, bias=True)\n              (value): Linear(in_features=768, out_features=768, bias=True)\n              (dropout): Dropout(p=0.1, inplace=False)\n            )\n            (output): BertSelfOutput(\n              (dense): Linear(in_features=768, out_features=768, bias=True)\n              (LayerNorm): LayerNorm((768,), eps=1e-12, elementwise_affine=True)\n              (dropout): Dropout(p=0.1, inplace=False)\n            )\n          )\n          (intermediate): BertIntermediate(\n            (dense): Linear(in_features=768, out_features=3072, bias=True)\n          )\n          (output): BertOutput(\n            (dense): Linear(in_features=3072, out_features=768, bias=True)\n            (LayerNorm): LayerNorm((768,), eps=1e-12, elementwise_affine=True)\n            (dropout): Dropout(p=0.1, inplace=False)\n          )\n        )\n      )\n    )\n    (pooler): BertPooler(\n      (dense): Linear(in_features=768, out_features=768, bias=True)\n      (activation): Tanh()\n    )\n  )\n  (dropout): Dropout(p=0.5, inplace=False)\n  (fc1): Linear(in_features=768, out_features=35, bias=True)\n)>\n"
     ]
    }
   ],
   "source": [
    "# Initialize model\n",
    "dropout_p = 0.5\n",
    "model = Transformer(\n",
    "    transformer=transformer, dropout_p=dropout_p,\n",
    "    embedding_dim=embedding_dim, num_classes=num_classes)\n",
    "model = model.to(device)\n",
    "print (model.named_parameters)"
   ]
  },
  {
   "cell_type": "code",
   "execution_count": 181,
   "metadata": {},
   "outputs": [],
   "source": [
    "# Arguments\n",
    "lr = 1e-4\n",
    "num_epochs = 200\n",
    "patience = 10"
   ]
  },
  {
   "cell_type": "code",
   "execution_count": 182,
   "metadata": {},
   "outputs": [],
   "source": [
    "# Define loss\n",
    "class_weights_tensor = torch.Tensor(np.array(list(class_weights.values())))\n",
    "loss_fn = nn.BCEWithLogitsLoss(weight=class_weights_tensor)"
   ]
  },
  {
   "cell_type": "code",
   "execution_count": 183,
   "metadata": {},
   "outputs": [],
   "source": [
    "# Define optimizer & scheduler\n",
    "optimizer = torch.optim.Adam(model.parameters(), lr=lr)\n",
    "scheduler = torch.optim.lr_scheduler.ReduceLROnPlateau(\n",
    "    optimizer, mode='min', factor=0.1, patience=5)"
   ]
  },
  {
   "cell_type": "code",
   "execution_count": 184,
   "metadata": {},
   "outputs": [],
   "source": [
    "# Trainer module\n",
    "trainer = Trainer(\n",
    "    model=model, device=device, loss_fn=loss_fn, \n",
    "    optimizer=optimizer, scheduler=scheduler)"
   ]
  },
  {
   "cell_type": "code",
   "execution_count": 185,
   "metadata": {},
   "outputs": [
    {
     "output_type": "error",
     "ename": "RuntimeError",
     "evalue": "CUDA out of memory. Tried to allocate 24.00 MiB (GPU 0; 4.00 GiB total capacity; 2.19 GiB already allocated; 6.45 MiB free; 2.27 GiB reserved in total by PyTorch)",
     "traceback": [
      "\u001b[1;31m---------------------------------------------------------------------------\u001b[0m",
      "\u001b[1;31mRuntimeError\u001b[0m                              Traceback (most recent call last)",
      "\u001b[1;32m<ipython-input-185-8d0f0dee99db>\u001b[0m in \u001b[0;36m<module>\u001b[1;34m\u001b[0m\n\u001b[0;32m      1\u001b[0m \u001b[1;31m# Train\u001b[0m\u001b[1;33m\u001b[0m\u001b[1;33m\u001b[0m\u001b[1;33m\u001b[0m\u001b[0m\n\u001b[0;32m      2\u001b[0m best_model = trainer.train(\n\u001b[1;32m----> 3\u001b[1;33m     num_epochs, patience, train_dataloader, val_dataloader)\n\u001b[0m",
      "\u001b[1;32m<ipython-input-57-92b71a82bb31>\u001b[0m in \u001b[0;36mtrain\u001b[1;34m(self, num_epochs, patience, train_dataloader, val_dataloader)\u001b[0m\n\u001b[0;32m     82\u001b[0m         \u001b[1;32mfor\u001b[0m \u001b[0mepoch\u001b[0m \u001b[1;32min\u001b[0m \u001b[0mrange\u001b[0m\u001b[1;33m(\u001b[0m\u001b[0mnum_epochs\u001b[0m\u001b[1;33m)\u001b[0m\u001b[1;33m:\u001b[0m\u001b[1;33m\u001b[0m\u001b[1;33m\u001b[0m\u001b[0m\n\u001b[0;32m     83\u001b[0m             \u001b[1;31m# Steps\u001b[0m\u001b[1;33m\u001b[0m\u001b[1;33m\u001b[0m\u001b[1;33m\u001b[0m\u001b[0m\n\u001b[1;32m---> 84\u001b[1;33m             \u001b[0mtrain_loss\u001b[0m \u001b[1;33m=\u001b[0m \u001b[0mself\u001b[0m\u001b[1;33m.\u001b[0m\u001b[0mtrain_step\u001b[0m\u001b[1;33m(\u001b[0m\u001b[0mdataloader\u001b[0m\u001b[1;33m=\u001b[0m\u001b[0mtrain_dataloader\u001b[0m\u001b[1;33m)\u001b[0m\u001b[1;33m\u001b[0m\u001b[1;33m\u001b[0m\u001b[0m\n\u001b[0m\u001b[0;32m     85\u001b[0m             \u001b[0mval_loss\u001b[0m\u001b[1;33m,\u001b[0m \u001b[0m_\u001b[0m\u001b[1;33m,\u001b[0m \u001b[0m_\u001b[0m \u001b[1;33m=\u001b[0m \u001b[0mself\u001b[0m\u001b[1;33m.\u001b[0m\u001b[0meval_step\u001b[0m\u001b[1;33m(\u001b[0m\u001b[0mdataloader\u001b[0m\u001b[1;33m=\u001b[0m\u001b[0mval_dataloader\u001b[0m\u001b[1;33m)\u001b[0m\u001b[1;33m\u001b[0m\u001b[1;33m\u001b[0m\u001b[0m\n\u001b[0;32m     86\u001b[0m             \u001b[0mself\u001b[0m\u001b[1;33m.\u001b[0m\u001b[0mscheduler\u001b[0m\u001b[1;33m.\u001b[0m\u001b[0mstep\u001b[0m\u001b[1;33m(\u001b[0m\u001b[0mval_loss\u001b[0m\u001b[1;33m)\u001b[0m\u001b[1;33m\u001b[0m\u001b[1;33m\u001b[0m\u001b[0m\n",
      "\u001b[1;32m<ipython-input-57-92b71a82bb31>\u001b[0m in \u001b[0;36mtrain_step\u001b[1;34m(self, dataloader)\u001b[0m\n\u001b[0;32m     22\u001b[0m             \u001b[0minputs\u001b[0m\u001b[1;33m,\u001b[0m \u001b[0mtargets\u001b[0m \u001b[1;33m=\u001b[0m \u001b[0mbatch\u001b[0m\u001b[1;33m[\u001b[0m\u001b[1;33m:\u001b[0m\u001b[1;33m-\u001b[0m\u001b[1;36m1\u001b[0m\u001b[1;33m]\u001b[0m\u001b[1;33m,\u001b[0m \u001b[0mbatch\u001b[0m\u001b[1;33m[\u001b[0m\u001b[1;33m-\u001b[0m\u001b[1;36m1\u001b[0m\u001b[1;33m]\u001b[0m\u001b[1;33m\u001b[0m\u001b[1;33m\u001b[0m\u001b[0m\n\u001b[0;32m     23\u001b[0m             \u001b[0mself\u001b[0m\u001b[1;33m.\u001b[0m\u001b[0moptimizer\u001b[0m\u001b[1;33m.\u001b[0m\u001b[0mzero_grad\u001b[0m\u001b[1;33m(\u001b[0m\u001b[1;33m)\u001b[0m  \u001b[1;31m# Reset gradients\u001b[0m\u001b[1;33m\u001b[0m\u001b[1;33m\u001b[0m\u001b[0m\n\u001b[1;32m---> 24\u001b[1;33m             \u001b[0mz\u001b[0m \u001b[1;33m=\u001b[0m \u001b[0mself\u001b[0m\u001b[1;33m.\u001b[0m\u001b[0mmodel\u001b[0m\u001b[1;33m(\u001b[0m\u001b[0minputs\u001b[0m\u001b[1;33m)\u001b[0m  \u001b[1;31m# Forward pass\u001b[0m\u001b[1;33m\u001b[0m\u001b[1;33m\u001b[0m\u001b[0m\n\u001b[0m\u001b[0;32m     25\u001b[0m             \u001b[0mJ\u001b[0m \u001b[1;33m=\u001b[0m \u001b[0mself\u001b[0m\u001b[1;33m.\u001b[0m\u001b[0mloss_fn\u001b[0m\u001b[1;33m(\u001b[0m\u001b[0mz\u001b[0m\u001b[1;33m,\u001b[0m \u001b[0mtargets\u001b[0m\u001b[1;33m)\u001b[0m  \u001b[1;31m# Define loss\u001b[0m\u001b[1;33m\u001b[0m\u001b[1;33m\u001b[0m\u001b[0m\n\u001b[0;32m     26\u001b[0m             \u001b[0mJ\u001b[0m\u001b[1;33m.\u001b[0m\u001b[0mbackward\u001b[0m\u001b[1;33m(\u001b[0m\u001b[1;33m)\u001b[0m  \u001b[1;31m# Backward pass\u001b[0m\u001b[1;33m\u001b[0m\u001b[1;33m\u001b[0m\u001b[0m\n",
      "\u001b[1;32mC:\\ProgramData\\Anaconda3\\lib\\site-packages\\torch\\nn\\modules\\module.py\u001b[0m in \u001b[0;36m_call_impl\u001b[1;34m(self, *input, **kwargs)\u001b[0m\n\u001b[0;32m    725\u001b[0m             \u001b[0mresult\u001b[0m \u001b[1;33m=\u001b[0m \u001b[0mself\u001b[0m\u001b[1;33m.\u001b[0m\u001b[0m_slow_forward\u001b[0m\u001b[1;33m(\u001b[0m\u001b[1;33m*\u001b[0m\u001b[0minput\u001b[0m\u001b[1;33m,\u001b[0m \u001b[1;33m**\u001b[0m\u001b[0mkwargs\u001b[0m\u001b[1;33m)\u001b[0m\u001b[1;33m\u001b[0m\u001b[1;33m\u001b[0m\u001b[0m\n\u001b[0;32m    726\u001b[0m         \u001b[1;32melse\u001b[0m\u001b[1;33m:\u001b[0m\u001b[1;33m\u001b[0m\u001b[1;33m\u001b[0m\u001b[0m\n\u001b[1;32m--> 727\u001b[1;33m             \u001b[0mresult\u001b[0m \u001b[1;33m=\u001b[0m \u001b[0mself\u001b[0m\u001b[1;33m.\u001b[0m\u001b[0mforward\u001b[0m\u001b[1;33m(\u001b[0m\u001b[1;33m*\u001b[0m\u001b[0minput\u001b[0m\u001b[1;33m,\u001b[0m \u001b[1;33m**\u001b[0m\u001b[0mkwargs\u001b[0m\u001b[1;33m)\u001b[0m\u001b[1;33m\u001b[0m\u001b[1;33m\u001b[0m\u001b[0m\n\u001b[0m\u001b[0;32m    728\u001b[0m         for hook in itertools.chain(\n\u001b[0;32m    729\u001b[0m                 \u001b[0m_global_forward_hooks\u001b[0m\u001b[1;33m.\u001b[0m\u001b[0mvalues\u001b[0m\u001b[1;33m(\u001b[0m\u001b[1;33m)\u001b[0m\u001b[1;33m,\u001b[0m\u001b[1;33m\u001b[0m\u001b[1;33m\u001b[0m\u001b[0m\n",
      "\u001b[1;32m<ipython-input-179-84a08ca4bd6c>\u001b[0m in \u001b[0;36mforward\u001b[1;34m(self, inputs)\u001b[0m\n\u001b[0;32m      8\u001b[0m     \u001b[1;32mdef\u001b[0m \u001b[0mforward\u001b[0m\u001b[1;33m(\u001b[0m\u001b[0mself\u001b[0m\u001b[1;33m,\u001b[0m \u001b[0minputs\u001b[0m\u001b[1;33m)\u001b[0m\u001b[1;33m:\u001b[0m\u001b[1;33m\u001b[0m\u001b[1;33m\u001b[0m\u001b[0m\n\u001b[0;32m      9\u001b[0m         \u001b[0mids\u001b[0m\u001b[1;33m,\u001b[0m \u001b[0mmasks\u001b[0m \u001b[1;33m=\u001b[0m \u001b[0minputs\u001b[0m\u001b[1;33m\u001b[0m\u001b[1;33m\u001b[0m\u001b[0m\n\u001b[1;32m---> 10\u001b[1;33m         \u001b[0mseq\u001b[0m\u001b[1;33m,\u001b[0m \u001b[0mpool\u001b[0m \u001b[1;33m=\u001b[0m \u001b[0mself\u001b[0m\u001b[1;33m.\u001b[0m\u001b[0mtransformer\u001b[0m\u001b[1;33m(\u001b[0m\u001b[0minput_ids\u001b[0m\u001b[1;33m=\u001b[0m\u001b[0mids\u001b[0m\u001b[1;33m,\u001b[0m \u001b[0mattention_mask\u001b[0m\u001b[1;33m=\u001b[0m\u001b[0mmasks\u001b[0m\u001b[1;33m)\u001b[0m\u001b[1;33m\u001b[0m\u001b[1;33m\u001b[0m\u001b[0m\n\u001b[0m\u001b[0;32m     11\u001b[0m         \u001b[0mz\u001b[0m \u001b[1;33m=\u001b[0m \u001b[0mself\u001b[0m\u001b[1;33m.\u001b[0m\u001b[0mdropout\u001b[0m\u001b[1;33m(\u001b[0m\u001b[0mpool\u001b[0m\u001b[1;33m)\u001b[0m\u001b[1;33m\u001b[0m\u001b[1;33m\u001b[0m\u001b[0m\n\u001b[0;32m     12\u001b[0m         \u001b[0mz\u001b[0m \u001b[1;33m=\u001b[0m \u001b[0mself\u001b[0m\u001b[1;33m.\u001b[0m\u001b[0mfc1\u001b[0m\u001b[1;33m(\u001b[0m\u001b[0mz\u001b[0m\u001b[1;33m)\u001b[0m\u001b[1;33m\u001b[0m\u001b[1;33m\u001b[0m\u001b[0m\n",
      "\u001b[1;32mC:\\ProgramData\\Anaconda3\\lib\\site-packages\\torch\\nn\\modules\\module.py\u001b[0m in \u001b[0;36m_call_impl\u001b[1;34m(self, *input, **kwargs)\u001b[0m\n\u001b[0;32m    725\u001b[0m             \u001b[0mresult\u001b[0m \u001b[1;33m=\u001b[0m \u001b[0mself\u001b[0m\u001b[1;33m.\u001b[0m\u001b[0m_slow_forward\u001b[0m\u001b[1;33m(\u001b[0m\u001b[1;33m*\u001b[0m\u001b[0minput\u001b[0m\u001b[1;33m,\u001b[0m \u001b[1;33m**\u001b[0m\u001b[0mkwargs\u001b[0m\u001b[1;33m)\u001b[0m\u001b[1;33m\u001b[0m\u001b[1;33m\u001b[0m\u001b[0m\n\u001b[0;32m    726\u001b[0m         \u001b[1;32melse\u001b[0m\u001b[1;33m:\u001b[0m\u001b[1;33m\u001b[0m\u001b[1;33m\u001b[0m\u001b[0m\n\u001b[1;32m--> 727\u001b[1;33m             \u001b[0mresult\u001b[0m \u001b[1;33m=\u001b[0m \u001b[0mself\u001b[0m\u001b[1;33m.\u001b[0m\u001b[0mforward\u001b[0m\u001b[1;33m(\u001b[0m\u001b[1;33m*\u001b[0m\u001b[0minput\u001b[0m\u001b[1;33m,\u001b[0m \u001b[1;33m**\u001b[0m\u001b[0mkwargs\u001b[0m\u001b[1;33m)\u001b[0m\u001b[1;33m\u001b[0m\u001b[1;33m\u001b[0m\u001b[0m\n\u001b[0m\u001b[0;32m    728\u001b[0m         for hook in itertools.chain(\n\u001b[0;32m    729\u001b[0m                 \u001b[0m_global_forward_hooks\u001b[0m\u001b[1;33m.\u001b[0m\u001b[0mvalues\u001b[0m\u001b[1;33m(\u001b[0m\u001b[1;33m)\u001b[0m\u001b[1;33m,\u001b[0m\u001b[1;33m\u001b[0m\u001b[1;33m\u001b[0m\u001b[0m\n",
      "\u001b[1;32mC:\\ProgramData\\Anaconda3\\lib\\site-packages\\transformers\\models\\bert\\modeling_bert.py\u001b[0m in \u001b[0;36mforward\u001b[1;34m(self, input_ids, attention_mask, token_type_ids, position_ids, head_mask, inputs_embeds, encoder_hidden_states, encoder_attention_mask, output_attentions, output_hidden_states, return_dict)\u001b[0m\n\u001b[0;32m    851\u001b[0m             \u001b[0moutput_attentions\u001b[0m\u001b[1;33m=\u001b[0m\u001b[0moutput_attentions\u001b[0m\u001b[1;33m,\u001b[0m\u001b[1;33m\u001b[0m\u001b[1;33m\u001b[0m\u001b[0m\n\u001b[0;32m    852\u001b[0m             \u001b[0moutput_hidden_states\u001b[0m\u001b[1;33m=\u001b[0m\u001b[0moutput_hidden_states\u001b[0m\u001b[1;33m,\u001b[0m\u001b[1;33m\u001b[0m\u001b[1;33m\u001b[0m\u001b[0m\n\u001b[1;32m--> 853\u001b[1;33m             \u001b[0mreturn_dict\u001b[0m\u001b[1;33m=\u001b[0m\u001b[0mreturn_dict\u001b[0m\u001b[1;33m,\u001b[0m\u001b[1;33m\u001b[0m\u001b[1;33m\u001b[0m\u001b[0m\n\u001b[0m\u001b[0;32m    854\u001b[0m         )\n\u001b[0;32m    855\u001b[0m         \u001b[0msequence_output\u001b[0m \u001b[1;33m=\u001b[0m \u001b[0mencoder_outputs\u001b[0m\u001b[1;33m[\u001b[0m\u001b[1;36m0\u001b[0m\u001b[1;33m]\u001b[0m\u001b[1;33m\u001b[0m\u001b[1;33m\u001b[0m\u001b[0m\n",
      "\u001b[1;32mC:\\ProgramData\\Anaconda3\\lib\\site-packages\\torch\\nn\\modules\\module.py\u001b[0m in \u001b[0;36m_call_impl\u001b[1;34m(self, *input, **kwargs)\u001b[0m\n\u001b[0;32m    725\u001b[0m             \u001b[0mresult\u001b[0m \u001b[1;33m=\u001b[0m \u001b[0mself\u001b[0m\u001b[1;33m.\u001b[0m\u001b[0m_slow_forward\u001b[0m\u001b[1;33m(\u001b[0m\u001b[1;33m*\u001b[0m\u001b[0minput\u001b[0m\u001b[1;33m,\u001b[0m \u001b[1;33m**\u001b[0m\u001b[0mkwargs\u001b[0m\u001b[1;33m)\u001b[0m\u001b[1;33m\u001b[0m\u001b[1;33m\u001b[0m\u001b[0m\n\u001b[0;32m    726\u001b[0m         \u001b[1;32melse\u001b[0m\u001b[1;33m:\u001b[0m\u001b[1;33m\u001b[0m\u001b[1;33m\u001b[0m\u001b[0m\n\u001b[1;32m--> 727\u001b[1;33m             \u001b[0mresult\u001b[0m \u001b[1;33m=\u001b[0m \u001b[0mself\u001b[0m\u001b[1;33m.\u001b[0m\u001b[0mforward\u001b[0m\u001b[1;33m(\u001b[0m\u001b[1;33m*\u001b[0m\u001b[0minput\u001b[0m\u001b[1;33m,\u001b[0m \u001b[1;33m**\u001b[0m\u001b[0mkwargs\u001b[0m\u001b[1;33m)\u001b[0m\u001b[1;33m\u001b[0m\u001b[1;33m\u001b[0m\u001b[0m\n\u001b[0m\u001b[0;32m    728\u001b[0m         for hook in itertools.chain(\n\u001b[0;32m    729\u001b[0m                 \u001b[0m_global_forward_hooks\u001b[0m\u001b[1;33m.\u001b[0m\u001b[0mvalues\u001b[0m\u001b[1;33m(\u001b[0m\u001b[1;33m)\u001b[0m\u001b[1;33m,\u001b[0m\u001b[1;33m\u001b[0m\u001b[1;33m\u001b[0m\u001b[0m\n",
      "\u001b[1;32mC:\\ProgramData\\Anaconda3\\lib\\site-packages\\transformers\\models\\bert\\modeling_bert.py\u001b[0m in \u001b[0;36mforward\u001b[1;34m(self, hidden_states, attention_mask, head_mask, encoder_hidden_states, encoder_attention_mask, output_attentions, output_hidden_states, return_dict)\u001b[0m\n\u001b[0;32m    486\u001b[0m                     \u001b[0mencoder_hidden_states\u001b[0m\u001b[1;33m,\u001b[0m\u001b[1;33m\u001b[0m\u001b[1;33m\u001b[0m\u001b[0m\n\u001b[0;32m    487\u001b[0m                     \u001b[0mencoder_attention_mask\u001b[0m\u001b[1;33m,\u001b[0m\u001b[1;33m\u001b[0m\u001b[1;33m\u001b[0m\u001b[0m\n\u001b[1;32m--> 488\u001b[1;33m                     \u001b[0moutput_attentions\u001b[0m\u001b[1;33m,\u001b[0m\u001b[1;33m\u001b[0m\u001b[1;33m\u001b[0m\u001b[0m\n\u001b[0m\u001b[0;32m    489\u001b[0m                 )\n\u001b[0;32m    490\u001b[0m             \u001b[0mhidden_states\u001b[0m \u001b[1;33m=\u001b[0m \u001b[0mlayer_outputs\u001b[0m\u001b[1;33m[\u001b[0m\u001b[1;36m0\u001b[0m\u001b[1;33m]\u001b[0m\u001b[1;33m\u001b[0m\u001b[1;33m\u001b[0m\u001b[0m\n",
      "\u001b[1;32mC:\\ProgramData\\Anaconda3\\lib\\site-packages\\torch\\nn\\modules\\module.py\u001b[0m in \u001b[0;36m_call_impl\u001b[1;34m(self, *input, **kwargs)\u001b[0m\n\u001b[0;32m    725\u001b[0m             \u001b[0mresult\u001b[0m \u001b[1;33m=\u001b[0m \u001b[0mself\u001b[0m\u001b[1;33m.\u001b[0m\u001b[0m_slow_forward\u001b[0m\u001b[1;33m(\u001b[0m\u001b[1;33m*\u001b[0m\u001b[0minput\u001b[0m\u001b[1;33m,\u001b[0m \u001b[1;33m**\u001b[0m\u001b[0mkwargs\u001b[0m\u001b[1;33m)\u001b[0m\u001b[1;33m\u001b[0m\u001b[1;33m\u001b[0m\u001b[0m\n\u001b[0;32m    726\u001b[0m         \u001b[1;32melse\u001b[0m\u001b[1;33m:\u001b[0m\u001b[1;33m\u001b[0m\u001b[1;33m\u001b[0m\u001b[0m\n\u001b[1;32m--> 727\u001b[1;33m             \u001b[0mresult\u001b[0m \u001b[1;33m=\u001b[0m \u001b[0mself\u001b[0m\u001b[1;33m.\u001b[0m\u001b[0mforward\u001b[0m\u001b[1;33m(\u001b[0m\u001b[1;33m*\u001b[0m\u001b[0minput\u001b[0m\u001b[1;33m,\u001b[0m \u001b[1;33m**\u001b[0m\u001b[0mkwargs\u001b[0m\u001b[1;33m)\u001b[0m\u001b[1;33m\u001b[0m\u001b[1;33m\u001b[0m\u001b[0m\n\u001b[0m\u001b[0;32m    728\u001b[0m         for hook in itertools.chain(\n\u001b[0;32m    729\u001b[0m                 \u001b[0m_global_forward_hooks\u001b[0m\u001b[1;33m.\u001b[0m\u001b[0mvalues\u001b[0m\u001b[1;33m(\u001b[0m\u001b[1;33m)\u001b[0m\u001b[1;33m,\u001b[0m\u001b[1;33m\u001b[0m\u001b[1;33m\u001b[0m\u001b[0m\n",
      "\u001b[1;32mC:\\ProgramData\\Anaconda3\\lib\\site-packages\\transformers\\models\\bert\\modeling_bert.py\u001b[0m in \u001b[0;36mforward\u001b[1;34m(self, hidden_states, attention_mask, head_mask, encoder_hidden_states, encoder_attention_mask, output_attentions)\u001b[0m\n\u001b[0;32m    426\u001b[0m \u001b[1;33m\u001b[0m\u001b[0m\n\u001b[0;32m    427\u001b[0m         layer_output = apply_chunking_to_forward(\n\u001b[1;32m--> 428\u001b[1;33m             \u001b[0mself\u001b[0m\u001b[1;33m.\u001b[0m\u001b[0mfeed_forward_chunk\u001b[0m\u001b[1;33m,\u001b[0m \u001b[0mself\u001b[0m\u001b[1;33m.\u001b[0m\u001b[0mchunk_size_feed_forward\u001b[0m\u001b[1;33m,\u001b[0m \u001b[0mself\u001b[0m\u001b[1;33m.\u001b[0m\u001b[0mseq_len_dim\u001b[0m\u001b[1;33m,\u001b[0m \u001b[0mattention_output\u001b[0m\u001b[1;33m\u001b[0m\u001b[1;33m\u001b[0m\u001b[0m\n\u001b[0m\u001b[0;32m    429\u001b[0m         )\n\u001b[0;32m    430\u001b[0m         \u001b[0moutputs\u001b[0m \u001b[1;33m=\u001b[0m \u001b[1;33m(\u001b[0m\u001b[0mlayer_output\u001b[0m\u001b[1;33m,\u001b[0m\u001b[1;33m)\u001b[0m \u001b[1;33m+\u001b[0m \u001b[0moutputs\u001b[0m\u001b[1;33m\u001b[0m\u001b[1;33m\u001b[0m\u001b[0m\n",
      "\u001b[1;32mC:\\ProgramData\\Anaconda3\\lib\\site-packages\\transformers\\modeling_utils.py\u001b[0m in \u001b[0;36mapply_chunking_to_forward\u001b[1;34m(forward_fn, chunk_size, chunk_dim, *input_tensors)\u001b[0m\n\u001b[0;32m   1698\u001b[0m         \u001b[1;32mreturn\u001b[0m \u001b[0mtorch\u001b[0m\u001b[1;33m.\u001b[0m\u001b[0mcat\u001b[0m\u001b[1;33m(\u001b[0m\u001b[0moutput_chunks\u001b[0m\u001b[1;33m,\u001b[0m \u001b[0mdim\u001b[0m\u001b[1;33m=\u001b[0m\u001b[0mchunk_dim\u001b[0m\u001b[1;33m)\u001b[0m\u001b[1;33m\u001b[0m\u001b[1;33m\u001b[0m\u001b[0m\n\u001b[0;32m   1699\u001b[0m \u001b[1;33m\u001b[0m\u001b[0m\n\u001b[1;32m-> 1700\u001b[1;33m     \u001b[1;32mreturn\u001b[0m \u001b[0mforward_fn\u001b[0m\u001b[1;33m(\u001b[0m\u001b[1;33m*\u001b[0m\u001b[0minput_tensors\u001b[0m\u001b[1;33m)\u001b[0m\u001b[1;33m\u001b[0m\u001b[1;33m\u001b[0m\u001b[0m\n\u001b[0m",
      "\u001b[1;32mC:\\ProgramData\\Anaconda3\\lib\\site-packages\\transformers\\models\\bert\\modeling_bert.py\u001b[0m in \u001b[0;36mfeed_forward_chunk\u001b[1;34m(self, attention_output)\u001b[0m\n\u001b[0;32m    433\u001b[0m     \u001b[1;32mdef\u001b[0m \u001b[0mfeed_forward_chunk\u001b[0m\u001b[1;33m(\u001b[0m\u001b[0mself\u001b[0m\u001b[1;33m,\u001b[0m \u001b[0mattention_output\u001b[0m\u001b[1;33m)\u001b[0m\u001b[1;33m:\u001b[0m\u001b[1;33m\u001b[0m\u001b[1;33m\u001b[0m\u001b[0m\n\u001b[0;32m    434\u001b[0m         \u001b[0mintermediate_output\u001b[0m \u001b[1;33m=\u001b[0m \u001b[0mself\u001b[0m\u001b[1;33m.\u001b[0m\u001b[0mintermediate\u001b[0m\u001b[1;33m(\u001b[0m\u001b[0mattention_output\u001b[0m\u001b[1;33m)\u001b[0m\u001b[1;33m\u001b[0m\u001b[1;33m\u001b[0m\u001b[0m\n\u001b[1;32m--> 435\u001b[1;33m         \u001b[0mlayer_output\u001b[0m \u001b[1;33m=\u001b[0m \u001b[0mself\u001b[0m\u001b[1;33m.\u001b[0m\u001b[0moutput\u001b[0m\u001b[1;33m(\u001b[0m\u001b[0mintermediate_output\u001b[0m\u001b[1;33m,\u001b[0m \u001b[0mattention_output\u001b[0m\u001b[1;33m)\u001b[0m\u001b[1;33m\u001b[0m\u001b[1;33m\u001b[0m\u001b[0m\n\u001b[0m\u001b[0;32m    436\u001b[0m         \u001b[1;32mreturn\u001b[0m \u001b[0mlayer_output\u001b[0m\u001b[1;33m\u001b[0m\u001b[1;33m\u001b[0m\u001b[0m\n\u001b[0;32m    437\u001b[0m \u001b[1;33m\u001b[0m\u001b[0m\n",
      "\u001b[1;32mC:\\ProgramData\\Anaconda3\\lib\\site-packages\\torch\\nn\\modules\\module.py\u001b[0m in \u001b[0;36m_call_impl\u001b[1;34m(self, *input, **kwargs)\u001b[0m\n\u001b[0;32m    725\u001b[0m             \u001b[0mresult\u001b[0m \u001b[1;33m=\u001b[0m \u001b[0mself\u001b[0m\u001b[1;33m.\u001b[0m\u001b[0m_slow_forward\u001b[0m\u001b[1;33m(\u001b[0m\u001b[1;33m*\u001b[0m\u001b[0minput\u001b[0m\u001b[1;33m,\u001b[0m \u001b[1;33m**\u001b[0m\u001b[0mkwargs\u001b[0m\u001b[1;33m)\u001b[0m\u001b[1;33m\u001b[0m\u001b[1;33m\u001b[0m\u001b[0m\n\u001b[0;32m    726\u001b[0m         \u001b[1;32melse\u001b[0m\u001b[1;33m:\u001b[0m\u001b[1;33m\u001b[0m\u001b[1;33m\u001b[0m\u001b[0m\n\u001b[1;32m--> 727\u001b[1;33m             \u001b[0mresult\u001b[0m \u001b[1;33m=\u001b[0m \u001b[0mself\u001b[0m\u001b[1;33m.\u001b[0m\u001b[0mforward\u001b[0m\u001b[1;33m(\u001b[0m\u001b[1;33m*\u001b[0m\u001b[0minput\u001b[0m\u001b[1;33m,\u001b[0m \u001b[1;33m**\u001b[0m\u001b[0mkwargs\u001b[0m\u001b[1;33m)\u001b[0m\u001b[1;33m\u001b[0m\u001b[1;33m\u001b[0m\u001b[0m\n\u001b[0m\u001b[0;32m    728\u001b[0m         for hook in itertools.chain(\n\u001b[0;32m    729\u001b[0m                 \u001b[0m_global_forward_hooks\u001b[0m\u001b[1;33m.\u001b[0m\u001b[0mvalues\u001b[0m\u001b[1;33m(\u001b[0m\u001b[1;33m)\u001b[0m\u001b[1;33m,\u001b[0m\u001b[1;33m\u001b[0m\u001b[1;33m\u001b[0m\u001b[0m\n",
      "\u001b[1;32mC:\\ProgramData\\Anaconda3\\lib\\site-packages\\transformers\\models\\bert\\modeling_bert.py\u001b[0m in \u001b[0;36mforward\u001b[1;34m(self, hidden_states, input_tensor)\u001b[0m\n\u001b[0;32m    374\u001b[0m         \u001b[0mhidden_states\u001b[0m \u001b[1;33m=\u001b[0m \u001b[0mself\u001b[0m\u001b[1;33m.\u001b[0m\u001b[0mdense\u001b[0m\u001b[1;33m(\u001b[0m\u001b[0mhidden_states\u001b[0m\u001b[1;33m)\u001b[0m\u001b[1;33m\u001b[0m\u001b[1;33m\u001b[0m\u001b[0m\n\u001b[0;32m    375\u001b[0m         \u001b[0mhidden_states\u001b[0m \u001b[1;33m=\u001b[0m \u001b[0mself\u001b[0m\u001b[1;33m.\u001b[0m\u001b[0mdropout\u001b[0m\u001b[1;33m(\u001b[0m\u001b[0mhidden_states\u001b[0m\u001b[1;33m)\u001b[0m\u001b[1;33m\u001b[0m\u001b[1;33m\u001b[0m\u001b[0m\n\u001b[1;32m--> 376\u001b[1;33m         \u001b[0mhidden_states\u001b[0m \u001b[1;33m=\u001b[0m \u001b[0mself\u001b[0m\u001b[1;33m.\u001b[0m\u001b[0mLayerNorm\u001b[0m\u001b[1;33m(\u001b[0m\u001b[0mhidden_states\u001b[0m \u001b[1;33m+\u001b[0m \u001b[0minput_tensor\u001b[0m\u001b[1;33m)\u001b[0m\u001b[1;33m\u001b[0m\u001b[1;33m\u001b[0m\u001b[0m\n\u001b[0m\u001b[0;32m    377\u001b[0m         \u001b[1;32mreturn\u001b[0m \u001b[0mhidden_states\u001b[0m\u001b[1;33m\u001b[0m\u001b[1;33m\u001b[0m\u001b[0m\n\u001b[0;32m    378\u001b[0m \u001b[1;33m\u001b[0m\u001b[0m\n",
      "\u001b[1;32mC:\\ProgramData\\Anaconda3\\lib\\site-packages\\torch\\nn\\modules\\module.py\u001b[0m in \u001b[0;36m_call_impl\u001b[1;34m(self, *input, **kwargs)\u001b[0m\n\u001b[0;32m    725\u001b[0m             \u001b[0mresult\u001b[0m \u001b[1;33m=\u001b[0m \u001b[0mself\u001b[0m\u001b[1;33m.\u001b[0m\u001b[0m_slow_forward\u001b[0m\u001b[1;33m(\u001b[0m\u001b[1;33m*\u001b[0m\u001b[0minput\u001b[0m\u001b[1;33m,\u001b[0m \u001b[1;33m**\u001b[0m\u001b[0mkwargs\u001b[0m\u001b[1;33m)\u001b[0m\u001b[1;33m\u001b[0m\u001b[1;33m\u001b[0m\u001b[0m\n\u001b[0;32m    726\u001b[0m         \u001b[1;32melse\u001b[0m\u001b[1;33m:\u001b[0m\u001b[1;33m\u001b[0m\u001b[1;33m\u001b[0m\u001b[0m\n\u001b[1;32m--> 727\u001b[1;33m             \u001b[0mresult\u001b[0m \u001b[1;33m=\u001b[0m \u001b[0mself\u001b[0m\u001b[1;33m.\u001b[0m\u001b[0mforward\u001b[0m\u001b[1;33m(\u001b[0m\u001b[1;33m*\u001b[0m\u001b[0minput\u001b[0m\u001b[1;33m,\u001b[0m \u001b[1;33m**\u001b[0m\u001b[0mkwargs\u001b[0m\u001b[1;33m)\u001b[0m\u001b[1;33m\u001b[0m\u001b[1;33m\u001b[0m\u001b[0m\n\u001b[0m\u001b[0;32m    728\u001b[0m         for hook in itertools.chain(\n\u001b[0;32m    729\u001b[0m                 \u001b[0m_global_forward_hooks\u001b[0m\u001b[1;33m.\u001b[0m\u001b[0mvalues\u001b[0m\u001b[1;33m(\u001b[0m\u001b[1;33m)\u001b[0m\u001b[1;33m,\u001b[0m\u001b[1;33m\u001b[0m\u001b[1;33m\u001b[0m\u001b[0m\n",
      "\u001b[1;32mC:\\ProgramData\\Anaconda3\\lib\\site-packages\\torch\\nn\\modules\\normalization.py\u001b[0m in \u001b[0;36mforward\u001b[1;34m(self, input)\u001b[0m\n\u001b[0;32m    168\u001b[0m     \u001b[1;32mdef\u001b[0m \u001b[0mforward\u001b[0m\u001b[1;33m(\u001b[0m\u001b[0mself\u001b[0m\u001b[1;33m,\u001b[0m \u001b[0minput\u001b[0m\u001b[1;33m:\u001b[0m \u001b[0mTensor\u001b[0m\u001b[1;33m)\u001b[0m \u001b[1;33m->\u001b[0m \u001b[0mTensor\u001b[0m\u001b[1;33m:\u001b[0m\u001b[1;33m\u001b[0m\u001b[1;33m\u001b[0m\u001b[0m\n\u001b[0;32m    169\u001b[0m         return F.layer_norm(\n\u001b[1;32m--> 170\u001b[1;33m             input, self.normalized_shape, self.weight, self.bias, self.eps)\n\u001b[0m\u001b[0;32m    171\u001b[0m \u001b[1;33m\u001b[0m\u001b[0m\n\u001b[0;32m    172\u001b[0m     \u001b[1;32mdef\u001b[0m \u001b[0mextra_repr\u001b[0m\u001b[1;33m(\u001b[0m\u001b[0mself\u001b[0m\u001b[1;33m)\u001b[0m \u001b[1;33m->\u001b[0m \u001b[0mTensor\u001b[0m\u001b[1;33m:\u001b[0m\u001b[1;33m\u001b[0m\u001b[1;33m\u001b[0m\u001b[0m\n",
      "\u001b[1;32mC:\\ProgramData\\Anaconda3\\lib\\site-packages\\torch\\nn\\functional.py\u001b[0m in \u001b[0;36mlayer_norm\u001b[1;34m(input, normalized_shape, weight, bias, eps)\u001b[0m\n\u001b[0;32m   2093\u001b[0m                 layer_norm, (input,), input, normalized_shape, weight=weight, bias=bias, eps=eps)\n\u001b[0;32m   2094\u001b[0m     return torch.layer_norm(input, normalized_shape, weight, bias, eps,\n\u001b[1;32m-> 2095\u001b[1;33m                             torch.backends.cudnn.enabled)\n\u001b[0m\u001b[0;32m   2096\u001b[0m \u001b[1;33m\u001b[0m\u001b[0m\n\u001b[0;32m   2097\u001b[0m \u001b[1;33m\u001b[0m\u001b[0m\n",
      "\u001b[1;31mRuntimeError\u001b[0m: CUDA out of memory. Tried to allocate 24.00 MiB (GPU 0; 4.00 GiB total capacity; 2.19 GiB already allocated; 6.45 MiB free; 2.27 GiB reserved in total by PyTorch)"
     ]
    }
   ],
   "source": [
    "# Train\n",
    "best_model = trainer.train(\n",
    "    num_epochs, patience, train_dataloader, val_dataloader)"
   ]
  },
  {
   "source": [
    "# Tracking Experiments"
   ],
   "cell_type": "markdown",
   "metadata": {}
  },
  {
   "cell_type": "code",
   "execution_count": 186,
   "metadata": {},
   "outputs": [],
   "source": [
    "from argparse import Namespace\n",
    "import mlflow\n",
    "from pathlib import Path"
   ]
  },
  {
   "cell_type": "code",
   "execution_count": 187,
   "metadata": {},
   "outputs": [],
   "source": [
    "# Specify arguments\n",
    "args = Namespace(\n",
    "    char_level=True,\n",
    "    filter_sizes=list(range(1, 11)),\n",
    "    batch_size=64,\n",
    "    embedding_dim=128,\n",
    "    num_filters=128,\n",
    "    hidden_dim=128,\n",
    "    dropout_p=0.5,\n",
    "    lr=2e-4,\n",
    "    num_epochs=200,\n",
    "    patience=10,\n",
    ")"
   ]
  },
  {
   "cell_type": "code",
   "execution_count": 188,
   "metadata": {},
   "outputs": [],
   "source": [
    "# Set tracking URI\n",
    "EXPERIMENTS_DIR = Path(\"experiments\")\n",
    "Path(EXPERIMENTS_DIR).mkdir(exist_ok=True) # create experiments dir\n",
    "mlflow.set_tracking_uri(\"file:\\\\\" + str(EXPERIMENTS_DIR.absolute()))"
   ]
  },
  {
   "cell_type": "code",
   "execution_count": 189,
   "metadata": {},
   "outputs": [],
   "source": [
    "# Trainer (modified for experiment tracking)\n",
    "class Trainer(object):\n",
    "    def __init__(self, model, device, loss_fn=None,\n",
    "                optimizer=None, scheduler=None):\n",
    "\n",
    "        # Set params\n",
    "        self.model = model\n",
    "        self.device = device\n",
    "        self.loss_fn = loss_fn\n",
    "        self.optimizer = optimizer\n",
    "        self.scheduler = scheduler\n",
    "\n",
    "    def train_step(self, dataloader):\n",
    "        \"\"\"Train step.\"\"\"\n",
    "        # Set model to train mode\n",
    "        self.model.train()\n",
    "        loss = 0.0\n",
    "\n",
    "        # Iterate over train batches\n",
    "        for i, batch in enumerate(dataloader):\n",
    "            # Step\n",
    "            batch = [item.to(self.device) for item in batch]\n",
    "            inputs, targets = batch[:-1], batch[-1]\n",
    "            self.optimizer.zero_grad()  # Reset gradients\n",
    "            z = self.model(inputs)  # Forward pass\n",
    "            J = self.loss_fn(z, targets)  # Define loss\n",
    "            J.backward()  # Backward pass\n",
    "            self.optimizer.step()  # Update weights\n",
    "\n",
    "            # Cumulative Metrics\n",
    "            loss += (J.detach().item() - loss) / (i + 1)\n",
    "\n",
    "        return loss\n",
    "\n",
    "    def eval_step(self, dataloader):\n",
    "        \"\"\"Validation or test step.\"\"\"\n",
    "        # Set model to eval mode\n",
    "        self.model.eval()\n",
    "        loss = 0.0\n",
    "        y_trues, y_probs = [], []\n",
    "\n",
    "        # Iterate over val batches\n",
    "        with torch.no_grad():\n",
    "            for i, batch in enumerate(dataloader):\n",
    "\n",
    "                # Step\n",
    "                batch = [item.to(self.device) for item in batch]  # Set device\n",
    "                inputs, y_true = batch[:-1], batch[-1]\n",
    "                z = self.model(inputs)  # Forward pass\n",
    "                J = self.loss_fn(z, y_true).item()\n",
    "\n",
    "                # Cumulative Metrics\n",
    "                loss += (J - loss) / (i + 1)\n",
    "\n",
    "                # Store outputs\n",
    "                y_prob = torch.sigmoid(z).cpu().numpy()\n",
    "                y_probs.extend(y_prob)\n",
    "                y_trues.extend(y_true.cpu().numpy())\n",
    "\n",
    "        return loss, np.vstack(y_trues), np.vstack(y_probs)\n",
    "\n",
    "    def predict_step(self, dataloader):\n",
    "        \"\"\"Prediction step.\"\"\"\n",
    "        # Set model to eval mode\n",
    "        self.model.eval()\n",
    "        y_probs = []\n",
    "\n",
    "        # Iterate over val batches\n",
    "        with torch.no_grad():\n",
    "            for i, batch in enumerate(dataloader):\n",
    "\n",
    "                # Forward pass w/ inputs\n",
    "                inputs, targets = batch[:-1], batch[-1]\n",
    "                y_prob = self.model(inputs)\n",
    "\n",
    "                # Store outputs\n",
    "                y_probs.extend(y_prob)\n",
    "\n",
    "        return np.vstack(y_probs)\n",
    "\n",
    "    def train(self, num_epochs, patience, train_dataloader, val_dataloader):\n",
    "        best_val_loss = np.inf\n",
    "        for epoch in range(num_epochs):\n",
    "            # Steps\n",
    "            train_loss = self.train_step(dataloader=train_dataloader)\n",
    "            val_loss, _, _ = self.eval_step(dataloader=val_dataloader)\n",
    "            self.scheduler.step(val_loss)\n",
    "\n",
    "            # Early stopping\n",
    "            if val_loss < best_val_loss:\n",
    "                best_val_loss = val_loss\n",
    "                best_model = self.model\n",
    "                _patience = patience  # reset _patience\n",
    "            else:\n",
    "                _patience -= 1\n",
    "            if not _patience:  # 0\n",
    "                print(\"Stopping early!\")\n",
    "                break\n",
    "\n",
    "            # Tracking\n",
    "            mlflow.log_metrics(\n",
    "                {\"train_loss\": train_loss, \"val_loss\": val_loss}, step=epoch\n",
    "            )\n",
    "\n",
    "            # Logging\n",
    "            print(\n",
    "                f\"Epoch: {epoch+1} | \"\n",
    "                f\"train_loss: {train_loss:.5f}, \"\n",
    "                f\"val_loss: {val_loss:.5f}, \"\n",
    "                f\"lr: {self.optimizer.param_groups[0]['lr']:.2E}, \"\n",
    "                f\"_patience: {_patience}\"\n",
    "            )\n",
    "\n",
    "        return best_model, best_val_loss"
   ]
  },
  {
   "cell_type": "code",
   "execution_count": 190,
   "metadata": {},
   "outputs": [],
   "source": [
    "#Training the cnn function\n",
    "def train_cnn(args, df):\n",
    "    \"\"\"Train a CNN using specific arguments.\"\"\"\n",
    "\n",
    "    # Set seeds\n",
    "    set_seed()\n",
    "\n",
    "    # Get data splits\n",
    "    preprocessed_df = df.copy()\n",
    "    preprocessed_df.text = preprocessed_df.text.apply(preprocess, lower=True)\n",
    "    X_train, X_val, X_test, y_train, y_val, y_test, label_encoder = get_data_splits(preprocessed_df)\n",
    "    X_test_raw = X_test\n",
    "    num_classes = len(label_encoder)\n",
    "\n",
    "    # Set device\n",
    "    cuda = True\n",
    "    device = torch.device('cuda' if (\n",
    "        torch.cuda.is_available() and cuda) else 'cpu')\n",
    "    torch.set_default_tensor_type('torch.FloatTensor')\n",
    "    if device.type == 'cuda':\n",
    "        torch.set_default_tensor_type('torch.cuda.FloatTensor')\n",
    "\n",
    "    # Tokenize\n",
    "    tokenizer = Tokenizer(char_level=args.char_level)\n",
    "    tokenizer.fit_on_texts(texts=X_train)\n",
    "    vocab_size = len(tokenizer)\n",
    "\n",
    "    # Convert texts to sequences of indices\n",
    "    X_train = np.array(tokenizer.texts_to_sequences(X_train))\n",
    "    X_val = np.array(tokenizer.texts_to_sequences(X_val))\n",
    "    X_test = np.array(tokenizer.texts_to_sequences(X_test))\n",
    "\n",
    "    # Class weights\n",
    "    counts = np.bincount([label_encoder.class_to_index[class_] for class_ in all_tags])\n",
    "    class_weights = {i: 1.0/count for i, count in enumerate(counts)}\n",
    "\n",
    "    # Create datasets\n",
    "    train_dataset = CNNTextDataset(\n",
    "        X=X_train, y=y_train, max_filter_size=max(args.filter_sizes))\n",
    "    val_dataset = CNNTextDataset(\n",
    "        X=X_val, y=y_val, max_filter_size=max(args.filter_sizes))\n",
    "    test_dataset = CNNTextDataset(\n",
    "        X=X_test, y=y_test, max_filter_size=max(args.filter_sizes))\n",
    "\n",
    "    # Create dataloaders\n",
    "    train_dataloader = train_dataset.create_dataloader(\n",
    "        batch_size=args.batch_size)\n",
    "    val_dataloader = val_dataset.create_dataloader(\n",
    "        batch_size=args.batch_size)\n",
    "    test_dataloader = test_dataset.create_dataloader(\n",
    "        batch_size=args.batch_size)\n",
    "\n",
    "    # Initialize model\n",
    "    model = CNN(\n",
    "        embedding_dim=args.embedding_dim, vocab_size=vocab_size,\n",
    "        num_filters=args.num_filters, filter_sizes=args.filter_sizes,\n",
    "        hidden_dim=args.hidden_dim, dropout_p=args.dropout_p,\n",
    "        num_classes=num_classes)\n",
    "    model = model.to(device)\n",
    "\n",
    "    # Define loss\n",
    "    class_weights_tensor = torch.Tensor(np.array(list(class_weights.values())))\n",
    "    loss_fn = nn.BCEWithLogitsLoss(weight=class_weights_tensor)\n",
    "\n",
    "    # Define optimizer & scheduler\n",
    "    optimizer = torch.optim.Adam(model.parameters(), lr=args.lr)\n",
    "    scheduler = torch.optim.lr_scheduler.ReduceLROnPlateau(\n",
    "        optimizer, mode='min', factor=0.1, patience=5)\n",
    "\n",
    "    # Trainer module\n",
    "    trainer = Trainer(\n",
    "        model=model, device=device, loss_fn=loss_fn,\n",
    "        optimizer=optimizer, scheduler=scheduler)\n",
    "\n",
    "    # Train\n",
    "    best_model, best_val_loss = trainer.train(\n",
    "        args.num_epochs, args.patience, train_dataloader, val_dataloader)\n",
    "\n",
    "    # Best threshold for f1\n",
    "    train_loss, y_true, y_prob = trainer.eval_step(dataloader=train_dataloader)\n",
    "    precisions, recalls, thresholds = precision_recall_curve(y_true.ravel(), y_prob.ravel())\n",
    "    threshold = find_best_threshold(y_true.ravel(), y_prob.ravel())\n",
    "\n",
    "    # Determine predictions using threshold\n",
    "    test_loss, y_true, y_prob = trainer.eval_step(dataloader=test_dataloader)\n",
    "    y_pred = np.array([np.where(prob >= threshold, 1, 0) for prob in y_prob])\n",
    "\n",
    "    # Evaluate\n",
    "    performance = get_performance(\n",
    "        y_true=y_test, y_pred=y_pred, classes=label_encoder.classes)\n",
    "\n",
    "    return {\n",
    "        \"args\": args,\n",
    "        \"tokenizer\": tokenizer,\n",
    "        \"label_encoder\": label_encoder,\n",
    "        \"model\": best_model,\n",
    "        \"performance\": performance,\n",
    "        \"best_val_loss\": best_val_loss,\n",
    "    }"
   ]
  },
  {
   "source": [
    "### Tracking"
   ],
   "cell_type": "markdown",
   "metadata": {}
  },
  {
   "cell_type": "code",
   "execution_count": 191,
   "metadata": {},
   "outputs": [],
   "source": [
    "import tempfile"
   ]
  },
  {
   "cell_type": "code",
   "execution_count": 192,
   "metadata": {},
   "outputs": [],
   "source": [
    "#Set Experiment \n",
    "mlflow.set_experiment(experiment_name=\"baselines\")"
   ]
  },
  {
   "cell_type": "code",
   "execution_count": 193,
   "metadata": {},
   "outputs": [],
   "source": [
    "def save_dict(d,filepath):\n",
    "    \"\"\"Save dict to a json file. \"\"\"\n",
    "    with open(filepath,\"w\") as fp:\n",
    "        json.dump(d,indent=2,sort_keys=False,fp=fp)"
   ]
  },
  {
   "cell_type": "code",
   "execution_count": 194,
   "metadata": {},
   "outputs": [
    {
     "output_type": "error",
     "ename": "RuntimeError",
     "evalue": "CUDA out of memory. Tried to allocate 20.00 MiB (GPU 0; 4.00 GiB total capacity; 2.21 GiB already allocated; 6.45 MiB free; 2.27 GiB reserved in total by PyTorch)",
     "traceback": [
      "\u001b[1;31m---------------------------------------------------------------------------\u001b[0m",
      "\u001b[1;31mRuntimeError\u001b[0m                              Traceback (most recent call last)",
      "\u001b[1;32m<ipython-input-194-cd61798805fe>\u001b[0m in \u001b[0;36m<module>\u001b[1;34m\u001b[0m\n\u001b[0;32m      1\u001b[0m \u001b[1;32mwith\u001b[0m \u001b[0mmlflow\u001b[0m\u001b[1;33m.\u001b[0m\u001b[0mstart_run\u001b[0m\u001b[1;33m(\u001b[0m\u001b[0mrun_name\u001b[0m\u001b[1;33m=\u001b[0m\u001b[1;34m\"cnn\"\u001b[0m\u001b[1;33m)\u001b[0m \u001b[1;32mas\u001b[0m \u001b[0mrun\u001b[0m\u001b[1;33m:\u001b[0m\u001b[1;33m\u001b[0m\u001b[1;33m\u001b[0m\u001b[0m\n\u001b[0;32m      2\u001b[0m     \u001b[1;31m#Train and Evaluate\u001b[0m\u001b[1;33m\u001b[0m\u001b[1;33m\u001b[0m\u001b[1;33m\u001b[0m\u001b[0m\n\u001b[1;32m----> 3\u001b[1;33m     \u001b[0martifacts\u001b[0m\u001b[1;33m=\u001b[0m\u001b[0mtrain_cnn\u001b[0m\u001b[1;33m(\u001b[0m\u001b[0margs\u001b[0m\u001b[1;33m=\u001b[0m\u001b[0margs\u001b[0m\u001b[1;33m,\u001b[0m\u001b[0mdf\u001b[0m\u001b[1;33m=\u001b[0m\u001b[0mdf\u001b[0m\u001b[1;33m)\u001b[0m\u001b[1;33m\u001b[0m\u001b[1;33m\u001b[0m\u001b[0m\n\u001b[0m\u001b[0;32m      4\u001b[0m \u001b[1;33m\u001b[0m\u001b[0m\n\u001b[0;32m      5\u001b[0m     \u001b[1;31m#Log Key Metrics\u001b[0m\u001b[1;33m\u001b[0m\u001b[1;33m\u001b[0m\u001b[1;33m\u001b[0m\u001b[0m\n",
      "\u001b[1;32m<ipython-input-190-ed21bd50aae8>\u001b[0m in \u001b[0;36mtrain_cnn\u001b[1;34m(args, df)\u001b[0m\n\u001b[0;32m     75\u001b[0m     \u001b[1;31m# Train\u001b[0m\u001b[1;33m\u001b[0m\u001b[1;33m\u001b[0m\u001b[1;33m\u001b[0m\u001b[0m\n\u001b[0;32m     76\u001b[0m     best_model, best_val_loss = trainer.train(\n\u001b[1;32m---> 77\u001b[1;33m         args.num_epochs, args.patience, train_dataloader, val_dataloader)\n\u001b[0m\u001b[0;32m     78\u001b[0m \u001b[1;33m\u001b[0m\u001b[0m\n\u001b[0;32m     79\u001b[0m     \u001b[1;31m# Best threshold for f1\u001b[0m\u001b[1;33m\u001b[0m\u001b[1;33m\u001b[0m\u001b[1;33m\u001b[0m\u001b[0m\n",
      "\u001b[1;32m<ipython-input-189-190dbd1cfe47>\u001b[0m in \u001b[0;36mtrain\u001b[1;34m(self, num_epochs, patience, train_dataloader, val_dataloader)\u001b[0m\n\u001b[0;32m     83\u001b[0m         \u001b[1;32mfor\u001b[0m \u001b[0mepoch\u001b[0m \u001b[1;32min\u001b[0m \u001b[0mrange\u001b[0m\u001b[1;33m(\u001b[0m\u001b[0mnum_epochs\u001b[0m\u001b[1;33m)\u001b[0m\u001b[1;33m:\u001b[0m\u001b[1;33m\u001b[0m\u001b[1;33m\u001b[0m\u001b[0m\n\u001b[0;32m     84\u001b[0m             \u001b[1;31m# Steps\u001b[0m\u001b[1;33m\u001b[0m\u001b[1;33m\u001b[0m\u001b[1;33m\u001b[0m\u001b[0m\n\u001b[1;32m---> 85\u001b[1;33m             \u001b[0mtrain_loss\u001b[0m \u001b[1;33m=\u001b[0m \u001b[0mself\u001b[0m\u001b[1;33m.\u001b[0m\u001b[0mtrain_step\u001b[0m\u001b[1;33m(\u001b[0m\u001b[0mdataloader\u001b[0m\u001b[1;33m=\u001b[0m\u001b[0mtrain_dataloader\u001b[0m\u001b[1;33m)\u001b[0m\u001b[1;33m\u001b[0m\u001b[1;33m\u001b[0m\u001b[0m\n\u001b[0m\u001b[0;32m     86\u001b[0m             \u001b[0mval_loss\u001b[0m\u001b[1;33m,\u001b[0m \u001b[0m_\u001b[0m\u001b[1;33m,\u001b[0m \u001b[0m_\u001b[0m \u001b[1;33m=\u001b[0m \u001b[0mself\u001b[0m\u001b[1;33m.\u001b[0m\u001b[0meval_step\u001b[0m\u001b[1;33m(\u001b[0m\u001b[0mdataloader\u001b[0m\u001b[1;33m=\u001b[0m\u001b[0mval_dataloader\u001b[0m\u001b[1;33m)\u001b[0m\u001b[1;33m\u001b[0m\u001b[1;33m\u001b[0m\u001b[0m\n\u001b[0;32m     87\u001b[0m             \u001b[0mself\u001b[0m\u001b[1;33m.\u001b[0m\u001b[0mscheduler\u001b[0m\u001b[1;33m.\u001b[0m\u001b[0mstep\u001b[0m\u001b[1;33m(\u001b[0m\u001b[0mval_loss\u001b[0m\u001b[1;33m)\u001b[0m\u001b[1;33m\u001b[0m\u001b[1;33m\u001b[0m\u001b[0m\n",
      "\u001b[1;32m<ipython-input-189-190dbd1cfe47>\u001b[0m in \u001b[0;36mtrain_step\u001b[1;34m(self, dataloader)\u001b[0m\n\u001b[0;32m     23\u001b[0m             \u001b[0minputs\u001b[0m\u001b[1;33m,\u001b[0m \u001b[0mtargets\u001b[0m \u001b[1;33m=\u001b[0m \u001b[0mbatch\u001b[0m\u001b[1;33m[\u001b[0m\u001b[1;33m:\u001b[0m\u001b[1;33m-\u001b[0m\u001b[1;36m1\u001b[0m\u001b[1;33m]\u001b[0m\u001b[1;33m,\u001b[0m \u001b[0mbatch\u001b[0m\u001b[1;33m[\u001b[0m\u001b[1;33m-\u001b[0m\u001b[1;36m1\u001b[0m\u001b[1;33m]\u001b[0m\u001b[1;33m\u001b[0m\u001b[1;33m\u001b[0m\u001b[0m\n\u001b[0;32m     24\u001b[0m             \u001b[0mself\u001b[0m\u001b[1;33m.\u001b[0m\u001b[0moptimizer\u001b[0m\u001b[1;33m.\u001b[0m\u001b[0mzero_grad\u001b[0m\u001b[1;33m(\u001b[0m\u001b[1;33m)\u001b[0m  \u001b[1;31m# Reset gradients\u001b[0m\u001b[1;33m\u001b[0m\u001b[1;33m\u001b[0m\u001b[0m\n\u001b[1;32m---> 25\u001b[1;33m             \u001b[0mz\u001b[0m \u001b[1;33m=\u001b[0m \u001b[0mself\u001b[0m\u001b[1;33m.\u001b[0m\u001b[0mmodel\u001b[0m\u001b[1;33m(\u001b[0m\u001b[0minputs\u001b[0m\u001b[1;33m)\u001b[0m  \u001b[1;31m# Forward pass\u001b[0m\u001b[1;33m\u001b[0m\u001b[1;33m\u001b[0m\u001b[0m\n\u001b[0m\u001b[0;32m     26\u001b[0m             \u001b[0mJ\u001b[0m \u001b[1;33m=\u001b[0m \u001b[0mself\u001b[0m\u001b[1;33m.\u001b[0m\u001b[0mloss_fn\u001b[0m\u001b[1;33m(\u001b[0m\u001b[0mz\u001b[0m\u001b[1;33m,\u001b[0m \u001b[0mtargets\u001b[0m\u001b[1;33m)\u001b[0m  \u001b[1;31m# Define loss\u001b[0m\u001b[1;33m\u001b[0m\u001b[1;33m\u001b[0m\u001b[0m\n\u001b[0;32m     27\u001b[0m             \u001b[0mJ\u001b[0m\u001b[1;33m.\u001b[0m\u001b[0mbackward\u001b[0m\u001b[1;33m(\u001b[0m\u001b[1;33m)\u001b[0m  \u001b[1;31m# Backward pass\u001b[0m\u001b[1;33m\u001b[0m\u001b[1;33m\u001b[0m\u001b[0m\n",
      "\u001b[1;32mC:\\ProgramData\\Anaconda3\\lib\\site-packages\\torch\\nn\\modules\\module.py\u001b[0m in \u001b[0;36m_call_impl\u001b[1;34m(self, *input, **kwargs)\u001b[0m\n\u001b[0;32m    725\u001b[0m             \u001b[0mresult\u001b[0m \u001b[1;33m=\u001b[0m \u001b[0mself\u001b[0m\u001b[1;33m.\u001b[0m\u001b[0m_slow_forward\u001b[0m\u001b[1;33m(\u001b[0m\u001b[1;33m*\u001b[0m\u001b[0minput\u001b[0m\u001b[1;33m,\u001b[0m \u001b[1;33m**\u001b[0m\u001b[0mkwargs\u001b[0m\u001b[1;33m)\u001b[0m\u001b[1;33m\u001b[0m\u001b[1;33m\u001b[0m\u001b[0m\n\u001b[0;32m    726\u001b[0m         \u001b[1;32melse\u001b[0m\u001b[1;33m:\u001b[0m\u001b[1;33m\u001b[0m\u001b[1;33m\u001b[0m\u001b[0m\n\u001b[1;32m--> 727\u001b[1;33m             \u001b[0mresult\u001b[0m \u001b[1;33m=\u001b[0m \u001b[0mself\u001b[0m\u001b[1;33m.\u001b[0m\u001b[0mforward\u001b[0m\u001b[1;33m(\u001b[0m\u001b[1;33m*\u001b[0m\u001b[0minput\u001b[0m\u001b[1;33m,\u001b[0m \u001b[1;33m**\u001b[0m\u001b[0mkwargs\u001b[0m\u001b[1;33m)\u001b[0m\u001b[1;33m\u001b[0m\u001b[1;33m\u001b[0m\u001b[0m\n\u001b[0m\u001b[0;32m    728\u001b[0m         for hook in itertools.chain(\n\u001b[0;32m    729\u001b[0m                 \u001b[0m_global_forward_hooks\u001b[0m\u001b[1;33m.\u001b[0m\u001b[0mvalues\u001b[0m\u001b[1;33m(\u001b[0m\u001b[1;33m)\u001b[0m\u001b[1;33m,\u001b[0m\u001b[1;33m\u001b[0m\u001b[1;33m\u001b[0m\u001b[0m\n",
      "\u001b[1;32m<ipython-input-116-56fd90a422f3>\u001b[0m in \u001b[0;36mforward\u001b[1;34m(self, inputs, channel_first)\u001b[0m\n\u001b[0;32m     40\u001b[0m \u001b[1;33m\u001b[0m\u001b[0m\n\u001b[0;32m     41\u001b[0m             \u001b[1;31m# Conv\u001b[0m\u001b[1;33m\u001b[0m\u001b[1;33m\u001b[0m\u001b[1;33m\u001b[0m\u001b[0m\n\u001b[1;32m---> 42\u001b[1;33m             \u001b[0m_z\u001b[0m \u001b[1;33m=\u001b[0m \u001b[0mself\u001b[0m\u001b[1;33m.\u001b[0m\u001b[0mconv\u001b[0m\u001b[1;33m[\u001b[0m\u001b[0mi\u001b[0m\u001b[1;33m]\u001b[0m\u001b[1;33m(\u001b[0m\u001b[0mF\u001b[0m\u001b[1;33m.\u001b[0m\u001b[0mpad\u001b[0m\u001b[1;33m(\u001b[0m\u001b[0mx_in\u001b[0m\u001b[1;33m,\u001b[0m \u001b[1;33m(\u001b[0m\u001b[0mpadding_left\u001b[0m\u001b[1;33m,\u001b[0m \u001b[0mpadding_right\u001b[0m\u001b[1;33m)\u001b[0m\u001b[1;33m)\u001b[0m\u001b[1;33m)\u001b[0m\u001b[1;33m\u001b[0m\u001b[1;33m\u001b[0m\u001b[0m\n\u001b[0m\u001b[0;32m     43\u001b[0m \u001b[1;33m\u001b[0m\u001b[0m\n\u001b[0;32m     44\u001b[0m             \u001b[1;31m# Pool\u001b[0m\u001b[1;33m\u001b[0m\u001b[1;33m\u001b[0m\u001b[1;33m\u001b[0m\u001b[0m\n",
      "\u001b[1;32mC:\\ProgramData\\Anaconda3\\lib\\site-packages\\torch\\nn\\modules\\module.py\u001b[0m in \u001b[0;36m_call_impl\u001b[1;34m(self, *input, **kwargs)\u001b[0m\n\u001b[0;32m    725\u001b[0m             \u001b[0mresult\u001b[0m \u001b[1;33m=\u001b[0m \u001b[0mself\u001b[0m\u001b[1;33m.\u001b[0m\u001b[0m_slow_forward\u001b[0m\u001b[1;33m(\u001b[0m\u001b[1;33m*\u001b[0m\u001b[0minput\u001b[0m\u001b[1;33m,\u001b[0m \u001b[1;33m**\u001b[0m\u001b[0mkwargs\u001b[0m\u001b[1;33m)\u001b[0m\u001b[1;33m\u001b[0m\u001b[1;33m\u001b[0m\u001b[0m\n\u001b[0;32m    726\u001b[0m         \u001b[1;32melse\u001b[0m\u001b[1;33m:\u001b[0m\u001b[1;33m\u001b[0m\u001b[1;33m\u001b[0m\u001b[0m\n\u001b[1;32m--> 727\u001b[1;33m             \u001b[0mresult\u001b[0m \u001b[1;33m=\u001b[0m \u001b[0mself\u001b[0m\u001b[1;33m.\u001b[0m\u001b[0mforward\u001b[0m\u001b[1;33m(\u001b[0m\u001b[1;33m*\u001b[0m\u001b[0minput\u001b[0m\u001b[1;33m,\u001b[0m \u001b[1;33m**\u001b[0m\u001b[0mkwargs\u001b[0m\u001b[1;33m)\u001b[0m\u001b[1;33m\u001b[0m\u001b[1;33m\u001b[0m\u001b[0m\n\u001b[0m\u001b[0;32m    728\u001b[0m         for hook in itertools.chain(\n\u001b[0;32m    729\u001b[0m                 \u001b[0m_global_forward_hooks\u001b[0m\u001b[1;33m.\u001b[0m\u001b[0mvalues\u001b[0m\u001b[1;33m(\u001b[0m\u001b[1;33m)\u001b[0m\u001b[1;33m,\u001b[0m\u001b[1;33m\u001b[0m\u001b[1;33m\u001b[0m\u001b[0m\n",
      "\u001b[1;32mC:\\ProgramData\\Anaconda3\\lib\\site-packages\\torch\\nn\\modules\\conv.py\u001b[0m in \u001b[0;36mforward\u001b[1;34m(self, input)\u001b[0m\n\u001b[0;32m    257\u001b[0m                             _single(0), self.dilation, self.groups)\n\u001b[0;32m    258\u001b[0m         return F.conv1d(input, self.weight, self.bias, self.stride,\n\u001b[1;32m--> 259\u001b[1;33m                         self.padding, self.dilation, self.groups)\n\u001b[0m\u001b[0;32m    260\u001b[0m \u001b[1;33m\u001b[0m\u001b[0m\n\u001b[0;32m    261\u001b[0m \u001b[1;33m\u001b[0m\u001b[0m\n",
      "\u001b[1;31mRuntimeError\u001b[0m: CUDA out of memory. Tried to allocate 20.00 MiB (GPU 0; 4.00 GiB total capacity; 2.21 GiB already allocated; 6.45 MiB free; 2.27 GiB reserved in total by PyTorch)"
     ]
    }
   ],
   "source": [
    "with mlflow.start_run(run_name=\"cnn\") as run:\n",
    "    #Train and Evaluate \n",
    "    artifacts=train_cnn(args=args,df=df)\n",
    "\n",
    "    #Log Key Metrics\n",
    "    mlflow.log_metrics({\"precision\": artifacts[\"performance\"][\"overall\"][\"precision\"]})\n",
    "    mlflow.log_metrics({\"recall\": artifacts[\"performance\"][\"overall\"][\"recall\"]})\n",
    "    mlflow.log_metrics({\"f1\": artifacts[\"performance\"][\"overall\"][\"f1\"]})\n",
    "\n",
    "    #Log artifacts\n",
    "    with tempfile.TemporaryDirectory() as fp:\n",
    "        artifacts[\"tokenizer\"].save(Path(fp, \"tokenizer.json\"))\n",
    "        artifacts[\"label_encoder\"].save(Path(fp, \"label_encoder.json\"))\n",
    "        torch.save(artifacts[\"model\"].state_dict(), Path(fp, \"model.pt\"))\n",
    "        save_dict(artifacts[\"performance\"], Path(fp, \"performance.json\"))\n",
    "        mlflow.log_artifacts(fp)\n",
    "\n",
    "    \n",
    "    # Log parameters\n",
    "    mlflow.log_params(vars(artifacts[\"args\"]))\n",
    "    \n"
   ]
  },
  {
   "source": [
    "### Viewing "
   ],
   "cell_type": "markdown",
   "metadata": {}
  },
  {
   "cell_type": "code",
   "execution_count": 201,
   "metadata": {},
   "outputs": [],
   "source": [
    "from pyngrok import ngrok"
   ]
  },
  {
   "cell_type": "code",
   "execution_count": null,
   "metadata": {},
   "outputs": [],
   "source": []
  },
  {
   "cell_type": "code",
   "execution_count": 202,
   "metadata": {},
   "outputs": [],
   "source": [
    "def load_dict(filepath):\n",
    "\n",
    "    with open(filepath,\"r\") as fp:\n",
    "        d=json.load(fp)\n",
    "    \n",
    "    return d"
   ]
  },
  {
   "cell_type": "code",
   "execution_count": 203,
   "metadata": {},
   "outputs": [
    {
     "output_type": "stream",
     "name": "stdout",
     "text": [
      "                             run_id experiment_id    status  \\\n0  f813618727c644a09d3a54858635c7c7             0  FINISHED   \n1  8326e19252de49608e165b5a7f3d6bae             0    FAILED   \n2  255e0160d6dd4e4b9bc49c5ea74c3e1d             0    FAILED   \n3  fcc76648a52e496f89f5b216b97f4768             0    FAILED   \n\n                                        artifact_uri  \\\n0  file:\\c:\\Users\\KATTUBOINA\\Desktop\\Kattu\\AI_tag...   \n1  file:\\c:\\Users\\KATTUBOINA\\Desktop\\Kattu\\AI_tag...   \n2  file:\\c:\\Users\\KATTUBOINA\\Desktop\\Kattu\\AI_tag...   \n3  file:\\c:\\Users\\KATTUBOINA\\Desktop\\Kattu\\AI_tag...   \n\n                        start_time                         end_time  \\\n0 2021-02-21 11:52:30.093000+00:00 2021-02-21 11:53:28.125000+00:00   \n1 2021-02-21 12:12:39.128000+00:00 2021-02-21 12:12:39.576000+00:00   \n2 2021-02-21 11:52:06.561000+00:00 2021-02-21 11:52:06.615000+00:00   \n3 2021-02-21 11:51:57.845000+00:00 2021-02-21 11:51:57.937000+00:00   \n\n   metrics.precision  metrics.f1  metrics.train_loss  metrics.val_loss  ...  \\\n0           0.848144     0.60784            0.000609          0.001517  ...   \n1                NaN         NaN                 NaN               NaN  ...   \n2                NaN         NaN                 NaN               NaN  ...   \n3                NaN         NaN                 NaN               NaN  ...   \n\n   params.char_level params.dropout_p params.lr params.num_filters  \\\n0               True              0.5    0.0002                128   \n1               None             None      None               None   \n2               None             None      None               None   \n3               None             None      None               None   \n\n               params.filter_sizes params.batch_size  \\\n0  [1, 2, 3, 4, 5, 6, 7, 8, 9, 10]                64   \n1                             None              None   \n2                             None              None   \n3                             None              None   \n\n                             tags.mlflow.source.name tags.mlflow.runName  \\\n0  C:\\ProgramData\\Anaconda3\\lib\\site-packages\\ipy...                 cnn   \n1  C:\\ProgramData\\Anaconda3\\lib\\site-packages\\ipy...                 cnn   \n2  C:\\ProgramData\\Anaconda3\\lib\\site-packages\\ipy...                 cnn   \n3  C:\\ProgramData\\Anaconda3\\lib\\site-packages\\ipy...                 cnn   \n\n  tags.mlflow.source.type tags.mlflow.user  \n0                   LOCAL       KATTUBOINA  \n1                   LOCAL       KATTUBOINA  \n2                   LOCAL       KATTUBOINA  \n3                   LOCAL       KATTUBOINA  \n\n[4 rows x 25 columns]\n"
     ]
    }
   ],
   "source": [
    "# Load components\n",
    "client = mlflow.tracking.MlflowClient()\n",
    "experiment_id = mlflow.get_experiment_by_name(\"baselines\").experiment_id\n",
    "all_runs = mlflow.search_runs(experiment_ids=experiment_id, order_by=[\"metrics.f1 DESC\"])\n",
    "print (all_runs)"
   ]
  },
  {
   "cell_type": "code",
   "execution_count": 204,
   "metadata": {},
   "outputs": [],
   "source": [
    "# Best run\n",
    "device = torch.device(\"cpu\")\n",
    "best_run_id = all_runs.iloc[0].run_id\n",
    "best_run = mlflow.get_run(run_id=best_run_id)\n",
    "with tempfile.TemporaryDirectory() as fp:\n",
    "    client.download_artifacts(run_id=best_run_id, path=\"\", dst_path=fp)\n",
    "    tokenizer = Tokenizer.load(fp=Path(fp, \"tokenizer.json\"))\n",
    "    label_encoder = LabelEncoder.load(fp=Path(fp, \"label_encoder.json\"))\n",
    "    model_state = torch.load(Path(fp, \"model.pt\"), map_location=device)\n",
    "    performance = load_dict(filepath=Path(fp, \"performance.json\"))"
   ]
  },
  {
   "cell_type": "code",
   "execution_count": 205,
   "metadata": {},
   "outputs": [],
   "source": [
    "print (json.dumps(performance[\"overall\"], indent=2))"
   ]
  },
  {
   "cell_type": "code",
   "execution_count": 206,
   "metadata": {},
   "outputs": [
    {
     "output_type": "error",
     "ename": "ValueError",
     "evalue": "Wrong shape for input_ids (shape torch.Size([1, 47])) or attention_mask (shape torch.Size([1]))",
     "traceback": [
      "\u001b[1;31m---------------------------------------------------------------------------\u001b[0m",
      "\u001b[1;31mValueError\u001b[0m                                Traceback (most recent call last)",
      "\u001b[1;32m<ipython-input-206-f7f8e375199d>\u001b[0m in \u001b[0;36m<module>\u001b[1;34m\u001b[0m\n\u001b[0;32m      1\u001b[0m \u001b[1;31m# Inference\u001b[0m\u001b[1;33m\u001b[0m\u001b[1;33m\u001b[0m\u001b[1;33m\u001b[0m\u001b[0m\n\u001b[1;32m----> 2\u001b[1;33m \u001b[0my_prob\u001b[0m \u001b[1;33m=\u001b[0m \u001b[0mtrainer\u001b[0m\u001b[1;33m.\u001b[0m\u001b[0mpredict_step\u001b[0m\u001b[1;33m(\u001b[0m\u001b[0mdataloader\u001b[0m\u001b[1;33m)\u001b[0m\u001b[1;33m\u001b[0m\u001b[1;33m\u001b[0m\u001b[0m\n\u001b[0m\u001b[0;32m      3\u001b[0m \u001b[0my_pred\u001b[0m \u001b[1;33m=\u001b[0m \u001b[0mnp\u001b[0m\u001b[1;33m.\u001b[0m\u001b[0marray\u001b[0m\u001b[1;33m(\u001b[0m\u001b[1;33m[\u001b[0m\u001b[0mnp\u001b[0m\u001b[1;33m.\u001b[0m\u001b[0mwhere\u001b[0m\u001b[1;33m(\u001b[0m\u001b[0mprob\u001b[0m \u001b[1;33m>=\u001b[0m \u001b[0mthreshold\u001b[0m\u001b[1;33m,\u001b[0m \u001b[1;36m1\u001b[0m\u001b[1;33m,\u001b[0m \u001b[1;36m0\u001b[0m\u001b[1;33m)\u001b[0m \u001b[1;32mfor\u001b[0m \u001b[0mprob\u001b[0m \u001b[1;32min\u001b[0m \u001b[0my_prob\u001b[0m\u001b[1;33m]\u001b[0m\u001b[1;33m)\u001b[0m\u001b[1;33m\u001b[0m\u001b[1;33m\u001b[0m\u001b[0m\n\u001b[0;32m      4\u001b[0m \u001b[0mlabel_encoder\u001b[0m\u001b[1;33m.\u001b[0m\u001b[0mdecode\u001b[0m\u001b[1;33m(\u001b[0m\u001b[0my_pred\u001b[0m\u001b[1;33m)\u001b[0m\u001b[1;33m\u001b[0m\u001b[1;33m\u001b[0m\u001b[0m\n",
      "\u001b[1;32m<ipython-input-189-190dbd1cfe47>\u001b[0m in \u001b[0;36mpredict_step\u001b[1;34m(self, dataloader)\u001b[0m\n\u001b[0;32m     72\u001b[0m                 \u001b[1;31m# Forward pass w/ inputs\u001b[0m\u001b[1;33m\u001b[0m\u001b[1;33m\u001b[0m\u001b[1;33m\u001b[0m\u001b[0m\n\u001b[0;32m     73\u001b[0m                 \u001b[0minputs\u001b[0m\u001b[1;33m,\u001b[0m \u001b[0mtargets\u001b[0m \u001b[1;33m=\u001b[0m \u001b[0mbatch\u001b[0m\u001b[1;33m[\u001b[0m\u001b[1;33m:\u001b[0m\u001b[1;33m-\u001b[0m\u001b[1;36m1\u001b[0m\u001b[1;33m]\u001b[0m\u001b[1;33m,\u001b[0m \u001b[0mbatch\u001b[0m\u001b[1;33m[\u001b[0m\u001b[1;33m-\u001b[0m\u001b[1;36m1\u001b[0m\u001b[1;33m]\u001b[0m\u001b[1;33m\u001b[0m\u001b[1;33m\u001b[0m\u001b[0m\n\u001b[1;32m---> 74\u001b[1;33m                 \u001b[0my_prob\u001b[0m \u001b[1;33m=\u001b[0m \u001b[0mself\u001b[0m\u001b[1;33m.\u001b[0m\u001b[0mmodel\u001b[0m\u001b[1;33m(\u001b[0m\u001b[0minputs\u001b[0m\u001b[1;33m)\u001b[0m\u001b[1;33m\u001b[0m\u001b[1;33m\u001b[0m\u001b[0m\n\u001b[0m\u001b[0;32m     75\u001b[0m \u001b[1;33m\u001b[0m\u001b[0m\n\u001b[0;32m     76\u001b[0m                 \u001b[1;31m# Store outputs\u001b[0m\u001b[1;33m\u001b[0m\u001b[1;33m\u001b[0m\u001b[1;33m\u001b[0m\u001b[0m\n",
      "\u001b[1;32mC:\\ProgramData\\Anaconda3\\lib\\site-packages\\torch\\nn\\modules\\module.py\u001b[0m in \u001b[0;36m_call_impl\u001b[1;34m(self, *input, **kwargs)\u001b[0m\n\u001b[0;32m    725\u001b[0m             \u001b[0mresult\u001b[0m \u001b[1;33m=\u001b[0m \u001b[0mself\u001b[0m\u001b[1;33m.\u001b[0m\u001b[0m_slow_forward\u001b[0m\u001b[1;33m(\u001b[0m\u001b[1;33m*\u001b[0m\u001b[0minput\u001b[0m\u001b[1;33m,\u001b[0m \u001b[1;33m**\u001b[0m\u001b[0mkwargs\u001b[0m\u001b[1;33m)\u001b[0m\u001b[1;33m\u001b[0m\u001b[1;33m\u001b[0m\u001b[0m\n\u001b[0;32m    726\u001b[0m         \u001b[1;32melse\u001b[0m\u001b[1;33m:\u001b[0m\u001b[1;33m\u001b[0m\u001b[1;33m\u001b[0m\u001b[0m\n\u001b[1;32m--> 727\u001b[1;33m             \u001b[0mresult\u001b[0m \u001b[1;33m=\u001b[0m \u001b[0mself\u001b[0m\u001b[1;33m.\u001b[0m\u001b[0mforward\u001b[0m\u001b[1;33m(\u001b[0m\u001b[1;33m*\u001b[0m\u001b[0minput\u001b[0m\u001b[1;33m,\u001b[0m \u001b[1;33m**\u001b[0m\u001b[0mkwargs\u001b[0m\u001b[1;33m)\u001b[0m\u001b[1;33m\u001b[0m\u001b[1;33m\u001b[0m\u001b[0m\n\u001b[0m\u001b[0;32m    728\u001b[0m         for hook in itertools.chain(\n\u001b[0;32m    729\u001b[0m                 \u001b[0m_global_forward_hooks\u001b[0m\u001b[1;33m.\u001b[0m\u001b[0mvalues\u001b[0m\u001b[1;33m(\u001b[0m\u001b[1;33m)\u001b[0m\u001b[1;33m,\u001b[0m\u001b[1;33m\u001b[0m\u001b[1;33m\u001b[0m\u001b[0m\n",
      "\u001b[1;32m<ipython-input-179-84a08ca4bd6c>\u001b[0m in \u001b[0;36mforward\u001b[1;34m(self, inputs)\u001b[0m\n\u001b[0;32m      8\u001b[0m     \u001b[1;32mdef\u001b[0m \u001b[0mforward\u001b[0m\u001b[1;33m(\u001b[0m\u001b[0mself\u001b[0m\u001b[1;33m,\u001b[0m \u001b[0minputs\u001b[0m\u001b[1;33m)\u001b[0m\u001b[1;33m:\u001b[0m\u001b[1;33m\u001b[0m\u001b[1;33m\u001b[0m\u001b[0m\n\u001b[0;32m      9\u001b[0m         \u001b[0mids\u001b[0m\u001b[1;33m,\u001b[0m \u001b[0mmasks\u001b[0m \u001b[1;33m=\u001b[0m \u001b[0minputs\u001b[0m\u001b[1;33m\u001b[0m\u001b[1;33m\u001b[0m\u001b[0m\n\u001b[1;32m---> 10\u001b[1;33m         \u001b[0mseq\u001b[0m\u001b[1;33m,\u001b[0m \u001b[0mpool\u001b[0m \u001b[1;33m=\u001b[0m \u001b[0mself\u001b[0m\u001b[1;33m.\u001b[0m\u001b[0mtransformer\u001b[0m\u001b[1;33m(\u001b[0m\u001b[0minput_ids\u001b[0m\u001b[1;33m=\u001b[0m\u001b[0mids\u001b[0m\u001b[1;33m,\u001b[0m \u001b[0mattention_mask\u001b[0m\u001b[1;33m=\u001b[0m\u001b[0mmasks\u001b[0m\u001b[1;33m)\u001b[0m\u001b[1;33m\u001b[0m\u001b[1;33m\u001b[0m\u001b[0m\n\u001b[0m\u001b[0;32m     11\u001b[0m         \u001b[0mz\u001b[0m \u001b[1;33m=\u001b[0m \u001b[0mself\u001b[0m\u001b[1;33m.\u001b[0m\u001b[0mdropout\u001b[0m\u001b[1;33m(\u001b[0m\u001b[0mpool\u001b[0m\u001b[1;33m)\u001b[0m\u001b[1;33m\u001b[0m\u001b[1;33m\u001b[0m\u001b[0m\n\u001b[0;32m     12\u001b[0m         \u001b[0mz\u001b[0m \u001b[1;33m=\u001b[0m \u001b[0mself\u001b[0m\u001b[1;33m.\u001b[0m\u001b[0mfc1\u001b[0m\u001b[1;33m(\u001b[0m\u001b[0mz\u001b[0m\u001b[1;33m)\u001b[0m\u001b[1;33m\u001b[0m\u001b[1;33m\u001b[0m\u001b[0m\n",
      "\u001b[1;32mC:\\ProgramData\\Anaconda3\\lib\\site-packages\\torch\\nn\\modules\\module.py\u001b[0m in \u001b[0;36m_call_impl\u001b[1;34m(self, *input, **kwargs)\u001b[0m\n\u001b[0;32m    725\u001b[0m             \u001b[0mresult\u001b[0m \u001b[1;33m=\u001b[0m \u001b[0mself\u001b[0m\u001b[1;33m.\u001b[0m\u001b[0m_slow_forward\u001b[0m\u001b[1;33m(\u001b[0m\u001b[1;33m*\u001b[0m\u001b[0minput\u001b[0m\u001b[1;33m,\u001b[0m \u001b[1;33m**\u001b[0m\u001b[0mkwargs\u001b[0m\u001b[1;33m)\u001b[0m\u001b[1;33m\u001b[0m\u001b[1;33m\u001b[0m\u001b[0m\n\u001b[0;32m    726\u001b[0m         \u001b[1;32melse\u001b[0m\u001b[1;33m:\u001b[0m\u001b[1;33m\u001b[0m\u001b[1;33m\u001b[0m\u001b[0m\n\u001b[1;32m--> 727\u001b[1;33m             \u001b[0mresult\u001b[0m \u001b[1;33m=\u001b[0m \u001b[0mself\u001b[0m\u001b[1;33m.\u001b[0m\u001b[0mforward\u001b[0m\u001b[1;33m(\u001b[0m\u001b[1;33m*\u001b[0m\u001b[0minput\u001b[0m\u001b[1;33m,\u001b[0m \u001b[1;33m**\u001b[0m\u001b[0mkwargs\u001b[0m\u001b[1;33m)\u001b[0m\u001b[1;33m\u001b[0m\u001b[1;33m\u001b[0m\u001b[0m\n\u001b[0m\u001b[0;32m    728\u001b[0m         for hook in itertools.chain(\n\u001b[0;32m    729\u001b[0m                 \u001b[0m_global_forward_hooks\u001b[0m\u001b[1;33m.\u001b[0m\u001b[0mvalues\u001b[0m\u001b[1;33m(\u001b[0m\u001b[1;33m)\u001b[0m\u001b[1;33m,\u001b[0m\u001b[1;33m\u001b[0m\u001b[1;33m\u001b[0m\u001b[0m\n",
      "\u001b[1;32mC:\\ProgramData\\Anaconda3\\lib\\site-packages\\transformers\\models\\bert\\modeling_bert.py\u001b[0m in \u001b[0;36mforward\u001b[1;34m(self, input_ids, attention_mask, token_type_ids, position_ids, head_mask, inputs_embeds, encoder_hidden_states, encoder_attention_mask, output_attentions, output_hidden_states, return_dict)\u001b[0m\n\u001b[0;32m    820\u001b[0m         \u001b[1;31m# We can provide a self-attention mask of dimensions [batch_size, from_seq_length, to_seq_length]\u001b[0m\u001b[1;33m\u001b[0m\u001b[1;33m\u001b[0m\u001b[1;33m\u001b[0m\u001b[0m\n\u001b[0;32m    821\u001b[0m         \u001b[1;31m# ourselves in which case we just need to make it broadcastable to all heads.\u001b[0m\u001b[1;33m\u001b[0m\u001b[1;33m\u001b[0m\u001b[1;33m\u001b[0m\u001b[0m\n\u001b[1;32m--> 822\u001b[1;33m         \u001b[0mextended_attention_mask\u001b[0m\u001b[1;33m:\u001b[0m \u001b[0mtorch\u001b[0m\u001b[1;33m.\u001b[0m\u001b[0mTensor\u001b[0m \u001b[1;33m=\u001b[0m \u001b[0mself\u001b[0m\u001b[1;33m.\u001b[0m\u001b[0mget_extended_attention_mask\u001b[0m\u001b[1;33m(\u001b[0m\u001b[0mattention_mask\u001b[0m\u001b[1;33m,\u001b[0m \u001b[0minput_shape\u001b[0m\u001b[1;33m,\u001b[0m \u001b[0mdevice\u001b[0m\u001b[1;33m)\u001b[0m\u001b[1;33m\u001b[0m\u001b[1;33m\u001b[0m\u001b[0m\n\u001b[0m\u001b[0;32m    823\u001b[0m \u001b[1;33m\u001b[0m\u001b[0m\n\u001b[0;32m    824\u001b[0m         \u001b[1;31m# If a 2D or 3D attention mask is provided for the cross-attention\u001b[0m\u001b[1;33m\u001b[0m\u001b[1;33m\u001b[0m\u001b[1;33m\u001b[0m\u001b[0m\n",
      "\u001b[1;32mC:\\ProgramData\\Anaconda3\\lib\\site-packages\\transformers\\modeling_utils.py\u001b[0m in \u001b[0;36mget_extended_attention_mask\u001b[1;34m(self, attention_mask, input_shape, device)\u001b[0m\n\u001b[0;32m    260\u001b[0m             raise ValueError(\n\u001b[0;32m    261\u001b[0m                 \"Wrong shape for input_ids (shape {}) or attention_mask (shape {})\".format(\n\u001b[1;32m--> 262\u001b[1;33m                     \u001b[0minput_shape\u001b[0m\u001b[1;33m,\u001b[0m \u001b[0mattention_mask\u001b[0m\u001b[1;33m.\u001b[0m\u001b[0mshape\u001b[0m\u001b[1;33m\u001b[0m\u001b[1;33m\u001b[0m\u001b[0m\n\u001b[0m\u001b[0;32m    263\u001b[0m                 )\n\u001b[0;32m    264\u001b[0m             )\n",
      "\u001b[1;31mValueError\u001b[0m: Wrong shape for input_ids (shape torch.Size([1, 47])) or attention_mask (shape torch.Size([1]))"
     ]
    }
   ],
   "source": [
    "# Load artifacts\n",
    "device = torch.device(\"cpu\")\n",
    "model = CNN(\n",
    "    embedding_dim=args.embedding_dim, vocab_size=len(tokenizer),\n",
    "    num_filters=args.num_filters, filter_sizes=args.filter_sizes,\n",
    "    hidden_dim=args.hidden_dim, dropout_p=args.dropout_p,\n",
    "    num_classes=len(label_encoder))\n",
    "model.load_state_dict(model_state)\n",
    "model.to(device)"
   ]
  },
  {
   "cell_type": "code",
   "execution_count": null,
   "metadata": {},
   "outputs": [],
   "source": [
    "# Initialize trainer\n",
    "trainer = Trainer(model=model, device=device)"
   ]
  },
  {
   "cell_type": "code",
   "execution_count": null,
   "metadata": {},
   "outputs": [],
   "source": [
    "# Inference\n",
    "y_prob = trainer.predict_step(dataloader)\n",
    "y_pred = np.array([np.where(prob >= threshold, 1, 0) for prob in y_prob])\n",
    "label_encoder.decode(y_pred)"
   ]
  }
 ]
}