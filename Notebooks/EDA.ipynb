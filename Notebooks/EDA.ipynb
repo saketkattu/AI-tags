{
 "metadata": {
  "language_info": {
   "codemirror_mode": {
    "name": "ipython",
    "version": 3
   },
   "file_extension": ".py",
   "mimetype": "text/x-python",
   "name": "python",
   "nbconvert_exporter": "python",
   "pygments_lexer": "ipython3",
   "version": "3.7.6-final"
  },
  "orig_nbformat": 2,
  "kernelspec": {
   "name": "python3",
   "display_name": "Python 3",
   "language": "python"
  }
 },
 "nbformat": 4,
 "nbformat_minor": 2,
 "cells": [
  {
   "cell_type": "code",
   "execution_count": 126,
   "metadata": {},
   "outputs": [],
   "source": [
    "#importing all the nesseasary libraries\n",
    "from collections import Counter,OrderedDict\n",
    "import ipywidgets as widgets\n",
    "import itertools\n",
    "import pandas as pd\n",
    "import json\n",
    "from urllib.request import urlopen"
   ]
  },
  {
   "cell_type": "code",
   "execution_count": 127,
   "metadata": {},
   "outputs": [
    {
     "output_type": "stream",
     "name": "stdout",
     "text": [
      "{\n  \"id\": 324,\n  \"title\": \"AdverTorch\",\n  \"description\": \"A Toolbox for Adversarial Robustness Research\",\n  \"tags\": [\n    \"code\",\n    \"library\",\n    \"security\",\n    \"adversarial-learning\",\n    \"adversarial-attacks\",\n    \"adversarial-perturbations\"\n  ]\n}\n"
     ]
    }
   ],
   "source": [
    "#Load projects\n",
    "url=\"https://raw.githubusercontent.com/GokuMohandas/applied-ml/main/datasets/projects.json\"\n",
    "projects=json.loads(urlopen(url).read())\n",
    "print(json.dumps(projects[-305],indent=2))"
   ]
  },
  {
   "cell_type": "code",
   "execution_count": 128,
   "metadata": {},
   "outputs": [
    {
     "output_type": "stream",
     "name": "stdout",
     "text": [
      "2032 projects\n"
     ]
    },
    {
     "output_type": "execute_result",
     "data": {
      "text/plain": [
       "     id                                              title  \\\n",
       "0  2438  How to Deal with Files in Google Colab: What Y...   \n",
       "1  2437                                             Rasoee   \n",
       "2  2436    Machine Learning Methods Explained (+ Examples)   \n",
       "3  2435  Top “Applied Data Science” Papers from ECML-PK...   \n",
       "4  2434                          OpenMMLab Computer Vision   \n",
       "\n",
       "                                         description  \\\n",
       "0  How to supercharge your Google Colab experienc...   \n",
       "1  A powerful web and mobile application that ide...   \n",
       "2  Most common techniques used in data science pr...   \n",
       "3  Explore the innovative world of Machine Learni...   \n",
       "4  MMCV is a python library for CV research and s...   \n",
       "\n",
       "                                                tags  \n",
       "0        [article, google-colab, colab, file-system]  \n",
       "1  [api, article, code, dataset, paper, research,...  \n",
       "2  [article, deep-learning, machine-learning, dim...  \n",
       "3  [article, deep-learning, machine-learning, adv...  \n",
       "4  [article, code, pytorch, library, 3d, computer...  "
      ],
      "text/html": "<div>\n<style scoped>\n    .dataframe tbody tr th:only-of-type {\n        vertical-align: middle;\n    }\n\n    .dataframe tbody tr th {\n        vertical-align: top;\n    }\n\n    .dataframe thead th {\n        text-align: right;\n    }\n</style>\n<table border=\"1\" class=\"dataframe\">\n  <thead>\n    <tr style=\"text-align: right;\">\n      <th></th>\n      <th>id</th>\n      <th>title</th>\n      <th>description</th>\n      <th>tags</th>\n    </tr>\n  </thead>\n  <tbody>\n    <tr>\n      <th>0</th>\n      <td>2438</td>\n      <td>How to Deal with Files in Google Colab: What Y...</td>\n      <td>How to supercharge your Google Colab experienc...</td>\n      <td>[article, google-colab, colab, file-system]</td>\n    </tr>\n    <tr>\n      <th>1</th>\n      <td>2437</td>\n      <td>Rasoee</td>\n      <td>A powerful web and mobile application that ide...</td>\n      <td>[api, article, code, dataset, paper, research,...</td>\n    </tr>\n    <tr>\n      <th>2</th>\n      <td>2436</td>\n      <td>Machine Learning Methods Explained (+ Examples)</td>\n      <td>Most common techniques used in data science pr...</td>\n      <td>[article, deep-learning, machine-learning, dim...</td>\n    </tr>\n    <tr>\n      <th>3</th>\n      <td>2435</td>\n      <td>Top “Applied Data Science” Papers from ECML-PK...</td>\n      <td>Explore the innovative world of Machine Learni...</td>\n      <td>[article, deep-learning, machine-learning, adv...</td>\n    </tr>\n    <tr>\n      <th>4</th>\n      <td>2434</td>\n      <td>OpenMMLab Computer Vision</td>\n      <td>MMCV is a python library for CV research and s...</td>\n      <td>[article, code, pytorch, library, 3d, computer...</td>\n    </tr>\n  </tbody>\n</table>\n</div>"
     },
     "metadata": {},
     "execution_count": 128
    }
   ],
   "source": [
    "# Creating a pandas dataframe \n",
    "df=pd.DataFrame(projects)\n",
    "print(f\"{len(df)} projects\")\n",
    "df.head(5)"
   ]
  },
  {
   "source": [
    "#Loading the tags\n",
    "url1=\"https://raw.githubusercontent.com/GokuMohandas/applied-ml/main/datasets/tags.json\"\n",
    "tags_dict=OrderedDict(json.loads(urlopen(url1).read()))\n",
    "print(f\"{len(tags_dict)} tags\")\n"
   ],
   "cell_type": "code",
   "metadata": {},
   "execution_count": 129,
   "outputs": [
    {
     "output_type": "stream",
     "name": "stdout",
     "text": [
      "400 tags\n"
     ]
    }
   ]
  },
  {
   "cell_type": "code",
   "execution_count": 130,
   "metadata": {},
   "outputs": [
    {
     "output_type": "display_data",
     "data": {
      "text/plain": "interactive(children=(Dropdown(description='tag', index=283, options=('3d', 'action-localization', 'action-rec…",
      "application/vnd.jupyter.widget-view+json": {
       "version_major": 2,
       "version_minor": 0,
       "model_id": "dec3843136e84d6999ea5a3652c34bb7"
      }
     },
     "metadata": {}
    }
   ],
   "source": [
    "@widgets.interact(tag=list(tags_dict.keys()))\n",
    "def display_tag_details(tag='question-answering'):\n",
    "    print(json.dumps(tags_dict[tag],indent=2))"
   ]
  },
  {
   "cell_type": "code",
   "execution_count": 131,
   "metadata": {},
   "outputs": [
    {
     "output_type": "execute_result",
     "data": {
      "text/plain": [
       "     id                                              title  \\\n",
       "0  2438  How to Deal with Files in Google Colab: What Y...   \n",
       "1  2437                                             Rasoee   \n",
       "2  2436    Machine Learning Methods Explained (+ Examples)   \n",
       "3  2435  Top “Applied Data Science” Papers from ECML-PK...   \n",
       "4  2434                          OpenMMLab Computer Vision   \n",
       "\n",
       "                                         description  \\\n",
       "0  How to supercharge your Google Colab experienc...   \n",
       "1  A powerful web and mobile application that ide...   \n",
       "2  Most common techniques used in data science pr...   \n",
       "3  Explore the innovative world of Machine Learni...   \n",
       "4  MMCV is a python library for CV research and s...   \n",
       "\n",
       "                                                tags  \\\n",
       "0        [article, google-colab, colab, file-system]   \n",
       "1  [api, article, code, dataset, paper, research,...   \n",
       "2  [article, deep-learning, machine-learning, dim...   \n",
       "3  [article, deep-learning, machine-learning, adv...   \n",
       "4  [article, code, pytorch, library, 3d, computer...   \n",
       "\n",
       "                                                text  \n",
       "0  How to Deal with Files in Google Colab: What Y...  \n",
       "1  Rasoee A powerful web and mobile application t...  \n",
       "2  Machine Learning Methods Explained (+ Examples...  \n",
       "3  Top “Applied Data Science” Papers from ECML-PK...  \n",
       "4  OpenMMLab Computer Vision MMCV is a python lib...  "
      ],
      "text/html": "<div>\n<style scoped>\n    .dataframe tbody tr th:only-of-type {\n        vertical-align: middle;\n    }\n\n    .dataframe tbody tr th {\n        vertical-align: top;\n    }\n\n    .dataframe thead th {\n        text-align: right;\n    }\n</style>\n<table border=\"1\" class=\"dataframe\">\n  <thead>\n    <tr style=\"text-align: right;\">\n      <th></th>\n      <th>id</th>\n      <th>title</th>\n      <th>description</th>\n      <th>tags</th>\n      <th>text</th>\n    </tr>\n  </thead>\n  <tbody>\n    <tr>\n      <th>0</th>\n      <td>2438</td>\n      <td>How to Deal with Files in Google Colab: What Y...</td>\n      <td>How to supercharge your Google Colab experienc...</td>\n      <td>[article, google-colab, colab, file-system]</td>\n      <td>How to Deal with Files in Google Colab: What Y...</td>\n    </tr>\n    <tr>\n      <th>1</th>\n      <td>2437</td>\n      <td>Rasoee</td>\n      <td>A powerful web and mobile application that ide...</td>\n      <td>[api, article, code, dataset, paper, research,...</td>\n      <td>Rasoee A powerful web and mobile application t...</td>\n    </tr>\n    <tr>\n      <th>2</th>\n      <td>2436</td>\n      <td>Machine Learning Methods Explained (+ Examples)</td>\n      <td>Most common techniques used in data science pr...</td>\n      <td>[article, deep-learning, machine-learning, dim...</td>\n      <td>Machine Learning Methods Explained (+ Examples...</td>\n    </tr>\n    <tr>\n      <th>3</th>\n      <td>2435</td>\n      <td>Top “Applied Data Science” Papers from ECML-PK...</td>\n      <td>Explore the innovative world of Machine Learni...</td>\n      <td>[article, deep-learning, machine-learning, adv...</td>\n      <td>Top “Applied Data Science” Papers from ECML-PK...</td>\n    </tr>\n    <tr>\n      <th>4</th>\n      <td>2434</td>\n      <td>OpenMMLab Computer Vision</td>\n      <td>MMCV is a python library for CV research and s...</td>\n      <td>[article, code, pytorch, library, 3d, computer...</td>\n      <td>OpenMMLab Computer Vision MMCV is a python lib...</td>\n    </tr>\n  </tbody>\n</table>\n</div>"
     },
     "metadata": {},
     "execution_count": 131
    }
   ],
   "source": [
    "#Combining the projects title and descrption separately as feature but we'll combine them to create on input feature\n",
    "\n",
    "df['text']= df.title+\" \"+ df.description\n",
    "df.head(5)"
   ]
  },
  {
   "cell_type": "code",
   "execution_count": 132,
   "metadata": {},
   "outputs": [],
   "source": [
    "#Constrains\n",
    "def filter(l,include=[],exclude=[]):\n",
    "    \"\"\"\n",
    "    Filtering a list using inclution and exclution list of items \n",
    "    \"\"\"\n",
    "    filtered=[item for item in l if item in include and item not in exclude]\n",
    "    return filtered"
   ]
  },
  {
   "cell_type": "code",
   "execution_count": 133,
   "metadata": {},
   "outputs": [],
   "source": [
    "# Inclusion/exclusion criteria for tags\n",
    "include = list(tags_dict.keys())\n",
    "exclude = ['machine-learning', 'deep-learning',  'data-science',\n",
    "           'neural-networks', 'python', 'r', 'visualization']"
   ]
  },
  {
   "cell_type": "code",
   "execution_count": 134,
   "metadata": {},
   "outputs": [],
   "source": [
    "#Filter tags for each project\n",
    "df.tags=df.tags.apply(filter,include=include,exclude=exclude)\n",
    "tags=Counter(itertools.chain.from_iterable(df.tags.values))"
   ]
  },
  {
   "cell_type": "code",
   "execution_count": 135,
   "metadata": {},
   "outputs": [
    {
     "output_type": "display_data",
     "data": {
      "text/plain": "interactive(children=(IntSlider(value=30, description='min_tag_freq', max=429), Output()), _dom_classes=('widg…",
      "application/vnd.jupyter.widget-view+json": {
       "version_major": 2,
       "version_minor": 0,
       "model_id": "64093bc8ffd046239c54e74b41f26841"
      }
     },
     "metadata": {}
    }
   ],
   "source": [
    "@widgets.interact(min_tag_freq=(0,tags.most_common()[0][1]))\n",
    "def separate_tag_by_freq(min_tag_freq=30):\n",
    "    tags_above_freq = Counter(tag for tag in tags.elements()\n",
    "                                    if tags[tag] >= min_tag_freq)\n",
    "    tags_below_freq = Counter(tag for tag in tags.elements()\n",
    "                                    if tags[tag] < min_tag_freq)\n",
    "    print (\"Most popular tags:\\n\", tags_above_freq.most_common(5))\n",
    "    print (\"\\nTags that just made the cut:\\n\", tags_above_freq.most_common()[-5:])\n",
    "    print (\"\\nTags that just missed the cut:\\n\", tags_below_freq.most_common(5))\n",
    "\n"
   ]
  },
  {
   "cell_type": "code",
   "execution_count": 136,
   "metadata": {},
   "outputs": [],
   "source": [
    "min_tag_freq = 30\n",
    "tags_above_freq = Counter(tag for tag in tags.elements()\n",
    "                          if tags[tag] >= min_tag_freq)\n",
    "df.tags = df.tags.apply(filter, include=list(tags_above_freq.keys()))\n"
   ]
  },
  {
   "cell_type": "code",
   "execution_count": 137,
   "metadata": {},
   "outputs": [
    {
     "output_type": "stream",
     "name": "stdout",
     "text": [
      "1444 projects\n"
     ]
    }
   ],
   "source": [
    "df = df[df.tags.map(len) > 0]\n",
    "print (f\"{len(df)} projects\")"
   ]
  },
  {
   "source": [
    "# Exploratory data analysis\n",
    "NOTE: Revisit and re-do EDA when your data grows"
   ],
   "cell_type": "markdown",
   "metadata": {}
  },
  {
   "cell_type": "code",
   "execution_count": 138,
   "metadata": {},
   "outputs": [
    {
     "output_type": "stream",
     "name": "stderr",
     "text": [
      "Traceback (most recent call last):\n  File \"c:\\python39\\lib\\runpy.py\", line 197, in _run_module_as_main\n    return _run_code(code, main_globals, None,\n  File \"c:\\python39\\lib\\runpy.py\", line 87, in _run_code\n    exec(code, run_globals)\n  File \"C:\\Python39\\Scripts\\pip.exe\\__main__.py\", line 4, in <module>\nModuleNotFoundError: No module named 'pip'\n"
     ]
    }
   ],
   "source": [
    "!pip install wordcloud"
   ]
  },
  {
   "cell_type": "code",
   "execution_count": 139,
   "metadata": {},
   "outputs": [],
   "source": [
    "import matplotlib.pyplot as plt \n",
    "import seaborn as sns\n",
    "import warnings\n",
    "from wordcloud import WordCloud,STOPWORDS\n",
    "warnings.filterwarnings(\"ignore\")"
   ]
  },
  {
   "source": [
    "## Tags Per Project\n",
    "Q. How many tags do the projects have ?"
   ],
   "cell_type": "markdown",
   "metadata": {}
  },
  {
   "cell_type": "code",
   "execution_count": 140,
   "metadata": {},
   "outputs": [
    {
     "output_type": "display_data",
     "data": {
      "text/plain": "<Figure size 720x216 with 1 Axes>",
      "image/svg+xml": "<?xml version=\"1.0\" encoding=\"utf-8\" standalone=\"no\"?>\r\n<!DOCTYPE svg PUBLIC \"-//W3C//DTD SVG 1.1//EN\"\r\n  \"http://www.w3.org/Graphics/SVG/1.1/DTD/svg11.dtd\">\r\n<!-- Created with matplotlib (https://matplotlib.org/) -->\r\n<svg height=\"240.646875pt\" version=\"1.1\" viewBox=\"0 0 617.9725 240.646875\" width=\"617.9725pt\" xmlns=\"http://www.w3.org/2000/svg\" xmlns:xlink=\"http://www.w3.org/1999/xlink\">\r\n <defs>\r\n  <style type=\"text/css\">\r\n*{stroke-linecap:butt;stroke-linejoin:round;}\r\n  </style>\r\n </defs>\r\n <g id=\"figure_1\">\r\n  <g id=\"patch_1\">\r\n   <path d=\"M 0 240.646875 \r\nL 617.9725 240.646875 \r\nL 617.9725 -0 \r\nL 0 -0 \r\nz\r\n\" style=\"fill:none;\"/>\r\n  </g>\r\n  <g id=\"axes_1\">\r\n   <g id=\"patch_2\">\r\n    <path d=\"M 52.7725 191.476875 \r\nL 610.7725 191.476875 \r\nL 610.7725 28.396875 \r\nL 52.7725 28.396875 \r\nz\r\n\" style=\"fill:#ffffff;\"/>\r\n   </g>\r\n   <g id=\"patch_3\">\r\n    <path clip-path=\"url(#p051b24ce2a)\" d=\"M 59.7475 191.476875 \r\nL 115.5475 191.476875 \r\nL 115.5475 36.162589 \r\nL 59.7475 36.162589 \r\nz\r\n\" style=\"fill:#3274a1;\"/>\r\n   </g>\r\n   <g id=\"patch_4\">\r\n    <path clip-path=\"url(#p051b24ce2a)\" d=\"M 129.4975 191.476875 \r\nL 185.2975 191.476875 \r\nL 185.2975 81.04325 \r\nL 129.4975 81.04325 \r\nz\r\n\" style=\"fill:#e1812c;\"/>\r\n   </g>\r\n   <g id=\"patch_5\">\r\n    <path clip-path=\"url(#p051b24ce2a)\" d=\"M 199.2475 191.476875 \r\nL 255.0475 191.476875 \r\nL 255.0475 130.547978 \r\nL 199.2475 130.547978 \r\nz\r\n\" style=\"fill:#3a923a;\"/>\r\n   </g>\r\n   <g id=\"patch_6\">\r\n    <path clip-path=\"url(#p051b24ce2a)\" d=\"M 268.9975 191.476875 \r\nL 324.7975 191.476875 \r\nL 324.7975 148.228239 \r\nL 268.9975 148.228239 \r\nz\r\n\" style=\"fill:#c03d3e;\"/>\r\n   </g>\r\n   <g id=\"patch_7\">\r\n    <path clip-path=\"url(#p051b24ce2a)\" d=\"M 338.7475 191.476875 \r\nL 394.5475 191.476875 \r\nL 394.5475 174.884631 \r\nL 338.7475 174.884631 \r\nz\r\n\" style=\"fill:#9372b2;\"/>\r\n   </g>\r\n   <g id=\"patch_8\">\r\n    <path clip-path=\"url(#p051b24ce2a)\" d=\"M 408.4975 191.476875 \r\nL 464.2975 191.476875 \r\nL 464.2975 186.852807 \r\nL 408.4975 186.852807 \r\nz\r\n\" style=\"fill:#845b53;\"/>\r\n   </g>\r\n   <g id=\"patch_9\">\r\n    <path clip-path=\"url(#p051b24ce2a)\" d=\"M 478.2475 191.476875 \r\nL 534.0475 191.476875 \r\nL 534.0475 190.660863 \r\nL 478.2475 190.660863 \r\nz\r\n\" style=\"fill:#d684bd;\"/>\r\n   </g>\r\n   <g id=\"patch_10\">\r\n    <path clip-path=\"url(#p051b24ce2a)\" d=\"M 547.9975 191.476875 \r\nL 603.7975 191.476875 \r\nL 603.7975 190.660863 \r\nL 547.9975 190.660863 \r\nz\r\n\" style=\"fill:#7f7f7f;\"/>\r\n   </g>\r\n   <g id=\"matplotlib.axis_1\">\r\n    <g id=\"xtick_1\">\r\n     <g id=\"line2d_1\">\r\n      <defs>\r\n       <path d=\"M 0 0 \r\nL 0 3.5 \r\n\" id=\"mf92ade481f\" style=\"stroke:#000000;stroke-width:0.8;\"/>\r\n      </defs>\r\n      <g>\r\n       <use style=\"stroke:#000000;stroke-width:0.8;\" x=\"87.6475\" xlink:href=\"#mf92ade481f\" y=\"191.476875\"/>\r\n      </g>\r\n     </g>\r\n     <g id=\"text_1\">\r\n      <!-- 1 -->\r\n      <defs>\r\n       <path d=\"M 12.40625 8.296875 \r\nL 28.515625 8.296875 \r\nL 28.515625 63.921875 \r\nL 10.984375 60.40625 \r\nL 10.984375 69.390625 \r\nL 28.421875 72.90625 \r\nL 38.28125 72.90625 \r\nL 38.28125 8.296875 \r\nL 54.390625 8.296875 \r\nL 54.390625 0 \r\nL 12.40625 0 \r\nz\r\n\" id=\"DejaVuSans-49\"/>\r\n      </defs>\r\n      <g transform=\"translate(82.5575 210.634375)scale(0.16 -0.16)\">\r\n       <use xlink:href=\"#DejaVuSans-49\"/>\r\n      </g>\r\n     </g>\r\n    </g>\r\n    <g id=\"xtick_2\">\r\n     <g id=\"line2d_2\">\r\n      <g>\r\n       <use style=\"stroke:#000000;stroke-width:0.8;\" x=\"157.3975\" xlink:href=\"#mf92ade481f\" y=\"191.476875\"/>\r\n      </g>\r\n     </g>\r\n     <g id=\"text_2\">\r\n      <!-- 2 -->\r\n      <defs>\r\n       <path d=\"M 19.1875 8.296875 \r\nL 53.609375 8.296875 \r\nL 53.609375 0 \r\nL 7.328125 0 \r\nL 7.328125 8.296875 \r\nQ 12.9375 14.109375 22.625 23.890625 \r\nQ 32.328125 33.6875 34.8125 36.53125 \r\nQ 39.546875 41.84375 41.421875 45.53125 \r\nQ 43.3125 49.21875 43.3125 52.78125 \r\nQ 43.3125 58.59375 39.234375 62.25 \r\nQ 35.15625 65.921875 28.609375 65.921875 \r\nQ 23.96875 65.921875 18.8125 64.3125 \r\nQ 13.671875 62.703125 7.8125 59.421875 \r\nL 7.8125 69.390625 \r\nQ 13.765625 71.78125 18.9375 73 \r\nQ 24.125 74.21875 28.421875 74.21875 \r\nQ 39.75 74.21875 46.484375 68.546875 \r\nQ 53.21875 62.890625 53.21875 53.421875 \r\nQ 53.21875 48.921875 51.53125 44.890625 \r\nQ 49.859375 40.875 45.40625 35.40625 \r\nQ 44.1875 33.984375 37.640625 27.21875 \r\nQ 31.109375 20.453125 19.1875 8.296875 \r\nz\r\n\" id=\"DejaVuSans-50\"/>\r\n      </defs>\r\n      <g transform=\"translate(152.3075 210.634375)scale(0.16 -0.16)\">\r\n       <use xlink:href=\"#DejaVuSans-50\"/>\r\n      </g>\r\n     </g>\r\n    </g>\r\n    <g id=\"xtick_3\">\r\n     <g id=\"line2d_3\">\r\n      <g>\r\n       <use style=\"stroke:#000000;stroke-width:0.8;\" x=\"227.1475\" xlink:href=\"#mf92ade481f\" y=\"191.476875\"/>\r\n      </g>\r\n     </g>\r\n     <g id=\"text_3\">\r\n      <!-- 3 -->\r\n      <defs>\r\n       <path d=\"M 40.578125 39.3125 \r\nQ 47.65625 37.796875 51.625 33 \r\nQ 55.609375 28.21875 55.609375 21.1875 \r\nQ 55.609375 10.40625 48.1875 4.484375 \r\nQ 40.765625 -1.421875 27.09375 -1.421875 \r\nQ 22.515625 -1.421875 17.65625 -0.515625 \r\nQ 12.796875 0.390625 7.625 2.203125 \r\nL 7.625 11.71875 \r\nQ 11.71875 9.328125 16.59375 8.109375 \r\nQ 21.484375 6.890625 26.8125 6.890625 \r\nQ 36.078125 6.890625 40.9375 10.546875 \r\nQ 45.796875 14.203125 45.796875 21.1875 \r\nQ 45.796875 27.640625 41.28125 31.265625 \r\nQ 36.765625 34.90625 28.71875 34.90625 \r\nL 20.21875 34.90625 \r\nL 20.21875 43.015625 \r\nL 29.109375 43.015625 \r\nQ 36.375 43.015625 40.234375 45.921875 \r\nQ 44.09375 48.828125 44.09375 54.296875 \r\nQ 44.09375 59.90625 40.109375 62.90625 \r\nQ 36.140625 65.921875 28.71875 65.921875 \r\nQ 24.65625 65.921875 20.015625 65.03125 \r\nQ 15.375 64.15625 9.8125 62.3125 \r\nL 9.8125 71.09375 \r\nQ 15.4375 72.65625 20.34375 73.4375 \r\nQ 25.25 74.21875 29.59375 74.21875 \r\nQ 40.828125 74.21875 47.359375 69.109375 \r\nQ 53.90625 64.015625 53.90625 55.328125 \r\nQ 53.90625 49.265625 50.4375 45.09375 \r\nQ 46.96875 40.921875 40.578125 39.3125 \r\nz\r\n\" id=\"DejaVuSans-51\"/>\r\n      </defs>\r\n      <g transform=\"translate(222.0575 210.634375)scale(0.16 -0.16)\">\r\n       <use xlink:href=\"#DejaVuSans-51\"/>\r\n      </g>\r\n     </g>\r\n    </g>\r\n    <g id=\"xtick_4\">\r\n     <g id=\"line2d_4\">\r\n      <g>\r\n       <use style=\"stroke:#000000;stroke-width:0.8;\" x=\"296.8975\" xlink:href=\"#mf92ade481f\" y=\"191.476875\"/>\r\n      </g>\r\n     </g>\r\n     <g id=\"text_4\">\r\n      <!-- 4 -->\r\n      <defs>\r\n       <path d=\"M 37.796875 64.3125 \r\nL 12.890625 25.390625 \r\nL 37.796875 25.390625 \r\nz\r\nM 35.203125 72.90625 \r\nL 47.609375 72.90625 \r\nL 47.609375 25.390625 \r\nL 58.015625 25.390625 \r\nL 58.015625 17.1875 \r\nL 47.609375 17.1875 \r\nL 47.609375 0 \r\nL 37.796875 0 \r\nL 37.796875 17.1875 \r\nL 4.890625 17.1875 \r\nL 4.890625 26.703125 \r\nz\r\n\" id=\"DejaVuSans-52\"/>\r\n      </defs>\r\n      <g transform=\"translate(291.8075 210.634375)scale(0.16 -0.16)\">\r\n       <use xlink:href=\"#DejaVuSans-52\"/>\r\n      </g>\r\n     </g>\r\n    </g>\r\n    <g id=\"xtick_5\">\r\n     <g id=\"line2d_5\">\r\n      <g>\r\n       <use style=\"stroke:#000000;stroke-width:0.8;\" x=\"366.6475\" xlink:href=\"#mf92ade481f\" y=\"191.476875\"/>\r\n      </g>\r\n     </g>\r\n     <g id=\"text_5\">\r\n      <!-- 5 -->\r\n      <defs>\r\n       <path d=\"M 10.796875 72.90625 \r\nL 49.515625 72.90625 \r\nL 49.515625 64.59375 \r\nL 19.828125 64.59375 \r\nL 19.828125 46.734375 \r\nQ 21.96875 47.46875 24.109375 47.828125 \r\nQ 26.265625 48.1875 28.421875 48.1875 \r\nQ 40.625 48.1875 47.75 41.5 \r\nQ 54.890625 34.8125 54.890625 23.390625 \r\nQ 54.890625 11.625 47.5625 5.09375 \r\nQ 40.234375 -1.421875 26.90625 -1.421875 \r\nQ 22.3125 -1.421875 17.546875 -0.640625 \r\nQ 12.796875 0.140625 7.71875 1.703125 \r\nL 7.71875 11.625 \r\nQ 12.109375 9.234375 16.796875 8.0625 \r\nQ 21.484375 6.890625 26.703125 6.890625 \r\nQ 35.15625 6.890625 40.078125 11.328125 \r\nQ 45.015625 15.765625 45.015625 23.390625 \r\nQ 45.015625 31 40.078125 35.4375 \r\nQ 35.15625 39.890625 26.703125 39.890625 \r\nQ 22.75 39.890625 18.8125 39.015625 \r\nQ 14.890625 38.140625 10.796875 36.28125 \r\nz\r\n\" id=\"DejaVuSans-53\"/>\r\n      </defs>\r\n      <g transform=\"translate(361.5575 210.634375)scale(0.16 -0.16)\">\r\n       <use xlink:href=\"#DejaVuSans-53\"/>\r\n      </g>\r\n     </g>\r\n    </g>\r\n    <g id=\"xtick_6\">\r\n     <g id=\"line2d_6\">\r\n      <g>\r\n       <use style=\"stroke:#000000;stroke-width:0.8;\" x=\"436.3975\" xlink:href=\"#mf92ade481f\" y=\"191.476875\"/>\r\n      </g>\r\n     </g>\r\n     <g id=\"text_6\">\r\n      <!-- 6 -->\r\n      <defs>\r\n       <path d=\"M 33.015625 40.375 \r\nQ 26.375 40.375 22.484375 35.828125 \r\nQ 18.609375 31.296875 18.609375 23.390625 \r\nQ 18.609375 15.53125 22.484375 10.953125 \r\nQ 26.375 6.390625 33.015625 6.390625 \r\nQ 39.65625 6.390625 43.53125 10.953125 \r\nQ 47.40625 15.53125 47.40625 23.390625 \r\nQ 47.40625 31.296875 43.53125 35.828125 \r\nQ 39.65625 40.375 33.015625 40.375 \r\nz\r\nM 52.59375 71.296875 \r\nL 52.59375 62.3125 \r\nQ 48.875 64.0625 45.09375 64.984375 \r\nQ 41.3125 65.921875 37.59375 65.921875 \r\nQ 27.828125 65.921875 22.671875 59.328125 \r\nQ 17.53125 52.734375 16.796875 39.40625 \r\nQ 19.671875 43.65625 24.015625 45.921875 \r\nQ 28.375 48.1875 33.59375 48.1875 \r\nQ 44.578125 48.1875 50.953125 41.515625 \r\nQ 57.328125 34.859375 57.328125 23.390625 \r\nQ 57.328125 12.15625 50.6875 5.359375 \r\nQ 44.046875 -1.421875 33.015625 -1.421875 \r\nQ 20.359375 -1.421875 13.671875 8.265625 \r\nQ 6.984375 17.96875 6.984375 36.375 \r\nQ 6.984375 53.65625 15.1875 63.9375 \r\nQ 23.390625 74.21875 37.203125 74.21875 \r\nQ 40.921875 74.21875 44.703125 73.484375 \r\nQ 48.484375 72.75 52.59375 71.296875 \r\nz\r\n\" id=\"DejaVuSans-54\"/>\r\n      </defs>\r\n      <g transform=\"translate(431.3075 210.634375)scale(0.16 -0.16)\">\r\n       <use xlink:href=\"#DejaVuSans-54\"/>\r\n      </g>\r\n     </g>\r\n    </g>\r\n    <g id=\"xtick_7\">\r\n     <g id=\"line2d_7\">\r\n      <g>\r\n       <use style=\"stroke:#000000;stroke-width:0.8;\" x=\"506.1475\" xlink:href=\"#mf92ade481f\" y=\"191.476875\"/>\r\n      </g>\r\n     </g>\r\n     <g id=\"text_7\">\r\n      <!-- 7 -->\r\n      <defs>\r\n       <path d=\"M 8.203125 72.90625 \r\nL 55.078125 72.90625 \r\nL 55.078125 68.703125 \r\nL 28.609375 0 \r\nL 18.3125 0 \r\nL 43.21875 64.59375 \r\nL 8.203125 64.59375 \r\nz\r\n\" id=\"DejaVuSans-55\"/>\r\n      </defs>\r\n      <g transform=\"translate(501.0575 210.634375)scale(0.16 -0.16)\">\r\n       <use xlink:href=\"#DejaVuSans-55\"/>\r\n      </g>\r\n     </g>\r\n    </g>\r\n    <g id=\"xtick_8\">\r\n     <g id=\"line2d_8\">\r\n      <g>\r\n       <use style=\"stroke:#000000;stroke-width:0.8;\" x=\"575.8975\" xlink:href=\"#mf92ade481f\" y=\"191.476875\"/>\r\n      </g>\r\n     </g>\r\n     <g id=\"text_8\">\r\n      <!-- 8 -->\r\n      <defs>\r\n       <path d=\"M 31.78125 34.625 \r\nQ 24.75 34.625 20.71875 30.859375 \r\nQ 16.703125 27.09375 16.703125 20.515625 \r\nQ 16.703125 13.921875 20.71875 10.15625 \r\nQ 24.75 6.390625 31.78125 6.390625 \r\nQ 38.8125 6.390625 42.859375 10.171875 \r\nQ 46.921875 13.96875 46.921875 20.515625 \r\nQ 46.921875 27.09375 42.890625 30.859375 \r\nQ 38.875 34.625 31.78125 34.625 \r\nz\r\nM 21.921875 38.8125 \r\nQ 15.578125 40.375 12.03125 44.71875 \r\nQ 8.5 49.078125 8.5 55.328125 \r\nQ 8.5 64.0625 14.71875 69.140625 \r\nQ 20.953125 74.21875 31.78125 74.21875 \r\nQ 42.671875 74.21875 48.875 69.140625 \r\nQ 55.078125 64.0625 55.078125 55.328125 \r\nQ 55.078125 49.078125 51.53125 44.71875 \r\nQ 48 40.375 41.703125 38.8125 \r\nQ 48.828125 37.15625 52.796875 32.3125 \r\nQ 56.78125 27.484375 56.78125 20.515625 \r\nQ 56.78125 9.90625 50.3125 4.234375 \r\nQ 43.84375 -1.421875 31.78125 -1.421875 \r\nQ 19.734375 -1.421875 13.25 4.234375 \r\nQ 6.78125 9.90625 6.78125 20.515625 \r\nQ 6.78125 27.484375 10.78125 32.3125 \r\nQ 14.796875 37.15625 21.921875 38.8125 \r\nz\r\nM 18.3125 54.390625 \r\nQ 18.3125 48.734375 21.84375 45.5625 \r\nQ 25.390625 42.390625 31.78125 42.390625 \r\nQ 38.140625 42.390625 41.71875 45.5625 \r\nQ 45.3125 48.734375 45.3125 54.390625 \r\nQ 45.3125 60.0625 41.71875 63.234375 \r\nQ 38.140625 66.40625 31.78125 66.40625 \r\nQ 25.390625 66.40625 21.84375 63.234375 \r\nQ 18.3125 60.0625 18.3125 54.390625 \r\nz\r\n\" id=\"DejaVuSans-56\"/>\r\n      </defs>\r\n      <g transform=\"translate(570.8075 210.634375)scale(0.16 -0.16)\">\r\n       <use xlink:href=\"#DejaVuSans-56\"/>\r\n      </g>\r\n     </g>\r\n    </g>\r\n    <g id=\"text_9\">\r\n     <!-- Number of tags -->\r\n     <defs>\r\n      <path d=\"M 9.8125 72.90625 \r\nL 23.09375 72.90625 \r\nL 55.421875 11.921875 \r\nL 55.421875 72.90625 \r\nL 64.984375 72.90625 \r\nL 64.984375 0 \r\nL 51.703125 0 \r\nL 19.390625 60.984375 \r\nL 19.390625 0 \r\nL 9.8125 0 \r\nz\r\n\" id=\"DejaVuSans-78\"/>\r\n      <path d=\"M 8.5 21.578125 \r\nL 8.5 54.6875 \r\nL 17.484375 54.6875 \r\nL 17.484375 21.921875 \r\nQ 17.484375 14.15625 20.5 10.265625 \r\nQ 23.53125 6.390625 29.59375 6.390625 \r\nQ 36.859375 6.390625 41.078125 11.03125 \r\nQ 45.3125 15.671875 45.3125 23.6875 \r\nL 45.3125 54.6875 \r\nL 54.296875 54.6875 \r\nL 54.296875 0 \r\nL 45.3125 0 \r\nL 45.3125 8.40625 \r\nQ 42.046875 3.421875 37.71875 1 \r\nQ 33.40625 -1.421875 27.6875 -1.421875 \r\nQ 18.265625 -1.421875 13.375 4.4375 \r\nQ 8.5 10.296875 8.5 21.578125 \r\nz\r\nM 31.109375 56 \r\nz\r\n\" id=\"DejaVuSans-117\"/>\r\n      <path d=\"M 52 44.1875 \r\nQ 55.375 50.25 60.0625 53.125 \r\nQ 64.75 56 71.09375 56 \r\nQ 79.640625 56 84.28125 50.015625 \r\nQ 88.921875 44.046875 88.921875 33.015625 \r\nL 88.921875 0 \r\nL 79.890625 0 \r\nL 79.890625 32.71875 \r\nQ 79.890625 40.578125 77.09375 44.375 \r\nQ 74.3125 48.1875 68.609375 48.1875 \r\nQ 61.625 48.1875 57.5625 43.546875 \r\nQ 53.515625 38.921875 53.515625 30.90625 \r\nL 53.515625 0 \r\nL 44.484375 0 \r\nL 44.484375 32.71875 \r\nQ 44.484375 40.625 41.703125 44.40625 \r\nQ 38.921875 48.1875 33.109375 48.1875 \r\nQ 26.21875 48.1875 22.15625 43.53125 \r\nQ 18.109375 38.875 18.109375 30.90625 \r\nL 18.109375 0 \r\nL 9.078125 0 \r\nL 9.078125 54.6875 \r\nL 18.109375 54.6875 \r\nL 18.109375 46.1875 \r\nQ 21.1875 51.21875 25.484375 53.609375 \r\nQ 29.78125 56 35.6875 56 \r\nQ 41.65625 56 45.828125 52.96875 \r\nQ 50 49.953125 52 44.1875 \r\nz\r\n\" id=\"DejaVuSans-109\"/>\r\n      <path d=\"M 48.6875 27.296875 \r\nQ 48.6875 37.203125 44.609375 42.84375 \r\nQ 40.53125 48.484375 33.40625 48.484375 \r\nQ 26.265625 48.484375 22.1875 42.84375 \r\nQ 18.109375 37.203125 18.109375 27.296875 \r\nQ 18.109375 17.390625 22.1875 11.75 \r\nQ 26.265625 6.109375 33.40625 6.109375 \r\nQ 40.53125 6.109375 44.609375 11.75 \r\nQ 48.6875 17.390625 48.6875 27.296875 \r\nz\r\nM 18.109375 46.390625 \r\nQ 20.953125 51.265625 25.265625 53.625 \r\nQ 29.59375 56 35.59375 56 \r\nQ 45.5625 56 51.78125 48.09375 \r\nQ 58.015625 40.1875 58.015625 27.296875 \r\nQ 58.015625 14.40625 51.78125 6.484375 \r\nQ 45.5625 -1.421875 35.59375 -1.421875 \r\nQ 29.59375 -1.421875 25.265625 0.953125 \r\nQ 20.953125 3.328125 18.109375 8.203125 \r\nL 18.109375 0 \r\nL 9.078125 0 \r\nL 9.078125 75.984375 \r\nL 18.109375 75.984375 \r\nz\r\n\" id=\"DejaVuSans-98\"/>\r\n      <path d=\"M 56.203125 29.59375 \r\nL 56.203125 25.203125 \r\nL 14.890625 25.203125 \r\nQ 15.484375 15.921875 20.484375 11.0625 \r\nQ 25.484375 6.203125 34.421875 6.203125 \r\nQ 39.59375 6.203125 44.453125 7.46875 \r\nQ 49.3125 8.734375 54.109375 11.28125 \r\nL 54.109375 2.78125 \r\nQ 49.265625 0.734375 44.1875 -0.34375 \r\nQ 39.109375 -1.421875 33.890625 -1.421875 \r\nQ 20.796875 -1.421875 13.15625 6.1875 \r\nQ 5.515625 13.8125 5.515625 26.8125 \r\nQ 5.515625 40.234375 12.765625 48.109375 \r\nQ 20.015625 56 32.328125 56 \r\nQ 43.359375 56 49.78125 48.890625 \r\nQ 56.203125 41.796875 56.203125 29.59375 \r\nz\r\nM 47.21875 32.234375 \r\nQ 47.125 39.59375 43.09375 43.984375 \r\nQ 39.0625 48.390625 32.421875 48.390625 \r\nQ 24.90625 48.390625 20.390625 44.140625 \r\nQ 15.875 39.890625 15.1875 32.171875 \r\nz\r\n\" id=\"DejaVuSans-101\"/>\r\n      <path d=\"M 41.109375 46.296875 \r\nQ 39.59375 47.171875 37.8125 47.578125 \r\nQ 36.03125 48 33.890625 48 \r\nQ 26.265625 48 22.1875 43.046875 \r\nQ 18.109375 38.09375 18.109375 28.8125 \r\nL 18.109375 0 \r\nL 9.078125 0 \r\nL 9.078125 54.6875 \r\nL 18.109375 54.6875 \r\nL 18.109375 46.1875 \r\nQ 20.953125 51.171875 25.484375 53.578125 \r\nQ 30.03125 56 36.53125 56 \r\nQ 37.453125 56 38.578125 55.875 \r\nQ 39.703125 55.765625 41.0625 55.515625 \r\nz\r\n\" id=\"DejaVuSans-114\"/>\r\n      <path id=\"DejaVuSans-32\"/>\r\n      <path d=\"M 30.609375 48.390625 \r\nQ 23.390625 48.390625 19.1875 42.75 \r\nQ 14.984375 37.109375 14.984375 27.296875 \r\nQ 14.984375 17.484375 19.15625 11.84375 \r\nQ 23.34375 6.203125 30.609375 6.203125 \r\nQ 37.796875 6.203125 41.984375 11.859375 \r\nQ 46.1875 17.53125 46.1875 27.296875 \r\nQ 46.1875 37.015625 41.984375 42.703125 \r\nQ 37.796875 48.390625 30.609375 48.390625 \r\nz\r\nM 30.609375 56 \r\nQ 42.328125 56 49.015625 48.375 \r\nQ 55.71875 40.765625 55.71875 27.296875 \r\nQ 55.71875 13.875 49.015625 6.21875 \r\nQ 42.328125 -1.421875 30.609375 -1.421875 \r\nQ 18.84375 -1.421875 12.171875 6.21875 \r\nQ 5.515625 13.875 5.515625 27.296875 \r\nQ 5.515625 40.765625 12.171875 48.375 \r\nQ 18.84375 56 30.609375 56 \r\nz\r\n\" id=\"DejaVuSans-111\"/>\r\n      <path d=\"M 37.109375 75.984375 \r\nL 37.109375 68.5 \r\nL 28.515625 68.5 \r\nQ 23.6875 68.5 21.796875 66.546875 \r\nQ 19.921875 64.59375 19.921875 59.515625 \r\nL 19.921875 54.6875 \r\nL 34.71875 54.6875 \r\nL 34.71875 47.703125 \r\nL 19.921875 47.703125 \r\nL 19.921875 0 \r\nL 10.890625 0 \r\nL 10.890625 47.703125 \r\nL 2.296875 47.703125 \r\nL 2.296875 54.6875 \r\nL 10.890625 54.6875 \r\nL 10.890625 58.5 \r\nQ 10.890625 67.625 15.140625 71.796875 \r\nQ 19.390625 75.984375 28.609375 75.984375 \r\nz\r\n\" id=\"DejaVuSans-102\"/>\r\n      <path d=\"M 18.3125 70.21875 \r\nL 18.3125 54.6875 \r\nL 36.8125 54.6875 \r\nL 36.8125 47.703125 \r\nL 18.3125 47.703125 \r\nL 18.3125 18.015625 \r\nQ 18.3125 11.328125 20.140625 9.421875 \r\nQ 21.96875 7.515625 27.59375 7.515625 \r\nL 36.8125 7.515625 \r\nL 36.8125 0 \r\nL 27.59375 0 \r\nQ 17.1875 0 13.234375 3.875 \r\nQ 9.28125 7.765625 9.28125 18.015625 \r\nL 9.28125 47.703125 \r\nL 2.6875 47.703125 \r\nL 2.6875 54.6875 \r\nL 9.28125 54.6875 \r\nL 9.28125 70.21875 \r\nz\r\n\" id=\"DejaVuSans-116\"/>\r\n      <path d=\"M 34.28125 27.484375 \r\nQ 23.390625 27.484375 19.1875 25 \r\nQ 14.984375 22.515625 14.984375 16.5 \r\nQ 14.984375 11.71875 18.140625 8.90625 \r\nQ 21.296875 6.109375 26.703125 6.109375 \r\nQ 34.1875 6.109375 38.703125 11.40625 \r\nQ 43.21875 16.703125 43.21875 25.484375 \r\nL 43.21875 27.484375 \r\nz\r\nM 52.203125 31.203125 \r\nL 52.203125 0 \r\nL 43.21875 0 \r\nL 43.21875 8.296875 \r\nQ 40.140625 3.328125 35.546875 0.953125 \r\nQ 30.953125 -1.421875 24.3125 -1.421875 \r\nQ 15.921875 -1.421875 10.953125 3.296875 \r\nQ 6 8.015625 6 15.921875 \r\nQ 6 25.140625 12.171875 29.828125 \r\nQ 18.359375 34.515625 30.609375 34.515625 \r\nL 43.21875 34.515625 \r\nL 43.21875 35.40625 \r\nQ 43.21875 41.609375 39.140625 45 \r\nQ 35.0625 48.390625 27.6875 48.390625 \r\nQ 23 48.390625 18.546875 47.265625 \r\nQ 14.109375 46.140625 10.015625 43.890625 \r\nL 10.015625 52.203125 \r\nQ 14.9375 54.109375 19.578125 55.046875 \r\nQ 24.21875 56 28.609375 56 \r\nQ 40.484375 56 46.34375 49.84375 \r\nQ 52.203125 43.703125 52.203125 31.203125 \r\nz\r\n\" id=\"DejaVuSans-97\"/>\r\n      <path d=\"M 45.40625 27.984375 \r\nQ 45.40625 37.75 41.375 43.109375 \r\nQ 37.359375 48.484375 30.078125 48.484375 \r\nQ 22.859375 48.484375 18.828125 43.109375 \r\nQ 14.796875 37.75 14.796875 27.984375 \r\nQ 14.796875 18.265625 18.828125 12.890625 \r\nQ 22.859375 7.515625 30.078125 7.515625 \r\nQ 37.359375 7.515625 41.375 12.890625 \r\nQ 45.40625 18.265625 45.40625 27.984375 \r\nz\r\nM 54.390625 6.78125 \r\nQ 54.390625 -7.171875 48.1875 -13.984375 \r\nQ 42 -20.796875 29.203125 -20.796875 \r\nQ 24.46875 -20.796875 20.265625 -20.09375 \r\nQ 16.0625 -19.390625 12.109375 -17.921875 \r\nL 12.109375 -9.1875 \r\nQ 16.0625 -11.328125 19.921875 -12.34375 \r\nQ 23.78125 -13.375 27.78125 -13.375 \r\nQ 36.625 -13.375 41.015625 -8.765625 \r\nQ 45.40625 -4.15625 45.40625 5.171875 \r\nL 45.40625 9.625 \r\nQ 42.625 4.78125 38.28125 2.390625 \r\nQ 33.9375 0 27.875 0 \r\nQ 17.828125 0 11.671875 7.65625 \r\nQ 5.515625 15.328125 5.515625 27.984375 \r\nQ 5.515625 40.671875 11.671875 48.328125 \r\nQ 17.828125 56 27.875 56 \r\nQ 33.9375 56 38.28125 53.609375 \r\nQ 42.625 51.21875 45.40625 46.390625 \r\nL 45.40625 54.6875 \r\nL 54.390625 54.6875 \r\nz\r\n\" id=\"DejaVuSans-103\"/>\r\n      <path d=\"M 44.28125 53.078125 \r\nL 44.28125 44.578125 \r\nQ 40.484375 46.53125 36.375 47.5 \r\nQ 32.28125 48.484375 27.875 48.484375 \r\nQ 21.1875 48.484375 17.84375 46.4375 \r\nQ 14.5 44.390625 14.5 40.28125 \r\nQ 14.5 37.15625 16.890625 35.375 \r\nQ 19.28125 33.59375 26.515625 31.984375 \r\nL 29.59375 31.296875 \r\nQ 39.15625 29.25 43.1875 25.515625 \r\nQ 47.21875 21.78125 47.21875 15.09375 \r\nQ 47.21875 7.46875 41.1875 3.015625 \r\nQ 35.15625 -1.421875 24.609375 -1.421875 \r\nQ 20.21875 -1.421875 15.453125 -0.5625 \r\nQ 10.6875 0.296875 5.421875 2 \r\nL 5.421875 11.28125 \r\nQ 10.40625 8.6875 15.234375 7.390625 \r\nQ 20.0625 6.109375 24.8125 6.109375 \r\nQ 31.15625 6.109375 34.5625 8.28125 \r\nQ 37.984375 10.453125 37.984375 14.40625 \r\nQ 37.984375 18.0625 35.515625 20.015625 \r\nQ 33.0625 21.96875 24.703125 23.78125 \r\nL 21.578125 24.515625 \r\nQ 13.234375 26.265625 9.515625 29.90625 \r\nQ 5.8125 33.546875 5.8125 39.890625 \r\nQ 5.8125 47.609375 11.28125 51.796875 \r\nQ 16.75 56 26.8125 56 \r\nQ 31.78125 56 36.171875 55.265625 \r\nQ 40.578125 54.546875 44.28125 53.078125 \r\nz\r\n\" id=\"DejaVuSans-115\"/>\r\n     </defs>\r\n     <g transform=\"translate(269.55375 230.119375)scale(0.16 -0.16)\">\r\n      <use xlink:href=\"#DejaVuSans-78\"/>\r\n      <use x=\"74.804688\" xlink:href=\"#DejaVuSans-117\"/>\r\n      <use x=\"138.183594\" xlink:href=\"#DejaVuSans-109\"/>\r\n      <use x=\"235.595703\" xlink:href=\"#DejaVuSans-98\"/>\r\n      <use x=\"299.072266\" xlink:href=\"#DejaVuSans-101\"/>\r\n      <use x=\"360.595703\" xlink:href=\"#DejaVuSans-114\"/>\r\n      <use x=\"401.708984\" xlink:href=\"#DejaVuSans-32\"/>\r\n      <use x=\"433.496094\" xlink:href=\"#DejaVuSans-111\"/>\r\n      <use x=\"494.677734\" xlink:href=\"#DejaVuSans-102\"/>\r\n      <use x=\"529.882812\" xlink:href=\"#DejaVuSans-32\"/>\r\n      <use x=\"561.669922\" xlink:href=\"#DejaVuSans-116\"/>\r\n      <use x=\"600.878906\" xlink:href=\"#DejaVuSans-97\"/>\r\n      <use x=\"662.158203\" xlink:href=\"#DejaVuSans-103\"/>\r\n      <use x=\"725.634766\" xlink:href=\"#DejaVuSans-115\"/>\r\n     </g>\r\n    </g>\r\n   </g>\r\n   <g id=\"matplotlib.axis_2\">\r\n    <g id=\"ytick_1\">\r\n     <g id=\"line2d_9\">\r\n      <defs>\r\n       <path d=\"M 0 0 \r\nL -3.5 0 \r\n\" id=\"m9409387476\" style=\"stroke:#000000;stroke-width:0.8;\"/>\r\n      </defs>\r\n      <g>\r\n       <use style=\"stroke:#000000;stroke-width:0.8;\" x=\"52.7725\" xlink:href=\"#m9409387476\" y=\"191.476875\"/>\r\n      </g>\r\n     </g>\r\n     <g id=\"text_10\">\r\n      <!-- 0 -->\r\n      <defs>\r\n       <path d=\"M 31.78125 66.40625 \r\nQ 24.171875 66.40625 20.328125 58.90625 \r\nQ 16.5 51.421875 16.5 36.375 \r\nQ 16.5 21.390625 20.328125 13.890625 \r\nQ 24.171875 6.390625 31.78125 6.390625 \r\nQ 39.453125 6.390625 43.28125 13.890625 \r\nQ 47.125 21.390625 47.125 36.375 \r\nQ 47.125 51.421875 43.28125 58.90625 \r\nQ 39.453125 66.40625 31.78125 66.40625 \r\nz\r\nM 31.78125 74.21875 \r\nQ 44.046875 74.21875 50.515625 64.515625 \r\nQ 56.984375 54.828125 56.984375 36.375 \r\nQ 56.984375 17.96875 50.515625 8.265625 \r\nQ 44.046875 -1.421875 31.78125 -1.421875 \r\nQ 19.53125 -1.421875 13.0625 8.265625 \r\nQ 6.59375 17.96875 6.59375 36.375 \r\nQ 6.59375 54.828125 13.0625 64.515625 \r\nQ 19.53125 74.21875 31.78125 74.21875 \r\nz\r\n\" id=\"DejaVuSans-48\"/>\r\n      </defs>\r\n      <g transform=\"translate(39.41 195.276094)scale(0.1 -0.1)\">\r\n       <use xlink:href=\"#DejaVuSans-48\"/>\r\n      </g>\r\n     </g>\r\n    </g>\r\n    <g id=\"ytick_2\">\r\n     <g id=\"line2d_10\">\r\n      <g>\r\n       <use style=\"stroke:#000000;stroke-width:0.8;\" x=\"52.7725\" xlink:href=\"#m9409387476\" y=\"164.276475\"/>\r\n      </g>\r\n     </g>\r\n     <g id=\"text_11\">\r\n      <!-- 100 -->\r\n      <g transform=\"translate(26.685 168.075693)scale(0.1 -0.1)\">\r\n       <use xlink:href=\"#DejaVuSans-49\"/>\r\n       <use x=\"63.623047\" xlink:href=\"#DejaVuSans-48\"/>\r\n       <use x=\"127.246094\" xlink:href=\"#DejaVuSans-48\"/>\r\n      </g>\r\n     </g>\r\n    </g>\r\n    <g id=\"ytick_3\">\r\n     <g id=\"line2d_11\">\r\n      <g>\r\n       <use style=\"stroke:#000000;stroke-width:0.8;\" x=\"52.7725\" xlink:href=\"#m9409387476\" y=\"137.076074\"/>\r\n      </g>\r\n     </g>\r\n     <g id=\"text_12\">\r\n      <!-- 200 -->\r\n      <g transform=\"translate(26.685 140.875293)scale(0.1 -0.1)\">\r\n       <use xlink:href=\"#DejaVuSans-50\"/>\r\n       <use x=\"63.623047\" xlink:href=\"#DejaVuSans-48\"/>\r\n       <use x=\"127.246094\" xlink:href=\"#DejaVuSans-48\"/>\r\n      </g>\r\n     </g>\r\n    </g>\r\n    <g id=\"ytick_4\">\r\n     <g id=\"line2d_12\">\r\n      <g>\r\n       <use style=\"stroke:#000000;stroke-width:0.8;\" x=\"52.7725\" xlink:href=\"#m9409387476\" y=\"109.875674\"/>\r\n      </g>\r\n     </g>\r\n     <g id=\"text_13\">\r\n      <!-- 300 -->\r\n      <g transform=\"translate(26.685 113.674893)scale(0.1 -0.1)\">\r\n       <use xlink:href=\"#DejaVuSans-51\"/>\r\n       <use x=\"63.623047\" xlink:href=\"#DejaVuSans-48\"/>\r\n       <use x=\"127.246094\" xlink:href=\"#DejaVuSans-48\"/>\r\n      </g>\r\n     </g>\r\n    </g>\r\n    <g id=\"ytick_5\">\r\n     <g id=\"line2d_13\">\r\n      <g>\r\n       <use style=\"stroke:#000000;stroke-width:0.8;\" x=\"52.7725\" xlink:href=\"#m9409387476\" y=\"82.675274\"/>\r\n      </g>\r\n     </g>\r\n     <g id=\"text_14\">\r\n      <!-- 400 -->\r\n      <g transform=\"translate(26.685 86.474493)scale(0.1 -0.1)\">\r\n       <use xlink:href=\"#DejaVuSans-52\"/>\r\n       <use x=\"63.623047\" xlink:href=\"#DejaVuSans-48\"/>\r\n       <use x=\"127.246094\" xlink:href=\"#DejaVuSans-48\"/>\r\n      </g>\r\n     </g>\r\n    </g>\r\n    <g id=\"ytick_6\">\r\n     <g id=\"line2d_14\">\r\n      <g>\r\n       <use style=\"stroke:#000000;stroke-width:0.8;\" x=\"52.7725\" xlink:href=\"#m9409387476\" y=\"55.474873\"/>\r\n      </g>\r\n     </g>\r\n     <g id=\"text_15\">\r\n      <!-- 500 -->\r\n      <g transform=\"translate(26.685 59.274092)scale(0.1 -0.1)\">\r\n       <use xlink:href=\"#DejaVuSans-53\"/>\r\n       <use x=\"63.623047\" xlink:href=\"#DejaVuSans-48\"/>\r\n       <use x=\"127.246094\" xlink:href=\"#DejaVuSans-48\"/>\r\n      </g>\r\n     </g>\r\n    </g>\r\n    <g id=\"text_16\">\r\n     <!-- Number of projects -->\r\n     <defs>\r\n      <path d=\"M 18.109375 8.203125 \r\nL 18.109375 -20.796875 \r\nL 9.078125 -20.796875 \r\nL 9.078125 54.6875 \r\nL 18.109375 54.6875 \r\nL 18.109375 46.390625 \r\nQ 20.953125 51.265625 25.265625 53.625 \r\nQ 29.59375 56 35.59375 56 \r\nQ 45.5625 56 51.78125 48.09375 \r\nQ 58.015625 40.1875 58.015625 27.296875 \r\nQ 58.015625 14.40625 51.78125 6.484375 \r\nQ 45.5625 -1.421875 35.59375 -1.421875 \r\nQ 29.59375 -1.421875 25.265625 0.953125 \r\nQ 20.953125 3.328125 18.109375 8.203125 \r\nz\r\nM 48.6875 27.296875 \r\nQ 48.6875 37.203125 44.609375 42.84375 \r\nQ 40.53125 48.484375 33.40625 48.484375 \r\nQ 26.265625 48.484375 22.1875 42.84375 \r\nQ 18.109375 37.203125 18.109375 27.296875 \r\nQ 18.109375 17.390625 22.1875 11.75 \r\nQ 26.265625 6.109375 33.40625 6.109375 \r\nQ 40.53125 6.109375 44.609375 11.75 \r\nQ 48.6875 17.390625 48.6875 27.296875 \r\nz\r\n\" id=\"DejaVuSans-112\"/>\r\n      <path d=\"M 9.421875 54.6875 \r\nL 18.40625 54.6875 \r\nL 18.40625 -0.984375 \r\nQ 18.40625 -11.421875 14.421875 -16.109375 \r\nQ 10.453125 -20.796875 1.609375 -20.796875 \r\nL -1.8125 -20.796875 \r\nL -1.8125 -13.1875 \r\nL 0.59375 -13.1875 \r\nQ 5.71875 -13.1875 7.5625 -10.8125 \r\nQ 9.421875 -8.453125 9.421875 -0.984375 \r\nz\r\nM 9.421875 75.984375 \r\nL 18.40625 75.984375 \r\nL 18.40625 64.59375 \r\nL 9.421875 64.59375 \r\nz\r\n\" id=\"DejaVuSans-106\"/>\r\n      <path d=\"M 48.78125 52.59375 \r\nL 48.78125 44.1875 \r\nQ 44.96875 46.296875 41.140625 47.34375 \r\nQ 37.3125 48.390625 33.40625 48.390625 \r\nQ 24.65625 48.390625 19.8125 42.84375 \r\nQ 14.984375 37.3125 14.984375 27.296875 \r\nQ 14.984375 17.28125 19.8125 11.734375 \r\nQ 24.65625 6.203125 33.40625 6.203125 \r\nQ 37.3125 6.203125 41.140625 7.25 \r\nQ 44.96875 8.296875 48.78125 10.40625 \r\nL 48.78125 2.09375 \r\nQ 45.015625 0.34375 40.984375 -0.53125 \r\nQ 36.96875 -1.421875 32.421875 -1.421875 \r\nQ 20.0625 -1.421875 12.78125 6.34375 \r\nQ 5.515625 14.109375 5.515625 27.296875 \r\nQ 5.515625 40.671875 12.859375 48.328125 \r\nQ 20.21875 56 33.015625 56 \r\nQ 37.15625 56 41.109375 55.140625 \r\nQ 45.0625 54.296875 48.78125 52.59375 \r\nz\r\n\" id=\"DejaVuSans-99\"/>\r\n     </defs>\r\n     <g transform=\"translate(19.3575 186.978125)rotate(-90)scale(0.16 -0.16)\">\r\n      <use xlink:href=\"#DejaVuSans-78\"/>\r\n      <use x=\"74.804688\" xlink:href=\"#DejaVuSans-117\"/>\r\n      <use x=\"138.183594\" xlink:href=\"#DejaVuSans-109\"/>\r\n      <use x=\"235.595703\" xlink:href=\"#DejaVuSans-98\"/>\r\n      <use x=\"299.072266\" xlink:href=\"#DejaVuSans-101\"/>\r\n      <use x=\"360.595703\" xlink:href=\"#DejaVuSans-114\"/>\r\n      <use x=\"401.708984\" xlink:href=\"#DejaVuSans-32\"/>\r\n      <use x=\"433.496094\" xlink:href=\"#DejaVuSans-111\"/>\r\n      <use x=\"494.677734\" xlink:href=\"#DejaVuSans-102\"/>\r\n      <use x=\"529.882812\" xlink:href=\"#DejaVuSans-32\"/>\r\n      <use x=\"561.669922\" xlink:href=\"#DejaVuSans-112\"/>\r\n      <use x=\"625.146484\" xlink:href=\"#DejaVuSans-114\"/>\r\n      <use x=\"666.228516\" xlink:href=\"#DejaVuSans-111\"/>\r\n      <use x=\"727.410156\" xlink:href=\"#DejaVuSans-106\"/>\r\n      <use x=\"755.193359\" xlink:href=\"#DejaVuSans-101\"/>\r\n      <use x=\"816.716797\" xlink:href=\"#DejaVuSans-99\"/>\r\n      <use x=\"871.697266\" xlink:href=\"#DejaVuSans-116\"/>\r\n      <use x=\"910.90625\" xlink:href=\"#DejaVuSans-115\"/>\r\n     </g>\r\n    </g>\r\n   </g>\r\n   <g id=\"line2d_15\">\r\n    <path clip-path=\"url(#p051b24ce2a)\" d=\"M 0 0 \r\n\" style=\"fill:none;stroke:#424242;stroke-linecap:square;stroke-width:2.7;\"/>\r\n   </g>\r\n   <g id=\"line2d_16\">\r\n    <path clip-path=\"url(#p051b24ce2a)\" d=\"M 0 0 \r\n\" style=\"fill:none;stroke:#424242;stroke-linecap:square;stroke-width:2.7;\"/>\r\n   </g>\r\n   <g id=\"line2d_17\">\r\n    <path clip-path=\"url(#p051b24ce2a)\" d=\"M 0 0 \r\n\" style=\"fill:none;stroke:#424242;stroke-linecap:square;stroke-width:2.7;\"/>\r\n   </g>\r\n   <g id=\"line2d_18\">\r\n    <path clip-path=\"url(#p051b24ce2a)\" d=\"M 0 0 \r\n\" style=\"fill:none;stroke:#424242;stroke-linecap:square;stroke-width:2.7;\"/>\r\n   </g>\r\n   <g id=\"line2d_19\">\r\n    <path clip-path=\"url(#p051b24ce2a)\" d=\"M 0 0 \r\n\" style=\"fill:none;stroke:#424242;stroke-linecap:square;stroke-width:2.7;\"/>\r\n   </g>\r\n   <g id=\"line2d_20\">\r\n    <path clip-path=\"url(#p051b24ce2a)\" d=\"M 0 0 \r\n\" style=\"fill:none;stroke:#424242;stroke-linecap:square;stroke-width:2.7;\"/>\r\n   </g>\r\n   <g id=\"line2d_21\">\r\n    <path clip-path=\"url(#p051b24ce2a)\" d=\"M 0 0 \r\n\" style=\"fill:none;stroke:#424242;stroke-linecap:square;stroke-width:2.7;\"/>\r\n   </g>\r\n   <g id=\"line2d_22\">\r\n    <path clip-path=\"url(#p051b24ce2a)\" d=\"M 0 0 \r\n\" style=\"fill:none;stroke:#424242;stroke-linecap:square;stroke-width:2.7;\"/>\r\n   </g>\r\n   <g id=\"patch_11\">\r\n    <path d=\"M 52.7725 191.476875 \r\nL 52.7725 28.396875 \r\n\" style=\"fill:none;stroke:#000000;stroke-linecap:square;stroke-linejoin:miter;stroke-width:0.8;\"/>\r\n   </g>\r\n   <g id=\"patch_12\">\r\n    <path d=\"M 610.7725 191.476875 \r\nL 610.7725 28.396875 \r\n\" style=\"fill:none;stroke:#000000;stroke-linecap:square;stroke-linejoin:miter;stroke-width:0.8;\"/>\r\n   </g>\r\n   <g id=\"patch_13\">\r\n    <path d=\"M 52.7725 191.476875 \r\nL 610.7725 191.476875 \r\n\" style=\"fill:none;stroke:#000000;stroke-linecap:square;stroke-linejoin:miter;stroke-width:0.8;\"/>\r\n   </g>\r\n   <g id=\"patch_14\">\r\n    <path d=\"M 52.7725 28.396875 \r\nL 610.7725 28.396875 \r\n\" style=\"fill:none;stroke:#000000;stroke-linecap:square;stroke-linejoin:miter;stroke-width:0.8;\"/>\r\n   </g>\r\n   <g id=\"text_17\">\r\n    <!-- Tags per project -->\r\n    <defs>\r\n     <path d=\"M -0.296875 72.90625 \r\nL 61.375 72.90625 \r\nL 61.375 64.59375 \r\nL 35.5 64.59375 \r\nL 35.5 0 \r\nL 25.59375 0 \r\nL 25.59375 64.59375 \r\nL -0.296875 64.59375 \r\nz\r\n\" id=\"DejaVuSans-84\"/>\r\n    </defs>\r\n    <g transform=\"translate(250.11 22.396875)scale(0.2 -0.2)\">\r\n     <use xlink:href=\"#DejaVuSans-84\"/>\r\n     <use x=\"60.833984\" xlink:href=\"#DejaVuSans-97\"/>\r\n     <use x=\"122.113281\" xlink:href=\"#DejaVuSans-103\"/>\r\n     <use x=\"185.589844\" xlink:href=\"#DejaVuSans-115\"/>\r\n     <use x=\"237.689453\" xlink:href=\"#DejaVuSans-32\"/>\r\n     <use x=\"269.476562\" xlink:href=\"#DejaVuSans-112\"/>\r\n     <use x=\"332.953125\" xlink:href=\"#DejaVuSans-101\"/>\r\n     <use x=\"394.476562\" xlink:href=\"#DejaVuSans-114\"/>\r\n     <use x=\"435.589844\" xlink:href=\"#DejaVuSans-32\"/>\r\n     <use x=\"467.376953\" xlink:href=\"#DejaVuSans-112\"/>\r\n     <use x=\"530.853516\" xlink:href=\"#DejaVuSans-114\"/>\r\n     <use x=\"571.935547\" xlink:href=\"#DejaVuSans-111\"/>\r\n     <use x=\"633.117188\" xlink:href=\"#DejaVuSans-106\"/>\r\n     <use x=\"660.900391\" xlink:href=\"#DejaVuSans-101\"/>\r\n     <use x=\"722.423828\" xlink:href=\"#DejaVuSans-99\"/>\r\n     <use x=\"777.404297\" xlink:href=\"#DejaVuSans-116\"/>\r\n    </g>\r\n   </g>\r\n  </g>\r\n </g>\r\n <defs>\r\n  <clipPath id=\"p051b24ce2a\">\r\n   <rect height=\"163.08\" width=\"558\" x=\"52.7725\" y=\"28.396875\"/>\r\n  </clipPath>\r\n </defs>\r\n</svg>\r\n",
      "image/png": "[encoded data removed]"
     },
     "metadata": {
      "needs_background": "light"
     }
    }
   ],
   "source": [
    "num_tags_per_project=[len(tags) for tags in df.tags]\n",
    "num_tags,num_projects=zip(*Counter(num_tags_per_project).items())\n",
    "plt.figure(figsize=(10,3))\n",
    "ax=sns.barplot(list(num_tags),list(num_projects))\n",
    "plt.title(\"Tags per project\",fontsize=20)\n",
    "plt.xlabel(\"Number of tags\", fontsize=16)\n",
    "ax.set_xticklabels(range(1, len(num_tags)+1), rotation=0, fontsize=16)\n",
    "plt.ylabel(\"Number of projects\", fontsize=16)\n",
    "plt.show()"
   ]
  },
  {
   "source": [
    "## Tag distrbution\n",
    "What are the most popular tags?"
   ],
   "cell_type": "markdown",
   "metadata": {}
  },
  {
   "cell_type": "code",
   "execution_count": 141,
   "metadata": {},
   "outputs": [
    {
     "output_type": "display_data",
     "data": {
      "text/plain": "<Figure size 1800x360 with 1 Axes>",
      "image/svg+xml": "<?xml version=\"1.0\" encoding=\"utf-8\" standalone=\"no\"?>\r\n<!DOCTYPE svg PUBLIC \"-//W3C//DTD SVG 1.1//EN\"\r\n  \"http://www.w3.org/Graphics/SVG/1.1/DTD/svg11.dtd\">\r\n<!-- Created with matplotlib (https://matplotlib.org/) -->\r\n<svg height=\"561.84125pt\" version=\"1.1\" viewBox=\"0 0 1454.9725 561.84125\" width=\"1454.9725pt\" xmlns=\"http://www.w3.org/2000/svg\" xmlns:xlink=\"http://www.w3.org/1999/xlink\">\r\n <defs>\r\n  <style type=\"text/css\">\r\n*{stroke-linecap:butt;stroke-linejoin:round;}\r\n  </style>\r\n </defs>\r\n <g id=\"figure_1\">\r\n  <g id=\"patch_1\">\r\n   <path d=\"M 0 561.84125 \r\nL 1454.9725 561.84125 \r\nL 1454.9725 0 \r\nL 0 0 \r\nz\r\n\" style=\"fill:none;\"/>\r\n  </g>\r\n  <g id=\"axes_1\">\r\n   <g id=\"patch_2\">\r\n    <path d=\"M 52.7725 300.196875 \r\nL 1447.7725 300.196875 \r\nL 1447.7725 28.396875 \r\nL 52.7725 28.396875 \r\nz\r\n\" style=\"fill:#ffffff;\"/>\r\n   </g>\r\n   <g id=\"patch_3\">\r\n    <path clip-path=\"url(#p638ed2f42c)\" d=\"M 56.758214 300.196875 \r\nL 88.643929 300.196875 \r\nL 88.643929 41.339732 \r\nL 56.758214 41.339732 \r\nz\r\n\" style=\"fill:#ea96a3;\"/>\r\n   </g>\r\n   <g id=\"patch_4\">\r\n    <path clip-path=\"url(#p638ed2f42c)\" d=\"M 96.615357 300.196875 \r\nL 128.501071 300.196875 \r\nL 128.501071 66.078993 \r\nL 96.615357 66.078993 \r\nz\r\n\" style=\"fill:#ea9794;\"/>\r\n   </g>\r\n   <g id=\"patch_5\">\r\n    <path clip-path=\"url(#p638ed2f42c)\" d=\"M 136.4725 300.196875 \r\nL 168.358214 300.196875 \r\nL 168.358214 144.520551 \r\nL 136.4725 144.520551 \r\nz\r\n\" style=\"fill:#e6957c;\"/>\r\n   </g>\r\n   <g id=\"patch_6\">\r\n    <path clip-path=\"url(#p638ed2f42c)\" d=\"M 176.329643 300.196875 \r\nL 208.215357 300.196875 \r\nL 208.215357 171.673398 \r\nL 176.329643 171.673398 \r\nz\r\n\" style=\"fill:#e0914f;\"/>\r\n   </g>\r\n   <g id=\"patch_7\">\r\n    <path clip-path=\"url(#p638ed2f42c)\" d=\"M 216.186786 300.196875 \r\nL 248.0725 300.196875 \r\nL 248.0725 181.931141 \r\nL 216.186786 181.931141 \r\nz\r\n\" style=\"fill:#cf964d;\"/>\r\n   </g>\r\n   <g id=\"patch_8\">\r\n    <path clip-path=\"url(#p638ed2f42c)\" d=\"M 256.043929 300.196875 \r\nL 287.929643 300.196875 \r\nL 287.929643 227.789283 \r\nL 256.043929 227.789283 \r\nz\r\n\" style=\"fill:#c29a4b;\"/>\r\n   </g>\r\n   <g id=\"patch_9\">\r\n    <path clip-path=\"url(#p638ed2f42c)\" d=\"M 295.901071 300.196875 \r\nL 327.786786 300.196875 \r\nL 327.786786 236.236835 \r\nL 295.901071 236.236835 \r\nz\r\n\" style=\"fill:#b79c49;\"/>\r\n   </g>\r\n   <g id=\"patch_10\">\r\n    <path clip-path=\"url(#p638ed2f42c)\" d=\"M 335.758214 300.196875 \r\nL 367.643929 300.196875 \r\nL 367.643929 244.080991 \r\nL 335.758214 244.080991 \r\nz\r\n\" style=\"fill:#ab9e47;\"/>\r\n   </g>\r\n   <g id=\"patch_11\">\r\n    <path clip-path=\"url(#p638ed2f42c)\" d=\"M 375.615357 300.196875 \r\nL 407.501071 300.196875 \r\nL 407.501071 253.13194 \r\nL 375.615357 253.13194 \r\nz\r\n\" style=\"fill:#a09f45;\"/>\r\n   </g>\r\n   <g id=\"patch_12\">\r\n    <path clip-path=\"url(#p638ed2f42c)\" d=\"M 415.4725 300.196875 \r\nL 447.358214 300.196875 \r\nL 447.358214 254.94213 \r\nL 415.4725 254.94213 \r\nz\r\n\" style=\"fill:#95a346;\"/>\r\n   </g>\r\n   <g id=\"patch_13\">\r\n    <path clip-path=\"url(#p638ed2f42c)\" d=\"M 455.329643 300.196875 \r\nL 487.215357 300.196875 \r\nL 487.215357 256.148923 \r\nL 455.329643 256.148923 \r\nz\r\n\" style=\"fill:#88a746;\"/>\r\n   </g>\r\n   <g id=\"patch_14\">\r\n    <path clip-path=\"url(#p638ed2f42c)\" d=\"M 495.186786 300.196875 \r\nL 527.0725 300.196875 \r\nL 527.0725 258.562509 \r\nL 495.186786 258.562509 \r\nz\r\n\" style=\"fill:#75ab47;\"/>\r\n   </g>\r\n   <g id=\"patch_15\">\r\n    <path clip-path=\"url(#p638ed2f42c)\" d=\"M 535.043929 300.196875 \r\nL 566.929643 300.196875 \r\nL 566.929643 261.579492 \r\nL 535.043929 261.579492 \r\nz\r\n\" style=\"fill:#4fb047;\"/>\r\n   </g>\r\n   <g id=\"patch_16\">\r\n    <path clip-path=\"url(#p638ed2f42c)\" d=\"M 574.901071 300.196875 \r\nL 606.786786 300.196875 \r\nL 606.786786 263.993079 \r\nL 574.901071 263.993079 \r\nz\r\n\" style=\"fill:#48af6f;\"/>\r\n   </g>\r\n   <g id=\"patch_17\">\r\n    <path clip-path=\"url(#p638ed2f42c)\" d=\"M 614.758214 300.196875 \r\nL 646.643929 300.196875 \r\nL 646.643929 264.596475 \r\nL 614.758214 264.596475 \r\nz\r\n\" style=\"fill:#49ae83;\"/>\r\n   </g>\r\n   <g id=\"patch_18\">\r\n    <path clip-path=\"url(#p638ed2f42c)\" d=\"M 654.615357 300.196875 \r\nL 686.501071 300.196875 \r\nL 686.501071 265.803269 \r\nL 654.615357 265.803269 \r\nz\r\n\" style=\"fill:#4aad8f;\"/>\r\n   </g>\r\n   <g id=\"patch_19\">\r\n    <path clip-path=\"url(#p638ed2f42c)\" d=\"M 694.4725 300.196875 \r\nL 726.358214 300.196875 \r\nL 726.358214 267.010062 \r\nL 694.4725 267.010062 \r\nz\r\n\" style=\"fill:#4aac99;\"/>\r\n   </g>\r\n   <g id=\"patch_20\">\r\n    <path clip-path=\"url(#p638ed2f42c)\" d=\"M 734.329643 300.196875 \r\nL 766.215357 300.196875 \r\nL 766.215357 269.423648 \r\nL 734.329643 269.423648 \r\nz\r\n\" style=\"fill:#4baca1;\"/>\r\n   </g>\r\n   <g id=\"patch_21\">\r\n    <path clip-path=\"url(#p638ed2f42c)\" d=\"M 774.186786 300.196875 \r\nL 806.0725 300.196875 \r\nL 806.0725 269.423648 \r\nL 774.186786 269.423648 \r\nz\r\n\" style=\"fill:#4baba8;\"/>\r\n   </g>\r\n   <g id=\"patch_22\">\r\n    <path clip-path=\"url(#p638ed2f42c)\" d=\"M 814.043929 300.196875 \r\nL 845.929643 300.196875 \r\nL 845.929643 269.423648 \r\nL 814.043929 269.423648 \r\nz\r\n\" style=\"fill:#4cabb0;\"/>\r\n   </g>\r\n   <g id=\"patch_23\">\r\n    <path clip-path=\"url(#p638ed2f42c)\" d=\"M 853.901071 300.196875 \r\nL 885.786786 300.196875 \r\nL 885.786786 269.423648 \r\nL 853.901071 269.423648 \r\nz\r\n\" style=\"fill:#4eabb8;\"/>\r\n   </g>\r\n   <g id=\"patch_24\">\r\n    <path clip-path=\"url(#p638ed2f42c)\" d=\"M 893.758214 300.196875 \r\nL 925.643929 300.196875 \r\nL 925.643929 270.630441 \r\nL 893.758214 270.630441 \r\nz\r\n\" style=\"fill:#50acc3;\"/>\r\n   </g>\r\n   <g id=\"patch_25\">\r\n    <path clip-path=\"url(#p638ed2f42c)\" d=\"M 933.615357 300.196875 \r\nL 965.501071 300.196875 \r\nL 965.501071 271.233838 \r\nL 933.615357 271.233838 \r\nz\r\n\" style=\"fill:#53accf;\"/>\r\n   </g>\r\n   <g id=\"patch_26\">\r\n    <path clip-path=\"url(#p638ed2f42c)\" d=\"M 973.4725 300.196875 \r\nL 1005.358214 300.196875 \r\nL 1005.358214 272.440631 \r\nL 973.4725 272.440631 \r\nz\r\n\" style=\"fill:#5aade0;\"/>\r\n   </g>\r\n   <g id=\"patch_27\">\r\n    <path clip-path=\"url(#p638ed2f42c)\" d=\"M 1013.329643 300.196875 \r\nL 1045.215357 300.196875 \r\nL 1045.215357 275.457614 \r\nL 1013.329643 275.457614 \r\nz\r\n\" style=\"fill:#86aee6;\"/>\r\n   </g>\r\n   <g id=\"patch_28\">\r\n    <path clip-path=\"url(#p638ed2f42c)\" d=\"M 1053.186786 300.196875 \r\nL 1085.0725 300.196875 \r\nL 1085.0725 275.457614 \r\nL 1053.186786 275.457614 \r\nz\r\n\" style=\"fill:#a0adea;\"/>\r\n   </g>\r\n   <g id=\"patch_29\">\r\n    <path clip-path=\"url(#p638ed2f42c)\" d=\"M 1093.043929 300.196875 \r\nL 1124.929643 300.196875 \r\nL 1124.929643 276.061011 \r\nL 1093.043929 276.061011 \r\nz\r\n\" style=\"fill:#b2a9eb;\"/>\r\n   </g>\r\n   <g id=\"patch_30\">\r\n    <path clip-path=\"url(#p638ed2f42c)\" d=\"M 1132.901071 300.196875 \r\nL 1164.786786 300.196875 \r\nL 1164.786786 276.061011 \r\nL 1132.901071 276.061011 \r\nz\r\n\" style=\"fill:#c1a3ea;\"/>\r\n   </g>\r\n   <g id=\"patch_31\">\r\n    <path clip-path=\"url(#p638ed2f42c)\" d=\"M 1172.758214 300.196875 \r\nL 1204.643929 300.196875 \r\nL 1204.643929 276.664407 \r\nL 1172.758214 276.664407 \r\nz\r\n\" style=\"fill:#ce9be9;\"/>\r\n   </g>\r\n   <g id=\"patch_32\">\r\n    <path clip-path=\"url(#p638ed2f42c)\" d=\"M 1212.615357 300.196875 \r\nL 1244.501071 300.196875 \r\nL 1244.501071 276.664407 \r\nL 1212.615357 276.664407 \r\nz\r\n\" style=\"fill:#dc91e7;\"/>\r\n   </g>\r\n   <g id=\"patch_33\">\r\n    <path clip-path=\"url(#p638ed2f42c)\" d=\"M 1252.4725 300.196875 \r\nL 1284.358214 300.196875 \r\nL 1284.358214 279.68139 \r\nL 1252.4725 279.68139 \r\nz\r\n\" style=\"fill:#e78ae0;\"/>\r\n   </g>\r\n   <g id=\"patch_34\">\r\n    <path clip-path=\"url(#p638ed2f42c)\" d=\"M 1292.329643 300.196875 \r\nL 1324.215357 300.196875 \r\nL 1324.215357 279.68139 \r\nL 1292.329643 279.68139 \r\nz\r\n\" style=\"fill:#e78dd2;\"/>\r\n   </g>\r\n   <g id=\"patch_35\">\r\n    <path clip-path=\"url(#p638ed2f42c)\" d=\"M 1332.186786 300.196875 \r\nL 1364.0725 300.196875 \r\nL 1364.0725 280.284787 \r\nL 1332.186786 280.284787 \r\nz\r\n\" style=\"fill:#e890c7;\"/>\r\n   </g>\r\n   <g id=\"patch_36\">\r\n    <path clip-path=\"url(#p638ed2f42c)\" d=\"M 1372.043929 300.196875 \r\nL 1403.929643 300.196875 \r\nL 1403.929643 280.888184 \r\nL 1372.043929 280.888184 \r\nz\r\n\" style=\"fill:#e992bc;\"/>\r\n   </g>\r\n   <g id=\"patch_37\">\r\n    <path clip-path=\"url(#p638ed2f42c)\" d=\"M 1411.901071 300.196875 \r\nL 1443.786786 300.196875 \r\nL 1443.786786 282.094977 \r\nL 1411.901071 282.094977 \r\nz\r\n\" style=\"fill:#e994b1;\"/>\r\n   </g>\r\n   <g id=\"matplotlib.axis_1\">\r\n    <g id=\"xtick_1\">\r\n     <g id=\"line2d_1\">\r\n      <defs>\r\n       <path d=\"M 0 0 \r\nL 0 3.5 \r\n\" id=\"mc8b18d9bcd\" style=\"stroke:#000000;stroke-width:0.8;\"/>\r\n      </defs>\r\n      <g>\r\n       <use style=\"stroke:#000000;stroke-width:0.8;\" x=\"72.701071\" xlink:href=\"#mc8b18d9bcd\" y=\"300.196875\"/>\r\n      </g>\r\n     </g>\r\n     <g id=\"text_1\">\r\n      <!-- natural-language-processing -->\r\n      <defs>\r\n       <path d=\"M 54.890625 33.015625 \r\nL 54.890625 0 \r\nL 45.90625 0 \r\nL 45.90625 32.71875 \r\nQ 45.90625 40.484375 42.875 44.328125 \r\nQ 39.84375 48.1875 33.796875 48.1875 \r\nQ 26.515625 48.1875 22.3125 43.546875 \r\nQ 18.109375 38.921875 18.109375 30.90625 \r\nL 18.109375 0 \r\nL 9.078125 0 \r\nL 9.078125 54.6875 \r\nL 18.109375 54.6875 \r\nL 18.109375 46.1875 \r\nQ 21.34375 51.125 25.703125 53.5625 \r\nQ 30.078125 56 35.796875 56 \r\nQ 45.21875 56 50.046875 50.171875 \r\nQ 54.890625 44.34375 54.890625 33.015625 \r\nz\r\n\" id=\"DejaVuSans-110\"/>\r\n       <path d=\"M 34.28125 27.484375 \r\nQ 23.390625 27.484375 19.1875 25 \r\nQ 14.984375 22.515625 14.984375 16.5 \r\nQ 14.984375 11.71875 18.140625 8.90625 \r\nQ 21.296875 6.109375 26.703125 6.109375 \r\nQ 34.1875 6.109375 38.703125 11.40625 \r\nQ 43.21875 16.703125 43.21875 25.484375 \r\nL 43.21875 27.484375 \r\nz\r\nM 52.203125 31.203125 \r\nL 52.203125 0 \r\nL 43.21875 0 \r\nL 43.21875 8.296875 \r\nQ 40.140625 3.328125 35.546875 0.953125 \r\nQ 30.953125 -1.421875 24.3125 -1.421875 \r\nQ 15.921875 -1.421875 10.953125 3.296875 \r\nQ 6 8.015625 6 15.921875 \r\nQ 6 25.140625 12.171875 29.828125 \r\nQ 18.359375 34.515625 30.609375 34.515625 \r\nL 43.21875 34.515625 \r\nL 43.21875 35.40625 \r\nQ 43.21875 41.609375 39.140625 45 \r\nQ 35.0625 48.390625 27.6875 48.390625 \r\nQ 23 48.390625 18.546875 47.265625 \r\nQ 14.109375 46.140625 10.015625 43.890625 \r\nL 10.015625 52.203125 \r\nQ 14.9375 54.109375 19.578125 55.046875 \r\nQ 24.21875 56 28.609375 56 \r\nQ 40.484375 56 46.34375 49.84375 \r\nQ 52.203125 43.703125 52.203125 31.203125 \r\nz\r\n\" id=\"DejaVuSans-97\"/>\r\n       <path d=\"M 18.3125 70.21875 \r\nL 18.3125 54.6875 \r\nL 36.8125 54.6875 \r\nL 36.8125 47.703125 \r\nL 18.3125 47.703125 \r\nL 18.3125 18.015625 \r\nQ 18.3125 11.328125 20.140625 9.421875 \r\nQ 21.96875 7.515625 27.59375 7.515625 \r\nL 36.8125 7.515625 \r\nL 36.8125 0 \r\nL 27.59375 0 \r\nQ 17.1875 0 13.234375 3.875 \r\nQ 9.28125 7.765625 9.28125 18.015625 \r\nL 9.28125 47.703125 \r\nL 2.6875 47.703125 \r\nL 2.6875 54.6875 \r\nL 9.28125 54.6875 \r\nL 9.28125 70.21875 \r\nz\r\n\" id=\"DejaVuSans-116\"/>\r\n       <path d=\"M 8.5 21.578125 \r\nL 8.5 54.6875 \r\nL 17.484375 54.6875 \r\nL 17.484375 21.921875 \r\nQ 17.484375 14.15625 20.5 10.265625 \r\nQ 23.53125 6.390625 29.59375 6.390625 \r\nQ 36.859375 6.390625 41.078125 11.03125 \r\nQ 45.3125 15.671875 45.3125 23.6875 \r\nL 45.3125 54.6875 \r\nL 54.296875 54.6875 \r\nL 54.296875 0 \r\nL 45.3125 0 \r\nL 45.3125 8.40625 \r\nQ 42.046875 3.421875 37.71875 1 \r\nQ 33.40625 -1.421875 27.6875 -1.421875 \r\nQ 18.265625 -1.421875 13.375 4.4375 \r\nQ 8.5 10.296875 8.5 21.578125 \r\nz\r\nM 31.109375 56 \r\nz\r\n\" id=\"DejaVuSans-117\"/>\r\n       <path d=\"M 41.109375 46.296875 \r\nQ 39.59375 47.171875 37.8125 47.578125 \r\nQ 36.03125 48 33.890625 48 \r\nQ 26.265625 48 22.1875 43.046875 \r\nQ 18.109375 38.09375 18.109375 28.8125 \r\nL 18.109375 0 \r\nL 9.078125 0 \r\nL 9.078125 54.6875 \r\nL 18.109375 54.6875 \r\nL 18.109375 46.1875 \r\nQ 20.953125 51.171875 25.484375 53.578125 \r\nQ 30.03125 56 36.53125 56 \r\nQ 37.453125 56 38.578125 55.875 \r\nQ 39.703125 55.765625 41.0625 55.515625 \r\nz\r\n\" id=\"DejaVuSans-114\"/>\r\n       <path d=\"M 9.421875 75.984375 \r\nL 18.40625 75.984375 \r\nL 18.40625 0 \r\nL 9.421875 0 \r\nz\r\n\" id=\"DejaVuSans-108\"/>\r\n       <path d=\"M 4.890625 31.390625 \r\nL 31.203125 31.390625 \r\nL 31.203125 23.390625 \r\nL 4.890625 23.390625 \r\nz\r\n\" id=\"DejaVuSans-45\"/>\r\n       <path d=\"M 45.40625 27.984375 \r\nQ 45.40625 37.75 41.375 43.109375 \r\nQ 37.359375 48.484375 30.078125 48.484375 \r\nQ 22.859375 48.484375 18.828125 43.109375 \r\nQ 14.796875 37.75 14.796875 27.984375 \r\nQ 14.796875 18.265625 18.828125 12.890625 \r\nQ 22.859375 7.515625 30.078125 7.515625 \r\nQ 37.359375 7.515625 41.375 12.890625 \r\nQ 45.40625 18.265625 45.40625 27.984375 \r\nz\r\nM 54.390625 6.78125 \r\nQ 54.390625 -7.171875 48.1875 -13.984375 \r\nQ 42 -20.796875 29.203125 -20.796875 \r\nQ 24.46875 -20.796875 20.265625 -20.09375 \r\nQ 16.0625 -19.390625 12.109375 -17.921875 \r\nL 12.109375 -9.1875 \r\nQ 16.0625 -11.328125 19.921875 -12.34375 \r\nQ 23.78125 -13.375 27.78125 -13.375 \r\nQ 36.625 -13.375 41.015625 -8.765625 \r\nQ 45.40625 -4.15625 45.40625 5.171875 \r\nL 45.40625 9.625 \r\nQ 42.625 4.78125 38.28125 2.390625 \r\nQ 33.9375 0 27.875 0 \r\nQ 17.828125 0 11.671875 7.65625 \r\nQ 5.515625 15.328125 5.515625 27.984375 \r\nQ 5.515625 40.671875 11.671875 48.328125 \r\nQ 17.828125 56 27.875 56 \r\nQ 33.9375 56 38.28125 53.609375 \r\nQ 42.625 51.21875 45.40625 46.390625 \r\nL 45.40625 54.6875 \r\nL 54.390625 54.6875 \r\nz\r\n\" id=\"DejaVuSans-103\"/>\r\n       <path d=\"M 56.203125 29.59375 \r\nL 56.203125 25.203125 \r\nL 14.890625 25.203125 \r\nQ 15.484375 15.921875 20.484375 11.0625 \r\nQ 25.484375 6.203125 34.421875 6.203125 \r\nQ 39.59375 6.203125 44.453125 7.46875 \r\nQ 49.3125 8.734375 54.109375 11.28125 \r\nL 54.109375 2.78125 \r\nQ 49.265625 0.734375 44.1875 -0.34375 \r\nQ 39.109375 -1.421875 33.890625 -1.421875 \r\nQ 20.796875 -1.421875 13.15625 6.1875 \r\nQ 5.515625 13.8125 5.515625 26.8125 \r\nQ 5.515625 40.234375 12.765625 48.109375 \r\nQ 20.015625 56 32.328125 56 \r\nQ 43.359375 56 49.78125 48.890625 \r\nQ 56.203125 41.796875 56.203125 29.59375 \r\nz\r\nM 47.21875 32.234375 \r\nQ 47.125 39.59375 43.09375 43.984375 \r\nQ 39.0625 48.390625 32.421875 48.390625 \r\nQ 24.90625 48.390625 20.390625 44.140625 \r\nQ 15.875 39.890625 15.1875 32.171875 \r\nz\r\n\" id=\"DejaVuSans-101\"/>\r\n       <path d=\"M 18.109375 8.203125 \r\nL 18.109375 -20.796875 \r\nL 9.078125 -20.796875 \r\nL 9.078125 54.6875 \r\nL 18.109375 54.6875 \r\nL 18.109375 46.390625 \r\nQ 20.953125 51.265625 25.265625 53.625 \r\nQ 29.59375 56 35.59375 56 \r\nQ 45.5625 56 51.78125 48.09375 \r\nQ 58.015625 40.1875 58.015625 27.296875 \r\nQ 58.015625 14.40625 51.78125 6.484375 \r\nQ 45.5625 -1.421875 35.59375 -1.421875 \r\nQ 29.59375 -1.421875 25.265625 0.953125 \r\nQ 20.953125 3.328125 18.109375 8.203125 \r\nz\r\nM 48.6875 27.296875 \r\nQ 48.6875 37.203125 44.609375 42.84375 \r\nQ 40.53125 48.484375 33.40625 48.484375 \r\nQ 26.265625 48.484375 22.1875 42.84375 \r\nQ 18.109375 37.203125 18.109375 27.296875 \r\nQ 18.109375 17.390625 22.1875 11.75 \r\nQ 26.265625 6.109375 33.40625 6.109375 \r\nQ 40.53125 6.109375 44.609375 11.75 \r\nQ 48.6875 17.390625 48.6875 27.296875 \r\nz\r\n\" id=\"DejaVuSans-112\"/>\r\n       <path d=\"M 30.609375 48.390625 \r\nQ 23.390625 48.390625 19.1875 42.75 \r\nQ 14.984375 37.109375 14.984375 27.296875 \r\nQ 14.984375 17.484375 19.15625 11.84375 \r\nQ 23.34375 6.203125 30.609375 6.203125 \r\nQ 37.796875 6.203125 41.984375 11.859375 \r\nQ 46.1875 17.53125 46.1875 27.296875 \r\nQ 46.1875 37.015625 41.984375 42.703125 \r\nQ 37.796875 48.390625 30.609375 48.390625 \r\nz\r\nM 30.609375 56 \r\nQ 42.328125 56 49.015625 48.375 \r\nQ 55.71875 40.765625 55.71875 27.296875 \r\nQ 55.71875 13.875 49.015625 6.21875 \r\nQ 42.328125 -1.421875 30.609375 -1.421875 \r\nQ 18.84375 -1.421875 12.171875 6.21875 \r\nQ 5.515625 13.875 5.515625 27.296875 \r\nQ 5.515625 40.765625 12.171875 48.375 \r\nQ 18.84375 56 30.609375 56 \r\nz\r\n\" id=\"DejaVuSans-111\"/>\r\n       <path d=\"M 48.78125 52.59375 \r\nL 48.78125 44.1875 \r\nQ 44.96875 46.296875 41.140625 47.34375 \r\nQ 37.3125 48.390625 33.40625 48.390625 \r\nQ 24.65625 48.390625 19.8125 42.84375 \r\nQ 14.984375 37.3125 14.984375 27.296875 \r\nQ 14.984375 17.28125 19.8125 11.734375 \r\nQ 24.65625 6.203125 33.40625 6.203125 \r\nQ 37.3125 6.203125 41.140625 7.25 \r\nQ 44.96875 8.296875 48.78125 10.40625 \r\nL 48.78125 2.09375 \r\nQ 45.015625 0.34375 40.984375 -0.53125 \r\nQ 36.96875 -1.421875 32.421875 -1.421875 \r\nQ 20.0625 -1.421875 12.78125 6.34375 \r\nQ 5.515625 14.109375 5.515625 27.296875 \r\nQ 5.515625 40.671875 12.859375 48.328125 \r\nQ 20.21875 56 33.015625 56 \r\nQ 37.15625 56 41.109375 55.140625 \r\nQ 45.0625 54.296875 48.78125 52.59375 \r\nz\r\n\" id=\"DejaVuSans-99\"/>\r\n       <path d=\"M 44.28125 53.078125 \r\nL 44.28125 44.578125 \r\nQ 40.484375 46.53125 36.375 47.5 \r\nQ 32.28125 48.484375 27.875 48.484375 \r\nQ 21.1875 48.484375 17.84375 46.4375 \r\nQ 14.5 44.390625 14.5 40.28125 \r\nQ 14.5 37.15625 16.890625 35.375 \r\nQ 19.28125 33.59375 26.515625 31.984375 \r\nL 29.59375 31.296875 \r\nQ 39.15625 29.25 43.1875 25.515625 \r\nQ 47.21875 21.78125 47.21875 15.09375 \r\nQ 47.21875 7.46875 41.1875 3.015625 \r\nQ 35.15625 -1.421875 24.609375 -1.421875 \r\nQ 20.21875 -1.421875 15.453125 -0.5625 \r\nQ 10.6875 0.296875 5.421875 2 \r\nL 5.421875 11.28125 \r\nQ 10.40625 8.6875 15.234375 7.390625 \r\nQ 20.0625 6.109375 24.8125 6.109375 \r\nQ 31.15625 6.109375 34.5625 8.28125 \r\nQ 37.984375 10.453125 37.984375 14.40625 \r\nQ 37.984375 18.0625 35.515625 20.015625 \r\nQ 33.0625 21.96875 24.703125 23.78125 \r\nL 21.578125 24.515625 \r\nQ 13.234375 26.265625 9.515625 29.90625 \r\nQ 5.8125 33.546875 5.8125 39.890625 \r\nQ 5.8125 47.609375 11.28125 51.796875 \r\nQ 16.75 56 26.8125 56 \r\nQ 31.78125 56 36.171875 55.265625 \r\nQ 40.578125 54.546875 44.28125 53.078125 \r\nz\r\n\" id=\"DejaVuSans-115\"/>\r\n       <path d=\"M 9.421875 54.6875 \r\nL 18.40625 54.6875 \r\nL 18.40625 0 \r\nL 9.421875 0 \r\nz\r\nM 9.421875 75.984375 \r\nL 18.40625 75.984375 \r\nL 18.40625 64.59375 \r\nL 9.421875 64.59375 \r\nz\r\n\" id=\"DejaVuSans-105\"/>\r\n      </defs>\r\n      <g transform=\"translate(76.564196 508.271875)rotate(-90)scale(0.14 -0.14)\">\r\n       <use xlink:href=\"#DejaVuSans-110\"/>\r\n       <use x=\"63.378906\" xlink:href=\"#DejaVuSans-97\"/>\r\n       <use x=\"124.658203\" xlink:href=\"#DejaVuSans-116\"/>\r\n       <use x=\"163.867188\" xlink:href=\"#DejaVuSans-117\"/>\r\n       <use x=\"227.246094\" xlink:href=\"#DejaVuSans-114\"/>\r\n       <use x=\"268.359375\" xlink:href=\"#DejaVuSans-97\"/>\r\n       <use x=\"329.638672\" xlink:href=\"#DejaVuSans-108\"/>\r\n       <use x=\"357.421875\" xlink:href=\"#DejaVuSans-45\"/>\r\n       <use x=\"393.505859\" xlink:href=\"#DejaVuSans-108\"/>\r\n       <use x=\"421.289062\" xlink:href=\"#DejaVuSans-97\"/>\r\n       <use x=\"482.568359\" xlink:href=\"#DejaVuSans-110\"/>\r\n       <use x=\"545.947266\" xlink:href=\"#DejaVuSans-103\"/>\r\n       <use x=\"609.423828\" xlink:href=\"#DejaVuSans-117\"/>\r\n       <use x=\"672.802734\" xlink:href=\"#DejaVuSans-97\"/>\r\n       <use x=\"734.082031\" xlink:href=\"#DejaVuSans-103\"/>\r\n       <use x=\"797.558594\" xlink:href=\"#DejaVuSans-101\"/>\r\n       <use x=\"859.082031\" xlink:href=\"#DejaVuSans-45\"/>\r\n       <use x=\"895.166016\" xlink:href=\"#DejaVuSans-112\"/>\r\n       <use x=\"958.642578\" xlink:href=\"#DejaVuSans-114\"/>\r\n       <use x=\"999.724609\" xlink:href=\"#DejaVuSans-111\"/>\r\n       <use x=\"1060.90625\" xlink:href=\"#DejaVuSans-99\"/>\r\n       <use x=\"1115.886719\" xlink:href=\"#DejaVuSans-101\"/>\r\n       <use x=\"1177.410156\" xlink:href=\"#DejaVuSans-115\"/>\r\n       <use x=\"1229.509766\" xlink:href=\"#DejaVuSans-115\"/>\r\n       <use x=\"1281.609375\" xlink:href=\"#DejaVuSans-105\"/>\r\n       <use x=\"1309.392578\" xlink:href=\"#DejaVuSans-110\"/>\r\n       <use x=\"1372.771484\" xlink:href=\"#DejaVuSans-103\"/>\r\n      </g>\r\n     </g>\r\n    </g>\r\n    <g id=\"xtick_2\">\r\n     <g id=\"line2d_2\">\r\n      <g>\r\n       <use style=\"stroke:#000000;stroke-width:0.8;\" x=\"112.558214\" xlink:href=\"#mc8b18d9bcd\" y=\"300.196875\"/>\r\n      </g>\r\n     </g>\r\n     <g id=\"text_2\">\r\n      <!-- computer-vision -->\r\n      <defs>\r\n       <path d=\"M 52 44.1875 \r\nQ 55.375 50.25 60.0625 53.125 \r\nQ 64.75 56 71.09375 56 \r\nQ 79.640625 56 84.28125 50.015625 \r\nQ 88.921875 44.046875 88.921875 33.015625 \r\nL 88.921875 0 \r\nL 79.890625 0 \r\nL 79.890625 32.71875 \r\nQ 79.890625 40.578125 77.09375 44.375 \r\nQ 74.3125 48.1875 68.609375 48.1875 \r\nQ 61.625 48.1875 57.5625 43.546875 \r\nQ 53.515625 38.921875 53.515625 30.90625 \r\nL 53.515625 0 \r\nL 44.484375 0 \r\nL 44.484375 32.71875 \r\nQ 44.484375 40.625 41.703125 44.40625 \r\nQ 38.921875 48.1875 33.109375 48.1875 \r\nQ 26.21875 48.1875 22.15625 43.53125 \r\nQ 18.109375 38.875 18.109375 30.90625 \r\nL 18.109375 0 \r\nL 9.078125 0 \r\nL 9.078125 54.6875 \r\nL 18.109375 54.6875 \r\nL 18.109375 46.1875 \r\nQ 21.1875 51.21875 25.484375 53.609375 \r\nQ 29.78125 56 35.6875 56 \r\nQ 41.65625 56 45.828125 52.96875 \r\nQ 50 49.953125 52 44.1875 \r\nz\r\n\" id=\"DejaVuSans-109\"/>\r\n       <path d=\"M 2.984375 54.6875 \r\nL 12.5 54.6875 \r\nL 29.59375 8.796875 \r\nL 46.6875 54.6875 \r\nL 56.203125 54.6875 \r\nL 35.6875 0 \r\nL 23.484375 0 \r\nz\r\n\" id=\"DejaVuSans-118\"/>\r\n      </defs>\r\n      <g transform=\"translate(116.421339 420.546562)rotate(-90)scale(0.14 -0.14)\">\r\n       <use xlink:href=\"#DejaVuSans-99\"/>\r\n       <use x=\"54.980469\" xlink:href=\"#DejaVuSans-111\"/>\r\n       <use x=\"116.162109\" xlink:href=\"#DejaVuSans-109\"/>\r\n       <use x=\"213.574219\" xlink:href=\"#DejaVuSans-112\"/>\r\n       <use x=\"277.050781\" xlink:href=\"#DejaVuSans-117\"/>\r\n       <use x=\"340.429688\" xlink:href=\"#DejaVuSans-116\"/>\r\n       <use x=\"379.638672\" xlink:href=\"#DejaVuSans-101\"/>\r\n       <use x=\"441.162109\" xlink:href=\"#DejaVuSans-114\"/>\r\n       <use x=\"482.181641\" xlink:href=\"#DejaVuSans-45\"/>\r\n       <use x=\"518.234375\" xlink:href=\"#DejaVuSans-118\"/>\r\n       <use x=\"577.414062\" xlink:href=\"#DejaVuSans-105\"/>\r\n       <use x=\"605.197266\" xlink:href=\"#DejaVuSans-115\"/>\r\n       <use x=\"657.296875\" xlink:href=\"#DejaVuSans-105\"/>\r\n       <use x=\"685.080078\" xlink:href=\"#DejaVuSans-111\"/>\r\n       <use x=\"746.261719\" xlink:href=\"#DejaVuSans-110\"/>\r\n      </g>\r\n     </g>\r\n    </g>\r\n    <g id=\"xtick_3\">\r\n     <g id=\"line2d_3\">\r\n      <g>\r\n       <use style=\"stroke:#000000;stroke-width:0.8;\" x=\"152.415357\" xlink:href=\"#mc8b18d9bcd\" y=\"300.196875\"/>\r\n      </g>\r\n     </g>\r\n     <g id=\"text_3\">\r\n      <!-- pytorch -->\r\n      <defs>\r\n       <path d=\"M 32.171875 -5.078125 \r\nQ 28.375 -14.84375 24.75 -17.8125 \r\nQ 21.140625 -20.796875 15.09375 -20.796875 \r\nL 7.90625 -20.796875 \r\nL 7.90625 -13.28125 \r\nL 13.1875 -13.28125 \r\nQ 16.890625 -13.28125 18.9375 -11.515625 \r\nQ 21 -9.765625 23.484375 -3.21875 \r\nL 25.09375 0.875 \r\nL 2.984375 54.6875 \r\nL 12.5 54.6875 \r\nL 29.59375 11.921875 \r\nL 46.6875 54.6875 \r\nL 56.203125 54.6875 \r\nz\r\n\" id=\"DejaVuSans-121\"/>\r\n       <path d=\"M 54.890625 33.015625 \r\nL 54.890625 0 \r\nL 45.90625 0 \r\nL 45.90625 32.71875 \r\nQ 45.90625 40.484375 42.875 44.328125 \r\nQ 39.84375 48.1875 33.796875 48.1875 \r\nQ 26.515625 48.1875 22.3125 43.546875 \r\nQ 18.109375 38.921875 18.109375 30.90625 \r\nL 18.109375 0 \r\nL 9.078125 0 \r\nL 9.078125 75.984375 \r\nL 18.109375 75.984375 \r\nL 18.109375 46.1875 \r\nQ 21.34375 51.125 25.703125 53.5625 \r\nQ 30.078125 56 35.796875 56 \r\nQ 45.21875 56 50.046875 50.171875 \r\nQ 54.890625 44.34375 54.890625 33.015625 \r\nz\r\n\" id=\"DejaVuSans-104\"/>\r\n      </defs>\r\n      <g transform=\"translate(156.278482 360.746875)rotate(-90)scale(0.14 -0.14)\">\r\n       <use xlink:href=\"#DejaVuSans-112\"/>\r\n       <use x=\"63.476562\" xlink:href=\"#DejaVuSans-121\"/>\r\n       <use x=\"122.65625\" xlink:href=\"#DejaVuSans-116\"/>\r\n       <use x=\"161.865234\" xlink:href=\"#DejaVuSans-111\"/>\r\n       <use x=\"223.046875\" xlink:href=\"#DejaVuSans-114\"/>\r\n       <use x=\"264.128906\" xlink:href=\"#DejaVuSans-99\"/>\r\n       <use x=\"319.109375\" xlink:href=\"#DejaVuSans-104\"/>\r\n      </g>\r\n     </g>\r\n    </g>\r\n    <g id=\"xtick_4\">\r\n     <g id=\"line2d_4\">\r\n      <g>\r\n       <use style=\"stroke:#000000;stroke-width:0.8;\" x=\"192.2725\" xlink:href=\"#mc8b18d9bcd\" y=\"300.196875\"/>\r\n      </g>\r\n     </g>\r\n     <g id=\"text_4\">\r\n      <!-- tensorflow -->\r\n      <defs>\r\n       <path d=\"M 37.109375 75.984375 \r\nL 37.109375 68.5 \r\nL 28.515625 68.5 \r\nQ 23.6875 68.5 21.796875 66.546875 \r\nQ 19.921875 64.59375 19.921875 59.515625 \r\nL 19.921875 54.6875 \r\nL 34.71875 54.6875 \r\nL 34.71875 47.703125 \r\nL 19.921875 47.703125 \r\nL 19.921875 0 \r\nL 10.890625 0 \r\nL 10.890625 47.703125 \r\nL 2.296875 47.703125 \r\nL 2.296875 54.6875 \r\nL 10.890625 54.6875 \r\nL 10.890625 58.5 \r\nQ 10.890625 67.625 15.140625 71.796875 \r\nQ 19.390625 75.984375 28.609375 75.984375 \r\nz\r\n\" id=\"DejaVuSans-102\"/>\r\n       <path d=\"M 4.203125 54.6875 \r\nL 13.1875 54.6875 \r\nL 24.421875 12.015625 \r\nL 35.59375 54.6875 \r\nL 46.1875 54.6875 \r\nL 57.421875 12.015625 \r\nL 68.609375 54.6875 \r\nL 77.59375 54.6875 \r\nL 63.28125 0 \r\nL 52.6875 0 \r\nL 40.921875 44.828125 \r\nL 29.109375 0 \r\nL 18.5 0 \r\nz\r\n\" id=\"DejaVuSans-119\"/>\r\n      </defs>\r\n      <g transform=\"translate(196.135625 380.620312)rotate(-90)scale(0.14 -0.14)\">\r\n       <use xlink:href=\"#DejaVuSans-116\"/>\r\n       <use x=\"39.208984\" xlink:href=\"#DejaVuSans-101\"/>\r\n       <use x=\"100.732422\" xlink:href=\"#DejaVuSans-110\"/>\r\n       <use x=\"164.111328\" xlink:href=\"#DejaVuSans-115\"/>\r\n       <use x=\"216.210938\" xlink:href=\"#DejaVuSans-111\"/>\r\n       <use x=\"277.392578\" xlink:href=\"#DejaVuSans-114\"/>\r\n       <use x=\"318.505859\" xlink:href=\"#DejaVuSans-102\"/>\r\n       <use x=\"353.710938\" xlink:href=\"#DejaVuSans-108\"/>\r\n       <use x=\"381.494141\" xlink:href=\"#DejaVuSans-111\"/>\r\n       <use x=\"442.675781\" xlink:href=\"#DejaVuSans-119\"/>\r\n      </g>\r\n     </g>\r\n    </g>\r\n    <g id=\"xtick_5\">\r\n     <g id=\"line2d_5\">\r\n      <g>\r\n       <use style=\"stroke:#000000;stroke-width:0.8;\" x=\"232.129643\" xlink:href=\"#mc8b18d9bcd\" y=\"300.196875\"/>\r\n      </g>\r\n     </g>\r\n     <g id=\"text_5\">\r\n      <!-- transformers -->\r\n      <g transform=\"translate(235.992768 397.733125)rotate(-90)scale(0.14 -0.14)\">\r\n       <use xlink:href=\"#DejaVuSans-116\"/>\r\n       <use x=\"39.208984\" xlink:href=\"#DejaVuSans-114\"/>\r\n       <use x=\"80.322266\" xlink:href=\"#DejaVuSans-97\"/>\r\n       <use x=\"141.601562\" xlink:href=\"#DejaVuSans-110\"/>\r\n       <use x=\"204.980469\" xlink:href=\"#DejaVuSans-115\"/>\r\n       <use x=\"257.080078\" xlink:href=\"#DejaVuSans-102\"/>\r\n       <use x=\"292.285156\" xlink:href=\"#DejaVuSans-111\"/>\r\n       <use x=\"353.466797\" xlink:href=\"#DejaVuSans-114\"/>\r\n       <use x=\"394.564453\" xlink:href=\"#DejaVuSans-109\"/>\r\n       <use x=\"491.976562\" xlink:href=\"#DejaVuSans-101\"/>\r\n       <use x=\"553.5\" xlink:href=\"#DejaVuSans-114\"/>\r\n       <use x=\"594.613281\" xlink:href=\"#DejaVuSans-115\"/>\r\n      </g>\r\n     </g>\r\n    </g>\r\n    <g id=\"xtick_6\">\r\n     <g id=\"line2d_6\">\r\n      <g>\r\n       <use style=\"stroke:#000000;stroke-width:0.8;\" x=\"271.986786\" xlink:href=\"#mc8b18d9bcd\" y=\"300.196875\"/>\r\n      </g>\r\n     </g>\r\n     <g id=\"text_6\">\r\n      <!-- attention -->\r\n      <g transform=\"translate(275.849911 371.056562)rotate(-90)scale(0.14 -0.14)\">\r\n       <use xlink:href=\"#DejaVuSans-97\"/>\r\n       <use x=\"61.279297\" xlink:href=\"#DejaVuSans-116\"/>\r\n       <use x=\"100.488281\" xlink:href=\"#DejaVuSans-116\"/>\r\n       <use x=\"139.697266\" xlink:href=\"#DejaVuSans-101\"/>\r\n       <use x=\"201.220703\" xlink:href=\"#DejaVuSans-110\"/>\r\n       <use x=\"264.599609\" xlink:href=\"#DejaVuSans-116\"/>\r\n       <use x=\"303.808594\" xlink:href=\"#DejaVuSans-105\"/>\r\n       <use x=\"331.591797\" xlink:href=\"#DejaVuSans-111\"/>\r\n       <use x=\"392.773438\" xlink:href=\"#DejaVuSans-110\"/>\r\n      </g>\r\n     </g>\r\n    </g>\r\n    <g id=\"xtick_7\">\r\n     <g id=\"line2d_7\">\r\n      <g>\r\n       <use style=\"stroke:#000000;stroke-width:0.8;\" x=\"311.843929\" xlink:href=\"#mc8b18d9bcd\" y=\"300.196875\"/>\r\n      </g>\r\n     </g>\r\n     <g id=\"text_7\">\r\n      <!-- convolutional-neural-networks -->\r\n      <defs>\r\n       <path d=\"M 9.078125 75.984375 \r\nL 18.109375 75.984375 \r\nL 18.109375 31.109375 \r\nL 44.921875 54.6875 \r\nL 56.390625 54.6875 \r\nL 27.390625 29.109375 \r\nL 57.625 0 \r\nL 45.90625 0 \r\nL 18.109375 26.703125 \r\nL 18.109375 0 \r\nL 9.078125 0 \r\nz\r\n\" id=\"DejaVuSans-107\"/>\r\n      </defs>\r\n      <g transform=\"translate(315.707054 520.064687)rotate(-90)scale(0.14 -0.14)\">\r\n       <use xlink:href=\"#DejaVuSans-99\"/>\r\n       <use x=\"54.980469\" xlink:href=\"#DejaVuSans-111\"/>\r\n       <use x=\"116.162109\" xlink:href=\"#DejaVuSans-110\"/>\r\n       <use x=\"179.541016\" xlink:href=\"#DejaVuSans-118\"/>\r\n       <use x=\"238.720703\" xlink:href=\"#DejaVuSans-111\"/>\r\n       <use x=\"299.902344\" xlink:href=\"#DejaVuSans-108\"/>\r\n       <use x=\"327.685547\" xlink:href=\"#DejaVuSans-117\"/>\r\n       <use x=\"391.064453\" xlink:href=\"#DejaVuSans-116\"/>\r\n       <use x=\"430.273438\" xlink:href=\"#DejaVuSans-105\"/>\r\n       <use x=\"458.056641\" xlink:href=\"#DejaVuSans-111\"/>\r\n       <use x=\"519.238281\" xlink:href=\"#DejaVuSans-110\"/>\r\n       <use x=\"582.617188\" xlink:href=\"#DejaVuSans-97\"/>\r\n       <use x=\"643.896484\" xlink:href=\"#DejaVuSans-108\"/>\r\n       <use x=\"671.679688\" xlink:href=\"#DejaVuSans-45\"/>\r\n       <use x=\"707.763672\" xlink:href=\"#DejaVuSans-110\"/>\r\n       <use x=\"771.142578\" xlink:href=\"#DejaVuSans-101\"/>\r\n       <use x=\"832.666016\" xlink:href=\"#DejaVuSans-117\"/>\r\n       <use x=\"896.044922\" xlink:href=\"#DejaVuSans-114\"/>\r\n       <use x=\"937.158203\" xlink:href=\"#DejaVuSans-97\"/>\r\n       <use x=\"998.4375\" xlink:href=\"#DejaVuSans-108\"/>\r\n       <use x=\"1026.220703\" xlink:href=\"#DejaVuSans-45\"/>\r\n       <use x=\"1062.304688\" xlink:href=\"#DejaVuSans-110\"/>\r\n       <use x=\"1125.683594\" xlink:href=\"#DejaVuSans-101\"/>\r\n       <use x=\"1187.207031\" xlink:href=\"#DejaVuSans-116\"/>\r\n       <use x=\"1226.416016\" xlink:href=\"#DejaVuSans-119\"/>\r\n       <use x=\"1308.203125\" xlink:href=\"#DejaVuSans-111\"/>\r\n       <use x=\"1369.384766\" xlink:href=\"#DejaVuSans-114\"/>\r\n       <use x=\"1410.498047\" xlink:href=\"#DejaVuSans-107\"/>\r\n       <use x=\"1468.408203\" xlink:href=\"#DejaVuSans-115\"/>\r\n      </g>\r\n     </g>\r\n    </g>\r\n    <g id=\"xtick_8\">\r\n     <g id=\"line2d_8\">\r\n      <g>\r\n       <use style=\"stroke:#000000;stroke-width:0.8;\" x=\"351.701071\" xlink:href=\"#mc8b18d9bcd\" y=\"300.196875\"/>\r\n      </g>\r\n     </g>\r\n     <g id=\"text_8\">\r\n      <!-- keras -->\r\n      <g transform=\"translate(355.564196 345.539375)rotate(-90)scale(0.14 -0.14)\">\r\n       <use xlink:href=\"#DejaVuSans-107\"/>\r\n       <use x=\"57.863281\" xlink:href=\"#DejaVuSans-101\"/>\r\n       <use x=\"119.386719\" xlink:href=\"#DejaVuSans-114\"/>\r\n       <use x=\"160.5\" xlink:href=\"#DejaVuSans-97\"/>\r\n       <use x=\"221.779297\" xlink:href=\"#DejaVuSans-115\"/>\r\n      </g>\r\n     </g>\r\n    </g>\r\n    <g id=\"xtick_9\">\r\n     <g id=\"line2d_9\">\r\n      <g>\r\n       <use style=\"stroke:#000000;stroke-width:0.8;\" x=\"391.558214\" xlink:href=\"#mc8b18d9bcd\" y=\"300.196875\"/>\r\n      </g>\r\n     </g>\r\n     <g id=\"text_9\">\r\n      <!-- graphs -->\r\n      <g transform=\"translate(395.421339 355.472812)rotate(-90)scale(0.14 -0.14)\">\r\n       <use xlink:href=\"#DejaVuSans-103\"/>\r\n       <use x=\"63.476562\" xlink:href=\"#DejaVuSans-114\"/>\r\n       <use x=\"104.589844\" xlink:href=\"#DejaVuSans-97\"/>\r\n       <use x=\"165.869141\" xlink:href=\"#DejaVuSans-112\"/>\r\n       <use x=\"229.345703\" xlink:href=\"#DejaVuSans-104\"/>\r\n       <use x=\"292.724609\" xlink:href=\"#DejaVuSans-115\"/>\r\n      </g>\r\n     </g>\r\n    </g>\r\n    <g id=\"xtick_10\">\r\n     <g id=\"line2d_10\">\r\n      <g>\r\n       <use style=\"stroke:#000000;stroke-width:0.8;\" x=\"431.415357\" xlink:href=\"#mc8b18d9bcd\" y=\"300.196875\"/>\r\n      </g>\r\n     </g>\r\n     <g id=\"text_10\">\r\n      <!-- embeddings -->\r\n      <defs>\r\n       <path d=\"M 48.6875 27.296875 \r\nQ 48.6875 37.203125 44.609375 42.84375 \r\nQ 40.53125 48.484375 33.40625 48.484375 \r\nQ 26.265625 48.484375 22.1875 42.84375 \r\nQ 18.109375 37.203125 18.109375 27.296875 \r\nQ 18.109375 17.390625 22.1875 11.75 \r\nQ 26.265625 6.109375 33.40625 6.109375 \r\nQ 40.53125 6.109375 44.609375 11.75 \r\nQ 48.6875 17.390625 48.6875 27.296875 \r\nz\r\nM 18.109375 46.390625 \r\nQ 20.953125 51.265625 25.265625 53.625 \r\nQ 29.59375 56 35.59375 56 \r\nQ 45.5625 56 51.78125 48.09375 \r\nQ 58.015625 40.1875 58.015625 27.296875 \r\nQ 58.015625 14.40625 51.78125 6.484375 \r\nQ 45.5625 -1.421875 35.59375 -1.421875 \r\nQ 29.59375 -1.421875 25.265625 0.953125 \r\nQ 20.953125 3.328125 18.109375 8.203125 \r\nL 18.109375 0 \r\nL 9.078125 0 \r\nL 9.078125 75.984375 \r\nL 18.109375 75.984375 \r\nz\r\n\" id=\"DejaVuSans-98\"/>\r\n       <path d=\"M 45.40625 46.390625 \r\nL 45.40625 75.984375 \r\nL 54.390625 75.984375 \r\nL 54.390625 0 \r\nL 45.40625 0 \r\nL 45.40625 8.203125 \r\nQ 42.578125 3.328125 38.25 0.953125 \r\nQ 33.9375 -1.421875 27.875 -1.421875 \r\nQ 17.96875 -1.421875 11.734375 6.484375 \r\nQ 5.515625 14.40625 5.515625 27.296875 \r\nQ 5.515625 40.1875 11.734375 48.09375 \r\nQ 17.96875 56 27.875 56 \r\nQ 33.9375 56 38.25 53.625 \r\nQ 42.578125 51.265625 45.40625 46.390625 \r\nz\r\nM 14.796875 27.296875 \r\nQ 14.796875 17.390625 18.875 11.75 \r\nQ 22.953125 6.109375 30.078125 6.109375 \r\nQ 37.203125 6.109375 41.296875 11.75 \r\nQ 45.40625 17.390625 45.40625 27.296875 \r\nQ 45.40625 37.203125 41.296875 42.84375 \r\nQ 37.203125 48.484375 30.078125 48.484375 \r\nQ 22.953125 48.484375 18.875 42.84375 \r\nQ 14.796875 37.203125 14.796875 27.296875 \r\nz\r\n\" id=\"DejaVuSans-100\"/>\r\n      </defs>\r\n      <g transform=\"translate(435.278482 393.66875)rotate(-90)scale(0.14 -0.14)\">\r\n       <use xlink:href=\"#DejaVuSans-101\"/>\r\n       <use x=\"61.523438\" xlink:href=\"#DejaVuSans-109\"/>\r\n       <use x=\"158.935547\" xlink:href=\"#DejaVuSans-98\"/>\r\n       <use x=\"222.412109\" xlink:href=\"#DejaVuSans-101\"/>\r\n       <use x=\"283.935547\" xlink:href=\"#DejaVuSans-100\"/>\r\n       <use x=\"347.412109\" xlink:href=\"#DejaVuSans-100\"/>\r\n       <use x=\"410.888672\" xlink:href=\"#DejaVuSans-105\"/>\r\n       <use x=\"438.671875\" xlink:href=\"#DejaVuSans-110\"/>\r\n       <use x=\"502.050781\" xlink:href=\"#DejaVuSans-103\"/>\r\n       <use x=\"565.527344\" xlink:href=\"#DejaVuSans-115\"/>\r\n      </g>\r\n     </g>\r\n    </g>\r\n    <g id=\"xtick_11\">\r\n     <g id=\"line2d_11\">\r\n      <g>\r\n       <use style=\"stroke:#000000;stroke-width:0.8;\" x=\"471.2725\" xlink:href=\"#mc8b18d9bcd\" y=\"300.196875\"/>\r\n      </g>\r\n     </g>\r\n     <g id=\"text_11\">\r\n      <!-- generative-adversarial-networks -->\r\n      <g transform=\"translate(475.135625 535.15625)rotate(-90)scale(0.14 -0.14)\">\r\n       <use xlink:href=\"#DejaVuSans-103\"/>\r\n       <use x=\"63.476562\" xlink:href=\"#DejaVuSans-101\"/>\r\n       <use x=\"125\" xlink:href=\"#DejaVuSans-110\"/>\r\n       <use x=\"188.378906\" xlink:href=\"#DejaVuSans-101\"/>\r\n       <use x=\"249.902344\" xlink:href=\"#DejaVuSans-114\"/>\r\n       <use x=\"291.015625\" xlink:href=\"#DejaVuSans-97\"/>\r\n       <use x=\"352.294922\" xlink:href=\"#DejaVuSans-116\"/>\r\n       <use x=\"391.503906\" xlink:href=\"#DejaVuSans-105\"/>\r\n       <use x=\"419.287109\" xlink:href=\"#DejaVuSans-118\"/>\r\n       <use x=\"478.466797\" xlink:href=\"#DejaVuSans-101\"/>\r\n       <use x=\"539.990234\" xlink:href=\"#DejaVuSans-45\"/>\r\n       <use x=\"576.074219\" xlink:href=\"#DejaVuSans-97\"/>\r\n       <use x=\"637.353516\" xlink:href=\"#DejaVuSans-100\"/>\r\n       <use x=\"700.830078\" xlink:href=\"#DejaVuSans-118\"/>\r\n       <use x=\"760.009766\" xlink:href=\"#DejaVuSans-101\"/>\r\n       <use x=\"821.533203\" xlink:href=\"#DejaVuSans-114\"/>\r\n       <use x=\"862.646484\" xlink:href=\"#DejaVuSans-115\"/>\r\n       <use x=\"914.746094\" xlink:href=\"#DejaVuSans-97\"/>\r\n       <use x=\"976.025391\" xlink:href=\"#DejaVuSans-114\"/>\r\n       <use x=\"1017.138672\" xlink:href=\"#DejaVuSans-105\"/>\r\n       <use x=\"1044.921875\" xlink:href=\"#DejaVuSans-97\"/>\r\n       <use x=\"1106.201172\" xlink:href=\"#DejaVuSans-108\"/>\r\n       <use x=\"1133.984375\" xlink:href=\"#DejaVuSans-45\"/>\r\n       <use x=\"1170.068359\" xlink:href=\"#DejaVuSans-110\"/>\r\n       <use x=\"1233.447266\" xlink:href=\"#DejaVuSans-101\"/>\r\n       <use x=\"1294.970703\" xlink:href=\"#DejaVuSans-116\"/>\r\n       <use x=\"1334.179688\" xlink:href=\"#DejaVuSans-119\"/>\r\n       <use x=\"1415.966797\" xlink:href=\"#DejaVuSans-111\"/>\r\n       <use x=\"1477.148438\" xlink:href=\"#DejaVuSans-114\"/>\r\n       <use x=\"1518.261719\" xlink:href=\"#DejaVuSans-107\"/>\r\n       <use x=\"1576.171875\" xlink:href=\"#DejaVuSans-115\"/>\r\n      </g>\r\n     </g>\r\n    </g>\r\n    <g id=\"xtick_12\">\r\n     <g id=\"line2d_12\">\r\n      <g>\r\n       <use style=\"stroke:#000000;stroke-width:0.8;\" x=\"511.129643\" xlink:href=\"#mc8b18d9bcd\" y=\"300.196875\"/>\r\n      </g>\r\n     </g>\r\n     <g id=\"text_12\">\r\n      <!-- object-detection -->\r\n      <defs>\r\n       <path d=\"M 9.421875 54.6875 \r\nL 18.40625 54.6875 \r\nL 18.40625 -0.984375 \r\nQ 18.40625 -11.421875 14.421875 -16.109375 \r\nQ 10.453125 -20.796875 1.609375 -20.796875 \r\nL -1.8125 -20.796875 \r\nL -1.8125 -13.1875 \r\nL 0.59375 -13.1875 \r\nQ 5.71875 -13.1875 7.5625 -10.8125 \r\nQ 9.421875 -8.453125 9.421875 -0.984375 \r\nz\r\nM 9.421875 75.984375 \r\nL 18.40625 75.984375 \r\nL 18.40625 64.59375 \r\nL 9.421875 64.59375 \r\nz\r\n\" id=\"DejaVuSans-106\"/>\r\n      </defs>\r\n      <g transform=\"translate(514.992768 421.51125)rotate(-90)scale(0.14 -0.14)\">\r\n       <use xlink:href=\"#DejaVuSans-111\"/>\r\n       <use x=\"61.181641\" xlink:href=\"#DejaVuSans-98\"/>\r\n       <use x=\"124.658203\" xlink:href=\"#DejaVuSans-106\"/>\r\n       <use x=\"152.441406\" xlink:href=\"#DejaVuSans-101\"/>\r\n       <use x=\"213.964844\" xlink:href=\"#DejaVuSans-99\"/>\r\n       <use x=\"268.945312\" xlink:href=\"#DejaVuSans-116\"/>\r\n       <use x=\"308.154297\" xlink:href=\"#DejaVuSans-45\"/>\r\n       <use x=\"344.238281\" xlink:href=\"#DejaVuSans-100\"/>\r\n       <use x=\"407.714844\" xlink:href=\"#DejaVuSans-101\"/>\r\n       <use x=\"469.238281\" xlink:href=\"#DejaVuSans-116\"/>\r\n       <use x=\"508.447266\" xlink:href=\"#DejaVuSans-101\"/>\r\n       <use x=\"569.970703\" xlink:href=\"#DejaVuSans-99\"/>\r\n       <use x=\"624.951172\" xlink:href=\"#DejaVuSans-116\"/>\r\n       <use x=\"664.160156\" xlink:href=\"#DejaVuSans-105\"/>\r\n       <use x=\"691.943359\" xlink:href=\"#DejaVuSans-111\"/>\r\n       <use x=\"753.125\" xlink:href=\"#DejaVuSans-110\"/>\r\n      </g>\r\n     </g>\r\n    </g>\r\n    <g id=\"xtick_13\">\r\n     <g id=\"line2d_13\">\r\n      <g>\r\n       <use style=\"stroke:#000000;stroke-width:0.8;\" x=\"550.986786\" xlink:href=\"#mc8b18d9bcd\" y=\"300.196875\"/>\r\n      </g>\r\n     </g>\r\n     <g id=\"text_13\">\r\n      <!-- huggingface -->\r\n      <g transform=\"translate(554.849911 394.187187)rotate(-90)scale(0.14 -0.14)\">\r\n       <use xlink:href=\"#DejaVuSans-104\"/>\r\n       <use x=\"63.378906\" xlink:href=\"#DejaVuSans-117\"/>\r\n       <use x=\"126.757812\" xlink:href=\"#DejaVuSans-103\"/>\r\n       <use x=\"190.234375\" xlink:href=\"#DejaVuSans-103\"/>\r\n       <use x=\"253.710938\" xlink:href=\"#DejaVuSans-105\"/>\r\n       <use x=\"281.494141\" xlink:href=\"#DejaVuSans-110\"/>\r\n       <use x=\"344.873047\" xlink:href=\"#DejaVuSans-103\"/>\r\n       <use x=\"408.349609\" xlink:href=\"#DejaVuSans-102\"/>\r\n       <use x=\"443.554688\" xlink:href=\"#DejaVuSans-97\"/>\r\n       <use x=\"504.833984\" xlink:href=\"#DejaVuSans-99\"/>\r\n       <use x=\"559.814453\" xlink:href=\"#DejaVuSans-101\"/>\r\n      </g>\r\n     </g>\r\n    </g>\r\n    <g id=\"xtick_14\">\r\n     <g id=\"line2d_14\">\r\n      <g>\r\n       <use style=\"stroke:#000000;stroke-width:0.8;\" x=\"590.843929\" xlink:href=\"#mc8b18d9bcd\" y=\"300.196875\"/>\r\n      </g>\r\n     </g>\r\n     <g id=\"text_14\">\r\n      <!-- scikit-learn -->\r\n      <g transform=\"translate(594.707054 384.321562)rotate(-90)scale(0.14 -0.14)\">\r\n       <use xlink:href=\"#DejaVuSans-115\"/>\r\n       <use x=\"52.099609\" xlink:href=\"#DejaVuSans-99\"/>\r\n       <use x=\"107.080078\" xlink:href=\"#DejaVuSans-105\"/>\r\n       <use x=\"134.863281\" xlink:href=\"#DejaVuSans-107\"/>\r\n       <use x=\"192.773438\" xlink:href=\"#DejaVuSans-105\"/>\r\n       <use x=\"220.556641\" xlink:href=\"#DejaVuSans-116\"/>\r\n       <use x=\"259.765625\" xlink:href=\"#DejaVuSans-45\"/>\r\n       <use x=\"295.849609\" xlink:href=\"#DejaVuSans-108\"/>\r\n       <use x=\"323.632812\" xlink:href=\"#DejaVuSans-101\"/>\r\n       <use x=\"385.15625\" xlink:href=\"#DejaVuSans-97\"/>\r\n       <use x=\"446.435547\" xlink:href=\"#DejaVuSans-114\"/>\r\n       <use x=\"487.533203\" xlink:href=\"#DejaVuSans-110\"/>\r\n      </g>\r\n     </g>\r\n    </g>\r\n    <g id=\"xtick_15\">\r\n     <g id=\"line2d_15\">\r\n      <g>\r\n       <use style=\"stroke:#000000;stroke-width:0.8;\" x=\"630.701071\" xlink:href=\"#mc8b18d9bcd\" y=\"300.196875\"/>\r\n      </g>\r\n     </g>\r\n     <g id=\"text_15\">\r\n      <!-- reinforcement-learning -->\r\n      <g transform=\"translate(634.564196 468.903437)rotate(-90)scale(0.14 -0.14)\">\r\n       <use xlink:href=\"#DejaVuSans-114\"/>\r\n       <use x=\"41.082031\" xlink:href=\"#DejaVuSans-101\"/>\r\n       <use x=\"102.605469\" xlink:href=\"#DejaVuSans-105\"/>\r\n       <use x=\"130.388672\" xlink:href=\"#DejaVuSans-110\"/>\r\n       <use x=\"193.767578\" xlink:href=\"#DejaVuSans-102\"/>\r\n       <use x=\"228.972656\" xlink:href=\"#DejaVuSans-111\"/>\r\n       <use x=\"290.154297\" xlink:href=\"#DejaVuSans-114\"/>\r\n       <use x=\"331.236328\" xlink:href=\"#DejaVuSans-99\"/>\r\n       <use x=\"386.216797\" xlink:href=\"#DejaVuSans-101\"/>\r\n       <use x=\"447.740234\" xlink:href=\"#DejaVuSans-109\"/>\r\n       <use x=\"545.152344\" xlink:href=\"#DejaVuSans-101\"/>\r\n       <use x=\"606.675781\" xlink:href=\"#DejaVuSans-110\"/>\r\n       <use x=\"670.054688\" xlink:href=\"#DejaVuSans-116\"/>\r\n       <use x=\"709.263672\" xlink:href=\"#DejaVuSans-45\"/>\r\n       <use x=\"745.347656\" xlink:href=\"#DejaVuSans-108\"/>\r\n       <use x=\"773.130859\" xlink:href=\"#DejaVuSans-101\"/>\r\n       <use x=\"834.654297\" xlink:href=\"#DejaVuSans-97\"/>\r\n       <use x=\"895.933594\" xlink:href=\"#DejaVuSans-114\"/>\r\n       <use x=\"937.03125\" xlink:href=\"#DejaVuSans-110\"/>\r\n       <use x=\"1000.410156\" xlink:href=\"#DejaVuSans-105\"/>\r\n       <use x=\"1028.193359\" xlink:href=\"#DejaVuSans-110\"/>\r\n       <use x=\"1091.572266\" xlink:href=\"#DejaVuSans-103\"/>\r\n      </g>\r\n     </g>\r\n    </g>\r\n    <g id=\"xtick_16\">\r\n     <g id=\"line2d_16\">\r\n      <g>\r\n       <use style=\"stroke:#000000;stroke-width:0.8;\" x=\"670.558214\" xlink:href=\"#mc8b18d9bcd\" y=\"300.196875\"/>\r\n      </g>\r\n     </g>\r\n     <g id=\"text_16\">\r\n      <!-- representation-learning -->\r\n      <g transform=\"translate(674.421339 472.889063)rotate(-90)scale(0.14 -0.14)\">\r\n       <use xlink:href=\"#DejaVuSans-114\"/>\r\n       <use x=\"41.082031\" xlink:href=\"#DejaVuSans-101\"/>\r\n       <use x=\"102.605469\" xlink:href=\"#DejaVuSans-112\"/>\r\n       <use x=\"166.082031\" xlink:href=\"#DejaVuSans-114\"/>\r\n       <use x=\"207.164062\" xlink:href=\"#DejaVuSans-101\"/>\r\n       <use x=\"268.6875\" xlink:href=\"#DejaVuSans-115\"/>\r\n       <use x=\"320.787109\" xlink:href=\"#DejaVuSans-101\"/>\r\n       <use x=\"382.310547\" xlink:href=\"#DejaVuSans-110\"/>\r\n       <use x=\"445.689453\" xlink:href=\"#DejaVuSans-116\"/>\r\n       <use x=\"484.898438\" xlink:href=\"#DejaVuSans-97\"/>\r\n       <use x=\"546.177734\" xlink:href=\"#DejaVuSans-116\"/>\r\n       <use x=\"585.386719\" xlink:href=\"#DejaVuSans-105\"/>\r\n       <use x=\"613.169922\" xlink:href=\"#DejaVuSans-111\"/>\r\n       <use x=\"674.351562\" xlink:href=\"#DejaVuSans-110\"/>\r\n       <use x=\"737.730469\" xlink:href=\"#DejaVuSans-45\"/>\r\n       <use x=\"773.814453\" xlink:href=\"#DejaVuSans-108\"/>\r\n       <use x=\"801.597656\" xlink:href=\"#DejaVuSans-101\"/>\r\n       <use x=\"863.121094\" xlink:href=\"#DejaVuSans-97\"/>\r\n       <use x=\"924.400391\" xlink:href=\"#DejaVuSans-114\"/>\r\n       <use x=\"965.498047\" xlink:href=\"#DejaVuSans-110\"/>\r\n       <use x=\"1028.876953\" xlink:href=\"#DejaVuSans-105\"/>\r\n       <use x=\"1056.660156\" xlink:href=\"#DejaVuSans-110\"/>\r\n       <use x=\"1120.039062\" xlink:href=\"#DejaVuSans-103\"/>\r\n      </g>\r\n     </g>\r\n    </g>\r\n    <g id=\"xtick_17\">\r\n     <g id=\"line2d_17\">\r\n      <g>\r\n       <use style=\"stroke:#000000;stroke-width:0.8;\" x=\"710.415357\" xlink:href=\"#mc8b18d9bcd\" y=\"300.196875\"/>\r\n      </g>\r\n     </g>\r\n     <g id=\"text_17\">\r\n      <!-- interpretability -->\r\n      <g transform=\"translate(714.278482 411.468437)rotate(-90)scale(0.14 -0.14)\">\r\n       <use xlink:href=\"#DejaVuSans-105\"/>\r\n       <use x=\"27.783203\" xlink:href=\"#DejaVuSans-110\"/>\r\n       <use x=\"91.162109\" xlink:href=\"#DejaVuSans-116\"/>\r\n       <use x=\"130.371094\" xlink:href=\"#DejaVuSans-101\"/>\r\n       <use x=\"191.894531\" xlink:href=\"#DejaVuSans-114\"/>\r\n       <use x=\"233.007812\" xlink:href=\"#DejaVuSans-112\"/>\r\n       <use x=\"296.484375\" xlink:href=\"#DejaVuSans-114\"/>\r\n       <use x=\"337.566406\" xlink:href=\"#DejaVuSans-101\"/>\r\n       <use x=\"399.089844\" xlink:href=\"#DejaVuSans-116\"/>\r\n       <use x=\"438.298828\" xlink:href=\"#DejaVuSans-97\"/>\r\n       <use x=\"499.578125\" xlink:href=\"#DejaVuSans-98\"/>\r\n       <use x=\"563.054688\" xlink:href=\"#DejaVuSans-105\"/>\r\n       <use x=\"590.837891\" xlink:href=\"#DejaVuSans-108\"/>\r\n       <use x=\"618.621094\" xlink:href=\"#DejaVuSans-105\"/>\r\n       <use x=\"646.404297\" xlink:href=\"#DejaVuSans-116\"/>\r\n       <use x=\"685.613281\" xlink:href=\"#DejaVuSans-121\"/>\r\n      </g>\r\n     </g>\r\n    </g>\r\n    <g id=\"xtick_18\">\r\n     <g id=\"line2d_18\">\r\n      <g>\r\n       <use style=\"stroke:#000000;stroke-width:0.8;\" x=\"750.2725\" xlink:href=\"#mc8b18d9bcd\" y=\"300.196875\"/>\r\n      </g>\r\n     </g>\r\n     <g id=\"text_18\">\r\n      <!-- image-classification -->\r\n      <g transform=\"translate(754.135625 446.409375)rotate(-90)scale(0.14 -0.14)\">\r\n       <use xlink:href=\"#DejaVuSans-105\"/>\r\n       <use x=\"27.783203\" xlink:href=\"#DejaVuSans-109\"/>\r\n       <use x=\"125.195312\" xlink:href=\"#DejaVuSans-97\"/>\r\n       <use x=\"186.474609\" xlink:href=\"#DejaVuSans-103\"/>\r\n       <use x=\"249.951172\" xlink:href=\"#DejaVuSans-101\"/>\r\n       <use x=\"311.474609\" xlink:href=\"#DejaVuSans-45\"/>\r\n       <use x=\"347.558594\" xlink:href=\"#DejaVuSans-99\"/>\r\n       <use x=\"402.539062\" xlink:href=\"#DejaVuSans-108\"/>\r\n       <use x=\"430.322266\" xlink:href=\"#DejaVuSans-97\"/>\r\n       <use x=\"491.601562\" xlink:href=\"#DejaVuSans-115\"/>\r\n       <use x=\"543.701172\" xlink:href=\"#DejaVuSans-115\"/>\r\n       <use x=\"595.800781\" xlink:href=\"#DejaVuSans-105\"/>\r\n       <use x=\"623.583984\" xlink:href=\"#DejaVuSans-102\"/>\r\n       <use x=\"658.789062\" xlink:href=\"#DejaVuSans-105\"/>\r\n       <use x=\"686.572266\" xlink:href=\"#DejaVuSans-99\"/>\r\n       <use x=\"741.552734\" xlink:href=\"#DejaVuSans-97\"/>\r\n       <use x=\"802.832031\" xlink:href=\"#DejaVuSans-116\"/>\r\n       <use x=\"842.041016\" xlink:href=\"#DejaVuSans-105\"/>\r\n       <use x=\"869.824219\" xlink:href=\"#DejaVuSans-111\"/>\r\n       <use x=\"931.005859\" xlink:href=\"#DejaVuSans-110\"/>\r\n      </g>\r\n     </g>\r\n    </g>\r\n    <g id=\"xtick_19\">\r\n     <g id=\"line2d_19\">\r\n      <g>\r\n       <use style=\"stroke:#000000;stroke-width:0.8;\" x=\"790.129643\" xlink:href=\"#mc8b18d9bcd\" y=\"300.196875\"/>\r\n      </g>\r\n     </g>\r\n     <g id=\"text_19\">\r\n      <!-- production -->\r\n      <g transform=\"translate(793.992768 382.676562)rotate(-90)scale(0.14 -0.14)\">\r\n       <use xlink:href=\"#DejaVuSans-112\"/>\r\n       <use x=\"63.476562\" xlink:href=\"#DejaVuSans-114\"/>\r\n       <use x=\"104.558594\" xlink:href=\"#DejaVuSans-111\"/>\r\n       <use x=\"165.740234\" xlink:href=\"#DejaVuSans-100\"/>\r\n       <use x=\"229.216797\" xlink:href=\"#DejaVuSans-117\"/>\r\n       <use x=\"292.595703\" xlink:href=\"#DejaVuSans-99\"/>\r\n       <use x=\"347.576172\" xlink:href=\"#DejaVuSans-116\"/>\r\n       <use x=\"386.785156\" xlink:href=\"#DejaVuSans-105\"/>\r\n       <use x=\"414.568359\" xlink:href=\"#DejaVuSans-111\"/>\r\n       <use x=\"475.75\" xlink:href=\"#DejaVuSans-110\"/>\r\n      </g>\r\n     </g>\r\n    </g>\r\n    <g id=\"xtick_20\">\r\n     <g id=\"line2d_20\">\r\n      <g>\r\n       <use style=\"stroke:#000000;stroke-width:0.8;\" x=\"829.986786\" xlink:href=\"#mc8b18d9bcd\" y=\"300.196875\"/>\r\n      </g>\r\n     </g>\r\n     <g id=\"text_20\">\r\n      <!-- language-modeling -->\r\n      <g transform=\"translate(833.849911 442.675313)rotate(-90)scale(0.14 -0.14)\">\r\n       <use xlink:href=\"#DejaVuSans-108\"/>\r\n       <use x=\"27.783203\" xlink:href=\"#DejaVuSans-97\"/>\r\n       <use x=\"89.0625\" xlink:href=\"#DejaVuSans-110\"/>\r\n       <use x=\"152.441406\" xlink:href=\"#DejaVuSans-103\"/>\r\n       <use x=\"215.917969\" xlink:href=\"#DejaVuSans-117\"/>\r\n       <use x=\"279.296875\" xlink:href=\"#DejaVuSans-97\"/>\r\n       <use x=\"340.576172\" xlink:href=\"#DejaVuSans-103\"/>\r\n       <use x=\"404.052734\" xlink:href=\"#DejaVuSans-101\"/>\r\n       <use x=\"465.576172\" xlink:href=\"#DejaVuSans-45\"/>\r\n       <use x=\"501.660156\" xlink:href=\"#DejaVuSans-109\"/>\r\n       <use x=\"599.072266\" xlink:href=\"#DejaVuSans-111\"/>\r\n       <use x=\"660.253906\" xlink:href=\"#DejaVuSans-100\"/>\r\n       <use x=\"723.730469\" xlink:href=\"#DejaVuSans-101\"/>\r\n       <use x=\"785.253906\" xlink:href=\"#DejaVuSans-108\"/>\r\n       <use x=\"813.037109\" xlink:href=\"#DejaVuSans-105\"/>\r\n       <use x=\"840.820312\" xlink:href=\"#DejaVuSans-110\"/>\r\n       <use x=\"904.199219\" xlink:href=\"#DejaVuSans-103\"/>\r\n      </g>\r\n     </g>\r\n    </g>\r\n    <g id=\"xtick_21\">\r\n     <g id=\"line2d_21\">\r\n      <g>\r\n       <use style=\"stroke:#000000;stroke-width:0.8;\" x=\"869.843929\" xlink:href=\"#mc8b18d9bcd\" y=\"300.196875\"/>\r\n      </g>\r\n     </g>\r\n     <g id=\"text_21\">\r\n      <!-- graph-neural-networks -->\r\n      <g transform=\"translate(873.707054 467.01125)rotate(-90)scale(0.14 -0.14)\">\r\n       <use xlink:href=\"#DejaVuSans-103\"/>\r\n       <use x=\"63.476562\" xlink:href=\"#DejaVuSans-114\"/>\r\n       <use x=\"104.589844\" xlink:href=\"#DejaVuSans-97\"/>\r\n       <use x=\"165.869141\" xlink:href=\"#DejaVuSans-112\"/>\r\n       <use x=\"229.345703\" xlink:href=\"#DejaVuSans-104\"/>\r\n       <use x=\"292.724609\" xlink:href=\"#DejaVuSans-45\"/>\r\n       <use x=\"328.808594\" xlink:href=\"#DejaVuSans-110\"/>\r\n       <use x=\"392.1875\" xlink:href=\"#DejaVuSans-101\"/>\r\n       <use x=\"453.710938\" xlink:href=\"#DejaVuSans-117\"/>\r\n       <use x=\"517.089844\" xlink:href=\"#DejaVuSans-114\"/>\r\n       <use x=\"558.203125\" xlink:href=\"#DejaVuSans-97\"/>\r\n       <use x=\"619.482422\" xlink:href=\"#DejaVuSans-108\"/>\r\n       <use x=\"647.265625\" xlink:href=\"#DejaVuSans-45\"/>\r\n       <use x=\"683.349609\" xlink:href=\"#DejaVuSans-110\"/>\r\n       <use x=\"746.728516\" xlink:href=\"#DejaVuSans-101\"/>\r\n       <use x=\"808.251953\" xlink:href=\"#DejaVuSans-116\"/>\r\n       <use x=\"847.460938\" xlink:href=\"#DejaVuSans-119\"/>\r\n       <use x=\"929.248047\" xlink:href=\"#DejaVuSans-111\"/>\r\n       <use x=\"990.429688\" xlink:href=\"#DejaVuSans-114\"/>\r\n       <use x=\"1031.542969\" xlink:href=\"#DejaVuSans-107\"/>\r\n       <use x=\"1089.453125\" xlink:href=\"#DejaVuSans-115\"/>\r\n      </g>\r\n     </g>\r\n    </g>\r\n    <g id=\"xtick_22\">\r\n     <g id=\"line2d_22\">\r\n      <g>\r\n       <use style=\"stroke:#000000;stroke-width:0.8;\" x=\"909.701071\" xlink:href=\"#mc8b18d9bcd\" y=\"300.196875\"/>\r\n      </g>\r\n     </g>\r\n     <g id=\"text_22\">\r\n      <!-- regression -->\r\n      <g transform=\"translate(913.564196 380.729687)rotate(-90)scale(0.14 -0.14)\">\r\n       <use xlink:href=\"#DejaVuSans-114\"/>\r\n       <use x=\"41.082031\" xlink:href=\"#DejaVuSans-101\"/>\r\n       <use x=\"102.605469\" xlink:href=\"#DejaVuSans-103\"/>\r\n       <use x=\"166.082031\" xlink:href=\"#DejaVuSans-114\"/>\r\n       <use x=\"207.164062\" xlink:href=\"#DejaVuSans-101\"/>\r\n       <use x=\"268.6875\" xlink:href=\"#DejaVuSans-115\"/>\r\n       <use x=\"320.787109\" xlink:href=\"#DejaVuSans-115\"/>\r\n       <use x=\"372.886719\" xlink:href=\"#DejaVuSans-105\"/>\r\n       <use x=\"400.669922\" xlink:href=\"#DejaVuSans-111\"/>\r\n       <use x=\"461.851562\" xlink:href=\"#DejaVuSans-110\"/>\r\n      </g>\r\n     </g>\r\n    </g>\r\n    <g id=\"xtick_23\">\r\n     <g id=\"line2d_23\">\r\n      <g>\r\n       <use style=\"stroke:#000000;stroke-width:0.8;\" x=\"949.558214\" xlink:href=\"#mc8b18d9bcd\" y=\"300.196875\"/>\r\n      </g>\r\n     </g>\r\n     <g id=\"text_23\">\r\n      <!-- segmentation -->\r\n      <g transform=\"translate(953.421339 404.000313)rotate(-90)scale(0.14 -0.14)\">\r\n       <use xlink:href=\"#DejaVuSans-115\"/>\r\n       <use x=\"52.099609\" xlink:href=\"#DejaVuSans-101\"/>\r\n       <use x=\"113.623047\" xlink:href=\"#DejaVuSans-103\"/>\r\n       <use x=\"177.099609\" xlink:href=\"#DejaVuSans-109\"/>\r\n       <use x=\"274.511719\" xlink:href=\"#DejaVuSans-101\"/>\r\n       <use x=\"336.035156\" xlink:href=\"#DejaVuSans-110\"/>\r\n       <use x=\"399.414062\" xlink:href=\"#DejaVuSans-116\"/>\r\n       <use x=\"438.623047\" xlink:href=\"#DejaVuSans-97\"/>\r\n       <use x=\"499.902344\" xlink:href=\"#DejaVuSans-116\"/>\r\n       <use x=\"539.111328\" xlink:href=\"#DejaVuSans-105\"/>\r\n       <use x=\"566.894531\" xlink:href=\"#DejaVuSans-111\"/>\r\n       <use x=\"628.076172\" xlink:href=\"#DejaVuSans-110\"/>\r\n      </g>\r\n     </g>\r\n    </g>\r\n    <g id=\"xtick_24\">\r\n     <g id=\"line2d_24\">\r\n      <g>\r\n       <use style=\"stroke:#000000;stroke-width:0.8;\" x=\"989.415357\" xlink:href=\"#mc8b18d9bcd\" y=\"300.196875\"/>\r\n      </g>\r\n     </g>\r\n     <g id=\"text_24\">\r\n      <!-- transfer-learning -->\r\n      <g transform=\"translate(993.278482 424.88)rotate(-90)scale(0.14 -0.14)\">\r\n       <use xlink:href=\"#DejaVuSans-116\"/>\r\n       <use x=\"39.208984\" xlink:href=\"#DejaVuSans-114\"/>\r\n       <use x=\"80.322266\" xlink:href=\"#DejaVuSans-97\"/>\r\n       <use x=\"141.601562\" xlink:href=\"#DejaVuSans-110\"/>\r\n       <use x=\"204.980469\" xlink:href=\"#DejaVuSans-115\"/>\r\n       <use x=\"257.080078\" xlink:href=\"#DejaVuSans-102\"/>\r\n       <use x=\"292.285156\" xlink:href=\"#DejaVuSans-101\"/>\r\n       <use x=\"353.808594\" xlink:href=\"#DejaVuSans-114\"/>\r\n       <use x=\"394.828125\" xlink:href=\"#DejaVuSans-45\"/>\r\n       <use x=\"430.912109\" xlink:href=\"#DejaVuSans-108\"/>\r\n       <use x=\"458.695312\" xlink:href=\"#DejaVuSans-101\"/>\r\n       <use x=\"520.21875\" xlink:href=\"#DejaVuSans-97\"/>\r\n       <use x=\"581.498047\" xlink:href=\"#DejaVuSans-114\"/>\r\n       <use x=\"622.595703\" xlink:href=\"#DejaVuSans-110\"/>\r\n       <use x=\"685.974609\" xlink:href=\"#DejaVuSans-105\"/>\r\n       <use x=\"713.757812\" xlink:href=\"#DejaVuSans-110\"/>\r\n       <use x=\"777.136719\" xlink:href=\"#DejaVuSans-103\"/>\r\n      </g>\r\n     </g>\r\n    </g>\r\n    <g id=\"xtick_25\">\r\n     <g id=\"line2d_25\">\r\n      <g>\r\n       <use style=\"stroke:#000000;stroke-width:0.8;\" x=\"1029.2725\" xlink:href=\"#mc8b18d9bcd\" y=\"300.196875\"/>\r\n      </g>\r\n     </g>\r\n     <g id=\"text_25\">\r\n      <!-- data-augmentation -->\r\n      <g transform=\"translate(1033.135625 442.130625)rotate(-90)scale(0.14 -0.14)\">\r\n       <use xlink:href=\"#DejaVuSans-100\"/>\r\n       <use x=\"63.476562\" xlink:href=\"#DejaVuSans-97\"/>\r\n       <use x=\"124.755859\" xlink:href=\"#DejaVuSans-116\"/>\r\n       <use x=\"163.964844\" xlink:href=\"#DejaVuSans-97\"/>\r\n       <use x=\"225.244141\" xlink:href=\"#DejaVuSans-45\"/>\r\n       <use x=\"261.328125\" xlink:href=\"#DejaVuSans-97\"/>\r\n       <use x=\"322.607422\" xlink:href=\"#DejaVuSans-117\"/>\r\n       <use x=\"385.986328\" xlink:href=\"#DejaVuSans-103\"/>\r\n       <use x=\"449.462891\" xlink:href=\"#DejaVuSans-109\"/>\r\n       <use x=\"546.875\" xlink:href=\"#DejaVuSans-101\"/>\r\n       <use x=\"608.398438\" xlink:href=\"#DejaVuSans-110\"/>\r\n       <use x=\"671.777344\" xlink:href=\"#DejaVuSans-116\"/>\r\n       <use x=\"710.986328\" xlink:href=\"#DejaVuSans-97\"/>\r\n       <use x=\"772.265625\" xlink:href=\"#DejaVuSans-116\"/>\r\n       <use x=\"811.474609\" xlink:href=\"#DejaVuSans-105\"/>\r\n       <use x=\"839.257812\" xlink:href=\"#DejaVuSans-111\"/>\r\n       <use x=\"900.439453\" xlink:href=\"#DejaVuSans-110\"/>\r\n      </g>\r\n     </g>\r\n    </g>\r\n    <g id=\"xtick_26\">\r\n     <g id=\"line2d_26\">\r\n      <g>\r\n       <use style=\"stroke:#000000;stroke-width:0.8;\" x=\"1069.129643\" xlink:href=\"#mc8b18d9bcd\" y=\"300.196875\"/>\r\n      </g>\r\n     </g>\r\n     <g id=\"text_26\">\r\n      <!-- autoencoders -->\r\n      <g transform=\"translate(1072.992768 403.005)rotate(-90)scale(0.14 -0.14)\">\r\n       <use xlink:href=\"#DejaVuSans-97\"/>\r\n       <use x=\"61.279297\" xlink:href=\"#DejaVuSans-117\"/>\r\n       <use x=\"124.658203\" xlink:href=\"#DejaVuSans-116\"/>\r\n       <use x=\"163.867188\" xlink:href=\"#DejaVuSans-111\"/>\r\n       <use x=\"225.048828\" xlink:href=\"#DejaVuSans-101\"/>\r\n       <use x=\"286.572266\" xlink:href=\"#DejaVuSans-110\"/>\r\n       <use x=\"349.951172\" xlink:href=\"#DejaVuSans-99\"/>\r\n       <use x=\"404.931641\" xlink:href=\"#DejaVuSans-111\"/>\r\n       <use x=\"466.113281\" xlink:href=\"#DejaVuSans-100\"/>\r\n       <use x=\"529.589844\" xlink:href=\"#DejaVuSans-101\"/>\r\n       <use x=\"591.113281\" xlink:href=\"#DejaVuSans-114\"/>\r\n       <use x=\"632.226562\" xlink:href=\"#DejaVuSans-115\"/>\r\n      </g>\r\n     </g>\r\n    </g>\r\n    <g id=\"xtick_27\">\r\n     <g id=\"line2d_27\">\r\n      <g>\r\n       <use style=\"stroke:#000000;stroke-width:0.8;\" x=\"1108.986786\" xlink:href=\"#mc8b18d9bcd\" y=\"300.196875\"/>\r\n      </g>\r\n     </g>\r\n     <g id=\"text_27\">\r\n      <!-- self-supervised-learning -->\r\n      <g transform=\"translate(1112.849911 475.765625)rotate(-90)scale(0.14 -0.14)\">\r\n       <use xlink:href=\"#DejaVuSans-115\"/>\r\n       <use x=\"52.099609\" xlink:href=\"#DejaVuSans-101\"/>\r\n       <use x=\"113.623047\" xlink:href=\"#DejaVuSans-108\"/>\r\n       <use x=\"141.40625\" xlink:href=\"#DejaVuSans-102\"/>\r\n       <use x=\"176.533203\" xlink:href=\"#DejaVuSans-45\"/>\r\n       <use x=\"212.617188\" xlink:href=\"#DejaVuSans-115\"/>\r\n       <use x=\"264.716797\" xlink:href=\"#DejaVuSans-117\"/>\r\n       <use x=\"328.095703\" xlink:href=\"#DejaVuSans-112\"/>\r\n       <use x=\"391.572266\" xlink:href=\"#DejaVuSans-101\"/>\r\n       <use x=\"453.095703\" xlink:href=\"#DejaVuSans-114\"/>\r\n       <use x=\"494.208984\" xlink:href=\"#DejaVuSans-118\"/>\r\n       <use x=\"553.388672\" xlink:href=\"#DejaVuSans-105\"/>\r\n       <use x=\"581.171875\" xlink:href=\"#DejaVuSans-115\"/>\r\n       <use x=\"633.271484\" xlink:href=\"#DejaVuSans-101\"/>\r\n       <use x=\"694.794922\" xlink:href=\"#DejaVuSans-100\"/>\r\n       <use x=\"758.271484\" xlink:href=\"#DejaVuSans-45\"/>\r\n       <use x=\"794.355469\" xlink:href=\"#DejaVuSans-108\"/>\r\n       <use x=\"822.138672\" xlink:href=\"#DejaVuSans-101\"/>\r\n       <use x=\"883.662109\" xlink:href=\"#DejaVuSans-97\"/>\r\n       <use x=\"944.941406\" xlink:href=\"#DejaVuSans-114\"/>\r\n       <use x=\"986.039062\" xlink:href=\"#DejaVuSans-110\"/>\r\n       <use x=\"1049.417969\" xlink:href=\"#DejaVuSans-105\"/>\r\n       <use x=\"1077.201172\" xlink:href=\"#DejaVuSans-110\"/>\r\n       <use x=\"1140.580078\" xlink:href=\"#DejaVuSans-103\"/>\r\n      </g>\r\n     </g>\r\n    </g>\r\n    <g id=\"xtick_28\">\r\n     <g id=\"line2d_28\">\r\n      <g>\r\n       <use style=\"stroke:#000000;stroke-width:0.8;\" x=\"1148.843929\" xlink:href=\"#mc8b18d9bcd\" y=\"300.196875\"/>\r\n      </g>\r\n     </g>\r\n     <g id=\"text_28\">\r\n      <!-- tensorflow-js -->\r\n      <g transform=\"translate(1152.707054 396.85375)rotate(-90)scale(0.14 -0.14)\">\r\n       <use xlink:href=\"#DejaVuSans-116\"/>\r\n       <use x=\"39.208984\" xlink:href=\"#DejaVuSans-101\"/>\r\n       <use x=\"100.732422\" xlink:href=\"#DejaVuSans-110\"/>\r\n       <use x=\"164.111328\" xlink:href=\"#DejaVuSans-115\"/>\r\n       <use x=\"216.210938\" xlink:href=\"#DejaVuSans-111\"/>\r\n       <use x=\"277.392578\" xlink:href=\"#DejaVuSans-114\"/>\r\n       <use x=\"318.505859\" xlink:href=\"#DejaVuSans-102\"/>\r\n       <use x=\"353.710938\" xlink:href=\"#DejaVuSans-108\"/>\r\n       <use x=\"381.494141\" xlink:href=\"#DejaVuSans-111\"/>\r\n       <use x=\"442.675781\" xlink:href=\"#DejaVuSans-119\"/>\r\n       <use x=\"524.462891\" xlink:href=\"#DejaVuSans-45\"/>\r\n       <use x=\"560.546875\" xlink:href=\"#DejaVuSans-106\"/>\r\n       <use x=\"588.330078\" xlink:href=\"#DejaVuSans-115\"/>\r\n      </g>\r\n     </g>\r\n    </g>\r\n    <g id=\"xtick_29\">\r\n     <g id=\"line2d_29\">\r\n      <g>\r\n       <use style=\"stroke:#000000;stroke-width:0.8;\" x=\"1188.701071\" xlink:href=\"#mc8b18d9bcd\" y=\"300.196875\"/>\r\n      </g>\r\n     </g>\r\n     <g id=\"text_29\">\r\n      <!-- unsupervised-learning -->\r\n      <g transform=\"translate(1192.564196 463.745312)rotate(-90)scale(0.14 -0.14)\">\r\n       <use xlink:href=\"#DejaVuSans-117\"/>\r\n       <use x=\"63.378906\" xlink:href=\"#DejaVuSans-110\"/>\r\n       <use x=\"126.757812\" xlink:href=\"#DejaVuSans-115\"/>\r\n       <use x=\"178.857422\" xlink:href=\"#DejaVuSans-117\"/>\r\n       <use x=\"242.236328\" xlink:href=\"#DejaVuSans-112\"/>\r\n       <use x=\"305.712891\" xlink:href=\"#DejaVuSans-101\"/>\r\n       <use x=\"367.236328\" xlink:href=\"#DejaVuSans-114\"/>\r\n       <use x=\"408.349609\" xlink:href=\"#DejaVuSans-118\"/>\r\n       <use x=\"467.529297\" xlink:href=\"#DejaVuSans-105\"/>\r\n       <use x=\"495.3125\" xlink:href=\"#DejaVuSans-115\"/>\r\n       <use x=\"547.412109\" xlink:href=\"#DejaVuSans-101\"/>\r\n       <use x=\"608.935547\" xlink:href=\"#DejaVuSans-100\"/>\r\n       <use x=\"672.412109\" xlink:href=\"#DejaVuSans-45\"/>\r\n       <use x=\"708.496094\" xlink:href=\"#DejaVuSans-108\"/>\r\n       <use x=\"736.279297\" xlink:href=\"#DejaVuSans-101\"/>\r\n       <use x=\"797.802734\" xlink:href=\"#DejaVuSans-97\"/>\r\n       <use x=\"859.082031\" xlink:href=\"#DejaVuSans-114\"/>\r\n       <use x=\"900.179688\" xlink:href=\"#DejaVuSans-110\"/>\r\n       <use x=\"963.558594\" xlink:href=\"#DejaVuSans-105\"/>\r\n       <use x=\"991.341797\" xlink:href=\"#DejaVuSans-110\"/>\r\n       <use x=\"1054.720703\" xlink:href=\"#DejaVuSans-103\"/>\r\n      </g>\r\n     </g>\r\n    </g>\r\n    <g id=\"xtick_30\">\r\n     <g id=\"line2d_30\">\r\n      <g>\r\n       <use style=\"stroke:#000000;stroke-width:0.8;\" x=\"1228.558214\" xlink:href=\"#mc8b18d9bcd\" y=\"300.196875\"/>\r\n      </g>\r\n     </g>\r\n     <g id=\"text_30\">\r\n      <!-- wandb -->\r\n      <g transform=\"translate(1232.421339 353.87375)rotate(-90)scale(0.14 -0.14)\">\r\n       <use xlink:href=\"#DejaVuSans-119\"/>\r\n       <use x=\"81.787109\" xlink:href=\"#DejaVuSans-97\"/>\r\n       <use x=\"143.066406\" xlink:href=\"#DejaVuSans-110\"/>\r\n       <use x=\"206.445312\" xlink:href=\"#DejaVuSans-100\"/>\r\n       <use x=\"269.921875\" xlink:href=\"#DejaVuSans-98\"/>\r\n      </g>\r\n     </g>\r\n    </g>\r\n    <g id=\"xtick_31\">\r\n     <g id=\"line2d_31\">\r\n      <g>\r\n       <use style=\"stroke:#000000;stroke-width:0.8;\" x=\"1268.415357\" xlink:href=\"#mc8b18d9bcd\" y=\"300.196875\"/>\r\n      </g>\r\n     </g>\r\n     <g id=\"text_31\">\r\n      <!-- time-series -->\r\n      <g transform=\"translate(1272.278482 385.336563)rotate(-90)scale(0.14 -0.14)\">\r\n       <use xlink:href=\"#DejaVuSans-116\"/>\r\n       <use x=\"39.208984\" xlink:href=\"#DejaVuSans-105\"/>\r\n       <use x=\"66.992188\" xlink:href=\"#DejaVuSans-109\"/>\r\n       <use x=\"164.404297\" xlink:href=\"#DejaVuSans-101\"/>\r\n       <use x=\"225.927734\" xlink:href=\"#DejaVuSans-45\"/>\r\n       <use x=\"262.011719\" xlink:href=\"#DejaVuSans-115\"/>\r\n       <use x=\"314.111328\" xlink:href=\"#DejaVuSans-101\"/>\r\n       <use x=\"375.634766\" xlink:href=\"#DejaVuSans-114\"/>\r\n       <use x=\"416.748047\" xlink:href=\"#DejaVuSans-105\"/>\r\n       <use x=\"444.53125\" xlink:href=\"#DejaVuSans-101\"/>\r\n       <use x=\"506.054688\" xlink:href=\"#DejaVuSans-115\"/>\r\n      </g>\r\n     </g>\r\n    </g>\r\n    <g id=\"xtick_32\">\r\n     <g id=\"line2d_32\">\r\n      <g>\r\n       <use style=\"stroke:#000000;stroke-width:0.8;\" x=\"1308.2725\" xlink:href=\"#mc8b18d9bcd\" y=\"300.196875\"/>\r\n      </g>\r\n     </g>\r\n     <g id=\"text_32\">\r\n      <!-- flask -->\r\n      <g transform=\"translate(1312.135625 339.994062)rotate(-90)scale(0.14 -0.14)\">\r\n       <use xlink:href=\"#DejaVuSans-102\"/>\r\n       <use x=\"35.205078\" xlink:href=\"#DejaVuSans-108\"/>\r\n       <use x=\"62.988281\" xlink:href=\"#DejaVuSans-97\"/>\r\n       <use x=\"124.267578\" xlink:href=\"#DejaVuSans-115\"/>\r\n       <use x=\"176.367188\" xlink:href=\"#DejaVuSans-107\"/>\r\n      </g>\r\n     </g>\r\n    </g>\r\n    <g id=\"xtick_33\">\r\n     <g id=\"line2d_33\">\r\n      <g>\r\n       <use style=\"stroke:#000000;stroke-width:0.8;\" x=\"1348.129643\" xlink:href=\"#mc8b18d9bcd\" y=\"300.196875\"/>\r\n      </g>\r\n     </g>\r\n     <g id=\"text_33\">\r\n      <!-- node-classification -->\r\n      <g transform=\"translate(1351.992768 437.7425)rotate(-90)scale(0.14 -0.14)\">\r\n       <use xlink:href=\"#DejaVuSans-110\"/>\r\n       <use x=\"63.378906\" xlink:href=\"#DejaVuSans-111\"/>\r\n       <use x=\"124.560547\" xlink:href=\"#DejaVuSans-100\"/>\r\n       <use x=\"188.037109\" xlink:href=\"#DejaVuSans-101\"/>\r\n       <use x=\"249.560547\" xlink:href=\"#DejaVuSans-45\"/>\r\n       <use x=\"285.644531\" xlink:href=\"#DejaVuSans-99\"/>\r\n       <use x=\"340.625\" xlink:href=\"#DejaVuSans-108\"/>\r\n       <use x=\"368.408203\" xlink:href=\"#DejaVuSans-97\"/>\r\n       <use x=\"429.6875\" xlink:href=\"#DejaVuSans-115\"/>\r\n       <use x=\"481.787109\" xlink:href=\"#DejaVuSans-115\"/>\r\n       <use x=\"533.886719\" xlink:href=\"#DejaVuSans-105\"/>\r\n       <use x=\"561.669922\" xlink:href=\"#DejaVuSans-102\"/>\r\n       <use x=\"596.875\" xlink:href=\"#DejaVuSans-105\"/>\r\n       <use x=\"624.658203\" xlink:href=\"#DejaVuSans-99\"/>\r\n       <use x=\"679.638672\" xlink:href=\"#DejaVuSans-97\"/>\r\n       <use x=\"740.917969\" xlink:href=\"#DejaVuSans-116\"/>\r\n       <use x=\"780.126953\" xlink:href=\"#DejaVuSans-105\"/>\r\n       <use x=\"807.910156\" xlink:href=\"#DejaVuSans-111\"/>\r\n       <use x=\"869.091797\" xlink:href=\"#DejaVuSans-110\"/>\r\n      </g>\r\n     </g>\r\n    </g>\r\n    <g id=\"xtick_34\">\r\n     <g id=\"line2d_34\">\r\n      <g>\r\n       <use style=\"stroke:#000000;stroke-width:0.8;\" x=\"1387.986786\" xlink:href=\"#mc8b18d9bcd\" y=\"300.196875\"/>\r\n      </g>\r\n     </g>\r\n     <g id=\"text_34\">\r\n      <!-- question-answering -->\r\n      <defs>\r\n       <path d=\"M 14.796875 27.296875 \r\nQ 14.796875 17.390625 18.875 11.75 \r\nQ 22.953125 6.109375 30.078125 6.109375 \r\nQ 37.203125 6.109375 41.296875 11.75 \r\nQ 45.40625 17.390625 45.40625 27.296875 \r\nQ 45.40625 37.203125 41.296875 42.84375 \r\nQ 37.203125 48.484375 30.078125 48.484375 \r\nQ 22.953125 48.484375 18.875 42.84375 \r\nQ 14.796875 37.203125 14.796875 27.296875 \r\nz\r\nM 45.40625 8.203125 \r\nQ 42.578125 3.328125 38.25 0.953125 \r\nQ 33.9375 -1.421875 27.875 -1.421875 \r\nQ 17.96875 -1.421875 11.734375 6.484375 \r\nQ 5.515625 14.40625 5.515625 27.296875 \r\nQ 5.515625 40.1875 11.734375 48.09375 \r\nQ 17.96875 56 27.875 56 \r\nQ 33.9375 56 38.25 53.625 \r\nQ 42.578125 51.265625 45.40625 46.390625 \r\nL 45.40625 54.6875 \r\nL 54.390625 54.6875 \r\nL 54.390625 -20.796875 \r\nL 45.40625 -20.796875 \r\nz\r\n\" id=\"DejaVuSans-113\"/>\r\n      </defs>\r\n      <g transform=\"translate(1391.849911 444.945938)rotate(-90)scale(0.14 -0.14)\">\r\n       <use xlink:href=\"#DejaVuSans-113\"/>\r\n       <use x=\"63.476562\" xlink:href=\"#DejaVuSans-117\"/>\r\n       <use x=\"126.855469\" xlink:href=\"#DejaVuSans-101\"/>\r\n       <use x=\"188.378906\" xlink:href=\"#DejaVuSans-115\"/>\r\n       <use x=\"240.478516\" xlink:href=\"#DejaVuSans-116\"/>\r\n       <use x=\"279.6875\" xlink:href=\"#DejaVuSans-105\"/>\r\n       <use x=\"307.470703\" xlink:href=\"#DejaVuSans-111\"/>\r\n       <use x=\"368.652344\" xlink:href=\"#DejaVuSans-110\"/>\r\n       <use x=\"432.03125\" xlink:href=\"#DejaVuSans-45\"/>\r\n       <use x=\"468.115234\" xlink:href=\"#DejaVuSans-97\"/>\r\n       <use x=\"529.394531\" xlink:href=\"#DejaVuSans-110\"/>\r\n       <use x=\"592.773438\" xlink:href=\"#DejaVuSans-115\"/>\r\n       <use x=\"644.873047\" xlink:href=\"#DejaVuSans-119\"/>\r\n       <use x=\"726.660156\" xlink:href=\"#DejaVuSans-101\"/>\r\n       <use x=\"788.183594\" xlink:href=\"#DejaVuSans-114\"/>\r\n       <use x=\"829.296875\" xlink:href=\"#DejaVuSans-105\"/>\r\n       <use x=\"857.080078\" xlink:href=\"#DejaVuSans-110\"/>\r\n       <use x=\"920.458984\" xlink:href=\"#DejaVuSans-103\"/>\r\n      </g>\r\n     </g>\r\n    </g>\r\n    <g id=\"xtick_35\">\r\n     <g id=\"line2d_35\">\r\n      <g>\r\n       <use style=\"stroke:#000000;stroke-width:0.8;\" x=\"1427.843929\" xlink:href=\"#mc8b18d9bcd\" y=\"300.196875\"/>\r\n      </g>\r\n     </g>\r\n     <g id=\"text_35\">\r\n      <!-- pretraining -->\r\n      <g transform=\"translate(1431.707054 384.684687)rotate(-90)scale(0.14 -0.14)\">\r\n       <use xlink:href=\"#DejaVuSans-112\"/>\r\n       <use x=\"63.476562\" xlink:href=\"#DejaVuSans-114\"/>\r\n       <use x=\"104.558594\" xlink:href=\"#DejaVuSans-101\"/>\r\n       <use x=\"166.082031\" xlink:href=\"#DejaVuSans-116\"/>\r\n       <use x=\"205.291016\" xlink:href=\"#DejaVuSans-114\"/>\r\n       <use x=\"246.404297\" xlink:href=\"#DejaVuSans-97\"/>\r\n       <use x=\"307.683594\" xlink:href=\"#DejaVuSans-105\"/>\r\n       <use x=\"335.466797\" xlink:href=\"#DejaVuSans-110\"/>\r\n       <use x=\"398.845703\" xlink:href=\"#DejaVuSans-105\"/>\r\n       <use x=\"426.628906\" xlink:href=\"#DejaVuSans-110\"/>\r\n       <use x=\"490.007812\" xlink:href=\"#DejaVuSans-103\"/>\r\n      </g>\r\n     </g>\r\n    </g>\r\n    <g id=\"text_36\">\r\n     <!-- Tag -->\r\n     <defs>\r\n      <path d=\"M -0.296875 72.90625 \r\nL 61.375 72.90625 \r\nL 61.375 64.59375 \r\nL 35.5 64.59375 \r\nL 35.5 0 \r\nL 25.59375 0 \r\nL 25.59375 64.59375 \r\nL -0.296875 64.59375 \r\nz\r\n\" id=\"DejaVuSans-84\"/>\r\n     </defs>\r\n     <g transform=\"translate(735.425 551.31375)scale(0.16 -0.16)\">\r\n      <use xlink:href=\"#DejaVuSans-84\"/>\r\n      <use x=\"60.833984\" xlink:href=\"#DejaVuSans-97\"/>\r\n      <use x=\"122.113281\" xlink:href=\"#DejaVuSans-103\"/>\r\n     </g>\r\n    </g>\r\n   </g>\r\n   <g id=\"matplotlib.axis_2\">\r\n    <g id=\"ytick_1\">\r\n     <g id=\"line2d_36\">\r\n      <defs>\r\n       <path d=\"M 0 0 \r\nL -3.5 0 \r\n\" id=\"mad997141d2\" style=\"stroke:#000000;stroke-width:0.8;\"/>\r\n      </defs>\r\n      <g>\r\n       <use style=\"stroke:#000000;stroke-width:0.8;\" x=\"52.7725\" xlink:href=\"#mad997141d2\" y=\"300.196875\"/>\r\n      </g>\r\n     </g>\r\n     <g id=\"text_37\">\r\n      <!-- 0 -->\r\n      <defs>\r\n       <path d=\"M 31.78125 66.40625 \r\nQ 24.171875 66.40625 20.328125 58.90625 \r\nQ 16.5 51.421875 16.5 36.375 \r\nQ 16.5 21.390625 20.328125 13.890625 \r\nQ 24.171875 6.390625 31.78125 6.390625 \r\nQ 39.453125 6.390625 43.28125 13.890625 \r\nQ 47.125 21.390625 47.125 36.375 \r\nQ 47.125 51.421875 43.28125 58.90625 \r\nQ 39.453125 66.40625 31.78125 66.40625 \r\nz\r\nM 31.78125 74.21875 \r\nQ 44.046875 74.21875 50.515625 64.515625 \r\nQ 56.984375 54.828125 56.984375 36.375 \r\nQ 56.984375 17.96875 50.515625 8.265625 \r\nQ 44.046875 -1.421875 31.78125 -1.421875 \r\nQ 19.53125 -1.421875 13.0625 8.265625 \r\nQ 6.59375 17.96875 6.59375 36.375 \r\nQ 6.59375 54.828125 13.0625 64.515625 \r\nQ 19.53125 74.21875 31.78125 74.21875 \r\nz\r\n\" id=\"DejaVuSans-48\"/>\r\n      </defs>\r\n      <g transform=\"translate(39.41 303.996094)scale(0.1 -0.1)\">\r\n       <use xlink:href=\"#DejaVuSans-48\"/>\r\n      </g>\r\n     </g>\r\n    </g>\r\n    <g id=\"ytick_2\">\r\n     <g id=\"line2d_37\">\r\n      <g>\r\n       <use style=\"stroke:#000000;stroke-width:0.8;\" x=\"52.7725\" xlink:href=\"#mad997141d2\" y=\"239.857215\"/>\r\n      </g>\r\n     </g>\r\n     <g id=\"text_38\">\r\n      <!-- 100 -->\r\n      <defs>\r\n       <path d=\"M 12.40625 8.296875 \r\nL 28.515625 8.296875 \r\nL 28.515625 63.921875 \r\nL 10.984375 60.40625 \r\nL 10.984375 69.390625 \r\nL 28.421875 72.90625 \r\nL 38.28125 72.90625 \r\nL 38.28125 8.296875 \r\nL 54.390625 8.296875 \r\nL 54.390625 0 \r\nL 12.40625 0 \r\nz\r\n\" id=\"DejaVuSans-49\"/>\r\n      </defs>\r\n      <g transform=\"translate(26.685 243.656433)scale(0.1 -0.1)\">\r\n       <use xlink:href=\"#DejaVuSans-49\"/>\r\n       <use x=\"63.623047\" xlink:href=\"#DejaVuSans-48\"/>\r\n       <use x=\"127.246094\" xlink:href=\"#DejaVuSans-48\"/>\r\n      </g>\r\n     </g>\r\n    </g>\r\n    <g id=\"ytick_3\">\r\n     <g id=\"line2d_38\">\r\n      <g>\r\n       <use style=\"stroke:#000000;stroke-width:0.8;\" x=\"52.7725\" xlink:href=\"#mad997141d2\" y=\"179.517554\"/>\r\n      </g>\r\n     </g>\r\n     <g id=\"text_39\">\r\n      <!-- 200 -->\r\n      <defs>\r\n       <path d=\"M 19.1875 8.296875 \r\nL 53.609375 8.296875 \r\nL 53.609375 0 \r\nL 7.328125 0 \r\nL 7.328125 8.296875 \r\nQ 12.9375 14.109375 22.625 23.890625 \r\nQ 32.328125 33.6875 34.8125 36.53125 \r\nQ 39.546875 41.84375 41.421875 45.53125 \r\nQ 43.3125 49.21875 43.3125 52.78125 \r\nQ 43.3125 58.59375 39.234375 62.25 \r\nQ 35.15625 65.921875 28.609375 65.921875 \r\nQ 23.96875 65.921875 18.8125 64.3125 \r\nQ 13.671875 62.703125 7.8125 59.421875 \r\nL 7.8125 69.390625 \r\nQ 13.765625 71.78125 18.9375 73 \r\nQ 24.125 74.21875 28.421875 74.21875 \r\nQ 39.75 74.21875 46.484375 68.546875 \r\nQ 53.21875 62.890625 53.21875 53.421875 \r\nQ 53.21875 48.921875 51.53125 44.890625 \r\nQ 49.859375 40.875 45.40625 35.40625 \r\nQ 44.1875 33.984375 37.640625 27.21875 \r\nQ 31.109375 20.453125 19.1875 8.296875 \r\nz\r\n\" id=\"DejaVuSans-50\"/>\r\n      </defs>\r\n      <g transform=\"translate(26.685 183.316773)scale(0.1 -0.1)\">\r\n       <use xlink:href=\"#DejaVuSans-50\"/>\r\n       <use x=\"63.623047\" xlink:href=\"#DejaVuSans-48\"/>\r\n       <use x=\"127.246094\" xlink:href=\"#DejaVuSans-48\"/>\r\n      </g>\r\n     </g>\r\n    </g>\r\n    <g id=\"ytick_4\">\r\n     <g id=\"line2d_39\">\r\n      <g>\r\n       <use style=\"stroke:#000000;stroke-width:0.8;\" x=\"52.7725\" xlink:href=\"#mad997141d2\" y=\"119.177894\"/>\r\n      </g>\r\n     </g>\r\n     <g id=\"text_40\">\r\n      <!-- 300 -->\r\n      <defs>\r\n       <path d=\"M 40.578125 39.3125 \r\nQ 47.65625 37.796875 51.625 33 \r\nQ 55.609375 28.21875 55.609375 21.1875 \r\nQ 55.609375 10.40625 48.1875 4.484375 \r\nQ 40.765625 -1.421875 27.09375 -1.421875 \r\nQ 22.515625 -1.421875 17.65625 -0.515625 \r\nQ 12.796875 0.390625 7.625 2.203125 \r\nL 7.625 11.71875 \r\nQ 11.71875 9.328125 16.59375 8.109375 \r\nQ 21.484375 6.890625 26.8125 6.890625 \r\nQ 36.078125 6.890625 40.9375 10.546875 \r\nQ 45.796875 14.203125 45.796875 21.1875 \r\nQ 45.796875 27.640625 41.28125 31.265625 \r\nQ 36.765625 34.90625 28.71875 34.90625 \r\nL 20.21875 34.90625 \r\nL 20.21875 43.015625 \r\nL 29.109375 43.015625 \r\nQ 36.375 43.015625 40.234375 45.921875 \r\nQ 44.09375 48.828125 44.09375 54.296875 \r\nQ 44.09375 59.90625 40.109375 62.90625 \r\nQ 36.140625 65.921875 28.71875 65.921875 \r\nQ 24.65625 65.921875 20.015625 65.03125 \r\nQ 15.375 64.15625 9.8125 62.3125 \r\nL 9.8125 71.09375 \r\nQ 15.4375 72.65625 20.34375 73.4375 \r\nQ 25.25 74.21875 29.59375 74.21875 \r\nQ 40.828125 74.21875 47.359375 69.109375 \r\nQ 53.90625 64.015625 53.90625 55.328125 \r\nQ 53.90625 49.265625 50.4375 45.09375 \r\nQ 46.96875 40.921875 40.578125 39.3125 \r\nz\r\n\" id=\"DejaVuSans-51\"/>\r\n      </defs>\r\n      <g transform=\"translate(26.685 122.977113)scale(0.1 -0.1)\">\r\n       <use xlink:href=\"#DejaVuSans-51\"/>\r\n       <use x=\"63.623047\" xlink:href=\"#DejaVuSans-48\"/>\r\n       <use x=\"127.246094\" xlink:href=\"#DejaVuSans-48\"/>\r\n      </g>\r\n     </g>\r\n    </g>\r\n    <g id=\"ytick_5\">\r\n     <g id=\"line2d_40\">\r\n      <g>\r\n       <use style=\"stroke:#000000;stroke-width:0.8;\" x=\"52.7725\" xlink:href=\"#mad997141d2\" y=\"58.838234\"/>\r\n      </g>\r\n     </g>\r\n     <g id=\"text_41\">\r\n      <!-- 400 -->\r\n      <defs>\r\n       <path d=\"M 37.796875 64.3125 \r\nL 12.890625 25.390625 \r\nL 37.796875 25.390625 \r\nz\r\nM 35.203125 72.90625 \r\nL 47.609375 72.90625 \r\nL 47.609375 25.390625 \r\nL 58.015625 25.390625 \r\nL 58.015625 17.1875 \r\nL 47.609375 17.1875 \r\nL 47.609375 0 \r\nL 37.796875 0 \r\nL 37.796875 17.1875 \r\nL 4.890625 17.1875 \r\nL 4.890625 26.703125 \r\nz\r\n\" id=\"DejaVuSans-52\"/>\r\n      </defs>\r\n      <g transform=\"translate(26.685 62.637452)scale(0.1 -0.1)\">\r\n       <use xlink:href=\"#DejaVuSans-52\"/>\r\n       <use x=\"63.623047\" xlink:href=\"#DejaVuSans-48\"/>\r\n       <use x=\"127.246094\" xlink:href=\"#DejaVuSans-48\"/>\r\n      </g>\r\n     </g>\r\n    </g>\r\n    <g id=\"text_42\">\r\n     <!-- Number of projects -->\r\n     <defs>\r\n      <path d=\"M 9.8125 72.90625 \r\nL 23.09375 72.90625 \r\nL 55.421875 11.921875 \r\nL 55.421875 72.90625 \r\nL 64.984375 72.90625 \r\nL 64.984375 0 \r\nL 51.703125 0 \r\nL 19.390625 60.984375 \r\nL 19.390625 0 \r\nL 9.8125 0 \r\nz\r\n\" id=\"DejaVuSans-78\"/>\r\n      <path id=\"DejaVuSans-32\"/>\r\n     </defs>\r\n     <g transform=\"translate(19.3575 241.338125)rotate(-90)scale(0.16 -0.16)\">\r\n      <use xlink:href=\"#DejaVuSans-78\"/>\r\n      <use x=\"74.804688\" xlink:href=\"#DejaVuSans-117\"/>\r\n      <use x=\"138.183594\" xlink:href=\"#DejaVuSans-109\"/>\r\n      <use x=\"235.595703\" xlink:href=\"#DejaVuSans-98\"/>\r\n      <use x=\"299.072266\" xlink:href=\"#DejaVuSans-101\"/>\r\n      <use x=\"360.595703\" xlink:href=\"#DejaVuSans-114\"/>\r\n      <use x=\"401.708984\" xlink:href=\"#DejaVuSans-32\"/>\r\n      <use x=\"433.496094\" xlink:href=\"#DejaVuSans-111\"/>\r\n      <use x=\"494.677734\" xlink:href=\"#DejaVuSans-102\"/>\r\n      <use x=\"529.882812\" xlink:href=\"#DejaVuSans-32\"/>\r\n      <use x=\"561.669922\" xlink:href=\"#DejaVuSans-112\"/>\r\n      <use x=\"625.146484\" xlink:href=\"#DejaVuSans-114\"/>\r\n      <use x=\"666.228516\" xlink:href=\"#DejaVuSans-111\"/>\r\n      <use x=\"727.410156\" xlink:href=\"#DejaVuSans-106\"/>\r\n      <use x=\"755.193359\" xlink:href=\"#DejaVuSans-101\"/>\r\n      <use x=\"816.716797\" xlink:href=\"#DejaVuSans-99\"/>\r\n      <use x=\"871.697266\" xlink:href=\"#DejaVuSans-116\"/>\r\n      <use x=\"910.90625\" xlink:href=\"#DejaVuSans-115\"/>\r\n     </g>\r\n    </g>\r\n   </g>\r\n   <g id=\"line2d_41\">\r\n    <path clip-path=\"url(#p638ed2f42c)\" d=\"M 0 0 \r\n\" style=\"fill:none;stroke:#424242;stroke-linecap:square;stroke-width:2.7;\"/>\r\n   </g>\r\n   <g id=\"line2d_42\">\r\n    <path clip-path=\"url(#p638ed2f42c)\" d=\"M 0 0 \r\n\" style=\"fill:none;stroke:#424242;stroke-linecap:square;stroke-width:2.7;\"/>\r\n   </g>\r\n   <g id=\"line2d_43\">\r\n    <path clip-path=\"url(#p638ed2f42c)\" d=\"M 0 0 \r\n\" style=\"fill:none;stroke:#424242;stroke-linecap:square;stroke-width:2.7;\"/>\r\n   </g>\r\n   <g id=\"line2d_44\">\r\n    <path clip-path=\"url(#p638ed2f42c)\" d=\"M 0 0 \r\n\" style=\"fill:none;stroke:#424242;stroke-linecap:square;stroke-width:2.7;\"/>\r\n   </g>\r\n   <g id=\"line2d_45\">\r\n    <path clip-path=\"url(#p638ed2f42c)\" d=\"M 0 0 \r\n\" style=\"fill:none;stroke:#424242;stroke-linecap:square;stroke-width:2.7;\"/>\r\n   </g>\r\n   <g id=\"line2d_46\">\r\n    <path clip-path=\"url(#p638ed2f42c)\" d=\"M 0 0 \r\n\" style=\"fill:none;stroke:#424242;stroke-linecap:square;stroke-width:2.7;\"/>\r\n   </g>\r\n   <g id=\"line2d_47\">\r\n    <path clip-path=\"url(#p638ed2f42c)\" d=\"M 0 0 \r\n\" style=\"fill:none;stroke:#424242;stroke-linecap:square;stroke-width:2.7;\"/>\r\n   </g>\r\n   <g id=\"line2d_48\">\r\n    <path clip-path=\"url(#p638ed2f42c)\" d=\"M 0 0 \r\n\" style=\"fill:none;stroke:#424242;stroke-linecap:square;stroke-width:2.7;\"/>\r\n   </g>\r\n   <g id=\"line2d_49\">\r\n    <path clip-path=\"url(#p638ed2f42c)\" d=\"M 0 0 \r\n\" style=\"fill:none;stroke:#424242;stroke-linecap:square;stroke-width:2.7;\"/>\r\n   </g>\r\n   <g id=\"line2d_50\">\r\n    <path clip-path=\"url(#p638ed2f42c)\" d=\"M 0 0 \r\n\" style=\"fill:none;stroke:#424242;stroke-linecap:square;stroke-width:2.7;\"/>\r\n   </g>\r\n   <g id=\"line2d_51\">\r\n    <path clip-path=\"url(#p638ed2f42c)\" d=\"M 0 0 \r\n\" style=\"fill:none;stroke:#424242;stroke-linecap:square;stroke-width:2.7;\"/>\r\n   </g>\r\n   <g id=\"line2d_52\">\r\n    <path clip-path=\"url(#p638ed2f42c)\" d=\"M 0 0 \r\n\" style=\"fill:none;stroke:#424242;stroke-linecap:square;stroke-width:2.7;\"/>\r\n   </g>\r\n   <g id=\"line2d_53\">\r\n    <path clip-path=\"url(#p638ed2f42c)\" d=\"M 0 0 \r\n\" style=\"fill:none;stroke:#424242;stroke-linecap:square;stroke-width:2.7;\"/>\r\n   </g>\r\n   <g id=\"line2d_54\">\r\n    <path clip-path=\"url(#p638ed2f42c)\" d=\"M 0 0 \r\n\" style=\"fill:none;stroke:#424242;stroke-linecap:square;stroke-width:2.7;\"/>\r\n   </g>\r\n   <g id=\"line2d_55\">\r\n    <path clip-path=\"url(#p638ed2f42c)\" d=\"M 0 0 \r\n\" style=\"fill:none;stroke:#424242;stroke-linecap:square;stroke-width:2.7;\"/>\r\n   </g>\r\n   <g id=\"line2d_56\">\r\n    <path clip-path=\"url(#p638ed2f42c)\" d=\"M 0 0 \r\n\" style=\"fill:none;stroke:#424242;stroke-linecap:square;stroke-width:2.7;\"/>\r\n   </g>\r\n   <g id=\"line2d_57\">\r\n    <path clip-path=\"url(#p638ed2f42c)\" d=\"M 0 0 \r\n\" style=\"fill:none;stroke:#424242;stroke-linecap:square;stroke-width:2.7;\"/>\r\n   </g>\r\n   <g id=\"line2d_58\">\r\n    <path clip-path=\"url(#p638ed2f42c)\" d=\"M 0 0 \r\n\" style=\"fill:none;stroke:#424242;stroke-linecap:square;stroke-width:2.7;\"/>\r\n   </g>\r\n   <g id=\"line2d_59\">\r\n    <path clip-path=\"url(#p638ed2f42c)\" d=\"M 0 0 \r\n\" style=\"fill:none;stroke:#424242;stroke-linecap:square;stroke-width:2.7;\"/>\r\n   </g>\r\n   <g id=\"line2d_60\">\r\n    <path clip-path=\"url(#p638ed2f42c)\" d=\"M 0 0 \r\n\" style=\"fill:none;stroke:#424242;stroke-linecap:square;stroke-width:2.7;\"/>\r\n   </g>\r\n   <g id=\"line2d_61\">\r\n    <path clip-path=\"url(#p638ed2f42c)\" d=\"M 0 0 \r\n\" style=\"fill:none;stroke:#424242;stroke-linecap:square;stroke-width:2.7;\"/>\r\n   </g>\r\n   <g id=\"line2d_62\">\r\n    <path clip-path=\"url(#p638ed2f42c)\" d=\"M 0 0 \r\n\" style=\"fill:none;stroke:#424242;stroke-linecap:square;stroke-width:2.7;\"/>\r\n   </g>\r\n   <g id=\"line2d_63\">\r\n    <path clip-path=\"url(#p638ed2f42c)\" d=\"M 0 0 \r\n\" style=\"fill:none;stroke:#424242;stroke-linecap:square;stroke-width:2.7;\"/>\r\n   </g>\r\n   <g id=\"line2d_64\">\r\n    <path clip-path=\"url(#p638ed2f42c)\" d=\"M 0 0 \r\n\" style=\"fill:none;stroke:#424242;stroke-linecap:square;stroke-width:2.7;\"/>\r\n   </g>\r\n   <g id=\"line2d_65\">\r\n    <path clip-path=\"url(#p638ed2f42c)\" d=\"M 0 0 \r\n\" style=\"fill:none;stroke:#424242;stroke-linecap:square;stroke-width:2.7;\"/>\r\n   </g>\r\n   <g id=\"line2d_66\">\r\n    <path clip-path=\"url(#p638ed2f42c)\" d=\"M 0 0 \r\n\" style=\"fill:none;stroke:#424242;stroke-linecap:square;stroke-width:2.7;\"/>\r\n   </g>\r\n   <g id=\"line2d_67\">\r\n    <path clip-path=\"url(#p638ed2f42c)\" d=\"M 0 0 \r\n\" style=\"fill:none;stroke:#424242;stroke-linecap:square;stroke-width:2.7;\"/>\r\n   </g>\r\n   <g id=\"line2d_68\">\r\n    <path clip-path=\"url(#p638ed2f42c)\" d=\"M 0 0 \r\n\" style=\"fill:none;stroke:#424242;stroke-linecap:square;stroke-width:2.7;\"/>\r\n   </g>\r\n   <g id=\"line2d_69\">\r\n    <path clip-path=\"url(#p638ed2f42c)\" d=\"M 0 0 \r\n\" style=\"fill:none;stroke:#424242;stroke-linecap:square;stroke-width:2.7;\"/>\r\n   </g>\r\n   <g id=\"line2d_70\">\r\n    <path clip-path=\"url(#p638ed2f42c)\" d=\"M 0 0 \r\n\" style=\"fill:none;stroke:#424242;stroke-linecap:square;stroke-width:2.7;\"/>\r\n   </g>\r\n   <g id=\"line2d_71\">\r\n    <path clip-path=\"url(#p638ed2f42c)\" d=\"M 0 0 \r\n\" style=\"fill:none;stroke:#424242;stroke-linecap:square;stroke-width:2.7;\"/>\r\n   </g>\r\n   <g id=\"line2d_72\">\r\n    <path clip-path=\"url(#p638ed2f42c)\" d=\"M 0 0 \r\n\" style=\"fill:none;stroke:#424242;stroke-linecap:square;stroke-width:2.7;\"/>\r\n   </g>\r\n   <g id=\"line2d_73\">\r\n    <path clip-path=\"url(#p638ed2f42c)\" d=\"M 0 0 \r\n\" style=\"fill:none;stroke:#424242;stroke-linecap:square;stroke-width:2.7;\"/>\r\n   </g>\r\n   <g id=\"line2d_74\">\r\n    <path clip-path=\"url(#p638ed2f42c)\" d=\"M 0 0 \r\n\" style=\"fill:none;stroke:#424242;stroke-linecap:square;stroke-width:2.7;\"/>\r\n   </g>\r\n   <g id=\"line2d_75\">\r\n    <path clip-path=\"url(#p638ed2f42c)\" d=\"M 0 0 \r\n\" style=\"fill:none;stroke:#424242;stroke-linecap:square;stroke-width:2.7;\"/>\r\n   </g>\r\n   <g id=\"patch_38\">\r\n    <path d=\"M 52.7725 300.196875 \r\nL 52.7725 28.396875 \r\n\" style=\"fill:none;stroke:#000000;stroke-linecap:square;stroke-linejoin:miter;stroke-width:0.8;\"/>\r\n   </g>\r\n   <g id=\"patch_39\">\r\n    <path d=\"M 1447.7725 300.196875 \r\nL 1447.7725 28.396875 \r\n\" style=\"fill:none;stroke:#000000;stroke-linecap:square;stroke-linejoin:miter;stroke-width:0.8;\"/>\r\n   </g>\r\n   <g id=\"patch_40\">\r\n    <path d=\"M 52.7725 300.196875 \r\nL 1447.7725 300.196875 \r\n\" style=\"fill:none;stroke:#000000;stroke-linecap:square;stroke-linejoin:miter;stroke-width:0.8;\"/>\r\n   </g>\r\n   <g id=\"patch_41\">\r\n    <path d=\"M 52.7725 28.396875 \r\nL 1447.7725 28.396875 \r\n\" style=\"fill:none;stroke:#000000;stroke-linecap:square;stroke-linejoin:miter;stroke-width:0.8;\"/>\r\n   </g>\r\n   <g id=\"text_43\">\r\n    <!-- Tag distribution -->\r\n    <g transform=\"translate(671.549062 22.396875)scale(0.2 -0.2)\">\r\n     <use xlink:href=\"#DejaVuSans-84\"/>\r\n     <use x=\"60.833984\" xlink:href=\"#DejaVuSans-97\"/>\r\n     <use x=\"122.113281\" xlink:href=\"#DejaVuSans-103\"/>\r\n     <use x=\"185.589844\" xlink:href=\"#DejaVuSans-32\"/>\r\n     <use x=\"217.376953\" xlink:href=\"#DejaVuSans-100\"/>\r\n     <use x=\"280.853516\" xlink:href=\"#DejaVuSans-105\"/>\r\n     <use x=\"308.636719\" xlink:href=\"#DejaVuSans-115\"/>\r\n     <use x=\"360.736328\" xlink:href=\"#DejaVuSans-116\"/>\r\n     <use x=\"399.945312\" xlink:href=\"#DejaVuSans-114\"/>\r\n     <use x=\"441.058594\" xlink:href=\"#DejaVuSans-105\"/>\r\n     <use x=\"468.841797\" xlink:href=\"#DejaVuSans-98\"/>\r\n     <use x=\"532.318359\" xlink:href=\"#DejaVuSans-117\"/>\r\n     <use x=\"595.697266\" xlink:href=\"#DejaVuSans-116\"/>\r\n     <use x=\"634.90625\" xlink:href=\"#DejaVuSans-105\"/>\r\n     <use x=\"662.689453\" xlink:href=\"#DejaVuSans-111\"/>\r\n     <use x=\"723.871094\" xlink:href=\"#DejaVuSans-110\"/>\r\n    </g>\r\n   </g>\r\n  </g>\r\n </g>\r\n <defs>\r\n  <clipPath id=\"p638ed2f42c\">\r\n   <rect height=\"271.8\" width=\"1395\" x=\"52.7725\" y=\"28.396875\"/>\r\n  </clipPath>\r\n </defs>\r\n</svg>\r\n",
      "image/png": "[encoded data removed]"
     },
     "metadata": {
      "needs_background": "light"
     }
    }
   ],
   "source": [
    "all_tags = list(itertools.chain.from_iterable(df.tags.values))\n",
    "tags, tag_counts = zip(*Counter(all_tags).most_common())\n",
    "plt.figure(figsize=(25, 5))\n",
    "ax = sns.barplot(list(tags), list(tag_counts))\n",
    "plt.title(\"Tag distribution\", fontsize=20)\n",
    "plt.xlabel(\"Tag\", fontsize=16)\n",
    "ax.set_xticklabels(tags, rotation=90, fontsize=14)\n",
    "plt.ylabel(\"Number of projects\", fontsize=16)\n",
    "plt.show()"
   ]
  },
  {
   "source": [
    "## Wordcloud\n",
    "Is there enough signal in the title and description that's unique to each tag?"
   ],
   "cell_type": "markdown",
   "metadata": {}
  },
  {
   "cell_type": "code",
   "execution_count": 142,
   "metadata": {},
   "outputs": [
    {
     "output_type": "display_data",
     "data": {
      "text/plain": "interactive(children=(Dropdown(description='tag', index=2, options=('natural-language-processing', 'computer-v…",
      "application/vnd.jupyter.widget-view+json": {
       "version_major": 2,
       "version_minor": 0,
       "model_id": "2f36b1f1c551450388bb5a9fd1f1ae1d"
      }
     },
     "metadata": {}
    }
   ],
   "source": [
    "@widgets.interact(tag=list(tags))\n",
    "def display_word_cloud(tag='pytorch'):\n",
    "    # Plot word clouds top top tags\n",
    "    plt.figure(figsize=(15, 5))\n",
    "    subset = df[df.tags.apply(lambda tags: tag in tags)]\n",
    "    text = subset.text.values\n",
    "    cloud = WordCloud(\n",
    "        stopwords=STOPWORDS, background_color='black', collocations=False,\n",
    "        width=500, height=300).generate(\" \".join(text))\n",
    "    plt.axis('off')\n",
    "    plt.imshow(cloud)"
   ]
  },
  {
   "source": [
    "# Splitting"
   ],
   "cell_type": "markdown",
   "metadata": {}
  },
  {
   "cell_type": "code",
   "execution_count": 143,
   "metadata": {},
   "outputs": [],
   "source": [
    "import numpy as np\n",
    "import random \n"
   ]
  },
  {
   "cell_type": "code",
   "execution_count": 144,
   "metadata": {},
   "outputs": [],
   "source": [
    "seed=42\n",
    "np.random.seed(seed)\n",
    "random.seed(seed)"
   ]
  },
  {
   "cell_type": "code",
   "execution_count": 145,
   "metadata": {},
   "outputs": [],
   "source": [
    "df = df.sample(frac=1).reset_index(drop=True)\n",
    "X = df.text.to_numpy()\n",
    "y = df.tags"
   ]
  },
  {
   "cell_type": "code",
   "execution_count": 146,
   "metadata": {},
   "outputs": [],
   "source": [
    "class LabelEncoder(object):\n",
    "    \"\"\"Label encoder for tag labels.\"\"\"\n",
    "    def __init__(self, class_to_index={}):\n",
    "        self.class_to_index = class_to_index\n",
    "        self.index_to_class = {v: k for k, v in self.class_to_index.items()}\n",
    "        self.classes = list(self.class_to_index.keys())\n",
    "\n",
    "    def __len__(self):\n",
    "        return len(self.class_to_index)\n",
    "\n",
    "    def __str__(self):\n",
    "        return f\"<LabelEncoder(num_classes={len(self)})>\"\n",
    "\n",
    "    def fit(self, y):\n",
    "        classes = np.unique(list(itertools.chain.from_iterable(y)))\n",
    "        for i, class_ in enumerate(classes):\n",
    "            self.class_to_index[class_] = i\n",
    "        self.index_to_class = {v: k for k, v in self.class_to_index.items()}\n",
    "        self.classes = list(self.class_to_index.keys())\n",
    "        return self\n",
    "\n",
    "    def encode(self, y):\n",
    "        y_one_hot = np.zeros((len(y), len(self.class_to_index)),dtype=int)\n",
    "        for i, item in enumerate(y):\n",
    "            for class_ in item:\n",
    "                y_one_hot[i][self.class_to_index[class_]] = 1\n",
    "        return y_one_hot\n",
    "\n",
    "    def decode(self, y):\n",
    "        classes = []\n",
    "        for i, item in enumerate(y):\n",
    "            indices = np.where(item == 1)[0]\n",
    "            classes.append([self.index_to_class[index] for index in indices])\n",
    "        return classes\n",
    "\n",
    "    def save(self, fp):\n",
    "        with open(fp, 'w') as fp:\n",
    "            contents = {'class_to_index': self.class_to_index}\n",
    "            json.dump(contents, fp, indent=4, sort_keys=False)\n",
    "\n",
    "    @classmethod\n",
    "    def load(cls, fp):\n",
    "        with open(fp, 'r') as fp:\n",
    "            kwargs = json.load(fp=fp)\n",
    "        return cls(**kwargs)"
   ]
  },
  {
   "cell_type": "code",
   "execution_count": 147,
   "metadata": {},
   "outputs": [],
   "source": [
    "#encode \n",
    "label_encoder = LabelEncoder()\n",
    "label_encoder.fit(y)\n",
    "num_classes = len(label_encoder)"
   ]
  },
  {
   "cell_type": "code",
   "execution_count": 148,
   "metadata": {},
   "outputs": [
    {
     "output_type": "execute_result",
     "data": {
      "text/plain": [
       "{'attention': 0,\n",
       " 'autoencoders': 1,\n",
       " 'computer-vision': 2,\n",
       " 'convolutional-neural-networks': 3,\n",
       " 'data-augmentation': 4,\n",
       " 'embeddings': 5,\n",
       " 'flask': 6,\n",
       " 'generative-adversarial-networks': 7,\n",
       " 'graph-neural-networks': 8,\n",
       " 'graphs': 9,\n",
       " 'huggingface': 10,\n",
       " 'image-classification': 11,\n",
       " 'interpretability': 12,\n",
       " 'keras': 13,\n",
       " 'language-modeling': 14,\n",
       " 'natural-language-processing': 15,\n",
       " 'node-classification': 16,\n",
       " 'object-detection': 17,\n",
       " 'pretraining': 18,\n",
       " 'production': 19,\n",
       " 'pytorch': 20,\n",
       " 'question-answering': 21,\n",
       " 'regression': 22,\n",
       " 'reinforcement-learning': 23,\n",
       " 'representation-learning': 24,\n",
       " 'scikit-learn': 25,\n",
       " 'segmentation': 26,\n",
       " 'self-supervised-learning': 27,\n",
       " 'tensorflow': 28,\n",
       " 'tensorflow-js': 29,\n",
       " 'time-series': 30,\n",
       " 'transfer-learning': 31,\n",
       " 'transformers': 32,\n",
       " 'unsupervised-learning': 33,\n",
       " 'wandb': 34}"
      ]
     },
     "metadata": {},
     "execution_count": 148
    }
   ],
   "source": [
    "\n",
    "label_encoder.class_to_index"
   ]
  },
  {
   "cell_type": "code",
   "execution_count": 149,
   "metadata": {},
   "outputs": [],
   "source": [
    "y = label_encoder.encode(y)\n"
   ]
  },
  {
   "cell_type": "code",
   "execution_count": 150,
   "metadata": {},
   "outputs": [
    {
     "output_type": "stream",
     "name": "stderr",
     "text": [
      "Traceback (most recent call last):\n  File \"c:\\python39\\lib\\runpy.py\", line 197, in _run_module_as_main\n    return _run_code(code, main_globals, None,\n  File \"c:\\python39\\lib\\runpy.py\", line 87, in _run_code\n    exec(code, run_globals)\n  File \"C:\\Python39\\Scripts\\pip.exe\\__main__.py\", line 4, in <module>\nModuleNotFoundError: No module named 'pip'\n"
     ]
    }
   ],
   "source": [
    "!pip install scikit-multilearn==0.2.0 -q"
   ]
  },
  {
   "source": [
    "Naive splitiing"
   ],
   "cell_type": "markdown",
   "metadata": {}
  },
  {
   "cell_type": "code",
   "execution_count": 151,
   "metadata": {},
   "outputs": [],
   "source": [
    "from sklearn.model_selection import train_test_split\n",
    "from skmultilearn.model_selection.measures import get_combination_wise_output_matrix\n"
   ]
  },
  {
   "cell_type": "code",
   "execution_count": 152,
   "metadata": {},
   "outputs": [],
   "source": [
    "# Split sizes\n",
    "train_size=0.7\n",
    "val_size=0.15\n",
    "test_size=0.15"
   ]
  },
  {
   "cell_type": "code",
   "execution_count": 153,
   "metadata": {},
   "outputs": [],
   "source": [
    "# Split (train)\n",
    "X_train, X_, y_train, y_ = train_test_split(X, y, train_size=train_size)"
   ]
  },
  {
   "cell_type": "code",
   "execution_count": 154,
   "metadata": {},
   "outputs": [
    {
     "output_type": "stream",
     "name": "stdout",
     "text": [
      "train: 1010 (0.70)\nremaining: 434 (0.30)\n"
     ]
    }
   ],
   "source": [
    "\n",
    "print (f\"train: {len(X_train)} ({(len(X_train) / len(X)):.2f})\\n\"\n",
    "       f\"remaining: {len(X_)} ({(len(X_) / len(X)):.2f})\")"
   ]
  },
  {
   "cell_type": "code",
   "execution_count": 155,
   "metadata": {},
   "outputs": [],
   "source": [
    "X_val, X_test, y_val, y_test = train_test_split(\n",
    "    X_, y_, train_size=0.5)"
   ]
  },
  {
   "cell_type": "code",
   "execution_count": 156,
   "metadata": {},
   "outputs": [
    {
     "output_type": "stream",
     "name": "stdout",
     "text": [
      "train: 1010 (0.70)\nval: 217 (0.15)\ntest: 217 (0.15)\n"
     ]
    }
   ],
   "source": [
    "print(f\"train: {len(X_train)} ({len(X_train)/len(X):.2f})\\n\"\n",
    "      f\"val: {len(X_val)} ({len(X_val)/len(X):.2f})\\n\"\n",
    "      f\"test: {len(X_test)} ({len(X_test)/len(X):.2f})\")"
   ]
  },
  {
   "cell_type": "code",
   "execution_count": 157,
   "metadata": {},
   "outputs": [],
   "source": [
    "# Get counts for each class\n",
    "counts = {}\n",
    "counts['train_counts'] = Counter(str(combination) for row in get_combination_wise_output_matrix(\n",
    "    y_train, order=1) for combination in row)\n",
    "counts['val_counts'] = Counter(str(combination) for row in get_combination_wise_output_matrix(\n",
    "    y_val, order=1) for combination in row)\n",
    "counts['test_counts'] = Counter(str(combination) for row in get_combination_wise_output_matrix(\n",
    "    y_test, order=1) for combination in row)"
   ]
  },
  {
   "cell_type": "code",
   "execution_count": 158,
   "metadata": {},
   "outputs": [
    {
     "output_type": "execute_result",
     "data": {
      "text/plain": [
       "       (15,)  (19,)  (33,)  (21,)  (32,)  (14,)  (2,)  (20,)  (24,)  (5,)  \\\n",
       "train    314     37     26     26    145     33   274    191     41    55   \n",
       "val       58      8      4      2     29      8    53     33      7     9   \n",
       "test      57      6      9      4     22     10    61     34      9    11   \n",
       "\n",
       "       ...  (1,)  (7,)  (11,)  (18,)  (4,)  (6,)  (29,)  (8,)  (31,)  (30,)  \n",
       "train  ...    27    50     34     21    33    24     24    32     33     23  \n",
       "val    ...     3     7      6      3     3     5      7    10      7      4  \n",
       "test   ...    11    16     11      6     5     5      9     9      6      7  \n",
       "\n",
       "[3 rows x 35 columns]"
      ],
      "text/html": "<div>\n<style scoped>\n    .dataframe tbody tr th:only-of-type {\n        vertical-align: middle;\n    }\n\n    .dataframe tbody tr th {\n        vertical-align: top;\n    }\n\n    .dataframe thead th {\n        text-align: right;\n    }\n</style>\n<table border=\"1\" class=\"dataframe\">\n  <thead>\n    <tr style=\"text-align: right;\">\n      <th></th>\n      <th>(15,)</th>\n      <th>(19,)</th>\n      <th>(33,)</th>\n      <th>(21,)</th>\n      <th>(32,)</th>\n      <th>(14,)</th>\n      <th>(2,)</th>\n      <th>(20,)</th>\n      <th>(24,)</th>\n      <th>(5,)</th>\n      <th>...</th>\n      <th>(1,)</th>\n      <th>(7,)</th>\n      <th>(11,)</th>\n      <th>(18,)</th>\n      <th>(4,)</th>\n      <th>(6,)</th>\n      <th>(29,)</th>\n      <th>(8,)</th>\n      <th>(31,)</th>\n      <th>(30,)</th>\n    </tr>\n  </thead>\n  <tbody>\n    <tr>\n      <th>train</th>\n      <td>314</td>\n      <td>37</td>\n      <td>26</td>\n      <td>26</td>\n      <td>145</td>\n      <td>33</td>\n      <td>274</td>\n      <td>191</td>\n      <td>41</td>\n      <td>55</td>\n      <td>...</td>\n      <td>27</td>\n      <td>50</td>\n      <td>34</td>\n      <td>21</td>\n      <td>33</td>\n      <td>24</td>\n      <td>24</td>\n      <td>32</td>\n      <td>33</td>\n      <td>23</td>\n    </tr>\n    <tr>\n      <th>val</th>\n      <td>58</td>\n      <td>8</td>\n      <td>4</td>\n      <td>2</td>\n      <td>29</td>\n      <td>8</td>\n      <td>53</td>\n      <td>33</td>\n      <td>7</td>\n      <td>9</td>\n      <td>...</td>\n      <td>3</td>\n      <td>7</td>\n      <td>6</td>\n      <td>3</td>\n      <td>3</td>\n      <td>5</td>\n      <td>7</td>\n      <td>10</td>\n      <td>7</td>\n      <td>4</td>\n    </tr>\n    <tr>\n      <th>test</th>\n      <td>57</td>\n      <td>6</td>\n      <td>9</td>\n      <td>4</td>\n      <td>22</td>\n      <td>10</td>\n      <td>61</td>\n      <td>34</td>\n      <td>9</td>\n      <td>11</td>\n      <td>...</td>\n      <td>11</td>\n      <td>16</td>\n      <td>11</td>\n      <td>6</td>\n      <td>5</td>\n      <td>5</td>\n      <td>9</td>\n      <td>9</td>\n      <td>6</td>\n      <td>7</td>\n    </tr>\n  </tbody>\n</table>\n<p>3 rows × 35 columns</p>\n</div>"
     },
     "metadata": {},
     "execution_count": 158
    }
   ],
   "source": [
    "# View distributions\n",
    "pd.DataFrame({\n",
    "    'train': counts['train_counts'],\n",
    "    'val': counts['val_counts'],\n",
    "    'test': counts['test_counts']\n",
    "}).T.fillna(0)\n"
   ]
  },
  {
   "cell_type": "code",
   "execution_count": 159,
   "metadata": {},
   "outputs": [],
   "source": [
    "# Adjust counts across splits\n",
    "for k in counts['val_counts'].keys():\n",
    "    counts['val_counts'][k] = int(counts['val_counts'][k] * \\\n",
    "        (train_size/val_size))\n",
    "for k in counts['test_counts'].keys():\n",
    "    counts['test_counts'][k] = int(counts['test_counts'][k] * \\\n",
    "        (train_size/test_size))"
   ]
  },
  {
   "cell_type": "code",
   "execution_count": 160,
   "metadata": {},
   "outputs": [
    {
     "output_type": "execute_result",
     "data": {
      "text/plain": [
       "       (15,)  (19,)  (33,)  (21,)  (32,)  (14,)  (2,)  (20,)  (24,)  (5,)  \\\n",
       "train    314     37     26     26    145     33   274    191     41    55   \n",
       "val      270     37     18      9    135     37   247    154     32    42   \n",
       "test     266     28     42     18    102     46   284    158     42    51   \n",
       "\n",
       "       ...  (1,)  (7,)  (11,)  (18,)  (4,)  (6,)  (29,)  (8,)  (31,)  (30,)  \n",
       "train  ...    27    50     34     21    33    24     24    32     33     23  \n",
       "val    ...    14    32     28     14    14    23     32    46     32     18  \n",
       "test   ...    51    74     51     28    23    23     42    42     28     32  \n",
       "\n",
       "[3 rows x 35 columns]"
      ],
      "text/html": "<div>\n<style scoped>\n    .dataframe tbody tr th:only-of-type {\n        vertical-align: middle;\n    }\n\n    .dataframe tbody tr th {\n        vertical-align: top;\n    }\n\n    .dataframe thead th {\n        text-align: right;\n    }\n</style>\n<table border=\"1\" class=\"dataframe\">\n  <thead>\n    <tr style=\"text-align: right;\">\n      <th></th>\n      <th>(15,)</th>\n      <th>(19,)</th>\n      <th>(33,)</th>\n      <th>(21,)</th>\n      <th>(32,)</th>\n      <th>(14,)</th>\n      <th>(2,)</th>\n      <th>(20,)</th>\n      <th>(24,)</th>\n      <th>(5,)</th>\n      <th>...</th>\n      <th>(1,)</th>\n      <th>(7,)</th>\n      <th>(11,)</th>\n      <th>(18,)</th>\n      <th>(4,)</th>\n      <th>(6,)</th>\n      <th>(29,)</th>\n      <th>(8,)</th>\n      <th>(31,)</th>\n      <th>(30,)</th>\n    </tr>\n  </thead>\n  <tbody>\n    <tr>\n      <th>train</th>\n      <td>314</td>\n      <td>37</td>\n      <td>26</td>\n      <td>26</td>\n      <td>145</td>\n      <td>33</td>\n      <td>274</td>\n      <td>191</td>\n      <td>41</td>\n      <td>55</td>\n      <td>...</td>\n      <td>27</td>\n      <td>50</td>\n      <td>34</td>\n      <td>21</td>\n      <td>33</td>\n      <td>24</td>\n      <td>24</td>\n      <td>32</td>\n      <td>33</td>\n      <td>23</td>\n    </tr>\n    <tr>\n      <th>val</th>\n      <td>270</td>\n      <td>37</td>\n      <td>18</td>\n      <td>9</td>\n      <td>135</td>\n      <td>37</td>\n      <td>247</td>\n      <td>154</td>\n      <td>32</td>\n      <td>42</td>\n      <td>...</td>\n      <td>14</td>\n      <td>32</td>\n      <td>28</td>\n      <td>14</td>\n      <td>14</td>\n      <td>23</td>\n      <td>32</td>\n      <td>46</td>\n      <td>32</td>\n      <td>18</td>\n    </tr>\n    <tr>\n      <th>test</th>\n      <td>266</td>\n      <td>28</td>\n      <td>42</td>\n      <td>18</td>\n      <td>102</td>\n      <td>46</td>\n      <td>284</td>\n      <td>158</td>\n      <td>42</td>\n      <td>51</td>\n      <td>...</td>\n      <td>51</td>\n      <td>74</td>\n      <td>51</td>\n      <td>28</td>\n      <td>23</td>\n      <td>23</td>\n      <td>42</td>\n      <td>42</td>\n      <td>28</td>\n      <td>32</td>\n    </tr>\n  </tbody>\n</table>\n<p>3 rows × 35 columns</p>\n</div>"
     },
     "metadata": {},
     "execution_count": 160
    }
   ],
   "source": [
    "dist_df = pd.DataFrame({\n",
    "    'train': counts['train_counts'],\n",
    "    'val': counts['val_counts'],\n",
    "    'test': counts['test_counts']\n",
    "}).T.fillna(0)\n",
    "dist_df\n"
   ]
  },
  {
   "cell_type": "code",
   "execution_count": 161,
   "metadata": {},
   "outputs": [
    {
     "output_type": "execute_result",
     "data": {
      "text/plain": [
       "9.936725114942407"
      ]
     },
     "metadata": {},
     "execution_count": 161
    }
   ],
   "source": [
    "np.mean(np.std(dist_df.to_numpy(), axis=0))"
   ]
  },
  {
   "source": [
    "Stratified split"
   ],
   "cell_type": "markdown",
   "metadata": {}
  },
  {
   "cell_type": "code",
   "execution_count": 162,
   "metadata": {},
   "outputs": [],
   "source": [
    "from skmultilearn.model_selection import IterativeStratification"
   ]
  },
  {
   "cell_type": "code",
   "execution_count": 163,
   "metadata": {},
   "outputs": [],
   "source": [
    "def iterative_train_test_split(X, y, train_size):\n",
    "    \"\"\"Custom iterative train test split which\n",
    "    'maintains balanced representation with respect\n",
    "    to order-th label combinations.'\n",
    "    \"\"\"\n",
    "    stratifier = IterativeStratification(\n",
    "        n_splits=2, order=1, sample_distribution_per_fold=[1.0-train_size, train_size, ])\n",
    "    train_indices, test_indices = next(stratifier.split(X, y))\n",
    "    X_train, y_train = X[train_indices], y[train_indices]\n",
    "    X_test, y_test = X[test_indices], y[test_indices]\n",
    "    return X_train, X_test, y_train, y_test"
   ]
  },
  {
   "cell_type": "code",
   "execution_count": 164,
   "metadata": {},
   "outputs": [],
   "source": [
    "# Get data\n",
    "X = df.text.to_numpy()\n",
    "y = df.tags"
   ]
  },
  {
   "cell_type": "code",
   "execution_count": 165,
   "metadata": {},
   "outputs": [],
   "source": [
    "# Binarize y\n",
    "label_encoder = LabelEncoder()\n",
    "label_encoder.fit(y)\n",
    "y = label_encoder.encode(y)"
   ]
  },
  {
   "cell_type": "code",
   "execution_count": 166,
   "metadata": {},
   "outputs": [],
   "source": [
    "# Split\n",
    "X_train, X_, y_train, y_ = iterative_train_test_split(\n",
    "    X, y, train_size=train_size)\n",
    "X_val, X_test, y_val, y_test = iterative_train_test_split(\n",
    "    X_, y_, train_size=0.5)"
   ]
  },
  {
   "cell_type": "code",
   "execution_count": 167,
   "metadata": {},
   "outputs": [
    {
     "output_type": "stream",
     "name": "stdout",
     "text": [
      "train: 1000 (0.69)\nval: 214 (0.15)\ntest: 230 (0.16)\n"
     ]
    }
   ],
   "source": [
    "print(f\"train: {len(X_train)} ({len(X_train)/len(X):.2f})\\n\"\n",
    "      f\"val: {len(X_val)} ({len(X_val)/len(X):.2f})\\n\"\n",
    "      f\"test: {len(X_test)} ({len(X_test)/len(X):.2f})\")"
   ]
  },
  {
   "cell_type": "code",
   "execution_count": 168,
   "metadata": {},
   "outputs": [],
   "source": [
    "# Get counts for each class\n",
    "counts = {}\n",
    "counts['train_counts'] = Counter(str(combination) for row in get_combination_wise_output_matrix(\n",
    "    y_train, order=1) for combination in row)\n",
    "counts['val_counts'] = Counter(str(combination) for row in get_combination_wise_output_matrix(\n",
    "    y_val, order=1) for combination in row)\n",
    "counts['test_counts'] = Counter(str(combination) for row in get_combination_wise_output_matrix(\n",
    "    y_test, order=1) for combination in row)"
   ]
  },
  {
   "cell_type": "code",
   "execution_count": 169,
   "metadata": {},
   "outputs": [],
   "source": [
    "# Adjust counts across splits\n",
    "for k in counts['val_counts'].keys():\n",
    "    counts['val_counts'][k] = int(counts['val_counts'][k] * \\\n",
    "        (train_size/val_size))\n",
    "for k in counts['test_counts'].keys():\n",
    "    counts['test_counts'][k] = int(counts['test_counts'][k] * \\\n",
    "        (train_size/test_size))"
   ]
  },
  {
   "cell_type": "code",
   "execution_count": 170,
   "metadata": {},
   "outputs": [
    {
     "output_type": "execute_result",
     "data": {
      "text/plain": [
       "        (2,)  (4,)  (15,)  (14,)  (30,)  (34,)  (1,)  (26,)  (32,)  (20,)  \\\n",
       "train  272.0  29.0  300.0   36.0   24.0   27.0  29.0   32.0  145.0  181.0   \n",
       "val    270.0  32.0  298.0   28.0   23.0   28.0  32.0   37.0  112.0  177.0   \n",
       "test   270.0  23.0  303.0   42.0   23.0   28.0  23.0   37.0  126.0  182.0   \n",
       "\n",
       "       ...  (28,)  (11,)  (22,)  (8,)  (29,)  (23,)  (31,)  (10,)  (18,)  \\\n",
       "train  ...  149.0   30.0   34.0  38.0   26.0   41.0   32.0   45.0   21.0   \n",
       "val    ...  149.0   46.0   32.0  32.0   32.0   42.0   32.0   46.0   23.0   \n",
       "test   ...  149.0   51.0   37.0  28.0   32.0   42.0   32.0   42.0   18.0   \n",
       "\n",
       "       (12,)  \n",
       "train   38.0  \n",
       "val     42.0  \n",
       "test    37.0  \n",
       "\n",
       "[3 rows x 35 columns]"
      ],
      "text/html": "<div>\n<style scoped>\n    .dataframe tbody tr th:only-of-type {\n        vertical-align: middle;\n    }\n\n    .dataframe tbody tr th {\n        vertical-align: top;\n    }\n\n    .dataframe thead th {\n        text-align: right;\n    }\n</style>\n<table border=\"1\" class=\"dataframe\">\n  <thead>\n    <tr style=\"text-align: right;\">\n      <th></th>\n      <th>(2,)</th>\n      <th>(4,)</th>\n      <th>(15,)</th>\n      <th>(14,)</th>\n      <th>(30,)</th>\n      <th>(34,)</th>\n      <th>(1,)</th>\n      <th>(26,)</th>\n      <th>(32,)</th>\n      <th>(20,)</th>\n      <th>...</th>\n      <th>(28,)</th>\n      <th>(11,)</th>\n      <th>(22,)</th>\n      <th>(8,)</th>\n      <th>(29,)</th>\n      <th>(23,)</th>\n      <th>(31,)</th>\n      <th>(10,)</th>\n      <th>(18,)</th>\n      <th>(12,)</th>\n    </tr>\n  </thead>\n  <tbody>\n    <tr>\n      <th>train</th>\n      <td>272.0</td>\n      <td>29.0</td>\n      <td>300.0</td>\n      <td>36.0</td>\n      <td>24.0</td>\n      <td>27.0</td>\n      <td>29.0</td>\n      <td>32.0</td>\n      <td>145.0</td>\n      <td>181.0</td>\n      <td>...</td>\n      <td>149.0</td>\n      <td>30.0</td>\n      <td>34.0</td>\n      <td>38.0</td>\n      <td>26.0</td>\n      <td>41.0</td>\n      <td>32.0</td>\n      <td>45.0</td>\n      <td>21.0</td>\n      <td>38.0</td>\n    </tr>\n    <tr>\n      <th>val</th>\n      <td>270.0</td>\n      <td>32.0</td>\n      <td>298.0</td>\n      <td>28.0</td>\n      <td>23.0</td>\n      <td>28.0</td>\n      <td>32.0</td>\n      <td>37.0</td>\n      <td>112.0</td>\n      <td>177.0</td>\n      <td>...</td>\n      <td>149.0</td>\n      <td>46.0</td>\n      <td>32.0</td>\n      <td>32.0</td>\n      <td>32.0</td>\n      <td>42.0</td>\n      <td>32.0</td>\n      <td>46.0</td>\n      <td>23.0</td>\n      <td>42.0</td>\n    </tr>\n    <tr>\n      <th>test</th>\n      <td>270.0</td>\n      <td>23.0</td>\n      <td>303.0</td>\n      <td>42.0</td>\n      <td>23.0</td>\n      <td>28.0</td>\n      <td>23.0</td>\n      <td>37.0</td>\n      <td>126.0</td>\n      <td>182.0</td>\n      <td>...</td>\n      <td>149.0</td>\n      <td>51.0</td>\n      <td>37.0</td>\n      <td>28.0</td>\n      <td>32.0</td>\n      <td>42.0</td>\n      <td>32.0</td>\n      <td>42.0</td>\n      <td>18.0</td>\n      <td>37.0</td>\n    </tr>\n  </tbody>\n</table>\n<p>3 rows × 35 columns</p>\n</div>"
     },
     "metadata": {},
     "execution_count": 170
    }
   ],
   "source": [
    "# View distributions\n",
    "pd.DataFrame({\n",
    "    'train': counts['train_counts'],\n",
    "    'val': counts['val_counts'],\n",
    "    'test': counts['test_counts']\n",
    "}).T.fillna(0)"
   ]
  },
  {
   "cell_type": "code",
   "execution_count": 171,
   "metadata": {},
   "outputs": [],
   "source": [
    "dist_df = pd.DataFrame({\n",
    "    'train': counts['train_counts'],\n",
    "    'val': counts['val_counts'],\n",
    "    'test': counts['test_counts']\n",
    "}).T.fillna(0)"
   ]
  },
  {
   "cell_type": "code",
   "execution_count": 172,
   "metadata": {},
   "outputs": [
    {
     "output_type": "execute_result",
     "data": {
      "text/plain": [
       "3.142338654518357"
      ]
     },
     "metadata": {},
     "execution_count": 172
    }
   ],
   "source": [
    "# Standard deviation\n",
    "np.mean(np.std(dist_df.to_numpy(), axis=0))"
   ]
  },
  {
   "source": [
    "Iterative stratification essentially creates splits while \"trying to maintain balanced representation with respect to order-th label combinations\". We used to an order=1 for our iterative split which means we cared about providing representative distribution of each tag across the splits. But we can account for higher-order label relationships as well where we may care about the distribution of label combinations."
   ],
   "cell_type": "markdown",
   "metadata": {}
  },
  {
   "source": [
    "# Preporcessing "
   ],
   "cell_type": "markdown",
   "metadata": {}
  },
  {
   "cell_type": "code",
   "execution_count": 173,
   "metadata": {},
   "outputs": [
    {
     "output_type": "stream",
     "name": "stderr",
     "text": [
      "[nltk_data] Downloading package stopwords to\n[nltk_data]     C:\\Users\\KATTUBOINA\\AppData\\Roaming\\nltk_data...\n[nltk_data]   Package stopwords is already up-to-date!\n"
     ]
    }
   ],
   "source": [
    "import nltk\n",
    "from nltk.corpus import stopwords\n",
    "from nltk.stem import PorterStemmer\n",
    "import re\n",
    "\n",
    "nltk.download('stopwords')\n",
    "STOPWORDS=stopwords.words('english')\n",
    "porter=PorterStemmer()\n"
   ]
  },
  {
   "cell_type": "code",
   "execution_count": 174,
   "metadata": {},
   "outputs": [],
   "source": [
    "def preprocess(text,lower=True,stem=False,filters=\"[!\\\"'#$%&()*\\+,-./:;<=>?@\\\\\\[\\]^_`{|}~]\",stopwords=STOPWORDS):\n",
    "    \"\"\"\n",
    "    Conditional preprocessing on our text unique to our task.\n",
    "    \"\"\"\n",
    "    if lower:\n",
    "        text=text.lower()\n",
    "    \n",
    "\n",
    "    pattern = re.compile(r'\\b(' + r'|'.join(stopwords) + r')\\b\\s*')\n",
    "    text=pattern.sub('', text)\n",
    "\n",
    "     #spacing and filters\n",
    "    text = re.sub(r\"([-;;.,!?<=>])\", r\" \\1 \", text)\n",
    "    text = re.sub(filters, r\"\", text)\n",
    "    text = re.sub('[^A-Za-z0-9]+', ' ', text) # remove non alphanumeric chars\n",
    "    text = re.sub(' +', ' ', text)  # remove multiple spaces\n",
    "    text = text.strip()\n",
    "\n",
    "\n",
    "    text=re.sub(r'http\\S+', '', text)\n",
    "\n",
    "\n",
    "    if stem:\n",
    "        text=\" \".join([porter.stem(word) for word in text.split(' ')])\n",
    "    \n",
    "\n",
    "    return text"
   ]
  },
  {
   "cell_type": "code",
   "execution_count": 175,
   "metadata": {},
   "outputs": [
    {
     "output_type": "display_data",
     "data": {
      "text/plain": "interactive(children=(Checkbox(value=True, description='lower'), Checkbox(value=False, description='stem'), Ou…",
      "application/vnd.jupyter.widget-view+json": {
       "version_major": 2,
       "version_minor": 0,
       "model_id": "e1b5db60da1049cbaf49246910d6b16f"
      }
     },
     "metadata": {}
    }
   ],
   "source": [
    "@widgets.interact(lower=True,stem=False)\n",
    "def display_preprocessed_text(lower,stem):\n",
    "    text=\"Conditional image generation using Variational Autoencoders and GANs.\"\n",
    "    preprocessed_text = preprocess(text=text, lower=lower, stem=stem)\n",
    "    print (preprocessed_text) \n"
   ]
  },
  {
   "cell_type": "code",
   "execution_count": 176,
   "metadata": {},
   "outputs": [
    {
     "output_type": "stream",
     "name": "stdout",
     "text": [
      "Albumentations Fast image augmentation library and easy to use wrapper around other libraries.\nalbumentations fast image augmentation library easy use wrapper around libraries\n"
     ]
    }
   ],
   "source": [
    "#Applying the changes to our dataset\n",
    "preprocessed_df = df.copy()\n",
    "preprocessed_df.text = preprocessed_df.text.apply(preprocess, lower=True, stem=False)\n",
    "print (f\"{df.text.values[0]}\\n{preprocessed_df.text.values[0]}\")"
   ]
  },
  {
   "source": [
    "# Model Building"
   ],
   "cell_type": "markdown",
   "metadata": {}
  },
  {
   "source": [
    "## Some helpfull functions"
   ],
   "cell_type": "markdown",
   "metadata": {}
  },
  {
   "cell_type": "code",
   "execution_count": 177,
   "metadata": {},
   "outputs": [],
   "source": [
    "from sklearn.metrics import precision_recall_fscore_support\n",
    "import torch"
   ]
  },
  {
   "cell_type": "code",
   "execution_count": 178,
   "metadata": {},
   "outputs": [],
   "source": [
    "def set_seed(seed=1234):\n",
    "    \"\"\" Setting seed for reproducibility \"\"\"\n",
    "\n",
    "    np.random.seed(seed)\n",
    "    random.seed(seed)\n",
    "    torch.manual_seed(seed)\n",
    "    torch.cuda.manual_seed(seed)\n",
    "    torch.cuda.manual_seed_all(seed) #For multi-gpu training"
   ]
  },
  {
   "cell_type": "code",
   "execution_count": 179,
   "metadata": {},
   "outputs": [],
   "source": [
    "def get_data_splits(dftrain_size=0.7):\n",
    "    X=df.text.to_numpy()\n",
    "    y=df.tags\n",
    "\n",
    "\n",
    "    #Binarize y\n",
    "    label_encoder=LabelEncoder()\n",
    "    label_encoder.fit(y)\n",
    "    y=label_encoder.encode(y)\n",
    "\n",
    "    #Spliting the data \n",
    "    X_train, X_, y_train, y_ = iterative_train_test_split(X, y, train_size=train_size)\n",
    "    X_val, X_test, y_val, y_test = iterative_train_test_split(X_, y_, train_size=0.5)\n",
    "\n",
    "    return X_train, X_val, X_test, y_train, y_val, y_test,label_encoder\n",
    "    \n"
   ]
  },
  {
   "cell_type": "code",
   "execution_count": 180,
   "metadata": {},
   "outputs": [],
   "source": [
    "class Trainer(object):\n",
    "    def __init__(self, model, device, loss_fn=None, optimizer=None, scheduler=None):\n",
    "\n",
    "        # Set params\n",
    "        self.model = model\n",
    "        self.device = device\n",
    "        self.loss_fn = loss_fn\n",
    "        self.optimizer = optimizer\n",
    "        self.scheduler = scheduler\n",
    "\n",
    "    def train_step(self, dataloader):\n",
    "        \"\"\"Train step.\"\"\"\n",
    "        # Set model to train mode\n",
    "        self.model.train()\n",
    "        loss = 0.0\n",
    "\n",
    "        # Iterate over train batches\n",
    "        for i, batch in enumerate(dataloader):\n",
    "\n",
    "            # Step\n",
    "            batch = [item.to(self.device) for item in batch]  # Set device\n",
    "            inputs, targets = batch[:-1], batch[-1]\n",
    "            self.optimizer.zero_grad()  # Reset gradients\n",
    "            z = self.model(inputs)  # Forward pass\n",
    "            J = self.loss_fn(z, targets)  # Define loss\n",
    "            J.backward()  # Backward pass\n",
    "            self.optimizer.step()  # Update weights\n",
    "\n",
    "            # Cumulative Metrics\n",
    "            loss += (J.detach().item() - loss) / (i + 1)\n",
    "\n",
    "        return loss\n",
    "\n",
    "    def eval_step(self, dataloader):\n",
    "        \"\"\"Validation or test step.\"\"\"\n",
    "        # Set model to eval mode\n",
    "        self.model.eval()\n",
    "        loss = 0.0\n",
    "        y_trues, y_probs = [], []\n",
    "\n",
    "        # Iterate over val batches\n",
    "        with torch.no_grad():\n",
    "            for i, batch in enumerate(dataloader):\n",
    "\n",
    "                # Step\n",
    "                batch = [item.to(self.device) for item in batch]  # Set device\n",
    "                inputs, y_true = batch[:-1], batch[-1]\n",
    "                z = self.model(inputs)  # Forward pass\n",
    "                J = self.loss_fn(z, y_true).item()\n",
    "\n",
    "                # Cumulative Metrics\n",
    "                loss += (J - loss) / (i + 1)\n",
    "\n",
    "                # Store outputs\n",
    "                y_prob = torch.sigmoid(z).cpu().numpy()\n",
    "                y_probs.extend(y_prob)\n",
    "                y_trues.extend(y_true.cpu().numpy())\n",
    "\n",
    "        return loss, np.vstack(y_trues), np.vstack(y_probs)\n",
    "\n",
    "    def predict_step(self, dataloader):\n",
    "        \"\"\"Prediction step.\"\"\"\n",
    "        # Set model to eval mode\n",
    "        self.model.eval()\n",
    "        y_probs = []\n",
    "\n",
    "        # Iterate over val batches\n",
    "        with torch.no_grad():\n",
    "            for i, batch in enumerate(dataloader):\n",
    "\n",
    "                # Forward pass w/ inputs\n",
    "                inputs, targets = batch[:-1], batch[-1]\n",
    "                y_prob = self.model(inputs)\n",
    "\n",
    "                # Store outputs\n",
    "                y_probs.extend(y_prob)\n",
    "\n",
    "        return np.vstack(y_probs)\n",
    "\n",
    "    def train(self, num_epochs, patience, train_dataloader, val_dataloader):\n",
    "        best_val_loss = np.inf\n",
    "        for epoch in range(num_epochs):\n",
    "            # Steps\n",
    "            train_loss = self.train_step(dataloader=train_dataloader)\n",
    "            val_loss, _, _ = self.eval_step(dataloader=val_dataloader)\n",
    "            self.scheduler.step(val_loss)\n",
    "\n",
    "            # Early stopping\n",
    "            if val_loss < best_val_loss:\n",
    "                best_val_loss = val_loss\n",
    "                best_model = self.model\n",
    "                _patience = patience  # reset _patience\n",
    "            else:\n",
    "                _patience -= 1\n",
    "            if not _patience:  # 0\n",
    "                print(\"Stopping early!\")\n",
    "                break\n",
    "\n",
    "            # Logging\n",
    "            print(\n",
    "                f\"Epoch: {epoch+1} | \"\n",
    "                f\"train_loss: {train_loss:.5f}, \"\n",
    "                f\"val_loss: {val_loss:.5f}, \"\n",
    "                f\"lr: {self.optimizer.param_groups[0]['lr']:.2E}, \"\n",
    "                f\"_patience: {_patience}\"\n",
    "            )\n",
    "        return best_model"
   ]
  },
  {
   "cell_type": "code",
   "execution_count": 181,
   "metadata": {},
   "outputs": [],
   "source": [
    "def get_performance(y_true,y_pred,classes):\n",
    "    \"\"\"Getting the per class performance\"\"\"\n",
    "    #Getting metrics\n",
    "    performance={'overall':{}, 'class':{}}\n",
    "    metrics=precision_recall_fscore_support(y_true,y_pred)\n",
    "\n",
    "\n",
    "    #overall performance \n",
    "    performance['overall']['precision'] = np.mean(metrics[0])\n",
    "    performance['overall']['recall'] = np.mean(metrics[1])\n",
    "    performance['overall']['f1'] = np.mean(metrics[2])\n",
    "    performance['overall']['num_samples'] = np.float64(np.sum(metrics[3]))\n",
    "\n",
    "\n",
    "\n",
    "    # Per-class performance\n",
    "    for i in range(len(classes)):\n",
    "        performance['class'][classes[i]] = {\n",
    "            \"precision\": metrics[0][i],\n",
    "            \"recall\": metrics[1][i],\n",
    "            \"f1\": metrics[2][i],\n",
    "            \"num_samples\": np.float64(metrics[3][i])\n",
    "        }\n",
    "\n",
    "    \n",
    "\n",
    "    return performance\n",
    "\n",
    "\n",
    "\n"
   ]
  },
  {
   "source": [
    "## Random \n",
    "What will the random performance look like\n"
   ],
   "cell_type": "markdown",
   "metadata": {}
  },
  {
   "cell_type": "code",
   "execution_count": 182,
   "metadata": {},
   "outputs": [],
   "source": [
    "set_seed()"
   ]
  },
  {
   "cell_type": "code",
   "execution_count": 183,
   "metadata": {},
   "outputs": [
    {
     "output_type": "stream",
     "name": "stdout",
     "text": [
      "X_train: (1000,), y_train: (1000, 35)\nX_val: (227,), y_val: (227, 35)\nX_test: (217,), y_test: (217, 35)\n"
     ]
    }
   ],
   "source": [
    "#Getting the data splits\n",
    "preprocessed_df=df.copy()\n",
    "preprocessed_df.text = preprocessed_df.text.apply(preprocess, lower=True, stem=True)\n",
    "X_train, X_val, X_test, y_train, y_val, y_test, label_encoder = get_data_splits(preprocessed_df)\n",
    "print (f\"X_train: {X_train.shape}, y_train: {y_train.shape}\")\n",
    "print (f\"X_val: {X_val.shape}, y_val: {y_val.shape}\")\n",
    "print (f\"X_test: {X_test.shape}, y_test: {y_test.shape}\")"
   ]
  },
  {
   "cell_type": "code",
   "execution_count": 184,
   "metadata": {},
   "outputs": [
    {
     "output_type": "stream",
     "name": "stdout",
     "text": [
      "<LabelEncoder(num_classes=35)>\n['attention', 'autoencoders', 'computer-vision', 'convolutional-neural-networks', 'data-augmentation', 'embeddings', 'flask', 'generative-adversarial-networks', 'graph-neural-networks', 'graphs', 'huggingface', 'image-classification', 'interpretability', 'keras', 'language-modeling', 'natural-language-processing', 'node-classification', 'object-detection', 'pretraining', 'production', 'pytorch', 'question-answering', 'regression', 'reinforcement-learning', 'representation-learning', 'scikit-learn', 'segmentation', 'self-supervised-learning', 'tensorflow', 'tensorflow-js', 'time-series', 'transfer-learning', 'transformers', 'unsupervised-learning', 'wandb']\n"
     ]
    }
   ],
   "source": [
    "# Label encoder\n",
    "print (label_encoder)\n",
    "print (label_encoder.classes)"
   ]
  },
  {
   "cell_type": "code",
   "execution_count": 185,
   "metadata": {},
   "outputs": [
    {
     "output_type": "stream",
     "name": "stdout",
     "text": [
      "(217, 35)\n[[0 0 1 1 1 0 0 0 1 1 0 0 1 1 1 0 1 1 1 1 1 1 0 0 1 0 1 1 0 1 1 0 0 0 1]\n [0 1 0 0 0 0 0 1 1 1 1 1 0 1 1 1 1 0 1 1 1 1 1 0 1 1 0 1 0 0 0 0 1 1 1]\n [1 1 0 1 0 0 0 1 1 1 0 0 1 1 1 0 0 1 0 0 1 1 1 1 1 0 1 1 0 0 1 0 0 1 1]\n [0 1 1 0 1 1 0 0 1 1 0 1 1 0 1 1 1 0 0 0 1 1 1 0 1 1 0 0 0 1 0 0 1 1 0]\n [0 0 1 1 1 0 1 1 0 1 0 1 1 0 1 1 1 0 0 1 0 1 1 1 1 1 1 1 0 0 0 0 1 1 0]]\n"
     ]
    }
   ],
   "source": [
    "\n",
    "# Generate random predictions\n",
    "y_pred = np.random.randint(low=0, high=2, size=(len(y_test), len(label_encoder.classes)))\n",
    "print (y_pred.shape)\n",
    "print (y_pred[0:5])"
   ]
  },
  {
   "cell_type": "code",
   "execution_count": 186,
   "metadata": {},
   "outputs": [
    {
     "output_type": "stream",
     "name": "stdout",
     "text": [
      "{\n  \"precision\": 0.0662941602216066,\n  \"recall\": 0.5065299488415251,\n  \"f1\": 0.10819194263879019,\n  \"num_samples\": 480.0\n}\n"
     ]
    }
   ],
   "source": [
    "# Evaluate\n",
    "performance = get_performance(\n",
    "    y_true=y_test, y_pred=y_pred, classes=label_encoder.classes)\n",
    "print (json.dumps(performance['overall'], indent=2))"
   ]
  },
  {
   "cell_type": "code",
   "execution_count": 187,
   "metadata": {},
   "outputs": [
    {
     "output_type": "stream",
     "name": "stdout",
     "text": [
      "0.06291428571428571\n"
     ]
    }
   ],
   "source": [
    "\n",
    "# Percentage of 1s (tag presence)\n",
    "tag_p = np.sum(np.sum(y_train)) / (len(y_train) * len(label_encoder.classes))\n",
    "print (tag_p)"
   ]
  },
  {
   "cell_type": "code",
   "execution_count": 188,
   "metadata": {},
   "outputs": [],
   "source": [
    "# Generate weighted random predictions\n",
    "y_pred = np.random.choice(\n",
    "    np.arange(0, 2), size=(len(y_test), len(label_encoder.classes)),\n",
    "    p=[1-tag_p, tag_p])"
   ]
  },
  {
   "cell_type": "code",
   "execution_count": 189,
   "metadata": {},
   "outputs": [
    {
     "output_type": "execute_result",
     "data": {
      "text/plain": [
       "0.06240947992100066"
      ]
     },
     "metadata": {},
     "execution_count": 189
    }
   ],
   "source": [
    "# Validate percentage\n",
    "np.sum(np.sum(y_pred)) / (len(y_pred) * len(label_encoder.classes))"
   ]
  },
  {
   "cell_type": "code",
   "execution_count": 190,
   "metadata": {},
   "outputs": [
    {
     "output_type": "stream",
     "name": "stdout",
     "text": [
      "{\n  \"precision\": 0.060484184552507536,\n  \"recall\": 0.053727634571230636,\n  \"f1\": 0.048704498064854516,\n  \"num_samples\": 480.0\n}\n"
     ]
    }
   ],
   "source": [
    "# Evaluate\n",
    "performance = get_performance(\n",
    "    y_true=y_test, y_pred=y_pred, classes=label_encoder.classes)\n",
    "print (json.dumps(performance['overall'], indent=2))\n"
   ]
  },
  {
   "source": [
    "## Rule Based \n",
    "We need to signals our inputs"
   ],
   "cell_type": "markdown",
   "metadata": {}
  },
  {
   "cell_type": "code",
   "execution_count": 191,
   "metadata": {},
   "outputs": [],
   "source": [
    "set_seed()"
   ]
  },
  {
   "cell_type": "code",
   "execution_count": 192,
   "metadata": {},
   "outputs": [],
   "source": [
    "# Get data splits\n",
    "preprocessed_df = df.copy()\n",
    "preprocessed_df.text = preprocessed_df.text.apply(preprocess, lower=True)\n",
    "X_train, X_val, X_test, y_train, y_val, y_test, label_encoder = get_data_splits(preprocessed_df)"
   ]
  },
  {
   "cell_type": "code",
   "execution_count": 193,
   "metadata": {},
   "outputs": [
    {
     "output_type": "stream",
     "name": "stdout",
     "text": [
      "400\n35\n"
     ]
    }
   ],
   "source": [
    "# Restrict to relevant tags\n",
    "print (len(tags_dict))\n",
    "tags_dict = {tag: tags_dict[tag] for tag in label_encoder.classes}\n",
    "print (len(tags_dict))"
   ]
  },
  {
   "cell_type": "code",
   "execution_count": 194,
   "metadata": {},
   "outputs": [
    {
     "output_type": "execute_result",
     "data": {
      "text/plain": [
       "{'attention': 'attention',\n",
       " 'autoencoders': 'autoencoders',\n",
       " 'ae': 'autoencoders',\n",
       " 'computer vision': 'computer-vision',\n",
       " 'cv': 'computer-vision',\n",
       " 'vision': 'computer-vision',\n",
       " 'convolutional neural networks': 'convolutional-neural-networks',\n",
       " 'cnn': 'convolutional-neural-networks',\n",
       " 'data augmentation': 'data-augmentation',\n",
       " 'embeddings': 'embeddings',\n",
       " 'flask': 'flask',\n",
       " 'generative adversarial networks': 'generative-adversarial-networks',\n",
       " 'gan': 'generative-adversarial-networks',\n",
       " 'graph neural networks': 'graph-neural-networks',\n",
       " 'gnn': 'graph-neural-networks',\n",
       " 'graphs': 'graphs',\n",
       " 'huggingface': 'huggingface',\n",
       " 'image classification': 'image-classification',\n",
       " 'interpretability': 'interpretability',\n",
       " 'keras': 'keras',\n",
       " 'language modeling': 'language-modeling',\n",
       " 'lm': 'language-modeling',\n",
       " 'natural language processing': 'natural-language-processing',\n",
       " 'nlp': 'natural-language-processing',\n",
       " 'nlproc': 'natural-language-processing',\n",
       " 'node classification': 'node-classification',\n",
       " 'object detection': 'object-detection',\n",
       " 'pretraining': 'pretraining',\n",
       " 'pre training': 'pretraining',\n",
       " 'production': 'production',\n",
       " 'pytorch': 'pytorch',\n",
       " 'question answering': 'question-answering',\n",
       " 'qa': 'question-answering',\n",
       " 'regression': 'regression',\n",
       " 'reinforcement learning': 'reinforcement-learning',\n",
       " 'rl': 'reinforcement-learning',\n",
       " 'representation learning': 'representation-learning',\n",
       " 'scikit learn': 'scikit-learn',\n",
       " 'sklearn': 'scikit-learn',\n",
       " 'segmentation': 'segmentation',\n",
       " 'image segmentation': 'segmentation',\n",
       " 'self supervised learning': 'self-supervised-learning',\n",
       " 'tensorflow': 'tensorflow',\n",
       " 'tf': 'tensorflow',\n",
       " 'tensorflow js': 'tensorflow-js',\n",
       " 'tf js': 'tensorflow-js',\n",
       " 'time series': 'time-series',\n",
       " 'time series analysis': 'time-series',\n",
       " 'transfer learning': 'transfer-learning',\n",
       " 'transformers': 'transformers',\n",
       " 'unsupervised learning': 'unsupervised-learning',\n",
       " 'wandb': 'wandb',\n",
       " 'weights biases': 'wandb'}"
      ]
     },
     "metadata": {},
     "execution_count": 194
    }
   ],
   "source": [
    "#Map aliases\n",
    "aliases={}\n",
    "for tag,values in tags_dict.items():\n",
    "    aliases[preprocess(tag)]=tag\n",
    "    for alias in values['aliases']:\n",
    "        aliases[preprocess(alias)]=tag\n",
    "\n",
    "aliases"
   ]
  },
  {
   "cell_type": "code",
   "execution_count": 195,
   "metadata": {},
   "outputs": [],
   "source": [
    "def get_classes(text,aliases,tags_dict):\n",
    "    \"\"\"\n",
    "    if a token matches an alias ,then add the corresponding tag class\n",
    "    \"\"\"\n",
    "    classes=[]\n",
    "    for alias,tag in aliases.items():\n",
    "        if alias in text:\n",
    "            classes.append(tag)\n",
    "            for parent in tags_dict[tag][\"parents\"]:\n",
    "                classes.append(parent)\n",
    "        \n",
    "    \n",
    "    return list(set(classes))"
   ]
  },
  {
   "cell_type": "code",
   "execution_count": 196,
   "metadata": {},
   "outputs": [
    {
     "output_type": "execute_result",
     "data": {
      "text/plain": [
       "['object-detection',\n",
       " 'generative-adversarial-networks',\n",
       " 'data-augmentation',\n",
       " 'computer-vision']"
      ]
     },
     "metadata": {},
     "execution_count": 196
    }
   ],
   "source": [
    "#Sample for above function\n",
    "# Sample\n",
    "text = \"This project extends gans for data augmentation specifically for object detection tasks.\"\n",
    "get_classes(text=preprocess(text), aliases=aliases, tags_dict=tags_dict)"
   ]
  },
  {
   "cell_type": "code",
   "execution_count": 197,
   "metadata": {},
   "outputs": [],
   "source": [
    "#Prediction \n",
    "y_pred=[]\n",
    "for text in X_test:\n",
    "    classes=get_classes(text,aliases,tags_dict)\n",
    "    y_pred.append(classes)\n",
    "    \n"
   ]
  },
  {
   "cell_type": "code",
   "execution_count": 198,
   "metadata": {},
   "outputs": [],
   "source": [
    "#Encoding Labels\n",
    "y_pred=label_encoder.encode(y_pred)"
   ]
  },
  {
   "cell_type": "code",
   "execution_count": 199,
   "metadata": {},
   "outputs": [
    {
     "output_type": "stream",
     "name": "stdout",
     "text": [
      "{\n    \"precision\": 0.3958730158730158,\n    \"recall\": 0.10910285028326902,\n    \"f1\": 0.15424993307346246,\n    \"num_samples\": 480.0\n}\n"
     ]
    }
   ],
   "source": [
    "performance = get_performance(y_true=y_test, y_pred=y_pred, classes=label_encoder.classes)\n",
    "print (json.dumps(performance['overall'], indent=4))"
   ]
  },
  {
   "cell_type": "code",
   "execution_count": 200,
   "metadata": {},
   "outputs": [
    {
     "output_type": "stream",
     "name": "stdout",
     "text": [
      "{\n  \"precision\": 1.0,\n  \"recall\": 0.12,\n  \"f1\": 0.21428571428571425,\n  \"num_samples\": 25.0\n}\n"
     ]
    }
   ],
   "source": [
    "# Inspection\n",
    "tag = \"transformers\"\n",
    "print (json.dumps(performance[\"class\"][tag], indent=2))"
   ]
  },
  {
   "source": [
    "### Stemming "
   ],
   "cell_type": "markdown",
   "metadata": {}
  },
  {
   "cell_type": "code",
   "execution_count": 201,
   "metadata": {},
   "outputs": [
    {
     "output_type": "stream",
     "name": "stdout",
     "text": [
      "generative-adversarial-networks\ngenerative-adversarial-networks\n"
     ]
    }
   ],
   "source": [
    "print (aliases[preprocess('gan')])\n",
    "# print (aliases[preprocess('gans')]) # this won't find any match\n",
    "print (aliases[preprocess('generative adversarial networks')])\n",
    "# print (aliases[preprocess('generative adversarial network')]) # this won't find any match"
   ]
  },
  {
   "cell_type": "code",
   "execution_count": 202,
   "metadata": {},
   "outputs": [
    {
     "output_type": "stream",
     "name": "stdout",
     "text": [
      "democraci\ndemocraci\n"
     ]
    }
   ],
   "source": [
    "print (porter.stem(\"democracy\"))\n",
    "print (porter.stem(\"democracies\"))"
   ]
  },
  {
   "cell_type": "code",
   "execution_count": 203,
   "metadata": {},
   "outputs": [],
   "source": [
    "# Get data splits\n",
    "preprocessed_df = df.copy()\n",
    "preprocessed_df.text = preprocessed_df.text.apply(preprocess, lower=True, stem=True)\n",
    "X_train, X_val, X_test, y_train, y_val, y_test, label_encoder = get_data_splits(preprocessed_df)"
   ]
  },
  {
   "cell_type": "code",
   "execution_count": 204,
   "metadata": {},
   "outputs": [
    {
     "output_type": "execute_result",
     "data": {
      "text/plain": [
       "{'attent': 'attention',\n",
       " 'autoencod': 'autoencoders',\n",
       " 'ae': 'autoencoders',\n",
       " 'comput vision': 'computer-vision',\n",
       " 'cv': 'computer-vision',\n",
       " 'vision': 'computer-vision',\n",
       " 'convolut neural network': 'convolutional-neural-networks',\n",
       " 'cnn': 'convolutional-neural-networks',\n",
       " 'data augment': 'data-augmentation',\n",
       " 'embed': 'embeddings',\n",
       " 'flask': 'flask',\n",
       " 'gener adversari network': 'generative-adversarial-networks',\n",
       " 'gan': 'generative-adversarial-networks',\n",
       " 'graph neural network': 'graph-neural-networks',\n",
       " 'gnn': 'graph-neural-networks',\n",
       " 'graph': 'graphs',\n",
       " 'huggingfac': 'huggingface',\n",
       " 'imag classif': 'image-classification',\n",
       " 'interpret': 'interpretability',\n",
       " 'kera': 'keras',\n",
       " 'languag model': 'language-modeling',\n",
       " 'lm': 'language-modeling',\n",
       " 'natur languag process': 'natural-language-processing',\n",
       " 'nlp': 'natural-language-processing',\n",
       " 'nlproc': 'natural-language-processing',\n",
       " 'node classif': 'node-classification',\n",
       " 'object detect': 'object-detection',\n",
       " 'pretrain': 'pretraining',\n",
       " 'pre train': 'pretraining',\n",
       " 'product': 'production',\n",
       " 'pytorch': 'pytorch',\n",
       " 'question answer': 'question-answering',\n",
       " 'qa': 'question-answering',\n",
       " 'regress': 'regression',\n",
       " 'reinforc learn': 'reinforcement-learning',\n",
       " 'rl': 'reinforcement-learning',\n",
       " 'represent learn': 'representation-learning',\n",
       " 'scikit learn': 'scikit-learn',\n",
       " 'sklearn': 'scikit-learn',\n",
       " 'segment': 'segmentation',\n",
       " 'imag segment': 'segmentation',\n",
       " 'self supervis learn': 'self-supervised-learning',\n",
       " 'tensorflow': 'tensorflow',\n",
       " 'tf': 'tensorflow',\n",
       " 'tensorflow js': 'tensorflow-js',\n",
       " 'tf js': 'tensorflow-js',\n",
       " 'time seri': 'time-series',\n",
       " 'time seri analysi': 'time-series',\n",
       " 'transfer learn': 'transfer-learning',\n",
       " 'transform': 'transformers',\n",
       " 'unsupervis learn': 'unsupervised-learning',\n",
       " 'wandb': 'wandb',\n",
       " 'weight bias': 'wandb'}"
      ]
     },
     "metadata": {},
     "execution_count": 204
    }
   ],
   "source": [
    "# Map aliases\n",
    "aliases = {}\n",
    "for tag, values in tags_dict.items():\n",
    "    aliases[preprocess(tag, stem=True)] = tag\n",
    "    for alias in values['aliases']:\n",
    "        aliases[preprocess(alias, stem=True)] = tag\n",
    "aliases"
   ]
  },
  {
   "cell_type": "code",
   "execution_count": 205,
   "metadata": {},
   "outputs": [
    {
     "output_type": "stream",
     "name": "stdout",
     "text": [
      "generative-adversarial-networks\ngenerative-adversarial-networks\ngenerative-adversarial-networks\ngenerative-adversarial-networks\n"
     ]
    }
   ],
   "source": [
    "# Checks (we will write proper tests soon)\n",
    "print (aliases[preprocess('gan', stem=True)])\n",
    "print (aliases[preprocess('gans', stem=True)])\n",
    "print (aliases[preprocess('generative adversarial network', stem=True)])\n",
    "print (aliases[preprocess('generative adversarial networks', stem=True)])"
   ]
  },
  {
   "cell_type": "code",
   "execution_count": 206,
   "metadata": {},
   "outputs": [
    {
     "output_type": "execute_result",
     "data": {
      "text/plain": [
       "['object-detection',\n",
       " 'generative-adversarial-networks',\n",
       " 'data-augmentation',\n",
       " 'computer-vision']"
      ]
     },
     "metadata": {},
     "execution_count": 206
    }
   ],
   "source": [
    "# Sample\n",
    "text = \"This project extends gans for data augmentation specifically for object detection tasks.\"\n",
    "get_classes(text=preprocess(text, stem=True), aliases=aliases, tags_dict=tags_dict)"
   ]
  },
  {
   "cell_type": "code",
   "execution_count": 207,
   "metadata": {},
   "outputs": [],
   "source": [
    "# Prediction\n",
    "y_pred = []\n",
    "for text in X_test:\n",
    "    classes = get_classes(text, aliases, tags_dict)\n",
    "    y_pred.append(classes)"
   ]
  },
  {
   "cell_type": "code",
   "execution_count": 208,
   "metadata": {},
   "outputs": [],
   "source": [
    "# Encode labels\n",
    "y_pred = label_encoder.encode(y_pred)"
   ]
  },
  {
   "source": [
    "#### Evaluation"
   ],
   "cell_type": "markdown",
   "metadata": {}
  },
  {
   "cell_type": "code",
   "execution_count": 209,
   "metadata": {},
   "outputs": [
    {
     "output_type": "stream",
     "name": "stdout",
     "text": [
      "{\n    \"precision\": 0.4197732426303855,\n    \"recall\": 0.09591888816059155,\n    \"f1\": 0.14942598936879561,\n    \"num_samples\": 473.0\n}\n"
     ]
    }
   ],
   "source": [
    "# Evaluate\n",
    "performance = get_performance(y_true=y_test, y_pred=y_pred, classes=label_encoder.classes)\n",
    "print (json.dumps(performance['overall'], indent=4))"
   ]
  },
  {
   "cell_type": "code",
   "execution_count": 210,
   "metadata": {},
   "outputs": [
    {
     "output_type": "stream",
     "name": "stdout",
     "text": [
      "{\n  \"precision\": 0.8888888888888888,\n  \"recall\": 0.2962962962962963,\n  \"f1\": 0.4444444444444444,\n  \"num_samples\": 27.0\n}\n"
     ]
    }
   ],
   "source": [
    "# Inspection\n",
    "tag = \"transformers\"\n",
    "print (json.dumps(performance[\"class\"][tag], indent=2))"
   ]
  },
  {
   "cell_type": "code",
   "execution_count": 211,
   "metadata": {},
   "outputs": [],
   "source": [
    "# TP, FP, FN samples\n",
    "index = label_encoder.class_to_index[tag]\n",
    "tp, fp, fn = [], [], []\n",
    "for i in range(len(y_test)):\n",
    "    true = y_test[i][index]\n",
    "    pred = y_pred[i][index]\n",
    "    if true and pred:\n",
    "        tp.append(i)\n",
    "    elif not true and pred:\n",
    "        fp.append(i)\n",
    "    elif true and not pred:\n",
    "        fn.append(i)"
   ]
  },
  {
   "cell_type": "code",
   "execution_count": 212,
   "metadata": {},
   "outputs": [
    {
     "output_type": "stream",
     "name": "stdout",
     "text": [
      "[1, 46, 94, 165, 169, 190, 194, 199]\n[49]\n[4, 14, 15, 18, 28, 54, 61, 63, 72, 75, 89, 99, 137, 141, 142, 160, 163, 174, 206]\n"
     ]
    }
   ],
   "source": [
    "print (tp)\n",
    "print (fp)\n",
    "print (fn)"
   ]
  },
  {
   "cell_type": "code",
   "execution_count": 213,
   "metadata": {},
   "outputs": [
    {
     "output_type": "stream",
     "name": "stdout",
     "text": [
      "Insight Project Insight is designed to create NLP as a service with code base for both front end GUI (streamlit) and backend server (FastAPI) the usage of transformers \ntrue: ['attention', 'huggingface', 'natural-language-processing', 'pytorch', 'transfer-learning', 'transformers']\npred: ['natural-language-processing', 'transformers']\n\n"
     ]
    }
   ],
   "source": [
    "index = tp[0]\n",
    "print (X_test[index])\n",
    "print (f\"true: {label_encoder.decode([y_test[index]])[0]}\")\n",
    "print (f\"pred: {label_encoder.decode([y_pred[index]])[0]}\\n\")"
   ]
  },
  {
   "cell_type": "code",
   "execution_count": 214,
   "metadata": {},
   "outputs": [],
   "source": [
    "# Sorted tags\n",
    "sorted_tags_by_f1 = OrderedDict(sorted(\n",
    "        performance['class'].items(), key=lambda tag: tag[1]['f1'], reverse=True))"
   ]
  },
  {
   "cell_type": "code",
   "execution_count": 215,
   "metadata": {},
   "outputs": [
    {
     "output_type": "display_data",
     "data": {
      "text/plain": "interactive(children=(Dropdown(description='tag', index=3, options=('interpretability', 'segmentation', 'produ…",
      "application/vnd.jupyter.widget-view+json": {
       "version_major": 2,
       "version_minor": 0,
       "model_id": "f331735b079b4789a32dc1dcc3bec6e3"
      }
     },
     "metadata": {}
    }
   ],
   "source": [
    "@widgets.interact(tag=list(sorted_tags_by_f1.keys()))\n",
    "def display_tag_analysis(tag='transformers'):\n",
    "    # Performance\n",
    "    print (json.dumps(performance[\"class\"][tag], indent=2))\n",
    "\n",
    "    # TP, FP, FN samples\n",
    "    index = label_encoder.class_to_index[tag]\n",
    "    tp, fp, fn = [], [], []\n",
    "    for i in range(len(y_test)):\n",
    "        true = y_test[i][index]\n",
    "        pred = y_pred[i][index]\n",
    "        if true and pred:\n",
    "            tp.append(i)\n",
    "        elif not true and pred:\n",
    "            fp.append(i)\n",
    "        elif true and not pred:\n",
    "            fn.append(i)\n",
    "\n",
    "    # Samples\n",
    "    num_samples = 3\n",
    "    if len(tp):\n",
    "        print (\"\\n=== True positives ===\\n\")\n",
    "        for i in tp[:num_samples]:\n",
    "            print (f\"  {X_test[i]}\")\n",
    "            print (f\"    true: {label_encoder.decode([y_test[i]])[0]}\")\n",
    "            print (f\"    pred: {label_encoder.decode([y_pred[i]])[0]}\\n\")\n",
    "    if len(fp):\n",
    "        print (\"=== False positives ===\\n\")\n",
    "        for i in fp[:num_samples]:\n",
    "            print (f\"  {X_test[i]}\")\n",
    "            print (f\"    true: {label_encoder.decode([y_test[i]])[0]}\")\n",
    "            print (f\"    pred: {label_encoder.decode([y_pred[i]])[0]}\\n\")\n",
    "    if len(fn):\n",
    "        print (\"=== False negatives ===\\n\")\n",
    "        for i in fn[:num_samples]:\n",
    "            print (f\"  {X_test[i]}\")\n",
    "            print (f\"    true: {label_encoder.decode([y_test[i]])[0]}\")\n",
    "            print (f\"    pred: {label_encoder.decode([y_pred[i]])[0]}\\n\")"
   ]
  },
  {
   "source": [
    "#### Inference"
   ],
   "cell_type": "markdown",
   "metadata": {}
  },
  {
   "cell_type": "code",
   "execution_count": 216,
   "metadata": {},
   "outputs": [
    {
     "output_type": "stream",
     "name": "stdout",
     "text": [
      "transfer learn transform self supervis learn\n"
     ]
    },
    {
     "output_type": "execute_result",
     "data": {
      "text/plain": [
       "['transfer-learning',\n",
       " 'natural-language-processing',\n",
       " 'transformers',\n",
       " 'self-supervised-learning']"
      ]
     },
     "metadata": {},
     "execution_count": 216
    }
   ],
   "source": [
    "# Infer\n",
    "text = \"Transfer learning with transformers for self-supervised learning\"\n",
    "print (preprocess(text, stem=True))\n",
    "get_classes(text=preprocess(text, stem=True), aliases=aliases, tags_dict=tags_dict)"
   ]
  },
  {
   "cell_type": "code",
   "execution_count": 217,
   "metadata": {},
   "outputs": [
    {
     "output_type": "stream",
     "name": "stdout",
     "text": [
      "transfer learn bert self supervis learn\n"
     ]
    },
    {
     "output_type": "execute_result",
     "data": {
      "text/plain": [
       "['transfer-learning', 'self-supervised-learning']"
      ]
     },
     "metadata": {},
     "execution_count": 217
    }
   ],
   "source": [
    "# Infer\n",
    "text = \"Transfer learning with BERT for self-supervised learning\"\n",
    "print (preprocess(text, stem=True))\n",
    "get_classes(text=preprocess(text, stem=True), aliases=aliases, tags_dict=tags_dict)"
   ]
  },
  {
   "source": [
    "Limitations : Failed to learned or generalize any imlpicit pattern to poredit the labels becaouse we treat the tokens as isolated entiries"
   ],
   "cell_type": "markdown",
   "metadata": {}
  },
  {
   "source": [
    "## Simple ML"
   ],
   "cell_type": "markdown",
   "metadata": {}
  },
  {
   "cell_type": "code",
   "execution_count": 218,
   "metadata": {},
   "outputs": [],
   "source": [
    "from sklearn.ensemble import RandomForestClassifier\n",
    "from sklearn.ensemble import GradientBoostingClassifier\n",
    "from sklearn.linear_model import LogisticRegression\n",
    "from sklearn.multiclass import OneVsRestClassifier\n",
    "from sklearn.neighbors import KNeighborsClassifier\n",
    "from sklearn.svm import LinearSVC\n"
   ]
  },
  {
   "cell_type": "code",
   "execution_count": 219,
   "metadata": {},
   "outputs": [],
   "source": [
    "from sklearn import metrics\n",
    "from sklearn.feature_extraction.text import TfidfVectorizer\n",
    "from sklearn.metrics import accuracy_score, precision_score, recall_score\n",
    "from sklearn.metrics import precision_recall_curve\n",
    "from sklearn.preprocessing import MultiLabelBinarizer"
   ]
  },
  {
   "cell_type": "code",
   "execution_count": 220,
   "metadata": {},
   "outputs": [],
   "source": [
    "#Setting seeds\n",
    "set_seed()"
   ]
  },
  {
   "cell_type": "code",
   "execution_count": 221,
   "metadata": {},
   "outputs": [],
   "source": [
    "#Getting data splits\n",
    "preprocessed_df=df.copy()\n",
    "preprocessed_df.text=preprocessed_df.text.apply(preprocess,lower=True,stem=True)\n",
    "X_train, X_val, X_test, y_train, y_val, y_test, label_encoder = get_data_splits(preprocessed_df)"
   ]
  },
  {
   "cell_type": "code",
   "execution_count": 222,
   "metadata": {},
   "outputs": [
    {
     "output_type": "stream",
     "name": "stdout",
     "text": [
      "Albumentations Fast image augmentation library and easy to use wrapper around other libraries.\n(1000, 3605)\n  (0, 1861)\t0.35101282857580157\n  (0, 2276)\t0.3322638000685066\n  (0, 260)\t0.312389028946533\n  (0, 3573)\t0.3634469148077632\n  (0, 3414)\t0.22983052113836\n  (0, 3256)\t0.10614373238476807\n  (0, 1012)\t0.2636058411307363\n  (0, 192)\t0.10345779731276887\n  (0, 1862)\t0.2072370467198702\n  (0, 304)\t0.2659773634649721\n  (0, 1596)\t0.18753138760686572\n  (0, 1222)\t0.2861993155492261\n  (0, 153)\t0.4020707144370318\n"
     ]
    }
   ],
   "source": [
    "#Using Tf-idf \n",
    "vectorizer=TfidfVectorizer()\n",
    "print(X_train[0])\n",
    "X_train = vectorizer.fit_transform(X_train)\n",
    "X_val = vectorizer.transform(X_val)\n",
    "X_test = vectorizer.transform(X_test)\n",
    "print (X_train.shape)\n",
    "print (X_train[0])"
   ]
  },
  {
   "cell_type": "code",
   "execution_count": 223,
   "metadata": {},
   "outputs": [],
   "source": [
    "def fit_and_evaluate(model):\n",
    "    \"\"\"Fit and evaluate each model.\"\"\"\n",
    "    model.fit(X_train, y_train)\n",
    "    y_pred = model.predict(X_test)\n",
    "    performance = get_performance(\n",
    "        y_true=y_test, y_pred=y_pred, classes=list(label_encoder.classes))\n",
    "    return performance['overall']"
   ]
  },
  {
   "cell_type": "code",
   "execution_count": 224,
   "metadata": {},
   "outputs": [
    {
     "output_type": "stream",
     "name": "stdout",
     "text": [
      "{\n  \"logistic-regression\": {\n    \"precision\": 0.3312317312317312,\n    \"recall\": 0.06427712804436943,\n    \"f1\": 0.10210451648045632,\n    \"num_samples\": 480.0\n  },\n  \"k-nearest-neighbors\": {\n    \"precision\": 0.6531082519964507,\n    \"recall\": 0.3227342860341629,\n    \"f1\": 0.41299426353846336,\n    \"num_samples\": 480.0\n  },\n  \"random-forest\": {\n    \"precision\": 0.5304325238867477,\n    \"recall\": 0.20684071484071484,\n    \"f1\": 0.2838581472925646,\n    \"num_samples\": 480.0\n  },\n  \"gradient-boosting-machine\": {\n    \"precision\": 0.7445866383444024,\n    \"recall\": 0.4956736941903197,\n    \"f1\": 0.5807018407182406,\n    \"num_samples\": 480.0\n  },\n  \"support-vector-machine\": {\n    \"precision\": 0.8026174159136747,\n    \"recall\": 0.3700476348364279,\n    \"f1\": 0.48829320873570664,\n    \"num_samples\": 480.0\n  }\n}\n"
     ]
    }
   ],
   "source": [
    "# Models\n",
    "performance = {}\n",
    "performance['logistic-regression'] = fit_and_evaluate(OneVsRestClassifier(\n",
    "    LogisticRegression(), n_jobs=1))\n",
    "performance['k-nearest-neighbors'] = fit_and_evaluate(\n",
    "    KNeighborsClassifier())\n",
    "performance['random-forest'] = fit_and_evaluate(\n",
    "    RandomForestClassifier(n_jobs=-1))\n",
    "performance['gradient-boosting-machine'] = fit_and_evaluate(OneVsRestClassifier(\n",
    "    GradientBoostingClassifier()))\n",
    "performance['support-vector-machine'] = fit_and_evaluate(OneVsRestClassifier(\n",
    "    LinearSVC(), n_jobs=-1))\n",
    "print (json.dumps(performance, indent=2))"
   ]
  },
  {
   "source": [
    "Limitations:\n",
    "TF-IDF representations don't encapsulate much signal beyond frequency but we require more fine-grained token representations."
   ],
   "cell_type": "markdown",
   "metadata": {}
  },
  {
   "source": [
    "## CNN w/ Embeddings"
   ],
   "cell_type": "markdown",
   "metadata": {}
  },
  {
   "cell_type": "code",
   "execution_count": 225,
   "metadata": {},
   "outputs": [],
   "source": [
    "import math \n",
    "import torch\n",
    "import torch.nn as nn\n",
    "import torch.nn.functional as F "
   ]
  },
  {
   "cell_type": "code",
   "execution_count": 226,
   "metadata": {},
   "outputs": [],
   "source": [
    "#Setting the seeds\n",
    "set_seed()"
   ]
  },
  {
   "cell_type": "code",
   "execution_count": 227,
   "metadata": {},
   "outputs": [],
   "source": [
    "# Get data splits\n",
    "preprocessed_df = df.copy()\n",
    "preprocessed_df.text = preprocessed_df.text.apply(preprocess, lower=True)\n",
    "X_train, X_val, X_test, y_train, y_val, y_test, label_encoder = get_data_splits(preprocessed_df)\n",
    "X_test_raw = X_test"
   ]
  },
  {
   "cell_type": "code",
   "execution_count": 228,
   "metadata": {},
   "outputs": [
    {
     "output_type": "stream",
     "name": "stdout",
     "text": [
      "cuda\n"
     ]
    }
   ],
   "source": [
    "# Set device\n",
    "cuda = True\n",
    "device = torch.device('cuda' if (\n",
    "    torch.cuda.is_available() and cuda) else 'cpu')\n",
    "torch.set_default_tensor_type('torch.FloatTensor')\n",
    "if device.type == 'cuda':\n",
    "    torch.set_default_tensor_type('torch.cuda.FloatTensor')\n",
    "print (device)"
   ]
  },
  {
   "cell_type": "code",
   "execution_count": 229,
   "metadata": {},
   "outputs": [],
   "source": [
    "class Tokenizer(object):\n",
    "    def __init__(self, char_level, num_tokens=None, \n",
    "                 pad_token='<PAD>', oov_token='<UNK>',\n",
    "                 token_to_index=None):\n",
    "        self.char_level = char_level\n",
    "        self.separator = '' if self.char_level else ' '\n",
    "        if num_tokens: num_tokens -= 2 # pad + unk tokens\n",
    "        self.num_tokens = num_tokens\n",
    "        self.oov_token = oov_token\n",
    "        if not token_to_index:\n",
    "            token_to_index = {'<PAD>': 0, '<UNK>': 1}\n",
    "        self.token_to_index = token_to_index\n",
    "        self.index_to_token = {v: k for k, v in self.token_to_index.items()}\n",
    "\n",
    "    def __len__(self):\n",
    "        return len(self.token_to_index)\n",
    "\n",
    "    def __str__(self):\n",
    "        return f\"<Tokenizer(num_tokens={len(self)})>\"\n",
    "\n",
    "    def fit_on_texts(self, texts):\n",
    "        if self.char_level:\n",
    "            all_tokens = [token for text in texts for token in text]\n",
    "        if not self.char_level:\n",
    "            all_tokens = [token for text in texts for token in text.split(' ')]\n",
    "        counts = Counter(all_tokens).most_common(self.num_tokens)\n",
    "        self.min_token_freq = counts[-1][1]\n",
    "        for token, count in counts:\n",
    "            index = len(self)\n",
    "            self.token_to_index[token] = index\n",
    "            self.index_to_token[index] = token\n",
    "        return self\n",
    "\n",
    "    def texts_to_sequences(self, texts):\n",
    "        sequences = []\n",
    "        for text in texts:\n",
    "            if not self.char_level:\n",
    "                text = text.split(' ')\n",
    "            sequence = []\n",
    "            for token in text:\n",
    "                sequence.append(self.token_to_index.get(\n",
    "                    token, self.token_to_index[self.oov_token]))\n",
    "            sequences.append(np.asarray(sequence))\n",
    "        return sequences\n",
    "\n",
    "    def sequences_to_texts(self, sequences):\n",
    "        texts = []\n",
    "        for sequence in sequences:\n",
    "            text = []\n",
    "            for index in sequence:\n",
    "                text.append(self.index_to_token.get(index, self.oov_token))\n",
    "            texts.append(self.separator.join([token for token in text]))\n",
    "        return texts\n",
    "\n",
    "    def save(self, fp):\n",
    "        with open(fp, 'w') as fp:\n",
    "            contents = {\n",
    "                'char_level': self.char_level,\n",
    "                'oov_token': self.oov_token,\n",
    "                'token_to_index': self.token_to_index\n",
    "            }\n",
    "            json.dump(contents, fp, indent=4, sort_keys=False)\n",
    "\n",
    "    @classmethod\n",
    "    def load(cls, fp):\n",
    "        with open(fp, 'r') as fp:\n",
    "            kwargs = json.load(fp=fp)\n",
    "        return cls(**kwargs)"
   ]
  },
  {
   "cell_type": "code",
   "execution_count": 230,
   "metadata": {},
   "outputs": [
    {
     "output_type": "stream",
     "name": "stdout",
     "text": [
      "<Tokenizer(num_tokens=136)>\n"
     ]
    }
   ],
   "source": [
    "# Tokenize\n",
    "char_level = True\n",
    "tokenizer = Tokenizer(char_level=char_level)\n",
    "tokenizer.fit_on_texts(texts=X_train)\n",
    "vocab_size = len(tokenizer)\n",
    "print (tokenizer)"
   ]
  },
  {
   "cell_type": "code",
   "execution_count": 231,
   "metadata": {},
   "outputs": [
    {
     "output_type": "execute_result",
     "data": {
      "text/plain": [
       "{'<PAD>': 0,\n",
       " '<UNK>': 1,\n",
       " ' ': 2,\n",
       " 'e': 3,\n",
       " 'n': 4,\n",
       " 'i': 5,\n",
       " 't': 6,\n",
       " 'a': 7,\n",
       " 'o': 8,\n",
       " 'r': 9,\n",
       " 's': 10,\n",
       " 'l': 11,\n",
       " 'c': 12,\n",
       " 'd': 13,\n",
       " 'g': 14,\n",
       " 'h': 15,\n",
       " 'm': 16,\n",
       " 'u': 17,\n",
       " 'p': 18,\n",
       " 'f': 19,\n",
       " 'y': 20,\n",
       " 'w': 21,\n",
       " 'b': 22,\n",
       " 'T': 23,\n",
       " 'v': 24,\n",
       " '.': 25,\n",
       " 'A': 26,\n",
       " '-': 27,\n",
       " 'L': 28,\n",
       " 'k': 29,\n",
       " 'P': 30,\n",
       " 'S': 31,\n",
       " 'N': 32,\n",
       " 'C': 33,\n",
       " 'M': 34,\n",
       " 'D': 35,\n",
       " 'I': 36,\n",
       " ',': 37,\n",
       " 'x': 38,\n",
       " 'R': 39,\n",
       " 'F': 40,\n",
       " 'G': 41,\n",
       " 'E': 42,\n",
       " 'B': 43,\n",
       " ':': 44,\n",
       " '2': 45,\n",
       " 'O': 46,\n",
       " 'z': 47,\n",
       " 'H': 48,\n",
       " 'W': 49,\n",
       " '0': 50,\n",
       " 'V': 51,\n",
       " '(': 52,\n",
       " ')': 53,\n",
       " 'j': 54,\n",
       " 'U': 55,\n",
       " 'K': 56,\n",
       " 'q': 57,\n",
       " '1': 58,\n",
       " '\"': 59,\n",
       " 'Q': 60,\n",
       " '\\r': 61,\n",
       " '\\n': 62,\n",
       " '/': 63,\n",
       " '&': 64,\n",
       " 'Y': 65,\n",
       " '3': 66,\n",
       " '+': 67,\n",
       " \"'\": 68,\n",
       " '?': 69,\n",
       " 'J': 70,\n",
       " '5': 71,\n",
       " '9': 72,\n",
       " 'X': 73,\n",
       " '8': 74,\n",
       " '6': 75,\n",
       " '4': 76,\n",
       " '’': 77,\n",
       " '!': 78,\n",
       " 'Z': 79,\n",
       " '—': 80,\n",
       " '7': 81,\n",
       " '“': 82,\n",
       " '”': 83,\n",
       " '|': 84,\n",
       " '🤗': 85,\n",
       " '️': 86,\n",
       " '%': 87,\n",
       " '=': 88,\n",
       " '–': 89,\n",
       " '💻': 90,\n",
       " '❤': 91,\n",
       " '_': 92,\n",
       " '🎨': 93,\n",
       " '>': 94,\n",
       " '🌊': 95,\n",
       " '^': 96,\n",
       " '🚗': 97,\n",
       " '🕶': 98,\n",
       " '<': 99,\n",
       " '\\u2060': 100,\n",
       " '⚡': 101,\n",
       " ';': 102,\n",
       " '@': 103,\n",
       " '#': 104,\n",
       " '🏥': 105,\n",
       " '💤': 106,\n",
       " '✨': 107,\n",
       " '😎': 108,\n",
       " '🔍': 109,\n",
       " '[': 110,\n",
       " ']': 111,\n",
       " '🦠': 112,\n",
       " '🍼': 113,\n",
       " '\\u2009': 114,\n",
       " '基': 115,\n",
       " '于': 116,\n",
       " '📈': 117,\n",
       " '⭐': 118,\n",
       " '🔥': 119,\n",
       " '*': 120,\n",
       " '…': 121,\n",
       " '🎐': 122,\n",
       " 'ç': 123,\n",
       " '🦄': 124,\n",
       " '✏': 125,\n",
       " '✂': 126,\n",
       " '🏡': 127,\n",
       " '𝘢': 128,\n",
       " '𝘯': 129,\n",
       " '𝘺': 130,\n",
       " '🐳': 131,\n",
       " '🤖': 132,\n",
       " '💬': 133,\n",
       " '🎥': 134,\n",
       " '👀': 135}"
      ]
     },
     "metadata": {},
     "execution_count": 231
    }
   ],
   "source": [
    "tokenizer.token_to_index"
   ]
  },
  {
   "cell_type": "code",
   "execution_count": 232,
   "metadata": {},
   "outputs": [
    {
     "output_type": "stream",
     "name": "stdout",
     "text": [
      "Text to indices:\n  (preprocessed) → Albumentations Fast image augmentation library and easy to use wrapper around other libraries.\n  (tokenized) → [26 11 22 17 16  3  4  6  7  6  5  8  4 10  2 40  7 10  6  2  5 16  7 14\n  3  2  7 17 14 16  3  4  6  7  6  5  8  4  2 11  5 22  9  7  9 20  2  7\n  4 13  2  3  7 10 20  2  6  8  2 17 10  3  2 21  9  7 18 18  3  9  2  7\n  9  8 17  4 13  2  8  6 15  3  9  2 11  5 22  9  7  9  5  3 10 25]\n"
     ]
    }
   ],
   "source": [
    "# Convert texts to sequences of indices\n",
    "# Convert texts to sequences of indices\n",
    "X_train = np.array(tokenizer.texts_to_sequences(X_train))\n",
    "X_val = np.array(tokenizer.texts_to_sequences(X_val))\n",
    "X_test = np.array(tokenizer.texts_to_sequences(X_test))\n",
    "preprocessed_text = tokenizer.sequences_to_texts([X_train[0]])[0]\n",
    "print (\"Text to indices:\\n\"\n",
    "    f\"  (preprocessed) → {preprocessed_text}\\n\"\n",
    "    f\"  (tokenized) → {X_train[0]}\")"
   ]
  },
  {
   "cell_type": "code",
   "execution_count": 233,
   "metadata": {},
   "outputs": [
    {
     "output_type": "stream",
     "name": "stdout",
     "text": [
      "class counts: [120  41 388 106  41  75  34  73  51  78  64  51  55  93  51 429  33  69\n  30  51 258  32  49  59  57  60  48  40 213  40  34  46 196  39  39],\nclass weights: {0: 0.008333333333333333, 1: 0.024390243902439025, 2: 0.002577319587628866, 3: 0.009433962264150943, 4: 0.024390243902439025, 5: 0.013333333333333334, 6: 0.029411764705882353, 7: 0.0136986301369863, 8: 0.0196078431372549, 9: 0.01282051282051282, 10: 0.015625, 11: 0.0196078431372549, 12: 0.01818181818181818, 13: 0.010752688172043012, 14: 0.0196078431372549, 15: 0.002331002331002331, 16: 0.030303030303030304, 17: 0.014492753623188406, 18: 0.03333333333333333, 19: 0.0196078431372549, 20: 0.003875968992248062, 21: 0.03125, 22: 0.02040816326530612, 23: 0.01694915254237288, 24: 0.017543859649122806, 25: 0.016666666666666666, 26: 0.020833333333333332, 27: 0.025, 28: 0.004694835680751174, 29: 0.025, 30: 0.029411764705882353, 31: 0.021739130434782608, 32: 0.00510204081632653, 33: 0.02564102564102564, 34: 0.02564102564102564}\n"
     ]
    }
   ],
   "source": [
    "# Class weights\n",
    "counts = np.bincount([label_encoder.class_to_index[class_] for class_ in all_tags])\n",
    "class_weights = {i: 1.0/count for i, count in enumerate(counts)}\n",
    "print (f\"class counts: {counts},\\nclass weights: {class_weights}\")"
   ]
  },
  {
   "cell_type": "code",
   "execution_count": 234,
   "metadata": {},
   "outputs": [],
   "source": [
    "def pad_sequences(sequences, max_seq_len=0):\n",
    "    \"\"\"Pad sequences to max length in sequence.\"\"\"\n",
    "    max_seq_len = max(max_seq_len, max(len(sequence) for sequence in sequences))\n",
    "    padded_sequences = np.zeros((len(sequences), max_seq_len))\n",
    "    for i, sequence in enumerate(sequences):\n",
    "        padded_sequences[i][:len(sequence)] = sequence\n",
    "    return padded_sequences"
   ]
  },
  {
   "cell_type": "code",
   "execution_count": 235,
   "metadata": {},
   "outputs": [],
   "source": [
    "class CNNTextDataset(torch.utils.data.Dataset):\n",
    "    def __init__(self, X, y, max_filter_size):\n",
    "        self.X = X\n",
    "        self.y = y\n",
    "        self.max_filter_size = max_filter_size\n",
    "\n",
    "    def __len__(self):\n",
    "        return len(self.y)\n",
    "\n",
    "    def __str__(self):\n",
    "        return f\"<Dataset(N={len(self)})>\"\n",
    "\n",
    "    def __getitem__(self, index):\n",
    "        X = self.X[index]\n",
    "        y = self.y[index]\n",
    "        return [X, y]\n",
    "\n",
    "    def collate_fn(self, batch):\n",
    "        \"\"\"Processing on a batch.\"\"\"\n",
    "        # Get inputs\n",
    "        batch = np.array(batch, dtype=object)\n",
    "        X = batch[:, 0]\n",
    "        y = np.stack(batch[:, 1], axis=0)\n",
    "\n",
    "        # Pad inputs\n",
    "        X = pad_sequences(sequences=X, max_seq_len=self.max_filter_size)\n",
    "\n",
    "        # Cast\n",
    "        X = torch.LongTensor(X.astype(np.int32))\n",
    "        y = torch.FloatTensor(y.astype(np.int32))\n",
    "\n",
    "        return X, y\n",
    "\n",
    "    def create_dataloader(self, batch_size, shuffle=False, drop_last=False):\n",
    "        return torch.utils.data.DataLoader(\n",
    "            dataset=self,\n",
    "            batch_size=batch_size,\n",
    "            collate_fn=self.collate_fn,\n",
    "            shuffle=shuffle,\n",
    "            drop_last=drop_last,\n",
    "            pin_memory=True)\n",
    "\n"
   ]
  },
  {
   "cell_type": "code",
   "execution_count": 236,
   "metadata": {},
   "outputs": [
    {
     "output_type": "stream",
     "name": "stdout",
     "text": [
      "Data splits:\n  Train dataset:<Dataset(N=1000)>\n  Val dataset: <Dataset(N=227)>\n  Test dataset: <Dataset(N=217)>\nSample point:\n  X: [26 11 22 17 16  3  4  6  7  6  5  8  4 10  2 40  7 10  6  2  5 16  7 14\n  3  2  7 17 14 16  3  4  6  7  6  5  8  4  2 11  5 22  9  7  9 20  2  7\n  4 13  2  3  7 10 20  2  6  8  2 17 10  3  2 21  9  7 18 18  3  9  2  7\n  9  8 17  4 13  2  8  6 15  3  9  2 11  5 22  9  7  9  5  3 10 25]\n  y: [0 0 1 0 1 0 0 0 0 0 0 0 0 0 0 0 0 0 0 0 0 0 0 0 0 0 0 0 0 0 0 0 0 0 0]\n"
     ]
    }
   ],
   "source": [
    "# Create datasets\n",
    "filter_sizes = list(range(1, 11))\n",
    "train_dataset = CNNTextDataset(\n",
    "    X=X_train, y=y_train, max_filter_size=max(filter_sizes))\n",
    "val_dataset = CNNTextDataset(\n",
    "    X=X_val, y=y_val, max_filter_size=max(filter_sizes))\n",
    "test_dataset = CNNTextDataset(\n",
    "    X=X_test, y=y_test, max_filter_size=max(filter_sizes))\n",
    "print (\"Data splits:\\n\"\n",
    "    f\"  Train dataset:{train_dataset.__str__()}\\n\"\n",
    "    f\"  Val dataset: {val_dataset.__str__()}\\n\"\n",
    "    f\"  Test dataset: {test_dataset.__str__()}\\n\"\n",
    "    \"Sample point:\\n\"\n",
    "    f\"  X: {train_dataset[0][0]}\\n\"\n",
    "    f\"  y: {train_dataset[0][1]}\")"
   ]
  },
  {
   "cell_type": "code",
   "execution_count": 237,
   "metadata": {},
   "outputs": [
    {
     "output_type": "stream",
     "name": "stdout",
     "text": [
      "Sample batch:\n  X: [128, 226]\n  y: [128, 35]\n"
     ]
    }
   ],
   "source": [
    "\n",
    "# Create dataloaders\n",
    "batch_size = 128\n",
    "train_dataloader = train_dataset.create_dataloader(\n",
    "    batch_size=batch_size)\n",
    "val_dataloader = val_dataset.create_dataloader(\n",
    "    batch_size=batch_size)\n",
    "test_dataloader = test_dataset.create_dataloader(\n",
    "    batch_size=batch_size)\n",
    "batch_X, batch_y = next(iter(train_dataloader))\n",
    "print (\"Sample batch:\\n\"\n",
    "    f\"  X: {list(batch_X.size())}\\n\"\n",
    "    f\"  y: {list(batch_y.size())}\")"
   ]
  },
  {
   "cell_type": "code",
   "execution_count": 238,
   "metadata": {},
   "outputs": [],
   "source": [
    "# Arguments\n",
    "embedding_dim = 128\n",
    "num_filters = 128\n",
    "hidden_dim = 128\n",
    "dropout_p = 0.5"
   ]
  },
  {
   "cell_type": "code",
   "execution_count": 239,
   "metadata": {},
   "outputs": [],
   "source": [
    "class CNN(nn.Module):\n",
    "    def __init__(self, embedding_dim, vocab_size, num_filters, filter_sizes,\n",
    "                 hidden_dim, dropout_p, num_classes, padding_idx=0):\n",
    "        super(CNN, self).__init__()\n",
    "\n",
    "        # Initialize embeddings\n",
    "        self.embeddings = nn.Embedding(\n",
    "                embedding_dim=embedding_dim, num_embeddings=vocab_size,\n",
    "                padding_idx=padding_idx)\n",
    "\n",
    "        # Conv weights\n",
    "        self.filter_sizes = filter_sizes\n",
    "        self.conv = nn.ModuleList(\n",
    "            [nn.Conv1d(in_channels=embedding_dim,\n",
    "                       out_channels=num_filters,\n",
    "                       kernel_size=f) for f in filter_sizes])\n",
    "\n",
    "        # FC weights\n",
    "        self.dropout = nn.Dropout(dropout_p)\n",
    "        self.fc1 = nn.Linear(num_filters*len(filter_sizes), hidden_dim)\n",
    "        self.fc2 = nn.Linear(hidden_dim, num_classes)\n",
    "\n",
    "    def forward(self, inputs, channel_first=False):\n",
    "\n",
    "        # Embed\n",
    "        x_in, = inputs\n",
    "        x_in = self.embeddings(x_in)\n",
    "        if not channel_first:\n",
    "            x_in = x_in.transpose(1, 2)  # (N, channels, sequence length)\n",
    "\n",
    "        z = []\n",
    "        max_seq_len = x_in.shape[2]\n",
    "        for i, f in enumerate(self.filter_sizes):\n",
    "\n",
    "            # `SAME` padding\n",
    "            padding_left = int(\n",
    "                (self.conv[i].stride[0]*(max_seq_len-1) - max_seq_len + self.filter_sizes[i])/2)\n",
    "            padding_right = int(math.ceil(\n",
    "                (self.conv[i].stride[0]*(max_seq_len-1) - max_seq_len + self.filter_sizes[i])/2))\n",
    "\n",
    "            # Conv\n",
    "            _z = self.conv[i](F.pad(x_in, (padding_left, padding_right)))\n",
    "\n",
    "            # Pool\n",
    "            _z = F.max_pool1d(_z, _z.size(2)).squeeze(2)\n",
    "            z.append(_z)\n",
    "\n",
    "        # Concat outputs\n",
    "        z = torch.cat(z, 1)\n",
    "\n",
    "        # FC\n",
    "        z = self.fc1(z)\n",
    "        z = self.dropout(z)\n",
    "        z = self.fc2(z)\n",
    "\n",
    "        return z"
   ]
  },
  {
   "cell_type": "code",
   "execution_count": 240,
   "metadata": {},
   "outputs": [
    {
     "output_type": "stream",
     "name": "stdout",
     "text": [
      "<bound method Module.named_parameters of CNN(\n  (embeddings): Embedding(136, 128, padding_idx=0)\n  (conv): ModuleList(\n    (0): Conv1d(128, 128, kernel_size=(1,), stride=(1,))\n    (1): Conv1d(128, 128, kernel_size=(2,), stride=(1,))\n    (2): Conv1d(128, 128, kernel_size=(3,), stride=(1,))\n    (3): Conv1d(128, 128, kernel_size=(4,), stride=(1,))\n    (4): Conv1d(128, 128, kernel_size=(5,), stride=(1,))\n    (5): Conv1d(128, 128, kernel_size=(6,), stride=(1,))\n    (6): Conv1d(128, 128, kernel_size=(7,), stride=(1,))\n    (7): Conv1d(128, 128, kernel_size=(8,), stride=(1,))\n    (8): Conv1d(128, 128, kernel_size=(9,), stride=(1,))\n    (9): Conv1d(128, 128, kernel_size=(10,), stride=(1,))\n  )\n  (dropout): Dropout(p=0.5, inplace=False)\n  (fc1): Linear(in_features=1280, out_features=128, bias=True)\n  (fc2): Linear(in_features=128, out_features=35, bias=True)\n)>\n"
     ]
    }
   ],
   "source": [
    "# Initialize model\n",
    "model = CNN(\n",
    "    embedding_dim=embedding_dim, vocab_size=vocab_size,\n",
    "    num_filters=num_filters, filter_sizes=filter_sizes,\n",
    "    hidden_dim=hidden_dim, dropout_p=dropout_p,\n",
    "    num_classes=num_classes)\n",
    "model = model.to(device)\n",
    "print (model.named_parameters)"
   ]
  },
  {
   "cell_type": "code",
   "execution_count": 241,
   "metadata": {},
   "outputs": [],
   "source": [
    "# Arguments\n",
    "lr = 2e-4\n",
    "num_epochs = 200\n",
    "patience = 10"
   ]
  },
  {
   "cell_type": "code",
   "execution_count": 242,
   "metadata": {},
   "outputs": [],
   "source": [
    "# Define loss\n",
    "class_weights_tensor = torch.Tensor(np.array(list(class_weights.values())))\n",
    "loss_fn = nn.BCEWithLogitsLoss(weight=class_weights_tensor)"
   ]
  },
  {
   "cell_type": "code",
   "execution_count": 243,
   "metadata": {},
   "outputs": [],
   "source": [
    "# Define optimizer & scheduler\n",
    "# Define optimizer & scheduler\n",
    "optimizer = torch.optim.Adam(model.parameters(), lr=lr)\n",
    "scheduler = torch.optim.lr_scheduler.ReduceLROnPlateau(\n",
    "    optimizer, mode='min', factor=0.1, patience=5)"
   ]
  },
  {
   "cell_type": "code",
   "execution_count": 244,
   "metadata": {},
   "outputs": [],
   "source": [
    "# Trainer module\n",
    "trainer = Trainer(\n",
    "    model=model, device=device, loss_fn=loss_fn, \n",
    "    optimizer=optimizer, scheduler=scheduler)"
   ]
  },
  {
   "cell_type": "code",
   "execution_count": 245,
   "metadata": {},
   "outputs": [
    {
     "output_type": "stream",
     "name": "stdout",
     "text": [
      "Epoch: 1 | train_loss: 0.00813, val_loss: 0.00326, lr: 2.00E-04, _patience: 10\n",
      "Epoch: 2 | train_loss: 0.00440, val_loss: 0.00280, lr: 2.00E-04, _patience: 10\n",
      "Epoch: 3 | train_loss: 0.00414, val_loss: 0.00296, lr: 2.00E-04, _patience: 9\n",
      "Epoch: 4 | train_loss: 0.00397, val_loss: 0.00283, lr: 2.00E-04, _patience: 8\n",
      "Epoch: 5 | train_loss: 0.00370, val_loss: 0.00266, lr: 2.00E-04, _patience: 10\n",
      "Epoch: 6 | train_loss: 0.00347, val_loss: 0.00260, lr: 2.00E-04, _patience: 10\n",
      "Epoch: 7 | train_loss: 0.00336, val_loss: 0.00258, lr: 2.00E-04, _patience: 10\n",
      "Epoch: 8 | train_loss: 0.00324, val_loss: 0.00256, lr: 2.00E-04, _patience: 10\n",
      "Epoch: 9 | train_loss: 0.00317, val_loss: 0.00254, lr: 2.00E-04, _patience: 10\n",
      "Epoch: 10 | train_loss: 0.00300, val_loss: 0.00251, lr: 2.00E-04, _patience: 10\n",
      "Epoch: 11 | train_loss: 0.00301, val_loss: 0.00248, lr: 2.00E-04, _patience: 10\n",
      "Epoch: 12 | train_loss: 0.00292, val_loss: 0.00245, lr: 2.00E-04, _patience: 10\n",
      "Epoch: 13 | train_loss: 0.00286, val_loss: 0.00242, lr: 2.00E-04, _patience: 10\n",
      "Epoch: 14 | train_loss: 0.00280, val_loss: 0.00239, lr: 2.00E-04, _patience: 10\n",
      "Epoch: 15 | train_loss: 0.00267, val_loss: 0.00235, lr: 2.00E-04, _patience: 10\n",
      "Epoch: 16 | train_loss: 0.00266, val_loss: 0.00231, lr: 2.00E-04, _patience: 10\n",
      "Epoch: 17 | train_loss: 0.00259, val_loss: 0.00227, lr: 2.00E-04, _patience: 10\n",
      "Epoch: 18 | train_loss: 0.00250, val_loss: 0.00223, lr: 2.00E-04, _patience: 10\n",
      "Epoch: 19 | train_loss: 0.00240, val_loss: 0.00219, lr: 2.00E-04, _patience: 10\n",
      "Epoch: 20 | train_loss: 0.00241, val_loss: 0.00215, lr: 2.00E-04, _patience: 10\n",
      "Epoch: 21 | train_loss: 0.00228, val_loss: 0.00212, lr: 2.00E-04, _patience: 10\n",
      "Epoch: 22 | train_loss: 0.00222, val_loss: 0.00207, lr: 2.00E-04, _patience: 10\n",
      "Epoch: 23 | train_loss: 0.00215, val_loss: 0.00204, lr: 2.00E-04, _patience: 10\n",
      "Epoch: 24 | train_loss: 0.00210, val_loss: 0.00200, lr: 2.00E-04, _patience: 10\n",
      "Epoch: 25 | train_loss: 0.00203, val_loss: 0.00196, lr: 2.00E-04, _patience: 10\n",
      "Epoch: 26 | train_loss: 0.00198, val_loss: 0.00193, lr: 2.00E-04, _patience: 10\n",
      "Epoch: 27 | train_loss: 0.00188, val_loss: 0.00190, lr: 2.00E-04, _patience: 10\n",
      "Epoch: 28 | train_loss: 0.00186, val_loss: 0.00187, lr: 2.00E-04, _patience: 10\n",
      "Epoch: 29 | train_loss: 0.00180, val_loss: 0.00184, lr: 2.00E-04, _patience: 10\n",
      "Epoch: 30 | train_loss: 0.00179, val_loss: 0.00182, lr: 2.00E-04, _patience: 10\n",
      "Epoch: 31 | train_loss: 0.00170, val_loss: 0.00179, lr: 2.00E-04, _patience: 10\n",
      "Epoch: 32 | train_loss: 0.00167, val_loss: 0.00177, lr: 2.00E-04, _patience: 10\n",
      "Epoch: 33 | train_loss: 0.00162, val_loss: 0.00175, lr: 2.00E-04, _patience: 10\n",
      "Epoch: 34 | train_loss: 0.00157, val_loss: 0.00172, lr: 2.00E-04, _patience: 10\n",
      "Epoch: 35 | train_loss: 0.00153, val_loss: 0.00172, lr: 2.00E-04, _patience: 10\n",
      "Epoch: 36 | train_loss: 0.00148, val_loss: 0.00169, lr: 2.00E-04, _patience: 10\n",
      "Epoch: 37 | train_loss: 0.00142, val_loss: 0.00167, lr: 2.00E-04, _patience: 10\n",
      "Epoch: 38 | train_loss: 0.00139, val_loss: 0.00165, lr: 2.00E-04, _patience: 10\n",
      "Epoch: 39 | train_loss: 0.00136, val_loss: 0.00164, lr: 2.00E-04, _patience: 10\n",
      "Epoch: 40 | train_loss: 0.00134, val_loss: 0.00164, lr: 2.00E-04, _patience: 10\n",
      "Epoch: 41 | train_loss: 0.00131, val_loss: 0.00162, lr: 2.00E-04, _patience: 10\n",
      "Epoch: 42 | train_loss: 0.00125, val_loss: 0.00159, lr: 2.00E-04, _patience: 10\n",
      "Epoch: 43 | train_loss: 0.00127, val_loss: 0.00160, lr: 2.00E-04, _patience: 9\n",
      "Epoch: 44 | train_loss: 0.00122, val_loss: 0.00158, lr: 2.00E-04, _patience: 10\n",
      "Epoch: 45 | train_loss: 0.00117, val_loss: 0.00158, lr: 2.00E-04, _patience: 10\n",
      "Epoch: 46 | train_loss: 0.00113, val_loss: 0.00160, lr: 2.00E-04, _patience: 9\n",
      "Epoch: 47 | train_loss: 0.00112, val_loss: 0.00156, lr: 2.00E-04, _patience: 10\n",
      "Epoch: 48 | train_loss: 0.00109, val_loss: 0.00156, lr: 2.00E-04, _patience: 10\n",
      "Epoch: 49 | train_loss: 0.00106, val_loss: 0.00156, lr: 2.00E-04, _patience: 9\n",
      "Epoch: 50 | train_loss: 0.00106, val_loss: 0.00155, lr: 2.00E-04, _patience: 10\n",
      "Epoch: 51 | train_loss: 0.00100, val_loss: 0.00156, lr: 2.00E-04, _patience: 9\n",
      "Epoch: 52 | train_loss: 0.00097, val_loss: 0.00155, lr: 2.00E-04, _patience: 10\n",
      "Epoch: 53 | train_loss: 0.00095, val_loss: 0.00154, lr: 2.00E-04, _patience: 10\n",
      "Epoch: 54 | train_loss: 0.00092, val_loss: 0.00151, lr: 2.00E-04, _patience: 10\n",
      "Epoch: 55 | train_loss: 0.00089, val_loss: 0.00154, lr: 2.00E-04, _patience: 9\n",
      "Epoch: 56 | train_loss: 0.00087, val_loss: 0.00155, lr: 2.00E-04, _patience: 8\n",
      "Epoch: 57 | train_loss: 0.00087, val_loss: 0.00150, lr: 2.00E-04, _patience: 10\n",
      "Epoch: 58 | train_loss: 0.00083, val_loss: 0.00151, lr: 2.00E-04, _patience: 9\n",
      "Epoch: 59 | train_loss: 0.00083, val_loss: 0.00152, lr: 2.00E-04, _patience: 8\n",
      "Epoch: 60 | train_loss: 0.00081, val_loss: 0.00154, lr: 2.00E-04, _patience: 7\n",
      "Epoch: 61 | train_loss: 0.00077, val_loss: 0.00155, lr: 2.00E-04, _patience: 6\n",
      "Epoch: 62 | train_loss: 0.00076, val_loss: 0.00150, lr: 2.00E-04, _patience: 5\n",
      "Epoch: 63 | train_loss: 0.00076, val_loss: 0.00150, lr: 2.00E-05, _patience: 4\n",
      "Epoch: 64 | train_loss: 0.00073, val_loss: 0.00150, lr: 2.00E-05, _patience: 3\n",
      "Epoch: 65 | train_loss: 0.00070, val_loss: 0.00154, lr: 2.00E-05, _patience: 2\n",
      "Epoch: 66 | train_loss: 0.00072, val_loss: 0.00154, lr: 2.00E-05, _patience: 1\n",
      "Stopping early!\n"
     ]
    }
   ],
   "source": [
    "# Train\n",
    "best_model = trainer.train(\n",
    "    num_epochs, patience, train_dataloader, val_dataloader)"
   ]
  },
  {
   "source": [
    "### Evaluation "
   ],
   "cell_type": "markdown",
   "metadata": {}
  },
  {
   "cell_type": "code",
   "execution_count": 247,
   "metadata": {},
   "outputs": [],
   "source": [
    "from pathlib import Path\n",
    "from sklearn.metrics import precision_recall_curve"
   ]
  },
  {
   "cell_type": "code",
   "execution_count": 248,
   "metadata": {},
   "outputs": [
    {
     "output_type": "execute_result",
     "data": {
      "text/plain": [
       "<matplotlib.legend.Legend at 0x2ca065cf388>"
      ]
     },
     "metadata": {},
     "execution_count": 248
    },
    {
     "output_type": "display_data",
     "data": {
      "text/plain": "<Figure size 432x288 with 1 Axes>",
      "image/svg+xml": "<?xml version=\"1.0\" encoding=\"utf-8\" standalone=\"no\"?>\r\n<!DOCTYPE svg PUBLIC \"-//W3C//DTD SVG 1.1//EN\"\r\n  \"http://www.w3.org/Graphics/SVG/1.1/DTD/svg11.dtd\">\r\n<!-- Created with matplotlib (https://matplotlib.org/) -->\r\n<svg height=\"262.19625pt\" version=\"1.1\" viewBox=\"0 0 385.78125 262.19625\" width=\"385.78125pt\" xmlns=\"http://www.w3.org/2000/svg\" xmlns:xlink=\"http://www.w3.org/1999/xlink\">\r\n <defs>\r\n  <style type=\"text/css\">\r\n*{stroke-linecap:butt;stroke-linejoin:round;}\r\n  </style>\r\n </defs>\r\n <g id=\"figure_1\">\r\n  <g id=\"patch_1\">\r\n   <path d=\"M 0 262.19625 \r\nL 385.78125 262.19625 \r\nL 385.78125 0 \r\nL 0 0 \r\nz\r\n\" style=\"fill:none;\"/>\r\n  </g>\r\n  <g id=\"axes_1\">\r\n   <g id=\"patch_2\">\r\n    <path d=\"M 43.78125 224.64 \r\nL 378.58125 224.64 \r\nL 378.58125 7.2 \r\nL 43.78125 7.2 \r\nz\r\n\" style=\"fill:#ffffff;\"/>\r\n   </g>\r\n   <g id=\"matplotlib.axis_1\">\r\n    <g id=\"xtick_1\">\r\n     <g id=\"line2d_1\">\r\n      <defs>\r\n       <path d=\"M 0 0 \r\nL 0 3.5 \r\n\" id=\"m8f7df2fa3f\" style=\"stroke:#000000;stroke-width:0.8;\"/>\r\n      </defs>\r\n      <g>\r\n       <use style=\"stroke:#000000;stroke-width:0.8;\" x=\"52.223974\" xlink:href=\"#m8f7df2fa3f\" y=\"224.64\"/>\r\n      </g>\r\n     </g>\r\n     <g id=\"text_1\">\r\n      <!-- 0.0 -->\r\n      <defs>\r\n       <path d=\"M 31.78125 66.40625 \r\nQ 24.171875 66.40625 20.328125 58.90625 \r\nQ 16.5 51.421875 16.5 36.375 \r\nQ 16.5 21.390625 20.328125 13.890625 \r\nQ 24.171875 6.390625 31.78125 6.390625 \r\nQ 39.453125 6.390625 43.28125 13.890625 \r\nQ 47.125 21.390625 47.125 36.375 \r\nQ 47.125 51.421875 43.28125 58.90625 \r\nQ 39.453125 66.40625 31.78125 66.40625 \r\nz\r\nM 31.78125 74.21875 \r\nQ 44.046875 74.21875 50.515625 64.515625 \r\nQ 56.984375 54.828125 56.984375 36.375 \r\nQ 56.984375 17.96875 50.515625 8.265625 \r\nQ 44.046875 -1.421875 31.78125 -1.421875 \r\nQ 19.53125 -1.421875 13.0625 8.265625 \r\nQ 6.59375 17.96875 6.59375 36.375 \r\nQ 6.59375 54.828125 13.0625 64.515625 \r\nQ 19.53125 74.21875 31.78125 74.21875 \r\nz\r\n\" id=\"DejaVuSans-48\"/>\r\n       <path d=\"M 10.6875 12.40625 \r\nL 21 12.40625 \r\nL 21 0 \r\nL 10.6875 0 \r\nz\r\n\" id=\"DejaVuSans-46\"/>\r\n      </defs>\r\n      <g transform=\"translate(44.272412 239.238438)scale(0.1 -0.1)\">\r\n       <use xlink:href=\"#DejaVuSans-48\"/>\r\n       <use x=\"63.623047\" xlink:href=\"#DejaVuSans-46\"/>\r\n       <use x=\"95.410156\" xlink:href=\"#DejaVuSans-48\"/>\r\n      </g>\r\n     </g>\r\n    </g>\r\n    <g id=\"xtick_2\">\r\n     <g id=\"line2d_2\">\r\n      <g>\r\n       <use style=\"stroke:#000000;stroke-width:0.8;\" x=\"114.473239\" xlink:href=\"#m8f7df2fa3f\" y=\"224.64\"/>\r\n      </g>\r\n     </g>\r\n     <g id=\"text_2\">\r\n      <!-- 0.2 -->\r\n      <defs>\r\n       <path d=\"M 19.1875 8.296875 \r\nL 53.609375 8.296875 \r\nL 53.609375 0 \r\nL 7.328125 0 \r\nL 7.328125 8.296875 \r\nQ 12.9375 14.109375 22.625 23.890625 \r\nQ 32.328125 33.6875 34.8125 36.53125 \r\nQ 39.546875 41.84375 41.421875 45.53125 \r\nQ 43.3125 49.21875 43.3125 52.78125 \r\nQ 43.3125 58.59375 39.234375 62.25 \r\nQ 35.15625 65.921875 28.609375 65.921875 \r\nQ 23.96875 65.921875 18.8125 64.3125 \r\nQ 13.671875 62.703125 7.8125 59.421875 \r\nL 7.8125 69.390625 \r\nQ 13.765625 71.78125 18.9375 73 \r\nQ 24.125 74.21875 28.421875 74.21875 \r\nQ 39.75 74.21875 46.484375 68.546875 \r\nQ 53.21875 62.890625 53.21875 53.421875 \r\nQ 53.21875 48.921875 51.53125 44.890625 \r\nQ 49.859375 40.875 45.40625 35.40625 \r\nQ 44.1875 33.984375 37.640625 27.21875 \r\nQ 31.109375 20.453125 19.1875 8.296875 \r\nz\r\n\" id=\"DejaVuSans-50\"/>\r\n      </defs>\r\n      <g transform=\"translate(106.521676 239.238438)scale(0.1 -0.1)\">\r\n       <use xlink:href=\"#DejaVuSans-48\"/>\r\n       <use x=\"63.623047\" xlink:href=\"#DejaVuSans-46\"/>\r\n       <use x=\"95.410156\" xlink:href=\"#DejaVuSans-50\"/>\r\n      </g>\r\n     </g>\r\n    </g>\r\n    <g id=\"xtick_3\">\r\n     <g id=\"line2d_3\">\r\n      <g>\r\n       <use style=\"stroke:#000000;stroke-width:0.8;\" x=\"176.722503\" xlink:href=\"#m8f7df2fa3f\" y=\"224.64\"/>\r\n      </g>\r\n     </g>\r\n     <g id=\"text_3\">\r\n      <!-- 0.4 -->\r\n      <defs>\r\n       <path d=\"M 37.796875 64.3125 \r\nL 12.890625 25.390625 \r\nL 37.796875 25.390625 \r\nz\r\nM 35.203125 72.90625 \r\nL 47.609375 72.90625 \r\nL 47.609375 25.390625 \r\nL 58.015625 25.390625 \r\nL 58.015625 17.1875 \r\nL 47.609375 17.1875 \r\nL 47.609375 0 \r\nL 37.796875 0 \r\nL 37.796875 17.1875 \r\nL 4.890625 17.1875 \r\nL 4.890625 26.703125 \r\nz\r\n\" id=\"DejaVuSans-52\"/>\r\n      </defs>\r\n      <g transform=\"translate(168.770941 239.238438)scale(0.1 -0.1)\">\r\n       <use xlink:href=\"#DejaVuSans-48\"/>\r\n       <use x=\"63.623047\" xlink:href=\"#DejaVuSans-46\"/>\r\n       <use x=\"95.410156\" xlink:href=\"#DejaVuSans-52\"/>\r\n      </g>\r\n     </g>\r\n    </g>\r\n    <g id=\"xtick_4\">\r\n     <g id=\"line2d_4\">\r\n      <g>\r\n       <use style=\"stroke:#000000;stroke-width:0.8;\" x=\"238.971768\" xlink:href=\"#m8f7df2fa3f\" y=\"224.64\"/>\r\n      </g>\r\n     </g>\r\n     <g id=\"text_4\">\r\n      <!-- 0.6 -->\r\n      <defs>\r\n       <path d=\"M 33.015625 40.375 \r\nQ 26.375 40.375 22.484375 35.828125 \r\nQ 18.609375 31.296875 18.609375 23.390625 \r\nQ 18.609375 15.53125 22.484375 10.953125 \r\nQ 26.375 6.390625 33.015625 6.390625 \r\nQ 39.65625 6.390625 43.53125 10.953125 \r\nQ 47.40625 15.53125 47.40625 23.390625 \r\nQ 47.40625 31.296875 43.53125 35.828125 \r\nQ 39.65625 40.375 33.015625 40.375 \r\nz\r\nM 52.59375 71.296875 \r\nL 52.59375 62.3125 \r\nQ 48.875 64.0625 45.09375 64.984375 \r\nQ 41.3125 65.921875 37.59375 65.921875 \r\nQ 27.828125 65.921875 22.671875 59.328125 \r\nQ 17.53125 52.734375 16.796875 39.40625 \r\nQ 19.671875 43.65625 24.015625 45.921875 \r\nQ 28.375 48.1875 33.59375 48.1875 \r\nQ 44.578125 48.1875 50.953125 41.515625 \r\nQ 57.328125 34.859375 57.328125 23.390625 \r\nQ 57.328125 12.15625 50.6875 5.359375 \r\nQ 44.046875 -1.421875 33.015625 -1.421875 \r\nQ 20.359375 -1.421875 13.671875 8.265625 \r\nQ 6.984375 17.96875 6.984375 36.375 \r\nQ 6.984375 53.65625 15.1875 63.9375 \r\nQ 23.390625 74.21875 37.203125 74.21875 \r\nQ 40.921875 74.21875 44.703125 73.484375 \r\nQ 48.484375 72.75 52.59375 71.296875 \r\nz\r\n\" id=\"DejaVuSans-54\"/>\r\n      </defs>\r\n      <g transform=\"translate(231.020206 239.238438)scale(0.1 -0.1)\">\r\n       <use xlink:href=\"#DejaVuSans-48\"/>\r\n       <use x=\"63.623047\" xlink:href=\"#DejaVuSans-46\"/>\r\n       <use x=\"95.410156\" xlink:href=\"#DejaVuSans-54\"/>\r\n      </g>\r\n     </g>\r\n    </g>\r\n    <g id=\"xtick_5\">\r\n     <g id=\"line2d_5\">\r\n      <g>\r\n       <use style=\"stroke:#000000;stroke-width:0.8;\" x=\"301.221033\" xlink:href=\"#m8f7df2fa3f\" y=\"224.64\"/>\r\n      </g>\r\n     </g>\r\n     <g id=\"text_5\">\r\n      <!-- 0.8 -->\r\n      <defs>\r\n       <path d=\"M 31.78125 34.625 \r\nQ 24.75 34.625 20.71875 30.859375 \r\nQ 16.703125 27.09375 16.703125 20.515625 \r\nQ 16.703125 13.921875 20.71875 10.15625 \r\nQ 24.75 6.390625 31.78125 6.390625 \r\nQ 38.8125 6.390625 42.859375 10.171875 \r\nQ 46.921875 13.96875 46.921875 20.515625 \r\nQ 46.921875 27.09375 42.890625 30.859375 \r\nQ 38.875 34.625 31.78125 34.625 \r\nz\r\nM 21.921875 38.8125 \r\nQ 15.578125 40.375 12.03125 44.71875 \r\nQ 8.5 49.078125 8.5 55.328125 \r\nQ 8.5 64.0625 14.71875 69.140625 \r\nQ 20.953125 74.21875 31.78125 74.21875 \r\nQ 42.671875 74.21875 48.875 69.140625 \r\nQ 55.078125 64.0625 55.078125 55.328125 \r\nQ 55.078125 49.078125 51.53125 44.71875 \r\nQ 48 40.375 41.703125 38.8125 \r\nQ 48.828125 37.15625 52.796875 32.3125 \r\nQ 56.78125 27.484375 56.78125 20.515625 \r\nQ 56.78125 9.90625 50.3125 4.234375 \r\nQ 43.84375 -1.421875 31.78125 -1.421875 \r\nQ 19.734375 -1.421875 13.25 4.234375 \r\nQ 6.78125 9.90625 6.78125 20.515625 \r\nQ 6.78125 27.484375 10.78125 32.3125 \r\nQ 14.796875 37.15625 21.921875 38.8125 \r\nz\r\nM 18.3125 54.390625 \r\nQ 18.3125 48.734375 21.84375 45.5625 \r\nQ 25.390625 42.390625 31.78125 42.390625 \r\nQ 38.140625 42.390625 41.71875 45.5625 \r\nQ 45.3125 48.734375 45.3125 54.390625 \r\nQ 45.3125 60.0625 41.71875 63.234375 \r\nQ 38.140625 66.40625 31.78125 66.40625 \r\nQ 25.390625 66.40625 21.84375 63.234375 \r\nQ 18.3125 60.0625 18.3125 54.390625 \r\nz\r\n\" id=\"DejaVuSans-56\"/>\r\n      </defs>\r\n      <g transform=\"translate(293.26947 239.238438)scale(0.1 -0.1)\">\r\n       <use xlink:href=\"#DejaVuSans-48\"/>\r\n       <use x=\"63.623047\" xlink:href=\"#DejaVuSans-46\"/>\r\n       <use x=\"95.410156\" xlink:href=\"#DejaVuSans-56\"/>\r\n      </g>\r\n     </g>\r\n    </g>\r\n    <g id=\"xtick_6\">\r\n     <g id=\"line2d_6\">\r\n      <g>\r\n       <use style=\"stroke:#000000;stroke-width:0.8;\" x=\"363.470297\" xlink:href=\"#m8f7df2fa3f\" y=\"224.64\"/>\r\n      </g>\r\n     </g>\r\n     <g id=\"text_6\">\r\n      <!-- 1.0 -->\r\n      <defs>\r\n       <path d=\"M 12.40625 8.296875 \r\nL 28.515625 8.296875 \r\nL 28.515625 63.921875 \r\nL 10.984375 60.40625 \r\nL 10.984375 69.390625 \r\nL 28.421875 72.90625 \r\nL 38.28125 72.90625 \r\nL 38.28125 8.296875 \r\nL 54.390625 8.296875 \r\nL 54.390625 0 \r\nL 12.40625 0 \r\nz\r\n\" id=\"DejaVuSans-49\"/>\r\n      </defs>\r\n      <g transform=\"translate(355.518735 239.238438)scale(0.1 -0.1)\">\r\n       <use xlink:href=\"#DejaVuSans-49\"/>\r\n       <use x=\"63.623047\" xlink:href=\"#DejaVuSans-46\"/>\r\n       <use x=\"95.410156\" xlink:href=\"#DejaVuSans-48\"/>\r\n      </g>\r\n     </g>\r\n    </g>\r\n    <g id=\"text_7\">\r\n     <!-- Threshold -->\r\n     <defs>\r\n      <path d=\"M -0.296875 72.90625 \r\nL 61.375 72.90625 \r\nL 61.375 64.59375 \r\nL 35.5 64.59375 \r\nL 35.5 0 \r\nL 25.59375 0 \r\nL 25.59375 64.59375 \r\nL -0.296875 64.59375 \r\nz\r\n\" id=\"DejaVuSans-84\"/>\r\n      <path d=\"M 54.890625 33.015625 \r\nL 54.890625 0 \r\nL 45.90625 0 \r\nL 45.90625 32.71875 \r\nQ 45.90625 40.484375 42.875 44.328125 \r\nQ 39.84375 48.1875 33.796875 48.1875 \r\nQ 26.515625 48.1875 22.3125 43.546875 \r\nQ 18.109375 38.921875 18.109375 30.90625 \r\nL 18.109375 0 \r\nL 9.078125 0 \r\nL 9.078125 75.984375 \r\nL 18.109375 75.984375 \r\nL 18.109375 46.1875 \r\nQ 21.34375 51.125 25.703125 53.5625 \r\nQ 30.078125 56 35.796875 56 \r\nQ 45.21875 56 50.046875 50.171875 \r\nQ 54.890625 44.34375 54.890625 33.015625 \r\nz\r\n\" id=\"DejaVuSans-104\"/>\r\n      <path d=\"M 41.109375 46.296875 \r\nQ 39.59375 47.171875 37.8125 47.578125 \r\nQ 36.03125 48 33.890625 48 \r\nQ 26.265625 48 22.1875 43.046875 \r\nQ 18.109375 38.09375 18.109375 28.8125 \r\nL 18.109375 0 \r\nL 9.078125 0 \r\nL 9.078125 54.6875 \r\nL 18.109375 54.6875 \r\nL 18.109375 46.1875 \r\nQ 20.953125 51.171875 25.484375 53.578125 \r\nQ 30.03125 56 36.53125 56 \r\nQ 37.453125 56 38.578125 55.875 \r\nQ 39.703125 55.765625 41.0625 55.515625 \r\nz\r\n\" id=\"DejaVuSans-114\"/>\r\n      <path d=\"M 56.203125 29.59375 \r\nL 56.203125 25.203125 \r\nL 14.890625 25.203125 \r\nQ 15.484375 15.921875 20.484375 11.0625 \r\nQ 25.484375 6.203125 34.421875 6.203125 \r\nQ 39.59375 6.203125 44.453125 7.46875 \r\nQ 49.3125 8.734375 54.109375 11.28125 \r\nL 54.109375 2.78125 \r\nQ 49.265625 0.734375 44.1875 -0.34375 \r\nQ 39.109375 -1.421875 33.890625 -1.421875 \r\nQ 20.796875 -1.421875 13.15625 6.1875 \r\nQ 5.515625 13.8125 5.515625 26.8125 \r\nQ 5.515625 40.234375 12.765625 48.109375 \r\nQ 20.015625 56 32.328125 56 \r\nQ 43.359375 56 49.78125 48.890625 \r\nQ 56.203125 41.796875 56.203125 29.59375 \r\nz\r\nM 47.21875 32.234375 \r\nQ 47.125 39.59375 43.09375 43.984375 \r\nQ 39.0625 48.390625 32.421875 48.390625 \r\nQ 24.90625 48.390625 20.390625 44.140625 \r\nQ 15.875 39.890625 15.1875 32.171875 \r\nz\r\n\" id=\"DejaVuSans-101\"/>\r\n      <path d=\"M 44.28125 53.078125 \r\nL 44.28125 44.578125 \r\nQ 40.484375 46.53125 36.375 47.5 \r\nQ 32.28125 48.484375 27.875 48.484375 \r\nQ 21.1875 48.484375 17.84375 46.4375 \r\nQ 14.5 44.390625 14.5 40.28125 \r\nQ 14.5 37.15625 16.890625 35.375 \r\nQ 19.28125 33.59375 26.515625 31.984375 \r\nL 29.59375 31.296875 \r\nQ 39.15625 29.25 43.1875 25.515625 \r\nQ 47.21875 21.78125 47.21875 15.09375 \r\nQ 47.21875 7.46875 41.1875 3.015625 \r\nQ 35.15625 -1.421875 24.609375 -1.421875 \r\nQ 20.21875 -1.421875 15.453125 -0.5625 \r\nQ 10.6875 0.296875 5.421875 2 \r\nL 5.421875 11.28125 \r\nQ 10.40625 8.6875 15.234375 7.390625 \r\nQ 20.0625 6.109375 24.8125 6.109375 \r\nQ 31.15625 6.109375 34.5625 8.28125 \r\nQ 37.984375 10.453125 37.984375 14.40625 \r\nQ 37.984375 18.0625 35.515625 20.015625 \r\nQ 33.0625 21.96875 24.703125 23.78125 \r\nL 21.578125 24.515625 \r\nQ 13.234375 26.265625 9.515625 29.90625 \r\nQ 5.8125 33.546875 5.8125 39.890625 \r\nQ 5.8125 47.609375 11.28125 51.796875 \r\nQ 16.75 56 26.8125 56 \r\nQ 31.78125 56 36.171875 55.265625 \r\nQ 40.578125 54.546875 44.28125 53.078125 \r\nz\r\n\" id=\"DejaVuSans-115\"/>\r\n      <path d=\"M 30.609375 48.390625 \r\nQ 23.390625 48.390625 19.1875 42.75 \r\nQ 14.984375 37.109375 14.984375 27.296875 \r\nQ 14.984375 17.484375 19.15625 11.84375 \r\nQ 23.34375 6.203125 30.609375 6.203125 \r\nQ 37.796875 6.203125 41.984375 11.859375 \r\nQ 46.1875 17.53125 46.1875 27.296875 \r\nQ 46.1875 37.015625 41.984375 42.703125 \r\nQ 37.796875 48.390625 30.609375 48.390625 \r\nz\r\nM 30.609375 56 \r\nQ 42.328125 56 49.015625 48.375 \r\nQ 55.71875 40.765625 55.71875 27.296875 \r\nQ 55.71875 13.875 49.015625 6.21875 \r\nQ 42.328125 -1.421875 30.609375 -1.421875 \r\nQ 18.84375 -1.421875 12.171875 6.21875 \r\nQ 5.515625 13.875 5.515625 27.296875 \r\nQ 5.515625 40.765625 12.171875 48.375 \r\nQ 18.84375 56 30.609375 56 \r\nz\r\n\" id=\"DejaVuSans-111\"/>\r\n      <path d=\"M 9.421875 75.984375 \r\nL 18.40625 75.984375 \r\nL 18.40625 0 \r\nL 9.421875 0 \r\nz\r\n\" id=\"DejaVuSans-108\"/>\r\n      <path d=\"M 45.40625 46.390625 \r\nL 45.40625 75.984375 \r\nL 54.390625 75.984375 \r\nL 54.390625 0 \r\nL 45.40625 0 \r\nL 45.40625 8.203125 \r\nQ 42.578125 3.328125 38.25 0.953125 \r\nQ 33.9375 -1.421875 27.875 -1.421875 \r\nQ 17.96875 -1.421875 11.734375 6.484375 \r\nQ 5.515625 14.40625 5.515625 27.296875 \r\nQ 5.515625 40.1875 11.734375 48.09375 \r\nQ 17.96875 56 27.875 56 \r\nQ 33.9375 56 38.25 53.625 \r\nQ 42.578125 51.265625 45.40625 46.390625 \r\nz\r\nM 14.796875 27.296875 \r\nQ 14.796875 17.390625 18.875 11.75 \r\nQ 22.953125 6.109375 30.078125 6.109375 \r\nQ 37.203125 6.109375 41.296875 11.75 \r\nQ 45.40625 17.390625 45.40625 27.296875 \r\nQ 45.40625 37.203125 41.296875 42.84375 \r\nQ 37.203125 48.484375 30.078125 48.484375 \r\nQ 22.953125 48.484375 18.875 42.84375 \r\nQ 14.796875 37.203125 14.796875 27.296875 \r\nz\r\n\" id=\"DejaVuSans-100\"/>\r\n     </defs>\r\n     <g transform=\"translate(186.432031 252.916563)scale(0.1 -0.1)\">\r\n      <use xlink:href=\"#DejaVuSans-84\"/>\r\n      <use x=\"61.083984\" xlink:href=\"#DejaVuSans-104\"/>\r\n      <use x=\"124.462891\" xlink:href=\"#DejaVuSans-114\"/>\r\n      <use x=\"165.544922\" xlink:href=\"#DejaVuSans-101\"/>\r\n      <use x=\"227.068359\" xlink:href=\"#DejaVuSans-115\"/>\r\n      <use x=\"279.167969\" xlink:href=\"#DejaVuSans-104\"/>\r\n      <use x=\"342.546875\" xlink:href=\"#DejaVuSans-111\"/>\r\n      <use x=\"403.728516\" xlink:href=\"#DejaVuSans-108\"/>\r\n      <use x=\"431.511719\" xlink:href=\"#DejaVuSans-100\"/>\r\n     </g>\r\n    </g>\r\n   </g>\r\n   <g id=\"matplotlib.axis_2\">\r\n    <g id=\"ytick_1\">\r\n     <g id=\"line2d_7\">\r\n      <defs>\r\n       <path d=\"M 0 0 \r\nL -3.5 0 \r\n\" id=\"mfe5430008b\" style=\"stroke:#000000;stroke-width:0.8;\"/>\r\n      </defs>\r\n      <g>\r\n       <use style=\"stroke:#000000;stroke-width:0.8;\" x=\"43.78125\" xlink:href=\"#mfe5430008b\" y=\"214.846174\"/>\r\n      </g>\r\n     </g>\r\n     <g id=\"text_8\">\r\n      <!-- 0.0 -->\r\n      <g transform=\"translate(20.878125 218.645393)scale(0.1 -0.1)\">\r\n       <use xlink:href=\"#DejaVuSans-48\"/>\r\n       <use x=\"63.623047\" xlink:href=\"#DejaVuSans-46\"/>\r\n       <use x=\"95.410156\" xlink:href=\"#DejaVuSans-48\"/>\r\n      </g>\r\n     </g>\r\n    </g>\r\n    <g id=\"ytick_2\">\r\n     <g id=\"line2d_8\">\r\n      <g>\r\n       <use style=\"stroke:#000000;stroke-width:0.8;\" x=\"43.78125\" xlink:href=\"#mfe5430008b\" y=\"175.293667\"/>\r\n      </g>\r\n     </g>\r\n     <g id=\"text_9\">\r\n      <!-- 0.2 -->\r\n      <g transform=\"translate(20.878125 179.092885)scale(0.1 -0.1)\">\r\n       <use xlink:href=\"#DejaVuSans-48\"/>\r\n       <use x=\"63.623047\" xlink:href=\"#DejaVuSans-46\"/>\r\n       <use x=\"95.410156\" xlink:href=\"#DejaVuSans-50\"/>\r\n      </g>\r\n     </g>\r\n    </g>\r\n    <g id=\"ytick_3\">\r\n     <g id=\"line2d_9\">\r\n      <g>\r\n       <use style=\"stroke:#000000;stroke-width:0.8;\" x=\"43.78125\" xlink:href=\"#mfe5430008b\" y=\"135.741159\"/>\r\n      </g>\r\n     </g>\r\n     <g id=\"text_10\">\r\n      <!-- 0.4 -->\r\n      <g transform=\"translate(20.878125 139.540378)scale(0.1 -0.1)\">\r\n       <use xlink:href=\"#DejaVuSans-48\"/>\r\n       <use x=\"63.623047\" xlink:href=\"#DejaVuSans-46\"/>\r\n       <use x=\"95.410156\" xlink:href=\"#DejaVuSans-52\"/>\r\n      </g>\r\n     </g>\r\n    </g>\r\n    <g id=\"ytick_4\">\r\n     <g id=\"line2d_10\">\r\n      <g>\r\n       <use style=\"stroke:#000000;stroke-width:0.8;\" x=\"43.78125\" xlink:href=\"#mfe5430008b\" y=\"96.188651\"/>\r\n      </g>\r\n     </g>\r\n     <g id=\"text_11\">\r\n      <!-- 0.6 -->\r\n      <g transform=\"translate(20.878125 99.98787)scale(0.1 -0.1)\">\r\n       <use xlink:href=\"#DejaVuSans-48\"/>\r\n       <use x=\"63.623047\" xlink:href=\"#DejaVuSans-46\"/>\r\n       <use x=\"95.410156\" xlink:href=\"#DejaVuSans-54\"/>\r\n      </g>\r\n     </g>\r\n    </g>\r\n    <g id=\"ytick_5\">\r\n     <g id=\"line2d_11\">\r\n      <g>\r\n       <use style=\"stroke:#000000;stroke-width:0.8;\" x=\"43.78125\" xlink:href=\"#mfe5430008b\" y=\"56.636144\"/>\r\n      </g>\r\n     </g>\r\n     <g id=\"text_12\">\r\n      <!-- 0.8 -->\r\n      <g transform=\"translate(20.878125 60.435363)scale(0.1 -0.1)\">\r\n       <use xlink:href=\"#DejaVuSans-48\"/>\r\n       <use x=\"63.623047\" xlink:href=\"#DejaVuSans-46\"/>\r\n       <use x=\"95.410156\" xlink:href=\"#DejaVuSans-56\"/>\r\n      </g>\r\n     </g>\r\n    </g>\r\n    <g id=\"ytick_6\">\r\n     <g id=\"line2d_12\">\r\n      <g>\r\n       <use style=\"stroke:#000000;stroke-width:0.8;\" x=\"43.78125\" xlink:href=\"#mfe5430008b\" y=\"17.083636\"/>\r\n      </g>\r\n     </g>\r\n     <g id=\"text_13\">\r\n      <!-- 1.0 -->\r\n      <g transform=\"translate(20.878125 20.882855)scale(0.1 -0.1)\">\r\n       <use xlink:href=\"#DejaVuSans-49\"/>\r\n       <use x=\"63.623047\" xlink:href=\"#DejaVuSans-46\"/>\r\n       <use x=\"95.410156\" xlink:href=\"#DejaVuSans-48\"/>\r\n      </g>\r\n     </g>\r\n    </g>\r\n    <g id=\"text_14\">\r\n     <!-- Performance -->\r\n     <defs>\r\n      <path d=\"M 19.671875 64.796875 \r\nL 19.671875 37.40625 \r\nL 32.078125 37.40625 \r\nQ 38.96875 37.40625 42.71875 40.96875 \r\nQ 46.484375 44.53125 46.484375 51.125 \r\nQ 46.484375 57.671875 42.71875 61.234375 \r\nQ 38.96875 64.796875 32.078125 64.796875 \r\nz\r\nM 9.8125 72.90625 \r\nL 32.078125 72.90625 \r\nQ 44.34375 72.90625 50.609375 67.359375 \r\nQ 56.890625 61.8125 56.890625 51.125 \r\nQ 56.890625 40.328125 50.609375 34.8125 \r\nQ 44.34375 29.296875 32.078125 29.296875 \r\nL 19.671875 29.296875 \r\nL 19.671875 0 \r\nL 9.8125 0 \r\nz\r\n\" id=\"DejaVuSans-80\"/>\r\n      <path d=\"M 37.109375 75.984375 \r\nL 37.109375 68.5 \r\nL 28.515625 68.5 \r\nQ 23.6875 68.5 21.796875 66.546875 \r\nQ 19.921875 64.59375 19.921875 59.515625 \r\nL 19.921875 54.6875 \r\nL 34.71875 54.6875 \r\nL 34.71875 47.703125 \r\nL 19.921875 47.703125 \r\nL 19.921875 0 \r\nL 10.890625 0 \r\nL 10.890625 47.703125 \r\nL 2.296875 47.703125 \r\nL 2.296875 54.6875 \r\nL 10.890625 54.6875 \r\nL 10.890625 58.5 \r\nQ 10.890625 67.625 15.140625 71.796875 \r\nQ 19.390625 75.984375 28.609375 75.984375 \r\nz\r\n\" id=\"DejaVuSans-102\"/>\r\n      <path d=\"M 52 44.1875 \r\nQ 55.375 50.25 60.0625 53.125 \r\nQ 64.75 56 71.09375 56 \r\nQ 79.640625 56 84.28125 50.015625 \r\nQ 88.921875 44.046875 88.921875 33.015625 \r\nL 88.921875 0 \r\nL 79.890625 0 \r\nL 79.890625 32.71875 \r\nQ 79.890625 40.578125 77.09375 44.375 \r\nQ 74.3125 48.1875 68.609375 48.1875 \r\nQ 61.625 48.1875 57.5625 43.546875 \r\nQ 53.515625 38.921875 53.515625 30.90625 \r\nL 53.515625 0 \r\nL 44.484375 0 \r\nL 44.484375 32.71875 \r\nQ 44.484375 40.625 41.703125 44.40625 \r\nQ 38.921875 48.1875 33.109375 48.1875 \r\nQ 26.21875 48.1875 22.15625 43.53125 \r\nQ 18.109375 38.875 18.109375 30.90625 \r\nL 18.109375 0 \r\nL 9.078125 0 \r\nL 9.078125 54.6875 \r\nL 18.109375 54.6875 \r\nL 18.109375 46.1875 \r\nQ 21.1875 51.21875 25.484375 53.609375 \r\nQ 29.78125 56 35.6875 56 \r\nQ 41.65625 56 45.828125 52.96875 \r\nQ 50 49.953125 52 44.1875 \r\nz\r\n\" id=\"DejaVuSans-109\"/>\r\n      <path d=\"M 34.28125 27.484375 \r\nQ 23.390625 27.484375 19.1875 25 \r\nQ 14.984375 22.515625 14.984375 16.5 \r\nQ 14.984375 11.71875 18.140625 8.90625 \r\nQ 21.296875 6.109375 26.703125 6.109375 \r\nQ 34.1875 6.109375 38.703125 11.40625 \r\nQ 43.21875 16.703125 43.21875 25.484375 \r\nL 43.21875 27.484375 \r\nz\r\nM 52.203125 31.203125 \r\nL 52.203125 0 \r\nL 43.21875 0 \r\nL 43.21875 8.296875 \r\nQ 40.140625 3.328125 35.546875 0.953125 \r\nQ 30.953125 -1.421875 24.3125 -1.421875 \r\nQ 15.921875 -1.421875 10.953125 3.296875 \r\nQ 6 8.015625 6 15.921875 \r\nQ 6 25.140625 12.171875 29.828125 \r\nQ 18.359375 34.515625 30.609375 34.515625 \r\nL 43.21875 34.515625 \r\nL 43.21875 35.40625 \r\nQ 43.21875 41.609375 39.140625 45 \r\nQ 35.0625 48.390625 27.6875 48.390625 \r\nQ 23 48.390625 18.546875 47.265625 \r\nQ 14.109375 46.140625 10.015625 43.890625 \r\nL 10.015625 52.203125 \r\nQ 14.9375 54.109375 19.578125 55.046875 \r\nQ 24.21875 56 28.609375 56 \r\nQ 40.484375 56 46.34375 49.84375 \r\nQ 52.203125 43.703125 52.203125 31.203125 \r\nz\r\n\" id=\"DejaVuSans-97\"/>\r\n      <path d=\"M 54.890625 33.015625 \r\nL 54.890625 0 \r\nL 45.90625 0 \r\nL 45.90625 32.71875 \r\nQ 45.90625 40.484375 42.875 44.328125 \r\nQ 39.84375 48.1875 33.796875 48.1875 \r\nQ 26.515625 48.1875 22.3125 43.546875 \r\nQ 18.109375 38.921875 18.109375 30.90625 \r\nL 18.109375 0 \r\nL 9.078125 0 \r\nL 9.078125 54.6875 \r\nL 18.109375 54.6875 \r\nL 18.109375 46.1875 \r\nQ 21.34375 51.125 25.703125 53.5625 \r\nQ 30.078125 56 35.796875 56 \r\nQ 45.21875 56 50.046875 50.171875 \r\nQ 54.890625 44.34375 54.890625 33.015625 \r\nz\r\n\" id=\"DejaVuSans-110\"/>\r\n      <path d=\"M 48.78125 52.59375 \r\nL 48.78125 44.1875 \r\nQ 44.96875 46.296875 41.140625 47.34375 \r\nQ 37.3125 48.390625 33.40625 48.390625 \r\nQ 24.65625 48.390625 19.8125 42.84375 \r\nQ 14.984375 37.3125 14.984375 27.296875 \r\nQ 14.984375 17.28125 19.8125 11.734375 \r\nQ 24.65625 6.203125 33.40625 6.203125 \r\nQ 37.3125 6.203125 41.140625 7.25 \r\nQ 44.96875 8.296875 48.78125 10.40625 \r\nL 48.78125 2.09375 \r\nQ 45.015625 0.34375 40.984375 -0.53125 \r\nQ 36.96875 -1.421875 32.421875 -1.421875 \r\nQ 20.0625 -1.421875 12.78125 6.34375 \r\nQ 5.515625 14.109375 5.515625 27.296875 \r\nQ 5.515625 40.671875 12.859375 48.328125 \r\nQ 20.21875 56 33.015625 56 \r\nQ 37.15625 56 41.109375 55.140625 \r\nQ 45.0625 54.296875 48.78125 52.59375 \r\nz\r\n\" id=\"DejaVuSans-99\"/>\r\n     </defs>\r\n     <g transform=\"translate(14.798438 147.867656)rotate(-90)scale(0.1 -0.1)\">\r\n      <use xlink:href=\"#DejaVuSans-80\"/>\r\n      <use x=\"60.255859\" xlink:href=\"#DejaVuSans-101\"/>\r\n      <use x=\"121.779297\" xlink:href=\"#DejaVuSans-114\"/>\r\n      <use x=\"162.892578\" xlink:href=\"#DejaVuSans-102\"/>\r\n      <use x=\"198.097656\" xlink:href=\"#DejaVuSans-111\"/>\r\n      <use x=\"259.279297\" xlink:href=\"#DejaVuSans-114\"/>\r\n      <use x=\"300.376953\" xlink:href=\"#DejaVuSans-109\"/>\r\n      <use x=\"397.789062\" xlink:href=\"#DejaVuSans-97\"/>\r\n      <use x=\"459.068359\" xlink:href=\"#DejaVuSans-110\"/>\r\n      <use x=\"522.447266\" xlink:href=\"#DejaVuSans-99\"/>\r\n      <use x=\"577.427734\" xlink:href=\"#DejaVuSans-101\"/>\r\n     </g>\r\n    </g>\r\n   </g>\r\n   <g id=\"line2d_13\">\r\n    <path clip-path=\"url(#pab69d8bb11)\" d=\"M 58.999432 157.614855 \r\nL 58.999511 157.633326 \r\nL 59.107148 157.125004 \r\nL 60.009425 153.703409 \r\nL 60.133386 153.192442 \r\nL 60.285277 152.64621 \r\nL 60.490592 151.844966 \r\nL 60.653478 151.274486 \r\nL 60.796437 150.787992 \r\nL 64.297433 138.304167 \r\nL 64.373121 138.10146 \r\nL 64.777431 136.764252 \r\nL 64.783085 136.785754 \r\nL 64.837123 136.603009 \r\nL 64.892284 136.376914 \r\nL 65.019191 135.978086 \r\nL 65.218501 135.299434 \r\nL 65.288391 135.124285 \r\nL 65.42408 134.771663 \r\nL 65.549072 134.341394 \r\nL 65.66925 133.981797 \r\nL 66.104777 132.852535 \r\nL 66.212748 132.485747 \r\nL 66.328519 132.21936 \r\nL 66.629377 131.222832 \r\nL 66.75733 130.915631 \r\nL 67.117949 129.456679 \r\nL 67.276094 128.966324 \r\nL 67.809984 127.513664 \r\nL 67.811399 127.535906 \r\nL 67.904173 127.324373 \r\nL 68.030762 127.02294 \r\nL 68.128069 126.826787 \r\nL 68.276403 126.544214 \r\nL 72.035106 115.668785 \r\nL 72.18607 115.23279 \r\nL 72.300388 114.932263 \r\nL 73.521087 111.7935 \r\nL 73.605913 111.57071 \r\nL 74.033488 110.591445 \r\nL 74.152045 110.414098 \r\nL 74.429735 109.563568 \r\nL 74.617817 109.200881 \r\nL 74.922028 108.283139 \r\nL 75.063624 107.872825 \r\nL 75.157711 107.627906 \r\nL 75.320343 107.088714 \r\nL 75.669607 106.32467 \r\nL 75.964069 105.794836 \r\nL 76.331644 104.859504 \r\nL 76.442488 104.592794 \r\nL 76.581825 104.393421 \r\nL 76.970401 103.087585 \r\nL 77.120324 102.875773 \r\nL 78.095062 100.276629 \r\nL 78.230272 99.959615 \r\nL 78.351238 99.711547 \r\nL 78.838661 98.86635 \r\nL 78.938639 98.708468 \r\nL 79.139417 98.264104 \r\nL 79.224238 97.99881 \r\nL 79.310142 97.774227 \r\nL 81.390166 93.11121 \r\nL 81.554792 92.901141 \r\nL 81.667842 92.690346 \r\nL 81.831739 92.266561 \r\nL 81.995027 91.732678 \r\nL 82.3933 90.803024 \r\nL 82.41178 90.824618 \r\nL 82.448981 90.75192 \r\nL 84.188868 86.959733 \r\nL 84.275975 86.687882 \r\nL 84.439922 86.396877 \r\nL 84.536667 86.222095 \r\nL 84.684021 86.064949 \r\nL 85.163321 85.195757 \r\nL 85.718265 84.597365 \r\nL 85.95061 84.354816 \r\nL 86.089947 84.152001 \r\nL 86.176744 83.949437 \r\nL 86.335229 83.725041 \r\nL 86.454078 83.273041 \r\nL 86.580902 83.02518 \r\nL 86.582704 83.04589 \r\nL 86.815983 82.73457 \r\nL 86.843017 82.56792 \r\nL 87.156117 82.358404 \r\nL 87.646836 81.705343 \r\nL 87.706769 81.72589 \r\nL 87.728709 81.641181 \r\nL 87.839628 81.428936 \r\nL 87.991058 81.151117 \r\nL 88.127165 80.679605 \r\nL 88.270695 80.421012 \r\nL 88.349531 80.268385 \r\nL 88.477777 80.09496 \r\nL 88.53563 80.00808 \r\nL 88.6768 79.961654 \r\nL 88.738074 79.83091 \r\nL 88.756695 79.85119 \r\nL 89.186207 79.318401 \r\nL 89.272925 79.162141 \r\nL 89.551245 78.892503 \r\nL 90.121233 77.677765 \r\nL 90.157594 77.697756 \r\nL 90.162529 77.652493 \r\nL 90.403325 77.47114 \r\nL 90.609628 77.061337 \r\nL 90.880163 76.484838 \r\nL 90.999601 76.273825 \r\nL 91.080174 76.08863 \r\nL 91.240078 75.856439 \r\nL 91.34644 75.530062 \r\nL 91.554228 75.295996 \r\nL 92.083936 74.343023 \r\nL 92.111234 74.36242 \r\nL 92.119907 74.314815 \r\nL 92.21152 74.12407 \r\nL 92.488266 73.827618 \r\nL 92.515583 73.846939 \r\nL 92.543518 73.750858 \r\nL 92.850201 72.986323 \r\nL 92.945065 72.791393 \r\nL 93.061653 72.468047 \r\nL 93.984815 70.962358 \r\nL 94.186421 70.660187 \r\nL 94.2681 70.407406 \r\nL 94.738089 69.917767 \r\nL 95.645069 69.222307 \r\nL 96.156893 68.774769 \r\nL 96.281208 68.618765 \r\nL 96.990937 67.642677 \r\nL 97.177141 67.289826 \r\nL 97.739147 66.810468 \r\nL 98.383355 66.308687 \r\nL 98.479115 66.200659 \r\nL 98.895986 65.946862 \r\nL 99.020922 65.620089 \r\nL 99.038491 65.637849 \r\nL 99.077287 65.528579 \r\nL 99.430178 64.997428 \r\nL 99.678859 65.012826 \r\nL 99.818447 64.847081 \r\nL 100.321732 64.197868 \r\nL 100.481611 64.030233 \r\nL 100.59153 63.8235 \r\nL 100.879903 63.67228 \r\nL 101.024996 63.57699 \r\nL 101.155577 63.351215 \r\nL 101.532511 62.98883 \r\nL 101.548892 63.006023 \r\nL 102.026093 62.641109 \r\nL 102.02953 62.583889 \r\nL 102.136156 62.618126 \r\nL 102.280697 62.388694 \r\nL 102.949807 61.788004 \r\nL 103.044736 61.514537 \r\nL 103.300936 61.239821 \r\nL 103.721192 60.795585 \r\nL 104.109601 60.533764 \r\nL 104.156898 60.356053 \r\nL 104.49659 60.13502 \r\nL 104.625033 60.015919 \r\nL 105.093056 59.777168 \r\nL 105.171553 59.657516 \r\nL 105.405309 59.614035 \r\nL 105.766896 59.242317 \r\nL 105.872854 59.198312 \r\nL 105.873861 59.137913 \r\nL 106.237405 58.895848 \r\nL 106.503562 58.653029 \r\nL 106.796596 58.303463 \r\nL 107.933255 56.510978 \r\nL 108.041834 56.322857 \r\nL 108.363043 56.039243 \r\nL 108.449888 56.007078 \r\nL 108.704594 55.721453 \r\nL 108.809435 55.673373 \r\nL 109.083639 55.434228 \r\nL 109.191225 55.385785 \r\nL 109.311607 54.937862 \r\nL 109.452085 54.680775 \r\nL 109.770456 54.19404 \r\nL 110.101052 53.934295 \r\nL 110.336191 53.818968 \r\nL 110.47692 53.813256 \r\nL 110.558051 53.631953 \r\nL 110.683076 53.581275 \r\nL 111.111022 53.384371 \r\nL 111.495609 52.937686 \r\nL 111.830226 52.716526 \r\nL 111.940173 52.465034 \r\nL 112.080642 52.264893 \r\nL 112.16636 52.064258 \r\nL 112.459645 51.877457 \r\nL 112.489689 51.757349 \r\nL 112.825169 51.583757 \r\nL 113.035439 51.245599 \r\nL 113.369588 50.85198 \r\nL 113.397249 50.783819 \r\nL 113.734093 50.729592 \r\nL 114.006608 50.592942 \r\nL 114.911766 49.657265 \r\nL 115.044076 49.601638 \r\nL 115.794155 49.405399 \r\nL 115.90284 49.432652 \r\nL 115.93116 49.362887 \r\nL 116.521791 49.347516 \r\nL 116.52834 49.277538 \r\nL 116.796588 49.024089 \r\nL 117.330892 48.402352 \r\nL 118.434293 47.899374 \r\nL 118.629128 47.684698 \r\nL 118.661009 47.710953 \r\nL 118.752386 47.567428 \r\nL 118.777083 47.351677 \r\nL 119.404488 46.858928 \r\nL 119.535691 46.713861 \r\nL 119.540236 46.72666 \r\nL 120.027409 46.426278 \r\nL 120.571832 46.110629 \r\nL 120.754479 46.049727 \r\nL 121.299501 45.545524 \r\nL 121.697792 45.483861 \r\nL 122.054612 45.422089 \r\nL 122.329961 45.385036 \r\nL 122.623282 45.173918 \r\nL 122.76435 45.123943 \r\nL 122.957635 44.911713 \r\nL 123.065393 44.686535 \r\nL 123.070198 44.698732 \r\nL 123.474649 44.71094 \r\nL 123.475108 44.635693 \r\nL 123.830355 44.282566 \r\nL 123.931207 44.131088 \r\nL 123.972178 43.9913 \r\nL 124.180083 43.927238 \r\nL 124.260774 43.698737 \r\nL 124.81913 43.58152 \r\nL 125.070538 43.528627 \r\nL 125.252155 43.310209 \r\nL 125.266226 43.321965 \r\nL 125.445274 43.345508 \r\nL 125.826711 43.191488 \r\nL 125.866759 43.114375 \r\nL 126.133742 42.95994 \r\nL 127.246484 41.736718 \r\nL 127.837644 41.691691 \r\nL 127.880271 41.61302 \r\nL 128.178462 41.387635 \r\nL 128.49169 41.104109 \r\nL 128.651995 41.03568 \r\nL 128.923834 40.797039 \r\nL 128.940999 40.717346 \r\nL 129.016708 40.749855 \r\nL 129.082553 40.669994 \r\nL 129.089431 40.680818 \r\nL 129.504744 40.611655 \r\nL 129.634777 40.542365 \r\nL 129.835841 40.472947 \r\nL 130.462133 40.043117 \r\nL 130.779795 39.729602 \r\nL 130.809589 39.740105 \r\nL 131.429504 39.414629 \r\nL 131.662643 39.34342 \r\nL 131.73006 39.261753 \r\nL 132.687766 39.241904 \r\nL 132.790477 39.180526 \r\nL 132.8231 39.211561 \r\nL 132.908383 39.149967 \r\nL 132.918206 38.985072 \r\nL 133.36213 38.933282 \r\nL 133.711014 38.860782 \r\nL 134.110154 38.798373 \r\nL 134.286127 38.559266 \r\nL 134.310828 38.56941 \r\nL 134.339361 38.496223 \r\nL 134.446024 38.516491 \r\nL 134.722788 38.349433 \r\nL 134.89928 38.275829 \r\nL 135.022741 38.202085 \r\nL 135.125935 38.034252 \r\nL 135.347109 37.960138 \r\nL 135.529723 37.885883 \r\nL 136.36802 37.48321 \r\nL 136.604304 37.40818 \r\nL 136.632503 37.238383 \r\nL 136.737292 37.257688 \r\nL 136.767559 37.172596 \r\nL 137.164492 37.002165 \r\nL 137.175948 36.916828 \r\nL 137.468165 36.85989 \r\nL 137.482339 36.774279 \r\nL 137.802987 36.698024 \r\nL 137.81435 36.612211 \r\nL 138.947266 36.1324 \r\nL 139.047863 36.055043 \r\nL 139.255151 35.995879 \r\nL 139.277932 35.909016 \r\nL 139.782465 35.858561 \r\nL 140.05807 35.711342 \r\nL 140.485631 35.651073 \r\nL 140.640659 35.299882 \r\nL 141.088089 35.22076 \r\nL 141.610988 35.159229 \r\nL 142.879583 34.55624 \r\nL 142.901214 34.467208 \r\nL 143.436543 34.305906 \r\nL 143.774917 34.242012 \r\nL 143.787273 34.152427 \r\nL 144.500568 34.088069 \r\nL 144.59546 34.0066 \r\nL 144.731064 33.826481 \r\nL 144.761813 33.736287 \r\nL 145.033355 33.654263 \r\nL 146.591431 33.629901 \r\nL 147.030217 33.547318 \r\nL 149.528188 32.896633 \r\nL 152.189897 32.163789 \r\nL 152.625649 31.976614 \r\nL 153.819907 31.936173 \r\nL 154.126261 31.857242 \r\nL 154.423302 31.581458 \r\nL 154.693146 31.501691 \r\nL 154.756018 31.311893 \r\nL 156.376641 31.260899 \r\nL 156.499175 31.172803 \r\nL 157.130324 31.113738 \r\nL 157.440305 30.729562 \r\nL 157.444544 30.633266 \r\nL 157.971246 30.550965 \r\nL 158.113361 30.364646 \r\nL 159.254636 30.302501 \r\nL 159.706008 30.010655 \r\nL 160.633901 29.96071 \r\nL 161.043699 29.673294 \r\nL 161.744945 29.693362 \r\nL 161.816833 29.601584 \r\nL 163.11858 29.549437 \r\nL 164.934302 29.211086 \r\nL 165.749233 29.017583 \r\nL 166.285183 28.949389 \r\nL 167.924813 28.51375 \r\nL 167.935573 28.412096 \r\nL 167.963577 28.41828 \r\nL 169.698497 28.371948 \r\nL 169.826569 28.269546 \r\nL 171.394895 28.312711 \r\nL 173.350905 27.838758 \r\nL 173.352352 27.734922 \r\nL 174.420106 27.54435 \r\nL 174.821334 27.561852 \r\nL 175.040717 27.457341 \r\nL 177.871961 27.404577 \r\nL 180.407843 27.027628 \r\nL 180.768155 26.938168 \r\nL 181.333565 26.736064 \r\nL 182.423423 26.763533 \r\nL 182.43934 26.656424 \r\nL 183.145113 26.592539 \r\nL 183.7039 26.387439 \r\nL 184.248143 26.311036 \r\nL 184.451229 26.098778 \r\nL 184.64131 25.989801 \r\nL 185.935552 25.901074 \r\nL 186.135855 25.806766 \r\nL 187.125692 25.381365 \r\nL 187.609475 25.169721 \r\nL 192.218243 25.167532 \r\nL 193.105785 24.961217 \r\nL 193.664471 24.975292 \r\nL 194.09091 24.866777 \r\nL 194.19556 24.871421 \r\nL 194.424934 24.64897 \r\nL 196.409199 24.611757 \r\nL 196.433919 24.496742 \r\nL 197.810058 24.523732 \r\nL 197.99065 24.408175 \r\nL 199.529571 24.430479 \r\nL 199.736952 24.323266 \r\nL 199.901839 24.332111 \r\nL 201.203364 24.23314 \r\nL 201.535208 24.237523 \r\nL 201.756224 24.120586 \r\nL 202.257593 24.12923 \r\nL 202.257834 24.01201 \r\nL 202.789453 23.907236 \r\nL 205.224358 23.856326 \r\nL 206.139542 23.510919 \r\nL 206.298206 23.275325 \r\nL 207.0566 23.298675 \r\nL 207.35378 23.185881 \r\nL 207.737532 23.193576 \r\nL 208.994913 23.084017 \r\nL 211.565254 23.12988 \r\nL 211.568371 23.007689 \r\nL 211.662818 23.01525 \r\nL 211.709735 23.019038 \r\nL 211.86147 22.896465 \r\nL 212.718912 22.918836 \r\nL 213.42154 22.80299 \r\nL 213.521794 22.806668 \r\nL 214.288611 22.569952 \r\nL 214.970145 22.587707 \r\nL 215.021014 22.463187 \r\nL 222.47879 22.442701 \r\nL 222.577207 22.318912 \r\nL 223.067009 22.325851 \r\nL 223.119659 22.070349 \r\nL 223.271987 21.948805 \r\nL 223.39749 21.952042 \r\nL 223.42836 21.823617 \r\nL 223.682444 21.695021 \r\nL 224.088467 21.701174 \r\nL 224.514545 21.578239 \r\nL 224.515936 21.581246 \r\nL 224.618527 21.590289 \r\nL 225.086903 21.339454 \r\nL 225.617556 21.350933 \r\nL 225.624216 21.22037 \r\nL 230.509127 21.172455 \r\nL 230.663032 21.04435 \r\nL 230.665796 21.047087 \r\nL 231.352006 21.06083 \r\nL 231.662673 20.929019 \r\nL 233.181188 20.942418 \r\nL 233.260404 20.807199 \r\nL 234.612435 20.825464 \r\nL 234.786135 20.689405 \r\nL 235.929404 20.707192 \r\nL 236.077205 20.572743 \r\nL 237.874274 20.592553 \r\nL 238.240262 20.459384 \r\nL 241.094445 20.503162 \r\nL 241.324376 20.370153 \r\nL 241.755833 20.377292 \r\nL 241.868757 20.238659 \r\nL 243.421388 20.275695 \r\nL 244.028976 20.28509 \r\nL 244.104129 20.144074 \r\nL 251.924888 20.273355 \r\nL 251.932531 20.123798 \r\nL 253.20377 20.133174 \r\nL 253.454088 19.985172 \r\nL 256.076838 20.028376 \r\nL 256.246939 19.87777 \r\nL 259.296157 19.926868 \r\nL 259.503862 19.777517 \r\nL 260.454248 19.788353 \r\nL 261.064897 19.47979 \r\nL 266.056869 19.529175 \r\nL 266.259287 19.371798 \r\nL 273.270003 19.450026 \r\nL 273.602914 19.286647 \r\nL 278.588431 19.340803 \r\nL 279.201269 19.001968 \r\nL 279.43797 19.007056 \r\nL 279.470621 18.833747 \r\nL 280.558977 18.852532 \r\nL 280.706018 18.677068 \r\nL 282.738693 18.695831 \r\nL 283.094571 18.521909 \r\nL 285.528335 18.536437 \r\nL 285.596754 18.357176 \r\nL 286.335075 18.364245 \r\nL 286.430209 18.183335 \r\nL 286.701565 18.185378 \r\nL 286.864709 18.003462 \r\nL 290.899598 18.037168 \r\nL 290.97592 17.847198 \r\nL 312.204864 18.040166 \r\nL 316.729111 18.093918 \r\nL 317.037441 17.842316 \r\nL 319.205284 17.863252 \r\nL 319.215321 17.604064 \r\nL 324.127781 17.646261 \r\nL 324.274451 17.366154 \r\nL 330.527236 17.411601 \r\nL 330.657747 17.083636 \r\nL 363.363068 17.083636 \r\nL 363.363068 17.083636 \r\n\" style=\"fill:none;stroke:#ff0000;stroke-dasharray:5.55,2.4;stroke-dashoffset:0;stroke-width:1.5;\"/>\r\n   </g>\r\n   <g id=\"line2d_14\">\r\n    <path clip-path=\"url(#pab69d8bb11)\" d=\"M 58.999432 17.083636 \r\nL 59.109424 17.173447 \r\nL 62.01043 17.263257 \r\nL 62.12169 17.353068 \r\nL 64.777431 17.442878 \r\nL 64.892856 17.532688 \r\nL 66.570479 17.622499 \r\nL 66.666958 17.712309 \r\nL 66.921675 17.80212 \r\nL 67.042283 17.89193 \r\nL 68.158351 17.981741 \r\nL 68.282818 18.071551 \r\nL 68.420691 18.161361 \r\nL 68.535289 18.251172 \r\nL 69.404166 18.340982 \r\nL 69.547001 18.430793 \r\nL 69.711323 18.520603 \r\nL 69.82344 18.610413 \r\nL 70.148695 18.700224 \r\nL 70.265992 18.879845 \r\nL 70.437594 18.969655 \r\nL 70.552228 19.149276 \r\nL 71.895715 19.239086 \r\nL 72.002856 19.328897 \r\nL 73.469827 19.418707 \r\nL 73.590629 19.598328 \r\nL 74.360977 19.688138 \r\nL 74.480453 19.867759 \r\nL 74.977644 19.95757 \r\nL 75.107299 20.137191 \r\nL 75.824848 20.227001 \r\nL 75.97856 20.316811 \r\nL 76.231492 20.406622 \r\nL 76.34245 20.496432 \r\nL 76.442488 20.676053 \r\nL 77.015651 20.765863 \r\nL 77.147748 20.855674 \r\nL 78.037403 20.945484 \r\nL 78.14613 21.125105 \r\nL 79.45969 21.214916 \r\nL 79.581354 21.304726 \r\nL 79.933533 21.394536 \r\nL 80.030461 21.484347 \r\nL 80.58927 21.574157 \r\nL 80.702152 21.843588 \r\nL 80.84023 21.933399 \r\nL 80.945201 22.11302 \r\nL 81.211833 22.20283 \r\nL 81.333936 22.292641 \r\nL 82.246539 22.382451 \r\nL 82.427166 22.562072 \r\nL 82.821068 22.651882 \r\nL 82.953662 22.741693 \r\nL 83.107794 22.831503 \r\nL 83.198366 23.011124 \r\nL 83.633963 23.100934 \r\nL 83.730564 23.190745 \r\nL 84.45012 23.280555 \r\nL 84.536667 23.370366 \r\nL 84.875869 23.460176 \r\nL 85.014065 23.549986 \r\nL 85.437093 23.639797 \r\nL 85.54592 23.909228 \r\nL 86.134506 23.999038 \r\nL 86.241584 24.088849 \r\nL 86.408223 24.178659 \r\nL 86.655642 24.26847 \r\nL 86.823816 24.35828 \r\nL 87.017422 24.448091 \r\nL 87.181352 24.537901 \r\nL 87.646836 24.627711 \r\nL 87.839628 24.717522 \r\nL 88.287601 24.807332 \r\nL 88.436059 24.897143 \r\nL 88.607245 24.986953 \r\nL 88.680028 25.076763 \r\nL 88.871111 25.166574 \r\nL 89.00968 25.525816 \r\nL 89.345376 25.615626 \r\nL 89.551245 25.795247 \r\nL 89.882247 25.885057 \r\nL 90.010555 25.974868 \r\nL 90.842336 26.064678 \r\nL 90.979375 26.244299 \r\nL 91.878081 26.334109 \r\nL 91.956819 26.42392 \r\nL 92.238342 26.51373 \r\nL 92.308736 26.603541 \r\nL 92.488266 26.693351 \r\nL 92.674432 26.962782 \r\nL 93.004602 27.052593 \r\nL 93.092788 27.142403 \r\nL 93.34735 27.411834 \r\nL 93.519988 27.501645 \r\nL 93.610066 27.591455 \r\nL 93.897738 27.681266 \r\nL 94.038801 27.771076 \r\nL 94.860341 27.860886 \r\nL 95.244695 28.220128 \r\nL 96.326604 28.309938 \r\nL 96.482661 28.489559 \r\nL 96.841155 28.57937 \r\nL 96.97533 28.66918 \r\nL 97.224522 28.758991 \r\nL 97.335521 28.848801 \r\nL 97.591526 28.938611 \r\nL 97.886137 29.028422 \r\nL 98.100534 29.118232 \r\nL 98.160651 29.208043 \r\nL 98.776309 29.297853 \r\nL 99.006721 29.567284 \r\nL 99.164309 29.657095 \r\nL 99.313312 29.746905 \r\nL 99.523145 29.836716 \r\nL 99.661987 30.016336 \r\nL 99.785731 30.106147 \r\nL 100.519025 30.195957 \r\nL 100.59153 30.285768 \r\nL 100.916343 30.375578 \r\nL 101.194137 30.465388 \r\nL 101.427763 30.555199 \r\nL 101.548892 30.73482 \r\nL 101.741491 30.82463 \r\nL 101.774926 30.914441 \r\nL 102.09307 31.004251 \r\nL 102.252754 31.094061 \r\nL 102.701437 31.183872 \r\nL 102.843844 31.273682 \r\nL 103.146307 31.363493 \r\nL 103.34917 31.453303 \r\nL 103.363538 31.543113 \r\nL 103.721192 31.902355 \r\nL 103.92477 31.992166 \r\nL 103.996148 32.081976 \r\nL 105.171553 32.171786 \r\nL 105.588016 32.441218 \r\nL 105.606247 32.531028 \r\nL 106.605671 32.620838 \r\nL 106.672605 32.710649 \r\nL 107.442544 32.800459 \r\nL 107.597604 32.89027 \r\nL 107.887618 32.98008 \r\nL 107.95203 33.069891 \r\nL 108.270711 33.159701 \r\nL 108.449888 33.429132 \r\nL 108.612082 33.518943 \r\nL 108.809435 33.698563 \r\nL 109.083639 33.788374 \r\nL 109.257468 33.878184 \r\nL 109.71693 33.967995 \r\nL 109.770456 34.057805 \r\nL 110.336191 34.147616 \r\nL 110.558051 34.596668 \r\nL 110.683076 34.686478 \r\nL 111.705995 34.776288 \r\nL 111.933801 35.13553 \r\nL 112.46605 35.225341 \r\nL 112.489689 35.315151 \r\nL 112.753819 35.404961 \r\nL 112.894302 35.494772 \r\nL 113.397249 35.584582 \r\nL 113.734093 35.674393 \r\nL 114.792432 35.764203 \r\nL 115.044076 35.943824 \r\nL 115.236578 36.033634 \r\nL 115.441125 36.303066 \r\nL 115.5274 36.482686 \r\nL 115.797105 36.572497 \r\nL 115.93116 36.662307 \r\nL 116.424348 36.931738 \r\nL 116.653434 37.021549 \r\nL 116.705077 37.111359 \r\nL 116.856487 37.20117 \r\nL 117.51986 37.29098 \r\nL 117.935604 37.560411 \r\nL 118.37791 37.650222 \r\nL 118.478892 37.740032 \r\nL 118.641808 37.829843 \r\nL 118.772106 37.919653 \r\nL 119.535691 38.009463 \r\nL 119.634191 38.099274 \r\nL 119.702554 38.189084 \r\nL 120.969456 38.997378 \r\nL 121.299501 39.087188 \r\nL 122.310579 39.44643 \r\nL 122.437561 39.626051 \r\nL 122.760686 39.715861 \r\nL 122.811105 39.895482 \r\nL 123.070198 39.985293 \r\nL 123.638196 40.164913 \r\nL 123.830986 40.254724 \r\nL 123.972178 40.344534 \r\nL 124.260774 40.434345 \r\nL 124.767584 40.524155 \r\nL 124.81913 40.703776 \r\nL 125.252155 40.973207 \r\nL 125.334051 41.152828 \r\nL 125.445274 41.242638 \r\nL 126.792008 41.332449 \r\nL 126.928711 41.422259 \r\nL 127.624693 41.51207 \r\nL 127.74553 41.60188 \r\nL 127.880271 41.691691 \r\nL 128.300662 41.781501 \r\nL 128.49169 42.050932 \r\nL 128.83235 42.140743 \r\nL 128.949727 42.230553 \r\nL 129.089431 42.499984 \r\nL 129.25507 42.589795 \r\nL 129.634777 42.679605 \r\nL 129.835841 42.769416 \r\nL 130.083038 42.859226 \r\nL 130.134668 42.949036 \r\nL 130.329006 43.038847 \r\nL 130.556682 43.308278 \r\nL 131.429504 43.398088 \r\nL 131.955028 43.66752 \r\nL 131.967411 43.75733 \r\nL 132.285063 43.847141 \r\nL 132.740712 44.116572 \r\nL 132.8231 44.475813 \r\nL 132.918206 44.655434 \r\nL 133.36213 44.924866 \r\nL 133.711014 45.014676 \r\nL 134.441238 45.553538 \r\nL 134.446024 45.643349 \r\nL 134.89928 45.733159 \r\nL 135.036433 45.82297 \r\nL 135.347109 45.91278 \r\nL 135.529723 46.002591 \r\nL 136.227593 46.092401 \r\nL 136.767559 46.451643 \r\nL 137.297591 46.541453 \r\nL 137.711675 46.810884 \r\nL 138.251484 46.900695 \r\nL 138.445897 47.170126 \r\nL 139.047863 47.259936 \r\nL 139.277932 47.529368 \r\nL 140.640659 48.427472 \r\nL 141.088089 48.517282 \r\nL 141.574349 48.696903 \r\nL 141.610988 48.786713 \r\nL 142.832861 48.876524 \r\nL 142.901214 48.966334 \r\nL 143.155902 49.056145 \r\nL 143.21434 49.145955 \r\nL 143.544394 49.235766 \r\nL 143.652513 49.415386 \r\nL 143.917432 49.505197 \r\nL 145.445723 49.954249 \r\nL 146.334434 50.403301 \r\nL 146.372725 50.493111 \r\nL 147.030217 50.672732 \r\nL 147.895618 50.762543 \r\nL 148.09952 50.942163 \r\nL 148.229697 51.031974 \r\nL 148.583414 51.121784 \r\nL 148.621649 51.301405 \r\nL 149.03231 51.391216 \r\nL 149.528188 51.570836 \r\nL 150.331097 51.660647 \r\nL 150.411195 51.840268 \r\nL 150.932637 52.019888 \r\nL 151.01061 52.199509 \r\nL 151.391375 52.28932 \r\nL 151.544974 52.468941 \r\nL 153.145459 53.097613 \r\nL 153.192015 53.187424 \r\nL 154.035784 53.456855 \r\nL 154.306491 53.636476 \r\nL 154.58794 53.726286 \r\nL 154.756018 53.816097 \r\nL 155.4937 53.995718 \r\nL 156.066429 54.175338 \r\nL 156.466886 54.354959 \r\nL 156.499175 54.44477 \r\nL 156.979239 54.624391 \r\nL 157.226988 54.893822 \r\nL 157.756834 54.983632 \r\nL 157.792537 55.073443 \r\nL 158.113361 55.163253 \r\nL 159.706008 55.612305 \r\nL 160.261809 55.791926 \r\nL 160.916536 56.330788 \r\nL 161.163404 56.420599 \r\nL 161.758905 56.60022 \r\nL 161.816833 56.69003 \r\nL 162.543356 56.869651 \r\nL 162.567223 56.959461 \r\nL 162.743316 57.049272 \r\nL 163.084361 57.228893 \r\nL 163.11858 57.318703 \r\nL 163.897706 57.408513 \r\nL 164.270123 57.677945 \r\nL 164.296726 57.857566 \r\nL 164.421282 57.947376 \r\nL 165.197672 58.126997 \r\nL 165.749233 58.216807 \r\nL 166.214557 58.576049 \r\nL 166.285183 58.665859 \r\nL 166.78083 58.75567 \r\nL 166.846568 58.84548 \r\nL 167.387954 59.294532 \r\nL 167.640331 59.384343 \r\nL 167.935573 59.653774 \r\nL 167.963577 59.743584 \r\nL 169.295915 60.282447 \r\nL 169.355531 60.462068 \r\nL 169.826569 60.551878 \r\nL 170.343411 60.731499 \r\nL 170.862469 60.91112 \r\nL 171.394895 61.180551 \r\nL 171.861434 61.270361 \r\nL 172.357785 61.449982 \r\nL 172.604792 61.539793 \r\nL 172.682524 61.629603 \r\nL 173.275353 61.719413 \r\nL 173.352352 61.809224 \r\nL 174.203839 61.899034 \r\nL 174.204201 61.988845 \r\nL 175.040717 62.348086 \r\nL 176.275427 62.527707 \r\nL 176.427867 62.707328 \r\nL 176.978566 62.976759 \r\nL 178.49618 63.246191 \r\nL 179.504457 63.515622 \r\nL 179.70066 63.605432 \r\nL 180.239245 63.695243 \r\nL 180.407843 63.874863 \r\nL 180.976416 64.234105 \r\nL 181.333565 64.323916 \r\nL 181.874978 64.683157 \r\nL 182.582495 64.862778 \r\nL 182.685383 65.132209 \r\nL 183.053913 65.401641 \r\nL 183.145113 65.491451 \r\nL 183.492893 65.581261 \r\nL 184.158946 65.940503 \r\nL 184.451229 66.299745 \r\nL 185.027928 66.389555 \r\nL 185.05838 66.479366 \r\nL 186.109132 66.748797 \r\nL 186.135855 66.928418 \r\nL 186.76193 67.018228 \r\nL 187.125692 67.197849 \r\nL 187.51872 67.287659 \r\nL 187.609475 67.37747 \r\nL 189.532222 67.826522 \r\nL 189.55198 67.916332 \r\nL 191.178947 68.634816 \r\nL 191.194271 68.724626 \r\nL 191.497165 68.904247 \r\nL 191.600007 69.083868 \r\nL 191.843767 69.263488 \r\nL 192.167105 69.353299 \r\nL 192.218243 69.443109 \r\nL 192.667417 69.53292 \r\nL 192.888146 69.712541 \r\nL 195.697777 70.969886 \r\nL 195.887737 71.418938 \r\nL 196.771477 72.137422 \r\nL 198.453924 72.586474 \r\nL 199.864161 73.125336 \r\nL 199.901839 73.215147 \r\nL 200.78325 73.304957 \r\nL 200.809594 73.394768 \r\nL 202.257834 73.84382 \r\nL 202.683773 73.93363 \r\nL 203.063749 74.203061 \r\nL 204.199022 74.831734 \r\nL 204.343614 75.190976 \r\nL 205.673393 75.640028 \r\nL 205.683819 75.729839 \r\nL 206.174067 75.819649 \r\nL 206.298206 75.909459 \r\nL 206.753586 76.178891 \r\nL 206.785476 76.358511 \r\nL 207.35378 76.627943 \r\nL 207.394919 76.717753 \r\nL 207.737532 76.807564 \r\nL 208.534978 76.897374 \r\nL 208.994913 77.076995 \r\nL 209.550834 77.346426 \r\nL 210.606464 77.615857 \r\nL 210.780535 77.885289 \r\nL 210.834261 77.975099 \r\nL 211.022023 78.064909 \r\nL 211.626475 78.24453 \r\nL 211.709735 78.424151 \r\nL 212.240778 78.513961 \r\nL 212.31211 78.693582 \r\nL 212.718912 78.963014 \r\nL 213.103638 79.052824 \r\nL 214.288611 79.501876 \r\nL 214.665674 79.681497 \r\nL 215.021014 79.950928 \r\nL 216.839213 80.31017 \r\nL 217.819876 80.669411 \r\nL 218.289235 80.938843 \r\nL 218.290274 81.028653 \r\nL 220.193106 81.747136 \r\nL 220.324415 81.836947 \r\nL 220.986006 81.926757 \r\nL 221.843708 82.196189 \r\nL 222.746584 82.824861 \r\nL 223.216035 83.004482 \r\nL 223.42836 83.184103 \r\nL 223.9725 83.273914 \r\nL 224.088467 83.363724 \r\nL 224.326486 83.453534 \r\nL 224.515936 83.633155 \r\nL 224.618527 83.902586 \r\nL 224.854728 83.992397 \r\nL 225.086903 84.172018 \r\nL 227.544635 85.698795 \r\nL 228.268895 85.878416 \r\nL 228.659038 86.147847 \r\nL 228.69154 86.237657 \r\nL 229.010315 86.417278 \r\nL 229.043392 86.596899 \r\nL 229.921 86.77652 \r\nL 229.985653 86.956141 \r\nL 230.414717 87.135761 \r\nL 231.352006 87.944055 \r\nL 231.662673 88.033866 \r\nL 232.792307 88.213486 \r\nL 232.824679 88.303297 \r\nL 234.046756 88.662539 \r\nL 234.076272 88.752349 \r\nL 234.379741 88.93197 \r\nL 234.786135 89.111591 \r\nL 235.24926 89.291211 \r\nL 235.920332 89.650453 \r\nL 235.977601 89.740264 \r\nL 236.226305 89.919884 \r\nL 238.541895 90.907799 \r\nL 238.597884 90.997609 \r\nL 239.325575 91.356851 \r\nL 239.436515 91.446661 \r\nL 240.031432 91.626282 \r\nL 240.423671 91.985524 \r\nL 241.037788 92.254955 \r\nL 241.368825 92.793818 \r\nL 241.868757 92.973439 \r\nL 242.001402 93.153059 \r\nL 242.309602 93.33268 \r\nL 242.442637 93.512301 \r\nL 242.636409 93.691922 \r\nL 242.757311 93.871543 \r\nL 243.065103 94.230784 \r\nL 243.957904 94.590026 \r\nL 244.104129 94.859457 \r\nL 245.30053 95.937182 \r\nL 246.13597 96.206614 \r\nL 246.887519 96.565855 \r\nL 247.325989 96.835286 \r\nL 247.417301 96.925097 \r\nL 248.510665 97.284339 \r\nL 248.536007 97.374149 \r\nL 249.051262 97.733391 \r\nL 249.074971 97.823201 \r\nL 250.910739 98.721305 \r\nL 251.047057 98.990736 \r\nL 251.206528 99.260168 \r\nL 251.903201 99.70922 \r\nL 251.932531 99.79903 \r\nL 252.165392 99.888841 \r\nL 253.027899 100.068461 \r\nL 254.072139 100.607324 \r\nL 254.631696 100.786945 \r\nL 255.135691 101.235997 \r\nL 255.44313 101.505428 \r\nL 255.538152 101.685049 \r\nL 256.045764 101.86467 \r\nL 256.076838 101.95448 \r\nL 256.246939 102.044291 \r\nL 256.833545 102.493343 \r\nL 256.897641 102.672964 \r\nL 256.95927 102.762774 \r\nL 257.386275 102.942395 \r\nL 257.648967 103.211826 \r\nL 258.128659 103.391447 \r\nL 258.145857 103.481257 \r\nL 259.192508 103.930309 \r\nL 259.570054 104.379361 \r\nL 259.618975 104.469172 \r\nL 260.947223 104.828414 \r\nL 261.064897 105.008034 \r\nL 261.37024 105.187655 \r\nL 261.381389 105.277466 \r\nL 261.953079 105.546897 \r\nL 262.753994 105.726518 \r\nL 263.006112 105.906139 \r\nL 264.302915 106.17557 \r\nL 264.626142 106.355191 \r\nL 264.680498 106.624622 \r\nL 265.837013 107.073674 \r\nL 266.191351 107.343105 \r\nL 266.259287 107.432916 \r\nL 266.64559 107.612536 \r\nL 266.777381 107.792157 \r\nL 267.804609 108.510641 \r\nL 268.487906 108.780072 \r\nL 269.387851 109.408745 \r\nL 270.319667 109.588366 \r\nL 271.048991 109.767986 \r\nL 271.130971 109.857797 \r\nL 271.863263 110.127228 \r\nL 271.890404 110.217039 \r\nL 272.042102 110.306849 \r\nL 272.520643 110.48647 \r\nL 273.19819 110.935522 \r\nL 273.270003 111.025332 \r\nL 273.503291 111.115143 \r\nL 273.602914 111.204953 \r\nL 274.005616 111.384574 \r\nL 274.217811 111.654005 \r\nL 275.223185 111.923436 \r\nL 275.403229 112.103057 \r\nL 276.200397 112.282678 \r\nL 276.337086 112.552109 \r\nL 276.537686 112.73173 \r\nL 277.168612 113.001161 \r\nL 277.189594 113.090972 \r\nL 279.101664 113.899266 \r\nL 280.90864 115.426043 \r\nL 281.803631 115.785284 \r\nL 281.843183 115.875095 \r\nL 282.453331 116.144526 \r\nL 282.559354 116.324147 \r\nL 282.738693 116.503768 \r\nL 282.93408 116.593578 \r\nL 282.950146 116.683389 \r\nL 283.480929 117.04263 \r\nL 284.088573 117.222251 \r\nL 284.349465 117.401872 \r\nL 284.545112 117.581493 \r\nL 285.544141 117.761114 \r\nL 285.745334 117.940734 \r\nL 286.679711 118.569407 \r\nL 286.701565 118.659218 \r\nL 286.864709 118.749028 \r\nL 287.005794 118.928649 \r\nL 287.771443 119.19808 \r\nL 288.143832 119.467511 \r\nL 288.332744 119.647132 \r\nL 288.552934 119.916564 \r\nL 289.124606 120.096184 \r\nL 289.326986 120.365616 \r\nL 289.37203 120.455426 \r\nL 289.779463 120.635047 \r\nL 290.11768 120.904478 \r\nL 290.196524 121.26372 \r\nL 291.167206 122.251634 \r\nL 291.450918 122.431255 \r\nL 291.516164 122.610876 \r\nL 292.613462 123.059928 \r\nL 292.82612 123.329359 \r\nL 293.408478 123.778411 \r\nL 293.727456 123.958032 \r\nL 294.095782 124.227464 \r\nL 294.202974 124.407084 \r\nL 294.520487 124.676516 \r\nL 294.927493 125.035757 \r\nL 296.251864 125.66443 \r\nL 296.326015 125.844051 \r\nL 297.83401 127.101397 \r\nL 297.958122 127.370828 \r\nL 298.14824 127.550449 \r\nL 298.206455 127.640259 \r\nL 298.517957 127.81988 \r\nL 298.561925 127.999501 \r\nL 299.21463 128.538364 \r\nL 299.337053 128.807795 \r\nL 299.896424 129.077226 \r\nL 300.041072 129.346657 \r\nL 300.515811 129.705899 \r\nL 300.833788 129.97533 \r\nL 300.981404 130.154951 \r\nL 301.23226 130.604003 \r\nL 301.675145 130.873434 \r\nL 301.772783 131.142866 \r\nL 302.153854 131.322486 \r\nL 302.421407 131.591918 \r\nL 302.42829 131.681728 \r\nL 302.819694 131.861349 \r\nL 303.004117 132.13078 \r\nL 303.838833 132.849264 \r\nL 303.928735 133.118695 \r\nL 304.05407 133.208505 \r\nL 304.564929 133.388126 \r\nL 304.612997 133.567747 \r\nL 305.002305 133.837178 \r\nL 305.130776 134.016799 \r\nL 305.441461 134.735282 \r\nL 306.264972 135.184334 \r\nL 306.408767 135.633386 \r\nL 306.791786 135.902818 \r\nL 306.850279 136.082439 \r\nL 307.188273 136.35187 \r\nL 307.360563 136.800922 \r\nL 308.593734 137.519405 \r\nL 308.944973 137.968457 \r\nL 309.241207 138.148078 \r\nL 309.778929 138.59713 \r\nL 309.785348 138.686941 \r\nL 310.226935 138.956372 \r\nL 310.405811 139.315614 \r\nL 310.758238 139.495234 \r\nL 310.781669 139.585045 \r\nL 311.346439 139.944286 \r\nL 312.110176 140.66277 \r\nL 312.204864 140.932201 \r\nL 313.713194 141.920116 \r\nL 313.920992 142.099736 \r\nL 314.303231 142.279357 \r\nL 314.51409 142.81822 \r\nL 314.888038 142.997841 \r\nL 315.254564 143.177461 \r\nL 315.279442 143.267272 \r\nL 315.58894 143.446893 \r\nL 316.179201 144.165376 \r\nL 316.570438 144.524618 \r\nL 316.729111 144.883859 \r\nL 317.231826 144.97367 \r\nL 317.453259 145.243101 \r\nL 318.586287 146.051395 \r\nL 318.692848 146.320826 \r\nL 319.145993 146.680068 \r\nL 319.215321 146.769878 \r\nL 319.433841 146.949499 \r\nL 319.684382 147.398551 \r\nL 319.79842 147.667982 \r\nL 320.172553 147.937414 \r\nL 320.20192 148.027224 \r\nL 320.675954 148.206845 \r\nL 320.822401 148.476276 \r\nL 321.400584 148.835518 \r\nL 321.546772 149.194759 \r\nL 321.980789 149.464191 \r\nL 322.366294 149.733622 \r\nL 322.832759 150.362295 \r\nL 323.132889 150.541916 \r\nL 323.610484 151.080778 \r\nL 323.72122 151.350209 \r\nL 324.127781 151.889072 \r\nL 324.19952 151.978882 \r\nL 326.161551 154.224143 \r\nL 326.559931 154.583384 \r\nL 326.643209 154.852816 \r\nL 326.995043 155.212057 \r\nL 327.099044 155.571299 \r\nL 327.353035 156.020351 \r\nL 327.674815 156.199972 \r\nL 327.916785 156.469403 \r\nL 328.127848 157.008266 \r\nL 328.654179 157.547128 \r\nL 329.060425 158.355422 \r\nL 329.537668 158.624853 \r\nL 329.665935 158.804474 \r\nL 330.345818 160.331251 \r\nL 330.502339 160.600682 \r\nL 330.637025 160.959924 \r\nL 330.657747 161.049734 \r\nL 330.917861 161.229355 \r\nL 331.251922 161.678407 \r\nL 331.552237 161.858028 \r\nL 331.564927 161.947839 \r\nL 331.965477 162.21727 \r\nL 331.987535 162.30708 \r\nL 332.312172 162.576512 \r\nL 332.349349 162.756132 \r\nL 332.835701 163.115374 \r\nL 332.960035 163.384805 \r\nL 333.271259 163.833857 \r\nL 333.27534 163.923668 \r\nL 333.695592 164.103289 \r\nL 333.816846 164.46253 \r\nL 334.029227 164.731962 \r\nL 334.481258 165.809687 \r\nL 334.966163 166.258739 \r\nL 335.079811 166.438359 \r\nL 335.2352 166.887412 \r\nL 335.698214 167.246653 \r\nL 335.712629 167.336464 \r\nL 335.891412 167.516084 \r\nL 335.976472 167.785516 \r\nL 336.229443 168.144757 \r\nL 336.480374 168.593809 \r\nL 336.863578 169.222482 \r\nL 337.042862 169.402103 \r\nL 337.190367 169.761345 \r\nL 337.932918 170.83907 \r\nL 338.065619 171.018691 \r\nL 338.291189 171.198312 \r\nL 338.479897 171.647364 \r\nL 338.58579 171.826984 \r\nL 338.979977 172.186226 \r\nL 339.142862 172.635278 \r\nL 339.503062 173.08433 \r\nL 339.575024 173.353762 \r\nL 340.102876 173.892624 \r\nL 340.378741 174.521297 \r\nL 340.602066 174.790728 \r\nL 340.793502 175.14997 \r\nL 340.995122 175.599022 \r\nL 341.774016 176.856368 \r\nL 342.492765 177.125799 \r\nL 343.0416 178.383145 \r\nL 343.244908 178.562766 \r\nL 343.581474 179.191439 \r\nL 344.391256 179.909922 \r\nL 344.507668 180.179353 \r\nL 345.067597 181.346889 \r\nL 345.068895 181.526509 \r\nL 345.696741 181.975562 \r\nL 345.851704 182.155182 \r\nL 346.180051 182.514424 \r\nL 346.456286 182.963476 \r\nL 347.210432 184.759684 \r\nL 347.508484 184.939305 \r\nL 347.632373 185.747599 \r\nL 347.856515 185.92722 \r\nL 347.972185 186.645703 \r\nL 348.37741 187.364187 \r\nL 348.52267 187.903049 \r\nL 348.792115 188.262291 \r\nL 348.8146 188.441912 \r\nL 349.226096 188.801153 \r\nL 349.262532 188.980774 \r\nL 349.443096 189.250205 \r\nL 349.89201 190.23812 \r\nL 350.250875 190.597362 \r\nL 350.377305 190.866793 \r\nL 350.404316 190.956603 \r\nL 350.651295 191.226034 \r\nL 350.723573 191.495466 \r\nL 350.962946 192.124139 \r\nL 351.262853 192.752812 \r\nL 351.702993 193.022243 \r\nL 351.914501 193.201864 \r\nL 352.1415 193.650916 \r\nL 352.153558 193.830537 \r\nL 352.383043 194.010157 \r\nL 352.756861 194.908262 \r\nL 352.969983 195.087882 \r\nL 353.194477 195.357314 \r\nL 353.359402 195.536934 \r\nL 353.436559 195.716555 \r\nL 353.683946 195.896176 \r\nL 353.928346 196.255418 \r\nL 354.202059 196.973901 \r\nL 354.366334 197.333143 \r\nL 354.475474 197.512764 \r\nL 354.631012 197.782195 \r\nL 354.931791 198.321057 \r\nL 355.369519 199.039541 \r\nL 355.512553 199.398782 \r\nL 355.609467 199.578403 \r\nL 356.110809 200.207076 \r\nL 356.640164 201.554232 \r\nL 356.858703 201.823664 \r\nL 356.949402 202.272716 \r\nL 357.545711 204.068924 \r\nL 357.554207 204.248545 \r\nL 357.710209 204.428166 \r\nL 357.848326 204.967028 \r\nL 358.570601 206.224374 \r\nL 358.664305 206.673426 \r\nL 358.871027 207.212289 \r\nL 360.14605 209.188118 \r\nL 360.361992 209.457549 \r\nL 360.615966 209.996412 \r\nL 360.715069 210.355653 \r\nL 361.041245 210.535274 \r\nL 361.057237 210.804705 \r\nL 361.473222 211.163947 \r\nL 361.661801 211.612999 \r\nL 361.672728 211.702809 \r\nL 361.923361 211.88243 \r\nL 362.053928 212.151862 \r\nL 362.073278 212.241672 \r\nL 362.490488 212.421293 \r\nL 362.510691 212.600914 \r\nL 362.75485 212.870345 \r\nL 363.363068 214.756364 \r\nL 363.363068 214.756364 \r\n\" style=\"fill:none;stroke:#0000ff;stroke-linecap:square;stroke-width:1.5;\"/>\r\n   </g>\r\n   <g id=\"patch_3\">\r\n    <path d=\"M 43.78125 224.64 \r\nL 43.78125 7.2 \r\n\" style=\"fill:none;stroke:#000000;stroke-linecap:square;stroke-linejoin:miter;stroke-width:0.8;\"/>\r\n   </g>\r\n   <g id=\"patch_4\">\r\n    <path d=\"M 378.58125 224.64 \r\nL 378.58125 7.2 \r\n\" style=\"fill:none;stroke:#000000;stroke-linecap:square;stroke-linejoin:miter;stroke-width:0.8;\"/>\r\n   </g>\r\n   <g id=\"patch_5\">\r\n    <path d=\"M 43.78125 224.64 \r\nL 378.58125 224.64 \r\n\" style=\"fill:none;stroke:#000000;stroke-linecap:square;stroke-linejoin:miter;stroke-width:0.8;\"/>\r\n   </g>\r\n   <g id=\"patch_6\">\r\n    <path d=\"M 43.78125 7.2 \r\nL 378.58125 7.2 \r\n\" style=\"fill:none;stroke:#000000;stroke-linecap:square;stroke-linejoin:miter;stroke-width:0.8;\"/>\r\n   </g>\r\n   <g id=\"legend_1\">\r\n    <g id=\"patch_7\">\r\n     <path d=\"M 50.78125 219.64 \r\nL 127.790625 219.64 \r\nQ 129.790625 219.64 129.790625 217.64 \r\nL 129.790625 189.28375 \r\nQ 129.790625 187.28375 127.790625 187.28375 \r\nL 50.78125 187.28375 \r\nQ 48.78125 187.28375 48.78125 189.28375 \r\nL 48.78125 217.64 \r\nQ 48.78125 219.64 50.78125 219.64 \r\nz\r\n\" style=\"fill:#ffffff;opacity:0.8;stroke:#cccccc;stroke-linejoin:miter;\"/>\r\n    </g>\r\n    <g id=\"line2d_15\">\r\n     <path d=\"M 52.78125 195.382188 \r\nL 72.78125 195.382188 \r\n\" style=\"fill:none;stroke:#ff0000;stroke-dasharray:5.55,2.4;stroke-dashoffset:0;stroke-width:1.5;\"/>\r\n    </g>\r\n    <g id=\"line2d_16\"/>\r\n    <g id=\"text_15\">\r\n     <!-- Precision -->\r\n     <defs>\r\n      <path d=\"M 9.421875 54.6875 \r\nL 18.40625 54.6875 \r\nL 18.40625 0 \r\nL 9.421875 0 \r\nz\r\nM 9.421875 75.984375 \r\nL 18.40625 75.984375 \r\nL 18.40625 64.59375 \r\nL 9.421875 64.59375 \r\nz\r\n\" id=\"DejaVuSans-105\"/>\r\n     </defs>\r\n     <g transform=\"translate(80.78125 198.882188)scale(0.1 -0.1)\">\r\n      <use xlink:href=\"#DejaVuSans-80\"/>\r\n      <use x=\"60.287109\" xlink:href=\"#DejaVuSans-114\"/>\r\n      <use x=\"101.369141\" xlink:href=\"#DejaVuSans-101\"/>\r\n      <use x=\"162.892578\" xlink:href=\"#DejaVuSans-99\"/>\r\n      <use x=\"217.873047\" xlink:href=\"#DejaVuSans-105\"/>\r\n      <use x=\"245.65625\" xlink:href=\"#DejaVuSans-115\"/>\r\n      <use x=\"297.755859\" xlink:href=\"#DejaVuSans-105\"/>\r\n      <use x=\"325.539062\" xlink:href=\"#DejaVuSans-111\"/>\r\n      <use x=\"386.720703\" xlink:href=\"#DejaVuSans-110\"/>\r\n     </g>\r\n    </g>\r\n    <g id=\"line2d_17\">\r\n     <path d=\"M 52.78125 210.060313 \r\nL 72.78125 210.060313 \r\n\" style=\"fill:none;stroke:#0000ff;stroke-linecap:square;stroke-width:1.5;\"/>\r\n    </g>\r\n    <g id=\"line2d_18\"/>\r\n    <g id=\"text_16\">\r\n     <!-- Recall -->\r\n     <defs>\r\n      <path d=\"M 44.390625 34.1875 \r\nQ 47.5625 33.109375 50.5625 29.59375 \r\nQ 53.5625 26.078125 56.59375 19.921875 \r\nL 66.609375 0 \r\nL 56 0 \r\nL 46.6875 18.703125 \r\nQ 43.0625 26.03125 39.671875 28.421875 \r\nQ 36.28125 30.8125 30.421875 30.8125 \r\nL 19.671875 30.8125 \r\nL 19.671875 0 \r\nL 9.8125 0 \r\nL 9.8125 72.90625 \r\nL 32.078125 72.90625 \r\nQ 44.578125 72.90625 50.734375 67.671875 \r\nQ 56.890625 62.453125 56.890625 51.90625 \r\nQ 56.890625 45.015625 53.6875 40.46875 \r\nQ 50.484375 35.9375 44.390625 34.1875 \r\nz\r\nM 19.671875 64.796875 \r\nL 19.671875 38.921875 \r\nL 32.078125 38.921875 \r\nQ 39.203125 38.921875 42.84375 42.21875 \r\nQ 46.484375 45.515625 46.484375 51.90625 \r\nQ 46.484375 58.296875 42.84375 61.546875 \r\nQ 39.203125 64.796875 32.078125 64.796875 \r\nz\r\n\" id=\"DejaVuSans-82\"/>\r\n     </defs>\r\n     <g transform=\"translate(80.78125 213.560313)scale(0.1 -0.1)\">\r\n      <use xlink:href=\"#DejaVuSans-82\"/>\r\n      <use x=\"69.419922\" xlink:href=\"#DejaVuSans-101\"/>\r\n      <use x=\"130.943359\" xlink:href=\"#DejaVuSans-99\"/>\r\n      <use x=\"185.923828\" xlink:href=\"#DejaVuSans-97\"/>\r\n      <use x=\"247.203125\" xlink:href=\"#DejaVuSans-108\"/>\r\n      <use x=\"274.986328\" xlink:href=\"#DejaVuSans-108\"/>\r\n     </g>\r\n    </g>\r\n   </g>\r\n  </g>\r\n </g>\r\n <defs>\r\n  <clipPath id=\"pab69d8bb11\">\r\n   <rect height=\"217.44\" width=\"334.8\" x=\"43.78125\" y=\"7.2\"/>\r\n  </clipPath>\r\n </defs>\r\n</svg>\r\n",
      "image/png": "[encoded data removed]"
     },
     "metadata": {
      "needs_background": "light"
     }
    }
   ],
   "source": [
    "#Threshold-PR curve\n",
    "train_loss, y_true, y_prob = trainer.eval_step(dataloader=train_dataloader)\n",
    "precisions, recalls, thresholds = precision_recall_curve(y_true.ravel(), y_prob.ravel())\n",
    "plt.plot(thresholds, precisions[:-1], \"r--\", label=\"Precision\")\n",
    "plt.plot(thresholds, recalls[:-1], \"b-\", label=\"Recall\")\n",
    "plt.ylabel(\"Performance\")\n",
    "plt.xlabel(\"Threshold\")\n",
    "plt.legend(loc='best')"
   ]
  },
  {
   "cell_type": "code",
   "execution_count": 249,
   "metadata": {},
   "outputs": [],
   "source": [
    "# Determining the best threshold\n",
    "def find_best_threshold(y_true, y_prob):\n",
    "    \"\"\"Find the best threshold for maximum F1.\"\"\"\n",
    "    precisions, recalls, thresholds = precision_recall_curve(y_true, y_prob)\n",
    "    f1s = (2 * precisions * recalls) / (precisions + recalls)\n",
    "    return thresholds[np.argmax(f1s)]"
   ]
  },
  {
   "cell_type": "code",
   "execution_count": 250,
   "metadata": {},
   "outputs": [
    {
     "output_type": "execute_result",
     "data": {
      "text/plain": [
       "0.25544426"
      ]
     },
     "metadata": {},
     "execution_count": 250
    }
   ],
   "source": [
    "# Best threshold for f1\n",
    "threshold = find_best_threshold(y_true.ravel(), y_prob.ravel())\n",
    "threshold"
   ]
  },
  {
   "cell_type": "code",
   "execution_count": 251,
   "metadata": {},
   "outputs": [],
   "source": [
    "# Determine predictions using threshold\n",
    "test_loss, y_true, y_prob = trainer.eval_step(dataloader=test_dataloader)\n",
    "y_pred = np.array([np.where(prob >= threshold, 1, 0) for prob in y_prob])"
   ]
  },
  {
   "cell_type": "code",
   "execution_count": 252,
   "metadata": {},
   "outputs": [
    {
     "output_type": "stream",
     "name": "stdout",
     "text": [
      "{\n  \"precision\": 0.8382002761132143,\n  \"recall\": 0.4829912821168979,\n  \"f1\": 0.5778213488459711,\n  \"num_samples\": 480.0\n}\n"
     ]
    }
   ],
   "source": [
    "# Evaluate\n",
    "performance = get_performance(\n",
    "    y_true=y_test, y_pred=y_pred, classes=label_encoder.classes)\n",
    "print (json.dumps(performance['overall'], indent=2))"
   ]
  },
  {
   "cell_type": "code",
   "execution_count": 253,
   "metadata": {},
   "outputs": [
    {
     "output_type": "display_data",
     "data": {
      "text/plain": "interactive(children=(Dropdown(description='tag', index=3, options=('interpretability', 'segmentation', 'produ…",
      "application/vnd.jupyter.widget-view+json": {
       "version_major": 2,
       "version_minor": 0,
       "model_id": "e10ffda7cf934f11a2faf29e317a6c60"
      }
     },
     "metadata": {}
    }
   ],
   "source": [
    "@widgets.interact(tag=list(sorted_tags_by_f1.keys()))\n",
    "def display_tag_analysis(tag='transformers'):\n",
    "    # Performance\n",
    "    print (json.dumps(performance[\"class\"][tag], indent=2))\n",
    "    \n",
    "    # TP, FP, FN samples\n",
    "    index = label_encoder.class_to_index[tag]\n",
    "    tp, fp, fn = [], [], []\n",
    "    for i in range(len(y_test)):\n",
    "        true = y_test[i][index]\n",
    "        pred = y_pred[i][index]\n",
    "        if true and pred:\n",
    "            tp.append(i)\n",
    "        elif not true and pred:\n",
    "            fp.append(i)\n",
    "        elif true and not pred:\n",
    "            fn.append(i)\n",
    "            \n",
    "    # Samples\n",
    "    num_samples = 3\n",
    "    if len(tp): \n",
    "        print (\"\\n=== True positives ===\\n\")\n",
    "        for i in tp[:num_samples]:        \n",
    "            print (f\"  {X_test_raw[i]}\")\n",
    "            print (f\"    true: {label_encoder.decode([y_test[i]])[0]}\")\n",
    "            print (f\"    pred: {label_encoder.decode([y_pred[i]])[0]}\\n\")\n",
    "    if len(fp): \n",
    "        print (\"=== False positives ===\\n\")\n",
    "        for i in fp[:num_samples]:        \n",
    "            print (f\"  {X_test_raw[i]}\")\n",
    "            print (f\"    true: {label_encoder.decode([y_test[i]])[0]}\")\n",
    "            print (f\"    pred: {label_encoder.decode([y_pred[i]])[0]}\\n\")\n",
    "    if len(fn): \n",
    "        print (\"=== False negatives ===\\n\")\n",
    "        for i in fn[:num_samples]:        \n",
    "            print (f\"  {X_test_raw[i]}\") \n",
    "            print (f\"    true: {label_encoder.decode([y_test[i]])[0]}\")\n",
    "            print (f\"    pred: {label_encoder.decode([y_pred[i]])[0]}\\n\")"
   ]
  },
  {
   "cell_type": "code",
   "execution_count": 254,
   "metadata": {},
   "outputs": [],
   "source": [
    "# Save artifacts\n",
    "dir = Path(\"cnn\")\n",
    "dir.mkdir(parents=True, exist_ok=True)\n",
    "tokenizer.save(fp=Path(dir, 'tokenzier.json'))\n",
    "label_encoder.save(fp=Path(dir, 'label_encoder.json'))\n",
    "torch.save(best_model.state_dict(), Path(dir, 'model.pt'))\n",
    "with open(Path(dir, 'performance.json'), \"w\") as fp:\n",
    "    json.dump(performance, indent=2, sort_keys=False, fp=fp)"
   ]
  },
  {
   "source": [
    "### Inference"
   ],
   "cell_type": "markdown",
   "metadata": {}
  },
  {
   "cell_type": "code",
   "execution_count": 255,
   "metadata": {},
   "outputs": [
    {
     "output_type": "execute_result",
     "data": {
      "text/plain": [
       "CNN(\n",
       "  (embeddings): Embedding(136, 128, padding_idx=0)\n",
       "  (conv): ModuleList(\n",
       "    (0): Conv1d(128, 128, kernel_size=(1,), stride=(1,))\n",
       "    (1): Conv1d(128, 128, kernel_size=(2,), stride=(1,))\n",
       "    (2): Conv1d(128, 128, kernel_size=(3,), stride=(1,))\n",
       "    (3): Conv1d(128, 128, kernel_size=(4,), stride=(1,))\n",
       "    (4): Conv1d(128, 128, kernel_size=(5,), stride=(1,))\n",
       "    (5): Conv1d(128, 128, kernel_size=(6,), stride=(1,))\n",
       "    (6): Conv1d(128, 128, kernel_size=(7,), stride=(1,))\n",
       "    (7): Conv1d(128, 128, kernel_size=(8,), stride=(1,))\n",
       "    (8): Conv1d(128, 128, kernel_size=(9,), stride=(1,))\n",
       "    (9): Conv1d(128, 128, kernel_size=(10,), stride=(1,))\n",
       "  )\n",
       "  (dropout): Dropout(p=0.5, inplace=False)\n",
       "  (fc1): Linear(in_features=1280, out_features=128, bias=True)\n",
       "  (fc2): Linear(in_features=128, out_features=35, bias=True)\n",
       ")"
      ]
     },
     "metadata": {},
     "execution_count": 255
    }
   ],
   "source": [
    "# Load artifacts\n",
    "device = torch.device(\"cpu\")\n",
    "tokenizer = Tokenizer.load(fp=Path(dir, 'tokenzier.json'))\n",
    "label_encoder = LabelEncoder.load(fp=Path(dir, 'label_encoder.json'))\n",
    "model = CNN(\n",
    "    embedding_dim=embedding_dim, vocab_size=vocab_size,\n",
    "    num_filters=num_filters, filter_sizes=filter_sizes,\n",
    "    hidden_dim=hidden_dim, dropout_p=dropout_p,\n",
    "    num_classes=num_classes)\n",
    "model.load_state_dict(torch.load(Path(dir, 'model.pt'), map_location=device))\n",
    "model.to(device)"
   ]
  },
  {
   "cell_type": "code",
   "execution_count": 256,
   "metadata": {},
   "outputs": [],
   "source": [
    "# Initialize trainer\n",
    "trainer = Trainer(model=model, device=device)"
   ]
  },
  {
   "cell_type": "code",
   "execution_count": 257,
   "metadata": {},
   "outputs": [],
   "source": [
    "# Dataloader\n",
    "text = \"Transfer learning with BERT for self-supervised learning\"\n",
    "X = np.array(tokenizer.texts_to_sequences([preprocess(text)]))\n",
    "y_filler = label_encoder.encode([np.array([label_encoder.classes[0]]*len(X))])\n",
    "dataset = CNNTextDataset(\n",
    "    X=X, y=y_filler, max_filter_size=max(filter_sizes))\n",
    "dataloader = dataset.create_dataloader(\n",
    "    batch_size=batch_size)"
   ]
  },
  {
   "cell_type": "code",
   "execution_count": 258,
   "metadata": {},
   "outputs": [
    {
     "output_type": "execute_result",
     "data": {
      "text/plain": [
       "[['self-supervised-learning', 'transfer-learning']]"
      ]
     },
     "metadata": {},
     "execution_count": 258
    }
   ],
   "source": [
    "# Inference\n",
    "y_prob = trainer.predict_step(dataloader)\n",
    "y_pred = np.array([np.where(prob >= threshold, 1, 0) for prob in y_prob])\n",
    "label_encoder.decode(y_pred)"
   ]
  },
  {
   "source": [
    "limitations: \n",
    "representation: embeddings are not contextual."
   ],
   "cell_type": "markdown",
   "metadata": {}
  },
  {
   "source": [
    "# RNN w/Embeddings"
   ],
   "cell_type": "markdown",
   "metadata": {}
  },
  {
   "cell_type": "code",
   "execution_count": 260,
   "metadata": {},
   "outputs": [],
   "source": [
    "set_seed()"
   ]
  },
  {
   "cell_type": "code",
   "execution_count": 261,
   "metadata": {},
   "outputs": [],
   "source": [
    "# Get data splits\n",
    "preprocessed_df = df.copy()\n",
    "preprocessed_df.text = preprocessed_df.text.apply(preprocess, lower=True)\n",
    "X_train, X_val, X_test, y_train, y_val, y_test, label_encoder = get_data_splits(preprocessed_df)\n",
    "X_test_raw = X_test"
   ]
  },
  {
   "cell_type": "code",
   "execution_count": 262,
   "metadata": {},
   "outputs": [
    {
     "output_type": "stream",
     "name": "stdout",
     "text": [
      "cuda\n"
     ]
    }
   ],
   "source": [
    "# Set device\n",
    "cuda = True\n",
    "device = torch.device('cuda' if (\n",
    "    torch.cuda.is_available() and cuda) else 'cpu')\n",
    "torch.set_default_tensor_type('torch.FloatTensor')\n",
    "if device.type == 'cuda':\n",
    "    torch.set_default_tensor_type('torch.cuda.FloatTensor')\n",
    "print (device)"
   ]
  },
  {
   "cell_type": "code",
   "execution_count": 263,
   "metadata": {},
   "outputs": [
    {
     "output_type": "stream",
     "name": "stdout",
     "text": [
      "X tokenizer:\n  <Tokenizer(num_tokens=136)>\n"
     ]
    }
   ],
   "source": [
    "# Tokenize\n",
    "char_level = True\n",
    "tokenizer = Tokenizer(char_level=char_level)\n",
    "tokenizer.fit_on_texts(texts=X_train)\n",
    "vocab_size = len(tokenizer)\n",
    "print (\"X tokenizer:\\n\"\n",
    "    f\"  {tokenizer}\")"
   ]
  },
  {
   "cell_type": "code",
   "execution_count": 264,
   "metadata": {},
   "outputs": [
    {
     "output_type": "execute_result",
     "data": {
      "text/plain": [
       "{'<PAD>': 0,\n",
       " '<UNK>': 1,\n",
       " ' ': 2,\n",
       " 'e': 3,\n",
       " 'n': 4,\n",
       " 'i': 5,\n",
       " 't': 6,\n",
       " 'a': 7,\n",
       " 'o': 8,\n",
       " 'r': 9,\n",
       " 's': 10,\n",
       " 'l': 11,\n",
       " 'c': 12,\n",
       " 'd': 13,\n",
       " 'g': 14,\n",
       " 'h': 15,\n",
       " 'm': 16,\n",
       " 'u': 17,\n",
       " 'p': 18,\n",
       " 'f': 19,\n",
       " 'y': 20,\n",
       " 'w': 21,\n",
       " 'b': 22,\n",
       " 'T': 23,\n",
       " 'v': 24,\n",
       " '.': 25,\n",
       " 'A': 26,\n",
       " '-': 27,\n",
       " 'L': 28,\n",
       " 'k': 29,\n",
       " 'P': 30,\n",
       " 'S': 31,\n",
       " 'N': 32,\n",
       " 'C': 33,\n",
       " 'M': 34,\n",
       " 'D': 35,\n",
       " 'I': 36,\n",
       " ',': 37,\n",
       " 'x': 38,\n",
       " 'R': 39,\n",
       " 'F': 40,\n",
       " 'G': 41,\n",
       " 'E': 42,\n",
       " 'B': 43,\n",
       " ':': 44,\n",
       " '2': 45,\n",
       " 'O': 46,\n",
       " 'z': 47,\n",
       " 'H': 48,\n",
       " 'W': 49,\n",
       " '0': 50,\n",
       " 'V': 51,\n",
       " '(': 52,\n",
       " ')': 53,\n",
       " 'j': 54,\n",
       " 'U': 55,\n",
       " 'K': 56,\n",
       " 'q': 57,\n",
       " '1': 58,\n",
       " '\"': 59,\n",
       " 'Q': 60,\n",
       " '\\r': 61,\n",
       " '\\n': 62,\n",
       " '/': 63,\n",
       " '&': 64,\n",
       " 'Y': 65,\n",
       " '3': 66,\n",
       " '+': 67,\n",
       " \"'\": 68,\n",
       " '?': 69,\n",
       " 'J': 70,\n",
       " '5': 71,\n",
       " '9': 72,\n",
       " 'X': 73,\n",
       " '8': 74,\n",
       " '6': 75,\n",
       " '4': 76,\n",
       " '’': 77,\n",
       " '!': 78,\n",
       " 'Z': 79,\n",
       " '—': 80,\n",
       " '7': 81,\n",
       " '“': 82,\n",
       " '”': 83,\n",
       " '|': 84,\n",
       " '🤗': 85,\n",
       " '️': 86,\n",
       " '%': 87,\n",
       " '=': 88,\n",
       " '–': 89,\n",
       " '💻': 90,\n",
       " '❤': 91,\n",
       " '_': 92,\n",
       " '🎨': 93,\n",
       " '>': 94,\n",
       " '🌊': 95,\n",
       " '^': 96,\n",
       " '🚗': 97,\n",
       " '🕶': 98,\n",
       " '<': 99,\n",
       " '\\u2060': 100,\n",
       " '⚡': 101,\n",
       " ';': 102,\n",
       " '@': 103,\n",
       " '#': 104,\n",
       " '🏥': 105,\n",
       " '💤': 106,\n",
       " '✨': 107,\n",
       " '😎': 108,\n",
       " '🔍': 109,\n",
       " '[': 110,\n",
       " ']': 111,\n",
       " '🦠': 112,\n",
       " '🍼': 113,\n",
       " '\\u2009': 114,\n",
       " '基': 115,\n",
       " '于': 116,\n",
       " '📈': 117,\n",
       " '⭐': 118,\n",
       " '🔥': 119,\n",
       " '*': 120,\n",
       " '…': 121,\n",
       " '🎐': 122,\n",
       " 'ç': 123,\n",
       " '🦄': 124,\n",
       " '✏': 125,\n",
       " '✂': 126,\n",
       " '🏡': 127,\n",
       " '𝘢': 128,\n",
       " '𝘯': 129,\n",
       " '𝘺': 130,\n",
       " '🐳': 131,\n",
       " '🤖': 132,\n",
       " '💬': 133,\n",
       " '🎥': 134,\n",
       " '👀': 135}"
      ]
     },
     "metadata": {},
     "execution_count": 264
    }
   ],
   "source": [
    "tokenizer.token_to_index"
   ]
  },
  {
   "cell_type": "code",
   "execution_count": 265,
   "metadata": {},
   "outputs": [
    {
     "output_type": "stream",
     "name": "stdout",
     "text": [
      "Text to indices:\n  (preprocessed) → Albumentations Fast image augmentation library and easy to use wrapper around other libraries.\n  (tokenized) → [26 11 22 17 16  3  4  6  7  6  5  8  4 10  2 40  7 10  6  2  5 16  7 14\n  3  2  7 17 14 16  3  4  6  7  6  5  8  4  2 11  5 22  9  7  9 20  2  7\n  4 13  2  3  7 10 20  2  6  8  2 17 10  3  2 21  9  7 18 18  3  9  2  7\n  9  8 17  4 13  2  8  6 15  3  9  2 11  5 22  9  7  9  5  3 10 25]\n"
     ]
    }
   ],
   "source": [
    "# Convert texts to sequences of indices\n",
    "X_train = np.array(tokenizer.texts_to_sequences(X_train))\n",
    "X_val = np.array(tokenizer.texts_to_sequences(X_val))\n",
    "X_test = np.array(tokenizer.texts_to_sequences(X_test))\n",
    "preprocessed_text = tokenizer.sequences_to_texts([X_train[0]])[0]\n",
    "print (\"Text to indices:\\n\"\n",
    "    f\"  (preprocessed) → {preprocessed_text}\\n\"\n",
    "    f\"  (tokenized) → {X_train[0]}\")"
   ]
  },
  {
   "cell_type": "code",
   "execution_count": 266,
   "metadata": {},
   "outputs": [
    {
     "output_type": "stream",
     "name": "stdout",
     "text": [
      "class counts:\n  [120  41 388 106  41  75  34  73  51  78  64  51  55  93  51 429  33  69\n  30  51 258  32  49  59  57  60  48  40 213  40  34  46 196  39  39]\nclass weights:\n  {0: 0.008333333333333333, 1: 0.024390243902439025, 2: 0.002577319587628866, 3: 0.009433962264150943, 4: 0.024390243902439025, 5: 0.013333333333333334, 6: 0.029411764705882353, 7: 0.0136986301369863, 8: 0.0196078431372549, 9: 0.01282051282051282, 10: 0.015625, 11: 0.0196078431372549, 12: 0.01818181818181818, 13: 0.010752688172043012, 14: 0.0196078431372549, 15: 0.002331002331002331, 16: 0.030303030303030304, 17: 0.014492753623188406, 18: 0.03333333333333333, 19: 0.0196078431372549, 20: 0.003875968992248062, 21: 0.03125, 22: 0.02040816326530612, 23: 0.01694915254237288, 24: 0.017543859649122806, 25: 0.016666666666666666, 26: 0.020833333333333332, 27: 0.025, 28: 0.004694835680751174, 29: 0.025, 30: 0.029411764705882353, 31: 0.021739130434782608, 32: 0.00510204081632653, 33: 0.02564102564102564, 34: 0.02564102564102564}\n"
     ]
    }
   ],
   "source": [
    "# Class weights\n",
    "counts = np.bincount([label_encoder.class_to_index[class_] for class_ in all_tags])\n",
    "class_weights = {i: 1.0/count for i, count in enumerate(counts)}\n",
    "print (\"class counts:\\n\"\n",
    "    f\"  {counts}\\n\"\n",
    "    \"class weights:\\n\"\n",
    "    f\"  {class_weights}\")"
   ]
  },
  {
   "cell_type": "code",
   "execution_count": 267,
   "metadata": {},
   "outputs": [],
   "source": [
    "class RNNTextDataset(torch.utils.data.Dataset):\n",
    "    def __init__(self, X, y):\n",
    "        self.X = X\n",
    "        self.y = y\n",
    "\n",
    "    def __len__(self):\n",
    "        return len(self.y)\n",
    "\n",
    "    def __str__(self):\n",
    "        return f\"<Dataset(N={len(self)})>\"\n",
    "\n",
    "    def __getitem__(self, index):\n",
    "        X = self.X[index]\n",
    "        y = self.y[index]\n",
    "        return [X, len(X), y]\n",
    "\n",
    "    def collate_fn(self, batch):\n",
    "        \"\"\"Processing on a batch.\"\"\"\n",
    "        # Get inputs\n",
    "        batch = np.array(batch, dtype=object)\n",
    "        X = batch[:, 0]\n",
    "        seq_lens = batch[:, 1]\n",
    "        y = np.stack(batch[:, 2], axis=0)\n",
    "\n",
    "        # Pad inputs\n",
    "        X = pad_sequences(sequences=X)\n",
    "\n",
    "        # Cast\n",
    "        X = torch.LongTensor(X.astype(np.int32))\n",
    "        seq_lens = torch.LongTensor(seq_lens.astype(np.int32))\n",
    "        y = torch.FloatTensor(y.astype(np.int32))\n",
    "\n",
    "        return X, seq_lens, y\n",
    "\n",
    "    def create_dataloader(self, batch_size, shuffle=False, drop_last=False):\n",
    "        return torch.utils.data.DataLoader(\n",
    "            dataset=self,\n",
    "            batch_size=batch_size,\n",
    "            collate_fn=self.collate_fn,\n",
    "            shuffle=shuffle,\n",
    "            drop_last=drop_last,\n",
    "            pin_memory=True)"
   ]
  },
  {
   "cell_type": "code",
   "execution_count": 268,
   "metadata": {},
   "outputs": [
    {
     "output_type": "stream",
     "name": "stdout",
     "text": [
      "Data splits:\n  Train dataset:<Dataset(N=1000)>\n  Val dataset: <Dataset(N=227)>\n  Test dataset: <Dataset(N=217)>\nSample point:\n  X: [26 11 22 17 16  3  4  6  7  6  5  8  4 10  2 40  7 10  6  2  5 16  7 14\n  3  2  7 17 14 16  3  4  6  7  6  5  8  4  2 11  5 22  9  7  9 20  2  7\n  4 13  2  3  7 10 20  2  6  8  2 17 10  3  2 21  9  7 18 18  3  9  2  7\n  9  8 17  4 13  2  8  6 15  3  9  2 11  5 22  9  7  9  5  3 10 25]\n  seq_len: 94\n  y: [0 0 1 0 1 0 0 0 0 0 0 0 0 0 0 0 0 0 0 0 0 0 0 0 0 0 0 0 0 0 0 0 0 0 0]\n"
     ]
    }
   ],
   "source": [
    "# Create datasets\n",
    "batch_size = 128\n",
    "train_dataset = RNNTextDataset(\n",
    "    X=X_train, y=y_train)\n",
    "val_dataset = RNNTextDataset(\n",
    "    X=X_val, y=y_val)\n",
    "test_dataset = RNNTextDataset(\n",
    "    X=X_test, y=y_test)\n",
    "print (\"Data splits:\\n\"\n",
    "    f\"  Train dataset:{train_dataset.__str__()}\\n\"\n",
    "    f\"  Val dataset: {val_dataset.__str__()}\\n\"\n",
    "    f\"  Test dataset: {test_dataset.__str__()}\\n\"\n",
    "    \"Sample point:\\n\"\n",
    "    f\"  X: {train_dataset[0][0]}\\n\"\n",
    "    f\"  seq_len: {train_dataset[0][1]}\\n\"\n",
    "    f\"  y: {train_dataset[0][2]}\")"
   ]
  },
  {
   "cell_type": "code",
   "execution_count": 269,
   "metadata": {},
   "outputs": [
    {
     "output_type": "stream",
     "name": "stdout",
     "text": [
      "torch.Size([128, 226])\nSample batch:\n  X: [128, 226]\n  seq_lens: [128]\n  y: [128, 35]\n"
     ]
    }
   ],
   "source": [
    "# Create dataloaders\n",
    "train_dataloader = train_dataset.create_dataloader(\n",
    "    batch_size=batch_size)\n",
    "val_dataloader = val_dataset.create_dataloader(\n",
    "    batch_size=batch_size)\n",
    "test_dataloader = test_dataset.create_dataloader(\n",
    "    batch_size=batch_size)\n",
    "batch_X, batch_seq_lens, batch_y = next(iter(train_dataloader))\n",
    "print (batch_X.shape)\n",
    "print (\"Sample batch:\\n\"\n",
    "    f\"  X: {list(batch_X.size())}\\n\"\n",
    "    f\"  seq_lens: {list(batch_seq_lens.size())}\\n\"\n",
    "    f\"  y: {list(batch_y.size())}\")"
   ]
  },
  {
   "cell_type": "code",
   "execution_count": 271,
   "metadata": {},
   "outputs": [],
   "source": [
    "# Arguments\n",
    "embedding_dim = 128\n",
    "rnn_hidden_dim = 128\n",
    "hidden_dim = 128\n",
    "dropout_p =0.5 "
   ]
  },
  {
   "cell_type": "code",
   "execution_count": 272,
   "metadata": {},
   "outputs": [],
   "source": [
    "def gather_last_relevant_hidden(hiddens, seq_lens):\n",
    "    \"\"\"Extract and collect the last relevant \n",
    "    hidden state based on the sequence length.\"\"\"\n",
    "    seq_lens = seq_lens.long().detach().cpu().numpy() - 1\n",
    "    out = []\n",
    "    for batch_index, column_index in enumerate(seq_lens):\n",
    "        out.append(hiddens[batch_index, column_index])\n",
    "    return torch.stack(out)"
   ]
  },
  {
   "cell_type": "code",
   "execution_count": 273,
   "metadata": {},
   "outputs": [],
   "source": [
    "class RNN(nn.Module):\n",
    "    def __init__(self, embedding_dim, vocab_size, rnn_hidden_dim,\n",
    "                 hidden_dim, dropout_p, num_classes, padding_idx=0):\n",
    "        super(RNN, self).__init__()\n",
    "        \n",
    "        # Initialize embeddings\n",
    "        self.embeddings = nn.Embedding(embedding_dim=embedding_dim,\n",
    "                                       num_embeddings=vocab_size,\n",
    "                                       padding_idx=padding_idx)\n",
    "        \n",
    "        # RNN\n",
    "        self.rnn = nn.GRU(embedding_dim, rnn_hidden_dim, \n",
    "                          batch_first=True, bidirectional=True)\n",
    "     \n",
    "        # FC weights\n",
    "        self.dropout = nn.Dropout(dropout_p)\n",
    "        self.fc1 = nn.Linear(rnn_hidden_dim*2, hidden_dim)\n",
    "        self.fc2 = nn.Linear(hidden_dim, num_classes)\n",
    "\n",
    "    def forward(self, inputs):\n",
    "        # Inputs\n",
    "        x_in, seq_lens = inputs\n",
    "\n",
    "        # Embed\n",
    "        x_in = self.embeddings(x_in)\n",
    "            \n",
    "        # Rnn outputs\n",
    "        out, h_n = self.rnn(x_in)\n",
    "        z = gather_last_relevant_hidden(hiddens=out, seq_lens=seq_lens)\n",
    "\n",
    "        # FC layers\n",
    "        z = self.fc1(z)\n",
    "        z = self.dropout(z)\n",
    "        z = self.fc2(z)\n",
    "\n",
    "        return z"
   ]
  },
  {
   "cell_type": "code",
   "execution_count": 274,
   "metadata": {},
   "outputs": [
    {
     "output_type": "stream",
     "name": "stdout",
     "text": [
      "<bound method Module.named_parameters of RNN(\n  (embeddings): Embedding(136, 128, padding_idx=0)\n  (rnn): GRU(128, 128, batch_first=True, bidirectional=True)\n  (dropout): Dropout(p=0.5, inplace=False)\n  (fc1): Linear(in_features=256, out_features=128, bias=True)\n  (fc2): Linear(in_features=128, out_features=35, bias=True)\n)>\n"
     ]
    }
   ],
   "source": [
    "# Initialize model\n",
    "model = RNN(\n",
    "    embedding_dim=embedding_dim, vocab_size=vocab_size,\n",
    "    rnn_hidden_dim=rnn_hidden_dim, hidden_dim=hidden_dim, \n",
    "    dropout_p=dropout_p, num_classes=num_classes)\n",
    "model = model.to(device)\n",
    "print (model.named_parameters)"
   ]
  },
  {
   "source": [
    "Training"
   ],
   "cell_type": "markdown",
   "metadata": {}
  },
  {
   "cell_type": "code",
   "execution_count": 275,
   "metadata": {},
   "outputs": [],
   "source": [
    "# Arguments\n",
    "lr = 2e-3\n",
    "num_epochs = 200\n",
    "patience = 10"
   ]
  },
  {
   "cell_type": "code",
   "execution_count": 276,
   "metadata": {},
   "outputs": [],
   "source": [
    "# Define loss\n",
    "class_weights_tensor = torch.Tensor(np.array(list(class_weights.values())))\n",
    "loss_fn = nn.BCEWithLogitsLoss(weight=class_weights_tensor)"
   ]
  },
  {
   "cell_type": "code",
   "execution_count": 277,
   "metadata": {},
   "outputs": [],
   "source": [
    "# Define optimizer & scheduler\n",
    "optimizer = torch.optim.Adam(model.parameters(), lr=lr)\n",
    "scheduler = torch.optim.lr_scheduler.ReduceLROnPlateau(\n",
    "    optimizer, mode='min', factor=0.1, patience=5)"
   ]
  },
  {
   "cell_type": "code",
   "execution_count": 278,
   "metadata": {},
   "outputs": [],
   "source": [
    "# Trainer module\n",
    "trainer = Trainer(\n",
    "    model=model, device=device, loss_fn=loss_fn, \n",
    "    optimizer=optimizer, scheduler=scheduler)"
   ]
  },
  {
   "cell_type": "code",
   "execution_count": 279,
   "metadata": {},
   "outputs": [
    {
     "output_type": "stream",
     "name": "stdout",
     "text": [
      "Epoch: 1 | train_loss: 0.00776, val_loss: 0.00330, lr: 2.00E-03, _patience: 10\n",
      "Epoch: 2 | train_loss: 0.00406, val_loss: 0.00313, lr: 2.00E-03, _patience: 10\n",
      "Epoch: 3 | train_loss: 0.00344, val_loss: 0.00276, lr: 2.00E-03, _patience: 10\n",
      "Epoch: 4 | train_loss: 0.00311, val_loss: 0.00272, lr: 2.00E-03, _patience: 10\n",
      "Epoch: 5 | train_loss: 0.00302, val_loss: 0.00267, lr: 2.00E-03, _patience: 10\n",
      "Epoch: 6 | train_loss: 0.00296, val_loss: 0.00265, lr: 2.00E-03, _patience: 10\n",
      "Epoch: 7 | train_loss: 0.00291, val_loss: 0.00262, lr: 2.00E-03, _patience: 10\n",
      "Epoch: 8 | train_loss: 0.00287, val_loss: 0.00261, lr: 2.00E-03, _patience: 10\n",
      "Epoch: 9 | train_loss: 0.00285, val_loss: 0.00260, lr: 2.00E-03, _patience: 10\n",
      "Epoch: 10 | train_loss: 0.00282, val_loss: 0.00259, lr: 2.00E-03, _patience: 10\n",
      "Epoch: 11 | train_loss: 0.00279, val_loss: 0.00258, lr: 2.00E-03, _patience: 10\n",
      "Epoch: 12 | train_loss: 0.00279, val_loss: 0.00257, lr: 2.00E-03, _patience: 10\n",
      "Epoch: 13 | train_loss: 0.00274, val_loss: 0.00256, lr: 2.00E-03, _patience: 10\n",
      "Epoch: 14 | train_loss: 0.00271, val_loss: 0.00255, lr: 2.00E-03, _patience: 10\n",
      "Epoch: 15 | train_loss: 0.00270, val_loss: 0.00255, lr: 2.00E-03, _patience: 10\n",
      "Epoch: 16 | train_loss: 0.00267, val_loss: 0.00254, lr: 2.00E-03, _patience: 10\n",
      "Epoch: 17 | train_loss: 0.00264, val_loss: 0.00254, lr: 2.00E-03, _patience: 10\n",
      "Epoch: 18 | train_loss: 0.00263, val_loss: 0.00255, lr: 2.00E-03, _patience: 9\n",
      "Epoch: 19 | train_loss: 0.00259, val_loss: 0.00254, lr: 2.00E-03, _patience: 8\n",
      "Epoch: 20 | train_loss: 0.00255, val_loss: 0.00254, lr: 2.00E-03, _patience: 10\n",
      "Epoch: 21 | train_loss: 0.00255, val_loss: 0.00253, lr: 2.00E-03, _patience: 10\n",
      "Epoch: 22 | train_loss: 0.00253, val_loss: 0.00252, lr: 2.00E-03, _patience: 10\n",
      "Epoch: 23 | train_loss: 0.00247, val_loss: 0.00253, lr: 2.00E-03, _patience: 9\n",
      "Epoch: 24 | train_loss: 0.00242, val_loss: 0.00252, lr: 2.00E-03, _patience: 10\n",
      "Epoch: 25 | train_loss: 0.00239, val_loss: 0.00251, lr: 2.00E-03, _patience: 10\n",
      "Epoch: 26 | train_loss: 0.00236, val_loss: 0.00250, lr: 2.00E-03, _patience: 10\n",
      "Epoch: 27 | train_loss: 0.00232, val_loss: 0.00250, lr: 2.00E-03, _patience: 10\n",
      "Epoch: 28 | train_loss: 0.00226, val_loss: 0.00252, lr: 2.00E-03, _patience: 9\n",
      "Epoch: 29 | train_loss: 0.00224, val_loss: 0.00252, lr: 2.00E-03, _patience: 8\n",
      "Epoch: 30 | train_loss: 0.00217, val_loss: 0.00251, lr: 2.00E-03, _patience: 7\n",
      "Epoch: 31 | train_loss: 0.00211, val_loss: 0.00250, lr: 2.00E-03, _patience: 6\n",
      "Epoch: 32 | train_loss: 0.00206, val_loss: 0.00249, lr: 2.00E-03, _patience: 10\n",
      "Epoch: 33 | train_loss: 0.00201, val_loss: 0.00247, lr: 2.00E-03, _patience: 10\n",
      "Epoch: 34 | train_loss: 0.00196, val_loss: 0.00249, lr: 2.00E-03, _patience: 9\n",
      "Epoch: 35 | train_loss: 0.00189, val_loss: 0.00250, lr: 2.00E-03, _patience: 8\n",
      "Epoch: 36 | train_loss: 0.00183, val_loss: 0.00250, lr: 2.00E-03, _patience: 7\n",
      "Epoch: 37 | train_loss: 0.00178, val_loss: 0.00256, lr: 2.00E-03, _patience: 6\n",
      "Epoch: 38 | train_loss: 0.00173, val_loss: 0.00256, lr: 2.00E-03, _patience: 5\n",
      "Epoch: 39 | train_loss: 0.00167, val_loss: 0.00255, lr: 2.00E-04, _patience: 4\n",
      "Epoch: 40 | train_loss: 0.00163, val_loss: 0.00257, lr: 2.00E-04, _patience: 3\n",
      "Epoch: 41 | train_loss: 0.00158, val_loss: 0.00256, lr: 2.00E-04, _patience: 2\n",
      "Epoch: 42 | train_loss: 0.00158, val_loss: 0.00255, lr: 2.00E-04, _patience: 1\n",
      "Stopping early!\n"
     ]
    }
   ],
   "source": [
    "# Train\n",
    "best_model = trainer.train(\n",
    "    num_epochs, patience, train_dataloader, val_dataloader)"
   ]
  },
  {
   "source": [
    "Evaluation"
   ],
   "cell_type": "markdown",
   "metadata": {}
  },
  {
   "cell_type": "code",
   "execution_count": 280,
   "metadata": {},
   "outputs": [
    {
     "output_type": "execute_result",
     "data": {
      "text/plain": [
       "<matplotlib.legend.Legend at 0x2ca0671e348>"
      ]
     },
     "metadata": {},
     "execution_count": 280
    },
    {
     "output_type": "display_data",
     "data": {
      "text/plain": "<Figure size 432x288 with 1 Axes>",
      "image/svg+xml": "<?xml version=\"1.0\" encoding=\"utf-8\" standalone=\"no\"?>\r\n<!DOCTYPE svg PUBLIC \"-//W3C//DTD SVG 1.1//EN\"\r\n  \"http://www.w3.org/Graphics/SVG/1.1/DTD/svg11.dtd\">\r\n<!-- Created with matplotlib (https://matplotlib.org/) -->\r\n<svg height=\"262.19625pt\" version=\"1.1\" viewBox=\"0 0 385.78125 262.19625\" width=\"385.78125pt\" xmlns=\"http://www.w3.org/2000/svg\" xmlns:xlink=\"http://www.w3.org/1999/xlink\">\r\n <defs>\r\n  <style type=\"text/css\">\r\n*{stroke-linecap:butt;stroke-linejoin:round;}\r\n  </style>\r\n </defs>\r\n <g id=\"figure_1\">\r\n  <g id=\"patch_1\">\r\n   <path d=\"M 0 262.19625 \r\nL 385.78125 262.19625 \r\nL 385.78125 0 \r\nL 0 0 \r\nz\r\n\" style=\"fill:none;\"/>\r\n  </g>\r\n  <g id=\"axes_1\">\r\n   <g id=\"patch_2\">\r\n    <path d=\"M 43.78125 224.64 \r\nL 378.58125 224.64 \r\nL 378.58125 7.2 \r\nL 43.78125 7.2 \r\nz\r\n\" style=\"fill:#ffffff;\"/>\r\n   </g>\r\n   <g id=\"matplotlib.axis_1\">\r\n    <g id=\"xtick_1\">\r\n     <g id=\"line2d_1\">\r\n      <defs>\r\n       <path d=\"M 0 0 \r\nL 0 3.5 \r\n\" id=\"m6b8a712dfc\" style=\"stroke:#000000;stroke-width:0.8;\"/>\r\n      </defs>\r\n      <g>\r\n       <use style=\"stroke:#000000;stroke-width:0.8;\" x=\"57.250752\" xlink:href=\"#m6b8a712dfc\" y=\"224.64\"/>\r\n      </g>\r\n     </g>\r\n     <g id=\"text_1\">\r\n      <!-- 0.0 -->\r\n      <defs>\r\n       <path d=\"M 31.78125 66.40625 \r\nQ 24.171875 66.40625 20.328125 58.90625 \r\nQ 16.5 51.421875 16.5 36.375 \r\nQ 16.5 21.390625 20.328125 13.890625 \r\nQ 24.171875 6.390625 31.78125 6.390625 \r\nQ 39.453125 6.390625 43.28125 13.890625 \r\nQ 47.125 21.390625 47.125 36.375 \r\nQ 47.125 51.421875 43.28125 58.90625 \r\nQ 39.453125 66.40625 31.78125 66.40625 \r\nz\r\nM 31.78125 74.21875 \r\nQ 44.046875 74.21875 50.515625 64.515625 \r\nQ 56.984375 54.828125 56.984375 36.375 \r\nQ 56.984375 17.96875 50.515625 8.265625 \r\nQ 44.046875 -1.421875 31.78125 -1.421875 \r\nQ 19.53125 -1.421875 13.0625 8.265625 \r\nQ 6.59375 17.96875 6.59375 36.375 \r\nQ 6.59375 54.828125 13.0625 64.515625 \r\nQ 19.53125 74.21875 31.78125 74.21875 \r\nz\r\n\" id=\"DejaVuSans-48\"/>\r\n       <path d=\"M 10.6875 12.40625 \r\nL 21 12.40625 \r\nL 21 0 \r\nL 10.6875 0 \r\nz\r\n\" id=\"DejaVuSans-46\"/>\r\n      </defs>\r\n      <g transform=\"translate(49.29919 239.238438)scale(0.1 -0.1)\">\r\n       <use xlink:href=\"#DejaVuSans-48\"/>\r\n       <use x=\"63.623047\" xlink:href=\"#DejaVuSans-46\"/>\r\n       <use x=\"95.410156\" xlink:href=\"#DejaVuSans-48\"/>\r\n      </g>\r\n     </g>\r\n    </g>\r\n    <g id=\"xtick_2\">\r\n     <g id=\"line2d_2\">\r\n      <g>\r\n       <use style=\"stroke:#000000;stroke-width:0.8;\" x=\"118.480595\" xlink:href=\"#m6b8a712dfc\" y=\"224.64\"/>\r\n      </g>\r\n     </g>\r\n     <g id=\"text_2\">\r\n      <!-- 0.2 -->\r\n      <defs>\r\n       <path d=\"M 19.1875 8.296875 \r\nL 53.609375 8.296875 \r\nL 53.609375 0 \r\nL 7.328125 0 \r\nL 7.328125 8.296875 \r\nQ 12.9375 14.109375 22.625 23.890625 \r\nQ 32.328125 33.6875 34.8125 36.53125 \r\nQ 39.546875 41.84375 41.421875 45.53125 \r\nQ 43.3125 49.21875 43.3125 52.78125 \r\nQ 43.3125 58.59375 39.234375 62.25 \r\nQ 35.15625 65.921875 28.609375 65.921875 \r\nQ 23.96875 65.921875 18.8125 64.3125 \r\nQ 13.671875 62.703125 7.8125 59.421875 \r\nL 7.8125 69.390625 \r\nQ 13.765625 71.78125 18.9375 73 \r\nQ 24.125 74.21875 28.421875 74.21875 \r\nQ 39.75 74.21875 46.484375 68.546875 \r\nQ 53.21875 62.890625 53.21875 53.421875 \r\nQ 53.21875 48.921875 51.53125 44.890625 \r\nQ 49.859375 40.875 45.40625 35.40625 \r\nQ 44.1875 33.984375 37.640625 27.21875 \r\nQ 31.109375 20.453125 19.1875 8.296875 \r\nz\r\n\" id=\"DejaVuSans-50\"/>\r\n      </defs>\r\n      <g transform=\"translate(110.529032 239.238438)scale(0.1 -0.1)\">\r\n       <use xlink:href=\"#DejaVuSans-48\"/>\r\n       <use x=\"63.623047\" xlink:href=\"#DejaVuSans-46\"/>\r\n       <use x=\"95.410156\" xlink:href=\"#DejaVuSans-50\"/>\r\n      </g>\r\n     </g>\r\n    </g>\r\n    <g id=\"xtick_3\">\r\n     <g id=\"line2d_3\">\r\n      <g>\r\n       <use style=\"stroke:#000000;stroke-width:0.8;\" x=\"179.710438\" xlink:href=\"#m6b8a712dfc\" y=\"224.64\"/>\r\n      </g>\r\n     </g>\r\n     <g id=\"text_3\">\r\n      <!-- 0.4 -->\r\n      <defs>\r\n       <path d=\"M 37.796875 64.3125 \r\nL 12.890625 25.390625 \r\nL 37.796875 25.390625 \r\nz\r\nM 35.203125 72.90625 \r\nL 47.609375 72.90625 \r\nL 47.609375 25.390625 \r\nL 58.015625 25.390625 \r\nL 58.015625 17.1875 \r\nL 47.609375 17.1875 \r\nL 47.609375 0 \r\nL 37.796875 0 \r\nL 37.796875 17.1875 \r\nL 4.890625 17.1875 \r\nL 4.890625 26.703125 \r\nz\r\n\" id=\"DejaVuSans-52\"/>\r\n      </defs>\r\n      <g transform=\"translate(171.758875 239.238438)scale(0.1 -0.1)\">\r\n       <use xlink:href=\"#DejaVuSans-48\"/>\r\n       <use x=\"63.623047\" xlink:href=\"#DejaVuSans-46\"/>\r\n       <use x=\"95.410156\" xlink:href=\"#DejaVuSans-52\"/>\r\n      </g>\r\n     </g>\r\n    </g>\r\n    <g id=\"xtick_4\">\r\n     <g id=\"line2d_4\">\r\n      <g>\r\n       <use style=\"stroke:#000000;stroke-width:0.8;\" x=\"240.94028\" xlink:href=\"#m6b8a712dfc\" y=\"224.64\"/>\r\n      </g>\r\n     </g>\r\n     <g id=\"text_4\">\r\n      <!-- 0.6 -->\r\n      <defs>\r\n       <path d=\"M 33.015625 40.375 \r\nQ 26.375 40.375 22.484375 35.828125 \r\nQ 18.609375 31.296875 18.609375 23.390625 \r\nQ 18.609375 15.53125 22.484375 10.953125 \r\nQ 26.375 6.390625 33.015625 6.390625 \r\nQ 39.65625 6.390625 43.53125 10.953125 \r\nQ 47.40625 15.53125 47.40625 23.390625 \r\nQ 47.40625 31.296875 43.53125 35.828125 \r\nQ 39.65625 40.375 33.015625 40.375 \r\nz\r\nM 52.59375 71.296875 \r\nL 52.59375 62.3125 \r\nQ 48.875 64.0625 45.09375 64.984375 \r\nQ 41.3125 65.921875 37.59375 65.921875 \r\nQ 27.828125 65.921875 22.671875 59.328125 \r\nQ 17.53125 52.734375 16.796875 39.40625 \r\nQ 19.671875 43.65625 24.015625 45.921875 \r\nQ 28.375 48.1875 33.59375 48.1875 \r\nQ 44.578125 48.1875 50.953125 41.515625 \r\nQ 57.328125 34.859375 57.328125 23.390625 \r\nQ 57.328125 12.15625 50.6875 5.359375 \r\nQ 44.046875 -1.421875 33.015625 -1.421875 \r\nQ 20.359375 -1.421875 13.671875 8.265625 \r\nQ 6.984375 17.96875 6.984375 36.375 \r\nQ 6.984375 53.65625 15.1875 63.9375 \r\nQ 23.390625 74.21875 37.203125 74.21875 \r\nQ 40.921875 74.21875 44.703125 73.484375 \r\nQ 48.484375 72.75 52.59375 71.296875 \r\nz\r\n\" id=\"DejaVuSans-54\"/>\r\n      </defs>\r\n      <g transform=\"translate(232.988718 239.238438)scale(0.1 -0.1)\">\r\n       <use xlink:href=\"#DejaVuSans-48\"/>\r\n       <use x=\"63.623047\" xlink:href=\"#DejaVuSans-46\"/>\r\n       <use x=\"95.410156\" xlink:href=\"#DejaVuSans-54\"/>\r\n      </g>\r\n     </g>\r\n    </g>\r\n    <g id=\"xtick_5\">\r\n     <g id=\"line2d_5\">\r\n      <g>\r\n       <use style=\"stroke:#000000;stroke-width:0.8;\" x=\"302.170123\" xlink:href=\"#m6b8a712dfc\" y=\"224.64\"/>\r\n      </g>\r\n     </g>\r\n     <g id=\"text_5\">\r\n      <!-- 0.8 -->\r\n      <defs>\r\n       <path d=\"M 31.78125 34.625 \r\nQ 24.75 34.625 20.71875 30.859375 \r\nQ 16.703125 27.09375 16.703125 20.515625 \r\nQ 16.703125 13.921875 20.71875 10.15625 \r\nQ 24.75 6.390625 31.78125 6.390625 \r\nQ 38.8125 6.390625 42.859375 10.171875 \r\nQ 46.921875 13.96875 46.921875 20.515625 \r\nQ 46.921875 27.09375 42.890625 30.859375 \r\nQ 38.875 34.625 31.78125 34.625 \r\nz\r\nM 21.921875 38.8125 \r\nQ 15.578125 40.375 12.03125 44.71875 \r\nQ 8.5 49.078125 8.5 55.328125 \r\nQ 8.5 64.0625 14.71875 69.140625 \r\nQ 20.953125 74.21875 31.78125 74.21875 \r\nQ 42.671875 74.21875 48.875 69.140625 \r\nQ 55.078125 64.0625 55.078125 55.328125 \r\nQ 55.078125 49.078125 51.53125 44.71875 \r\nQ 48 40.375 41.703125 38.8125 \r\nQ 48.828125 37.15625 52.796875 32.3125 \r\nQ 56.78125 27.484375 56.78125 20.515625 \r\nQ 56.78125 9.90625 50.3125 4.234375 \r\nQ 43.84375 -1.421875 31.78125 -1.421875 \r\nQ 19.734375 -1.421875 13.25 4.234375 \r\nQ 6.78125 9.90625 6.78125 20.515625 \r\nQ 6.78125 27.484375 10.78125 32.3125 \r\nQ 14.796875 37.15625 21.921875 38.8125 \r\nz\r\nM 18.3125 54.390625 \r\nQ 18.3125 48.734375 21.84375 45.5625 \r\nQ 25.390625 42.390625 31.78125 42.390625 \r\nQ 38.140625 42.390625 41.71875 45.5625 \r\nQ 45.3125 48.734375 45.3125 54.390625 \r\nQ 45.3125 60.0625 41.71875 63.234375 \r\nQ 38.140625 66.40625 31.78125 66.40625 \r\nQ 25.390625 66.40625 21.84375 63.234375 \r\nQ 18.3125 60.0625 18.3125 54.390625 \r\nz\r\n\" id=\"DejaVuSans-56\"/>\r\n      </defs>\r\n      <g transform=\"translate(294.21856 239.238438)scale(0.1 -0.1)\">\r\n       <use xlink:href=\"#DejaVuSans-48\"/>\r\n       <use x=\"63.623047\" xlink:href=\"#DejaVuSans-46\"/>\r\n       <use x=\"95.410156\" xlink:href=\"#DejaVuSans-56\"/>\r\n      </g>\r\n     </g>\r\n    </g>\r\n    <g id=\"xtick_6\">\r\n     <g id=\"line2d_6\">\r\n      <g>\r\n       <use style=\"stroke:#000000;stroke-width:0.8;\" x=\"363.399965\" xlink:href=\"#m6b8a712dfc\" y=\"224.64\"/>\r\n      </g>\r\n     </g>\r\n     <g id=\"text_6\">\r\n      <!-- 1.0 -->\r\n      <defs>\r\n       <path d=\"M 12.40625 8.296875 \r\nL 28.515625 8.296875 \r\nL 28.515625 63.921875 \r\nL 10.984375 60.40625 \r\nL 10.984375 69.390625 \r\nL 28.421875 72.90625 \r\nL 38.28125 72.90625 \r\nL 38.28125 8.296875 \r\nL 54.390625 8.296875 \r\nL 54.390625 0 \r\nL 12.40625 0 \r\nz\r\n\" id=\"DejaVuSans-49\"/>\r\n      </defs>\r\n      <g transform=\"translate(355.448403 239.238438)scale(0.1 -0.1)\">\r\n       <use xlink:href=\"#DejaVuSans-49\"/>\r\n       <use x=\"63.623047\" xlink:href=\"#DejaVuSans-46\"/>\r\n       <use x=\"95.410156\" xlink:href=\"#DejaVuSans-48\"/>\r\n      </g>\r\n     </g>\r\n    </g>\r\n    <g id=\"text_7\">\r\n     <!-- Threshold -->\r\n     <defs>\r\n      <path d=\"M -0.296875 72.90625 \r\nL 61.375 72.90625 \r\nL 61.375 64.59375 \r\nL 35.5 64.59375 \r\nL 35.5 0 \r\nL 25.59375 0 \r\nL 25.59375 64.59375 \r\nL -0.296875 64.59375 \r\nz\r\n\" id=\"DejaVuSans-84\"/>\r\n      <path d=\"M 54.890625 33.015625 \r\nL 54.890625 0 \r\nL 45.90625 0 \r\nL 45.90625 32.71875 \r\nQ 45.90625 40.484375 42.875 44.328125 \r\nQ 39.84375 48.1875 33.796875 48.1875 \r\nQ 26.515625 48.1875 22.3125 43.546875 \r\nQ 18.109375 38.921875 18.109375 30.90625 \r\nL 18.109375 0 \r\nL 9.078125 0 \r\nL 9.078125 75.984375 \r\nL 18.109375 75.984375 \r\nL 18.109375 46.1875 \r\nQ 21.34375 51.125 25.703125 53.5625 \r\nQ 30.078125 56 35.796875 56 \r\nQ 45.21875 56 50.046875 50.171875 \r\nQ 54.890625 44.34375 54.890625 33.015625 \r\nz\r\n\" id=\"DejaVuSans-104\"/>\r\n      <path d=\"M 41.109375 46.296875 \r\nQ 39.59375 47.171875 37.8125 47.578125 \r\nQ 36.03125 48 33.890625 48 \r\nQ 26.265625 48 22.1875 43.046875 \r\nQ 18.109375 38.09375 18.109375 28.8125 \r\nL 18.109375 0 \r\nL 9.078125 0 \r\nL 9.078125 54.6875 \r\nL 18.109375 54.6875 \r\nL 18.109375 46.1875 \r\nQ 20.953125 51.171875 25.484375 53.578125 \r\nQ 30.03125 56 36.53125 56 \r\nQ 37.453125 56 38.578125 55.875 \r\nQ 39.703125 55.765625 41.0625 55.515625 \r\nz\r\n\" id=\"DejaVuSans-114\"/>\r\n      <path d=\"M 56.203125 29.59375 \r\nL 56.203125 25.203125 \r\nL 14.890625 25.203125 \r\nQ 15.484375 15.921875 20.484375 11.0625 \r\nQ 25.484375 6.203125 34.421875 6.203125 \r\nQ 39.59375 6.203125 44.453125 7.46875 \r\nQ 49.3125 8.734375 54.109375 11.28125 \r\nL 54.109375 2.78125 \r\nQ 49.265625 0.734375 44.1875 -0.34375 \r\nQ 39.109375 -1.421875 33.890625 -1.421875 \r\nQ 20.796875 -1.421875 13.15625 6.1875 \r\nQ 5.515625 13.8125 5.515625 26.8125 \r\nQ 5.515625 40.234375 12.765625 48.109375 \r\nQ 20.015625 56 32.328125 56 \r\nQ 43.359375 56 49.78125 48.890625 \r\nQ 56.203125 41.796875 56.203125 29.59375 \r\nz\r\nM 47.21875 32.234375 \r\nQ 47.125 39.59375 43.09375 43.984375 \r\nQ 39.0625 48.390625 32.421875 48.390625 \r\nQ 24.90625 48.390625 20.390625 44.140625 \r\nQ 15.875 39.890625 15.1875 32.171875 \r\nz\r\n\" id=\"DejaVuSans-101\"/>\r\n      <path d=\"M 44.28125 53.078125 \r\nL 44.28125 44.578125 \r\nQ 40.484375 46.53125 36.375 47.5 \r\nQ 32.28125 48.484375 27.875 48.484375 \r\nQ 21.1875 48.484375 17.84375 46.4375 \r\nQ 14.5 44.390625 14.5 40.28125 \r\nQ 14.5 37.15625 16.890625 35.375 \r\nQ 19.28125 33.59375 26.515625 31.984375 \r\nL 29.59375 31.296875 \r\nQ 39.15625 29.25 43.1875 25.515625 \r\nQ 47.21875 21.78125 47.21875 15.09375 \r\nQ 47.21875 7.46875 41.1875 3.015625 \r\nQ 35.15625 -1.421875 24.609375 -1.421875 \r\nQ 20.21875 -1.421875 15.453125 -0.5625 \r\nQ 10.6875 0.296875 5.421875 2 \r\nL 5.421875 11.28125 \r\nQ 10.40625 8.6875 15.234375 7.390625 \r\nQ 20.0625 6.109375 24.8125 6.109375 \r\nQ 31.15625 6.109375 34.5625 8.28125 \r\nQ 37.984375 10.453125 37.984375 14.40625 \r\nQ 37.984375 18.0625 35.515625 20.015625 \r\nQ 33.0625 21.96875 24.703125 23.78125 \r\nL 21.578125 24.515625 \r\nQ 13.234375 26.265625 9.515625 29.90625 \r\nQ 5.8125 33.546875 5.8125 39.890625 \r\nQ 5.8125 47.609375 11.28125 51.796875 \r\nQ 16.75 56 26.8125 56 \r\nQ 31.78125 56 36.171875 55.265625 \r\nQ 40.578125 54.546875 44.28125 53.078125 \r\nz\r\n\" id=\"DejaVuSans-115\"/>\r\n      <path d=\"M 30.609375 48.390625 \r\nQ 23.390625 48.390625 19.1875 42.75 \r\nQ 14.984375 37.109375 14.984375 27.296875 \r\nQ 14.984375 17.484375 19.15625 11.84375 \r\nQ 23.34375 6.203125 30.609375 6.203125 \r\nQ 37.796875 6.203125 41.984375 11.859375 \r\nQ 46.1875 17.53125 46.1875 27.296875 \r\nQ 46.1875 37.015625 41.984375 42.703125 \r\nQ 37.796875 48.390625 30.609375 48.390625 \r\nz\r\nM 30.609375 56 \r\nQ 42.328125 56 49.015625 48.375 \r\nQ 55.71875 40.765625 55.71875 27.296875 \r\nQ 55.71875 13.875 49.015625 6.21875 \r\nQ 42.328125 -1.421875 30.609375 -1.421875 \r\nQ 18.84375 -1.421875 12.171875 6.21875 \r\nQ 5.515625 13.875 5.515625 27.296875 \r\nQ 5.515625 40.765625 12.171875 48.375 \r\nQ 18.84375 56 30.609375 56 \r\nz\r\n\" id=\"DejaVuSans-111\"/>\r\n      <path d=\"M 9.421875 75.984375 \r\nL 18.40625 75.984375 \r\nL 18.40625 0 \r\nL 9.421875 0 \r\nz\r\n\" id=\"DejaVuSans-108\"/>\r\n      <path d=\"M 45.40625 46.390625 \r\nL 45.40625 75.984375 \r\nL 54.390625 75.984375 \r\nL 54.390625 0 \r\nL 45.40625 0 \r\nL 45.40625 8.203125 \r\nQ 42.578125 3.328125 38.25 0.953125 \r\nQ 33.9375 -1.421875 27.875 -1.421875 \r\nQ 17.96875 -1.421875 11.734375 6.484375 \r\nQ 5.515625 14.40625 5.515625 27.296875 \r\nQ 5.515625 40.1875 11.734375 48.09375 \r\nQ 17.96875 56 27.875 56 \r\nQ 33.9375 56 38.25 53.625 \r\nQ 42.578125 51.265625 45.40625 46.390625 \r\nz\r\nM 14.796875 27.296875 \r\nQ 14.796875 17.390625 18.875 11.75 \r\nQ 22.953125 6.109375 30.078125 6.109375 \r\nQ 37.203125 6.109375 41.296875 11.75 \r\nQ 45.40625 17.390625 45.40625 27.296875 \r\nQ 45.40625 37.203125 41.296875 42.84375 \r\nQ 37.203125 48.484375 30.078125 48.484375 \r\nQ 22.953125 48.484375 18.875 42.84375 \r\nQ 14.796875 37.203125 14.796875 27.296875 \r\nz\r\n\" id=\"DejaVuSans-100\"/>\r\n     </defs>\r\n     <g transform=\"translate(186.432031 252.916563)scale(0.1 -0.1)\">\r\n      <use xlink:href=\"#DejaVuSans-84\"/>\r\n      <use x=\"61.083984\" xlink:href=\"#DejaVuSans-104\"/>\r\n      <use x=\"124.462891\" xlink:href=\"#DejaVuSans-114\"/>\r\n      <use x=\"165.544922\" xlink:href=\"#DejaVuSans-101\"/>\r\n      <use x=\"227.068359\" xlink:href=\"#DejaVuSans-115\"/>\r\n      <use x=\"279.167969\" xlink:href=\"#DejaVuSans-104\"/>\r\n      <use x=\"342.546875\" xlink:href=\"#DejaVuSans-111\"/>\r\n      <use x=\"403.728516\" xlink:href=\"#DejaVuSans-108\"/>\r\n      <use x=\"431.511719\" xlink:href=\"#DejaVuSans-100\"/>\r\n     </g>\r\n    </g>\r\n   </g>\r\n   <g id=\"matplotlib.axis_2\">\r\n    <g id=\"ytick_1\">\r\n     <g id=\"line2d_7\">\r\n      <defs>\r\n       <path d=\"M 0 0 \r\nL -3.5 0 \r\n\" id=\"m7f1c472500\" style=\"stroke:#000000;stroke-width:0.8;\"/>\r\n      </defs>\r\n      <g>\r\n       <use style=\"stroke:#000000;stroke-width:0.8;\" x=\"43.78125\" xlink:href=\"#m7f1c472500\" y=\"214.846174\"/>\r\n      </g>\r\n     </g>\r\n     <g id=\"text_8\">\r\n      <!-- 0.0 -->\r\n      <g transform=\"translate(20.878125 218.645393)scale(0.1 -0.1)\">\r\n       <use xlink:href=\"#DejaVuSans-48\"/>\r\n       <use x=\"63.623047\" xlink:href=\"#DejaVuSans-46\"/>\r\n       <use x=\"95.410156\" xlink:href=\"#DejaVuSans-48\"/>\r\n      </g>\r\n     </g>\r\n    </g>\r\n    <g id=\"ytick_2\">\r\n     <g id=\"line2d_8\">\r\n      <g>\r\n       <use style=\"stroke:#000000;stroke-width:0.8;\" x=\"43.78125\" xlink:href=\"#m7f1c472500\" y=\"175.293667\"/>\r\n      </g>\r\n     </g>\r\n     <g id=\"text_9\">\r\n      <!-- 0.2 -->\r\n      <g transform=\"translate(20.878125 179.092885)scale(0.1 -0.1)\">\r\n       <use xlink:href=\"#DejaVuSans-48\"/>\r\n       <use x=\"63.623047\" xlink:href=\"#DejaVuSans-46\"/>\r\n       <use x=\"95.410156\" xlink:href=\"#DejaVuSans-50\"/>\r\n      </g>\r\n     </g>\r\n    </g>\r\n    <g id=\"ytick_3\">\r\n     <g id=\"line2d_9\">\r\n      <g>\r\n       <use style=\"stroke:#000000;stroke-width:0.8;\" x=\"43.78125\" xlink:href=\"#m7f1c472500\" y=\"135.741159\"/>\r\n      </g>\r\n     </g>\r\n     <g id=\"text_10\">\r\n      <!-- 0.4 -->\r\n      <g transform=\"translate(20.878125 139.540378)scale(0.1 -0.1)\">\r\n       <use xlink:href=\"#DejaVuSans-48\"/>\r\n       <use x=\"63.623047\" xlink:href=\"#DejaVuSans-46\"/>\r\n       <use x=\"95.410156\" xlink:href=\"#DejaVuSans-52\"/>\r\n      </g>\r\n     </g>\r\n    </g>\r\n    <g id=\"ytick_4\">\r\n     <g id=\"line2d_10\">\r\n      <g>\r\n       <use style=\"stroke:#000000;stroke-width:0.8;\" x=\"43.78125\" xlink:href=\"#m7f1c472500\" y=\"96.188651\"/>\r\n      </g>\r\n     </g>\r\n     <g id=\"text_11\">\r\n      <!-- 0.6 -->\r\n      <g transform=\"translate(20.878125 99.98787)scale(0.1 -0.1)\">\r\n       <use xlink:href=\"#DejaVuSans-48\"/>\r\n       <use x=\"63.623047\" xlink:href=\"#DejaVuSans-46\"/>\r\n       <use x=\"95.410156\" xlink:href=\"#DejaVuSans-54\"/>\r\n      </g>\r\n     </g>\r\n    </g>\r\n    <g id=\"ytick_5\">\r\n     <g id=\"line2d_11\">\r\n      <g>\r\n       <use style=\"stroke:#000000;stroke-width:0.8;\" x=\"43.78125\" xlink:href=\"#m7f1c472500\" y=\"56.636144\"/>\r\n      </g>\r\n     </g>\r\n     <g id=\"text_12\">\r\n      <!-- 0.8 -->\r\n      <g transform=\"translate(20.878125 60.435363)scale(0.1 -0.1)\">\r\n       <use xlink:href=\"#DejaVuSans-48\"/>\r\n       <use x=\"63.623047\" xlink:href=\"#DejaVuSans-46\"/>\r\n       <use x=\"95.410156\" xlink:href=\"#DejaVuSans-56\"/>\r\n      </g>\r\n     </g>\r\n    </g>\r\n    <g id=\"ytick_6\">\r\n     <g id=\"line2d_12\">\r\n      <g>\r\n       <use style=\"stroke:#000000;stroke-width:0.8;\" x=\"43.78125\" xlink:href=\"#m7f1c472500\" y=\"17.083636\"/>\r\n      </g>\r\n     </g>\r\n     <g id=\"text_13\">\r\n      <!-- 1.0 -->\r\n      <g transform=\"translate(20.878125 20.882855)scale(0.1 -0.1)\">\r\n       <use xlink:href=\"#DejaVuSans-49\"/>\r\n       <use x=\"63.623047\" xlink:href=\"#DejaVuSans-46\"/>\r\n       <use x=\"95.410156\" xlink:href=\"#DejaVuSans-48\"/>\r\n      </g>\r\n     </g>\r\n    </g>\r\n    <g id=\"text_14\">\r\n     <!-- Performance -->\r\n     <defs>\r\n      <path d=\"M 19.671875 64.796875 \r\nL 19.671875 37.40625 \r\nL 32.078125 37.40625 \r\nQ 38.96875 37.40625 42.71875 40.96875 \r\nQ 46.484375 44.53125 46.484375 51.125 \r\nQ 46.484375 57.671875 42.71875 61.234375 \r\nQ 38.96875 64.796875 32.078125 64.796875 \r\nz\r\nM 9.8125 72.90625 \r\nL 32.078125 72.90625 \r\nQ 44.34375 72.90625 50.609375 67.359375 \r\nQ 56.890625 61.8125 56.890625 51.125 \r\nQ 56.890625 40.328125 50.609375 34.8125 \r\nQ 44.34375 29.296875 32.078125 29.296875 \r\nL 19.671875 29.296875 \r\nL 19.671875 0 \r\nL 9.8125 0 \r\nz\r\n\" id=\"DejaVuSans-80\"/>\r\n      <path d=\"M 37.109375 75.984375 \r\nL 37.109375 68.5 \r\nL 28.515625 68.5 \r\nQ 23.6875 68.5 21.796875 66.546875 \r\nQ 19.921875 64.59375 19.921875 59.515625 \r\nL 19.921875 54.6875 \r\nL 34.71875 54.6875 \r\nL 34.71875 47.703125 \r\nL 19.921875 47.703125 \r\nL 19.921875 0 \r\nL 10.890625 0 \r\nL 10.890625 47.703125 \r\nL 2.296875 47.703125 \r\nL 2.296875 54.6875 \r\nL 10.890625 54.6875 \r\nL 10.890625 58.5 \r\nQ 10.890625 67.625 15.140625 71.796875 \r\nQ 19.390625 75.984375 28.609375 75.984375 \r\nz\r\n\" id=\"DejaVuSans-102\"/>\r\n      <path d=\"M 52 44.1875 \r\nQ 55.375 50.25 60.0625 53.125 \r\nQ 64.75 56 71.09375 56 \r\nQ 79.640625 56 84.28125 50.015625 \r\nQ 88.921875 44.046875 88.921875 33.015625 \r\nL 88.921875 0 \r\nL 79.890625 0 \r\nL 79.890625 32.71875 \r\nQ 79.890625 40.578125 77.09375 44.375 \r\nQ 74.3125 48.1875 68.609375 48.1875 \r\nQ 61.625 48.1875 57.5625 43.546875 \r\nQ 53.515625 38.921875 53.515625 30.90625 \r\nL 53.515625 0 \r\nL 44.484375 0 \r\nL 44.484375 32.71875 \r\nQ 44.484375 40.625 41.703125 44.40625 \r\nQ 38.921875 48.1875 33.109375 48.1875 \r\nQ 26.21875 48.1875 22.15625 43.53125 \r\nQ 18.109375 38.875 18.109375 30.90625 \r\nL 18.109375 0 \r\nL 9.078125 0 \r\nL 9.078125 54.6875 \r\nL 18.109375 54.6875 \r\nL 18.109375 46.1875 \r\nQ 21.1875 51.21875 25.484375 53.609375 \r\nQ 29.78125 56 35.6875 56 \r\nQ 41.65625 56 45.828125 52.96875 \r\nQ 50 49.953125 52 44.1875 \r\nz\r\n\" id=\"DejaVuSans-109\"/>\r\n      <path d=\"M 34.28125 27.484375 \r\nQ 23.390625 27.484375 19.1875 25 \r\nQ 14.984375 22.515625 14.984375 16.5 \r\nQ 14.984375 11.71875 18.140625 8.90625 \r\nQ 21.296875 6.109375 26.703125 6.109375 \r\nQ 34.1875 6.109375 38.703125 11.40625 \r\nQ 43.21875 16.703125 43.21875 25.484375 \r\nL 43.21875 27.484375 \r\nz\r\nM 52.203125 31.203125 \r\nL 52.203125 0 \r\nL 43.21875 0 \r\nL 43.21875 8.296875 \r\nQ 40.140625 3.328125 35.546875 0.953125 \r\nQ 30.953125 -1.421875 24.3125 -1.421875 \r\nQ 15.921875 -1.421875 10.953125 3.296875 \r\nQ 6 8.015625 6 15.921875 \r\nQ 6 25.140625 12.171875 29.828125 \r\nQ 18.359375 34.515625 30.609375 34.515625 \r\nL 43.21875 34.515625 \r\nL 43.21875 35.40625 \r\nQ 43.21875 41.609375 39.140625 45 \r\nQ 35.0625 48.390625 27.6875 48.390625 \r\nQ 23 48.390625 18.546875 47.265625 \r\nQ 14.109375 46.140625 10.015625 43.890625 \r\nL 10.015625 52.203125 \r\nQ 14.9375 54.109375 19.578125 55.046875 \r\nQ 24.21875 56 28.609375 56 \r\nQ 40.484375 56 46.34375 49.84375 \r\nQ 52.203125 43.703125 52.203125 31.203125 \r\nz\r\n\" id=\"DejaVuSans-97\"/>\r\n      <path d=\"M 54.890625 33.015625 \r\nL 54.890625 0 \r\nL 45.90625 0 \r\nL 45.90625 32.71875 \r\nQ 45.90625 40.484375 42.875 44.328125 \r\nQ 39.84375 48.1875 33.796875 48.1875 \r\nQ 26.515625 48.1875 22.3125 43.546875 \r\nQ 18.109375 38.921875 18.109375 30.90625 \r\nL 18.109375 0 \r\nL 9.078125 0 \r\nL 9.078125 54.6875 \r\nL 18.109375 54.6875 \r\nL 18.109375 46.1875 \r\nQ 21.34375 51.125 25.703125 53.5625 \r\nQ 30.078125 56 35.796875 56 \r\nQ 45.21875 56 50.046875 50.171875 \r\nQ 54.890625 44.34375 54.890625 33.015625 \r\nz\r\n\" id=\"DejaVuSans-110\"/>\r\n      <path d=\"M 48.78125 52.59375 \r\nL 48.78125 44.1875 \r\nQ 44.96875 46.296875 41.140625 47.34375 \r\nQ 37.3125 48.390625 33.40625 48.390625 \r\nQ 24.65625 48.390625 19.8125 42.84375 \r\nQ 14.984375 37.3125 14.984375 27.296875 \r\nQ 14.984375 17.28125 19.8125 11.734375 \r\nQ 24.65625 6.203125 33.40625 6.203125 \r\nQ 37.3125 6.203125 41.140625 7.25 \r\nQ 44.96875 8.296875 48.78125 10.40625 \r\nL 48.78125 2.09375 \r\nQ 45.015625 0.34375 40.984375 -0.53125 \r\nQ 36.96875 -1.421875 32.421875 -1.421875 \r\nQ 20.0625 -1.421875 12.78125 6.34375 \r\nQ 5.515625 14.109375 5.515625 27.296875 \r\nQ 5.515625 40.671875 12.859375 48.328125 \r\nQ 20.21875 56 33.015625 56 \r\nQ 37.15625 56 41.109375 55.140625 \r\nQ 45.0625 54.296875 48.78125 52.59375 \r\nz\r\n\" id=\"DejaVuSans-99\"/>\r\n     </defs>\r\n     <g transform=\"translate(14.798438 147.867656)rotate(-90)scale(0.1 -0.1)\">\r\n      <use xlink:href=\"#DejaVuSans-80\"/>\r\n      <use x=\"60.255859\" xlink:href=\"#DejaVuSans-101\"/>\r\n      <use x=\"121.779297\" xlink:href=\"#DejaVuSans-114\"/>\r\n      <use x=\"162.892578\" xlink:href=\"#DejaVuSans-102\"/>\r\n      <use x=\"198.097656\" xlink:href=\"#DejaVuSans-111\"/>\r\n      <use x=\"259.279297\" xlink:href=\"#DejaVuSans-114\"/>\r\n      <use x=\"300.376953\" xlink:href=\"#DejaVuSans-109\"/>\r\n      <use x=\"397.789062\" xlink:href=\"#DejaVuSans-97\"/>\r\n      <use x=\"459.068359\" xlink:href=\"#DejaVuSans-110\"/>\r\n      <use x=\"522.447266\" xlink:href=\"#DejaVuSans-99\"/>\r\n      <use x=\"577.427734\" xlink:href=\"#DejaVuSans-101\"/>\r\n     </g>\r\n    </g>\r\n   </g>\r\n   <g id=\"line2d_13\">\r\n    <path clip-path=\"url(#p54705bbfe1)\" d=\"M 58.999432 193.640822 \r\nL 58.999541 193.64942 \r\nL 59.106609 193.330908 \r\nL 59.24052 192.962085 \r\nL 59.315286 192.727334 \r\nL 59.506972 192.177619 \r\nL 59.639665 191.799369 \r\nL 60.281007 190.113198 \r\nL 60.345598 189.964545 \r\nL 60.572751 189.413939 \r\nL 60.958504 188.49786 \r\nL 61.087778 188.208176 \r\nL 61.902436 186.477747 \r\nL 62.015188 186.194232 \r\nL 62.363918 185.453401 \r\nL 62.566267 185.078984 \r\nL 62.983826 184.242236 \r\nL 63.15638 183.932938 \r\nL 63.263898 183.75861 \r\nL 63.375478 183.537248 \r\nL 63.798535 182.766204 \r\nL 63.949519 182.461739 \r\nL 64.244554 181.875631 \r\nL 64.584361 181.342546 \r\nL 64.720578 181.081459 \r\nL 65.023927 180.53671 \r\nL 65.284292 180.114088 \r\nL 65.562434 179.679706 \r\nL 65.828555 179.204654 \r\nL 65.974041 179.032874 \r\nL 66.062065 178.871129 \r\nL 66.182847 178.681771 \r\nL 66.29881 178.502815 \r\nL 66.453031 178.260614 \r\nL 66.578421 178.029681 \r\nL 66.870228 177.475778 \r\nL 67.053838 177.221347 \r\nL 67.300798 176.819694 \r\nL 67.436069 176.593749 \r\nL 67.53337 176.452123 \r\nL 67.640131 176.245609 \r\nL 67.752245 176.101526 \r\nL 67.902269 175.927439 \r\nL 68.8887 174.275098 \r\nL 69.012828 174.08127 \r\nL 69.15993 173.850623 \r\nL 69.316685 173.600334 \r\nL 69.429553 173.492991 \r\nL 69.643095 173.174712 \r\nL 69.866995 172.837014 \r\nL 70.09379 172.491396 \r\nL 70.342719 172.124447 \r\nL 70.348697 172.135943 \r\nL 70.842262 171.465073 \r\nL 70.998689 171.260829 \r\nL 71.66104 170.328845 \r\nL 71.822309 170.135574 \r\nL 71.948643 170.03976 \r\nL 75.611175 164.91868 \r\nL 75.63169 164.961006 \r\nL 75.632699 164.979222 \r\nL 75.733496 164.793953 \r\nL 75.92388 164.481531 \r\nL 76.162278 164.213601 \r\nL 76.894904 163.273603 \r\nL 77.038461 163.066399 \r\nL 77.283263 162.750621 \r\nL 77.341116 162.777637 \r\nL 77.439814 162.648435 \r\nL 77.445921 162.667448 \r\nL 77.519711 162.548336 \r\nL 79.620616 160.284336 \r\nL 79.637831 160.316671 \r\nL 79.906517 160.058544 \r\nL 80.415897 159.433224 \r\nL 80.422527 159.437716 \r\nL 80.438079 159.478302 \r\nL 80.495359 159.351729 \r\nL 81.079468 158.707316 \r\nL 81.19355 158.572749 \r\nL 81.95824 157.662534 \r\nL 82.167924 157.336769 \r\nL 82.180773 157.34915 \r\nL 82.752777 156.661245 \r\nL 82.753306 156.682493 \r\nL 82.859737 156.570657 \r\nL 83.031858 156.42597 \r\nL 84.007602 155.218809 \r\nL 84.009593 155.240539 \r\nL 84.099683 155.099561 \r\nL 84.75091 154.504869 \r\nL 84.872521 154.311156 \r\nL 85.225214 154.013357 \r\nL 85.46306 153.718987 \r\nL 85.476246 153.763457 \r\nL 85.549893 153.63396 \r\nL 85.744028 153.385569 \r\nL 85.876514 153.114569 \r\nL 85.751644 153.397834 \r\nL 85.883309 153.116639 \r\nL 85.971089 153.080049 \r\nL 85.983803 153.059661 \r\nL 86.100476 152.871179 \r\nL 86.327692 152.585765 \r\nL 86.467745 152.379166 \r\nL 86.478064 152.391361 \r\nL 86.523312 152.429757 \r\nL 86.582154 152.345906 \r\nL 87.010876 151.94768 \r\nL 87.179625 151.769943 \r\nL 87.672992 151.220005 \r\nL 87.678122 151.243124 \r\nL 87.773748 151.167456 \r\nL 87.986067 150.928827 \r\nL 88.197622 150.640698 \r\nL 88.356693 150.473688 \r\nL 88.452568 150.396155 \r\nL 88.626532 150.193708 \r\nL 89.494426 149.186589 \r\nL 89.494985 149.210391 \r\nL 89.59148 149.115645 \r\nL 90.946577 148.076879 \r\nL 91.09774 147.887205 \r\nL 91.120596 147.899178 \r\nL 91.122838 147.923717 \r\nL 91.196854 147.810545 \r\nL 91.220651 147.808657 \r\nL 92.166815 146.815558 \r\nL 92.276966 146.632539 \r\nL 92.611881 146.411992 \r\nL 92.618911 146.423782 \r\nL 92.621279 146.448829 \r\nL 92.718579 146.314602 \r\nL 92.974032 146.133053 \r\nL 93.003534 146.158249 \r\nL 93.029282 146.064247 \r\nL 93.04698 146.050798 \r\nL 93.17832 145.819517 \r\nL 94.075704 144.921286 \r\nL 95.081559 143.571558 \r\nL 95.09103 143.597703 \r\nL 95.093117 143.623858 \r\nL 95.184254 143.413689 \r\nL 95.794199 142.743516 \r\nL 95.802265 142.754782 \r\nL 96.091266 142.330449 \r\nL 96.148966 142.413071 \r\nL 96.196365 142.320623 \r\nL 96.931478 141.513687 \r\nL 96.938353 141.540597 \r\nL 97.011326 141.440491 \r\nL 97.382425 141.020597 \r\nL 97.49318 140.902067 \r\nL 97.983192 140.476936 \r\nL 97.985245 140.504302 \r\nL 98.099572 140.454397 \r\nL 98.391293 139.848091 \r\nL 98.491798 139.808301 \r\nL 98.956057 139.349899 \r\nL 98.972968 139.405424 \r\nL 98.973511 139.433205 \r\nL 99.000632 139.34747 \r\nL 99.074704 139.362227 \r\nL 99.099116 139.390081 \r\nL 99.161583 139.297455 \r\nL 99.211007 139.312185 \r\nL 99.271495 139.219099 \r\nL 99.57019 138.836334 \r\nL 99.616827 138.811779 \r\nL 99.658852 138.87865 \r\nL 99.680248 138.854088 \r\nL 99.814365 138.698871 \r\nL 99.841445 138.727121 \r\nL 99.892503 138.620883 \r\nL 101.141162 137.487511 \r\nL 101.240896 137.578168 \r\nL 101.258483 137.541153 \r\nL 101.281119 137.543312 \r\nL 101.374307 137.452566 \r\nL 101.74525 137.177691 \r\nL 101.77613 137.21707 \r\nL 101.842681 137.141757 \r\nL 102.023609 137.069523 \r\nL 102.029375 137.09873 \r\nL 102.029722 137.127953 \r\nL 102.133926 137.03322 \r\nL 102.478552 136.663242 \r\nL 102.562657 136.490186 \r\nL 102.580343 136.500287 \r\nL 102.673098 136.287653 \r\nL 102.7778 136.260169 \r\nL 102.737914 136.347253 \r\nL 102.78014 136.289683 \r\nL 102.86465 136.368977 \r\nL 102.895822 136.281628 \r\nL 103.428771 135.472771 \r\nL 103.512534 135.492401 \r\nL 103.534645 135.442274 \r\nL 103.555694 135.452091 \r\nL 103.724629 135.170979 \r\nL 103.874029 134.877172 \r\nL 103.981573 134.774253 \r\nL 104.038635 134.722596 \r\nL 104.090796 134.762186 \r\nL 104.3103 134.47345 \r\nL 104.596893 134.264939 \r\nL 104.612349 134.325295 \r\nL 104.675149 134.242263 \r\nL 104.709811 134.272474 \r\nL 104.92396 134.073529 \r\nL 104.931533 134.103798 \r\nL 105.006627 134.12259 \r\nL 105.025537 134.080753 \r\nL 105.330272 133.636095 \r\nL 105.434888 133.548394 \r\nL 105.448651 133.578859 \r\nL 105.453948 133.609339 \r\nL 105.508103 133.545524 \r\nL 105.69175 133.37175 \r\nL 105.912294 132.91598 \r\nL 106.005482 132.912238 \r\nL 106.011275 132.868806 \r\nL 106.051891 132.886746 \r\nL 106.262549 132.46712 \r\nL 106.648264 132.139682 \r\nL 106.759266 132.037103 \r\nL 107.302959 131.651376 \r\nL 107.410042 131.523807 \r\nL 107.428801 131.563533 \r\nL 107.530305 131.381296 \r\nL 107.65778 131.221182 \r\nL 108.949906 130.408862 \r\nL 109.06266 130.098781 \r\nL 109.125966 130.066818 \r\nL 109.104936 130.138726 \r\nL 109.155861 130.098813 \r\nL 109.181043 130.130874 \r\nL 109.198078 129.986432 \r\nL 109.314992 129.793075 \r\nL 109.422965 129.7682 \r\nL 109.353901 129.833088 \r\nL 109.42307 129.800377 \r\nL 109.434498 129.832572 \r\nL 109.482138 129.710985 \r\nL 109.519533 129.7511 \r\nL 109.693622 129.571377 \r\nL 109.702933 129.579199 \r\nL 109.828849 129.316444 \r\nL 109.856234 129.413671 \r\nL 109.927917 129.314877 \r\nL 110.165012 128.982404 \r\nL 110.228273 129.030125 \r\nL 110.552315 128.942891 \r\nL 110.552556 128.975598 \r\nL 110.651757 128.857423 \r\nL 110.661583 128.890182 \r\nL 110.797932 128.713474 \r\nL 110.833684 128.720967 \r\nL 110.909659 128.467135 \r\nL 110.987126 128.499972 \r\nL 111.023827 128.398028 \r\nL 111.128479 128.27026 \r\nL 111.130673 128.277539 \r\nL 111.238587 128.233561 \r\nL 111.238765 128.207906 \r\nL 111.38488 127.905951 \r\nL 111.410624 127.913059 \r\nL 112.482648 126.657214 \r\nL 112.540124 126.69714 \r\nL 112.585584 126.670258 \r\nL 113.049692 125.981291 \r\nL 113.147346 125.999885 \r\nL 113.156055 125.972387 \r\nL 113.226008 126.01232 \r\nL 113.250593 125.929684 \r\nL 113.323936 125.969652 \r\nL 113.376102 125.89299 \r\nL 113.530374 125.661569 \r\nL 113.594288 125.701573 \r\nL 113.615984 125.617895 \r\nL 114.084486 125.0053 \r\nL 114.119271 125.039452 \r\nL 114.143828 124.982576 \r\nL 114.301098 124.794151 \r\nL 114.327995 124.834027 \r\nL 114.441776 124.667466 \r\nL 114.453609 124.701783 \r\nL 114.481173 124.644238 \r\nL 114.500511 124.655333 \r\nL 114.790489 124.364086 \r\nL 114.790945 124.334964 \r\nL 114.839544 124.438622 \r\nL 114.8803 124.414933 \r\nL 115.525556 123.705692 \r\nL 115.534433 123.775586 \r\nL 115.620459 123.656031 \r\nL 115.762468 123.746474 \r\nL 116.175957 123.232202 \r\nL 116.279268 123.307737 \r\nL 116.310645 123.221036 \r\nL 116.650029 122.831199 \r\nL 116.736852 122.623577 \r\nL 116.836554 122.628063 \r\nL 116.848867 122.596982 \r\nL 116.967027 122.418772 \r\nL 117.08187 122.42314 \r\nL 117.082126 122.391853 \r\nL 117.201759 122.01886 \r\nL 117.205915 122.054565 \r\nL 117.291799 122.062864 \r\nL 117.303341 122.031241 \r\nL 118.257045 121.111397 \r\nL 118.363659 121.151106 \r\nL 118.385474 121.085972 \r\nL 118.767535 120.468957 \r\nL 118.802767 120.50838 \r\nL 118.860034 120.409007 \r\nL 119.035711 120.209632 \r\nL 119.199541 120.009414 \r\nL 119.243391 119.875464 \r\nL 119.3538 119.878228 \r\nL 119.361012 119.811065 \r\nL 119.507757 119.645349 \r\nL 119.539043 119.681719 \r\nL 119.566032 119.546542 \r\nL 119.734652 119.216184 \r\nL 119.824797 119.085978 \r\nL 119.805394 119.223171 \r\nL 119.827073 119.122578 \r\nL 119.857437 119.195855 \r\nL 119.88272 119.058278 \r\nL 120.475531 118.200733 \r\nL 120.517592 118.130188 \r\nL 120.553376 118.203999 \r\nL 120.587988 118.133354 \r\nL 120.699063 118.099554 \r\nL 120.982417 117.963608 \r\nL 121.026577 118.002194 \r\nL 121.076202 117.96655 \r\nL 122.252558 116.821504 \r\nL 122.337188 116.859084 \r\nL 122.36492 116.785187 \r\nL 122.519785 116.6014 \r\nL 122.587435 116.377692 \r\nL 122.724737 116.115409 \r\nL 123.037082 115.622755 \r\nL 123.14823 115.736542 \r\nL 123.180725 115.660186 \r\nL 123.316822 115.429999 \r\nL 123.471204 115.429171 \r\nL 123.51296 115.390682 \r\nL 123.542681 115.466859 \r\nL 123.627361 115.619032 \r\nL 123.657256 115.502843 \r\nL 123.887864 115.188757 \r\nL 123.904688 115.227275 \r\nL 123.922357 115.188147 \r\nL 124.095164 115.030594 \r\nL 124.266759 114.752837 \r\nL 124.268392 114.830138 \r\nL 124.458531 114.510191 \r\nL 124.636649 114.106681 \r\nL 124.684668 114.144033 \r\nL 124.694034 114.103704 \r\nL 124.889952 113.899915 \r\nL 125.301251 113.527832 \r\nL 125.369786 113.281614 \r\nL 125.429498 113.437717 \r\nL 125.531809 113.272892 \r\nL 125.685694 113.098196 \r\nL 125.696798 113.137418 \r\nL 125.707176 113.176672 \r\nL 125.757372 113.093506 \r\nL 125.782768 113.13279 \r\nL 125.988919 112.961123 \r\nL 126.021642 113.039905 \r\nL 126.035109 113.079344 \r\nL 126.067755 112.953706 \r\nL 126.228191 112.862107 \r\nL 126.229021 112.901669 \r\nL 126.342664 112.687978 \r\nL 126.405592 112.594887 \r\nL 126.622031 112.418705 \r\nL 126.719155 112.244456 \r\nL 126.872634 112.195238 \r\nL 126.877451 112.2351 \r\nL 126.989147 112.268797 \r\nL 126.998631 112.225698 \r\nL 127.032312 112.262578 \r\nL 127.118579 112.176191 \r\nL 127.27214 111.952817 \r\nL 127.303007 111.99293 \r\nL 127.317276 112.033078 \r\nL 127.342842 111.858819 \r\nL 127.378457 111.815161 \r\nL 127.428443 111.895545 \r\nL 127.443228 111.935787 \r\nL 127.479651 111.848353 \r\nL 127.515056 111.844852 \r\nL 127.609978 111.62542 \r\nL 127.689502 111.401154 \r\nL 127.720099 111.441478 \r\nL 127.733808 111.477998 \r\nL 127.872693 111.122781 \r\nL 128.138802 111.235986 \r\nL 128.157999 111.191327 \r\nL 128.349118 110.96745 \r\nL 128.469217 110.697518 \r\nL 128.574599 110.64317 \r\nL 128.580242 110.683795 \r\nL 129.989136 109.255105 \r\nL 129.990382 109.296271 \r\nL 130.247285 109.154657 \r\nL 130.310696 109.053849 \r\nL 130.575305 108.987665 \r\nL 130.590656 109.028989 \r\nL 130.617946 109.111748 \r\nL 130.692703 109.016492 \r\nL 130.736297 108.921064 \r\nL 130.762369 109.045448 \r\nL 131.348588 108.497075 \r\nL 131.353692 108.448669 \r\nL 131.3959 108.531917 \r\nL 131.6029 108.282174 \r\nL 131.685919 108.087002 \r\nL 131.709609 108.128689 \r\nL 131.957639 107.918016 \r\nL 132.092724 107.952427 \r\nL 132.224305 107.945042 \r\nL 132.248757 108.028862 \r\nL 132.315786 107.930231 \r\nL 132.962506 107.168295 \r\nL 133.051519 107.244159 \r\nL 132.979367 107.160093 \r\nL 133.073951 107.193924 \r\nL 133.215322 107.118853 \r\nL 133.315092 107.195051 \r\nL 133.345776 107.14451 \r\nL 133.447285 107.034894 \r\nL 133.544095 107.068851 \r\nL 133.555764 107.018061 \r\nL 133.664554 106.754688 \r\nL 133.69818 106.839563 \r\nL 133.731638 106.685999 \r\nL 133.832799 106.634714 \r\nL 133.837827 106.719718 \r\nL 133.896986 106.847526 \r\nL 133.94111 106.744768 \r\nL 133.95527 106.693316 \r\nL 134.038207 106.778699 \r\nL 134.256489 106.502583 \r\nL 134.297419 106.545387 \r\nL 134.433028 106.47534 \r\nL 134.493949 106.518255 \r\nL 134.522662 106.414144 \r\nL 134.702541 106.0386 \r\nL 134.743005 106.081553 \r\nL 134.811043 106.11503 \r\nL 134.817895 106.062427 \r\nL 135.206931 105.332511 \r\nL 135.211156 105.375664 \r\nL 135.220499 105.41886 \r\nL 135.256091 105.311683 \r\nL 135.26839 105.354911 \r\nL 135.970753 104.585712 \r\nL 136.067284 104.409909 \r\nL 136.302801 104.4304 \r\nL 136.549549 103.710177 \r\nL 136.570726 103.753664 \r\nL 136.782985 103.392716 \r\nL 136.893513 103.267311 \r\nL 136.936669 103.310904 \r\nL 137.110052 103.159053 \r\nL 137.245041 103.189807 \r\nL 137.250023 103.132985 \r\nL 137.601696 102.375069 \r\nL 137.644807 102.418831 \r\nL 137.799221 102.187618 \r\nL 137.902751 102.042994 \r\nL 138.183559 101.66326 \r\nL 138.345153 101.428075 \r\nL 138.538809 101.19191 \r\nL 139.094604 100.66433 \r\nL 139.329154 100.776575 \r\nL 139.497509 100.41291 \r\nL 139.936764 99.484694 \r\nL 140.111113 99.048898 \r\nL 140.230053 98.824057 \r\nL 140.348017 98.723793 \r\nL 140.441911 98.857047 \r\nL 140.463553 98.730697 \r\nL 140.50306 98.775191 \r\nL 140.54451 98.711903 \r\nL 141.096127 98.04609 \r\nL 141.219638 97.832107 \r\nL 141.307474 97.921679 \r\nL 141.341917 97.836673 \r\nL 141.391962 97.510741 \r\nL 141.42604 97.600453 \r\nL 141.506842 97.624916 \r\nL 141.515902 97.559392 \r\nL 141.63715 97.362382 \r\nL 141.760697 97.410779 \r\nL 141.942784 97.281755 \r\nL 141.957583 97.327014 \r\nL 141.972446 97.194224 \r\nL 142.629581 96.392297 \r\nL 142.718266 96.551935 \r\nL 142.834907 96.59758 \r\nL 142.854915 96.529621 \r\nL 143.036911 96.257003 \r\nL 143.098698 96.051713 \r\nL 143.156453 96.142952 \r\nL 143.333476 96.234403 \r\nL 143.355875 96.097042 \r\nL 143.972171 94.842381 \r\nL 144.13403 94.81756 \r\nL 144.145326 94.746996 \r\nL 144.778072 94.336459 \r\nL 145.106927 93.945375 \r\nL 145.213185 93.99129 \r\nL 145.22094 93.919051 \r\nL 145.338831 93.820238 \r\nL 145.556866 93.721068 \r\nL 145.576829 93.767069 \r\nL 145.639374 93.813125 \r\nL 146.278826 93.450955 \r\nL 146.281655 93.377203 \r\nL 146.371225 93.470018 \r\nL 146.709879 92.922848 \r\nL 146.736995 92.969261 \r\nL 146.799348 93.015731 \r\nL 146.823271 92.94108 \r\nL 147.001198 92.98759 \r\nL 147.009683 92.91283 \r\nL 147.452797 92.584113 \r\nL 147.466173 92.630632 \r\nL 147.524228 92.601842 \r\nL 147.624437 92.8355 \r\nL 147.781059 92.579577 \r\nL 147.92071 92.398305 \r\nL 148.020754 92.245722 \r\nL 148.208963 92.386475 \r\nL 148.222485 92.309986 \r\nL 148.74068 91.959767 \r\nL 148.742906 92.006889 \r\nL 148.822878 91.821655 \r\nL 148.955385 91.760572 \r\nL 148.966598 91.807836 \r\nL 148.993514 91.651894 \r\nL 149.040584 91.668365 \r\nL 149.147873 91.684899 \r\nL 149.209779 91.449409 \r\nL 149.293154 91.496836 \r\nL 150.191699 90.457521 \r\nL 150.216635 90.505229 \r\nL 150.312774 90.309922 \r\nL 151.309083 88.420824 \r\nL 151.79748 88.538469 \r\nL 151.804176 88.453584 \r\nL 152.419286 87.00923 \r\nL 152.450946 87.056993 \r\nL 152.455581 86.969646 \r\nL 152.571054 86.619059 \r\nL 152.759583 86.354855 \r\nL 152.837921 86.178113 \r\nL 152.933914 86.273285 \r\nL 152.986441 86.320969 \r\nL 153.042206 86.232331 \r\nL 153.19318 85.882523 \r\nL 153.207542 85.930234 \r\nL 153.300943 85.798903 \r\nL 153.340259 85.846688 \r\nL 153.357193 85.89454 \r\nL 153.402457 85.714817 \r\nL 153.445622 85.810603 \r\nL 153.533659 85.720495 \r\nL 153.545383 85.63026 \r\nL 153.622472 85.774266 \r\nL 153.640218 85.683816 \r\nL 153.648366 85.731923 \r\nL 153.714998 85.550582 \r\nL 153.901984 85.277615 \r\nL 154.170329 84.867969 \r\nL 154.281085 84.591811 \r\nL 154.37091 84.639656 \r\nL 154.410453 84.547311 \r\nL 154.529749 83.990478 \r\nL 154.558864 84.038166 \r\nL 154.597896 84.133747 \r\nL 154.645331 84.040381 \r\nL 154.78876 84.232234 \r\nL 154.820165 84.04484 \r\nL 154.910373 83.668433 \r\nL 154.940893 83.71637 \r\nL 155.16307 83.337656 \r\nL 155.312028 83.004482 \r\nL 155.413933 83.196113 \r\nL 155.441807 83.100367 \r\nL 155.615071 82.763895 \r\nL 155.672716 82.811872 \r\nL 155.70778 82.715356 \r\nL 155.756529 82.569839 \r\nL 156.071597 82.761769 \r\nL 156.273629 82.173753 \r\nL 156.499584 81.776449 \r\nL 156.663295 81.674241 \r\nL 156.691424 81.722551 \r\nL 156.721971 81.622908 \r\nL 156.782646 81.423173 \r\nL 156.794881 81.471439 \r\nL 157.365575 80.660852 \r\nL 157.513685 80.553707 \r\nL 157.53779 80.650166 \r\nL 157.541786 80.548116 \r\nL 157.621338 80.445911 \r\nL 157.875367 80.488419 \r\nL 157.945649 80.173526 \r\nL 158.083083 79.855721 \r\nL 158.103795 79.904119 \r\nL 158.209551 80.098459 \r\nL 158.335963 79.680312 \r\nL 158.496107 79.57537 \r\nL 158.534473 79.672558 \r\nL 158.574363 79.721265 \r\nL 158.582228 79.616028 \r\nL 158.606196 79.664767 \r\nL 158.708129 79.126785 \r\nL 158.75999 79.224261 \r\nL 159.020013 79.001403 \r\nL 159.11295 79.050272 \r\nL 159.136107 78.943008 \r\nL 159.151262 78.835575 \r\nL 159.192529 78.933361 \r\nL 159.436148 78.717798 \r\nL 159.554714 78.550371 \r\nL 159.751828 78.055154 \r\nL 159.808533 78.152708 \r\nL 159.907181 77.933648 \r\nL 159.924809 77.823854 \r\nL 160.013357 77.872603 \r\nL 160.623075 77.13299 \r\nL 160.709269 77.230394 \r\nL 160.746631 77.167462 \r\nL 160.991974 76.992158 \r\nL 161.117192 77.138872 \r\nL 161.117821 77.026366 \r\nL 161.322827 76.347451 \r\nL 161.662494 76.282291 \r\nL 161.733624 76.216916 \r\nL 161.771854 76.314495 \r\nL 161.775677 76.200101 \r\nL 161.837218 76.297895 \r\nL 162.140754 75.953248 \r\nL 162.178718 76.002102 \r\nL 162.353579 76.051038 \r\nL 162.394427 75.704339 \r\nL 162.459326 75.802121 \r\nL 162.616605 75.618702 \r\nL 162.675427 75.667685 \r\nL 162.682124 75.55112 \r\nL 163.009072 75.249089 \r\nL 163.066835 75.34701 \r\nL 163.079992 75.396095 \r\nL 163.506291 75.524894 \r\nL 163.522048 75.406825 \r\nL 163.556865 75.100707 \r\nL 163.810949 75.150084 \r\nL 164.56852 73.782395 \r\nL 164.718372 73.929665 \r\nL 164.732368 73.807553 \r\nL 165.075803 73.044389 \r\nL 165.087308 73.093306 \r\nL 165.286147 73.142308 \r\nL 165.561188 72.617307 \r\nL 165.739708 72.491995 \r\nL 165.760812 72.589803 \r\nL 165.846148 72.737165 \r\nL 165.851641 72.611293 \r\nL 165.879806 72.485198 \r\nL 165.892425 72.534357 \r\nL 166.365319 72.301901 \r\nL 166.498456 72.450071 \r\nL 166.887438 72.116299 \r\nL 167.045246 71.859591 \r\nL 167.12436 71.958286 \r\nL 167.287386 72.007768 \r\nL 167.397485 71.539987 \r\nL 167.513159 71.638819 \r\nL 167.831138 71.558226 \r\nL 167.855289 71.607794 \r\nL 167.907013 71.47734 \r\nL 168.293832 71.726167 \r\nL 168.322819 71.595105 \r\nL 168.406896 71.332259 \r\nL 168.667969 71.068447 \r\nL 168.672522 70.936177 \r\nL 169.084277 70.636708 \r\nL 169.281957 70.150835 \r\nL 169.39128 70.01636 \r\nL 169.435467 70.0656 \r\nL 169.478751 70.114931 \r\nL 169.480083 69.980047 \r\nL 169.657626 69.709522 \r\nL 169.807533 69.758705 \r\nL 169.8561 69.622982 \r\nL 170.130749 69.721463 \r\nL 170.554794 69.448928 \r\nL 170.803805 68.584297 \r\nL 170.848923 68.44566 \r\nL 170.90509 68.494391 \r\nL 171.207413 68.173863 \r\nL 171.854475 68.574365 \r\nL 171.854529 68.624066 \r\nL 171.903653 68.482789 \r\nL 172.085794 68.532498 \r\nL 172.243402 68.248944 \r\nL 172.266576 67.964289 \r\nL 172.392788 68.013736 \r\nL 172.638752 67.539181 \r\nL 172.639911 67.588551 \r\nL 172.708395 67.638017 \r\nL 172.98392 67.108215 \r\nL 173.200268 67.011851 \r\nL 173.232037 67.061138 \r\nL 173.590618 66.573368 \r\nL 173.726647 66.327296 \r\nL 173.745962 66.376393 \r\nL 174.041661 65.979879 \r\nL 174.042363 66.028874 \r\nL 174.091286 66.077966 \r\nL 174.477895 65.977691 \r\nL 174.508953 66.02688 \r\nL 174.824524 65.775926 \r\nL 174.867178 65.82511 \r\nL 174.931228 65.923777 \r\nL 175.02015 65.772893 \r\nL 175.077212 65.871755 \r\nL 175.095678 65.921336 \r\nL 175.172 65.769836 \r\nL 175.213551 65.869094 \r\nL 175.268906 65.918875 \r\nL 175.371979 65.61432 \r\nL 175.556803 64.995179 \r\nL 175.705259 65.044623 \r\nL 175.855649 64.734796 \r\nL 175.902136 64.784124 \r\nL 175.964316 64.833555 \r\nL 176.174778 64.052239 \r\nL 176.215772 64.101216 \r\nL 176.308836 63.676904 \r\nL 176.483241 63.774687 \r\nL 176.661578 63.297619 \r\nL 177.111279 63.44402 \r\nL 177.308603 63.591352 \r\nL 177.535781 63.430954 \r\nL 177.964807 63.529461 \r\nL 177.986896 63.207168 \r\nL 178.069131 63.25634 \r\nL 178.238134 63.354999 \r\nL 178.446488 62.917014 \r\nL 178.546478 63.015581 \r\nL 178.904392 63.114572 \r\nL 179.033889 62.622469 \r\nL 179.05814 62.671754 \r\nL 179.521199 61.872307 \r\nL 179.560131 61.704757 \r\nL 179.873594 61.732667 \r\nL 180.180551 61.103869 \r\nL 180.190487 61.152672 \r\nL 180.664459 61.030867 \r\nL 180.777203 61.079752 \r\nL 181.05303 60.736906 \r\nL 181.078732 60.785626 \r\nL 181.173174 60.613491 \r\nL 181.186997 60.662182 \r\nL 181.254523 60.710982 \r\nL 181.261786 60.538185 \r\nL 181.34798 60.684826 \r\nL 181.445168 60.783137 \r\nL 181.670119 60.484012 \r\nL 181.913884 60.309197 \r\nL 181.955663 60.407325 \r\nL 182.011045 60.5059 \r\nL 182.016748 60.330114 \r\nL 182.159556 60.026359 \r\nL 182.172548 60.075492 \r\nL 182.227028 59.898206 \r\nL 182.420738 59.720514 \r\nL 182.429871 59.542413 \r\nL 182.486905 59.591216 \r\nL 182.78243 59.68916 \r\nL 183.027536 59.248534 \r\nL 183.425523 59.29745 \r\nL 183.467475 59.116789 \r\nL 183.482201 59.214654 \r\nL 183.594061 59.263758 \r\nL 183.748329 58.766607 \r\nL 183.800326 58.448774 \r\nL 183.997413 58.264777 \r\nL 184.024566 58.313282 \r\nL 184.397398 58.459486 \r\nL 184.478017 58.088902 \r\nL 184.691846 57.951429 \r\nL 184.720377 58.000023 \r\nL 185.101585 56.872985 \r\nL 185.240871 56.541066 \r\nL 185.304155 56.636144 \r\nL 185.673356 56.253994 \r\nL 185.695418 56.301358 \r\nL 185.738647 55.917007 \r\nL 185.795891 56.011378 \r\nL 186.181469 55.671449 \r\nL 186.211378 55.282268 \r\nL 186.245109 55.329023 \r\nL 186.336932 55.133536 \r\nL 186.352215 55.180223 \r\nL 186.422032 55.227025 \r\nL 186.654592 54.880422 \r\nL 186.672621 54.927085 \r\nL 186.860885 55.020757 \r\nL 186.875355 54.822708 \r\nL 187.616212 54.905722 \r\nL 187.620363 54.705546 \r\nL 188.014409 54.303687 \r\nL 188.017666 54.102001 \r\nL 188.203557 53.899807 \r\nL 188.212134 53.697104 \r\nL 188.238612 53.743274 \r\nL 188.37819 53.789562 \r\nL 188.659062 53.381824 \r\nL 188.795 53.427829 \r\nL 189.040206 52.696047 \r\nL 189.239163 52.741588 \r\nL 189.548812 51.698443 \r\nL 189.76015 51.877563 \r\nL 189.974645 51.711318 \r\nL 190.039225 51.846582 \r\nL 190.418644 51.634067 \r\nL 190.43286 51.679172 \r\nL 191.095222 51.815196 \r\nL 191.392873 51.171653 \r\nL 191.78232 51.261595 \r\nL 191.997244 50.61159 \r\nL 192.050911 50.393772 \r\nL 192.084022 50.438009 \r\nL 192.227496 50.219381 \r\nL 192.338945 49.339024 \r\nL 192.381819 49.117461 \r\nL 192.452037 49.203458 \r\nL 192.713803 49.376844 \r\nL 192.758547 49.153237 \r\nL 192.7957 49.240147 \r\nL 193.001555 49.015444 \r\nL 193.161361 48.337661 \r\nL 193.18949 48.423055 \r\nL 193.340199 48.465927 \r\nL 193.552724 48.238009 \r\nL 193.574576 48.009465 \r\nL 194.144303 48.180091 \r\nL 194.881099 47.339379 \r\nL 194.883225 47.106083 \r\nL 194.988515 47.189944 \r\nL 195.02159 47.274276 \r\nL 195.602895 47.530129 \r\nL 195.890063 47.293472 \r\nL 196.40063 47.336263 \r\nL 196.430374 47.09866 \r\nL 196.517262 47.184051 \r\nL 196.558201 47.226929 \r\nL 196.779174 46.987815 \r\nL 196.816911 46.748017 \r\nL 197.385607 47.004481 \r\nL 197.414411 47.047657 \r\nL 197.490569 46.805174 \r\nL 197.929149 46.934585 \r\nL 198.061866 46.690528 \r\nL 198.063444 46.733624 \r\nL 198.390958 46.907269 \r\nL 198.539925 46.661025 \r\nL 198.669193 46.704457 \r\nL 198.821444 46.45719 \r\nL 198.863415 46.543837 \r\nL 199.126695 46.295237 \r\nL 199.328891 46.38179 \r\nL 199.379967 46.131843 \r\nL 199.459866 46.175005 \r\nL 199.872223 46.305265 \r\nL 199.948189 46.053335 \r\nL 200.57371 45.420652 \r\nL 200.574704 45.463457 \r\nL 200.578308 45.207205 \r\nL 200.632541 45.292557 \r\nL 200.825503 44.776412 \r\nL 201.103337 44.818626 \r\nL 201.318161 44.340341 \r\nL 201.942404 44.424079 \r\nL 202.107657 43.898896 \r\nL 202.733505 44.023425 \r\nL 202.750978 43.758583 \r\nL 203.26452 43.492919 \r\nL 203.853526 43.61652 \r\nL 203.917412 43.783131 \r\nL 203.937193 43.514164 \r\nL 204.623159 43.723598 \r\nL 204.695722 43.808304 \r\nL 205.023117 43.89355 \r\nL 205.029695 43.620463 \r\nL 205.083937 43.662921 \r\nL 205.487134 43.920556 \r\nL 205.605992 43.643977 \r\nL 205.947939 43.687025 \r\nL 206.068467 43.172831 \r\nL 206.745063 43.473695 \r\nL 206.812973 43.190902 \r\nL 206.847972 43.234055 \r\nL 207.325438 43.495995 \r\nL 207.404935 43.209457 \r\nL 207.459725 43.253218 \r\nL 207.805176 43.297127 \r\nL 207.915813 42.719521 \r\nL 208.144487 42.429257 \r\nL 208.20382 42.138012 \r\nL 208.236511 42.180405 \r\nL 209.023945 42.30845 \r\nL 209.114719 41.761697 \r\nL 209.315939 40.869509 \r\nL 209.756717 41.034117 \r\nL 210.002033 40.732883 \r\nL 210.363515 40.815141 \r\nL 210.400796 40.511951 \r\nL 210.466233 40.552838 \r\nL 211.147373 40.801189 \r\nL 211.204817 40.493689 \r\nL 211.644574 40.576704 \r\nL 211.740722 40.267167 \r\nL 211.747583 40.308418 \r\nL 212.455365 40.038217 \r\nL 213.126377 40.203357 \r\nL 213.161833 39.888686 \r\nL 213.526664 39.92985 \r\nL 213.549218 39.613546 \r\nL 214.038116 39.736436 \r\nL 214.057349 39.417475 \r\nL 214.075543 39.45823 \r\nL 214.251872 39.540188 \r\nL 214.521394 38.895681 \r\nL 214.565609 38.93585 \r\nL 214.741902 38.976168 \r\nL 215.219687 38.691025 \r\nL 215.346327 38.731113 \r\nL 215.658951 37.414365 \r\nL 215.868966 37.082095 \r\nL 216.0213 37.119616 \r\nL 216.158524 36.450213 \r\nL 216.161754 36.486753 \r\nL 216.678352 36.56025 \r\nL 216.932874 36.221946 \r\nL 217.324785 36.331517 \r\nL 217.524253 35.990189 \r\nL 217.747206 36.062767 \r\nL 217.949958 35.096891 \r\nL 218.486903 35.202231 \r\nL 218.529457 34.851364 \r\nL 218.56734 34.886135 \r\nL 218.640277 34.921042 \r\nL 219.193024 35.062049 \r\nL 219.289136 35.09765 \r\nL 219.347603 34.741006 \r\nL 219.428642 34.846739 \r\nL 219.684769 34.953745 \r\nL 219.781136 34.989701 \r\nL 219.865624 34.627087 \r\nL 220.047027 34.662529 \r\nL 220.150985 34.297784 \r\nL 220.215875 34.332702 \r\nL 220.335599 34.402962 \r\nL 220.374449 34.034711 \r\nL 221.268177 34.209464 \r\nL 221.550235 34.351883 \r\nL 221.629176 33.975853 \r\nL 221.756729 34.011119 \r\nL 221.883734 33.632803 \r\nL 222.214989 33.702337 \r\nL 222.940726 33.737324 \r\nL 223.039192 33.355238 \r\nL 223.55767 33.424185 \r\nL 223.649421 33.039 \r\nL 224.357987 33.244876 \r\nL 224.548915 32.853494 \r\nL 224.851721 32.921762 \r\nL 224.860261 32.527132 \r\nL 225.399286 32.594424 \r\nL 226.027307 31.395399 \r\nL 226.146849 31.426853 \r\nL 226.508413 30.617055 \r\nL 226.602134 30.67707 \r\nL 226.716695 30.267806 \r\nL 227.234899 30.297169 \r\nL 227.367032 29.885229 \r\nL 227.40809 29.942635 \r\nL 228.544406 30.029717 \r\nL 228.950623 29.219065 \r\nL 229.806486 29.41525 \r\nL 229.875646 28.986011 \r\nL 229.886503 29.013627 \r\nL 230.994061 29.239253 \r\nL 231.069224 28.799427 \r\nL 231.144807 28.855216 \r\nL 231.593578 28.939904 \r\nL 231.706076 28.493014 \r\nL 232.970419 28.802898 \r\nL 233.225854 27.960576 \r\nL 233.260379 27.987836 \r\nL 233.271893 27.518343 \r\nL 234.333776 27.6511 \r\nL 234.338739 27.678058 \r\nL 235.195716 27.814937 \r\nL 235.531989 26.843346 \r\nL 236.033733 26.868762 \r\nL 236.043952 26.377959 \r\nL 236.142381 26.426748 \r\nL 236.301759 25.930908 \r\nL 237.801482 26.00131 \r\nL 238.081752 25.499063 \r\nL 238.712509 25.544066 \r\nL 239.044931 25.036553 \r\nL 240.253673 25.188658 \r\nL 240.395569 25.233191 \r\nL 240.918226 25.255642 \r\nL 241.020086 24.731911 \r\nL 242.25047 24.860815 \r\nL 242.398387 24.325645 \r\nL 242.449408 24.346102 \r\nL 244.263944 24.600926 \r\nL 244.510729 24.043022 \r\nL 250.592285 24.522979 \r\nL 250.757848 23.924479 \r\nL 251.686649 24.033757 \r\nL 251.721156 23.422179 \r\nL 254.628961 23.764803 \r\nL 255.183333 23.11707 \r\nL 259.020614 23.328769 \r\nL 259.387744 22.654412 \r\nL 262.075333 22.96505 \r\nL 262.539286 22.268422 \r\nL 262.710817 21.544445 \r\nL 266.79012 21.773657 \r\nL 269.985731 22.048386 \r\nL 270.343719 20.421401 \r\nL 282.167255 20.815005 \r\nL 284.234725 21.078839 \r\nL 294.581548 21.527738 \r\nL 297.93234 21.907113 \r\nL 297.975734 21.936705 \r\nL 299.484307 22.058795 \r\nL 304.923262 22.220326 \r\nL 305.024265 22.253899 \r\nL 309.206687 22.501788 \r\nL 309.240628 22.539155 \r\nL 309.386794 21.203689 \r\nL 309.574546 21.232501 \r\nL 310.1037 19.869024 \r\nL 310.309481 19.908815 \r\nL 311.906448 19.94976 \r\nL 312.438794 18.527159 \r\nL 316.442058 18.628656 \r\nL 316.585158 17.083636 \r\nL 363.363068 17.083636 \r\nL 363.363068 17.083636 \r\n\" style=\"fill:none;stroke:#ff0000;stroke-dasharray:5.55,2.4;stroke-dashoffset:0;stroke-width:1.5;\"/>\r\n   </g>\r\n   <g id=\"line2d_14\">\r\n    <path clip-path=\"url(#p54705bbfe1)\" d=\"M 58.999432 17.083636 \r\nL 59.110342 17.173447 \r\nL 59.649442 17.263257 \r\nL 59.760095 17.353068 \r\nL 60.529603 17.442878 \r\nL 60.640332 17.532688 \r\nL 60.74081 17.622499 \r\nL 60.851536 17.80212 \r\nL 61.376171 17.89193 \r\nL 61.487245 17.981741 \r\nL 61.776714 18.071551 \r\nL 61.887153 18.251172 \r\nL 62.265666 18.340982 \r\nL 62.376409 18.520603 \r\nL 62.939707 18.610413 \r\nL 63.052278 18.790034 \r\nL 63.174188 18.879845 \r\nL 63.283937 19.059466 \r\nL 63.305884 19.149276 \r\nL 63.414995 19.328897 \r\nL 63.470854 19.418707 \r\nL 63.581938 19.598328 \r\nL 64.04992 19.688138 \r\nL 64.159698 19.777949 \r\nL 64.388466 19.867759 \r\nL 64.499362 19.95757 \r\nL 64.861584 20.04738 \r\nL 64.973515 20.227001 \r\nL 65.10038 20.316811 \r\nL 65.211641 20.496432 \r\nL 65.406046 20.586243 \r\nL 65.532868 20.855674 \r\nL 65.793107 20.945484 \r\nL 65.899995 21.035295 \r\nL 65.943622 21.125105 \r\nL 66.054819 21.394536 \r\nL 66.69672 21.484347 \r\nL 66.804956 21.574157 \r\nL 66.986549 21.663968 \r\nL 67.102761 22.023209 \r\nL 67.230539 22.11302 \r\nL 67.343941 22.382451 \r\nL 67.471592 22.472261 \r\nL 67.583057 22.562072 \r\nL 67.688042 22.651882 \r\nL 67.801064 22.921313 \r\nL 68.268735 23.011124 \r\nL 68.37765 23.190745 \r\nL 68.48831 23.280555 \r\nL 68.598827 23.549986 \r\nL 68.748634 23.639797 \r\nL 68.86058 23.819418 \r\nL 68.907385 23.909228 \r\nL 69.016824 23.999038 \r\nL 69.32106 24.088849 \r\nL 69.437766 24.26847 \r\nL 69.562262 24.35828 \r\nL 69.672515 24.448091 \r\nL 69.77823 24.537901 \r\nL 69.895882 24.807332 \r\nL 70.003163 24.897143 \r\nL 70.115857 25.076763 \r\nL 70.258034 25.166574 \r\nL 70.365462 25.346195 \r\nL 70.518141 25.436005 \r\nL 70.634045 25.795247 \r\nL 70.800758 25.885057 \r\nL 70.909594 26.064678 \r\nL 71.010236 26.154488 \r\nL 71.126134 26.334109 \r\nL 71.239064 26.42392 \r\nL 71.354696 26.51373 \r\nL 71.416725 26.603541 \r\nL 71.531145 26.693351 \r\nL 71.567225 26.783161 \r\nL 71.689934 27.052593 \r\nL 71.768619 27.142403 \r\nL 71.888722 27.501645 \r\nL 72.135347 27.591455 \r\nL 72.24645 27.771076 \r\nL 72.754199 27.860886 \r\nL 72.873693 28.399749 \r\nL 73.138654 28.489559 \r\nL 73.249953 28.57937 \r\nL 73.375893 28.66918 \r\nL 73.497048 28.848801 \r\nL 73.659092 28.938611 \r\nL 73.771045 29.028422 \r\nL 74.025659 29.118232 \r\nL 74.137387 29.387663 \r\nL 74.150438 29.477474 \r\nL 74.264041 29.746905 \r\nL 74.359347 29.836716 \r\nL 74.469751 30.016336 \r\nL 75.082532 30.106147 \r\nL 75.205672 30.285768 \r\nL 75.379066 30.375578 \r\nL 75.491764 30.645009 \r\nL 75.616265 30.73482 \r\nL 75.75366 31.094061 \r\nL 75.886651 31.183872 \r\nL 75.996133 31.363493 \r\nL 76.126372 31.722734 \r\nL 76.46291 31.812545 \r\nL 76.578595 31.992166 \r\nL 76.739085 32.081976 \r\nL 76.865621 32.351407 \r\nL 77.070814 32.441218 \r\nL 77.17772 32.620838 \r\nL 77.318495 33.159701 \r\nL 77.332409 33.249511 \r\nL 77.461208 33.429132 \r\nL 77.500496 33.518943 \r\nL 77.632398 33.878184 \r\nL 77.781142 33.967995 \r\nL 77.890625 34.057805 \r\nL 77.973367 34.147616 \r\nL 78.109376 34.327236 \r\nL 78.167226 34.417047 \r\nL 78.286039 34.686478 \r\nL 78.355914 34.776288 \r\nL 78.473123 35.04572 \r\nL 78.487313 35.13553 \r\nL 78.604189 35.315151 \r\nL 78.789665 35.404961 \r\nL 78.903826 35.674393 \r\nL 78.99456 35.764203 \r\nL 79.107799 36.123445 \r\nL 79.138326 36.213255 \r\nL 79.247626 36.392876 \r\nL 79.289006 36.482686 \r\nL 79.397811 36.841928 \r\nL 79.547132 36.931738 \r\nL 79.652885 37.29098 \r\nL 79.833375 37.380791 \r\nL 79.963811 37.560411 \r\nL 80.098063 37.650222 \r\nL 80.235655 38.009463 \r\nL 80.32283 38.099274 \r\nL 80.444906 38.458516 \r\nL 80.521718 38.548326 \r\nL 80.633247 38.907568 \r\nL 80.918547 38.997378 \r\nL 81.035806 39.087188 \r\nL 81.211152 39.176999 \r\nL 81.322793 39.35662 \r\nL 81.559639 39.44643 \r\nL 81.668098 39.715861 \r\nL 81.740978 39.805672 \r\nL 81.892611 40.075103 \r\nL 82.060127 40.164913 \r\nL 82.170691 40.344534 \r\nL 82.200315 40.434345 \r\nL 82.307478 40.703776 \r\nL 82.442581 40.793586 \r\nL 82.56788 41.063018 \r\nL 82.724098 41.152828 \r\nL 82.830757 41.332449 \r\nL 82.944027 41.422259 \r\nL 82.994389 41.51207 \r\nL 83.111369 41.691691 \r\nL 83.284683 41.781501 \r\nL 83.444934 42.230553 \r\nL 83.480903 42.320363 \r\nL 83.598032 42.410174 \r\nL 83.780883 42.499984 \r\nL 83.882761 42.589795 \r\nL 84.007602 42.679605 \r\nL 84.122012 42.859226 \r\nL 84.300118 42.949036 \r\nL 84.407176 43.218468 \r\nL 84.543329 43.308278 \r\nL 84.657798 43.487899 \r\nL 84.899069 43.577709 \r\nL 85.042744 43.75733 \r\nL 85.259126 43.847141 \r\nL 85.372199 44.026761 \r\nL 85.430145 44.116572 \r\nL 85.54175 44.386003 \r\nL 85.74583 44.475813 \r\nL 85.857466 44.565624 \r\nL 85.883309 44.655434 \r\nL 86.131424 45.104486 \r\nL 86.231377 45.194297 \r\nL 86.358599 45.284107 \r\nL 86.467745 45.373918 \r\nL 86.604761 45.91278 \r\nL 86.63407 46.002591 \r\nL 86.742957 46.182211 \r\nL 86.785395 46.272022 \r\nL 86.906958 46.451643 \r\nL 86.958465 46.541453 \r\nL 87.084228 46.810884 \r\nL 87.309286 46.900695 \r\nL 87.392912 47.080316 \r\nL 87.672992 47.170126 \r\nL 87.793691 47.349747 \r\nL 87.919207 47.619178 \r\nL 88.050571 47.708988 \r\nL 88.197622 47.888609 \r\nL 88.3202 47.97842 \r\nL 88.452568 48.247851 \r\nL 88.57547 48.337661 \r\nL 88.68696 48.517282 \r\nL 88.847749 48.607093 \r\nL 88.973749 48.696903 \r\nL 89.000658 48.786713 \r\nL 89.13374 48.966334 \r\nL 89.195947 49.056145 \r\nL 89.3205 49.325576 \r\nL 89.646445 49.415386 \r\nL 89.775825 49.774628 \r\nL 89.84779 49.864438 \r\nL 89.944971 49.954249 \r\nL 90.275414 50.582922 \r\nL 90.338688 50.672732 \r\nL 90.584301 51.570836 \r\nL 90.781951 52.019888 \r\nL 90.894064 52.28932 \r\nL 90.981601 52.37913 \r\nL 91.092099 52.648561 \r\nL 91.120596 52.738372 \r\nL 91.237232 53.097613 \r\nL 91.339126 53.187424 \r\nL 91.479979 53.277234 \r\nL 91.639696 53.367045 \r\nL 91.743246 53.456855 \r\nL 91.961804 53.546666 \r\nL 92.110645 53.636476 \r\nL 92.356662 53.726286 \r\nL 92.571428 54.265149 \r\nL 92.618911 54.354959 \r\nL 92.731373 54.53458 \r\nL 92.800535 54.624391 \r\nL 92.974032 54.983632 \r\nL 93.117289 55.073443 \r\nL 93.194371 55.163253 \r\nL 93.321575 55.342874 \r\nL 93.401669 55.432684 \r\nL 93.504207 55.612305 \r\nL 93.676214 56.151168 \r\nL 93.75062 56.240978 \r\nL 93.873684 56.779841 \r\nL 93.940453 56.869651 \r\nL 94.047103 56.959461 \r\nL 94.290726 57.049272 \r\nL 94.401103 57.318703 \r\nL 94.543202 57.408513 \r\nL 94.655527 57.498324 \r\nL 94.794079 57.588134 \r\nL 94.887045 57.947376 \r\nL 95.073427 58.216807 \r\nL 95.09103 58.306618 \r\nL 95.201393 58.486238 \r\nL 95.265411 58.576049 \r\nL 95.365882 58.665859 \r\nL 95.401105 58.75567 \r\nL 95.535667 58.935291 \r\nL 95.674548 59.025101 \r\nL 95.758242 59.114911 \r\nL 95.88293 59.204722 \r\nL 95.986126 59.384343 \r\nL 96.091266 59.474153 \r\nL 96.24511 60.013016 \r\nL 96.479682 60.102826 \r\nL 96.629005 60.372257 \r\nL 96.786147 60.462068 \r\nL 96.909922 60.821309 \r\nL 96.948663 60.91112 \r\nL 97.051079 61.00093 \r\nL 97.068958 61.090741 \r\nL 97.168053 61.180551 \r\nL 97.32587 61.449982 \r\nL 97.367338 61.539793 \r\nL 97.479891 61.719413 \r\nL 97.529425 61.809224 \r\nL 97.649328 62.168466 \r\nL 97.698903 62.258276 \r\nL 97.815744 62.437897 \r\nL 97.983192 62.527707 \r\nL 98.099572 62.886949 \r\nL 98.391293 62.976759 \r\nL 98.536897 63.06657 \r\nL 98.610701 63.15638 \r\nL 98.840301 63.605432 \r\nL 98.914123 63.695243 \r\nL 99.164065 64.503536 \r\nL 99.202791 64.593347 \r\nL 99.315915 64.862778 \r\nL 99.457614 65.22202 \r\nL 99.570888 65.31183 \r\nL 99.754398 65.760882 \r\nL 99.776861 65.850693 \r\nL 99.887603 66.030313 \r\nL 99.969829 66.120124 \r\nL 100.084567 66.389555 \r\nL 100.142253 66.479366 \r\nL 100.244592 66.748797 \r\nL 100.293318 66.838607 \r\nL 100.395128 67.018228 \r\nL 100.47624 67.108038 \r\nL 100.611001 67.287659 \r\nL 100.678149 67.37747 \r\nL 100.776295 67.46728 \r\nL 100.927324 67.557091 \r\nL 101.141162 67.646901 \r\nL 101.282255 68.455195 \r\nL 101.359106 68.545005 \r\nL 101.484666 68.814436 \r\nL 101.647738 68.904247 \r\nL 101.842681 69.353299 \r\nL 101.903067 69.443109 \r\nL 102.1604 69.892161 \r\nL 102.199756 69.981972 \r\nL 102.305001 70.071782 \r\nL 102.562657 70.161593 \r\nL 102.683709 70.251403 \r\nL 102.70963 70.341213 \r\nL 102.840846 71.059697 \r\nL 103.000283 71.239318 \r\nL 103.310547 71.329128 \r\nL 103.4418 71.508749 \r\nL 103.516233 71.598559 \r\nL 103.623764 71.77818 \r\nL 103.928814 71.867991 \r\nL 104.070683 72.227232 \r\nL 104.179842 72.406853 \r\nL 104.326737 72.496664 \r\nL 104.436964 72.676284 \r\nL 104.602682 72.766095 \r\nL 104.73274 72.945716 \r\nL 104.92396 73.035526 \r\nL 105.052808 73.394768 \r\nL 105.337863 73.484578 \r\nL 105.448651 73.754009 \r\nL 105.508103 73.84382 \r\nL 105.593325 73.93363 \r\nL 105.710892 74.023441 \r\nL 105.780207 74.113251 \r\nL 105.893371 74.203061 \r\nL 106.002931 74.292872 \r\nL 106.118952 74.652114 \r\nL 106.334213 74.741924 \r\nL 106.462017 75.011355 \r\nL 106.846181 75.101166 \r\nL 107.53332 76.268701 \r\nL 107.875131 76.358511 \r\nL 108.027893 76.627943 \r\nL 108.116578 76.717753 \r\nL 108.300969 77.076995 \r\nL 108.880596 78.513961 \r\nL 109.081058 78.603772 \r\nL 109.272096 79.232445 \r\nL 109.341867 79.322255 \r\nL 109.519533 79.861118 \r\nL 109.663117 79.950928 \r\nL 109.812946 80.220359 \r\nL 109.849473 80.31017 \r\nL 109.943902 80.489791 \r\nL 110.089912 80.579601 \r\nL 110.345187 81.118464 \r\nL 110.491823 81.208274 \r\nL 110.595913 81.477705 \r\nL 110.858893 81.747136 \r\nL 111.128479 81.836947 \r\nL 111.238765 82.016568 \r\nL 111.38488 82.106378 \r\nL 111.497808 82.196189 \r\nL 111.561365 82.285999 \r\nL 111.670962 82.375809 \r\nL 111.89746 82.46562 \r\nL 112.108634 82.824861 \r\nL 112.17376 82.914672 \r\nL 112.265265 83.184103 \r\nL 112.459185 83.273914 \r\nL 112.540124 83.543345 \r\nL 112.681687 83.633155 \r\nL 112.799194 83.812776 \r\nL 112.887186 83.902586 \r\nL 113.018926 84.172018 \r\nL 113.099249 84.261828 \r\nL 113.294132 84.71088 \r\nL 113.615984 85.339553 \r\nL 113.675984 85.429364 \r\nL 113.78715 85.698795 \r\nL 114.024847 85.788605 \r\nL 114.143828 85.968226 \r\nL 114.215296 86.058036 \r\nL 114.770808 87.135761 \r\nL 114.828919 87.225572 \r\nL 114.941883 87.584814 \r\nL 115.100252 87.674624 \r\nL 115.295322 88.213486 \r\nL 115.375394 88.303297 \r\nL 115.478262 88.482918 \r\nL 115.528503 88.572728 \r\nL 115.649601 88.842159 \r\nL 115.677739 88.93197 \r\nL 116.836554 90.548557 \r\nL 116.923054 90.638368 \r\nL 117.014805 90.817989 \r\nL 117.201759 90.907799 \r\nL 117.303341 91.17723 \r\nL 117.400629 91.267041 \r\nL 117.493822 91.356851 \r\nL 117.688413 91.446661 \r\nL 117.847265 91.626282 \r\nL 118.004389 91.716093 \r\nL 118.041163 91.895714 \r\nL 118.201375 91.985524 \r\nL 118.317779 92.254955 \r\nL 118.422869 92.344766 \r\nL 118.534213 92.434576 \r\nL 118.767535 92.524386 \r\nL 118.880567 92.704007 \r\nL 119.420537 92.793818 \r\nL 120.185763 94.410405 \r\nL 120.517592 94.500216 \r\nL 120.587988 94.679836 \r\nL 121.513988 95.847372 \r\nL 121.611281 96.026993 \r\nL 121.864717 96.116803 \r\nL 121.982539 96.296424 \r\nL 122.100718 96.386234 \r\nL 122.211993 96.565855 \r\nL 122.406826 96.745476 \r\nL 122.473636 96.835286 \r\nL 122.591637 97.014907 \r\nL 122.792564 97.104718 \r\nL 122.899885 97.284339 \r\nL 122.980199 97.374149 \r\nL 123.193476 97.913011 \r\nL 123.316822 98.002822 \r\nL 123.560085 98.541684 \r\nL 123.749038 99.170357 \r\nL 123.807819 99.260168 \r\nL 123.922357 99.619409 \r\nL 124.186769 99.70922 \r\nL 124.466309 100.248082 \r\nL 124.592425 100.337893 \r\nL 124.694034 100.607324 \r\nL 125.058417 100.697134 \r\nL 125.186814 100.876755 \r\nL 125.333819 100.966566 \r\nL 125.391496 101.056376 \r\nL 125.531809 101.325807 \r\nL 125.566544 101.415618 \r\nL 125.965877 102.134101 \r\nL 126.004626 102.223911 \r\nL 126.095921 102.403532 \r\nL 126.171056 102.493343 \r\nL 126.287971 102.762774 \r\nL 126.372655 102.852584 \r\nL 126.405592 103.122016 \r\nL 126.578135 103.211826 \r\nL 126.719155 103.391447 \r\nL 126.849477 103.481257 \r\nL 127.118579 104.10993 \r\nL 127.262893 104.199741 \r\nL 127.384342 104.558982 \r\nL 127.639991 104.828414 \r\nL 127.689502 104.918224 \r\nL 127.872693 105.187655 \r\nL 127.995688 105.457086 \r\nL 128.241365 105.636707 \r\nL 128.545772 105.726518 \r\nL 128.651952 105.995949 \r\nL 128.696559 106.085759 \r\nL 128.783624 106.17557 \r\nL 128.874389 106.26538 \r\nL 128.967417 106.445001 \r\nL 129.140594 106.534811 \r\nL 129.250164 106.714432 \r\nL 129.474449 106.804243 \r\nL 129.623703 106.983864 \r\nL 129.824079 107.253295 \r\nL 129.919735 107.343105 \r\nL 129.990382 107.522726 \r\nL 130.402661 107.612536 \r\nL 130.523841 107.792157 \r\nL 130.842003 108.510641 \r\nL 130.932626 108.690261 \r\nL 131.37252 108.780072 \r\nL 131.519174 108.959693 \r\nL 131.886878 109.049503 \r\nL 132.015777 109.318934 \r\nL 132.140547 109.408745 \r\nL 132.453476 109.678176 \r\nL 132.796076 109.767986 \r\nL 133.073951 110.127228 \r\nL 133.116929 110.217039 \r\nL 133.348573 110.666091 \r\nL 133.447285 110.755901 \r\nL 133.619472 111.025332 \r\nL 133.686369 111.115143 \r\nL 133.731638 111.204953 \r\nL 133.834679 111.294764 \r\nL 133.95527 111.654005 \r\nL 134.634713 112.462299 \r\nL 134.743005 112.552109 \r\nL 134.988832 112.911351 \r\nL 135.066495 113.001161 \r\nL 135.256091 113.270593 \r\nL 135.338946 113.360403 \r\nL 135.43243 113.450214 \r\nL 135.554627 113.719645 \r\nL 135.650894 113.809455 \r\nL 136.021409 113.899266 \r\nL 136.302801 114.258507 \r\nL 136.586574 114.348318 \r\nL 136.721809 114.527939 \r\nL 136.893513 114.617749 \r\nL 137.273042 115.156611 \r\nL 137.601696 115.246422 \r\nL 137.753045 115.336232 \r\nL 137.81954 115.426043 \r\nL 137.960578 115.515853 \r\nL 138.03211 115.605664 \r\nL 138.183559 115.695474 \r\nL 138.71867 115.785284 \r\nL 139.497509 117.04263 \r\nL 139.538439 117.132441 \r\nL 139.718418 117.401872 \r\nL 140.15958 117.491682 \r\nL 140.312579 117.671303 \r\nL 140.348017 117.761114 \r\nL 140.463553 118.030545 \r\nL 140.762518 118.479597 \r\nL 140.957269 118.569407 \r\nL 141.034686 118.838839 \r\nL 141.219638 118.928649 \r\nL 142.375479 120.814668 \r\nL 142.645192 120.904478 \r\nL 142.718266 121.26372 \r\nL 143.012641 121.35353 \r\nL 143.155532 121.443341 \r\nL 143.156453 121.533151 \r\nL 143.879837 121.892393 \r\nL 143.972171 121.982203 \r\nL 144.145326 122.072014 \r\nL 144.385477 122.161824 \r\nL 144.411754 122.251634 \r\nL 144.683566 122.341445 \r\nL 144.778072 122.521066 \r\nL 144.86016 122.610876 \r\nL 144.969539 122.880307 \r\nL 145.237965 122.970118 \r\nL 145.639374 123.329359 \r\nL 145.857044 123.41917 \r\nL 145.990154 123.778411 \r\nL 146.095152 123.868222 \r\nL 146.121976 123.958032 \r\nL 146.281655 124.047843 \r\nL 146.662671 124.317274 \r\nL 146.736995 124.407084 \r\nL 146.823271 124.496895 \r\nL 147.20135 124.586705 \r\nL 147.452797 124.676516 \r\nL 147.624437 125.305189 \r\nL 147.797819 125.394999 \r\nL 147.92071 125.484809 \r\nL 148.113381 125.57462 \r\nL 148.533949 125.933861 \r\nL 148.648847 126.023672 \r\nL 148.906161 126.382914 \r\nL 149.209779 126.921776 \r\nL 149.721779 127.370828 \r\nL 149.869177 127.460639 \r\nL 149.951447 127.73007 \r\nL 150.312774 128.089311 \r\nL 150.528775 128.179122 \r\nL 150.65912 128.358743 \r\nL 150.782494 128.448553 \r\nL 150.895129 128.538364 \r\nL 151.087563 128.628174 \r\nL 151.492338 129.077226 \r\nL 151.586798 129.346657 \r\nL 152.151389 129.436468 \r\nL 152.474806 129.88552 \r\nL 152.87928 129.97533 \r\nL 153.098337 130.154951 \r\nL 153.144677 130.244761 \r\nL 153.248244 130.424382 \r\nL 153.445622 130.873434 \r\nL 153.617134 130.963245 \r\nL 153.714998 131.232676 \r\nL 154.281085 131.322486 \r\nL 154.509549 131.412297 \r\nL 154.558864 131.502107 \r\nL 154.645331 131.681728 \r\nL 155.034742 132.13078 \r\nL 155.312028 132.220591 \r\nL 155.615071 132.669643 \r\nL 156.273629 133.567747 \r\nL 156.467422 133.657557 \r\nL 156.587639 133.837178 \r\nL 156.794881 134.106609 \r\nL 157.297921 134.19642 \r\nL 157.43802 134.465851 \r\nL 157.528119 134.555661 \r\nL 157.621338 134.645472 \r\nL 157.933204 134.914903 \r\nL 158.0751 135.274145 \r\nL 158.103795 135.363955 \r\nL 158.224897 135.723197 \r\nL 158.506444 135.813007 \r\nL 158.75999 136.44168 \r\nL 158.895262 136.531491 \r\nL 159.177265 136.800922 \r\nL 159.192529 136.890732 \r\nL 159.596675 136.980543 \r\nL 159.717394 137.070353 \r\nL 159.764054 137.160164 \r\nL 159.924809 137.249974 \r\nL 160.206621 137.429595 \r\nL 160.563787 137.519405 \r\nL 160.673548 137.699026 \r\nL 160.889804 137.968457 \r\nL 161.04784 138.058268 \r\nL 161.146945 138.237889 \r\nL 161.662494 138.327699 \r\nL 161.837218 138.776751 \r\nL 162.178718 138.866561 \r\nL 162.39554 139.046182 \r\nL 162.682124 139.315614 \r\nL 163.009072 139.405424 \r\nL 163.079992 139.674855 \r\nL 163.385407 139.854476 \r\nL 163.556865 140.213718 \r\nL 164.56852 140.66277 \r\nL 165.561188 141.471064 \r\nL 165.759333 141.560874 \r\nL 165.851641 141.920116 \r\nL 166.058791 142.009926 \r\nL 166.498456 142.548789 \r\nL 167.045246 142.638599 \r\nL 167.12436 142.81822 \r\nL 167.471097 143.087651 \r\nL 167.513159 143.177461 \r\nL 167.831138 143.267272 \r\nL 167.993088 143.446893 \r\nL 168.293832 143.806134 \r\nL 169.00374 143.895945 \r\nL 169.190452 144.075566 \r\nL 169.435467 144.165376 \r\nL 169.545411 144.255186 \r\nL 169.8561 144.344997 \r\nL 170.554794 144.524618 \r\nL 170.648881 144.614428 \r\nL 170.768067 144.704239 \r\nL 171.050982 144.794049 \r\nL 171.107204 144.97367 \r\nL 171.307138 145.06348 \r\nL 171.737661 145.692153 \r\nL 171.854529 146.051395 \r\nL 172.266576 146.141205 \r\nL 172.541326 146.231016 \r\nL 172.633998 146.320826 \r\nL 172.708395 146.590257 \r\nL 173.153754 146.680068 \r\nL 173.370822 146.949499 \r\nL 173.618072 147.039309 \r\nL 173.726647 147.12912 \r\nL 173.819611 147.21893 \r\nL 174.091286 147.488361 \r\nL 174.477895 147.578172 \r\nL 174.508953 147.667982 \r\nL 174.824524 147.757793 \r\nL 175.28199 148.566086 \r\nL 175.463967 148.655897 \r\nL 175.556803 148.835518 \r\nL 176.661578 149.464191 \r\nL 177.009 149.643811 \r\nL 177.535781 150.003053 \r\nL 178.069131 150.272484 \r\nL 178.546478 150.721536 \r\nL 179.330335 151.170589 \r\nL 179.560131 151.350209 \r\nL 179.825429 151.52983 \r\nL 179.953648 151.709451 \r\nL 180.037168 151.799261 \r\nL 180.644751 151.889072 \r\nL 180.777203 152.068693 \r\nL 181.173174 152.158503 \r\nL 181.34798 152.607555 \r\nL 181.670119 152.876986 \r\nL 181.922324 152.966797 \r\nL 182.172548 153.415849 \r\nL 182.486905 153.505659 \r\nL 183.425523 153.954711 \r\nL 183.482128 154.044522 \r\nL 183.482201 154.134332 \r\nL 183.800326 154.403764 \r\nL 184.024566 154.493574 \r\nL 184.975912 154.942626 \r\nL 185.240871 155.032436 \r\nL 185.304155 155.212057 \r\nL 185.738647 155.301868 \r\nL 185.795891 155.481489 \r\nL 186.211378 155.571299 \r\nL 186.422032 155.84073 \r\nL 186.654592 155.930541 \r\nL 186.672621 156.020351 \r\nL 187.163152 156.379593 \r\nL 187.225378 156.469403 \r\nL 188.017666 156.738834 \r\nL 188.238612 156.828645 \r\nL 188.460287 156.918455 \r\nL 188.844397 157.008266 \r\nL 189.01007 157.187886 \r\nL 189.548812 157.277697 \r\nL 189.76015 157.636939 \r\nL 189.974645 157.726749 \r\nL 190.039225 157.99618 \r\nL 190.43286 158.085991 \r\nL 192.050911 158.535043 \r\nL 192.084022 158.624853 \r\nL 192.442375 158.714664 \r\nL 192.527127 158.894284 \r\nL 192.791704 159.253526 \r\nL 192.7957 159.343336 \r\nL 193.179527 159.433147 \r\nL 193.18949 159.522957 \r\nL 193.552724 159.612768 \r\nL 193.764099 159.702578 \r\nL 194.409655 159.972009 \r\nL 194.797733 160.06182 \r\nL 195.007311 160.421062 \r\nL 195.02159 160.510872 \r\nL 195.514667 160.870114 \r\nL 195.602895 161.049734 \r\nL 196.430374 161.139545 \r\nL 196.779174 161.408976 \r\nL 196.971589 161.498787 \r\nL 197.333354 161.768218 \r\nL 197.414411 162.037649 \r\nL 197.611443 162.127459 \r\nL 197.929149 162.30708 \r\nL 198.063444 162.396891 \r\nL 198.184309 162.576512 \r\nL 198.188734 162.666322 \r\nL 199.788392 163.474616 \r\nL 199.948189 163.564426 \r\nL 200.327034 163.654237 \r\nL 200.578308 163.923668 \r\nL 200.632541 164.103289 \r\nL 201.20839 164.193099 \r\nL 201.490019 164.37272 \r\nL 203.830086 164.911582 \r\nL 203.937193 165.360634 \r\nL 204.598159 165.719876 \r\nL 204.695722 165.989307 \r\nL 205.083937 166.258739 \r\nL 205.487134 166.797601 \r\nL 205.97074 166.887412 \r\nL 206.068467 166.977222 \r\nL 206.925517 167.785516 \r\nL 207.023599 168.054947 \r\nL 207.459725 168.324378 \r\nL 209.035359 168.77343 \r\nL 209.114719 168.863241 \r\nL 209.54506 168.953051 \r\nL 209.73378 169.132672 \r\nL 209.756717 169.222482 \r\nL 210.343132 169.312293 \r\nL 210.466233 169.491914 \r\nL 211.147373 170.030776 \r\nL 211.432934 170.120587 \r\nL 211.747583 170.300207 \r\nL 212.455365 170.390018 \r\nL 213.161833 170.749259 \r\nL 213.830126 171.018691 \r\nL 214.192566 171.288122 \r\nL 214.357564 171.377932 \r\nL 214.565609 171.467743 \r\nL 214.741902 171.557553 \r\nL 215.219687 171.647364 \r\nL 215.530394 171.737174 \r\nL 216.158524 171.826984 \r\nL 216.161754 171.916795 \r\nL 217.045938 172.186226 \r\nL 218.093642 172.814899 \r\nL 218.141361 172.904709 \r\nL 218.56734 173.08433 \r\nL 218.640277 173.174141 \r\nL 219.155671 173.353762 \r\nL 219.193024 173.533382 \r\nL 219.428642 173.892624 \r\nL 219.469864 173.982434 \r\nL 220.215875 174.431487 \r\nL 220.374449 174.611107 \r\nL 220.881997 174.790728 \r\nL 220.889113 174.880539 \r\nL 221.268177 175.060159 \r\nL 221.629176 175.419401 \r\nL 222.039352 175.599022 \r\nL 222.214989 175.688832 \r\nL 223.649421 175.958264 \r\nL 223.765788 176.048074 \r\nL 224.166567 176.227695 \r\nL 224.277788 176.407316 \r\nL 224.357987 176.497126 \r\nL 224.706431 176.586937 \r\nL 224.996117 176.766557 \r\nL 225.75315 176.856368 \r\nL 226.508413 176.946178 \r\nL 226.716695 177.125799 \r\nL 227.40205 177.30542 \r\nL 227.40809 177.39523 \r\nL 228.784658 177.664662 \r\nL 228.950623 177.754472 \r\nL 229.429995 178.023903 \r\nL 230.357081 178.742387 \r\nL 230.881982 178.922007 \r\nL 231.069224 179.191439 \r\nL 231.391427 179.55068 \r\nL 232.865932 180.269164 \r\nL 232.970419 180.628405 \r\nL 233.15569 180.718216 \r\nL 233.271893 180.987647 \r\nL 234.193924 181.167268 \r\nL 234.239398 181.346889 \r\nL 234.338739 181.526509 \r\nL 234.798879 181.70613 \r\nL 235.195716 181.975562 \r\nL 236.043952 182.065372 \r\nL 236.301759 182.244993 \r\nL 237.801482 182.514424 \r\nL 238.401966 182.604234 \r\nL 239.044931 182.694045 \r\nL 239.754556 182.873666 \r\nL 239.851909 183.053287 \r\nL 240.241757 183.232907 \r\nL 240.265626 183.412528 \r\nL 240.395569 183.502339 \r\nL 242.069852 183.86158 \r\nL 242.242294 184.041201 \r\nL 242.25047 184.131012 \r\nL 242.449408 184.220822 \r\nL 243.012849 184.669874 \r\nL 243.063706 184.759684 \r\nL 243.475708 184.939305 \r\nL 243.989441 185.208737 \r\nL 245.339185 185.747599 \r\nL 246.74827 186.286462 \r\nL 247.750847 186.466082 \r\nL 248.049474 186.735514 \r\nL 250.145631 187.004945 \r\nL 250.554311 187.184566 \r\nL 250.592285 187.274376 \r\nL 251.032607 187.364187 \r\nL 253.09953 188.621532 \r\nL 253.106008 188.711343 \r\nL 254.44077 189.070584 \r\nL 254.628961 189.160395 \r\nL 255.678399 189.250205 \r\nL 256.844167 189.519637 \r\nL 256.895589 189.609447 \r\nL 257.176242 189.699257 \r\nL 258.292668 189.878878 \r\nL 258.464417 189.968689 \r\nL 260.172623 190.32793 \r\nL 260.791866 190.597362 \r\nL 261.603259 191.136224 \r\nL 261.635576 191.315845 \r\nL 262.937072 191.675087 \r\nL 262.963824 191.764897 \r\nL 264.597359 191.944518 \r\nL 264.690752 192.034328 \r\nL 266.172884 192.48338 \r\nL 266.17949 192.573191 \r\nL 267.402264 192.842622 \r\nL 267.464398 192.932432 \r\nL 267.91921 193.112053 \r\nL 267.974738 193.201864 \r\nL 270.343719 193.920347 \r\nL 272.638741 194.369399 \r\nL 274.087388 194.818451 \r\nL 277.346447 195.177693 \r\nL 277.97372 195.267503 \r\nL 280.915867 195.447124 \r\nL 280.924864 195.536934 \r\nL 281.34619 195.716555 \r\nL 281.707225 196.075797 \r\nL 282.284479 196.255418 \r\nL 282.654711 196.435039 \r\nL 283.018958 196.70447 \r\nL 283.637124 196.884091 \r\nL 283.653255 196.973901 \r\nL 284.015294 197.153522 \r\nL 284.234725 197.422953 \r\nL 287.458438 197.961816 \r\nL 287.547324 198.051626 \r\nL 290.47553 198.590489 \r\nL 290.670692 198.680299 \r\nL 294.581548 199.219162 \r\nL 297.590392 200.207076 \r\nL 297.762324 200.386697 \r\nL 298.341915 200.656128 \r\nL 299.484307 200.925559 \r\nL 302.288172 201.10518 \r\nL 304.923262 201.374612 \r\nL 305.024265 201.464422 \r\nL 306.194138 201.644043 \r\nL 306.413059 201.733853 \r\nL 310.243515 202.362526 \r\nL 310.309481 202.452337 \r\nL 312.681692 202.721768 \r\nL 312.719629 202.811578 \r\nL 313.137069 202.991199 \r\nL 314.310793 203.17082 \r\nL 314.404843 203.26063 \r\nL 316.583133 203.440251 \r\nL 316.585158 203.530062 \r\nL 317.446332 203.799493 \r\nL 317.677497 203.889303 \r\nL 320.468515 204.158734 \r\nL 320.790409 204.428166 \r\nL 323.75106 204.787407 \r\nL 323.808687 204.877218 \r\nL 327.695036 205.685512 \r\nL 327.86414 205.775322 \r\nL 329.073429 205.954943 \r\nL 329.189796 206.134564 \r\nL 331.810562 206.493805 \r\nL 332.213439 206.673426 \r\nL 333.945166 206.853047 \r\nL 334.153886 207.032668 \r\nL 334.334029 207.122478 \r\nL 340.473486 208.200203 \r\nL 342.259537 208.379824 \r\nL 343.16779 208.739066 \r\nL 343.260709 208.918687 \r\nL 344.847639 209.188118 \r\nL 345.37796 209.367739 \r\nL 345.421718 209.547359 \r\nL 348.672037 210.086222 \r\nL 348.913292 210.176032 \r\nL 351.488347 210.535274 \r\nL 351.649841 210.625084 \r\nL 353.380747 210.894516 \r\nL 353.549321 211.074137 \r\nL 353.593591 211.163947 \r\nL 354.435549 211.343568 \r\nL 355.038716 211.612999 \r\nL 355.167747 211.702809 \r\nL 355.891058 211.88243 \r\nL 357.781889 212.331482 \r\nL 358.45197 212.511103 \r\nL 358.618391 212.690724 \r\nL 359.800509 212.870345 \r\nL 360.22242 213.319397 \r\nL 361.568422 213.588828 \r\nL 361.867341 213.768449 \r\nL 362.332006 213.94807 \r\nL 362.644155 214.217501 \r\nL 363.33024 214.576743 \r\nL 363.363068 214.756364 \r\nL 363.363068 214.756364 \r\n\" style=\"fill:none;stroke:#0000ff;stroke-linecap:square;stroke-width:1.5;\"/>\r\n   </g>\r\n   <g id=\"patch_3\">\r\n    <path d=\"M 43.78125 224.64 \r\nL 43.78125 7.2 \r\n\" style=\"fill:none;stroke:#000000;stroke-linecap:square;stroke-linejoin:miter;stroke-width:0.8;\"/>\r\n   </g>\r\n   <g id=\"patch_4\">\r\n    <path d=\"M 378.58125 224.64 \r\nL 378.58125 7.2 \r\n\" style=\"fill:none;stroke:#000000;stroke-linecap:square;stroke-linejoin:miter;stroke-width:0.8;\"/>\r\n   </g>\r\n   <g id=\"patch_5\">\r\n    <path d=\"M 43.78125 224.64 \r\nL 378.58125 224.64 \r\n\" style=\"fill:none;stroke:#000000;stroke-linecap:square;stroke-linejoin:miter;stroke-width:0.8;\"/>\r\n   </g>\r\n   <g id=\"patch_6\">\r\n    <path d=\"M 43.78125 7.2 \r\nL 378.58125 7.2 \r\n\" style=\"fill:none;stroke:#000000;stroke-linecap:square;stroke-linejoin:miter;stroke-width:0.8;\"/>\r\n   </g>\r\n   <g id=\"legend_1\">\r\n    <g id=\"patch_7\">\r\n     <path d=\"M 294.571875 132.098125 \r\nL 371.58125 132.098125 \r\nQ 373.58125 132.098125 373.58125 130.098125 \r\nL 373.58125 101.741875 \r\nQ 373.58125 99.741875 371.58125 99.741875 \r\nL 294.571875 99.741875 \r\nQ 292.571875 99.741875 292.571875 101.741875 \r\nL 292.571875 130.098125 \r\nQ 292.571875 132.098125 294.571875 132.098125 \r\nz\r\n\" style=\"fill:#ffffff;opacity:0.8;stroke:#cccccc;stroke-linejoin:miter;\"/>\r\n    </g>\r\n    <g id=\"line2d_15\">\r\n     <path d=\"M 296.571875 107.840313 \r\nL 316.571875 107.840313 \r\n\" style=\"fill:none;stroke:#ff0000;stroke-dasharray:5.55,2.4;stroke-dashoffset:0;stroke-width:1.5;\"/>\r\n    </g>\r\n    <g id=\"line2d_16\"/>\r\n    <g id=\"text_15\">\r\n     <!-- Precision -->\r\n     <defs>\r\n      <path d=\"M 9.421875 54.6875 \r\nL 18.40625 54.6875 \r\nL 18.40625 0 \r\nL 9.421875 0 \r\nz\r\nM 9.421875 75.984375 \r\nL 18.40625 75.984375 \r\nL 18.40625 64.59375 \r\nL 9.421875 64.59375 \r\nz\r\n\" id=\"DejaVuSans-105\"/>\r\n     </defs>\r\n     <g transform=\"translate(324.571875 111.340313)scale(0.1 -0.1)\">\r\n      <use xlink:href=\"#DejaVuSans-80\"/>\r\n      <use x=\"60.287109\" xlink:href=\"#DejaVuSans-114\"/>\r\n      <use x=\"101.369141\" xlink:href=\"#DejaVuSans-101\"/>\r\n      <use x=\"162.892578\" xlink:href=\"#DejaVuSans-99\"/>\r\n      <use x=\"217.873047\" xlink:href=\"#DejaVuSans-105\"/>\r\n      <use x=\"245.65625\" xlink:href=\"#DejaVuSans-115\"/>\r\n      <use x=\"297.755859\" xlink:href=\"#DejaVuSans-105\"/>\r\n      <use x=\"325.539062\" xlink:href=\"#DejaVuSans-111\"/>\r\n      <use x=\"386.720703\" xlink:href=\"#DejaVuSans-110\"/>\r\n     </g>\r\n    </g>\r\n    <g id=\"line2d_17\">\r\n     <path d=\"M 296.571875 122.518438 \r\nL 316.571875 122.518438 \r\n\" style=\"fill:none;stroke:#0000ff;stroke-linecap:square;stroke-width:1.5;\"/>\r\n    </g>\r\n    <g id=\"line2d_18\"/>\r\n    <g id=\"text_16\">\r\n     <!-- Recall -->\r\n     <defs>\r\n      <path d=\"M 44.390625 34.1875 \r\nQ 47.5625 33.109375 50.5625 29.59375 \r\nQ 53.5625 26.078125 56.59375 19.921875 \r\nL 66.609375 0 \r\nL 56 0 \r\nL 46.6875 18.703125 \r\nQ 43.0625 26.03125 39.671875 28.421875 \r\nQ 36.28125 30.8125 30.421875 30.8125 \r\nL 19.671875 30.8125 \r\nL 19.671875 0 \r\nL 9.8125 0 \r\nL 9.8125 72.90625 \r\nL 32.078125 72.90625 \r\nQ 44.578125 72.90625 50.734375 67.671875 \r\nQ 56.890625 62.453125 56.890625 51.90625 \r\nQ 56.890625 45.015625 53.6875 40.46875 \r\nQ 50.484375 35.9375 44.390625 34.1875 \r\nz\r\nM 19.671875 64.796875 \r\nL 19.671875 38.921875 \r\nL 32.078125 38.921875 \r\nQ 39.203125 38.921875 42.84375 42.21875 \r\nQ 46.484375 45.515625 46.484375 51.90625 \r\nQ 46.484375 58.296875 42.84375 61.546875 \r\nQ 39.203125 64.796875 32.078125 64.796875 \r\nz\r\n\" id=\"DejaVuSans-82\"/>\r\n     </defs>\r\n     <g transform=\"translate(324.571875 126.018438)scale(0.1 -0.1)\">\r\n      <use xlink:href=\"#DejaVuSans-82\"/>\r\n      <use x=\"69.419922\" xlink:href=\"#DejaVuSans-101\"/>\r\n      <use x=\"130.943359\" xlink:href=\"#DejaVuSans-99\"/>\r\n      <use x=\"185.923828\" xlink:href=\"#DejaVuSans-97\"/>\r\n      <use x=\"247.203125\" xlink:href=\"#DejaVuSans-108\"/>\r\n      <use x=\"274.986328\" xlink:href=\"#DejaVuSans-108\"/>\r\n     </g>\r\n    </g>\r\n   </g>\r\n  </g>\r\n </g>\r\n <defs>\r\n  <clipPath id=\"p54705bbfe1\">\r\n   <rect height=\"217.44\" width=\"334.8\" x=\"43.78125\" y=\"7.2\"/>\r\n  </clipPath>\r\n </defs>\r\n</svg>\r\n",
      "image/png": "[encoded data removed]"
     },
     "metadata": {
      "needs_background": "light"
     }
    }
   ],
   "source": [
    "# Threshold-PR curve\n",
    "train_loss, y_true, y_prob = trainer.eval_step(dataloader=train_dataloader)\n",
    "precisions, recalls, thresholds = precision_recall_curve(y_true.ravel(), y_prob.ravel())\n",
    "plt.plot(thresholds, precisions[:-1], \"r--\", label=\"Precision\")\n",
    "plt.plot(thresholds, recalls[:-1], \"b-\", label=\"Recall\")\n",
    "plt.ylabel(\"Performance\")\n",
    "plt.xlabel(\"Threshold\")\n",
    "plt.legend(loc='best')"
   ]
  },
  {
   "cell_type": "code",
   "execution_count": 281,
   "metadata": {},
   "outputs": [
    {
     "output_type": "execute_result",
     "data": {
      "text/plain": [
       "0.21466048"
      ]
     },
     "metadata": {},
     "execution_count": 281
    }
   ],
   "source": [
    "# Best threshold for f1\n",
    "threshold = find_best_threshold(y_true.ravel(), y_prob.ravel())\n",
    "threshold"
   ]
  },
  {
   "cell_type": "code",
   "execution_count": 282,
   "metadata": {},
   "outputs": [],
   "source": [
    "# Determine predictions using threshold\n",
    "test_loss, y_true, y_prob = trainer.eval_step(dataloader=test_dataloader)\n",
    "y_pred = np.array([np.where(prob >= threshold, 1, 0) for prob in y_prob])"
   ]
  },
  {
   "cell_type": "code",
   "execution_count": 283,
   "metadata": {},
   "outputs": [
    {
     "output_type": "stream",
     "name": "stdout",
     "text": [
      "{\n  \"precision\": 0.34976369495166487,\n  \"recall\": 0.2389525693244905,\n  \"f1\": 0.25651611949847763,\n  \"num_samples\": 480.0\n}\n"
     ]
    }
   ],
   "source": [
    "# Evaluate\n",
    "performance = get_performance(\n",
    "    y_true=y_test, y_pred=y_pred, classes=label_encoder.classes)\n",
    "print (json.dumps(performance['overall'], indent=2))"
   ]
  },
  {
   "cell_type": "code",
   "execution_count": 284,
   "metadata": {},
   "outputs": [
    {
     "output_type": "display_data",
     "data": {
      "text/plain": "interactive(children=(Dropdown(description='tag', index=3, options=('interpretability', 'segmentation', 'produ…",
      "application/vnd.jupyter.widget-view+json": {
       "version_major": 2,
       "version_minor": 0,
       "model_id": "9e4451c84dc54f21b49ffebf05351435"
      }
     },
     "metadata": {}
    }
   ],
   "source": [
    "@widgets.interact(tag=list(sorted_tags_by_f1.keys()))\n",
    "def display_tag_analysis(tag='transformers'):\n",
    "    # Performance\n",
    "    print (json.dumps(performance[\"class\"][tag], indent=2))\n",
    "    \n",
    "    # TP, FP, FN samples\n",
    "    index = label_encoder.class_to_index[tag]\n",
    "    tp, fp, fn = [], [], []\n",
    "    for i in range(len(y_test)):\n",
    "        true = y_test[i][index]\n",
    "        pred = y_pred[i][index]\n",
    "        if true and pred:\n",
    "            tp.append(i)\n",
    "        elif not true and pred:\n",
    "            fp.append(i)\n",
    "        elif true and not pred:\n",
    "            fn.append(i)\n",
    "            \n",
    "    # Samples\n",
    "    num_samples = 3\n",
    "    if len(tp): \n",
    "        print (\"\\n=== True positives ===\")\n",
    "        for i in tp[:num_samples]:        \n",
    "            print (f\"  {X_test_raw[i]}\")\n",
    "            print (f\"    true: {label_encoder.decode([y_test[i]])[0]}\")\n",
    "            print (f\"    pred: {label_encoder.decode([y_pred[i]])[0]}\\n\")\n",
    "    if len(fp): \n",
    "        print (\"=== False positives === \")\n",
    "        for i in fp[:num_samples]:        \n",
    "            print (f\"  {X_test_raw[i]}\")\n",
    "            print (f\"    true: {label_encoder.decode([y_test[i]])[0]}\")\n",
    "            print (f\"    pred: {label_encoder.decode([y_pred[i]])[0]}\\n\")\n",
    "    if len(fn): \n",
    "        print (\"=== False negatives ===\")\n",
    "        for i in fn[:num_samples]:        \n",
    "            print (f\"  {X_test_raw[i]}\") \n",
    "            print (f\"    true: {label_encoder.decode([y_test[i]])[0]}\")\n",
    "            print (f\"    pred: {label_encoder.decode([y_pred[i]])[0]}\\n\")"
   ]
  },
  {
   "cell_type": "code",
   "execution_count": 285,
   "metadata": {},
   "outputs": [],
   "source": [
    "# Save artifacts\n",
    "dir = Path(\"rnn\")\n",
    "dir.mkdir(parents=True, exist_ok=True)\n",
    "tokenizer.save(fp=Path(dir, 'tokenzier.json'))\n",
    "label_encoder.save(fp=Path(dir, 'label_encoder.json'))\n",
    "torch.save(best_model.state_dict(), Path(dir, 'model.pt'))\n",
    "with open(Path(dir, 'performance.json'), \"w\") as fp:\n",
    "    json.dump(performance, indent=2, sort_keys=False, fp=fp)"
   ]
  },
  {
   "source": [
    "Inference"
   ],
   "cell_type": "markdown",
   "metadata": {}
  },
  {
   "cell_type": "code",
   "execution_count": 286,
   "metadata": {},
   "outputs": [
    {
     "output_type": "stream",
     "name": "stdout",
     "text": [
      "Model:\n<bound method Module.named_parameters of RNN(\n  (embeddings): Embedding(136, 128, padding_idx=0)\n  (rnn): GRU(128, 128, batch_first=True, bidirectional=True)\n  (dropout): Dropout(p=0.5, inplace=False)\n  (fc1): Linear(in_features=256, out_features=128, bias=True)\n  (fc2): Linear(in_features=128, out_features=35, bias=True)\n)>\n"
     ]
    }
   ],
   "source": [
    "# Initialize model\n",
    "model = RNN(\n",
    "    embedding_dim=embedding_dim, vocab_size=vocab_size,\n",
    "    rnn_hidden_dim=rnn_hidden_dim, hidden_dim=hidden_dim, \n",
    "    dropout_p=dropout_p, num_classes=num_classes)\n",
    "model = model.to(device)\n",
    "print (f\"Model:\\n{model.named_parameters}\")"
   ]
  },
  {
   "cell_type": "code",
   "execution_count": 287,
   "metadata": {},
   "outputs": [
    {
     "output_type": "execute_result",
     "data": {
      "text/plain": [
       "RNN(\n",
       "  (embeddings): Embedding(136, 128, padding_idx=0)\n",
       "  (rnn): GRU(128, 128, batch_first=True, bidirectional=True)\n",
       "  (dropout): Dropout(p=0.5, inplace=False)\n",
       "  (fc1): Linear(in_features=256, out_features=128, bias=True)\n",
       "  (fc2): Linear(in_features=128, out_features=35, bias=True)\n",
       ")"
      ]
     },
     "metadata": {},
     "execution_count": 287
    }
   ],
   "source": [
    "# Load artifacts\n",
    "device = torch.device(\"cpu\")\n",
    "tokenizer = Tokenizer.load(fp=Path(dir, 'tokenzier.json'))\n",
    "label_encoder = LabelEncoder.load(fp=Path(dir, 'label_encoder.json'))\n",
    "model = RNN(\n",
    "    embedding_dim=embedding_dim, vocab_size=vocab_size,\n",
    "    rnn_hidden_dim=rnn_hidden_dim, hidden_dim=hidden_dim, \n",
    "    dropout_p=dropout_p, num_classes=num_classes)\n",
    "model.load_state_dict(torch.load(Path(dir, 'model.pt'), map_location=device))\n",
    "model.to(device)"
   ]
  },
  {
   "cell_type": "code",
   "execution_count": 288,
   "metadata": {},
   "outputs": [],
   "source": [
    "# Initialize trainer\n",
    "trainer = Trainer(model=model, device=device)"
   ]
  },
  {
   "cell_type": "code",
   "execution_count": 289,
   "metadata": {},
   "outputs": [],
   "source": [
    "# Dataloader\n",
    "text = \"Transfer learning with BERT for self-supervised learning\"\n",
    "X = np.array(tokenizer.texts_to_sequences([preprocess(text)]))\n",
    "y_filler = label_encoder.encode([np.array([label_encoder.classes[0]]*len(X))])\n",
    "dataset = RNNTextDataset(X=X, y=y_filler)\n",
    "dataloader = dataset.create_dataloader(batch_size=batch_size)"
   ]
  },
  {
   "cell_type": "code",
   "execution_count": 290,
   "metadata": {},
   "outputs": [
    {
     "output_type": "execute_result",
     "data": {
      "text/plain": [
       "[[]]"
      ]
     },
     "metadata": {},
     "execution_count": 290
    }
   ],
   "source": [
    "# Inference\n",
    "y_prob = trainer.predict_step(dataloader)\n",
    "y_pred = np.array([np.where(prob >= threshold, 1, 0) for prob in y_prob])\n",
    "label_encoder.decode(y_pred)"
   ]
  },
  {
   "source": [
    "limitation: since we're using character embeddings our encoded sequences are quite long (>100), the RNNs may potentially be suffering from memory issues. We also can't process our tokens in parallel because we're restricted by sequential processin"
   ],
   "cell_type": "markdown",
   "metadata": {}
  },
  {
   "source": [
    "# Transformers w/ Contextual Embeddings"
   ],
   "cell_type": "markdown",
   "metadata": {}
  },
  {
   "cell_type": "code",
   "execution_count": null,
   "metadata": {},
   "outputs": [],
   "source": []
  }
 ]
}